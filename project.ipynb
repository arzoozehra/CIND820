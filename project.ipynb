{
  "nbformat": 4,
  "nbformat_minor": 0,
  "metadata": {
    "colab": {
      "provenance": [],
      "include_colab_link": true
    },
    "kernelspec": {
      "name": "python3",
      "display_name": "Python 3"
    },
    "language_info": {
      "name": "python"
    }
  },
  "cells": [
    {
      "cell_type": "markdown",
      "metadata": {
        "id": "view-in-github",
        "colab_type": "text"
      },
      "source": [
        "<a href=\"https://colab.research.google.com/github/arzoozehra/CIND820/blob/main/project.ipynb\" target=\"_parent\"><img src=\"https://colab.research.google.com/assets/colab-badge.svg\" alt=\"Open In Colab\"/></a>"
      ]
    },
    {
      "cell_type": "markdown",
      "source": [
        "**Import libraries**"
      ],
      "metadata": {
        "id": "-bkY_pYm8WwM"
      }
    },
    {
      "cell_type": "code",
      "execution_count": 52,
      "metadata": {
        "id": "Wr2dHIs7WLWJ",
        "outputId": "c68ba5a5-2088-4592-c89e-44e53bc5c26a",
        "colab": {
          "base_uri": "https://localhost:8080/"
        }
      },
      "outputs": [
        {
          "output_type": "stream",
          "name": "stderr",
          "text": [
            "[nltk_data] Downloading package stopwords to /root/nltk_data...\n",
            "[nltk_data]   Package stopwords is already up-to-date!\n",
            "[nltk_data] Downloading package wordnet to /root/nltk_data...\n",
            "[nltk_data]   Package wordnet is already up-to-date!\n",
            "[nltk_data] Downloading package omw-1.4 to /root/nltk_data...\n",
            "[nltk_data]   Package omw-1.4 is already up-to-date!\n"
          ]
        }
      ],
      "source": [
        "import pandas as pd\n",
        "import numpy as np\n",
        "import matplotlib.pyplot as plt\n",
        "import seaborn as sns\n",
        "import re\n",
        "#!pip install contractions\n",
        "import contractions\n",
        "import nltk\n",
        "nltk.download('stopwords')\n",
        "nltk.download('wordnet')\n",
        "nltk.download('omw-1.4')\n",
        "#!pip install pyspellchecker\n",
        "#from spellchecker import SpellChecker\n",
        "from nltk.corpus import stopwords\n",
        "from nltk.stem import PorterStemmer, WordNetLemmatizer\n",
        "from collections import Counter\n",
        "import plotly.express as px\n",
        "from wordcloud import WordCloud, STOPWORDS, ImageColorGenerator\n",
        "from sklearn.feature_extraction.text import TfidfVectorizer\n",
        "from sklearn.svm import SVC\n",
        "from sklearn.multiclass import OneVsRestClassifier, OneVsOneClassifier\n",
        "from sklearn.metrics import accuracy_score, classification_report, confusion_matrix\n",
        "import time"
      ]
    },
    {
      "cell_type": "markdown",
      "source": [
        "**Load data**"
      ],
      "metadata": {
        "id": "GfYAFFPs8gNl"
      }
    },
    {
      "cell_type": "code",
      "source": [
        "url = 'https://raw.githubusercontent.com/arzoozehra/CIND820/main/data/train.csv'\n",
        "train = pd.read_csv(url)\n",
        "test = pd.read_csv('https://raw.githubusercontent.com/arzoozehra/CIND820/main/data/test.csv')"
      ],
      "metadata": {
        "id": "WzPmmeuGrev1"
      },
      "execution_count": 53,
      "outputs": []
    },
    {
      "cell_type": "markdown",
      "source": [
        "**Explore data**"
      ],
      "metadata": {
        "id": "nVV3p4fZ8msc"
      }
    },
    {
      "cell_type": "code",
      "source": [
        "print(train.head())\n",
        "print(test.head())"
      ],
      "metadata": {
        "colab": {
          "base_uri": "https://localhost:8080/"
        },
        "id": "8n8Yjokdbn_g",
        "outputId": "d5a913c5-7e17-45be-8e6a-9228023254b5"
      },
      "execution_count": 54,
      "outputs": [
        {
          "output_type": "stream",
          "name": "stdout",
          "text": [
            "       textID                                               text  \\\n",
            "0  cb774db0d1                I`d have responded, if I were going   \n",
            "1  549e992a42      Sooo SAD I will miss you here in San Diego!!!   \n",
            "2  088c60f138                          my boss is bullying me...   \n",
            "3  9642c003ef                     what interview! leave me alone   \n",
            "4  358bd9e861   Sons of ****, why couldn`t they put them on t...   \n",
            "\n",
            "                         selected_text sentiment  \n",
            "0  I`d have responded, if I were going   neutral  \n",
            "1                             Sooo SAD  negative  \n",
            "2                          bullying me  negative  \n",
            "3                       leave me alone  negative  \n",
            "4                        Sons of ****,  negative  \n",
            "       textID                                               text sentiment\n",
            "0  f87dea47db  Last session of the day  http://twitpic.com/67ezh   neutral\n",
            "1  96d74cb729   Shanghai is also really exciting (precisely -...  positive\n",
            "2  eee518ae67  Recession hit Veronique Branquinho, she has to...  negative\n",
            "3  01082688c6                                        happy bday!  positive\n",
            "4  33987a8ee5             http://twitpic.com/4w75p - I like it!!  positive\n"
          ]
        }
      ]
    },
    {
      "cell_type": "code",
      "source": [
        "train.info()\n",
        "test.info()"
      ],
      "metadata": {
        "colab": {
          "base_uri": "https://localhost:8080/"
        },
        "id": "pQ8WJkjtt0L9",
        "outputId": "e1bd7b59-5d40-46cd-853b-f7f4826fbc90"
      },
      "execution_count": 55,
      "outputs": [
        {
          "output_type": "stream",
          "name": "stdout",
          "text": [
            "<class 'pandas.core.frame.DataFrame'>\n",
            "RangeIndex: 27481 entries, 0 to 27480\n",
            "Data columns (total 4 columns):\n",
            " #   Column         Non-Null Count  Dtype \n",
            "---  ------         --------------  ----- \n",
            " 0   textID         27481 non-null  object\n",
            " 1   text           27480 non-null  object\n",
            " 2   selected_text  27480 non-null  object\n",
            " 3   sentiment      27481 non-null  object\n",
            "dtypes: object(4)\n",
            "memory usage: 858.9+ KB\n",
            "<class 'pandas.core.frame.DataFrame'>\n",
            "RangeIndex: 3534 entries, 0 to 3533\n",
            "Data columns (total 3 columns):\n",
            " #   Column     Non-Null Count  Dtype \n",
            "---  ------     --------------  ----- \n",
            " 0   textID     3534 non-null   object\n",
            " 1   text       3534 non-null   object\n",
            " 2   sentiment  3534 non-null   object\n",
            "dtypes: object(3)\n",
            "memory usage: 83.0+ KB\n"
          ]
        }
      ]
    },
    {
      "cell_type": "code",
      "source": [
        "print('Training set contains {} rows and {} columns.'.format(train.shape[0],train.shape[1]))\n",
        "print('Test set contains {} rows and {} columns'.format(test.shape[0],test.shape[1]))\n",
        "print('\\nTraining set contains {} row(s) with missing values.'.format(train.isna().any(axis=1).sum()))\n",
        "print('Test set contains {} row(s) with missing values.'.format(test.isna().any(axis=1).sum()))"
      ],
      "metadata": {
        "colab": {
          "base_uri": "https://localhost:8080/"
        },
        "id": "AT7zoz42b1Fe",
        "outputId": "4b914da7-8782-4c05-e1f6-9f33836ad1b6"
      },
      "execution_count": 56,
      "outputs": [
        {
          "output_type": "stream",
          "name": "stdout",
          "text": [
            "Training set contains 27481 rows and 4 columns.\n",
            "Test set contains 3534 rows and 3 columns\n",
            "\n",
            "Training set contains 1 row(s) with missing values.\n",
            "Test set contains 0 row(s) with missing values.\n"
          ]
        }
      ]
    },
    {
      "cell_type": "code",
      "source": [
        "# Remove row with missing values\n",
        "train.dropna(inplace=True)"
      ],
      "metadata": {
        "id": "rWNi6b_FuON6"
      },
      "execution_count": 57,
      "outputs": []
    },
    {
      "cell_type": "code",
      "source": [
        "train.info()"
      ],
      "metadata": {
        "colab": {
          "base_uri": "https://localhost:8080/"
        },
        "id": "GHQUbYgjuTdw",
        "outputId": "2ac797af-c647-4b05-fe73-a17bfd023956"
      },
      "execution_count": 58,
      "outputs": [
        {
          "output_type": "stream",
          "name": "stdout",
          "text": [
            "<class 'pandas.core.frame.DataFrame'>\n",
            "Int64Index: 27480 entries, 0 to 27480\n",
            "Data columns (total 4 columns):\n",
            " #   Column         Non-Null Count  Dtype \n",
            "---  ------         --------------  ----- \n",
            " 0   textID         27480 non-null  object\n",
            " 1   text           27480 non-null  object\n",
            " 2   selected_text  27480 non-null  object\n",
            " 3   sentiment      27480 non-null  object\n",
            "dtypes: object(4)\n",
            "memory usage: 1.0+ MB\n"
          ]
        }
      ]
    },
    {
      "cell_type": "code",
      "source": [
        "train.describe()"
      ],
      "metadata": {
        "colab": {
          "base_uri": "https://localhost:8080/",
          "height": 175
        },
        "id": "bgZHNXc_usrw",
        "outputId": "d6d1c656-a170-4821-9762-4969d9b88a99"
      },
      "execution_count": 59,
      "outputs": [
        {
          "output_type": "execute_result",
          "data": {
            "text/plain": [
              "            textID                                  text selected_text  \\\n",
              "count        27480                                 27480         27480   \n",
              "unique       27480                                 27480         22463   \n",
              "top     cb774db0d1   I`d have responded, if I were going          good   \n",
              "freq             1                                     1           199   \n",
              "\n",
              "       sentiment  \n",
              "count      27480  \n",
              "unique         3  \n",
              "top      neutral  \n",
              "freq       11117  "
            ],
            "text/html": [
              "\n",
              "  <div id=\"df-19b1a2b9-aeb4-44e8-9fd4-74fad5732445\">\n",
              "    <div class=\"colab-df-container\">\n",
              "      <div>\n",
              "<style scoped>\n",
              "    .dataframe tbody tr th:only-of-type {\n",
              "        vertical-align: middle;\n",
              "    }\n",
              "\n",
              "    .dataframe tbody tr th {\n",
              "        vertical-align: top;\n",
              "    }\n",
              "\n",
              "    .dataframe thead th {\n",
              "        text-align: right;\n",
              "    }\n",
              "</style>\n",
              "<table border=\"1\" class=\"dataframe\">\n",
              "  <thead>\n",
              "    <tr style=\"text-align: right;\">\n",
              "      <th></th>\n",
              "      <th>textID</th>\n",
              "      <th>text</th>\n",
              "      <th>selected_text</th>\n",
              "      <th>sentiment</th>\n",
              "    </tr>\n",
              "  </thead>\n",
              "  <tbody>\n",
              "    <tr>\n",
              "      <th>count</th>\n",
              "      <td>27480</td>\n",
              "      <td>27480</td>\n",
              "      <td>27480</td>\n",
              "      <td>27480</td>\n",
              "    </tr>\n",
              "    <tr>\n",
              "      <th>unique</th>\n",
              "      <td>27480</td>\n",
              "      <td>27480</td>\n",
              "      <td>22463</td>\n",
              "      <td>3</td>\n",
              "    </tr>\n",
              "    <tr>\n",
              "      <th>top</th>\n",
              "      <td>cb774db0d1</td>\n",
              "      <td>I`d have responded, if I were going</td>\n",
              "      <td>good</td>\n",
              "      <td>neutral</td>\n",
              "    </tr>\n",
              "    <tr>\n",
              "      <th>freq</th>\n",
              "      <td>1</td>\n",
              "      <td>1</td>\n",
              "      <td>199</td>\n",
              "      <td>11117</td>\n",
              "    </tr>\n",
              "  </tbody>\n",
              "</table>\n",
              "</div>\n",
              "      <button class=\"colab-df-convert\" onclick=\"convertToInteractive('df-19b1a2b9-aeb4-44e8-9fd4-74fad5732445')\"\n",
              "              title=\"Convert this dataframe to an interactive table.\"\n",
              "              style=\"display:none;\">\n",
              "        \n",
              "  <svg xmlns=\"http://www.w3.org/2000/svg\" height=\"24px\"viewBox=\"0 0 24 24\"\n",
              "       width=\"24px\">\n",
              "    <path d=\"M0 0h24v24H0V0z\" fill=\"none\"/>\n",
              "    <path d=\"M18.56 5.44l.94 2.06.94-2.06 2.06-.94-2.06-.94-.94-2.06-.94 2.06-2.06.94zm-11 1L8.5 8.5l.94-2.06 2.06-.94-2.06-.94L8.5 2.5l-.94 2.06-2.06.94zm10 10l.94 2.06.94-2.06 2.06-.94-2.06-.94-.94-2.06-.94 2.06-2.06.94z\"/><path d=\"M17.41 7.96l-1.37-1.37c-.4-.4-.92-.59-1.43-.59-.52 0-1.04.2-1.43.59L10.3 9.45l-7.72 7.72c-.78.78-.78 2.05 0 2.83L4 21.41c.39.39.9.59 1.41.59.51 0 1.02-.2 1.41-.59l7.78-7.78 2.81-2.81c.8-.78.8-2.07 0-2.86zM5.41 20L4 18.59l7.72-7.72 1.47 1.35L5.41 20z\"/>\n",
              "  </svg>\n",
              "      </button>\n",
              "      \n",
              "  <style>\n",
              "    .colab-df-container {\n",
              "      display:flex;\n",
              "      flex-wrap:wrap;\n",
              "      gap: 12px;\n",
              "    }\n",
              "\n",
              "    .colab-df-convert {\n",
              "      background-color: #E8F0FE;\n",
              "      border: none;\n",
              "      border-radius: 50%;\n",
              "      cursor: pointer;\n",
              "      display: none;\n",
              "      fill: #1967D2;\n",
              "      height: 32px;\n",
              "      padding: 0 0 0 0;\n",
              "      width: 32px;\n",
              "    }\n",
              "\n",
              "    .colab-df-convert:hover {\n",
              "      background-color: #E2EBFA;\n",
              "      box-shadow: 0px 1px 2px rgba(60, 64, 67, 0.3), 0px 1px 3px 1px rgba(60, 64, 67, 0.15);\n",
              "      fill: #174EA6;\n",
              "    }\n",
              "\n",
              "    [theme=dark] .colab-df-convert {\n",
              "      background-color: #3B4455;\n",
              "      fill: #D2E3FC;\n",
              "    }\n",
              "\n",
              "    [theme=dark] .colab-df-convert:hover {\n",
              "      background-color: #434B5C;\n",
              "      box-shadow: 0px 1px 3px 1px rgba(0, 0, 0, 0.15);\n",
              "      filter: drop-shadow(0px 1px 2px rgba(0, 0, 0, 0.3));\n",
              "      fill: #FFFFFF;\n",
              "    }\n",
              "  </style>\n",
              "\n",
              "      <script>\n",
              "        const buttonEl =\n",
              "          document.querySelector('#df-19b1a2b9-aeb4-44e8-9fd4-74fad5732445 button.colab-df-convert');\n",
              "        buttonEl.style.display =\n",
              "          google.colab.kernel.accessAllowed ? 'block' : 'none';\n",
              "\n",
              "        async function convertToInteractive(key) {\n",
              "          const element = document.querySelector('#df-19b1a2b9-aeb4-44e8-9fd4-74fad5732445');\n",
              "          const dataTable =\n",
              "            await google.colab.kernel.invokeFunction('convertToInteractive',\n",
              "                                                     [key], {});\n",
              "          if (!dataTable) return;\n",
              "\n",
              "          const docLinkHtml = 'Like what you see? Visit the ' +\n",
              "            '<a target=\"_blank\" href=https://colab.research.google.com/notebooks/data_table.ipynb>data table notebook</a>'\n",
              "            + ' to learn more about interactive tables.';\n",
              "          element.innerHTML = '';\n",
              "          dataTable['output_type'] = 'display_data';\n",
              "          await google.colab.output.renderOutput(dataTable, element);\n",
              "          const docLink = document.createElement('div');\n",
              "          docLink.innerHTML = docLinkHtml;\n",
              "          element.appendChild(docLink);\n",
              "        }\n",
              "      </script>\n",
              "    </div>\n",
              "  </div>\n",
              "  "
            ]
          },
          "metadata": {},
          "execution_count": 59
        }
      ]
    },
    {
      "cell_type": "code",
      "source": [
        "#! pip install https://github.com/pandas-profiling/pandas-profiling/archive/master.zip "
      ],
      "metadata": {
        "id": "UmTiIIc2vnoQ"
      },
      "execution_count": 60,
      "outputs": []
    },
    {
      "cell_type": "code",
      "source": [
        "#from pandas_profiling import ProfileReport\n",
        "\n",
        "#profile = ProfileReport(train)\n",
        "#profile.to_notebook_iframe()"
      ],
      "metadata": {
        "id": "BlNNY_PzvS5_"
      },
      "execution_count": 61,
      "outputs": []
    },
    {
      "cell_type": "code",
      "source": [
        "#neutral_text\n",
        "print(\"Neutral tweet example  :\",train[train['sentiment']=='neutral']['text'].values[0])\n",
        "# Positive tweet\n",
        "print(\"Positive tweet example :\",train[train['sentiment']=='positive']['text'].values[0])\n",
        "#negative_text\n",
        "print(\"Negative tweet example :\",train[train['sentiment']=='negative']['text'].values[0])"
      ],
      "metadata": {
        "colab": {
          "base_uri": "https://localhost:8080/"
        },
        "id": "TfmSyR0Ix6m8",
        "outputId": "ca25cd1f-fb2e-4371-a5cc-35cefababc2b"
      },
      "execution_count": 62,
      "outputs": [
        {
          "output_type": "stream",
          "name": "stdout",
          "text": [
            "Neutral tweet example  :  I`d have responded, if I were going\n",
            "Positive tweet example : 2am feedings for the baby are fun when he is all smiles and coos\n",
            "Negative tweet example :  Sooo SAD I will miss you here in San Diego!!!\n"
          ]
        }
      ]
    },
    {
      "cell_type": "code",
      "source": [
        "print(train['sentiment'].value_counts())\n",
        "print(train['sentiment'].value_counts(normalize=True))"
      ],
      "metadata": {
        "colab": {
          "base_uri": "https://localhost:8080/"
        },
        "id": "AG_0q7n_yQvr",
        "outputId": "1a0cf4bd-8e39-4ac2-9f43-07a715b03179"
      },
      "execution_count": 63,
      "outputs": [
        {
          "output_type": "stream",
          "name": "stdout",
          "text": [
            "neutral     11117\n",
            "positive     8582\n",
            "negative     7781\n",
            "Name: sentiment, dtype: int64\n",
            "neutral     0.404549\n",
            "positive    0.312300\n",
            "negative    0.283151\n",
            "Name: sentiment, dtype: float64\n"
          ]
        }
      ]
    },
    {
      "cell_type": "code",
      "source": [
        "test['sentiment'].value_counts(normalize=True)"
      ],
      "metadata": {
        "colab": {
          "base_uri": "https://localhost:8080/"
        },
        "id": "By9YYw5SyfEC",
        "outputId": "f30b3ddc-9c9d-4c42-b80b-28d2b7936340"
      },
      "execution_count": 64,
      "outputs": [
        {
          "output_type": "execute_result",
          "data": {
            "text/plain": [
              "neutral     0.404641\n",
              "positive    0.312111\n",
              "negative    0.283248\n",
              "Name: sentiment, dtype: float64"
            ]
          },
          "metadata": {},
          "execution_count": 64
        }
      ]
    },
    {
      "cell_type": "code",
      "source": [
        "x = train.sentiment.value_counts()\n",
        "sns.barplot(x.index, x, palette=['blue', 'green', 'orange'])\n",
        "plt.gca().set_ylabel('tweets')"
      ],
      "metadata": {
        "colab": {
          "base_uri": "https://localhost:8080/",
          "height": 374
        },
        "id": "0aPz8TBkstGT",
        "outputId": "fdf29af5-3f5f-4ebb-fa1d-47cb53bf090a"
      },
      "execution_count": 65,
      "outputs": [
        {
          "output_type": "stream",
          "name": "stderr",
          "text": [
            "/usr/local/lib/python3.7/dist-packages/seaborn/_decorators.py:43: FutureWarning:\n",
            "\n",
            "Pass the following variables as keyword args: x, y. From version 0.12, the only valid positional argument will be `data`, and passing other arguments without an explicit keyword will result in an error or misinterpretation.\n",
            "\n"
          ]
        },
        {
          "output_type": "execute_result",
          "data": {
            "text/plain": [
              "Text(0, 0.5, 'tweets')"
            ]
          },
          "metadata": {},
          "execution_count": 65
        },
        {
          "output_type": "display_data",
          "data": {
            "text/plain": [
              "<Figure size 432x288 with 1 Axes>"
            ],
            "image/png": "[encoded data removed]"
          },
          "metadata": {
            "needs_background": "light"
          }
        }
      ]
    },
    {
      "cell_type": "code",
      "source": [
        "neutral = train[train['sentiment']=='neutral']\n",
        "pos = train[train['sentiment']=='positive']\n",
        "neg = train[train['sentiment']=='negative']"
      ],
      "metadata": {
        "id": "StLPD9Fd2UOg"
      },
      "execution_count": 66,
      "outputs": []
    },
    {
      "cell_type": "code",
      "source": [
        "# number of characters, i.e. tweet length\n",
        "\n",
        "fig, (ax1, ax2, ax3) = plt.subplots(1, 3, figsize=(15,5))\n",
        "\n",
        "tweet_len = neutral['text'].str.len()\n",
        "ax1.hist(tweet_len, color='blue')\n",
        "ax1.set_title('Neutral tweets')\n",
        "ax1.set_ylim([0, 1800])\n",
        "\n",
        "tweet_len = pos['text'].str.len()\n",
        "ax2.hist(tweet_len, color='green')\n",
        "ax2.set_title('Positive tweets')\n",
        "ax2.set_ylim([0, 1800])\n",
        "\n",
        "tweet_len = neg['text'].str.len()\n",
        "ax3.hist(tweet_len, color='orange')\n",
        "ax3.set_title('Negative tweets')\n",
        "ax3.set_ylim([0, 1800])\n",
        "\n",
        "\n",
        "fig.suptitle('# of characters in a tweet')\n",
        "plt.show()\n"
      ],
      "metadata": {
        "colab": {
          "base_uri": "https://localhost:8080/",
          "height": 356
        },
        "id": "cSMMfkSj6ZCU",
        "outputId": "3248c3ee-858b-4113-d881-005478cf2dd3"
      },
      "execution_count": 67,
      "outputs": [
        {
          "output_type": "display_data",
          "data": {
            "text/plain": [
              "<Figure size 1080x360 with 3 Axes>"
            ],
            "image/png": "[encoded data removed]"
          },
          "metadata": {
            "needs_background": "light"
          }
        }
      ]
    },
    {
      "cell_type": "code",
      "source": [
        "#fig, ax = plt.subplots()\n",
        "\n",
        "#tweet_len = pos['text'].str.len()\n",
        "#sns.distplot(tweet_len, color='red', ax = ax, hist = False)\n",
        "\n",
        "#tweet_len = neutral['text'].str.len()\n",
        "#sns.distplot(tweet_len, color='blue', ax = ax, hist = False)\n",
        "\n",
        "\n",
        "#tweet_len = neg['text'].str.len()\n",
        "#sns.distplot(tweet_len, color='green', ax = ax, hist = False)\n",
        "\n",
        "#plt.show()"
      ],
      "metadata": {
        "id": "h6NDb_4L7NeQ"
      },
      "execution_count": 68,
      "outputs": []
    },
    {
      "cell_type": "code",
      "source": [
        " # initialize data of lists.\n",
        "data = {'sentiment': train['sentiment'],\n",
        "        'text_length': train['text'].str.len()}\n",
        "  \n",
        "# Create DataFrame\n",
        "data = pd.DataFrame(data)\n",
        "\n",
        "sns.displot(data=data, x='text_length', hue = 'sentiment', kind = 'kde')"
      ],
      "metadata": {
        "colab": {
          "base_uri": "https://localhost:8080/",
          "height": 387
        },
        "id": "X3879nP230ul",
        "outputId": "37dab60c-be3e-4e78-ecad-89f897954ac9"
      },
      "execution_count": 69,
      "outputs": [
        {
          "output_type": "execute_result",
          "data": {
            "text/plain": [
              "<seaborn.axisgrid.FacetGrid at 0x7f101c80d110>"
            ]
          },
          "metadata": {},
          "execution_count": 69
        },
        {
          "output_type": "display_data",
          "data": {
            "text/plain": [
              "<Figure size 439.75x360 with 1 Axes>"
            ],
            "image/png": "[encoded data removed]"
          },
          "metadata": {
            "needs_background": "light"
          }
        }
      ]
    },
    {
      "cell_type": "code",
      "source": [
        "# number of words in a tweet\n",
        "\n",
        "fig, (ax1, ax2, ax3) = plt.subplots(1, 3, figsize=(15,5))\n",
        "\n",
        "tweet_words = neutral['text'].str.split().map(lambda x: len(x))\n",
        "ax1.hist(tweet_words, color = 'blue')\n",
        "ax1.set_title('Neutral tweets')\n",
        "ax1.set_ylim([0,2000])\n",
        "\n",
        "tweet_words = pos['text'].str.split().map(lambda x: len(x))\n",
        "ax2.hist(tweet_words, color = 'green')\n",
        "ax2.set_title('Positive tweets')\n",
        "ax2.set_ylim([0,2000])\n",
        "\n",
        "tweet_words = neg['text'].str.split().map(lambda x: len(x))\n",
        "ax3.hist(tweet_words, color = 'orange')\n",
        "ax3.set_title('Negative tweets')\n",
        "ax3.set_ylim([0,2000])\n",
        "\n",
        "fig.suptitle('# of words in a tweet')\n",
        "plt.show()"
      ],
      "metadata": {
        "colab": {
          "base_uri": "https://localhost:8080/",
          "height": 356
        },
        "id": "MlDC3UZlyxuj",
        "outputId": "64caf40d-bb50-40c6-d0e5-b21bd81df0f0"
      },
      "execution_count": 70,
      "outputs": [
        {
          "output_type": "display_data",
          "data": {
            "text/plain": [
              "<Figure size 1080x360 with 3 Axes>"
            ],
            "image/png": "[encoded data removed]"
          },
          "metadata": {
            "needs_background": "light"
          }
        }
      ]
    },
    {
      "cell_type": "code",
      "source": [
        "# fig,(ax1,ax2,ax3)=plt.subplots(1,3,figsize=(20,5))\n",
        "\n",
        "# word = neutral['text'].str.split().apply(lambda x : [len(i) for i in x])\n",
        "# sns.distplot(word.map(lambda x: np.mean(x)), ax = ax1, color='blue')\n",
        "# ax1.set_title('Neutral')\n",
        "# ax1.set_xlim([0,70])\n",
        "# ax1.set_ylim([0,0.6])\n",
        "\n",
        "# word = pos['text'].str.split().apply(lambda x : [len(i) for i in x])\n",
        "# sns.distplot(word.map(lambda x: np.mean(x)), ax = ax2, color = 'green')\n",
        "# ax2.set_title('Positive')\n",
        "# ax2.set_xlim([0,70])\n",
        "# ax2.set_ylim([0,0.6])\n",
        "\n",
        "# word = neg['text'].str.split().apply(lambda x : [len(i) for i in x])\n",
        "# sns.distplot(word.map(lambda x: np.mean(x)), ax = ax3, color = 'orange')\n",
        "# ax3.set_title('Negative')\n",
        "# ax3.set_xlim([0,70])\n",
        "# ax3.set_ylim([0,0.6])\n",
        "\n",
        "\n",
        "# fig.suptitle('Average word length in each tweet')"
      ],
      "metadata": {
        "id": "97vbYEHv4qRI"
      },
      "execution_count": 71,
      "outputs": []
    },
    {
      "cell_type": "markdown",
      "source": [
        "**Clean text**"
      ],
      "metadata": {
        "id": "QbW4UiEpq9kA"
      }
    },
    {
      "cell_type": "code",
      "source": [
        "# Convert text to lowercase\n",
        "train['text'] = train['text'].str.lower()\n",
        "\n",
        "# Expand contractions e.g \"gonna\" to \"going to\" and \"i've\" to \"i have\"\n",
        "train['text'].replace( {r\"`\": \"'\"}, inplace= True, regex = True)\n",
        "train['text'] = train['text'].apply(contractions.fix)\n",
        "\n",
        "# Remove @, Unicode characters, punctuation, emojis, URLs, retweets, words with digits, and 1 or 2 letter words\n",
        "train['text'].replace( {r\"(@\\[A-Za-z0-9]+)|([^0-9A-Za-z \\t])|(\\w+:\\/\\/\\S+)|^rt|http.+?|\\w*\\d\\w*|\\b\\w{1,2}\\b\": \" \"}, inplace= True, regex = True)\n",
        "\n",
        "# Remove extra whitespaces\n",
        "train['text'].replace( {r\" +\": \" \"}, inplace= True, regex = True)\n",
        "train['text'] = train['text'].str.strip()\n",
        "\n",
        "# Correct spellings\n",
        "#spell = SpellChecker()\n",
        "\n",
        "#def correct_spellings(text):\n",
        "#    corrected_text = []\n",
        "#    misspelled_words = {}\n",
        "#    words = text.split()\n",
        "#    for w in spell.unknown(words):\n",
        "#        corr = spell.correction(w)\n",
        "#        if corr:\n",
        "#            misspelled_words[w] = spell.correction(w) or w\n",
        "#    corrected_text = [misspelled_words.get(w, w) for w in words]\n",
        "#    return \" \".join(corrected_text)\n",
        "\n",
        "#train['text'] = train['text'].apply(lambda x : correct_spellings(x))\n",
        "\n",
        "# Remove stopwords\n",
        "stop = stopwords.words('english')\n",
        "train['text'] = train['text'].apply(lambda text: \" \".join([word for word in text.split() if word not in (stop)]))\n",
        "\n",
        "# Stemming\n",
        "stemmer = PorterStemmer()\n",
        "train['text'] = train['text'].apply(lambda text: \" \".join([stemmer.stem(word) for word in text.split()]))\n",
        "\n",
        "# Lemmatizing\n",
        "lemmatizer = WordNetLemmatizer()\n",
        "train['text'] = train['text'].apply(lambda text: \" \".join([lemmatizer.lemmatize(word) for word in text.split()]))\n"
      ],
      "metadata": {
        "id": "5tDnIMd-q89D"
      },
      "execution_count": 72,
      "outputs": []
    },
    {
      "cell_type": "code",
      "source": [
        "print(train.head(20))\n",
        "print(train['text'].tail(20))"
      ],
      "metadata": {
        "id": "tT-89PPBe703",
        "outputId": "7af6eb9a-68e7-49de-9659-03dba9a9a2a1",
        "colab": {
          "base_uri": "https://localhost:8080/"
        }
      },
      "execution_count": 73,
      "outputs": [
        {
          "output_type": "stream",
          "name": "stdout",
          "text": [
            "        textID                                               text  \\\n",
            "0   cb774db0d1                                   would respond go   \n",
            "1   549e992a42                            sooo sad miss san diego   \n",
            "2   088c60f138                                          bos bulli   \n",
            "3   9642c003ef                                interview leav alon   \n",
            "4   358bd9e861                son could put releas alreadi bought   \n",
            "5   28b57f3990             shameless plug best ranger forum earth   \n",
            "6   6e0c6d75b1                            feed babi fun smile coo   \n",
            "7   50e14c0bb8                                         soooo high   \n",
            "8   e050245fbd                                                      \n",
            "9   fc2cbefa9d              journey wow becam cooler hehe possibl   \n",
            "10  2339a9b08b  much love hope reckon chanc minim never go get...   \n",
            "11  16fab9f95b    realli realli like song love stori taylor swift   \n",
            "12  74a76f6e0a                          sharpi run danger low ink   \n",
            "13  04dd1d2e34                       want music tonight lost voic   \n",
            "14  bbe3cbf620                                          test test   \n",
            "15  8a939bfb59                                            sunburn   \n",
            "16  3440297f8b                         tri plot altern speak sigh   \n",
            "17  919fa93391   sick past day thu hair look wierd hat would look   \n",
            "18  af3fed7fc3                        back home go miss everi one   \n",
            "19  40e7becabf                                                 he   \n",
            "\n",
            "                                        selected_text sentiment  \n",
            "0                 I`d have responded, if I were going   neutral  \n",
            "1                                            Sooo SAD  negative  \n",
            "2                                         bullying me  negative  \n",
            "3                                      leave me alone  negative  \n",
            "4                                       Sons of ****,  negative  \n",
            "5   http://www.dothebouncy.com/smf - some shameles...   neutral  \n",
            "6                                                 fun  positive  \n",
            "7                                          Soooo high   neutral  \n",
            "8                                         Both of you   neutral  \n",
            "9                        Wow... u just became cooler.  positive  \n",
            "10  as much as i love to be hopeful, i reckon the ...   neutral  \n",
            "11                                               like  positive  \n",
            "12                                        DANGERously  negative  \n",
            "13                                               lost  negative  \n",
            "14                         test test from the LG enV2   neutral  \n",
            "15                              Uh oh, I am sunburned  negative  \n",
            "16                                             *sigh*  negative  \n",
            "17                                               sick  negative  \n",
            "18                                               onna  negative  \n",
            "19                         Hes just not that into you   neutral  \n",
            "27461       thank dear neighboor also gave coffe need best\n",
            "27462                          back bingo famili fun night\n",
            "27463      like drew said give chanc miss thoma move watch\n",
            "27464    rec game tri cri pain much need cannot lose he...\n",
            "27465                        sure tri keep enjoy studi see\n",
            "27466    naw pretti tame guy costum voyag style medic u...\n",
            "27467                   morn twit friend welcom new follow\n",
            "27468    grill mushroom oliv feta chees coffe breakfast...\n",
            "27469                                   day till come back\n",
            "27470        lol know haha fall asleep get bore shaun joke\n",
            "27471        defi graviti nobodi alll wizard ever go bring\n",
            "27472                                 want visit anim late\n",
            "27473           spoke yesterday respond girl wassup though\n",
            "27474    get earli feel good day walk work feel alright...\n",
            "27475                                          enjoy night\n",
            "27476    wish could come see denver husband lost job ca...\n",
            "27477    wonder rake client made clear net forc dev lea...\n",
            "27478    yay good enjoy break probabl need hectic weeke...\n",
            "27479                                                worth\n",
            "27480                           flirt go atg smile yay hug\n",
            "Name: text, dtype: object\n"
          ]
        }
      ]
    },
    {
      "cell_type": "code",
      "source": [
        "#spell = SpellChecker()\n",
        "#lst = [[\"helloooo frend\", 1],[\"world toor\", 0]]\n",
        "#x = pd.DataFrame(lst, columns =['text', 'sent'])\n",
        "#print(x)\n",
        "\n",
        "#def correct_spellings(text):\n",
        "#    corrected_text = []\n",
        "#    misspelled_words = {}\n",
        "#    words = text.split()\n",
        "#    for w in spell.unknown(words):\n",
        "#        corr = spell.correction(w)\n",
        "#        if corr:\n",
        "#            misspelled_words[w] = corr\n",
        "#    corrected_text = [misspelled_words.get(w, w) for w in words]\n",
        "#    return \" \".join(corrected_text)\n",
        "\n",
        "#x['text'] = x['text'].apply(lambda t : correct_spellings(t))\n",
        "#print(x)"
      ],
      "metadata": {
        "id": "nTyqu536lUdv"
      },
      "execution_count": 74,
      "outputs": []
    },
    {
      "cell_type": "code",
      "source": [
        "tempList = train['text'].apply(lambda x:str(x).split())\n",
        "\n",
        "top = Counter([item for sublist in tempList for item in sublist])\n",
        "temp = pd.DataFrame(top.most_common(25))\n",
        "temp = temp.iloc[1:,:]\n",
        "temp.columns = ['Common words','Count']\n",
        "temp.style.background_gradient(cmap='Blues')"
      ],
      "metadata": {
        "id": "dwQp1No5IzKw",
        "outputId": "8b99c231-fb6e-42da-bd89-679af643209c",
        "colab": {
          "base_uri": "https://localhost:8080/",
          "height": 802
        }
      },
      "execution_count": 75,
      "outputs": [
        {
          "output_type": "execute_result",
          "data": {
            "text/plain": [
              "<pandas.io.formats.style.Styler at 0x7f101cd29f10>"
            ],
            "text/html": [
              "<style type=\"text/css\">\n",
              "#T_6edf8_row0_col1 {\n",
              "  background-color: #08306b;\n",
              "  color: #f1f1f1;\n",
              "}\n",
              "#T_6edf8_row1_col1 {\n",
              "  background-color: #2a7ab9;\n",
              "  color: #f1f1f1;\n",
              "}\n",
              "#T_6edf8_row2_col1 {\n",
              "  background-color: #3181bd;\n",
              "  color: #f1f1f1;\n",
              "}\n",
              "#T_6edf8_row3_col1, #T_6edf8_row4_col1 {\n",
              "  background-color: #3a8ac2;\n",
              "  color: #f1f1f1;\n",
              "}\n",
              "#T_6edf8_row5_col1 {\n",
              "  background-color: #4d99ca;\n",
              "  color: #f1f1f1;\n",
              "}\n",
              "#T_6edf8_row6_col1 {\n",
              "  background-color: #91c3de;\n",
              "  color: #000000;\n",
              "}\n",
              "#T_6edf8_row7_col1 {\n",
              "  background-color: #97c6df;\n",
              "  color: #000000;\n",
              "}\n",
              "#T_6edf8_row8_col1 {\n",
              "  background-color: #b2d2e8;\n",
              "  color: #000000;\n",
              "}\n",
              "#T_6edf8_row9_col1 {\n",
              "  background-color: #c1d9ed;\n",
              "  color: #000000;\n",
              "}\n",
              "#T_6edf8_row10_col1 {\n",
              "  background-color: #c7dcef;\n",
              "  color: #000000;\n",
              "}\n",
              "#T_6edf8_row11_col1 {\n",
              "  background-color: #c8dcf0;\n",
              "  color: #000000;\n",
              "}\n",
              "#T_6edf8_row12_col1 {\n",
              "  background-color: #ccdff1;\n",
              "  color: #000000;\n",
              "}\n",
              "#T_6edf8_row13_col1 {\n",
              "  background-color: #cfe1f2;\n",
              "  color: #000000;\n",
              "}\n",
              "#T_6edf8_row14_col1 {\n",
              "  background-color: #d0e1f2;\n",
              "  color: #000000;\n",
              "}\n",
              "#T_6edf8_row15_col1 {\n",
              "  background-color: #d3e3f3;\n",
              "  color: #000000;\n",
              "}\n",
              "#T_6edf8_row16_col1 {\n",
              "  background-color: #dae8f6;\n",
              "  color: #000000;\n",
              "}\n",
              "#T_6edf8_row17_col1 {\n",
              "  background-color: #e2edf8;\n",
              "  color: #000000;\n",
              "}\n",
              "#T_6edf8_row18_col1 {\n",
              "  background-color: #e3eef8;\n",
              "  color: #000000;\n",
              "}\n",
              "#T_6edf8_row19_col1 {\n",
              "  background-color: #e5eff9;\n",
              "  color: #000000;\n",
              "}\n",
              "#T_6edf8_row20_col1 {\n",
              "  background-color: #eaf2fb;\n",
              "  color: #000000;\n",
              "}\n",
              "#T_6edf8_row21_col1 {\n",
              "  background-color: #ebf3fb;\n",
              "  color: #000000;\n",
              "}\n",
              "#T_6edf8_row22_col1, #T_6edf8_row23_col1 {\n",
              "  background-color: #f7fbff;\n",
              "  color: #000000;\n",
              "}\n",
              "</style>\n",
              "<table id=\"T_6edf8_\" class=\"dataframe\">\n",
              "  <thead>\n",
              "    <tr>\n",
              "      <th class=\"blank level0\" >&nbsp;</th>\n",
              "      <th class=\"col_heading level0 col0\" >Common words</th>\n",
              "      <th class=\"col_heading level0 col1\" >Count</th>\n",
              "    </tr>\n",
              "  </thead>\n",
              "  <tbody>\n",
              "    <tr>\n",
              "      <th id=\"T_6edf8_level0_row0\" class=\"row_heading level0 row0\" >1</th>\n",
              "      <td id=\"T_6edf8_row0_col0\" class=\"data row0 col0\" >get</td>\n",
              "      <td id=\"T_6edf8_row0_col1\" class=\"data row0 col1\" >1915</td>\n",
              "    </tr>\n",
              "    <tr>\n",
              "      <th id=\"T_6edf8_level0_row1\" class=\"row_heading level0 row1\" >2</th>\n",
              "      <td id=\"T_6edf8_row1_col0\" class=\"data row1 col0\" >good</td>\n",
              "      <td id=\"T_6edf8_row1_col1\" class=\"data row1 col1\" >1601</td>\n",
              "    </tr>\n",
              "    <tr>\n",
              "      <th id=\"T_6edf8_level0_row2\" class=\"row_heading level0 row2\" >3</th>\n",
              "      <td id=\"T_6edf8_row2_col0\" class=\"data row2 col0\" >go</td>\n",
              "      <td id=\"T_6edf8_row2_col1\" class=\"data row2 col1\" >1572</td>\n",
              "    </tr>\n",
              "    <tr>\n",
              "      <th id=\"T_6edf8_level0_row3\" class=\"row_heading level0 row3\" >4</th>\n",
              "      <td id=\"T_6edf8_row3_col0\" class=\"data row3 col0\" >love</td>\n",
              "      <td id=\"T_6edf8_row3_col1\" class=\"data row3 col1\" >1530</td>\n",
              "    </tr>\n",
              "    <tr>\n",
              "      <th id=\"T_6edf8_level0_row4\" class=\"row_heading level0 row4\" >5</th>\n",
              "      <td id=\"T_6edf8_row4_col0\" class=\"data row4 col0\" >work</td>\n",
              "      <td id=\"T_6edf8_row4_col1\" class=\"data row4 col1\" >1530</td>\n",
              "    </tr>\n",
              "    <tr>\n",
              "      <th id=\"T_6edf8_level0_row5\" class=\"row_heading level0 row5\" >6</th>\n",
              "      <td id=\"T_6edf8_row5_col0\" class=\"data row5 col0\" >like</td>\n",
              "      <td id=\"T_6edf8_row5_col1\" class=\"data row5 col1\" >1462</td>\n",
              "    </tr>\n",
              "    <tr>\n",
              "      <th id=\"T_6edf8_level0_row6\" class=\"row_heading level0 row6\" >7</th>\n",
              "      <td id=\"T_6edf8_row6_col0\" class=\"data row6 col0\" >got</td>\n",
              "      <td id=\"T_6edf8_row6_col1\" class=\"data row6 col1\" >1260</td>\n",
              "    </tr>\n",
              "    <tr>\n",
              "      <th id=\"T_6edf8_level0_row7\" class=\"row_heading level0 row7\" >8</th>\n",
              "      <td id=\"T_6edf8_row7_col0\" class=\"data row7 col0\" >want</td>\n",
              "      <td id=\"T_6edf8_row7_col1\" class=\"data row7 col1\" >1241</td>\n",
              "    </tr>\n",
              "    <tr>\n",
              "      <th id=\"T_6edf8_level0_row8\" class=\"row_heading level0 row8\" >9</th>\n",
              "      <td id=\"T_6edf8_row8_col0\" class=\"data row8 col0\" >today</td>\n",
              "      <td id=\"T_6edf8_row8_col1\" class=\"data row8 col1\" >1155</td>\n",
              "    </tr>\n",
              "    <tr>\n",
              "      <th id=\"T_6edf8_level0_row9\" class=\"row_heading level0 row9\" >10</th>\n",
              "      <td id=\"T_6edf8_row9_col0\" class=\"data row9 col0\" >time</td>\n",
              "      <td id=\"T_6edf8_row9_col1\" class=\"data row9 col1\" >1104</td>\n",
              "    </tr>\n",
              "    <tr>\n",
              "      <th id=\"T_6edf8_level0_row10\" class=\"row_heading level0 row10\" >11</th>\n",
              "      <td id=\"T_6edf8_row10_col0\" class=\"data row10 col0\" >one</td>\n",
              "      <td id=\"T_6edf8_row10_col1\" class=\"data row10 col1\" >1076</td>\n",
              "    </tr>\n",
              "    <tr>\n",
              "      <th id=\"T_6edf8_level0_row11\" class=\"row_heading level0 row11\" >12</th>\n",
              "      <td id=\"T_6edf8_row11_col0\" class=\"data row11 col0\" >cannot</td>\n",
              "      <td id=\"T_6edf8_row11_col1\" class=\"data row11 col1\" >1075</td>\n",
              "    </tr>\n",
              "    <tr>\n",
              "      <th id=\"T_6edf8_level0_row12\" class=\"row_heading level0 row12\" >13</th>\n",
              "      <td id=\"T_6edf8_row12_col0\" class=\"data row12 col0\" >know</td>\n",
              "      <td id=\"T_6edf8_row12_col1\" class=\"data row12 col1\" >1051</td>\n",
              "    </tr>\n",
              "    <tr>\n",
              "      <th id=\"T_6edf8_level0_row13\" class=\"row_heading level0 row13\" >14</th>\n",
              "      <td id=\"T_6edf8_row13_col0\" class=\"data row13 col0\" >thank</td>\n",
              "      <td id=\"T_6edf8_row13_col1\" class=\"data row13 col1\" >1034</td>\n",
              "    </tr>\n",
              "    <tr>\n",
              "      <th id=\"T_6edf8_level0_row14\" class=\"row_heading level0 row14\" >15</th>\n",
              "      <td id=\"T_6edf8_row14_col0\" class=\"data row14 col0\" >lol</td>\n",
              "      <td id=\"T_6edf8_row14_col1\" class=\"data row14 col1\" >1029</td>\n",
              "    </tr>\n",
              "    <tr>\n",
              "      <th id=\"T_6edf8_level0_row15\" class=\"row_heading level0 row15\" >16</th>\n",
              "      <td id=\"T_6edf8_row15_col0\" class=\"data row15 col0\" >happi</td>\n",
              "      <td id=\"T_6edf8_row15_col1\" class=\"data row15 col1\" >1014</td>\n",
              "    </tr>\n",
              "    <tr>\n",
              "      <th id=\"T_6edf8_level0_row16\" class=\"row_heading level0 row16\" >17</th>\n",
              "      <td id=\"T_6edf8_row16_col0\" class=\"data row16 col0\" >miss</td>\n",
              "      <td id=\"T_6edf8_row16_col1\" class=\"data row16 col1\" >970</td>\n",
              "    </tr>\n",
              "    <tr>\n",
              "      <th id=\"T_6edf8_level0_row17\" class=\"row_heading level0 row17\" >18</th>\n",
              "      <td id=\"T_6edf8_row17_col0\" class=\"data row17 col0\" >realli</td>\n",
              "      <td id=\"T_6edf8_row17_col1\" class=\"data row17 col1\" >925</td>\n",
              "    </tr>\n",
              "    <tr>\n",
              "      <th id=\"T_6edf8_level0_row18\" class=\"row_heading level0 row18\" >19</th>\n",
              "      <td id=\"T_6edf8_row18_col0\" class=\"data row18 col0\" >back</td>\n",
              "      <td id=\"T_6edf8_row18_col1\" class=\"data row18 col1\" >920</td>\n",
              "    </tr>\n",
              "    <tr>\n",
              "      <th id=\"T_6edf8_level0_row19\" class=\"row_heading level0 row19\" >20</th>\n",
              "      <td id=\"T_6edf8_row19_col0\" class=\"data row19 col0\" >see</td>\n",
              "      <td id=\"T_6edf8_row19_col1\" class=\"data row19 col1\" >909</td>\n",
              "    </tr>\n",
              "    <tr>\n",
              "      <th id=\"T_6edf8_level0_row20\" class=\"row_heading level0 row20\" >21</th>\n",
              "      <td id=\"T_6edf8_row20_col0\" class=\"data row20 col0\" >think</td>\n",
              "      <td id=\"T_6edf8_row20_col1\" class=\"data row20 col1\" >884</td>\n",
              "    </tr>\n",
              "    <tr>\n",
              "      <th id=\"T_6edf8_level0_row21\" class=\"row_heading level0 row21\" >22</th>\n",
              "      <td id=\"T_6edf8_row21_col0\" class=\"data row21 col0\" >feel</td>\n",
              "      <td id=\"T_6edf8_row21_col1\" class=\"data row21 col1\" >874</td>\n",
              "    </tr>\n",
              "    <tr>\n",
              "      <th id=\"T_6edf8_level0_row22\" class=\"row_heading level0 row22\" >23</th>\n",
              "      <td id=\"T_6edf8_row22_col0\" class=\"data row22 col0\" >night</td>\n",
              "      <td id=\"T_6edf8_row22_col1\" class=\"data row22 col1\" >811</td>\n",
              "    </tr>\n",
              "    <tr>\n",
              "      <th id=\"T_6edf8_level0_row23\" class=\"row_heading level0 row23\" >24</th>\n",
              "      <td id=\"T_6edf8_row23_col0\" class=\"data row23 col0\" >hope</td>\n",
              "      <td id=\"T_6edf8_row23_col1\" class=\"data row23 col1\" >807</td>\n",
              "    </tr>\n",
              "  </tbody>\n",
              "</table>\n"
            ]
          },
          "metadata": {},
          "execution_count": 75
        }
      ]
    },
    {
      "cell_type": "code",
      "source": [
        "fig = px.bar(temp, x=\"Count\", y=\"Common words\", title='Commmon words in text', orientation='h', width=700, height=700, color='Common words')\n",
        "fig.show() "
      ],
      "metadata": {
        "id": "cPw1gWDwUTMp",
        "outputId": "6860d2d2-32f6-4a4d-9d80-42342ca2f647",
        "colab": {
          "base_uri": "https://localhost:8080/",
          "height": 717
        }
      },
      "execution_count": 76,
      "outputs": [
        {
          "output_type": "display_data",
          "data": {
            "text/html": [
              "<html>\n",
              "<head><meta charset=\"utf-8\" /></head>\n",
              "<body>\n",
              "    <div>            <script src=\"https://cdnjs.cloudflare.com/ajax/libs/mathjax/2.7.5/MathJax.js?config=TeX-AMS-MML_SVG\"></script><script type=\"text/javascript\">if (window.MathJax) {MathJax.Hub.Config({SVG: {font: \"STIX-Web\"}});}</script>                <script type=\"text/javascript\">window.PlotlyConfig = {MathJaxConfig: 'local'};</script>\n",
              "        <script src=\"https://cdn.plot.ly/plotly-2.8.3.min.js\"></script>                <div id=\"8b050e7b-4090-471e-9a5f-89cb72eae729\" class=\"plotly-graph-div\" style=\"height:700px; width:700px;\"></div>            <script type=\"text/javascript\">                                    window.PLOTLYENV=window.PLOTLYENV || {};                                    if (document.getElementById(\"8b050e7b-4090-471e-9a5f-89cb72eae729\")) {                    Plotly.newPlot(                        \"8b050e7b-4090-471e-9a5f-89cb72eae729\",                        [{\"alignmentgroup\":\"True\",\"hovertemplate\":\"Common words=%{y}<br>Count=%{x}<extra></extra>\",\"legendgroup\":\"get\",\"marker\":{\"color\":\"#636efa\",\"pattern\":{\"shape\":\"\"}},\"name\":\"get\",\"offsetgroup\":\"get\",\"orientation\":\"h\",\"showlegend\":true,\"textposition\":\"auto\",\"x\":[1915],\"xaxis\":\"x\",\"y\":[\"get\"],\"yaxis\":\"y\",\"type\":\"bar\"},{\"alignmentgroup\":\"True\",\"hovertemplate\":\"Common words=%{y}<br>Count=%{x}<extra></extra>\",\"legendgroup\":\"good\",\"marker\":{\"color\":\"#EF553B\",\"pattern\":{\"shape\":\"\"}},\"name\":\"good\",\"offsetgroup\":\"good\",\"orientation\":\"h\",\"showlegend\":true,\"textposition\":\"auto\",\"x\":[1601],\"xaxis\":\"x\",\"y\":[\"good\"],\"yaxis\":\"y\",\"type\":\"bar\"},{\"alignmentgroup\":\"True\",\"hovertemplate\":\"Common words=%{y}<br>Count=%{x}<extra></extra>\",\"legendgroup\":\"go\",\"marker\":{\"color\":\"#00cc96\",\"pattern\":{\"shape\":\"\"}},\"name\":\"go\",\"offsetgroup\":\"go\",\"orientation\":\"h\",\"showlegend\":true,\"textposition\":\"auto\",\"x\":[1572],\"xaxis\":\"x\",\"y\":[\"go\"],\"yaxis\":\"y\",\"type\":\"bar\"},{\"alignmentgroup\":\"True\",\"hovertemplate\":\"Common words=%{y}<br>Count=%{x}<extra></extra>\",\"legendgroup\":\"love\",\"marker\":{\"color\":\"#ab63fa\",\"pattern\":{\"shape\":\"\"}},\"name\":\"love\",\"offsetgroup\":\"love\",\"orientation\":\"h\",\"showlegend\":true,\"textposition\":\"auto\",\"x\":[1530],\"xaxis\":\"x\",\"y\":[\"love\"],\"yaxis\":\"y\",\"type\":\"bar\"},{\"alignmentgroup\":\"True\",\"hovertemplate\":\"Common words=%{y}<br>Count=%{x}<extra></extra>\",\"legendgroup\":\"work\",\"marker\":{\"color\":\"#FFA15A\",\"pattern\":{\"shape\":\"\"}},\"name\":\"work\",\"offsetgroup\":\"work\",\"orientation\":\"h\",\"showlegend\":true,\"textposition\":\"auto\",\"x\":[1530],\"xaxis\":\"x\",\"y\":[\"work\"],\"yaxis\":\"y\",\"type\":\"bar\"},{\"alignmentgroup\":\"True\",\"hovertemplate\":\"Common words=%{y}<br>Count=%{x}<extra></extra>\",\"legendgroup\":\"like\",\"marker\":{\"color\":\"#19d3f3\",\"pattern\":{\"shape\":\"\"}},\"name\":\"like\",\"offsetgroup\":\"like\",\"orientation\":\"h\",\"showlegend\":true,\"textposition\":\"auto\",\"x\":[1462],\"xaxis\":\"x\",\"y\":[\"like\"],\"yaxis\":\"y\",\"type\":\"bar\"},{\"alignmentgroup\":\"True\",\"hovertemplate\":\"Common words=%{y}<br>Count=%{x}<extra></extra>\",\"legendgroup\":\"got\",\"marker\":{\"color\":\"#FF6692\",\"pattern\":{\"shape\":\"\"}},\"name\":\"got\",\"offsetgroup\":\"got\",\"orientation\":\"h\",\"showlegend\":true,\"textposition\":\"auto\",\"x\":[1260],\"xaxis\":\"x\",\"y\":[\"got\"],\"yaxis\":\"y\",\"type\":\"bar\"},{\"alignmentgroup\":\"True\",\"hovertemplate\":\"Common words=%{y}<br>Count=%{x}<extra></extra>\",\"legendgroup\":\"want\",\"marker\":{\"color\":\"#B6E880\",\"pattern\":{\"shape\":\"\"}},\"name\":\"want\",\"offsetgroup\":\"want\",\"orientation\":\"h\",\"showlegend\":true,\"textposition\":\"auto\",\"x\":[1241],\"xaxis\":\"x\",\"y\":[\"want\"],\"yaxis\":\"y\",\"type\":\"bar\"},{\"alignmentgroup\":\"True\",\"hovertemplate\":\"Common words=%{y}<br>Count=%{x}<extra></extra>\",\"legendgroup\":\"today\",\"marker\":{\"color\":\"#FF97FF\",\"pattern\":{\"shape\":\"\"}},\"name\":\"today\",\"offsetgroup\":\"today\",\"orientation\":\"h\",\"showlegend\":true,\"textposition\":\"auto\",\"x\":[1155],\"xaxis\":\"x\",\"y\":[\"today\"],\"yaxis\":\"y\",\"type\":\"bar\"},{\"alignmentgroup\":\"True\",\"hovertemplate\":\"Common words=%{y}<br>Count=%{x}<extra></extra>\",\"legendgroup\":\"time\",\"marker\":{\"color\":\"#FECB52\",\"pattern\":{\"shape\":\"\"}},\"name\":\"time\",\"offsetgroup\":\"time\",\"orientation\":\"h\",\"showlegend\":true,\"textposition\":\"auto\",\"x\":[1104],\"xaxis\":\"x\",\"y\":[\"time\"],\"yaxis\":\"y\",\"type\":\"bar\"},{\"alignmentgroup\":\"True\",\"hovertemplate\":\"Common words=%{y}<br>Count=%{x}<extra></extra>\",\"legendgroup\":\"one\",\"marker\":{\"color\":\"#636efa\",\"pattern\":{\"shape\":\"\"}},\"name\":\"one\",\"offsetgroup\":\"one\",\"orientation\":\"h\",\"showlegend\":true,\"textposition\":\"auto\",\"x\":[1076],\"xaxis\":\"x\",\"y\":[\"one\"],\"yaxis\":\"y\",\"type\":\"bar\"},{\"alignmentgroup\":\"True\",\"hovertemplate\":\"Common words=%{y}<br>Count=%{x}<extra></extra>\",\"legendgroup\":\"cannot\",\"marker\":{\"color\":\"#EF553B\",\"pattern\":{\"shape\":\"\"}},\"name\":\"cannot\",\"offsetgroup\":\"cannot\",\"orientation\":\"h\",\"showlegend\":true,\"textposition\":\"auto\",\"x\":[1075],\"xaxis\":\"x\",\"y\":[\"cannot\"],\"yaxis\":\"y\",\"type\":\"bar\"},{\"alignmentgroup\":\"True\",\"hovertemplate\":\"Common words=%{y}<br>Count=%{x}<extra></extra>\",\"legendgroup\":\"know\",\"marker\":{\"color\":\"#00cc96\",\"pattern\":{\"shape\":\"\"}},\"name\":\"know\",\"offsetgroup\":\"know\",\"orientation\":\"h\",\"showlegend\":true,\"textposition\":\"auto\",\"x\":[1051],\"xaxis\":\"x\",\"y\":[\"know\"],\"yaxis\":\"y\",\"type\":\"bar\"},{\"alignmentgroup\":\"True\",\"hovertemplate\":\"Common words=%{y}<br>Count=%{x}<extra></extra>\",\"legendgroup\":\"thank\",\"marker\":{\"color\":\"#ab63fa\",\"pattern\":{\"shape\":\"\"}},\"name\":\"thank\",\"offsetgroup\":\"thank\",\"orientation\":\"h\",\"showlegend\":true,\"textposition\":\"auto\",\"x\":[1034],\"xaxis\":\"x\",\"y\":[\"thank\"],\"yaxis\":\"y\",\"type\":\"bar\"},{\"alignmentgroup\":\"True\",\"hovertemplate\":\"Common words=%{y}<br>Count=%{x}<extra></extra>\",\"legendgroup\":\"lol\",\"marker\":{\"color\":\"#FFA15A\",\"pattern\":{\"shape\":\"\"}},\"name\":\"lol\",\"offsetgroup\":\"lol\",\"orientation\":\"h\",\"showlegend\":true,\"textposition\":\"auto\",\"x\":[1029],\"xaxis\":\"x\",\"y\":[\"lol\"],\"yaxis\":\"y\",\"type\":\"bar\"},{\"alignmentgroup\":\"True\",\"hovertemplate\":\"Common words=%{y}<br>Count=%{x}<extra></extra>\",\"legendgroup\":\"happi\",\"marker\":{\"color\":\"#19d3f3\",\"pattern\":{\"shape\":\"\"}},\"name\":\"happi\",\"offsetgroup\":\"happi\",\"orientation\":\"h\",\"showlegend\":true,\"textposition\":\"auto\",\"x\":[1014],\"xaxis\":\"x\",\"y\":[\"happi\"],\"yaxis\":\"y\",\"type\":\"bar\"},{\"alignmentgroup\":\"True\",\"hovertemplate\":\"Common words=%{y}<br>Count=%{x}<extra></extra>\",\"legendgroup\":\"miss\",\"marker\":{\"color\":\"#FF6692\",\"pattern\":{\"shape\":\"\"}},\"name\":\"miss\",\"offsetgroup\":\"miss\",\"orientation\":\"h\",\"showlegend\":true,\"textposition\":\"auto\",\"x\":[970],\"xaxis\":\"x\",\"y\":[\"miss\"],\"yaxis\":\"y\",\"type\":\"bar\"},{\"alignmentgroup\":\"True\",\"hovertemplate\":\"Common words=%{y}<br>Count=%{x}<extra></extra>\",\"legendgroup\":\"realli\",\"marker\":{\"color\":\"#B6E880\",\"pattern\":{\"shape\":\"\"}},\"name\":\"realli\",\"offsetgroup\":\"realli\",\"orientation\":\"h\",\"showlegend\":true,\"textposition\":\"auto\",\"x\":[925],\"xaxis\":\"x\",\"y\":[\"realli\"],\"yaxis\":\"y\",\"type\":\"bar\"},{\"alignmentgroup\":\"True\",\"hovertemplate\":\"Common words=%{y}<br>Count=%{x}<extra></extra>\",\"legendgroup\":\"back\",\"marker\":{\"color\":\"#FF97FF\",\"pattern\":{\"shape\":\"\"}},\"name\":\"back\",\"offsetgroup\":\"back\",\"orientation\":\"h\",\"showlegend\":true,\"textposition\":\"auto\",\"x\":[920],\"xaxis\":\"x\",\"y\":[\"back\"],\"yaxis\":\"y\",\"type\":\"bar\"},{\"alignmentgroup\":\"True\",\"hovertemplate\":\"Common words=%{y}<br>Count=%{x}<extra></extra>\",\"legendgroup\":\"see\",\"marker\":{\"color\":\"#FECB52\",\"pattern\":{\"shape\":\"\"}},\"name\":\"see\",\"offsetgroup\":\"see\",\"orientation\":\"h\",\"showlegend\":true,\"textposition\":\"auto\",\"x\":[909],\"xaxis\":\"x\",\"y\":[\"see\"],\"yaxis\":\"y\",\"type\":\"bar\"},{\"alignmentgroup\":\"True\",\"hovertemplate\":\"Common words=%{y}<br>Count=%{x}<extra></extra>\",\"legendgroup\":\"think\",\"marker\":{\"color\":\"#636efa\",\"pattern\":{\"shape\":\"\"}},\"name\":\"think\",\"offsetgroup\":\"think\",\"orientation\":\"h\",\"showlegend\":true,\"textposition\":\"auto\",\"x\":[884],\"xaxis\":\"x\",\"y\":[\"think\"],\"yaxis\":\"y\",\"type\":\"bar\"},{\"alignmentgroup\":\"True\",\"hovertemplate\":\"Common words=%{y}<br>Count=%{x}<extra></extra>\",\"legendgroup\":\"feel\",\"marker\":{\"color\":\"#EF553B\",\"pattern\":{\"shape\":\"\"}},\"name\":\"feel\",\"offsetgroup\":\"feel\",\"orientation\":\"h\",\"showlegend\":true,\"textposition\":\"auto\",\"x\":[874],\"xaxis\":\"x\",\"y\":[\"feel\"],\"yaxis\":\"y\",\"type\":\"bar\"},{\"alignmentgroup\":\"True\",\"hovertemplate\":\"Common words=%{y}<br>Count=%{x}<extra></extra>\",\"legendgroup\":\"night\",\"marker\":{\"color\":\"#00cc96\",\"pattern\":{\"shape\":\"\"}},\"name\":\"night\",\"offsetgroup\":\"night\",\"orientation\":\"h\",\"showlegend\":true,\"textposition\":\"auto\",\"x\":[811],\"xaxis\":\"x\",\"y\":[\"night\"],\"yaxis\":\"y\",\"type\":\"bar\"},{\"alignmentgroup\":\"True\",\"hovertemplate\":\"Common words=%{y}<br>Count=%{x}<extra></extra>\",\"legendgroup\":\"hope\",\"marker\":{\"color\":\"#ab63fa\",\"pattern\":{\"shape\":\"\"}},\"name\":\"hope\",\"offsetgroup\":\"hope\",\"orientation\":\"h\",\"showlegend\":true,\"textposition\":\"auto\",\"x\":[807],\"xaxis\":\"x\",\"y\":[\"hope\"],\"yaxis\":\"y\",\"type\":\"bar\"}],                        {\"template\":{\"data\":{\"bar\":[{\"error_x\":{\"color\":\"#2a3f5f\"},\"error_y\":{\"color\":\"#2a3f5f\"},\"marker\":{\"line\":{\"color\":\"#E5ECF6\",\"width\":0.5},\"pattern\":{\"fillmode\":\"overlay\",\"size\":10,\"solidity\":0.2}},\"type\":\"bar\"}],\"barpolar\":[{\"marker\":{\"line\":{\"color\":\"#E5ECF6\",\"width\":0.5},\"pattern\":{\"fillmode\":\"overlay\",\"size\":10,\"solidity\":0.2}},\"type\":\"barpolar\"}],\"carpet\":[{\"aaxis\":{\"endlinecolor\":\"#2a3f5f\",\"gridcolor\":\"white\",\"linecolor\":\"white\",\"minorgridcolor\":\"white\",\"startlinecolor\":\"#2a3f5f\"},\"baxis\":{\"endlinecolor\":\"#2a3f5f\",\"gridcolor\":\"white\",\"linecolor\":\"white\",\"minorgridcolor\":\"white\",\"startlinecolor\":\"#2a3f5f\"},\"type\":\"carpet\"}],\"choropleth\":[{\"colorbar\":{\"outlinewidth\":0,\"ticks\":\"\"},\"type\":\"choropleth\"}],\"contour\":[{\"colorbar\":{\"outlinewidth\":0,\"ticks\":\"\"},\"colorscale\":[[0.0,\"#0d0887\"],[0.1111111111111111,\"#46039f\"],[0.2222222222222222,\"#7201a8\"],[0.3333333333333333,\"#9c179e\"],[0.4444444444444444,\"#bd3786\"],[0.5555555555555556,\"#d8576b\"],[0.6666666666666666,\"#ed7953\"],[0.7777777777777778,\"#fb9f3a\"],[0.8888888888888888,\"#fdca26\"],[1.0,\"#f0f921\"]],\"type\":\"contour\"}],\"contourcarpet\":[{\"colorbar\":{\"outlinewidth\":0,\"ticks\":\"\"},\"type\":\"contourcarpet\"}],\"heatmap\":[{\"colorbar\":{\"outlinewidth\":0,\"ticks\":\"\"},\"colorscale\":[[0.0,\"#0d0887\"],[0.1111111111111111,\"#46039f\"],[0.2222222222222222,\"#7201a8\"],[0.3333333333333333,\"#9c179e\"],[0.4444444444444444,\"#bd3786\"],[0.5555555555555556,\"#d8576b\"],[0.6666666666666666,\"#ed7953\"],[0.7777777777777778,\"#fb9f3a\"],[0.8888888888888888,\"#fdca26\"],[1.0,\"#f0f921\"]],\"type\":\"heatmap\"}],\"heatmapgl\":[{\"colorbar\":{\"outlinewidth\":0,\"ticks\":\"\"},\"colorscale\":[[0.0,\"#0d0887\"],[0.1111111111111111,\"#46039f\"],[0.2222222222222222,\"#7201a8\"],[0.3333333333333333,\"#9c179e\"],[0.4444444444444444,\"#bd3786\"],[0.5555555555555556,\"#d8576b\"],[0.6666666666666666,\"#ed7953\"],[0.7777777777777778,\"#fb9f3a\"],[0.8888888888888888,\"#fdca26\"],[1.0,\"#f0f921\"]],\"type\":\"heatmapgl\"}],\"histogram\":[{\"marker\":{\"pattern\":{\"fillmode\":\"overlay\",\"size\":10,\"solidity\":0.2}},\"type\":\"histogram\"}],\"histogram2d\":[{\"colorbar\":{\"outlinewidth\":0,\"ticks\":\"\"},\"colorscale\":[[0.0,\"#0d0887\"],[0.1111111111111111,\"#46039f\"],[0.2222222222222222,\"#7201a8\"],[0.3333333333333333,\"#9c179e\"],[0.4444444444444444,\"#bd3786\"],[0.5555555555555556,\"#d8576b\"],[0.6666666666666666,\"#ed7953\"],[0.7777777777777778,\"#fb9f3a\"],[0.8888888888888888,\"#fdca26\"],[1.0,\"#f0f921\"]],\"type\":\"histogram2d\"}],\"histogram2dcontour\":[{\"colorbar\":{\"outlinewidth\":0,\"ticks\":\"\"},\"colorscale\":[[0.0,\"#0d0887\"],[0.1111111111111111,\"#46039f\"],[0.2222222222222222,\"#7201a8\"],[0.3333333333333333,\"#9c179e\"],[0.4444444444444444,\"#bd3786\"],[0.5555555555555556,\"#d8576b\"],[0.6666666666666666,\"#ed7953\"],[0.7777777777777778,\"#fb9f3a\"],[0.8888888888888888,\"#fdca26\"],[1.0,\"#f0f921\"]],\"type\":\"histogram2dcontour\"}],\"mesh3d\":[{\"colorbar\":{\"outlinewidth\":0,\"ticks\":\"\"},\"type\":\"mesh3d\"}],\"parcoords\":[{\"line\":{\"colorbar\":{\"outlinewidth\":0,\"ticks\":\"\"}},\"type\":\"parcoords\"}],\"pie\":[{\"automargin\":true,\"type\":\"pie\"}],\"scatter\":[{\"marker\":{\"colorbar\":{\"outlinewidth\":0,\"ticks\":\"\"}},\"type\":\"scatter\"}],\"scatter3d\":[{\"line\":{\"colorbar\":{\"outlinewidth\":0,\"ticks\":\"\"}},\"marker\":{\"colorbar\":{\"outlinewidth\":0,\"ticks\":\"\"}},\"type\":\"scatter3d\"}],\"scattercarpet\":[{\"marker\":{\"colorbar\":{\"outlinewidth\":0,\"ticks\":\"\"}},\"type\":\"scattercarpet\"}],\"scattergeo\":[{\"marker\":{\"colorbar\":{\"outlinewidth\":0,\"ticks\":\"\"}},\"type\":\"scattergeo\"}],\"scattergl\":[{\"marker\":{\"colorbar\":{\"outlinewidth\":0,\"ticks\":\"\"}},\"type\":\"scattergl\"}],\"scattermapbox\":[{\"marker\":{\"colorbar\":{\"outlinewidth\":0,\"ticks\":\"\"}},\"type\":\"scattermapbox\"}],\"scatterpolar\":[{\"marker\":{\"colorbar\":{\"outlinewidth\":0,\"ticks\":\"\"}},\"type\":\"scatterpolar\"}],\"scatterpolargl\":[{\"marker\":{\"colorbar\":{\"outlinewidth\":0,\"ticks\":\"\"}},\"type\":\"scatterpolargl\"}],\"scatterternary\":[{\"marker\":{\"colorbar\":{\"outlinewidth\":0,\"ticks\":\"\"}},\"type\":\"scatterternary\"}],\"surface\":[{\"colorbar\":{\"outlinewidth\":0,\"ticks\":\"\"},\"colorscale\":[[0.0,\"#0d0887\"],[0.1111111111111111,\"#46039f\"],[0.2222222222222222,\"#7201a8\"],[0.3333333333333333,\"#9c179e\"],[0.4444444444444444,\"#bd3786\"],[0.5555555555555556,\"#d8576b\"],[0.6666666666666666,\"#ed7953\"],[0.7777777777777778,\"#fb9f3a\"],[0.8888888888888888,\"#fdca26\"],[1.0,\"#f0f921\"]],\"type\":\"surface\"}],\"table\":[{\"cells\":{\"fill\":{\"color\":\"#EBF0F8\"},\"line\":{\"color\":\"white\"}},\"header\":{\"fill\":{\"color\":\"#C8D4E3\"},\"line\":{\"color\":\"white\"}},\"type\":\"table\"}]},\"layout\":{\"annotationdefaults\":{\"arrowcolor\":\"#2a3f5f\",\"arrowhead\":0,\"arrowwidth\":1},\"autotypenumbers\":\"strict\",\"coloraxis\":{\"colorbar\":{\"outlinewidth\":0,\"ticks\":\"\"}},\"colorscale\":{\"diverging\":[[0,\"#8e0152\"],[0.1,\"#c51b7d\"],[0.2,\"#de77ae\"],[0.3,\"#f1b6da\"],[0.4,\"#fde0ef\"],[0.5,\"#f7f7f7\"],[0.6,\"#e6f5d0\"],[0.7,\"#b8e186\"],[0.8,\"#7fbc41\"],[0.9,\"#4d9221\"],[1,\"#276419\"]],\"sequential\":[[0.0,\"#0d0887\"],[0.1111111111111111,\"#46039f\"],[0.2222222222222222,\"#7201a8\"],[0.3333333333333333,\"#9c179e\"],[0.4444444444444444,\"#bd3786\"],[0.5555555555555556,\"#d8576b\"],[0.6666666666666666,\"#ed7953\"],[0.7777777777777778,\"#fb9f3a\"],[0.8888888888888888,\"#fdca26\"],[1.0,\"#f0f921\"]],\"sequentialminus\":[[0.0,\"#0d0887\"],[0.1111111111111111,\"#46039f\"],[0.2222222222222222,\"#7201a8\"],[0.3333333333333333,\"#9c179e\"],[0.4444444444444444,\"#bd3786\"],[0.5555555555555556,\"#d8576b\"],[0.6666666666666666,\"#ed7953\"],[0.7777777777777778,\"#fb9f3a\"],[0.8888888888888888,\"#fdca26\"],[1.0,\"#f0f921\"]]},\"colorway\":[\"#636efa\",\"#EF553B\",\"#00cc96\",\"#ab63fa\",\"#FFA15A\",\"#19d3f3\",\"#FF6692\",\"#B6E880\",\"#FF97FF\",\"#FECB52\"],\"font\":{\"color\":\"#2a3f5f\"},\"geo\":{\"bgcolor\":\"white\",\"lakecolor\":\"white\",\"landcolor\":\"#E5ECF6\",\"showlakes\":true,\"showland\":true,\"subunitcolor\":\"white\"},\"hoverlabel\":{\"align\":\"left\"},\"hovermode\":\"closest\",\"mapbox\":{\"style\":\"light\"},\"paper_bgcolor\":\"white\",\"plot_bgcolor\":\"#E5ECF6\",\"polar\":{\"angularaxis\":{\"gridcolor\":\"white\",\"linecolor\":\"white\",\"ticks\":\"\"},\"bgcolor\":\"#E5ECF6\",\"radialaxis\":{\"gridcolor\":\"white\",\"linecolor\":\"white\",\"ticks\":\"\"}},\"scene\":{\"xaxis\":{\"backgroundcolor\":\"#E5ECF6\",\"gridcolor\":\"white\",\"gridwidth\":2,\"linecolor\":\"white\",\"showbackground\":true,\"ticks\":\"\",\"zerolinecolor\":\"white\"},\"yaxis\":{\"backgroundcolor\":\"#E5ECF6\",\"gridcolor\":\"white\",\"gridwidth\":2,\"linecolor\":\"white\",\"showbackground\":true,\"ticks\":\"\",\"zerolinecolor\":\"white\"},\"zaxis\":{\"backgroundcolor\":\"#E5ECF6\",\"gridcolor\":\"white\",\"gridwidth\":2,\"linecolor\":\"white\",\"showbackground\":true,\"ticks\":\"\",\"zerolinecolor\":\"white\"}},\"shapedefaults\":{\"line\":{\"color\":\"#2a3f5f\"}},\"ternary\":{\"aaxis\":{\"gridcolor\":\"white\",\"linecolor\":\"white\",\"ticks\":\"\"},\"baxis\":{\"gridcolor\":\"white\",\"linecolor\":\"white\",\"ticks\":\"\"},\"bgcolor\":\"#E5ECF6\",\"caxis\":{\"gridcolor\":\"white\",\"linecolor\":\"white\",\"ticks\":\"\"}},\"title\":{\"x\":0.05},\"xaxis\":{\"automargin\":true,\"gridcolor\":\"white\",\"linecolor\":\"white\",\"ticks\":\"\",\"title\":{\"standoff\":15},\"zerolinecolor\":\"white\",\"zerolinewidth\":2},\"yaxis\":{\"automargin\":true,\"gridcolor\":\"white\",\"linecolor\":\"white\",\"ticks\":\"\",\"title\":{\"standoff\":15},\"zerolinecolor\":\"white\",\"zerolinewidth\":2}}},\"xaxis\":{\"anchor\":\"y\",\"domain\":[0.0,1.0],\"title\":{\"text\":\"Count\"}},\"yaxis\":{\"anchor\":\"x\",\"domain\":[0.0,1.0],\"title\":{\"text\":\"Common words\"},\"categoryorder\":\"array\",\"categoryarray\":[\"hope\",\"night\",\"feel\",\"think\",\"see\",\"back\",\"realli\",\"miss\",\"happi\",\"lol\",\"thank\",\"know\",\"cannot\",\"one\",\"time\",\"today\",\"want\",\"got\",\"like\",\"work\",\"love\",\"go\",\"good\",\"get\"]},\"legend\":{\"title\":{\"text\":\"Common words\"},\"tracegroupgap\":0},\"title\":{\"text\":\"Commmon words in text\"},\"barmode\":\"relative\",\"height\":700,\"width\":700},                        {\"responsive\": true}                    ).then(function(){\n",
              "                            \n",
              "var gd = document.getElementById('8b050e7b-4090-471e-9a5f-89cb72eae729');\n",
              "var x = new MutationObserver(function (mutations, observer) {{\n",
              "        var display = window.getComputedStyle(gd).display;\n",
              "        if (!display || display === 'none') {{\n",
              "            console.log([gd, 'removed!']);\n",
              "            Plotly.purge(gd);\n",
              "            observer.disconnect();\n",
              "        }}\n",
              "}});\n",
              "\n",
              "// Listen for the removal of the full notebook cells\n",
              "var notebookContainer = gd.closest('#notebook-container');\n",
              "if (notebookContainer) {{\n",
              "    x.observe(notebookContainer, {childList: true});\n",
              "}}\n",
              "\n",
              "// Listen for the clearing of the current output cell\n",
              "var outputEl = gd.closest('.output');\n",
              "if (outputEl) {{\n",
              "    x.observe(outputEl, {childList: true});\n",
              "}}\n",
              "\n",
              "                        })                };                            </script>        </div>\n",
              "</body>\n",
              "</html>"
            ]
          },
          "metadata": {}
        }
      ]
    },
    {
      "cell_type": "code",
      "source": [
        "#Most common positive words\n",
        "\n",
        "pos = train[train['sentiment']=='positive']\n",
        "\n",
        "tempList = pos['text'].apply(lambda x:str(x).split())\n",
        "\n",
        "top = Counter([item for sublist in tempList for item in sublist])\n",
        "temp = pd.DataFrame(top.most_common(25))\n",
        "temp = temp.iloc[1:,:]\n",
        "temp.columns = ['Common words','Count']\n",
        "temp.style.background_gradient(cmap='Blues')"
      ],
      "metadata": {
        "id": "9l3M7_s8IzCA",
        "outputId": "d80e03a0-2d10-460a-cc50-0b443a25cd6a",
        "colab": {
          "base_uri": "https://localhost:8080/",
          "height": 802
        }
      },
      "execution_count": 77,
      "outputs": [
        {
          "output_type": "execute_result",
          "data": {
            "text/plain": [
              "<pandas.io.formats.style.Styler at 0x7f100f745e50>"
            ],
            "text/html": [
              "<style type=\"text/css\">\n",
              "#T_c1e6b_row0_col1 {\n",
              "  background-color: #08306b;\n",
              "  color: #f1f1f1;\n",
              "}\n",
              "#T_c1e6b_row1_col1 {\n",
              "  background-color: #09529d;\n",
              "  color: #f1f1f1;\n",
              "}\n",
              "#T_c1e6b_row2_col1 {\n",
              "  background-color: #3e8ec4;\n",
              "  color: #f1f1f1;\n",
              "}\n",
              "#T_c1e6b_row3_col1 {\n",
              "  background-color: #4090c5;\n",
              "  color: #f1f1f1;\n",
              "}\n",
              "#T_c1e6b_row4_col1 {\n",
              "  background-color: #8abfdd;\n",
              "  color: #000000;\n",
              "}\n",
              "#T_c1e6b_row5_col1 {\n",
              "  background-color: #c1d9ed;\n",
              "  color: #000000;\n",
              "}\n",
              "#T_c1e6b_row6_col1 {\n",
              "  background-color: #cde0f1;\n",
              "  color: #000000;\n",
              "}\n",
              "#T_c1e6b_row7_col1 {\n",
              "  background-color: #cee0f2;\n",
              "  color: #000000;\n",
              "}\n",
              "#T_c1e6b_row8_col1 {\n",
              "  background-color: #d0e1f2;\n",
              "  color: #000000;\n",
              "}\n",
              "#T_c1e6b_row9_col1 {\n",
              "  background-color: #e0ecf8;\n",
              "  color: #000000;\n",
              "}\n",
              "#T_c1e6b_row10_col1, #T_c1e6b_row11_col1 {\n",
              "  background-color: #eaf2fb;\n",
              "  color: #000000;\n",
              "}\n",
              "#T_c1e6b_row12_col1, #T_c1e6b_row13_col1, #T_c1e6b_row14_col1, #T_c1e6b_row15_col1 {\n",
              "  background-color: #ebf3fb;\n",
              "  color: #000000;\n",
              "}\n",
              "#T_c1e6b_row16_col1, #T_c1e6b_row17_col1 {\n",
              "  background-color: #edf4fc;\n",
              "  color: #000000;\n",
              "}\n",
              "#T_c1e6b_row18_col1, #T_c1e6b_row19_col1 {\n",
              "  background-color: #f2f7fd;\n",
              "  color: #000000;\n",
              "}\n",
              "#T_c1e6b_row20_col1 {\n",
              "  background-color: #f3f8fe;\n",
              "  color: #000000;\n",
              "}\n",
              "#T_c1e6b_row21_col1 {\n",
              "  background-color: #f4f9fe;\n",
              "  color: #000000;\n",
              "}\n",
              "#T_c1e6b_row22_col1, #T_c1e6b_row23_col1 {\n",
              "  background-color: #f7fbff;\n",
              "  color: #000000;\n",
              "}\n",
              "</style>\n",
              "<table id=\"T_c1e6b_\" class=\"dataframe\">\n",
              "  <thead>\n",
              "    <tr>\n",
              "      <th class=\"blank level0\" >&nbsp;</th>\n",
              "      <th class=\"col_heading level0 col0\" >Common words</th>\n",
              "      <th class=\"col_heading level0 col1\" >Count</th>\n",
              "    </tr>\n",
              "  </thead>\n",
              "  <tbody>\n",
              "    <tr>\n",
              "      <th id=\"T_c1e6b_level0_row0\" class=\"row_heading level0 row0\" >1</th>\n",
              "      <td id=\"T_c1e6b_row0_col0\" class=\"data row0 col0\" >love</td>\n",
              "      <td id=\"T_c1e6b_row0_col1\" class=\"data row0 col1\" >1196</td>\n",
              "    </tr>\n",
              "    <tr>\n",
              "      <th id=\"T_c1e6b_level0_row1\" class=\"row_heading level0 row1\" >2</th>\n",
              "      <td id=\"T_c1e6b_row1_col0\" class=\"data row1 col0\" >good</td>\n",
              "      <td id=\"T_c1e6b_row1_col1\" class=\"data row1 col1\" >1079</td>\n",
              "    </tr>\n",
              "    <tr>\n",
              "      <th id=\"T_c1e6b_level0_row2\" class=\"row_heading level0 row2\" >3</th>\n",
              "      <td id=\"T_c1e6b_row2_col0\" class=\"data row2 col0\" >happi</td>\n",
              "      <td id=\"T_c1e6b_row2_col1\" class=\"data row2 col1\" >870</td>\n",
              "    </tr>\n",
              "    <tr>\n",
              "      <th id=\"T_c1e6b_level0_row3\" class=\"row_heading level0 row3\" >4</th>\n",
              "      <td id=\"T_c1e6b_row3_col0\" class=\"data row3 col0\" >thank</td>\n",
              "      <td id=\"T_c1e6b_row3_col1\" class=\"data row3 col1\" >864</td>\n",
              "    </tr>\n",
              "    <tr>\n",
              "      <th id=\"T_c1e6b_level0_row4\" class=\"row_heading level0 row4\" >5</th>\n",
              "      <td id=\"T_c1e6b_row4_col0\" class=\"data row4 col0\" >mother</td>\n",
              "      <td id=\"T_c1e6b_row4_col1\" class=\"data row4 col1\" >677</td>\n",
              "    </tr>\n",
              "    <tr>\n",
              "      <th id=\"T_c1e6b_level0_row5\" class=\"row_heading level0 row5\" >6</th>\n",
              "      <td id=\"T_c1e6b_row5_col0\" class=\"data row5 col0\" >hope</td>\n",
              "      <td id=\"T_c1e6b_row5_col1\" class=\"data row5 col1\" >536</td>\n",
              "    </tr>\n",
              "    <tr>\n",
              "      <th id=\"T_c1e6b_level0_row6\" class=\"row_heading level0 row6\" >7</th>\n",
              "      <td id=\"T_c1e6b_row6_col0\" class=\"data row6 col0\" >like</td>\n",
              "      <td id=\"T_c1e6b_row6_col1\" class=\"data row6 col1\" >487</td>\n",
              "    </tr>\n",
              "    <tr>\n",
              "      <th id=\"T_c1e6b_level0_row7\" class=\"row_heading level0 row7\" >8</th>\n",
              "      <td id=\"T_c1e6b_row7_col0\" class=\"data row7 col0\" >great</td>\n",
              "      <td id=\"T_c1e6b_row7_col1\" class=\"data row7 col1\" >486</td>\n",
              "    </tr>\n",
              "    <tr>\n",
              "      <th id=\"T_c1e6b_level0_row8\" class=\"row_heading level0 row8\" >9</th>\n",
              "      <td id=\"T_c1e6b_row8_col0\" class=\"data row8 col0\" >get</td>\n",
              "      <td id=\"T_c1e6b_row8_col1\" class=\"data row8 col1\" >478</td>\n",
              "    </tr>\n",
              "    <tr>\n",
              "      <th id=\"T_c1e6b_level0_row9\" class=\"row_heading level0 row9\" >10</th>\n",
              "      <td id=\"T_c1e6b_row9_col0\" class=\"data row9 col0\" >go</td>\n",
              "      <td id=\"T_c1e6b_row9_col1\" class=\"data row9 col1\" >400</td>\n",
              "    </tr>\n",
              "    <tr>\n",
              "      <th id=\"T_c1e6b_level0_row10\" class=\"row_heading level0 row10\" >11</th>\n",
              "      <td id=\"T_c1e6b_row10_col0\" class=\"data row10 col0\" >lol</td>\n",
              "      <td id=\"T_c1e6b_row10_col1\" class=\"data row10 col1\" >360</td>\n",
              "    </tr>\n",
              "    <tr>\n",
              "      <th id=\"T_c1e6b_level0_row11\" class=\"row_heading level0 row11\" >12</th>\n",
              "      <td id=\"T_c1e6b_row11_col0\" class=\"data row11 col0\" >today</td>\n",
              "      <td id=\"T_c1e6b_row11_col1\" class=\"data row11 col1\" >360</td>\n",
              "    </tr>\n",
              "    <tr>\n",
              "      <th id=\"T_c1e6b_level0_row12\" class=\"row_heading level0 row12\" >13</th>\n",
              "      <td id=\"T_c1e6b_row12_col0\" class=\"data row12 col0\" >fun</td>\n",
              "      <td id=\"T_c1e6b_row12_col1\" class=\"data row12 col1\" >352</td>\n",
              "    </tr>\n",
              "    <tr>\n",
              "      <th id=\"T_c1e6b_level0_row13\" class=\"row_heading level0 row13\" >14</th>\n",
              "      <td id=\"T_c1e6b_row13_col0\" class=\"data row13 col0\" >work</td>\n",
              "      <td id=\"T_c1e6b_row13_col1\" class=\"data row13 col1\" >352</td>\n",
              "    </tr>\n",
              "    <tr>\n",
              "      <th id=\"T_c1e6b_level0_row14\" class=\"row_heading level0 row14\" >15</th>\n",
              "      <td id=\"T_c1e6b_row14_col0\" class=\"data row14 col0\" >got</td>\n",
              "      <td id=\"T_c1e6b_row14_col1\" class=\"data row14 col1\" >352</td>\n",
              "    </tr>\n",
              "    <tr>\n",
              "      <th id=\"T_c1e6b_level0_row15\" class=\"row_heading level0 row15\" >16</th>\n",
              "      <td id=\"T_c1e6b_row15_col0\" class=\"data row15 col0\" >time</td>\n",
              "      <td id=\"T_c1e6b_row15_col1\" class=\"data row15 col1\" >351</td>\n",
              "    </tr>\n",
              "    <tr>\n",
              "      <th id=\"T_c1e6b_level0_row16\" class=\"row_heading level0 row16\" >17</th>\n",
              "      <td id=\"T_c1e6b_row16_col0\" class=\"data row16 col0\" >night</td>\n",
              "      <td id=\"T_c1e6b_row16_col1\" class=\"data row16 col1\" >346</td>\n",
              "    </tr>\n",
              "    <tr>\n",
              "      <th id=\"T_c1e6b_level0_row17\" class=\"row_heading level0 row17\" >18</th>\n",
              "      <td id=\"T_c1e6b_row17_col0\" class=\"data row17 col0\" >nice</td>\n",
              "      <td id=\"T_c1e6b_row17_col1\" class=\"data row17 col1\" >343</td>\n",
              "    </tr>\n",
              "    <tr>\n",
              "      <th id=\"T_c1e6b_level0_row18\" class=\"row_heading level0 row18\" >19</th>\n",
              "      <td id=\"T_c1e6b_row18_col0\" class=\"data row18 col0\" >wish</td>\n",
              "      <td id=\"T_c1e6b_row18_col1\" class=\"data row18 col1\" >325</td>\n",
              "    </tr>\n",
              "    <tr>\n",
              "      <th id=\"T_c1e6b_level0_row19\" class=\"row_heading level0 row19\" >20</th>\n",
              "      <td id=\"T_c1e6b_row19_col0\" class=\"data row19 col0\" >one</td>\n",
              "      <td id=\"T_c1e6b_row19_col1\" class=\"data row19 col1\" >324</td>\n",
              "    </tr>\n",
              "    <tr>\n",
              "      <th id=\"T_c1e6b_level0_row20\" class=\"row_heading level0 row20\" >21</th>\n",
              "      <td id=\"T_c1e6b_row20_col0\" class=\"data row20 col0\" >see</td>\n",
              "      <td id=\"T_c1e6b_row20_col1\" class=\"data row20 col1\" >315</td>\n",
              "    </tr>\n",
              "    <tr>\n",
              "      <th id=\"T_c1e6b_level0_row21\" class=\"row_heading level0 row21\" >22</th>\n",
              "      <td id=\"T_c1e6b_row21_col0\" class=\"data row21 col0\" >realli</td>\n",
              "      <td id=\"T_c1e6b_row21_col1\" class=\"data row21 col1\" >312</td>\n",
              "    </tr>\n",
              "    <tr>\n",
              "      <th id=\"T_c1e6b_level0_row22\" class=\"row_heading level0 row22\" >23</th>\n",
              "      <td id=\"T_c1e6b_row22_col0\" class=\"data row22 col0\" >morn</td>\n",
              "      <td id=\"T_c1e6b_row22_col1\" class=\"data row22 col1\" >300</td>\n",
              "    </tr>\n",
              "    <tr>\n",
              "      <th id=\"T_c1e6b_level0_row23\" class=\"row_heading level0 row23\" >24</th>\n",
              "      <td id=\"T_c1e6b_row23_col0\" class=\"data row23 col0\" >look</td>\n",
              "      <td id=\"T_c1e6b_row23_col1\" class=\"data row23 col1\" >297</td>\n",
              "    </tr>\n",
              "  </tbody>\n",
              "</table>\n"
            ]
          },
          "metadata": {},
          "execution_count": 77
        }
      ]
    },
    {
      "cell_type": "code",
      "source": [
        "fig = px.bar(temp, x=\"Count\", y=\"Common words\", title='Most commmon positive words', orientation='h', width=700, height=700,color='Common words')\n",
        "fig.show()"
      ],
      "metadata": {
        "id": "wHY9U7gLUYf1",
        "outputId": "137a6a15-b863-46a8-f07f-cb6de2e4156b",
        "colab": {
          "base_uri": "https://localhost:8080/",
          "height": 717
        }
      },
      "execution_count": 78,
      "outputs": [
        {
          "output_type": "display_data",
          "data": {
            "text/html": [
              "<html>\n",
              "<head><meta charset=\"utf-8\" /></head>\n",
              "<body>\n",
              "    <div>            <script src=\"https://cdnjs.cloudflare.com/ajax/libs/mathjax/2.7.5/MathJax.js?config=TeX-AMS-MML_SVG\"></script><script type=\"text/javascript\">if (window.MathJax) {MathJax.Hub.Config({SVG: {font: \"STIX-Web\"}});}</script>                <script type=\"text/javascript\">window.PlotlyConfig = {MathJaxConfig: 'local'};</script>\n",
              "        <script src=\"https://cdn.plot.ly/plotly-2.8.3.min.js\"></script>                <div id=\"24b98bcf-7cc1-4fec-bc22-73caf5b7fc1b\" class=\"plotly-graph-div\" style=\"height:700px; width:700px;\"></div>            <script type=\"text/javascript\">                                    window.PLOTLYENV=window.PLOTLYENV || {};                                    if (document.getElementById(\"24b98bcf-7cc1-4fec-bc22-73caf5b7fc1b\")) {                    Plotly.newPlot(                        \"24b98bcf-7cc1-4fec-bc22-73caf5b7fc1b\",                        [{\"alignmentgroup\":\"True\",\"hovertemplate\":\"Common words=%{y}<br>Count=%{x}<extra></extra>\",\"legendgroup\":\"love\",\"marker\":{\"color\":\"#636efa\",\"pattern\":{\"shape\":\"\"}},\"name\":\"love\",\"offsetgroup\":\"love\",\"orientation\":\"h\",\"showlegend\":true,\"textposition\":\"auto\",\"x\":[1196],\"xaxis\":\"x\",\"y\":[\"love\"],\"yaxis\":\"y\",\"type\":\"bar\"},{\"alignmentgroup\":\"True\",\"hovertemplate\":\"Common words=%{y}<br>Count=%{x}<extra></extra>\",\"legendgroup\":\"good\",\"marker\":{\"color\":\"#EF553B\",\"pattern\":{\"shape\":\"\"}},\"name\":\"good\",\"offsetgroup\":\"good\",\"orientation\":\"h\",\"showlegend\":true,\"textposition\":\"auto\",\"x\":[1079],\"xaxis\":\"x\",\"y\":[\"good\"],\"yaxis\":\"y\",\"type\":\"bar\"},{\"alignmentgroup\":\"True\",\"hovertemplate\":\"Common words=%{y}<br>Count=%{x}<extra></extra>\",\"legendgroup\":\"happi\",\"marker\":{\"color\":\"#00cc96\",\"pattern\":{\"shape\":\"\"}},\"name\":\"happi\",\"offsetgroup\":\"happi\",\"orientation\":\"h\",\"showlegend\":true,\"textposition\":\"auto\",\"x\":[870],\"xaxis\":\"x\",\"y\":[\"happi\"],\"yaxis\":\"y\",\"type\":\"bar\"},{\"alignmentgroup\":\"True\",\"hovertemplate\":\"Common words=%{y}<br>Count=%{x}<extra></extra>\",\"legendgroup\":\"thank\",\"marker\":{\"color\":\"#ab63fa\",\"pattern\":{\"shape\":\"\"}},\"name\":\"thank\",\"offsetgroup\":\"thank\",\"orientation\":\"h\",\"showlegend\":true,\"textposition\":\"auto\",\"x\":[864],\"xaxis\":\"x\",\"y\":[\"thank\"],\"yaxis\":\"y\",\"type\":\"bar\"},{\"alignmentgroup\":\"True\",\"hovertemplate\":\"Common words=%{y}<br>Count=%{x}<extra></extra>\",\"legendgroup\":\"mother\",\"marker\":{\"color\":\"#FFA15A\",\"pattern\":{\"shape\":\"\"}},\"name\":\"mother\",\"offsetgroup\":\"mother\",\"orientation\":\"h\",\"showlegend\":true,\"textposition\":\"auto\",\"x\":[677],\"xaxis\":\"x\",\"y\":[\"mother\"],\"yaxis\":\"y\",\"type\":\"bar\"},{\"alignmentgroup\":\"True\",\"hovertemplate\":\"Common words=%{y}<br>Count=%{x}<extra></extra>\",\"legendgroup\":\"hope\",\"marker\":{\"color\":\"#19d3f3\",\"pattern\":{\"shape\":\"\"}},\"name\":\"hope\",\"offsetgroup\":\"hope\",\"orientation\":\"h\",\"showlegend\":true,\"textposition\":\"auto\",\"x\":[536],\"xaxis\":\"x\",\"y\":[\"hope\"],\"yaxis\":\"y\",\"type\":\"bar\"},{\"alignmentgroup\":\"True\",\"hovertemplate\":\"Common words=%{y}<br>Count=%{x}<extra></extra>\",\"legendgroup\":\"like\",\"marker\":{\"color\":\"#FF6692\",\"pattern\":{\"shape\":\"\"}},\"name\":\"like\",\"offsetgroup\":\"like\",\"orientation\":\"h\",\"showlegend\":true,\"textposition\":\"auto\",\"x\":[487],\"xaxis\":\"x\",\"y\":[\"like\"],\"yaxis\":\"y\",\"type\":\"bar\"},{\"alignmentgroup\":\"True\",\"hovertemplate\":\"Common words=%{y}<br>Count=%{x}<extra></extra>\",\"legendgroup\":\"great\",\"marker\":{\"color\":\"#B6E880\",\"pattern\":{\"shape\":\"\"}},\"name\":\"great\",\"offsetgroup\":\"great\",\"orientation\":\"h\",\"showlegend\":true,\"textposition\":\"auto\",\"x\":[486],\"xaxis\":\"x\",\"y\":[\"great\"],\"yaxis\":\"y\",\"type\":\"bar\"},{\"alignmentgroup\":\"True\",\"hovertemplate\":\"Common words=%{y}<br>Count=%{x}<extra></extra>\",\"legendgroup\":\"get\",\"marker\":{\"color\":\"#FF97FF\",\"pattern\":{\"shape\":\"\"}},\"name\":\"get\",\"offsetgroup\":\"get\",\"orientation\":\"h\",\"showlegend\":true,\"textposition\":\"auto\",\"x\":[478],\"xaxis\":\"x\",\"y\":[\"get\"],\"yaxis\":\"y\",\"type\":\"bar\"},{\"alignmentgroup\":\"True\",\"hovertemplate\":\"Common words=%{y}<br>Count=%{x}<extra></extra>\",\"legendgroup\":\"go\",\"marker\":{\"color\":\"#FECB52\",\"pattern\":{\"shape\":\"\"}},\"name\":\"go\",\"offsetgroup\":\"go\",\"orientation\":\"h\",\"showlegend\":true,\"textposition\":\"auto\",\"x\":[400],\"xaxis\":\"x\",\"y\":[\"go\"],\"yaxis\":\"y\",\"type\":\"bar\"},{\"alignmentgroup\":\"True\",\"hovertemplate\":\"Common words=%{y}<br>Count=%{x}<extra></extra>\",\"legendgroup\":\"lol\",\"marker\":{\"color\":\"#636efa\",\"pattern\":{\"shape\":\"\"}},\"name\":\"lol\",\"offsetgroup\":\"lol\",\"orientation\":\"h\",\"showlegend\":true,\"textposition\":\"auto\",\"x\":[360],\"xaxis\":\"x\",\"y\":[\"lol\"],\"yaxis\":\"y\",\"type\":\"bar\"},{\"alignmentgroup\":\"True\",\"hovertemplate\":\"Common words=%{y}<br>Count=%{x}<extra></extra>\",\"legendgroup\":\"today\",\"marker\":{\"color\":\"#EF553B\",\"pattern\":{\"shape\":\"\"}},\"name\":\"today\",\"offsetgroup\":\"today\",\"orientation\":\"h\",\"showlegend\":true,\"textposition\":\"auto\",\"x\":[360],\"xaxis\":\"x\",\"y\":[\"today\"],\"yaxis\":\"y\",\"type\":\"bar\"},{\"alignmentgroup\":\"True\",\"hovertemplate\":\"Common words=%{y}<br>Count=%{x}<extra></extra>\",\"legendgroup\":\"fun\",\"marker\":{\"color\":\"#00cc96\",\"pattern\":{\"shape\":\"\"}},\"name\":\"fun\",\"offsetgroup\":\"fun\",\"orientation\":\"h\",\"showlegend\":true,\"textposition\":\"auto\",\"x\":[352],\"xaxis\":\"x\",\"y\":[\"fun\"],\"yaxis\":\"y\",\"type\":\"bar\"},{\"alignmentgroup\":\"True\",\"hovertemplate\":\"Common words=%{y}<br>Count=%{x}<extra></extra>\",\"legendgroup\":\"work\",\"marker\":{\"color\":\"#ab63fa\",\"pattern\":{\"shape\":\"\"}},\"name\":\"work\",\"offsetgroup\":\"work\",\"orientation\":\"h\",\"showlegend\":true,\"textposition\":\"auto\",\"x\":[352],\"xaxis\":\"x\",\"y\":[\"work\"],\"yaxis\":\"y\",\"type\":\"bar\"},{\"alignmentgroup\":\"True\",\"hovertemplate\":\"Common words=%{y}<br>Count=%{x}<extra></extra>\",\"legendgroup\":\"got\",\"marker\":{\"color\":\"#FFA15A\",\"pattern\":{\"shape\":\"\"}},\"name\":\"got\",\"offsetgroup\":\"got\",\"orientation\":\"h\",\"showlegend\":true,\"textposition\":\"auto\",\"x\":[352],\"xaxis\":\"x\",\"y\":[\"got\"],\"yaxis\":\"y\",\"type\":\"bar\"},{\"alignmentgroup\":\"True\",\"hovertemplate\":\"Common words=%{y}<br>Count=%{x}<extra></extra>\",\"legendgroup\":\"time\",\"marker\":{\"color\":\"#19d3f3\",\"pattern\":{\"shape\":\"\"}},\"name\":\"time\",\"offsetgroup\":\"time\",\"orientation\":\"h\",\"showlegend\":true,\"textposition\":\"auto\",\"x\":[351],\"xaxis\":\"x\",\"y\":[\"time\"],\"yaxis\":\"y\",\"type\":\"bar\"},{\"alignmentgroup\":\"True\",\"hovertemplate\":\"Common words=%{y}<br>Count=%{x}<extra></extra>\",\"legendgroup\":\"night\",\"marker\":{\"color\":\"#FF6692\",\"pattern\":{\"shape\":\"\"}},\"name\":\"night\",\"offsetgroup\":\"night\",\"orientation\":\"h\",\"showlegend\":true,\"textposition\":\"auto\",\"x\":[346],\"xaxis\":\"x\",\"y\":[\"night\"],\"yaxis\":\"y\",\"type\":\"bar\"},{\"alignmentgroup\":\"True\",\"hovertemplate\":\"Common words=%{y}<br>Count=%{x}<extra></extra>\",\"legendgroup\":\"nice\",\"marker\":{\"color\":\"#B6E880\",\"pattern\":{\"shape\":\"\"}},\"name\":\"nice\",\"offsetgroup\":\"nice\",\"orientation\":\"h\",\"showlegend\":true,\"textposition\":\"auto\",\"x\":[343],\"xaxis\":\"x\",\"y\":[\"nice\"],\"yaxis\":\"y\",\"type\":\"bar\"},{\"alignmentgroup\":\"True\",\"hovertemplate\":\"Common words=%{y}<br>Count=%{x}<extra></extra>\",\"legendgroup\":\"wish\",\"marker\":{\"color\":\"#FF97FF\",\"pattern\":{\"shape\":\"\"}},\"name\":\"wish\",\"offsetgroup\":\"wish\",\"orientation\":\"h\",\"showlegend\":true,\"textposition\":\"auto\",\"x\":[325],\"xaxis\":\"x\",\"y\":[\"wish\"],\"yaxis\":\"y\",\"type\":\"bar\"},{\"alignmentgroup\":\"True\",\"hovertemplate\":\"Common words=%{y}<br>Count=%{x}<extra></extra>\",\"legendgroup\":\"one\",\"marker\":{\"color\":\"#FECB52\",\"pattern\":{\"shape\":\"\"}},\"name\":\"one\",\"offsetgroup\":\"one\",\"orientation\":\"h\",\"showlegend\":true,\"textposition\":\"auto\",\"x\":[324],\"xaxis\":\"x\",\"y\":[\"one\"],\"yaxis\":\"y\",\"type\":\"bar\"},{\"alignmentgroup\":\"True\",\"hovertemplate\":\"Common words=%{y}<br>Count=%{x}<extra></extra>\",\"legendgroup\":\"see\",\"marker\":{\"color\":\"#636efa\",\"pattern\":{\"shape\":\"\"}},\"name\":\"see\",\"offsetgroup\":\"see\",\"orientation\":\"h\",\"showlegend\":true,\"textposition\":\"auto\",\"x\":[315],\"xaxis\":\"x\",\"y\":[\"see\"],\"yaxis\":\"y\",\"type\":\"bar\"},{\"alignmentgroup\":\"True\",\"hovertemplate\":\"Common words=%{y}<br>Count=%{x}<extra></extra>\",\"legendgroup\":\"realli\",\"marker\":{\"color\":\"#EF553B\",\"pattern\":{\"shape\":\"\"}},\"name\":\"realli\",\"offsetgroup\":\"realli\",\"orientation\":\"h\",\"showlegend\":true,\"textposition\":\"auto\",\"x\":[312],\"xaxis\":\"x\",\"y\":[\"realli\"],\"yaxis\":\"y\",\"type\":\"bar\"},{\"alignmentgroup\":\"True\",\"hovertemplate\":\"Common words=%{y}<br>Count=%{x}<extra></extra>\",\"legendgroup\":\"morn\",\"marker\":{\"color\":\"#00cc96\",\"pattern\":{\"shape\":\"\"}},\"name\":\"morn\",\"offsetgroup\":\"morn\",\"orientation\":\"h\",\"showlegend\":true,\"textposition\":\"auto\",\"x\":[300],\"xaxis\":\"x\",\"y\":[\"morn\"],\"yaxis\":\"y\",\"type\":\"bar\"},{\"alignmentgroup\":\"True\",\"hovertemplate\":\"Common words=%{y}<br>Count=%{x}<extra></extra>\",\"legendgroup\":\"look\",\"marker\":{\"color\":\"#ab63fa\",\"pattern\":{\"shape\":\"\"}},\"name\":\"look\",\"offsetgroup\":\"look\",\"orientation\":\"h\",\"showlegend\":true,\"textposition\":\"auto\",\"x\":[297],\"xaxis\":\"x\",\"y\":[\"look\"],\"yaxis\":\"y\",\"type\":\"bar\"}],                        {\"template\":{\"data\":{\"bar\":[{\"error_x\":{\"color\":\"#2a3f5f\"},\"error_y\":{\"color\":\"#2a3f5f\"},\"marker\":{\"line\":{\"color\":\"#E5ECF6\",\"width\":0.5},\"pattern\":{\"fillmode\":\"overlay\",\"size\":10,\"solidity\":0.2}},\"type\":\"bar\"}],\"barpolar\":[{\"marker\":{\"line\":{\"color\":\"#E5ECF6\",\"width\":0.5},\"pattern\":{\"fillmode\":\"overlay\",\"size\":10,\"solidity\":0.2}},\"type\":\"barpolar\"}],\"carpet\":[{\"aaxis\":{\"endlinecolor\":\"#2a3f5f\",\"gridcolor\":\"white\",\"linecolor\":\"white\",\"minorgridcolor\":\"white\",\"startlinecolor\":\"#2a3f5f\"},\"baxis\":{\"endlinecolor\":\"#2a3f5f\",\"gridcolor\":\"white\",\"linecolor\":\"white\",\"minorgridcolor\":\"white\",\"startlinecolor\":\"#2a3f5f\"},\"type\":\"carpet\"}],\"choropleth\":[{\"colorbar\":{\"outlinewidth\":0,\"ticks\":\"\"},\"type\":\"choropleth\"}],\"contour\":[{\"colorbar\":{\"outlinewidth\":0,\"ticks\":\"\"},\"colorscale\":[[0.0,\"#0d0887\"],[0.1111111111111111,\"#46039f\"],[0.2222222222222222,\"#7201a8\"],[0.3333333333333333,\"#9c179e\"],[0.4444444444444444,\"#bd3786\"],[0.5555555555555556,\"#d8576b\"],[0.6666666666666666,\"#ed7953\"],[0.7777777777777778,\"#fb9f3a\"],[0.8888888888888888,\"#fdca26\"],[1.0,\"#f0f921\"]],\"type\":\"contour\"}],\"contourcarpet\":[{\"colorbar\":{\"outlinewidth\":0,\"ticks\":\"\"},\"type\":\"contourcarpet\"}],\"heatmap\":[{\"colorbar\":{\"outlinewidth\":0,\"ticks\":\"\"},\"colorscale\":[[0.0,\"#0d0887\"],[0.1111111111111111,\"#46039f\"],[0.2222222222222222,\"#7201a8\"],[0.3333333333333333,\"#9c179e\"],[0.4444444444444444,\"#bd3786\"],[0.5555555555555556,\"#d8576b\"],[0.6666666666666666,\"#ed7953\"],[0.7777777777777778,\"#fb9f3a\"],[0.8888888888888888,\"#fdca26\"],[1.0,\"#f0f921\"]],\"type\":\"heatmap\"}],\"heatmapgl\":[{\"colorbar\":{\"outlinewidth\":0,\"ticks\":\"\"},\"colorscale\":[[0.0,\"#0d0887\"],[0.1111111111111111,\"#46039f\"],[0.2222222222222222,\"#7201a8\"],[0.3333333333333333,\"#9c179e\"],[0.4444444444444444,\"#bd3786\"],[0.5555555555555556,\"#d8576b\"],[0.6666666666666666,\"#ed7953\"],[0.7777777777777778,\"#fb9f3a\"],[0.8888888888888888,\"#fdca26\"],[1.0,\"#f0f921\"]],\"type\":\"heatmapgl\"}],\"histogram\":[{\"marker\":{\"pattern\":{\"fillmode\":\"overlay\",\"size\":10,\"solidity\":0.2}},\"type\":\"histogram\"}],\"histogram2d\":[{\"colorbar\":{\"outlinewidth\":0,\"ticks\":\"\"},\"colorscale\":[[0.0,\"#0d0887\"],[0.1111111111111111,\"#46039f\"],[0.2222222222222222,\"#7201a8\"],[0.3333333333333333,\"#9c179e\"],[0.4444444444444444,\"#bd3786\"],[0.5555555555555556,\"#d8576b\"],[0.6666666666666666,\"#ed7953\"],[0.7777777777777778,\"#fb9f3a\"],[0.8888888888888888,\"#fdca26\"],[1.0,\"#f0f921\"]],\"type\":\"histogram2d\"}],\"histogram2dcontour\":[{\"colorbar\":{\"outlinewidth\":0,\"ticks\":\"\"},\"colorscale\":[[0.0,\"#0d0887\"],[0.1111111111111111,\"#46039f\"],[0.2222222222222222,\"#7201a8\"],[0.3333333333333333,\"#9c179e\"],[0.4444444444444444,\"#bd3786\"],[0.5555555555555556,\"#d8576b\"],[0.6666666666666666,\"#ed7953\"],[0.7777777777777778,\"#fb9f3a\"],[0.8888888888888888,\"#fdca26\"],[1.0,\"#f0f921\"]],\"type\":\"histogram2dcontour\"}],\"mesh3d\":[{\"colorbar\":{\"outlinewidth\":0,\"ticks\":\"\"},\"type\":\"mesh3d\"}],\"parcoords\":[{\"line\":{\"colorbar\":{\"outlinewidth\":0,\"ticks\":\"\"}},\"type\":\"parcoords\"}],\"pie\":[{\"automargin\":true,\"type\":\"pie\"}],\"scatter\":[{\"marker\":{\"colorbar\":{\"outlinewidth\":0,\"ticks\":\"\"}},\"type\":\"scatter\"}],\"scatter3d\":[{\"line\":{\"colorbar\":{\"outlinewidth\":0,\"ticks\":\"\"}},\"marker\":{\"colorbar\":{\"outlinewidth\":0,\"ticks\":\"\"}},\"type\":\"scatter3d\"}],\"scattercarpet\":[{\"marker\":{\"colorbar\":{\"outlinewidth\":0,\"ticks\":\"\"}},\"type\":\"scattercarpet\"}],\"scattergeo\":[{\"marker\":{\"colorbar\":{\"outlinewidth\":0,\"ticks\":\"\"}},\"type\":\"scattergeo\"}],\"scattergl\":[{\"marker\":{\"colorbar\":{\"outlinewidth\":0,\"ticks\":\"\"}},\"type\":\"scattergl\"}],\"scattermapbox\":[{\"marker\":{\"colorbar\":{\"outlinewidth\":0,\"ticks\":\"\"}},\"type\":\"scattermapbox\"}],\"scatterpolar\":[{\"marker\":{\"colorbar\":{\"outlinewidth\":0,\"ticks\":\"\"}},\"type\":\"scatterpolar\"}],\"scatterpolargl\":[{\"marker\":{\"colorbar\":{\"outlinewidth\":0,\"ticks\":\"\"}},\"type\":\"scatterpolargl\"}],\"scatterternary\":[{\"marker\":{\"colorbar\":{\"outlinewidth\":0,\"ticks\":\"\"}},\"type\":\"scatterternary\"}],\"surface\":[{\"colorbar\":{\"outlinewidth\":0,\"ticks\":\"\"},\"colorscale\":[[0.0,\"#0d0887\"],[0.1111111111111111,\"#46039f\"],[0.2222222222222222,\"#7201a8\"],[0.3333333333333333,\"#9c179e\"],[0.4444444444444444,\"#bd3786\"],[0.5555555555555556,\"#d8576b\"],[0.6666666666666666,\"#ed7953\"],[0.7777777777777778,\"#fb9f3a\"],[0.8888888888888888,\"#fdca26\"],[1.0,\"#f0f921\"]],\"type\":\"surface\"}],\"table\":[{\"cells\":{\"fill\":{\"color\":\"#EBF0F8\"},\"line\":{\"color\":\"white\"}},\"header\":{\"fill\":{\"color\":\"#C8D4E3\"},\"line\":{\"color\":\"white\"}},\"type\":\"table\"}]},\"layout\":{\"annotationdefaults\":{\"arrowcolor\":\"#2a3f5f\",\"arrowhead\":0,\"arrowwidth\":1},\"autotypenumbers\":\"strict\",\"coloraxis\":{\"colorbar\":{\"outlinewidth\":0,\"ticks\":\"\"}},\"colorscale\":{\"diverging\":[[0,\"#8e0152\"],[0.1,\"#c51b7d\"],[0.2,\"#de77ae\"],[0.3,\"#f1b6da\"],[0.4,\"#fde0ef\"],[0.5,\"#f7f7f7\"],[0.6,\"#e6f5d0\"],[0.7,\"#b8e186\"],[0.8,\"#7fbc41\"],[0.9,\"#4d9221\"],[1,\"#276419\"]],\"sequential\":[[0.0,\"#0d0887\"],[0.1111111111111111,\"#46039f\"],[0.2222222222222222,\"#7201a8\"],[0.3333333333333333,\"#9c179e\"],[0.4444444444444444,\"#bd3786\"],[0.5555555555555556,\"#d8576b\"],[0.6666666666666666,\"#ed7953\"],[0.7777777777777778,\"#fb9f3a\"],[0.8888888888888888,\"#fdca26\"],[1.0,\"#f0f921\"]],\"sequentialminus\":[[0.0,\"#0d0887\"],[0.1111111111111111,\"#46039f\"],[0.2222222222222222,\"#7201a8\"],[0.3333333333333333,\"#9c179e\"],[0.4444444444444444,\"#bd3786\"],[0.5555555555555556,\"#d8576b\"],[0.6666666666666666,\"#ed7953\"],[0.7777777777777778,\"#fb9f3a\"],[0.8888888888888888,\"#fdca26\"],[1.0,\"#f0f921\"]]},\"colorway\":[\"#636efa\",\"#EF553B\",\"#00cc96\",\"#ab63fa\",\"#FFA15A\",\"#19d3f3\",\"#FF6692\",\"#B6E880\",\"#FF97FF\",\"#FECB52\"],\"font\":{\"color\":\"#2a3f5f\"},\"geo\":{\"bgcolor\":\"white\",\"lakecolor\":\"white\",\"landcolor\":\"#E5ECF6\",\"showlakes\":true,\"showland\":true,\"subunitcolor\":\"white\"},\"hoverlabel\":{\"align\":\"left\"},\"hovermode\":\"closest\",\"mapbox\":{\"style\":\"light\"},\"paper_bgcolor\":\"white\",\"plot_bgcolor\":\"#E5ECF6\",\"polar\":{\"angularaxis\":{\"gridcolor\":\"white\",\"linecolor\":\"white\",\"ticks\":\"\"},\"bgcolor\":\"#E5ECF6\",\"radialaxis\":{\"gridcolor\":\"white\",\"linecolor\":\"white\",\"ticks\":\"\"}},\"scene\":{\"xaxis\":{\"backgroundcolor\":\"#E5ECF6\",\"gridcolor\":\"white\",\"gridwidth\":2,\"linecolor\":\"white\",\"showbackground\":true,\"ticks\":\"\",\"zerolinecolor\":\"white\"},\"yaxis\":{\"backgroundcolor\":\"#E5ECF6\",\"gridcolor\":\"white\",\"gridwidth\":2,\"linecolor\":\"white\",\"showbackground\":true,\"ticks\":\"\",\"zerolinecolor\":\"white\"},\"zaxis\":{\"backgroundcolor\":\"#E5ECF6\",\"gridcolor\":\"white\",\"gridwidth\":2,\"linecolor\":\"white\",\"showbackground\":true,\"ticks\":\"\",\"zerolinecolor\":\"white\"}},\"shapedefaults\":{\"line\":{\"color\":\"#2a3f5f\"}},\"ternary\":{\"aaxis\":{\"gridcolor\":\"white\",\"linecolor\":\"white\",\"ticks\":\"\"},\"baxis\":{\"gridcolor\":\"white\",\"linecolor\":\"white\",\"ticks\":\"\"},\"bgcolor\":\"#E5ECF6\",\"caxis\":{\"gridcolor\":\"white\",\"linecolor\":\"white\",\"ticks\":\"\"}},\"title\":{\"x\":0.05},\"xaxis\":{\"automargin\":true,\"gridcolor\":\"white\",\"linecolor\":\"white\",\"ticks\":\"\",\"title\":{\"standoff\":15},\"zerolinecolor\":\"white\",\"zerolinewidth\":2},\"yaxis\":{\"automargin\":true,\"gridcolor\":\"white\",\"linecolor\":\"white\",\"ticks\":\"\",\"title\":{\"standoff\":15},\"zerolinecolor\":\"white\",\"zerolinewidth\":2}}},\"xaxis\":{\"anchor\":\"y\",\"domain\":[0.0,1.0],\"title\":{\"text\":\"Count\"}},\"yaxis\":{\"anchor\":\"x\",\"domain\":[0.0,1.0],\"title\":{\"text\":\"Common words\"},\"categoryorder\":\"array\",\"categoryarray\":[\"look\",\"morn\",\"realli\",\"see\",\"one\",\"wish\",\"nice\",\"night\",\"time\",\"got\",\"work\",\"fun\",\"today\",\"lol\",\"go\",\"get\",\"great\",\"like\",\"hope\",\"mother\",\"thank\",\"happi\",\"good\",\"love\"]},\"legend\":{\"title\":{\"text\":\"Common words\"},\"tracegroupgap\":0},\"title\":{\"text\":\"Most commmon positive words\"},\"barmode\":\"relative\",\"height\":700,\"width\":700},                        {\"responsive\": true}                    ).then(function(){\n",
              "                            \n",
              "var gd = document.getElementById('24b98bcf-7cc1-4fec-bc22-73caf5b7fc1b');\n",
              "var x = new MutationObserver(function (mutations, observer) {{\n",
              "        var display = window.getComputedStyle(gd).display;\n",
              "        if (!display || display === 'none') {{\n",
              "            console.log([gd, 'removed!']);\n",
              "            Plotly.purge(gd);\n",
              "            observer.disconnect();\n",
              "        }}\n",
              "}});\n",
              "\n",
              "// Listen for the removal of the full notebook cells\n",
              "var notebookContainer = gd.closest('#notebook-container');\n",
              "if (notebookContainer) {{\n",
              "    x.observe(notebookContainer, {childList: true});\n",
              "}}\n",
              "\n",
              "// Listen for the clearing of the current output cell\n",
              "var outputEl = gd.closest('.output');\n",
              "if (outputEl) {{\n",
              "    x.observe(outputEl, {childList: true});\n",
              "}}\n",
              "\n",
              "                        })                };                            </script>        </div>\n",
              "</body>\n",
              "</html>"
            ]
          },
          "metadata": {}
        }
      ]
    },
    {
      "cell_type": "code",
      "source": [
        "#Most common negative words\n",
        "\n",
        "neg = train[train['sentiment']=='negative']\n",
        "\n",
        "tempList = neg['text'].apply(lambda x:str(x).split())\n",
        "\n",
        "top = Counter([item for sublist in tempList for item in sublist])\n",
        "temp = pd.DataFrame(top.most_common(25))\n",
        "temp = temp.iloc[1:,:]\n",
        "temp.columns = ['Common words','Count']\n",
        "temp.style.background_gradient(cmap='Blues')"
      ],
      "metadata": {
        "id": "z1xgOK6xSd0P",
        "outputId": "e02c764f-a34c-4096-e78d-aab9341ca5c2",
        "colab": {
          "base_uri": "https://localhost:8080/",
          "height": 802
        }
      },
      "execution_count": 79,
      "outputs": [
        {
          "output_type": "execute_result",
          "data": {
            "text/plain": [
              "<pandas.io.formats.style.Styler at 0x7f10144c6dd0>"
            ],
            "text/html": [
              "<style type=\"text/css\">\n",
              "#T_fc7fb_row0_col1 {\n",
              "  background-color: #08306b;\n",
              "  color: #f1f1f1;\n",
              "}\n",
              "#T_fc7fb_row1_col1 {\n",
              "  background-color: #2272b6;\n",
              "  color: #f1f1f1;\n",
              "}\n",
              "#T_fc7fb_row2_col1 {\n",
              "  background-color: #2474b7;\n",
              "  color: #f1f1f1;\n",
              "}\n",
              "#T_fc7fb_row3_col1 {\n",
              "  background-color: #3181bd;\n",
              "  color: #f1f1f1;\n",
              "}\n",
              "#T_fc7fb_row4_col1 {\n",
              "  background-color: #3383be;\n",
              "  color: #f1f1f1;\n",
              "}\n",
              "#T_fc7fb_row5_col1 {\n",
              "  background-color: #4292c6;\n",
              "  color: #f1f1f1;\n",
              "}\n",
              "#T_fc7fb_row6_col1 {\n",
              "  background-color: #68acd5;\n",
              "  color: #f1f1f1;\n",
              "}\n",
              "#T_fc7fb_row7_col1 {\n",
              "  background-color: #6aaed6;\n",
              "  color: #f1f1f1;\n",
              "}\n",
              "#T_fc7fb_row8_col1 {\n",
              "  background-color: #7ab6d9;\n",
              "  color: #000000;\n",
              "}\n",
              "#T_fc7fb_row9_col1 {\n",
              "  background-color: #a9cfe5;\n",
              "  color: #000000;\n",
              "}\n",
              "#T_fc7fb_row10_col1 {\n",
              "  background-color: #aed1e7;\n",
              "  color: #000000;\n",
              "}\n",
              "#T_fc7fb_row11_col1 {\n",
              "  background-color: #b0d2e7;\n",
              "  color: #000000;\n",
              "}\n",
              "#T_fc7fb_row12_col1 {\n",
              "  background-color: #b7d4ea;\n",
              "  color: #000000;\n",
              "}\n",
              "#T_fc7fb_row13_col1 {\n",
              "  background-color: #cbdef1;\n",
              "  color: #000000;\n",
              "}\n",
              "#T_fc7fb_row14_col1 {\n",
              "  background-color: #cddff1;\n",
              "  color: #000000;\n",
              "}\n",
              "#T_fc7fb_row15_col1, #T_fc7fb_row16_col1 {\n",
              "  background-color: #cee0f2;\n",
              "  color: #000000;\n",
              "}\n",
              "#T_fc7fb_row17_col1 {\n",
              "  background-color: #dce9f6;\n",
              "  color: #000000;\n",
              "}\n",
              "#T_fc7fb_row18_col1 {\n",
              "  background-color: #deebf7;\n",
              "  color: #000000;\n",
              "}\n",
              "#T_fc7fb_row19_col1 {\n",
              "  background-color: #e7f0fa;\n",
              "  color: #000000;\n",
              "}\n",
              "#T_fc7fb_row20_col1 {\n",
              "  background-color: #eef5fc;\n",
              "  color: #000000;\n",
              "}\n",
              "#T_fc7fb_row21_col1 {\n",
              "  background-color: #eff6fc;\n",
              "  color: #000000;\n",
              "}\n",
              "#T_fc7fb_row22_col1 {\n",
              "  background-color: #f3f8fe;\n",
              "  color: #000000;\n",
              "}\n",
              "#T_fc7fb_row23_col1 {\n",
              "  background-color: #f7fbff;\n",
              "  color: #000000;\n",
              "}\n",
              "</style>\n",
              "<table id=\"T_fc7fb_\" class=\"dataframe\">\n",
              "  <thead>\n",
              "    <tr>\n",
              "      <th class=\"blank level0\" >&nbsp;</th>\n",
              "      <th class=\"col_heading level0 col0\" >Common words</th>\n",
              "      <th class=\"col_heading level0 col1\" >Count</th>\n",
              "    </tr>\n",
              "  </thead>\n",
              "  <tbody>\n",
              "    <tr>\n",
              "      <th id=\"T_fc7fb_level0_row0\" class=\"row_heading level0 row0\" >1</th>\n",
              "      <td id=\"T_fc7fb_row0_col0\" class=\"data row0 col0\" >get</td>\n",
              "      <td id=\"T_fc7fb_row0_col1\" class=\"data row0 col1\" >613</td>\n",
              "    </tr>\n",
              "    <tr>\n",
              "      <th id=\"T_fc7fb_level0_row1\" class=\"row_heading level0 row1\" >2</th>\n",
              "      <td id=\"T_fc7fb_row1_col0\" class=\"data row1 col0\" >go</td>\n",
              "      <td id=\"T_fc7fb_row1_col1\" class=\"data row1 col1\" >514</td>\n",
              "    </tr>\n",
              "    <tr>\n",
              "      <th id=\"T_fc7fb_level0_row2\" class=\"row_heading level0 row2\" >3</th>\n",
              "      <td id=\"T_fc7fb_row2_col0\" class=\"data row2 col0\" >work</td>\n",
              "      <td id=\"T_fc7fb_row2_col1\" class=\"data row2 col1\" >512</td>\n",
              "    </tr>\n",
              "    <tr>\n",
              "      <th id=\"T_fc7fb_level0_row3\" class=\"row_heading level0 row3\" >4</th>\n",
              "      <td id=\"T_fc7fb_row3_col0\" class=\"data row3 col0\" >like</td>\n",
              "      <td id=\"T_fc7fb_row3_col1\" class=\"data row3 col1\" >493</td>\n",
              "    </tr>\n",
              "    <tr>\n",
              "      <th id=\"T_fc7fb_level0_row4\" class=\"row_heading level0 row4\" >5</th>\n",
              "      <td id=\"T_fc7fb_row4_col0\" class=\"data row4 col0\" >cannot</td>\n",
              "      <td id=\"T_fc7fb_row4_col1\" class=\"data row4 col1\" >490</td>\n",
              "    </tr>\n",
              "    <tr>\n",
              "      <th id=\"T_fc7fb_level0_row5\" class=\"row_heading level0 row5\" >6</th>\n",
              "      <td id=\"T_fc7fb_row5_col0\" class=\"data row5 col0\" >feel</td>\n",
              "      <td id=\"T_fc7fb_row5_col1\" class=\"data row5 col1\" >468</td>\n",
              "    </tr>\n",
              "    <tr>\n",
              "      <th id=\"T_fc7fb_level0_row6\" class=\"row_heading level0 row6\" >7</th>\n",
              "      <td id=\"T_fc7fb_row6_col0\" class=\"data row6 col0\" >day</td>\n",
              "      <td id=\"T_fc7fb_row6_col1\" class=\"data row6 col1\" >424</td>\n",
              "    </tr>\n",
              "    <tr>\n",
              "      <th id=\"T_fc7fb_level0_row7\" class=\"row_heading level0 row7\" >8</th>\n",
              "      <td id=\"T_fc7fb_row7_col0\" class=\"data row7 col0\" >want</td>\n",
              "      <td id=\"T_fc7fb_row7_col1\" class=\"data row7 col1\" >422</td>\n",
              "    </tr>\n",
              "    <tr>\n",
              "      <th id=\"T_fc7fb_level0_row8\" class=\"row_heading level0 row8\" >9</th>\n",
              "      <td id=\"T_fc7fb_row8_col0\" class=\"data row8 col0\" >sad</td>\n",
              "      <td id=\"T_fc7fb_row8_col1\" class=\"data row8 col1\" >406</td>\n",
              "    </tr>\n",
              "    <tr>\n",
              "      <th id=\"T_fc7fb_level0_row9\" class=\"row_heading level0 row9\" >10</th>\n",
              "      <td id=\"T_fc7fb_row9_col0\" class=\"data row9 col0\" >got</td>\n",
              "      <td id=\"T_fc7fb_row9_col1\" class=\"data row9 col1\" >360</td>\n",
              "    </tr>\n",
              "    <tr>\n",
              "      <th id=\"T_fc7fb_level0_row10\" class=\"row_heading level0 row10\" >11</th>\n",
              "      <td id=\"T_fc7fb_row10_col0\" class=\"data row10 col0\" >sorri</td>\n",
              "      <td id=\"T_fc7fb_row10_col1\" class=\"data row10 col1\" >354</td>\n",
              "    </tr>\n",
              "    <tr>\n",
              "      <th id=\"T_fc7fb_level0_row11\" class=\"row_heading level0 row11\" >12</th>\n",
              "      <td id=\"T_fc7fb_row11_col0\" class=\"data row11 col0\" >realli</td>\n",
              "      <td id=\"T_fc7fb_row11_col1\" class=\"data row11 col1\" >350</td>\n",
              "    </tr>\n",
              "    <tr>\n",
              "      <th id=\"T_fc7fb_level0_row12\" class=\"row_heading level0 row12\" >13</th>\n",
              "      <td id=\"T_fc7fb_row12_col0\" class=\"data row12 col0\" >today</td>\n",
              "      <td id=\"T_fc7fb_row12_col1\" class=\"data row12 col1\" >343</td>\n",
              "    </tr>\n",
              "    <tr>\n",
              "      <th id=\"T_fc7fb_level0_row13\" class=\"row_heading level0 row13\" >14</th>\n",
              "      <td id=\"T_fc7fb_row13_col0\" class=\"data row13 col0\" >know</td>\n",
              "      <td id=\"T_fc7fb_row13_col1\" class=\"data row13 col1\" >314</td>\n",
              "    </tr>\n",
              "    <tr>\n",
              "      <th id=\"T_fc7fb_level0_row14\" class=\"row_heading level0 row14\" >15</th>\n",
              "      <td id=\"T_fc7fb_row14_col0\" class=\"data row14 col0\" >hate</td>\n",
              "      <td id=\"T_fc7fb_row14_col1\" class=\"data row14 col1\" >312</td>\n",
              "    </tr>\n",
              "    <tr>\n",
              "      <th id=\"T_fc7fb_level0_row15\" class=\"row_heading level0 row15\" >16</th>\n",
              "      <td id=\"T_fc7fb_row15_col0\" class=\"data row15 col0\" >one</td>\n",
              "      <td id=\"T_fc7fb_row15_col1\" class=\"data row15 col1\" >309</td>\n",
              "    </tr>\n",
              "    <tr>\n",
              "      <th id=\"T_fc7fb_level0_row16\" class=\"row_heading level0 row16\" >17</th>\n",
              "      <td id=\"T_fc7fb_row16_col0\" class=\"data row16 col0\" >bad</td>\n",
              "      <td id=\"T_fc7fb_row16_col1\" class=\"data row16 col1\" >308</td>\n",
              "    </tr>\n",
              "    <tr>\n",
              "      <th id=\"T_fc7fb_level0_row17\" class=\"row_heading level0 row17\" >18</th>\n",
              "      <td id=\"T_fc7fb_row17_col0\" class=\"data row17 col0\" >think</td>\n",
              "      <td id=\"T_fc7fb_row17_col1\" class=\"data row17 col1\" >282</td>\n",
              "    </tr>\n",
              "    <tr>\n",
              "      <th id=\"T_fc7fb_level0_row18\" class=\"row_heading level0 row18\" >19</th>\n",
              "      <td id=\"T_fc7fb_row18_col0\" class=\"data row18 col0\" >time</td>\n",
              "      <td id=\"T_fc7fb_row18_col1\" class=\"data row18 col1\" >277</td>\n",
              "    </tr>\n",
              "    <tr>\n",
              "      <th id=\"T_fc7fb_level0_row19\" class=\"row_heading level0 row19\" >20</th>\n",
              "      <td id=\"T_fc7fb_row19_col0\" class=\"data row19 col0\" >suck</td>\n",
              "      <td id=\"T_fc7fb_row19_col1\" class=\"data row19 col1\" >260</td>\n",
              "    </tr>\n",
              "    <tr>\n",
              "      <th id=\"T_fc7fb_level0_row20\" class=\"row_heading level0 row20\" >21</th>\n",
              "      <td id=\"T_fc7fb_row20_col0\" class=\"data row20 col0\" >still</td>\n",
              "      <td id=\"T_fc7fb_row20_col1\" class=\"data row20 col1\" >247</td>\n",
              "    </tr>\n",
              "    <tr>\n",
              "      <th id=\"T_fc7fb_level0_row21\" class=\"row_heading level0 row21\" >22</th>\n",
              "      <td id=\"T_fc7fb_row21_col0\" class=\"data row21 col0\" >back</td>\n",
              "      <td id=\"T_fc7fb_row21_col1\" class=\"data row21 col1\" >244</td>\n",
              "    </tr>\n",
              "    <tr>\n",
              "      <th id=\"T_fc7fb_level0_row22\" class=\"row_heading level0 row22\" >23</th>\n",
              "      <td id=\"T_fc7fb_row22_col0\" class=\"data row22 col0\" >make</td>\n",
              "      <td id=\"T_fc7fb_row22_col1\" class=\"data row22 col1\" >237</td>\n",
              "    </tr>\n",
              "    <tr>\n",
              "      <th id=\"T_fc7fb_level0_row23\" class=\"row_heading level0 row23\" >24</th>\n",
              "      <td id=\"T_fc7fb_row23_col0\" class=\"data row23 col0\" >much</td>\n",
              "      <td id=\"T_fc7fb_row23_col1\" class=\"data row23 col1\" >228</td>\n",
              "    </tr>\n",
              "  </tbody>\n",
              "</table>\n"
            ]
          },
          "metadata": {},
          "execution_count": 79
        }
      ]
    },
    {
      "cell_type": "code",
      "source": [
        "fig = px.bar(temp, x=\"Count\", y=\"Common words\", title='Most commmon negative words', orientation='h', width=700, height=700,color='Common words')\n",
        "fig.show()"
      ],
      "metadata": {
        "id": "GKd7RxydUd1o",
        "outputId": "f837be51-25c5-46ca-f403-54b8cc835670",
        "colab": {
          "base_uri": "https://localhost:8080/",
          "height": 717
        }
      },
      "execution_count": 80,
      "outputs": [
        {
          "output_type": "display_data",
          "data": {
            "text/html": [
              "<html>\n",
              "<head><meta charset=\"utf-8\" /></head>\n",
              "<body>\n",
              "    <div>            <script src=\"https://cdnjs.cloudflare.com/ajax/libs/mathjax/2.7.5/MathJax.js?config=TeX-AMS-MML_SVG\"></script><script type=\"text/javascript\">if (window.MathJax) {MathJax.Hub.Config({SVG: {font: \"STIX-Web\"}});}</script>                <script type=\"text/javascript\">window.PlotlyConfig = {MathJaxConfig: 'local'};</script>\n",
              "        <script src=\"https://cdn.plot.ly/plotly-2.8.3.min.js\"></script>                <div id=\"816bfc32-c2b1-4d1b-81ed-5806c6ff8dd2\" class=\"plotly-graph-div\" style=\"height:700px; width:700px;\"></div>            <script type=\"text/javascript\">                                    window.PLOTLYENV=window.PLOTLYENV || {};                                    if (document.getElementById(\"816bfc32-c2b1-4d1b-81ed-5806c6ff8dd2\")) {                    Plotly.newPlot(                        \"816bfc32-c2b1-4d1b-81ed-5806c6ff8dd2\",                        [{\"alignmentgroup\":\"True\",\"hovertemplate\":\"Common words=%{y}<br>Count=%{x}<extra></extra>\",\"legendgroup\":\"get\",\"marker\":{\"color\":\"#636efa\",\"pattern\":{\"shape\":\"\"}},\"name\":\"get\",\"offsetgroup\":\"get\",\"orientation\":\"h\",\"showlegend\":true,\"textposition\":\"auto\",\"x\":[613],\"xaxis\":\"x\",\"y\":[\"get\"],\"yaxis\":\"y\",\"type\":\"bar\"},{\"alignmentgroup\":\"True\",\"hovertemplate\":\"Common words=%{y}<br>Count=%{x}<extra></extra>\",\"legendgroup\":\"go\",\"marker\":{\"color\":\"#EF553B\",\"pattern\":{\"shape\":\"\"}},\"name\":\"go\",\"offsetgroup\":\"go\",\"orientation\":\"h\",\"showlegend\":true,\"textposition\":\"auto\",\"x\":[514],\"xaxis\":\"x\",\"y\":[\"go\"],\"yaxis\":\"y\",\"type\":\"bar\"},{\"alignmentgroup\":\"True\",\"hovertemplate\":\"Common words=%{y}<br>Count=%{x}<extra></extra>\",\"legendgroup\":\"work\",\"marker\":{\"color\":\"#00cc96\",\"pattern\":{\"shape\":\"\"}},\"name\":\"work\",\"offsetgroup\":\"work\",\"orientation\":\"h\",\"showlegend\":true,\"textposition\":\"auto\",\"x\":[512],\"xaxis\":\"x\",\"y\":[\"work\"],\"yaxis\":\"y\",\"type\":\"bar\"},{\"alignmentgroup\":\"True\",\"hovertemplate\":\"Common words=%{y}<br>Count=%{x}<extra></extra>\",\"legendgroup\":\"like\",\"marker\":{\"color\":\"#ab63fa\",\"pattern\":{\"shape\":\"\"}},\"name\":\"like\",\"offsetgroup\":\"like\",\"orientation\":\"h\",\"showlegend\":true,\"textposition\":\"auto\",\"x\":[493],\"xaxis\":\"x\",\"y\":[\"like\"],\"yaxis\":\"y\",\"type\":\"bar\"},{\"alignmentgroup\":\"True\",\"hovertemplate\":\"Common words=%{y}<br>Count=%{x}<extra></extra>\",\"legendgroup\":\"cannot\",\"marker\":{\"color\":\"#FFA15A\",\"pattern\":{\"shape\":\"\"}},\"name\":\"cannot\",\"offsetgroup\":\"cannot\",\"orientation\":\"h\",\"showlegend\":true,\"textposition\":\"auto\",\"x\":[490],\"xaxis\":\"x\",\"y\":[\"cannot\"],\"yaxis\":\"y\",\"type\":\"bar\"},{\"alignmentgroup\":\"True\",\"hovertemplate\":\"Common words=%{y}<br>Count=%{x}<extra></extra>\",\"legendgroup\":\"feel\",\"marker\":{\"color\":\"#19d3f3\",\"pattern\":{\"shape\":\"\"}},\"name\":\"feel\",\"offsetgroup\":\"feel\",\"orientation\":\"h\",\"showlegend\":true,\"textposition\":\"auto\",\"x\":[468],\"xaxis\":\"x\",\"y\":[\"feel\"],\"yaxis\":\"y\",\"type\":\"bar\"},{\"alignmentgroup\":\"True\",\"hovertemplate\":\"Common words=%{y}<br>Count=%{x}<extra></extra>\",\"legendgroup\":\"day\",\"marker\":{\"color\":\"#FF6692\",\"pattern\":{\"shape\":\"\"}},\"name\":\"day\",\"offsetgroup\":\"day\",\"orientation\":\"h\",\"showlegend\":true,\"textposition\":\"auto\",\"x\":[424],\"xaxis\":\"x\",\"y\":[\"day\"],\"yaxis\":\"y\",\"type\":\"bar\"},{\"alignmentgroup\":\"True\",\"hovertemplate\":\"Common words=%{y}<br>Count=%{x}<extra></extra>\",\"legendgroup\":\"want\",\"marker\":{\"color\":\"#B6E880\",\"pattern\":{\"shape\":\"\"}},\"name\":\"want\",\"offsetgroup\":\"want\",\"orientation\":\"h\",\"showlegend\":true,\"textposition\":\"auto\",\"x\":[422],\"xaxis\":\"x\",\"y\":[\"want\"],\"yaxis\":\"y\",\"type\":\"bar\"},{\"alignmentgroup\":\"True\",\"hovertemplate\":\"Common words=%{y}<br>Count=%{x}<extra></extra>\",\"legendgroup\":\"sad\",\"marker\":{\"color\":\"#FF97FF\",\"pattern\":{\"shape\":\"\"}},\"name\":\"sad\",\"offsetgroup\":\"sad\",\"orientation\":\"h\",\"showlegend\":true,\"textposition\":\"auto\",\"x\":[406],\"xaxis\":\"x\",\"y\":[\"sad\"],\"yaxis\":\"y\",\"type\":\"bar\"},{\"alignmentgroup\":\"True\",\"hovertemplate\":\"Common words=%{y}<br>Count=%{x}<extra></extra>\",\"legendgroup\":\"got\",\"marker\":{\"color\":\"#FECB52\",\"pattern\":{\"shape\":\"\"}},\"name\":\"got\",\"offsetgroup\":\"got\",\"orientation\":\"h\",\"showlegend\":true,\"textposition\":\"auto\",\"x\":[360],\"xaxis\":\"x\",\"y\":[\"got\"],\"yaxis\":\"y\",\"type\":\"bar\"},{\"alignmentgroup\":\"True\",\"hovertemplate\":\"Common words=%{y}<br>Count=%{x}<extra></extra>\",\"legendgroup\":\"sorri\",\"marker\":{\"color\":\"#636efa\",\"pattern\":{\"shape\":\"\"}},\"name\":\"sorri\",\"offsetgroup\":\"sorri\",\"orientation\":\"h\",\"showlegend\":true,\"textposition\":\"auto\",\"x\":[354],\"xaxis\":\"x\",\"y\":[\"sorri\"],\"yaxis\":\"y\",\"type\":\"bar\"},{\"alignmentgroup\":\"True\",\"hovertemplate\":\"Common words=%{y}<br>Count=%{x}<extra></extra>\",\"legendgroup\":\"realli\",\"marker\":{\"color\":\"#EF553B\",\"pattern\":{\"shape\":\"\"}},\"name\":\"realli\",\"offsetgroup\":\"realli\",\"orientation\":\"h\",\"showlegend\":true,\"textposition\":\"auto\",\"x\":[350],\"xaxis\":\"x\",\"y\":[\"realli\"],\"yaxis\":\"y\",\"type\":\"bar\"},{\"alignmentgroup\":\"True\",\"hovertemplate\":\"Common words=%{y}<br>Count=%{x}<extra></extra>\",\"legendgroup\":\"today\",\"marker\":{\"color\":\"#00cc96\",\"pattern\":{\"shape\":\"\"}},\"name\":\"today\",\"offsetgroup\":\"today\",\"orientation\":\"h\",\"showlegend\":true,\"textposition\":\"auto\",\"x\":[343],\"xaxis\":\"x\",\"y\":[\"today\"],\"yaxis\":\"y\",\"type\":\"bar\"},{\"alignmentgroup\":\"True\",\"hovertemplate\":\"Common words=%{y}<br>Count=%{x}<extra></extra>\",\"legendgroup\":\"know\",\"marker\":{\"color\":\"#ab63fa\",\"pattern\":{\"shape\":\"\"}},\"name\":\"know\",\"offsetgroup\":\"know\",\"orientation\":\"h\",\"showlegend\":true,\"textposition\":\"auto\",\"x\":[314],\"xaxis\":\"x\",\"y\":[\"know\"],\"yaxis\":\"y\",\"type\":\"bar\"},{\"alignmentgroup\":\"True\",\"hovertemplate\":\"Common words=%{y}<br>Count=%{x}<extra></extra>\",\"legendgroup\":\"hate\",\"marker\":{\"color\":\"#FFA15A\",\"pattern\":{\"shape\":\"\"}},\"name\":\"hate\",\"offsetgroup\":\"hate\",\"orientation\":\"h\",\"showlegend\":true,\"textposition\":\"auto\",\"x\":[312],\"xaxis\":\"x\",\"y\":[\"hate\"],\"yaxis\":\"y\",\"type\":\"bar\"},{\"alignmentgroup\":\"True\",\"hovertemplate\":\"Common words=%{y}<br>Count=%{x}<extra></extra>\",\"legendgroup\":\"one\",\"marker\":{\"color\":\"#19d3f3\",\"pattern\":{\"shape\":\"\"}},\"name\":\"one\",\"offsetgroup\":\"one\",\"orientation\":\"h\",\"showlegend\":true,\"textposition\":\"auto\",\"x\":[309],\"xaxis\":\"x\",\"y\":[\"one\"],\"yaxis\":\"y\",\"type\":\"bar\"},{\"alignmentgroup\":\"True\",\"hovertemplate\":\"Common words=%{y}<br>Count=%{x}<extra></extra>\",\"legendgroup\":\"bad\",\"marker\":{\"color\":\"#FF6692\",\"pattern\":{\"shape\":\"\"}},\"name\":\"bad\",\"offsetgroup\":\"bad\",\"orientation\":\"h\",\"showlegend\":true,\"textposition\":\"auto\",\"x\":[308],\"xaxis\":\"x\",\"y\":[\"bad\"],\"yaxis\":\"y\",\"type\":\"bar\"},{\"alignmentgroup\":\"True\",\"hovertemplate\":\"Common words=%{y}<br>Count=%{x}<extra></extra>\",\"legendgroup\":\"think\",\"marker\":{\"color\":\"#B6E880\",\"pattern\":{\"shape\":\"\"}},\"name\":\"think\",\"offsetgroup\":\"think\",\"orientation\":\"h\",\"showlegend\":true,\"textposition\":\"auto\",\"x\":[282],\"xaxis\":\"x\",\"y\":[\"think\"],\"yaxis\":\"y\",\"type\":\"bar\"},{\"alignmentgroup\":\"True\",\"hovertemplate\":\"Common words=%{y}<br>Count=%{x}<extra></extra>\",\"legendgroup\":\"time\",\"marker\":{\"color\":\"#FF97FF\",\"pattern\":{\"shape\":\"\"}},\"name\":\"time\",\"offsetgroup\":\"time\",\"orientation\":\"h\",\"showlegend\":true,\"textposition\":\"auto\",\"x\":[277],\"xaxis\":\"x\",\"y\":[\"time\"],\"yaxis\":\"y\",\"type\":\"bar\"},{\"alignmentgroup\":\"True\",\"hovertemplate\":\"Common words=%{y}<br>Count=%{x}<extra></extra>\",\"legendgroup\":\"suck\",\"marker\":{\"color\":\"#FECB52\",\"pattern\":{\"shape\":\"\"}},\"name\":\"suck\",\"offsetgroup\":\"suck\",\"orientation\":\"h\",\"showlegend\":true,\"textposition\":\"auto\",\"x\":[260],\"xaxis\":\"x\",\"y\":[\"suck\"],\"yaxis\":\"y\",\"type\":\"bar\"},{\"alignmentgroup\":\"True\",\"hovertemplate\":\"Common words=%{y}<br>Count=%{x}<extra></extra>\",\"legendgroup\":\"still\",\"marker\":{\"color\":\"#636efa\",\"pattern\":{\"shape\":\"\"}},\"name\":\"still\",\"offsetgroup\":\"still\",\"orientation\":\"h\",\"showlegend\":true,\"textposition\":\"auto\",\"x\":[247],\"xaxis\":\"x\",\"y\":[\"still\"],\"yaxis\":\"y\",\"type\":\"bar\"},{\"alignmentgroup\":\"True\",\"hovertemplate\":\"Common words=%{y}<br>Count=%{x}<extra></extra>\",\"legendgroup\":\"back\",\"marker\":{\"color\":\"#EF553B\",\"pattern\":{\"shape\":\"\"}},\"name\":\"back\",\"offsetgroup\":\"back\",\"orientation\":\"h\",\"showlegend\":true,\"textposition\":\"auto\",\"x\":[244],\"xaxis\":\"x\",\"y\":[\"back\"],\"yaxis\":\"y\",\"type\":\"bar\"},{\"alignmentgroup\":\"True\",\"hovertemplate\":\"Common words=%{y}<br>Count=%{x}<extra></extra>\",\"legendgroup\":\"make\",\"marker\":{\"color\":\"#00cc96\",\"pattern\":{\"shape\":\"\"}},\"name\":\"make\",\"offsetgroup\":\"make\",\"orientation\":\"h\",\"showlegend\":true,\"textposition\":\"auto\",\"x\":[237],\"xaxis\":\"x\",\"y\":[\"make\"],\"yaxis\":\"y\",\"type\":\"bar\"},{\"alignmentgroup\":\"True\",\"hovertemplate\":\"Common words=%{y}<br>Count=%{x}<extra></extra>\",\"legendgroup\":\"much\",\"marker\":{\"color\":\"#ab63fa\",\"pattern\":{\"shape\":\"\"}},\"name\":\"much\",\"offsetgroup\":\"much\",\"orientation\":\"h\",\"showlegend\":true,\"textposition\":\"auto\",\"x\":[228],\"xaxis\":\"x\",\"y\":[\"much\"],\"yaxis\":\"y\",\"type\":\"bar\"}],                        {\"template\":{\"data\":{\"bar\":[{\"error_x\":{\"color\":\"#2a3f5f\"},\"error_y\":{\"color\":\"#2a3f5f\"},\"marker\":{\"line\":{\"color\":\"#E5ECF6\",\"width\":0.5},\"pattern\":{\"fillmode\":\"overlay\",\"size\":10,\"solidity\":0.2}},\"type\":\"bar\"}],\"barpolar\":[{\"marker\":{\"line\":{\"color\":\"#E5ECF6\",\"width\":0.5},\"pattern\":{\"fillmode\":\"overlay\",\"size\":10,\"solidity\":0.2}},\"type\":\"barpolar\"}],\"carpet\":[{\"aaxis\":{\"endlinecolor\":\"#2a3f5f\",\"gridcolor\":\"white\",\"linecolor\":\"white\",\"minorgridcolor\":\"white\",\"startlinecolor\":\"#2a3f5f\"},\"baxis\":{\"endlinecolor\":\"#2a3f5f\",\"gridcolor\":\"white\",\"linecolor\":\"white\",\"minorgridcolor\":\"white\",\"startlinecolor\":\"#2a3f5f\"},\"type\":\"carpet\"}],\"choropleth\":[{\"colorbar\":{\"outlinewidth\":0,\"ticks\":\"\"},\"type\":\"choropleth\"}],\"contour\":[{\"colorbar\":{\"outlinewidth\":0,\"ticks\":\"\"},\"colorscale\":[[0.0,\"#0d0887\"],[0.1111111111111111,\"#46039f\"],[0.2222222222222222,\"#7201a8\"],[0.3333333333333333,\"#9c179e\"],[0.4444444444444444,\"#bd3786\"],[0.5555555555555556,\"#d8576b\"],[0.6666666666666666,\"#ed7953\"],[0.7777777777777778,\"#fb9f3a\"],[0.8888888888888888,\"#fdca26\"],[1.0,\"#f0f921\"]],\"type\":\"contour\"}],\"contourcarpet\":[{\"colorbar\":{\"outlinewidth\":0,\"ticks\":\"\"},\"type\":\"contourcarpet\"}],\"heatmap\":[{\"colorbar\":{\"outlinewidth\":0,\"ticks\":\"\"},\"colorscale\":[[0.0,\"#0d0887\"],[0.1111111111111111,\"#46039f\"],[0.2222222222222222,\"#7201a8\"],[0.3333333333333333,\"#9c179e\"],[0.4444444444444444,\"#bd3786\"],[0.5555555555555556,\"#d8576b\"],[0.6666666666666666,\"#ed7953\"],[0.7777777777777778,\"#fb9f3a\"],[0.8888888888888888,\"#fdca26\"],[1.0,\"#f0f921\"]],\"type\":\"heatmap\"}],\"heatmapgl\":[{\"colorbar\":{\"outlinewidth\":0,\"ticks\":\"\"},\"colorscale\":[[0.0,\"#0d0887\"],[0.1111111111111111,\"#46039f\"],[0.2222222222222222,\"#7201a8\"],[0.3333333333333333,\"#9c179e\"],[0.4444444444444444,\"#bd3786\"],[0.5555555555555556,\"#d8576b\"],[0.6666666666666666,\"#ed7953\"],[0.7777777777777778,\"#fb9f3a\"],[0.8888888888888888,\"#fdca26\"],[1.0,\"#f0f921\"]],\"type\":\"heatmapgl\"}],\"histogram\":[{\"marker\":{\"pattern\":{\"fillmode\":\"overlay\",\"size\":10,\"solidity\":0.2}},\"type\":\"histogram\"}],\"histogram2d\":[{\"colorbar\":{\"outlinewidth\":0,\"ticks\":\"\"},\"colorscale\":[[0.0,\"#0d0887\"],[0.1111111111111111,\"#46039f\"],[0.2222222222222222,\"#7201a8\"],[0.3333333333333333,\"#9c179e\"],[0.4444444444444444,\"#bd3786\"],[0.5555555555555556,\"#d8576b\"],[0.6666666666666666,\"#ed7953\"],[0.7777777777777778,\"#fb9f3a\"],[0.8888888888888888,\"#fdca26\"],[1.0,\"#f0f921\"]],\"type\":\"histogram2d\"}],\"histogram2dcontour\":[{\"colorbar\":{\"outlinewidth\":0,\"ticks\":\"\"},\"colorscale\":[[0.0,\"#0d0887\"],[0.1111111111111111,\"#46039f\"],[0.2222222222222222,\"#7201a8\"],[0.3333333333333333,\"#9c179e\"],[0.4444444444444444,\"#bd3786\"],[0.5555555555555556,\"#d8576b\"],[0.6666666666666666,\"#ed7953\"],[0.7777777777777778,\"#fb9f3a\"],[0.8888888888888888,\"#fdca26\"],[1.0,\"#f0f921\"]],\"type\":\"histogram2dcontour\"}],\"mesh3d\":[{\"colorbar\":{\"outlinewidth\":0,\"ticks\":\"\"},\"type\":\"mesh3d\"}],\"parcoords\":[{\"line\":{\"colorbar\":{\"outlinewidth\":0,\"ticks\":\"\"}},\"type\":\"parcoords\"}],\"pie\":[{\"automargin\":true,\"type\":\"pie\"}],\"scatter\":[{\"marker\":{\"colorbar\":{\"outlinewidth\":0,\"ticks\":\"\"}},\"type\":\"scatter\"}],\"scatter3d\":[{\"line\":{\"colorbar\":{\"outlinewidth\":0,\"ticks\":\"\"}},\"marker\":{\"colorbar\":{\"outlinewidth\":0,\"ticks\":\"\"}},\"type\":\"scatter3d\"}],\"scattercarpet\":[{\"marker\":{\"colorbar\":{\"outlinewidth\":0,\"ticks\":\"\"}},\"type\":\"scattercarpet\"}],\"scattergeo\":[{\"marker\":{\"colorbar\":{\"outlinewidth\":0,\"ticks\":\"\"}},\"type\":\"scattergeo\"}],\"scattergl\":[{\"marker\":{\"colorbar\":{\"outlinewidth\":0,\"ticks\":\"\"}},\"type\":\"scattergl\"}],\"scattermapbox\":[{\"marker\":{\"colorbar\":{\"outlinewidth\":0,\"ticks\":\"\"}},\"type\":\"scattermapbox\"}],\"scatterpolar\":[{\"marker\":{\"colorbar\":{\"outlinewidth\":0,\"ticks\":\"\"}},\"type\":\"scatterpolar\"}],\"scatterpolargl\":[{\"marker\":{\"colorbar\":{\"outlinewidth\":0,\"ticks\":\"\"}},\"type\":\"scatterpolargl\"}],\"scatterternary\":[{\"marker\":{\"colorbar\":{\"outlinewidth\":0,\"ticks\":\"\"}},\"type\":\"scatterternary\"}],\"surface\":[{\"colorbar\":{\"outlinewidth\":0,\"ticks\":\"\"},\"colorscale\":[[0.0,\"#0d0887\"],[0.1111111111111111,\"#46039f\"],[0.2222222222222222,\"#7201a8\"],[0.3333333333333333,\"#9c179e\"],[0.4444444444444444,\"#bd3786\"],[0.5555555555555556,\"#d8576b\"],[0.6666666666666666,\"#ed7953\"],[0.7777777777777778,\"#fb9f3a\"],[0.8888888888888888,\"#fdca26\"],[1.0,\"#f0f921\"]],\"type\":\"surface\"}],\"table\":[{\"cells\":{\"fill\":{\"color\":\"#EBF0F8\"},\"line\":{\"color\":\"white\"}},\"header\":{\"fill\":{\"color\":\"#C8D4E3\"},\"line\":{\"color\":\"white\"}},\"type\":\"table\"}]},\"layout\":{\"annotationdefaults\":{\"arrowcolor\":\"#2a3f5f\",\"arrowhead\":0,\"arrowwidth\":1},\"autotypenumbers\":\"strict\",\"coloraxis\":{\"colorbar\":{\"outlinewidth\":0,\"ticks\":\"\"}},\"colorscale\":{\"diverging\":[[0,\"#8e0152\"],[0.1,\"#c51b7d\"],[0.2,\"#de77ae\"],[0.3,\"#f1b6da\"],[0.4,\"#fde0ef\"],[0.5,\"#f7f7f7\"],[0.6,\"#e6f5d0\"],[0.7,\"#b8e186\"],[0.8,\"#7fbc41\"],[0.9,\"#4d9221\"],[1,\"#276419\"]],\"sequential\":[[0.0,\"#0d0887\"],[0.1111111111111111,\"#46039f\"],[0.2222222222222222,\"#7201a8\"],[0.3333333333333333,\"#9c179e\"],[0.4444444444444444,\"#bd3786\"],[0.5555555555555556,\"#d8576b\"],[0.6666666666666666,\"#ed7953\"],[0.7777777777777778,\"#fb9f3a\"],[0.8888888888888888,\"#fdca26\"],[1.0,\"#f0f921\"]],\"sequentialminus\":[[0.0,\"#0d0887\"],[0.1111111111111111,\"#46039f\"],[0.2222222222222222,\"#7201a8\"],[0.3333333333333333,\"#9c179e\"],[0.4444444444444444,\"#bd3786\"],[0.5555555555555556,\"#d8576b\"],[0.6666666666666666,\"#ed7953\"],[0.7777777777777778,\"#fb9f3a\"],[0.8888888888888888,\"#fdca26\"],[1.0,\"#f0f921\"]]},\"colorway\":[\"#636efa\",\"#EF553B\",\"#00cc96\",\"#ab63fa\",\"#FFA15A\",\"#19d3f3\",\"#FF6692\",\"#B6E880\",\"#FF97FF\",\"#FECB52\"],\"font\":{\"color\":\"#2a3f5f\"},\"geo\":{\"bgcolor\":\"white\",\"lakecolor\":\"white\",\"landcolor\":\"#E5ECF6\",\"showlakes\":true,\"showland\":true,\"subunitcolor\":\"white\"},\"hoverlabel\":{\"align\":\"left\"},\"hovermode\":\"closest\",\"mapbox\":{\"style\":\"light\"},\"paper_bgcolor\":\"white\",\"plot_bgcolor\":\"#E5ECF6\",\"polar\":{\"angularaxis\":{\"gridcolor\":\"white\",\"linecolor\":\"white\",\"ticks\":\"\"},\"bgcolor\":\"#E5ECF6\",\"radialaxis\":{\"gridcolor\":\"white\",\"linecolor\":\"white\",\"ticks\":\"\"}},\"scene\":{\"xaxis\":{\"backgroundcolor\":\"#E5ECF6\",\"gridcolor\":\"white\",\"gridwidth\":2,\"linecolor\":\"white\",\"showbackground\":true,\"ticks\":\"\",\"zerolinecolor\":\"white\"},\"yaxis\":{\"backgroundcolor\":\"#E5ECF6\",\"gridcolor\":\"white\",\"gridwidth\":2,\"linecolor\":\"white\",\"showbackground\":true,\"ticks\":\"\",\"zerolinecolor\":\"white\"},\"zaxis\":{\"backgroundcolor\":\"#E5ECF6\",\"gridcolor\":\"white\",\"gridwidth\":2,\"linecolor\":\"white\",\"showbackground\":true,\"ticks\":\"\",\"zerolinecolor\":\"white\"}},\"shapedefaults\":{\"line\":{\"color\":\"#2a3f5f\"}},\"ternary\":{\"aaxis\":{\"gridcolor\":\"white\",\"linecolor\":\"white\",\"ticks\":\"\"},\"baxis\":{\"gridcolor\":\"white\",\"linecolor\":\"white\",\"ticks\":\"\"},\"bgcolor\":\"#E5ECF6\",\"caxis\":{\"gridcolor\":\"white\",\"linecolor\":\"white\",\"ticks\":\"\"}},\"title\":{\"x\":0.05},\"xaxis\":{\"automargin\":true,\"gridcolor\":\"white\",\"linecolor\":\"white\",\"ticks\":\"\",\"title\":{\"standoff\":15},\"zerolinecolor\":\"white\",\"zerolinewidth\":2},\"yaxis\":{\"automargin\":true,\"gridcolor\":\"white\",\"linecolor\":\"white\",\"ticks\":\"\",\"title\":{\"standoff\":15},\"zerolinecolor\":\"white\",\"zerolinewidth\":2}}},\"xaxis\":{\"anchor\":\"y\",\"domain\":[0.0,1.0],\"title\":{\"text\":\"Count\"}},\"yaxis\":{\"anchor\":\"x\",\"domain\":[0.0,1.0],\"title\":{\"text\":\"Common words\"},\"categoryorder\":\"array\",\"categoryarray\":[\"much\",\"make\",\"back\",\"still\",\"suck\",\"time\",\"think\",\"bad\",\"one\",\"hate\",\"know\",\"today\",\"realli\",\"sorri\",\"got\",\"sad\",\"want\",\"day\",\"feel\",\"cannot\",\"like\",\"work\",\"go\",\"get\"]},\"legend\":{\"title\":{\"text\":\"Common words\"},\"tracegroupgap\":0},\"title\":{\"text\":\"Most commmon negative words\"},\"barmode\":\"relative\",\"height\":700,\"width\":700},                        {\"responsive\": true}                    ).then(function(){\n",
              "                            \n",
              "var gd = document.getElementById('816bfc32-c2b1-4d1b-81ed-5806c6ff8dd2');\n",
              "var x = new MutationObserver(function (mutations, observer) {{\n",
              "        var display = window.getComputedStyle(gd).display;\n",
              "        if (!display || display === 'none') {{\n",
              "            console.log([gd, 'removed!']);\n",
              "            Plotly.purge(gd);\n",
              "            observer.disconnect();\n",
              "        }}\n",
              "}});\n",
              "\n",
              "// Listen for the removal of the full notebook cells\n",
              "var notebookContainer = gd.closest('#notebook-container');\n",
              "if (notebookContainer) {{\n",
              "    x.observe(notebookContainer, {childList: true});\n",
              "}}\n",
              "\n",
              "// Listen for the clearing of the current output cell\n",
              "var outputEl = gd.closest('.output');\n",
              "if (outputEl) {{\n",
              "    x.observe(outputEl, {childList: true});\n",
              "}}\n",
              "\n",
              "                        })                };                            </script>        </div>\n",
              "</body>\n",
              "</html>"
            ]
          },
          "metadata": {}
        }
      ]
    },
    {
      "cell_type": "code",
      "source": [
        "#Most common neutral words\n",
        "\n",
        "neutral = train[train['sentiment']=='neutral']\n",
        "\n",
        "tempList = neutral['text'].apply(lambda x:str(x).split())\n",
        "\n",
        "top = Counter([item for sublist in tempList for item in sublist])\n",
        "temp = pd.DataFrame(top.most_common(25))\n",
        "temp = temp.iloc[1:,:]\n",
        "temp.columns = ['Common words','Count']\n",
        "temp.style.background_gradient(cmap='Blues')"
      ],
      "metadata": {
        "id": "yhUw1vVzTI5t",
        "outputId": "ed4533c9-6f02-41e8-9135-2481c1451498",
        "colab": {
          "base_uri": "https://localhost:8080/",
          "height": 802
        }
      },
      "execution_count": 81,
      "outputs": [
        {
          "output_type": "execute_result",
          "data": {
            "text/plain": [
              "<pandas.io.formats.style.Styler at 0x7f10104eb290>"
            ],
            "text/html": [
              "<style type=\"text/css\">\n",
              "#T_cd92b_row0_col1, #T_cd92b_row1_col1 {\n",
              "  background-color: #08306b;\n",
              "  color: #f1f1f1;\n",
              "}\n",
              "#T_cd92b_row2_col1 {\n",
              "  background-color: #083573;\n",
              "  color: #f1f1f1;\n",
              "}\n",
              "#T_cd92b_row3_col1 {\n",
              "  background-color: #2d7dbb;\n",
              "  color: #f1f1f1;\n",
              "}\n",
              "#T_cd92b_row4_col1 {\n",
              "  background-color: #3181bd;\n",
              "  color: #f1f1f1;\n",
              "}\n",
              "#T_cd92b_row5_col1 {\n",
              "  background-color: #56a0ce;\n",
              "  color: #f1f1f1;\n",
              "}\n",
              "#T_cd92b_row6_col1 {\n",
              "  background-color: #65aad4;\n",
              "  color: #f1f1f1;\n",
              "}\n",
              "#T_cd92b_row7_col1 {\n",
              "  background-color: #6aaed6;\n",
              "  color: #f1f1f1;\n",
              "}\n",
              "#T_cd92b_row8_col1 {\n",
              "  background-color: #7ab6d9;\n",
              "  color: #000000;\n",
              "}\n",
              "#T_cd92b_row9_col1 {\n",
              "  background-color: #84bcdb;\n",
              "  color: #000000;\n",
              "}\n",
              "#T_cd92b_row10_col1 {\n",
              "  background-color: #8dc1dd;\n",
              "  color: #000000;\n",
              "}\n",
              "#T_cd92b_row11_col1 {\n",
              "  background-color: #a4cce3;\n",
              "  color: #000000;\n",
              "}\n",
              "#T_cd92b_row12_col1 {\n",
              "  background-color: #bfd8ed;\n",
              "  color: #000000;\n",
              "}\n",
              "#T_cd92b_row13_col1 {\n",
              "  background-color: #d0e1f2;\n",
              "  color: #000000;\n",
              "}\n",
              "#T_cd92b_row14_col1 {\n",
              "  background-color: #d1e2f3;\n",
              "  color: #000000;\n",
              "}\n",
              "#T_cd92b_row15_col1 {\n",
              "  background-color: #d5e5f4;\n",
              "  color: #000000;\n",
              "}\n",
              "#T_cd92b_row16_col1 {\n",
              "  background-color: #dfecf7;\n",
              "  color: #000000;\n",
              "}\n",
              "#T_cd92b_row17_col1 {\n",
              "  background-color: #e3eef8;\n",
              "  color: #000000;\n",
              "}\n",
              "#T_cd92b_row18_col1 {\n",
              "  background-color: #e7f1fa;\n",
              "  color: #000000;\n",
              "}\n",
              "#T_cd92b_row19_col1 {\n",
              "  background-color: #ebf3fb;\n",
              "  color: #000000;\n",
              "}\n",
              "#T_cd92b_row20_col1 {\n",
              "  background-color: #ecf4fb;\n",
              "  color: #000000;\n",
              "}\n",
              "#T_cd92b_row21_col1 {\n",
              "  background-color: #f1f7fd;\n",
              "  color: #000000;\n",
              "}\n",
              "#T_cd92b_row22_col1 {\n",
              "  background-color: #f5f9fe;\n",
              "  color: #000000;\n",
              "}\n",
              "#T_cd92b_row23_col1 {\n",
              "  background-color: #f7fbff;\n",
              "  color: #000000;\n",
              "}\n",
              "</style>\n",
              "<table id=\"T_cd92b_\" class=\"dataframe\">\n",
              "  <thead>\n",
              "    <tr>\n",
              "      <th class=\"blank level0\" >&nbsp;</th>\n",
              "      <th class=\"col_heading level0 col0\" >Common words</th>\n",
              "      <th class=\"col_heading level0 col1\" >Count</th>\n",
              "    </tr>\n",
              "  </thead>\n",
              "  <tbody>\n",
              "    <tr>\n",
              "      <th id=\"T_cd92b_level0_row0\" class=\"row_heading level0 row0\" >1</th>\n",
              "      <td id=\"T_cd92b_row0_col0\" class=\"data row0 col0\" >work</td>\n",
              "      <td id=\"T_cd92b_row0_col1\" class=\"data row0 col1\" >666</td>\n",
              "    </tr>\n",
              "    <tr>\n",
              "      <th id=\"T_cd92b_level0_row1\" class=\"row_heading level0 row1\" >2</th>\n",
              "      <td id=\"T_cd92b_row1_col0\" class=\"data row1 col0\" >day</td>\n",
              "      <td id=\"T_cd92b_row1_col1\" class=\"data row1 col1\" >665</td>\n",
              "    </tr>\n",
              "    <tr>\n",
              "      <th id=\"T_cd92b_level0_row2\" class=\"row_heading level0 row2\" >3</th>\n",
              "      <td id=\"T_cd92b_row2_col0\" class=\"data row2 col0\" >go</td>\n",
              "      <td id=\"T_cd92b_row2_col1\" class=\"data row2 col1\" >658</td>\n",
              "    </tr>\n",
              "    <tr>\n",
              "      <th id=\"T_cd92b_level0_row3\" class=\"row_heading level0 row3\" >4</th>\n",
              "      <td id=\"T_cd92b_row3_col0\" class=\"data row3 col0\" >want</td>\n",
              "      <td id=\"T_cd92b_row3_col1\" class=\"data row3 col1\" >553</td>\n",
              "    </tr>\n",
              "    <tr>\n",
              "      <th id=\"T_cd92b_level0_row4\" class=\"row_heading level0 row4\" >5</th>\n",
              "      <td id=\"T_cd92b_row4_col0\" class=\"data row4 col0\" >got</td>\n",
              "      <td id=\"T_cd92b_row4_col1\" class=\"data row4 col1\" >548</td>\n",
              "    </tr>\n",
              "    <tr>\n",
              "      <th id=\"T_cd92b_level0_row5\" class=\"row_heading level0 row5\" >6</th>\n",
              "      <td id=\"T_cd92b_row5_col0\" class=\"data row5 col0\" >lol</td>\n",
              "      <td id=\"T_cd92b_row5_col1\" class=\"data row5 col1\" >500</td>\n",
              "    </tr>\n",
              "    <tr>\n",
              "      <th id=\"T_cd92b_level0_row6\" class=\"row_heading level0 row6\" >7</th>\n",
              "      <td id=\"T_cd92b_row6_col0\" class=\"data row6 col0\" >like</td>\n",
              "      <td id=\"T_cd92b_row6_col1\" class=\"data row6 col1\" >482</td>\n",
              "    </tr>\n",
              "    <tr>\n",
              "      <th id=\"T_cd92b_level0_row7\" class=\"row_heading level0 row7\" >8</th>\n",
              "      <td id=\"T_cd92b_row7_col0\" class=\"data row7 col0\" >time</td>\n",
              "      <td id=\"T_cd92b_row7_col1\" class=\"data row7 col1\" >476</td>\n",
              "    </tr>\n",
              "    <tr>\n",
              "      <th id=\"T_cd92b_level0_row8\" class=\"row_heading level0 row8\" >9</th>\n",
              "      <td id=\"T_cd92b_row8_col0\" class=\"data row8 col0\" >know</td>\n",
              "      <td id=\"T_cd92b_row8_col1\" class=\"data row8 col1\" >462</td>\n",
              "    </tr>\n",
              "    <tr>\n",
              "      <th id=\"T_cd92b_level0_row9\" class=\"row_heading level0 row9\" >10</th>\n",
              "      <td id=\"T_cd92b_row9_col0\" class=\"data row9 col0\" >today</td>\n",
              "      <td id=\"T_cd92b_row9_col1\" class=\"data row9 col1\" >452</td>\n",
              "    </tr>\n",
              "    <tr>\n",
              "      <th id=\"T_cd92b_level0_row10\" class=\"row_heading level0 row10\" >11</th>\n",
              "      <td id=\"T_cd92b_row10_col0\" class=\"data row10 col0\" >one</td>\n",
              "      <td id=\"T_cd92b_row10_col1\" class=\"data row10 col1\" >443</td>\n",
              "    </tr>\n",
              "    <tr>\n",
              "      <th id=\"T_cd92b_level0_row11\" class=\"row_heading level0 row11\" >12</th>\n",
              "      <td id=\"T_cd92b_row11_col0\" class=\"data row11 col0\" >back</td>\n",
              "      <td id=\"T_cd92b_row11_col1\" class=\"data row11 col1\" >421</td>\n",
              "    </tr>\n",
              "    <tr>\n",
              "      <th id=\"T_cd92b_level0_row12\" class=\"row_heading level0 row12\" >13</th>\n",
              "      <td id=\"T_cd92b_row12_col0\" class=\"data row12 col0\" >see</td>\n",
              "      <td id=\"T_cd92b_row12_col1\" class=\"data row12 col1\" >389</td>\n",
              "    </tr>\n",
              "    <tr>\n",
              "      <th id=\"T_cd92b_level0_row13\" class=\"row_heading level0 row13\" >14</th>\n",
              "      <td id=\"T_cd92b_row13_col0\" class=\"data row13 col0\" >think</td>\n",
              "      <td id=\"T_cd92b_row13_col1\" class=\"data row13 col1\" >362</td>\n",
              "    </tr>\n",
              "    <tr>\n",
              "      <th id=\"T_cd92b_level0_row14\" class=\"row_heading level0 row14\" >15</th>\n",
              "      <td id=\"T_cd92b_row14_col0\" class=\"data row14 col0\" >cannot</td>\n",
              "      <td id=\"T_cd92b_row14_col1\" class=\"data row14 col1\" >358</td>\n",
              "    </tr>\n",
              "    <tr>\n",
              "      <th id=\"T_cd92b_level0_row15\" class=\"row_heading level0 row15\" >16</th>\n",
              "      <td id=\"T_cd92b_row15_col0\" class=\"data row15 col0\" >home</td>\n",
              "      <td id=\"T_cd92b_row15_col1\" class=\"data row15 col1\" >351</td>\n",
              "    </tr>\n",
              "    <tr>\n",
              "      <th id=\"T_cd92b_level0_row16\" class=\"row_heading level0 row16\" >17</th>\n",
              "      <td id=\"T_cd92b_row16_col0\" class=\"data row16 col0\" >need</td>\n",
              "      <td id=\"T_cd92b_row16_col1\" class=\"data row16 col1\" >331</td>\n",
              "    </tr>\n",
              "    <tr>\n",
              "      <th id=\"T_cd92b_level0_row17\" class=\"row_heading level0 row17\" >18</th>\n",
              "      <td id=\"T_cd92b_row17_col0\" class=\"data row17 col0\" >new</td>\n",
              "      <td id=\"T_cd92b_row17_col1\" class=\"data row17 col1\" >324</td>\n",
              "    </tr>\n",
              "    <tr>\n",
              "      <th id=\"T_cd92b_level0_row18\" class=\"row_heading level0 row18\" >19</th>\n",
              "      <td id=\"T_cd92b_row18_col0\" class=\"data row18 col0\" >good</td>\n",
              "      <td id=\"T_cd92b_row18_col1\" class=\"data row18 col1\" >315</td>\n",
              "    </tr>\n",
              "    <tr>\n",
              "      <th id=\"T_cd92b_level0_row19\" class=\"row_heading level0 row19\" >20</th>\n",
              "      <td id=\"T_cd92b_row19_col0\" class=\"data row19 col0\" >watch</td>\n",
              "      <td id=\"T_cd92b_row19_col1\" class=\"data row19 col1\" >308</td>\n",
              "    </tr>\n",
              "    <tr>\n",
              "      <th id=\"T_cd92b_level0_row20\" class=\"row_heading level0 row20\" >21</th>\n",
              "      <td id=\"T_cd92b_row20_col0\" class=\"data row20 col0\" >would</td>\n",
              "      <td id=\"T_cd92b_row20_col1\" class=\"data row20 col1\" >307</td>\n",
              "    </tr>\n",
              "    <tr>\n",
              "      <th id=\"T_cd92b_level0_row21\" class=\"row_heading level0 row21\" >22</th>\n",
              "      <td id=\"T_cd92b_row21_col0\" class=\"data row21 col0\" >night</td>\n",
              "      <td id=\"T_cd92b_row21_col1\" class=\"data row21 col1\" >297</td>\n",
              "    </tr>\n",
              "    <tr>\n",
              "      <th id=\"T_cd92b_level0_row22\" class=\"row_heading level0 row22\" >23</th>\n",
              "      <td id=\"T_cd92b_row22_col0\" class=\"data row22 col0\" >make</td>\n",
              "      <td id=\"T_cd92b_row22_col1\" class=\"data row22 col1\" >290</td>\n",
              "    </tr>\n",
              "    <tr>\n",
              "      <th id=\"T_cd92b_level0_row23\" class=\"row_heading level0 row23\" >24</th>\n",
              "      <td id=\"T_cd92b_row23_col0\" class=\"data row23 col0\" >still</td>\n",
              "      <td id=\"T_cd92b_row23_col1\" class=\"data row23 col1\" >285</td>\n",
              "    </tr>\n",
              "  </tbody>\n",
              "</table>\n"
            ]
          },
          "metadata": {},
          "execution_count": 81
        }
      ]
    },
    {
      "cell_type": "code",
      "source": [
        "fig = px.bar(temp, x=\"Count\", y=\"Common words\", title='Most commmon neutral words', orientation='h', width=700, height=700,color='Common words')\n",
        "fig.show()"
      ],
      "metadata": {
        "id": "-PGVQULAUhMd",
        "outputId": "1593e653-fd76-4b38-f6e4-1b1f9a965fcd",
        "colab": {
          "base_uri": "https://localhost:8080/",
          "height": 717
        }
      },
      "execution_count": 82,
      "outputs": [
        {
          "output_type": "display_data",
          "data": {
            "text/html": [
              "<html>\n",
              "<head><meta charset=\"utf-8\" /></head>\n",
              "<body>\n",
              "    <div>            <script src=\"https://cdnjs.cloudflare.com/ajax/libs/mathjax/2.7.5/MathJax.js?config=TeX-AMS-MML_SVG\"></script><script type=\"text/javascript\">if (window.MathJax) {MathJax.Hub.Config({SVG: {font: \"STIX-Web\"}});}</script>                <script type=\"text/javascript\">window.PlotlyConfig = {MathJaxConfig: 'local'};</script>\n",
              "        <script src=\"https://cdn.plot.ly/plotly-2.8.3.min.js\"></script>                <div id=\"6551b9da-e28d-4381-ae93-a26053014266\" class=\"plotly-graph-div\" style=\"height:700px; width:700px;\"></div>            <script type=\"text/javascript\">                                    window.PLOTLYENV=window.PLOTLYENV || {};                                    if (document.getElementById(\"6551b9da-e28d-4381-ae93-a26053014266\")) {                    Plotly.newPlot(                        \"6551b9da-e28d-4381-ae93-a26053014266\",                        [{\"alignmentgroup\":\"True\",\"hovertemplate\":\"Common words=%{y}<br>Count=%{x}<extra></extra>\",\"legendgroup\":\"work\",\"marker\":{\"color\":\"#636efa\",\"pattern\":{\"shape\":\"\"}},\"name\":\"work\",\"offsetgroup\":\"work\",\"orientation\":\"h\",\"showlegend\":true,\"textposition\":\"auto\",\"x\":[666],\"xaxis\":\"x\",\"y\":[\"work\"],\"yaxis\":\"y\",\"type\":\"bar\"},{\"alignmentgroup\":\"True\",\"hovertemplate\":\"Common words=%{y}<br>Count=%{x}<extra></extra>\",\"legendgroup\":\"day\",\"marker\":{\"color\":\"#EF553B\",\"pattern\":{\"shape\":\"\"}},\"name\":\"day\",\"offsetgroup\":\"day\",\"orientation\":\"h\",\"showlegend\":true,\"textposition\":\"auto\",\"x\":[665],\"xaxis\":\"x\",\"y\":[\"day\"],\"yaxis\":\"y\",\"type\":\"bar\"},{\"alignmentgroup\":\"True\",\"hovertemplate\":\"Common words=%{y}<br>Count=%{x}<extra></extra>\",\"legendgroup\":\"go\",\"marker\":{\"color\":\"#00cc96\",\"pattern\":{\"shape\":\"\"}},\"name\":\"go\",\"offsetgroup\":\"go\",\"orientation\":\"h\",\"showlegend\":true,\"textposition\":\"auto\",\"x\":[658],\"xaxis\":\"x\",\"y\":[\"go\"],\"yaxis\":\"y\",\"type\":\"bar\"},{\"alignmentgroup\":\"True\",\"hovertemplate\":\"Common words=%{y}<br>Count=%{x}<extra></extra>\",\"legendgroup\":\"want\",\"marker\":{\"color\":\"#ab63fa\",\"pattern\":{\"shape\":\"\"}},\"name\":\"want\",\"offsetgroup\":\"want\",\"orientation\":\"h\",\"showlegend\":true,\"textposition\":\"auto\",\"x\":[553],\"xaxis\":\"x\",\"y\":[\"want\"],\"yaxis\":\"y\",\"type\":\"bar\"},{\"alignmentgroup\":\"True\",\"hovertemplate\":\"Common words=%{y}<br>Count=%{x}<extra></extra>\",\"legendgroup\":\"got\",\"marker\":{\"color\":\"#FFA15A\",\"pattern\":{\"shape\":\"\"}},\"name\":\"got\",\"offsetgroup\":\"got\",\"orientation\":\"h\",\"showlegend\":true,\"textposition\":\"auto\",\"x\":[548],\"xaxis\":\"x\",\"y\":[\"got\"],\"yaxis\":\"y\",\"type\":\"bar\"},{\"alignmentgroup\":\"True\",\"hovertemplate\":\"Common words=%{y}<br>Count=%{x}<extra></extra>\",\"legendgroup\":\"lol\",\"marker\":{\"color\":\"#19d3f3\",\"pattern\":{\"shape\":\"\"}},\"name\":\"lol\",\"offsetgroup\":\"lol\",\"orientation\":\"h\",\"showlegend\":true,\"textposition\":\"auto\",\"x\":[500],\"xaxis\":\"x\",\"y\":[\"lol\"],\"yaxis\":\"y\",\"type\":\"bar\"},{\"alignmentgroup\":\"True\",\"hovertemplate\":\"Common words=%{y}<br>Count=%{x}<extra></extra>\",\"legendgroup\":\"like\",\"marker\":{\"color\":\"#FF6692\",\"pattern\":{\"shape\":\"\"}},\"name\":\"like\",\"offsetgroup\":\"like\",\"orientation\":\"h\",\"showlegend\":true,\"textposition\":\"auto\",\"x\":[482],\"xaxis\":\"x\",\"y\":[\"like\"],\"yaxis\":\"y\",\"type\":\"bar\"},{\"alignmentgroup\":\"True\",\"hovertemplate\":\"Common words=%{y}<br>Count=%{x}<extra></extra>\",\"legendgroup\":\"time\",\"marker\":{\"color\":\"#B6E880\",\"pattern\":{\"shape\":\"\"}},\"name\":\"time\",\"offsetgroup\":\"time\",\"orientation\":\"h\",\"showlegend\":true,\"textposition\":\"auto\",\"x\":[476],\"xaxis\":\"x\",\"y\":[\"time\"],\"yaxis\":\"y\",\"type\":\"bar\"},{\"alignmentgroup\":\"True\",\"hovertemplate\":\"Common words=%{y}<br>Count=%{x}<extra></extra>\",\"legendgroup\":\"know\",\"marker\":{\"color\":\"#FF97FF\",\"pattern\":{\"shape\":\"\"}},\"name\":\"know\",\"offsetgroup\":\"know\",\"orientation\":\"h\",\"showlegend\":true,\"textposition\":\"auto\",\"x\":[462],\"xaxis\":\"x\",\"y\":[\"know\"],\"yaxis\":\"y\",\"type\":\"bar\"},{\"alignmentgroup\":\"True\",\"hovertemplate\":\"Common words=%{y}<br>Count=%{x}<extra></extra>\",\"legendgroup\":\"today\",\"marker\":{\"color\":\"#FECB52\",\"pattern\":{\"shape\":\"\"}},\"name\":\"today\",\"offsetgroup\":\"today\",\"orientation\":\"h\",\"showlegend\":true,\"textposition\":\"auto\",\"x\":[452],\"xaxis\":\"x\",\"y\":[\"today\"],\"yaxis\":\"y\",\"type\":\"bar\"},{\"alignmentgroup\":\"True\",\"hovertemplate\":\"Common words=%{y}<br>Count=%{x}<extra></extra>\",\"legendgroup\":\"one\",\"marker\":{\"color\":\"#636efa\",\"pattern\":{\"shape\":\"\"}},\"name\":\"one\",\"offsetgroup\":\"one\",\"orientation\":\"h\",\"showlegend\":true,\"textposition\":\"auto\",\"x\":[443],\"xaxis\":\"x\",\"y\":[\"one\"],\"yaxis\":\"y\",\"type\":\"bar\"},{\"alignmentgroup\":\"True\",\"hovertemplate\":\"Common words=%{y}<br>Count=%{x}<extra></extra>\",\"legendgroup\":\"back\",\"marker\":{\"color\":\"#EF553B\",\"pattern\":{\"shape\":\"\"}},\"name\":\"back\",\"offsetgroup\":\"back\",\"orientation\":\"h\",\"showlegend\":true,\"textposition\":\"auto\",\"x\":[421],\"xaxis\":\"x\",\"y\":[\"back\"],\"yaxis\":\"y\",\"type\":\"bar\"},{\"alignmentgroup\":\"True\",\"hovertemplate\":\"Common words=%{y}<br>Count=%{x}<extra></extra>\",\"legendgroup\":\"see\",\"marker\":{\"color\":\"#00cc96\",\"pattern\":{\"shape\":\"\"}},\"name\":\"see\",\"offsetgroup\":\"see\",\"orientation\":\"h\",\"showlegend\":true,\"textposition\":\"auto\",\"x\":[389],\"xaxis\":\"x\",\"y\":[\"see\"],\"yaxis\":\"y\",\"type\":\"bar\"},{\"alignmentgroup\":\"True\",\"hovertemplate\":\"Common words=%{y}<br>Count=%{x}<extra></extra>\",\"legendgroup\":\"think\",\"marker\":{\"color\":\"#ab63fa\",\"pattern\":{\"shape\":\"\"}},\"name\":\"think\",\"offsetgroup\":\"think\",\"orientation\":\"h\",\"showlegend\":true,\"textposition\":\"auto\",\"x\":[362],\"xaxis\":\"x\",\"y\":[\"think\"],\"yaxis\":\"y\",\"type\":\"bar\"},{\"alignmentgroup\":\"True\",\"hovertemplate\":\"Common words=%{y}<br>Count=%{x}<extra></extra>\",\"legendgroup\":\"cannot\",\"marker\":{\"color\":\"#FFA15A\",\"pattern\":{\"shape\":\"\"}},\"name\":\"cannot\",\"offsetgroup\":\"cannot\",\"orientation\":\"h\",\"showlegend\":true,\"textposition\":\"auto\",\"x\":[358],\"xaxis\":\"x\",\"y\":[\"cannot\"],\"yaxis\":\"y\",\"type\":\"bar\"},{\"alignmentgroup\":\"True\",\"hovertemplate\":\"Common words=%{y}<br>Count=%{x}<extra></extra>\",\"legendgroup\":\"home\",\"marker\":{\"color\":\"#19d3f3\",\"pattern\":{\"shape\":\"\"}},\"name\":\"home\",\"offsetgroup\":\"home\",\"orientation\":\"h\",\"showlegend\":true,\"textposition\":\"auto\",\"x\":[351],\"xaxis\":\"x\",\"y\":[\"home\"],\"yaxis\":\"y\",\"type\":\"bar\"},{\"alignmentgroup\":\"True\",\"hovertemplate\":\"Common words=%{y}<br>Count=%{x}<extra></extra>\",\"legendgroup\":\"need\",\"marker\":{\"color\":\"#FF6692\",\"pattern\":{\"shape\":\"\"}},\"name\":\"need\",\"offsetgroup\":\"need\",\"orientation\":\"h\",\"showlegend\":true,\"textposition\":\"auto\",\"x\":[331],\"xaxis\":\"x\",\"y\":[\"need\"],\"yaxis\":\"y\",\"type\":\"bar\"},{\"alignmentgroup\":\"True\",\"hovertemplate\":\"Common words=%{y}<br>Count=%{x}<extra></extra>\",\"legendgroup\":\"new\",\"marker\":{\"color\":\"#B6E880\",\"pattern\":{\"shape\":\"\"}},\"name\":\"new\",\"offsetgroup\":\"new\",\"orientation\":\"h\",\"showlegend\":true,\"textposition\":\"auto\",\"x\":[324],\"xaxis\":\"x\",\"y\":[\"new\"],\"yaxis\":\"y\",\"type\":\"bar\"},{\"alignmentgroup\":\"True\",\"hovertemplate\":\"Common words=%{y}<br>Count=%{x}<extra></extra>\",\"legendgroup\":\"good\",\"marker\":{\"color\":\"#FF97FF\",\"pattern\":{\"shape\":\"\"}},\"name\":\"good\",\"offsetgroup\":\"good\",\"orientation\":\"h\",\"showlegend\":true,\"textposition\":\"auto\",\"x\":[315],\"xaxis\":\"x\",\"y\":[\"good\"],\"yaxis\":\"y\",\"type\":\"bar\"},{\"alignmentgroup\":\"True\",\"hovertemplate\":\"Common words=%{y}<br>Count=%{x}<extra></extra>\",\"legendgroup\":\"watch\",\"marker\":{\"color\":\"#FECB52\",\"pattern\":{\"shape\":\"\"}},\"name\":\"watch\",\"offsetgroup\":\"watch\",\"orientation\":\"h\",\"showlegend\":true,\"textposition\":\"auto\",\"x\":[308],\"xaxis\":\"x\",\"y\":[\"watch\"],\"yaxis\":\"y\",\"type\":\"bar\"},{\"alignmentgroup\":\"True\",\"hovertemplate\":\"Common words=%{y}<br>Count=%{x}<extra></extra>\",\"legendgroup\":\"would\",\"marker\":{\"color\":\"#636efa\",\"pattern\":{\"shape\":\"\"}},\"name\":\"would\",\"offsetgroup\":\"would\",\"orientation\":\"h\",\"showlegend\":true,\"textposition\":\"auto\",\"x\":[307],\"xaxis\":\"x\",\"y\":[\"would\"],\"yaxis\":\"y\",\"type\":\"bar\"},{\"alignmentgroup\":\"True\",\"hovertemplate\":\"Common words=%{y}<br>Count=%{x}<extra></extra>\",\"legendgroup\":\"night\",\"marker\":{\"color\":\"#EF553B\",\"pattern\":{\"shape\":\"\"}},\"name\":\"night\",\"offsetgroup\":\"night\",\"orientation\":\"h\",\"showlegend\":true,\"textposition\":\"auto\",\"x\":[297],\"xaxis\":\"x\",\"y\":[\"night\"],\"yaxis\":\"y\",\"type\":\"bar\"},{\"alignmentgroup\":\"True\",\"hovertemplate\":\"Common words=%{y}<br>Count=%{x}<extra></extra>\",\"legendgroup\":\"make\",\"marker\":{\"color\":\"#00cc96\",\"pattern\":{\"shape\":\"\"}},\"name\":\"make\",\"offsetgroup\":\"make\",\"orientation\":\"h\",\"showlegend\":true,\"textposition\":\"auto\",\"x\":[290],\"xaxis\":\"x\",\"y\":[\"make\"],\"yaxis\":\"y\",\"type\":\"bar\"},{\"alignmentgroup\":\"True\",\"hovertemplate\":\"Common words=%{y}<br>Count=%{x}<extra></extra>\",\"legendgroup\":\"still\",\"marker\":{\"color\":\"#ab63fa\",\"pattern\":{\"shape\":\"\"}},\"name\":\"still\",\"offsetgroup\":\"still\",\"orientation\":\"h\",\"showlegend\":true,\"textposition\":\"auto\",\"x\":[285],\"xaxis\":\"x\",\"y\":[\"still\"],\"yaxis\":\"y\",\"type\":\"bar\"}],                        {\"template\":{\"data\":{\"bar\":[{\"error_x\":{\"color\":\"#2a3f5f\"},\"error_y\":{\"color\":\"#2a3f5f\"},\"marker\":{\"line\":{\"color\":\"#E5ECF6\",\"width\":0.5},\"pattern\":{\"fillmode\":\"overlay\",\"size\":10,\"solidity\":0.2}},\"type\":\"bar\"}],\"barpolar\":[{\"marker\":{\"line\":{\"color\":\"#E5ECF6\",\"width\":0.5},\"pattern\":{\"fillmode\":\"overlay\",\"size\":10,\"solidity\":0.2}},\"type\":\"barpolar\"}],\"carpet\":[{\"aaxis\":{\"endlinecolor\":\"#2a3f5f\",\"gridcolor\":\"white\",\"linecolor\":\"white\",\"minorgridcolor\":\"white\",\"startlinecolor\":\"#2a3f5f\"},\"baxis\":{\"endlinecolor\":\"#2a3f5f\",\"gridcolor\":\"white\",\"linecolor\":\"white\",\"minorgridcolor\":\"white\",\"startlinecolor\":\"#2a3f5f\"},\"type\":\"carpet\"}],\"choropleth\":[{\"colorbar\":{\"outlinewidth\":0,\"ticks\":\"\"},\"type\":\"choropleth\"}],\"contour\":[{\"colorbar\":{\"outlinewidth\":0,\"ticks\":\"\"},\"colorscale\":[[0.0,\"#0d0887\"],[0.1111111111111111,\"#46039f\"],[0.2222222222222222,\"#7201a8\"],[0.3333333333333333,\"#9c179e\"],[0.4444444444444444,\"#bd3786\"],[0.5555555555555556,\"#d8576b\"],[0.6666666666666666,\"#ed7953\"],[0.7777777777777778,\"#fb9f3a\"],[0.8888888888888888,\"#fdca26\"],[1.0,\"#f0f921\"]],\"type\":\"contour\"}],\"contourcarpet\":[{\"colorbar\":{\"outlinewidth\":0,\"ticks\":\"\"},\"type\":\"contourcarpet\"}],\"heatmap\":[{\"colorbar\":{\"outlinewidth\":0,\"ticks\":\"\"},\"colorscale\":[[0.0,\"#0d0887\"],[0.1111111111111111,\"#46039f\"],[0.2222222222222222,\"#7201a8\"],[0.3333333333333333,\"#9c179e\"],[0.4444444444444444,\"#bd3786\"],[0.5555555555555556,\"#d8576b\"],[0.6666666666666666,\"#ed7953\"],[0.7777777777777778,\"#fb9f3a\"],[0.8888888888888888,\"#fdca26\"],[1.0,\"#f0f921\"]],\"type\":\"heatmap\"}],\"heatmapgl\":[{\"colorbar\":{\"outlinewidth\":0,\"ticks\":\"\"},\"colorscale\":[[0.0,\"#0d0887\"],[0.1111111111111111,\"#46039f\"],[0.2222222222222222,\"#7201a8\"],[0.3333333333333333,\"#9c179e\"],[0.4444444444444444,\"#bd3786\"],[0.5555555555555556,\"#d8576b\"],[0.6666666666666666,\"#ed7953\"],[0.7777777777777778,\"#fb9f3a\"],[0.8888888888888888,\"#fdca26\"],[1.0,\"#f0f921\"]],\"type\":\"heatmapgl\"}],\"histogram\":[{\"marker\":{\"pattern\":{\"fillmode\":\"overlay\",\"size\":10,\"solidity\":0.2}},\"type\":\"histogram\"}],\"histogram2d\":[{\"colorbar\":{\"outlinewidth\":0,\"ticks\":\"\"},\"colorscale\":[[0.0,\"#0d0887\"],[0.1111111111111111,\"#46039f\"],[0.2222222222222222,\"#7201a8\"],[0.3333333333333333,\"#9c179e\"],[0.4444444444444444,\"#bd3786\"],[0.5555555555555556,\"#d8576b\"],[0.6666666666666666,\"#ed7953\"],[0.7777777777777778,\"#fb9f3a\"],[0.8888888888888888,\"#fdca26\"],[1.0,\"#f0f921\"]],\"type\":\"histogram2d\"}],\"histogram2dcontour\":[{\"colorbar\":{\"outlinewidth\":0,\"ticks\":\"\"},\"colorscale\":[[0.0,\"#0d0887\"],[0.1111111111111111,\"#46039f\"],[0.2222222222222222,\"#7201a8\"],[0.3333333333333333,\"#9c179e\"],[0.4444444444444444,\"#bd3786\"],[0.5555555555555556,\"#d8576b\"],[0.6666666666666666,\"#ed7953\"],[0.7777777777777778,\"#fb9f3a\"],[0.8888888888888888,\"#fdca26\"],[1.0,\"#f0f921\"]],\"type\":\"histogram2dcontour\"}],\"mesh3d\":[{\"colorbar\":{\"outlinewidth\":0,\"ticks\":\"\"},\"type\":\"mesh3d\"}],\"parcoords\":[{\"line\":{\"colorbar\":{\"outlinewidth\":0,\"ticks\":\"\"}},\"type\":\"parcoords\"}],\"pie\":[{\"automargin\":true,\"type\":\"pie\"}],\"scatter\":[{\"marker\":{\"colorbar\":{\"outlinewidth\":0,\"ticks\":\"\"}},\"type\":\"scatter\"}],\"scatter3d\":[{\"line\":{\"colorbar\":{\"outlinewidth\":0,\"ticks\":\"\"}},\"marker\":{\"colorbar\":{\"outlinewidth\":0,\"ticks\":\"\"}},\"type\":\"scatter3d\"}],\"scattercarpet\":[{\"marker\":{\"colorbar\":{\"outlinewidth\":0,\"ticks\":\"\"}},\"type\":\"scattercarpet\"}],\"scattergeo\":[{\"marker\":{\"colorbar\":{\"outlinewidth\":0,\"ticks\":\"\"}},\"type\":\"scattergeo\"}],\"scattergl\":[{\"marker\":{\"colorbar\":{\"outlinewidth\":0,\"ticks\":\"\"}},\"type\":\"scattergl\"}],\"scattermapbox\":[{\"marker\":{\"colorbar\":{\"outlinewidth\":0,\"ticks\":\"\"}},\"type\":\"scattermapbox\"}],\"scatterpolar\":[{\"marker\":{\"colorbar\":{\"outlinewidth\":0,\"ticks\":\"\"}},\"type\":\"scatterpolar\"}],\"scatterpolargl\":[{\"marker\":{\"colorbar\":{\"outlinewidth\":0,\"ticks\":\"\"}},\"type\":\"scatterpolargl\"}],\"scatterternary\":[{\"marker\":{\"colorbar\":{\"outlinewidth\":0,\"ticks\":\"\"}},\"type\":\"scatterternary\"}],\"surface\":[{\"colorbar\":{\"outlinewidth\":0,\"ticks\":\"\"},\"colorscale\":[[0.0,\"#0d0887\"],[0.1111111111111111,\"#46039f\"],[0.2222222222222222,\"#7201a8\"],[0.3333333333333333,\"#9c179e\"],[0.4444444444444444,\"#bd3786\"],[0.5555555555555556,\"#d8576b\"],[0.6666666666666666,\"#ed7953\"],[0.7777777777777778,\"#fb9f3a\"],[0.8888888888888888,\"#fdca26\"],[1.0,\"#f0f921\"]],\"type\":\"surface\"}],\"table\":[{\"cells\":{\"fill\":{\"color\":\"#EBF0F8\"},\"line\":{\"color\":\"white\"}},\"header\":{\"fill\":{\"color\":\"#C8D4E3\"},\"line\":{\"color\":\"white\"}},\"type\":\"table\"}]},\"layout\":{\"annotationdefaults\":{\"arrowcolor\":\"#2a3f5f\",\"arrowhead\":0,\"arrowwidth\":1},\"autotypenumbers\":\"strict\",\"coloraxis\":{\"colorbar\":{\"outlinewidth\":0,\"ticks\":\"\"}},\"colorscale\":{\"diverging\":[[0,\"#8e0152\"],[0.1,\"#c51b7d\"],[0.2,\"#de77ae\"],[0.3,\"#f1b6da\"],[0.4,\"#fde0ef\"],[0.5,\"#f7f7f7\"],[0.6,\"#e6f5d0\"],[0.7,\"#b8e186\"],[0.8,\"#7fbc41\"],[0.9,\"#4d9221\"],[1,\"#276419\"]],\"sequential\":[[0.0,\"#0d0887\"],[0.1111111111111111,\"#46039f\"],[0.2222222222222222,\"#7201a8\"],[0.3333333333333333,\"#9c179e\"],[0.4444444444444444,\"#bd3786\"],[0.5555555555555556,\"#d8576b\"],[0.6666666666666666,\"#ed7953\"],[0.7777777777777778,\"#fb9f3a\"],[0.8888888888888888,\"#fdca26\"],[1.0,\"#f0f921\"]],\"sequentialminus\":[[0.0,\"#0d0887\"],[0.1111111111111111,\"#46039f\"],[0.2222222222222222,\"#7201a8\"],[0.3333333333333333,\"#9c179e\"],[0.4444444444444444,\"#bd3786\"],[0.5555555555555556,\"#d8576b\"],[0.6666666666666666,\"#ed7953\"],[0.7777777777777778,\"#fb9f3a\"],[0.8888888888888888,\"#fdca26\"],[1.0,\"#f0f921\"]]},\"colorway\":[\"#636efa\",\"#EF553B\",\"#00cc96\",\"#ab63fa\",\"#FFA15A\",\"#19d3f3\",\"#FF6692\",\"#B6E880\",\"#FF97FF\",\"#FECB52\"],\"font\":{\"color\":\"#2a3f5f\"},\"geo\":{\"bgcolor\":\"white\",\"lakecolor\":\"white\",\"landcolor\":\"#E5ECF6\",\"showlakes\":true,\"showland\":true,\"subunitcolor\":\"white\"},\"hoverlabel\":{\"align\":\"left\"},\"hovermode\":\"closest\",\"mapbox\":{\"style\":\"light\"},\"paper_bgcolor\":\"white\",\"plot_bgcolor\":\"#E5ECF6\",\"polar\":{\"angularaxis\":{\"gridcolor\":\"white\",\"linecolor\":\"white\",\"ticks\":\"\"},\"bgcolor\":\"#E5ECF6\",\"radialaxis\":{\"gridcolor\":\"white\",\"linecolor\":\"white\",\"ticks\":\"\"}},\"scene\":{\"xaxis\":{\"backgroundcolor\":\"#E5ECF6\",\"gridcolor\":\"white\",\"gridwidth\":2,\"linecolor\":\"white\",\"showbackground\":true,\"ticks\":\"\",\"zerolinecolor\":\"white\"},\"yaxis\":{\"backgroundcolor\":\"#E5ECF6\",\"gridcolor\":\"white\",\"gridwidth\":2,\"linecolor\":\"white\",\"showbackground\":true,\"ticks\":\"\",\"zerolinecolor\":\"white\"},\"zaxis\":{\"backgroundcolor\":\"#E5ECF6\",\"gridcolor\":\"white\",\"gridwidth\":2,\"linecolor\":\"white\",\"showbackground\":true,\"ticks\":\"\",\"zerolinecolor\":\"white\"}},\"shapedefaults\":{\"line\":{\"color\":\"#2a3f5f\"}},\"ternary\":{\"aaxis\":{\"gridcolor\":\"white\",\"linecolor\":\"white\",\"ticks\":\"\"},\"baxis\":{\"gridcolor\":\"white\",\"linecolor\":\"white\",\"ticks\":\"\"},\"bgcolor\":\"#E5ECF6\",\"caxis\":{\"gridcolor\":\"white\",\"linecolor\":\"white\",\"ticks\":\"\"}},\"title\":{\"x\":0.05},\"xaxis\":{\"automargin\":true,\"gridcolor\":\"white\",\"linecolor\":\"white\",\"ticks\":\"\",\"title\":{\"standoff\":15},\"zerolinecolor\":\"white\",\"zerolinewidth\":2},\"yaxis\":{\"automargin\":true,\"gridcolor\":\"white\",\"linecolor\":\"white\",\"ticks\":\"\",\"title\":{\"standoff\":15},\"zerolinecolor\":\"white\",\"zerolinewidth\":2}}},\"xaxis\":{\"anchor\":\"y\",\"domain\":[0.0,1.0],\"title\":{\"text\":\"Count\"}},\"yaxis\":{\"anchor\":\"x\",\"domain\":[0.0,1.0],\"title\":{\"text\":\"Common words\"},\"categoryorder\":\"array\",\"categoryarray\":[\"still\",\"make\",\"night\",\"would\",\"watch\",\"good\",\"new\",\"need\",\"home\",\"cannot\",\"think\",\"see\",\"back\",\"one\",\"today\",\"know\",\"time\",\"like\",\"lol\",\"got\",\"want\",\"go\",\"day\",\"work\"]},\"legend\":{\"title\":{\"text\":\"Common words\"},\"tracegroupgap\":0},\"title\":{\"text\":\"Most commmon neutral words\"},\"barmode\":\"relative\",\"height\":700,\"width\":700},                        {\"responsive\": true}                    ).then(function(){\n",
              "                            \n",
              "var gd = document.getElementById('6551b9da-e28d-4381-ae93-a26053014266');\n",
              "var x = new MutationObserver(function (mutations, observer) {{\n",
              "        var display = window.getComputedStyle(gd).display;\n",
              "        if (!display || display === 'none') {{\n",
              "            console.log([gd, 'removed!']);\n",
              "            Plotly.purge(gd);\n",
              "            observer.disconnect();\n",
              "        }}\n",
              "}});\n",
              "\n",
              "// Listen for the removal of the full notebook cells\n",
              "var notebookContainer = gd.closest('#notebook-container');\n",
              "if (notebookContainer) {{\n",
              "    x.observe(notebookContainer, {childList: true});\n",
              "}}\n",
              "\n",
              "// Listen for the clearing of the current output cell\n",
              "var outputEl = gd.closest('.output');\n",
              "if (outputEl) {{\n",
              "    x.observe(outputEl, {childList: true});\n",
              "}}\n",
              "\n",
              "                        })                };                            </script>        </div>\n",
              "</body>\n",
              "</html>"
            ]
          },
          "metadata": {}
        }
      ]
    },
    {
      "cell_type": "code",
      "source": [
        "# Generate a word cloud image\n",
        "wordcloud = WordCloud(background_color=\"white\").generate(str(pos['text']))\n",
        "\n",
        "# Display the generated image\n",
        "plt.figure(figsize=(12.0,8.0))\n",
        "plt.imshow(wordcloud, interpolation='bilinear')\n",
        "plt.axis(\"off\")\n",
        "plt.show()"
      ],
      "metadata": {
        "id": "NOMVH6L5WUqb",
        "outputId": "676877a3-37fb-4c87-ad2a-11b73d27fc1c",
        "colab": {
          "base_uri": "https://localhost:8080/",
          "height": 366
        }
      },
      "execution_count": 83,
      "outputs": [
        {
          "output_type": "display_data",
          "data": {
            "text/plain": [
              "<Figure size 864x576 with 1 Axes>"
            ],
            "image/png": "[encoded data removed]"
          },
          "metadata": {
            "needs_background": "light"
          }
        }
      ]
    },
    {
      "cell_type": "code",
      "source": [
        "# Create feature vectors\n",
        "vectorizer = TfidfVectorizer(min_df = 5,\n",
        "                             max_df = 0.8,\n",
        "                             sublinear_tf = True,\n",
        "                             use_idf = True)\n",
        "train_vectors = vectorizer.fit_transform(train['text'])\n",
        "test_vectors = vectorizer.transform(test['text'])"
      ],
      "metadata": {
        "id": "I3KHg2k7kGyh"
      },
      "execution_count": 84,
      "outputs": []
    },
    {
      "cell_type": "code",
      "source": [
        "# Defining model using one-vs-rest strategy\n",
        "model = SVC(decision_function_shape='ovr')\n",
        "# Fitting the model\n",
        "t0 = time.time()\n",
        "model.fit(train_vectors, train['sentiment'])\n",
        "t1 = time.time()\n",
        "# Making predictions\n",
        "prediction = model.predict(test_vectors)\n",
        "t2 = time.time()\n",
        "# Evaluating the model\n",
        "print(\"Training time: %fs; Prediction time: %fs \\n\" % (t1-t0, t2-t1))\n",
        "print(f\"Test Set Accuracy: {accuracy_score(test['sentiment'], prediction) * 100} %\\n\")\n",
        "print('Test confusion matrix:')\n",
        "print(confusion_matrix(test['sentiment'], prediction))\n",
        "print(f\"\\nClassification Report: \\n{classification_report(test['sentiment'], prediction)}\")"
      ],
      "metadata": {
        "id": "aFdXylCL4vNF"
      },
      "execution_count": null,
      "outputs": []
    },
    {
      "cell_type": "code",
      "source": [
        "# Creating the SVM model using one-vs-rest\n",
        "model = OneVsRestClassifier(SVC())\n",
        "   \n",
        "# Fitting the model with training data\n",
        "t0 = time.time()\n",
        "model.fit(train_vectors, train['sentiment'])\n",
        "t1 = time.time()  \n",
        "\n",
        "# Making predictions on the test set\n",
        "prediction = model.predict(test_vectors)\n",
        "t2 = time.time()\n",
        "\n",
        "# Evaluating the model\n",
        "print(\"Training time: %fs; Prediction time: %fs \\n\" % (t1-t0, t2-t1))\n",
        "print(f\"Test Set Accuracy: {accuracy_score(test['sentiment'], prediction) * 100} %\\n\")\n",
        "print('Test confusion matrix:')\n",
        "print(confusion_matrix(test['sentiment'], prediction))\n",
        "print(f\"\\nClassification Report: \\n{classification_report(test['sentiment'], prediction)}\")"
      ],
      "metadata": {
        "id": "pkcFDZyKCJ9B",
        "outputId": "93b156a9-3430-48ae-c030-a2956d958aae",
        "colab": {
          "base_uri": "https://localhost:8080/"
        }
      },
      "execution_count": 85,
      "outputs": [
        {
          "output_type": "stream",
          "name": "stdout",
          "text": [
            "Training time: 367.542477s; Prediction time: 13.921204s \n",
            "\n",
            "Test Set Accuracy: 60.35653650254669 %\n",
            "\n",
            "Test confusion matrix:\n",
            "[[ 432  506   63]\n",
            " [ 155 1141  134]\n",
            " [  36  507  560]]\n",
            "\n",
            "Classification Report: \n",
            "              precision    recall  f1-score   support\n",
            "\n",
            "    negative       0.69      0.43      0.53      1001\n",
            "     neutral       0.53      0.80      0.64      1430\n",
            "    positive       0.74      0.51      0.60      1103\n",
            "\n",
            "    accuracy                           0.60      3534\n",
            "   macro avg       0.65      0.58      0.59      3534\n",
            "weighted avg       0.64      0.60      0.60      3534\n",
            "\n"
          ]
        }
      ]
    },
    {
      "cell_type": "code",
      "source": [
        "# Defining model using one-vs-one strategy\n",
        "model = SVC(decision_function_shape='ovo')\n",
        "# Fitting the model\n",
        "t0 = time.time()\n",
        "model.fit(train_vectors, train['sentiment'])\n",
        "t1 = time.time()\n",
        "# Making predictions\n",
        "prediction = model.predict(test_vectors)\n",
        "t2 = time.time()\n",
        "# Evaluating the model\n",
        "print(\"Training time: %fs; Prediction time: %fs \\n\" % (t1-t0, t2-t1))\n",
        "print(f\"Test Set Accuracy: {accuracy_score(test['sentiment'], prediction) * 100} %\\n\")\n",
        "print('Test confusion matrix:')\n",
        "print(confusion_matrix(test['sentiment'], prediction))\n",
        "print(f\"\\nClassification Report: \\n{classification_report(test['sentiment'], prediction)}\")"
      ],
      "metadata": {
        "id": "zq9H58F-5RU8"
      },
      "execution_count": null,
      "outputs": []
    },
    {
      "cell_type": "code",
      "source": [
        "# Creating the SVM model using one-vs-one\n",
        "model = OneVsOneClassifier(SVC())\n",
        "   \n",
        "# Fitting the model with training data\n",
        "t0 = time.time()\n",
        "model.fit(train_vectors, train['sentiment'])\n",
        "t1 = time.time()  \n",
        "\n",
        "# Making a prediction on the test set\n",
        "prediction = model.predict(test_vectors)\n",
        "t2 = time.time()\n",
        "\n",
        "# Evaluating the model\n",
        "print(\"Training time: %fs; Prediction time: %fs \\n\" % (t1-t0, t2-t1))\n",
        "print(f\"Test Set Accuracy: {accuracy_score(test['sentiment'], prediction) * 100} %\\n\")\n",
        "print('Test confusion matrix:')\n",
        "print(confusion_matrix(test['sentiment'], prediction))\n",
        "print(f\"\\nClassification Report: \\n{classification_report(test['sentiment'], prediction)}\")"
      ],
      "metadata": {
        "id": "ym5vphuBweSU",
        "outputId": "75758563-37ea-4720-b228-a6d77a0d00be",
        "colab": {
          "base_uri": "https://localhost:8080/"
        }
      },
      "execution_count": 86,
      "outputs": [
        {
          "output_type": "stream",
          "name": "stdout",
          "text": [
            "Training time: 221.068529s; Prediction time: 20.810739s \n",
            "\n",
            "Test Set Accuracy: 60.63950198075835 %\n",
            "\n",
            "Test confusion matrix:\n",
            "[[ 412  542   47]\n",
            " [ 130 1178  122]\n",
            " [  28  522  553]]\n",
            "\n",
            "Classification Report: \n",
            "              precision    recall  f1-score   support\n",
            "\n",
            "    negative       0.72      0.41      0.52      1001\n",
            "     neutral       0.53      0.82      0.64      1430\n",
            "    positive       0.77      0.50      0.61      1103\n",
            "\n",
            "    accuracy                           0.61      3534\n",
            "   macro avg       0.67      0.58      0.59      3534\n",
            "weighted avg       0.66      0.61      0.60      3534\n",
            "\n"
          ]
        }
      ]
    }
  ]
}