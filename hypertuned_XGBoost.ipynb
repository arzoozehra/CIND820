{
  "nbformat": 4,
  "nbformat_minor": 0,
  "metadata": {
    "colab": {
      "provenance": [],
      "include_colab_link": true
    },
    "kernelspec": {
      "name": "python3",
      "display_name": "Python 3"
    },
    "language_info": {
      "name": "python"
    }
  },
  "cells": [
    {
      "cell_type": "markdown",
      "metadata": {
        "id": "view-in-github",
        "colab_type": "text"
      },
      "source": [
        "<a href=\"https://colab.research.google.com/github/arzoozehra/CIND820/blob/main/hypertuned_XGBoost.ipynb\" target=\"_parent\"><img src=\"https://colab.research.google.com/assets/colab-badge.svg\" alt=\"Open In Colab\"/></a>"
      ]
    },
    {
      "cell_type": "markdown",
      "source": [
        "**Import libraries**"
      ],
      "metadata": {
        "id": "-bkY_pYm8WwM"
      }
    },
    {
      "cell_type": "code",
      "execution_count": 2,
      "metadata": {
        "id": "Wr2dHIs7WLWJ",
        "outputId": "bfed0f65-7c62-4aa8-ee68-0394e6e602b4",
        "colab": {
          "base_uri": "https://localhost:8080/"
        }
      },
      "outputs": [
        {
          "output_type": "stream",
          "name": "stdout",
          "text": [
            "Looking in indexes: https://pypi.org/simple, https://us-python.pkg.dev/colab-wheels/public/simple/\n",
            "Collecting contractions\n",
            "  Downloading contractions-0.1.73-py2.py3-none-any.whl (8.7 kB)\n",
            "Collecting textsearch>=0.0.21\n",
            "  Downloading textsearch-0.0.24-py2.py3-none-any.whl (7.6 kB)\n",
            "Collecting pyahocorasick\n",
            "  Downloading pyahocorasick-1.4.4-cp38-cp38-manylinux_2_17_x86_64.manylinux2014_x86_64.whl (110 kB)\n",
            "\u001b[K     |████████████████████████████████| 110 kB 5.6 MB/s \n",
            "\u001b[?25hCollecting anyascii\n",
            "  Downloading anyascii-0.3.1-py3-none-any.whl (287 kB)\n",
            "\u001b[K     |████████████████████████████████| 287 kB 34.7 MB/s \n",
            "\u001b[?25hInstalling collected packages: pyahocorasick, anyascii, textsearch, contractions\n",
            "Successfully installed anyascii-0.3.1 contractions-0.1.73 pyahocorasick-1.4.4 textsearch-0.0.24\n"
          ]
        },
        {
          "output_type": "stream",
          "name": "stderr",
          "text": [
            "[nltk_data] Downloading package stopwords to /root/nltk_data...\n",
            "[nltk_data]   Unzipping corpora/stopwords.zip.\n",
            "[nltk_data] Downloading package wordnet to /root/nltk_data...\n",
            "[nltk_data] Downloading package omw-1.4 to /root/nltk_data...\n"
          ]
        }
      ],
      "source": [
        "import pandas as pd\n",
        "import numpy as np\n",
        "import matplotlib.pyplot as plt\n",
        "import re\n",
        "!pip install contractions\n",
        "import contractions\n",
        "import nltk\n",
        "nltk.download(\"stopwords\")\n",
        "nltk.download(\"wordnet\")\n",
        "nltk.download(\"omw-1.4\")\n",
        "#!pip install pyspellchecker\n",
        "#from spellchecker import SpellChecker\n",
        "from nltk.corpus import stopwords\n",
        "from nltk.stem import PorterStemmer, WordNetLemmatizer\n",
        "from sklearn.feature_extraction.text import TfidfVectorizer\n",
        "from sklearn.model_selection import cross_val_score, RandomizedSearchCV\n",
        "from sklearn.metrics import accuracy_score, classification_report, confusion_matrix, ConfusionMatrixDisplay #, mean_squared_error\n",
        "from xgboost import XGBClassifier"
      ]
    },
    {
      "cell_type": "markdown",
      "source": [
        "**Load data**"
      ],
      "metadata": {
        "id": "GfYAFFPs8gNl"
      }
    },
    {
      "cell_type": "code",
      "source": [
        "url = \"https://raw.githubusercontent.com/arzoozehra/CIND820/main/data/train.csv\"\n",
        "train = pd.read_csv(url)\n",
        "test = pd.read_csv(\"https://raw.githubusercontent.com/arzoozehra/CIND820/main/data/test.csv\")\n",
        "\n",
        "train.drop([\"textID\", \"selected_text\"], axis=1, inplace=True)\n",
        "test.drop([\"textID\"], axis=1, inplace=True)\n",
        "\n",
        "# Remove row with missing values\n",
        "train.dropna(inplace=True)"
      ],
      "metadata": {
        "id": "WzPmmeuGrev1"
      },
      "execution_count": 3,
      "outputs": []
    },
    {
      "cell_type": "code",
      "source": [
        "print(train[\"text\"].head(10))\n",
        "print(train[\"text\"].tail(10))"
      ],
      "metadata": {
        "id": "rQwxYsauWPT1",
        "outputId": "a0c8ed68-0402-4b67-dff6-dd666f9a4c15",
        "colab": {
          "base_uri": "https://localhost:8080/"
        }
      },
      "execution_count": 4,
      "outputs": [
        {
          "output_type": "stream",
          "name": "stdout",
          "text": [
            "0                  I`d have responded, if I were going\n",
            "1        Sooo SAD I will miss you here in San Diego!!!\n",
            "2                            my boss is bullying me...\n",
            "3                       what interview! leave me alone\n",
            "4     Sons of ****, why couldn`t they put them on t...\n",
            "5    http://www.dothebouncy.com/smf - some shameles...\n",
            "6    2am feedings for the baby are fun when he is a...\n",
            "7                                           Soooo high\n",
            "8                                          Both of you\n",
            "9     Journey!? Wow... u just became cooler.  hehe....\n",
            "Name: text, dtype: object\n",
            "27471    i`m defying gravity. and nobody in alll of oz,...\n",
            "27472    http://twitpic.com/663vr - Wanted to visit the...\n",
            "27473     in spoke to you yesterday and u didnt respond...\n",
            "27474    So I get up early and I feel good about the da...\n",
            "27475                                       enjoy ur night\n",
            "27476     wish we could come see u on Denver  husband l...\n",
            "27477     I`ve wondered about rake to.  The client has ...\n",
            "27478     Yay good for both of you. Enjoy the break - y...\n",
            "27479                           But it was worth it  ****.\n",
            "27480       All this flirting going on - The ATG smiles...\n",
            "Name: text, dtype: object\n"
          ]
        }
      ]
    },
    {
      "cell_type": "markdown",
      "source": [
        "**Clean training data**"
      ],
      "metadata": {
        "id": "QbW4UiEpq9kA"
      }
    },
    {
      "cell_type": "code",
      "source": [
        "def clean_data(data):\n",
        "  \n",
        "  # Convert text to lowercase\n",
        "  data[\"text\"] = data[\"text\"].str.lower()\n",
        "\n",
        "  # Expand contractions e.g \"gonna\" to \"going to\" and \"i've\" to \"i have\"\n",
        "  data[\"text\"].replace( {r\"`\": \"'\"}, inplace= True, regex = True)\n",
        "  data[\"text\"] = data[\"text\"].apply(contractions.fix)\n",
        "\n",
        "  # Remove @, Unicode characters, punctuation, emojis, URLs, retweets, words with digits, and 1 or 2 letter words\n",
        "  data[\"text\"].replace( {r\"(@\\[A-Za-z0-9]+)|([^0-9A-Za-z \\t])|(\\w+:\\/\\/\\S+)|^rt|http.+?|\\w*\\d\\w*|\\b\\w{1,2}\\b\": \" \"}, inplace= True, regex = True)\n",
        "\n",
        "  # Remove extra whitespaces\n",
        "  data[\"text\"].replace( {r\" +\": \" \"}, inplace= True, regex = True)\n",
        "  data[\"text\"] = data[\"text\"].str.strip()\n",
        "\n",
        "  # Correct spellings\n",
        "  #spell = SpellChecker()\n",
        "\n",
        "  #def correct_spellings(text):\n",
        "  #    corrected_text = []\n",
        "  #    misspelled_words = {}\n",
        "  #    words = text.split()\n",
        "  #    for w in spell.unknown(words):\n",
        "  #        corr = spell.correction(w)\n",
        "  #        if corr:\n",
        "  #            misspelled_words[w] = spell.correction(w) or w\n",
        "  #    corrected_text = [misspelled_words.get(w, w) for w in words]\n",
        "  #    return \" \".join(corrected_text)\n",
        "\n",
        "  #data[\"text\"] = data[\"text\"].apply(lambda x : correct_spellings(x))\n",
        "\n",
        "  # Remove stopwords\n",
        "  stop = stopwords.words(\"english\")\n",
        "  data[\"text\"] = data[\"text\"].apply(lambda text: \" \".join([word for word in text.split() if word not in (stop)]))\n",
        "\n",
        "  # Stemming\n",
        "  stemmer = PorterStemmer()\n",
        "  data[\"text\"] = data[\"text\"].apply(lambda text: \" \".join([stemmer.stem(word) for word in text.split()]))\n",
        "\n",
        "  # Lemmatizing\n",
        "  lemmatizer = WordNetLemmatizer()\n",
        "  data[\"text\"] = data[\"text\"].apply(lambda text: \" \".join([lemmatizer.lemmatize(word) for word in text.split()]))\n",
        "\n",
        "  return data"
      ],
      "metadata": {
        "id": "5tDnIMd-q89D"
      },
      "execution_count": 5,
      "outputs": []
    },
    {
      "cell_type": "code",
      "source": [
        "#Clean trraining data\n",
        "train = clean_data(train)\n",
        "\n",
        "#Clean testing data\n",
        "test = clean_data(test)"
      ],
      "metadata": {
        "id": "2g_FAIHmx8Wl"
      },
      "execution_count": 6,
      "outputs": []
    },
    {
      "cell_type": "code",
      "source": [
        "print(train[\"text\"].head(10))\n",
        "print(train[\"text\"].tail(10))"
      ],
      "metadata": {
        "id": "tT-89PPBe703",
        "outputId": "1bd58f79-d27c-444b-f6fa-44775e78e794",
        "colab": {
          "base_uri": "https://localhost:8080/"
        }
      },
      "execution_count": 7,
      "outputs": [
        {
          "output_type": "stream",
          "name": "stdout",
          "text": [
            "0                          would respond go\n",
            "1                   sooo sad miss san diego\n",
            "2                                 bos bulli\n",
            "3                       interview leav alon\n",
            "4       son could put releas alreadi bought\n",
            "5    shameless plug best ranger forum earth\n",
            "6                   feed babi fun smile coo\n",
            "7                                soooo high\n",
            "8                                          \n",
            "9     journey wow becam cooler hehe possibl\n",
            "Name: text, dtype: object\n",
            "27471        defi graviti nobodi alll wizard ever go bring\n",
            "27472                                 want visit anim late\n",
            "27473           spoke yesterday respond girl wassup though\n",
            "27474    get earli feel good day walk work feel alright...\n",
            "27475                                          enjoy night\n",
            "27476    wish could come see denver husband lost job ca...\n",
            "27477    wonder rake client made clear net forc dev lea...\n",
            "27478    yay good enjoy break probabl need hectic weeke...\n",
            "27479                                                worth\n",
            "27480                           flirt go atg smile yay hug\n",
            "Name: text, dtype: object\n"
          ]
        }
      ]
    },
    {
      "cell_type": "markdown",
      "source": [
        "\n",
        "**Feature Selection**"
      ],
      "metadata": {
        "id": "SRySCY_E8Kke"
      }
    },
    {
      "cell_type": "code",
      "source": [
        "# Vectorization parameters\n",
        "# Range (inclusive) of n-gram sizes for tokenizing text.\n",
        "NGRAM_RANGE = (1, 2)  # Use 1-grams + 2-grams.\n",
        "\n",
        "# Whether text should be split into word or character n-grams.\n",
        "TOKEN_MODE = \"word\" # Split text into word tokens.\n",
        "\n",
        "# Minimum document frequency below which a token will be discarded.\n",
        "MIN_DOCUMENT_FREQUENCY = 5\n",
        "\n",
        "# In case of large number of features, limit the number to top 20K features\n",
        "# TOP_K = 20000\n",
        "\n",
        "\n",
        "def ngram_vectorize(train_texts, train_labels, test_texts):\n",
        "    \"\"\"Vectorizes texts as n-gram vectors.\n",
        "\n",
        "    1 text = 1 tf-idf vector the length of vocabulary of unigrams + bigrams.\n",
        "\n",
        "    # Arguments\n",
        "        train_texts: list, training text strings.\n",
        "        train_labels: np.ndarray, training labels.\n",
        "        test_texts: list, test text strings.\n",
        "\n",
        "    # Returns\n",
        "        train_vectors, test_vectors: vectorized training and test texts\n",
        "    \"\"\"\n",
        "    # Create keyword arguments to pass to the 'tf-idf' vectorizer.\n",
        "    kwargs = {\n",
        "            \"ngram_range\": NGRAM_RANGE,\n",
        "            \"analyzer\": TOKEN_MODE,  \n",
        "            \"min_df\": MIN_DOCUMENT_FREQUENCY,\n",
        "            \"max_df\" : 0.8,\n",
        "            \"sublinear_tf\": \"True\"\n",
        "    }\n",
        "    vectorizer = TfidfVectorizer(**kwargs)\n",
        "\n",
        "    # Learn vocabulary from training texts and vectorize training texts.\n",
        "    train_vectors = vectorizer.fit_transform(train_texts)\n",
        "\n",
        "    # Vectorize validation texts.\n",
        "    test_vectors = vectorizer.transform(test_texts)\n",
        "\n",
        "    # # Select top 'k' of the vectorized features.\n",
        "    # selector = SelectKBest(f_classif, k=min(TOP_K, train_vectors.shape[1]))\n",
        "    # selector.fit(train_vectors, train_labels)\n",
        "    # train_vectors = selector.transform(train_vectors).astype('float32').toarray()\n",
        "    # test_vectors = selector.transform(test_vectors).astype('float32').toarray()\n",
        "    \n",
        "    return train_vectors, test_vectors"
      ],
      "metadata": {
        "id": "I3KHg2k7kGyh"
      },
      "execution_count": 8,
      "outputs": []
    },
    {
      "cell_type": "code",
      "source": [
        "train_vectors, test_vectors = ngram_vectorize(train[\"text\"], train[\"sentiment\"], test[\"text\"])"
      ],
      "metadata": {
        "id": "BoROqabXyImr"
      },
      "execution_count": 9,
      "outputs": []
    },
    {
      "cell_type": "code",
      "source": [
        "print(np.shape(train_vectors))\n",
        "print(np.shape(test_vectors))\n",
        "print(type(train_vectors))\n",
        "print(type(test_vectors))\n",
        "print(train_vectors)\n",
        "print(test_vectors)"
      ],
      "metadata": {
        "id": "yEjkRWbnyLNX",
        "outputId": "0732ba86-eb81-4ca5-f504-9f5912fa191c",
        "colab": {
          "base_uri": "https://localhost:8080/"
        }
      },
      "execution_count": 10,
      "outputs": [
        {
          "output_type": "stream",
          "name": "stdout",
          "text": [
            "(27480, 5713)\n",
            "(3534, 5713)\n",
            "<class 'scipy.sparse.csr.csr_matrix'>\n",
            "<class 'scipy.sparse.csr.csr_matrix'>\n",
            "  (0, 1820)\t0.38326451581912685\n",
            "  (0, 4000)\t0.8034022007679172\n",
            "  (0, 5589)\t0.45568982292256366\n",
            "  (1, 4105)\t0.45627931100613855\n",
            "  (1, 4082)\t0.439065376010063\n",
            "  (1, 1162)\t0.4469517318318497\n",
            "  (1, 4104)\t0.41594179643203955\n",
            "  (1, 3109)\t0.2234645748731722\n",
            "  (1, 4079)\t0.2573828506031706\n",
            "  (1, 4436)\t0.3317755405729033\n",
            "  (2, 480)\t1.0\n",
            "  (3, 2682)\t0.617798947196839\n",
            "  (3, 96)\t0.44995042684227504\n",
            "  (3, 2681)\t0.38876646508911716\n",
            "  (3, 2430)\t0.5145189110703745\n",
            "  (4, 486)\t0.4341091888771329\n",
            "  (4, 99)\t0.3589756584164877\n",
            "  (4, 3977)\t0.4810972253884908\n",
            "  (4, 3843)\t0.37937883930588473\n",
            "  (4, 897)\t0.3130875967777052\n",
            "  (4, 4421)\t0.45747021930532633\n",
            "  (5, 1277)\t0.442118935829836\n",
            "  (5, 1625)\t0.47174653041671916\n",
            "  (5, 3881)\t0.5183208541233874\n",
            "  (5, 384)\t0.301305095942751\n",
            "  :\t:\n",
            "  (27476, 2628)\t0.3707906113713125\n",
            "  (27476, 2677)\t0.2838849208095284\n",
            "  (27476, 2943)\t0.24432947611696676\n",
            "  (27476, 1611)\t0.3380054097090568\n",
            "  (27476, 5518)\t0.25427598815082597\n",
            "  (27476, 3336)\t0.19460992673182503\n",
            "  (27477, 5651)\t0.3657810491926524\n",
            "  (27477, 5642)\t0.34596552158642824\n",
            "  (27477, 2188)\t0.3598013627604883\n",
            "  (27477, 4723)\t0.3153803319175051\n",
            "  (27477, 5394)\t0.2019116872016598\n",
            "  (27477, 506)\t0.24989768013084196\n",
            "  (27477, 3282)\t0.18149531617450507\n",
            "  (27477, 2356)\t0.29029690258002816\n",
            "  (27477, 1330)\t0.22450503291192944\n",
            "  (27477, 3798)\t0.2458758717370449\n",
            "  (27477, 4721)\t0.2022919959127495\n",
            "  (27477, 5648)\t0.22749721868723072\n",
            "  (27477, 1887)\t0.15072762716197358\n",
            "  (27477, 646)\t0.26628364256954756\n",
            "  (27478, 5587)\t1.0\n",
            "  (27479, 2345)\t0.5509036463284489\n",
            "  (27479, 5648)\t0.49124735520812235\n",
            "  (27479, 4369)\t0.5902730024029709\n",
            "  (27479, 1820)\t0.32673994414094276\n",
            "  (0, 4232)\t0.7948598884654676\n",
            "  (0, 2634)\t0.49189848003773473\n",
            "  (0, 1021)\t0.35529374191678437\n",
            "  (1, 5129)\t0.4512209887262624\n",
            "  (1, 3916)\t0.49502411920728695\n",
            "  (1, 3907)\t0.24489568940436532\n",
            "  (1, 1887)\t0.21315029547292083\n",
            "  (1, 1410)\t0.3249098263544804\n",
            "  (1, 730)\t0.4840160792113276\n",
            "  (1, 104)\t0.3257389037098675\n",
            "  (2, 4242)\t0.5304155035350174\n",
            "  (2, 3856)\t0.4672903727595314\n",
            "  (2, 2228)\t0.46793001052042604\n",
            "  (2, 838)\t0.5304155035350174\n",
            "  (3, 2123)\t0.6914876222765177\n",
            "  (3, 2122)\t0.42818306611855034\n",
            "  (3, 418)\t0.5818110776941987\n",
            "  (4, 2725)\t1.0\n",
            "  (5, 2011)\t1.0\n",
            "  (6, 4852)\t0.44903545919179366\n",
            "  (6, 2816)\t0.4364640286981499\n",
            "  (6, 2150)\t0.5342926266077093\n",
            "  (6, 1384)\t0.567800754837144\n",
            "  (7, 5490)\t0.33545228728144855\n",
            "  (7, 5488)\t0.2570531584406563\n",
            "  :\t:\n",
            "  (3530, 2432)\t0.33719899482237425\n",
            "  (3530, 2337)\t0.20977231906747093\n",
            "  (3530, 2099)\t0.22701536051572271\n",
            "  (3530, 96)\t0.24558609615560326\n",
            "  (3530, 85)\t0.3094918854515032\n",
            "  (3531, 5309)\t0.4145026074618967\n",
            "  (3531, 5292)\t0.18964342801240897\n",
            "  (3531, 4307)\t0.41991276228450664\n",
            "  (3531, 3209)\t0.27952442957634716\n",
            "  (3531, 3039)\t0.27047924230544595\n",
            "  (3531, 2790)\t0.2540516529127522\n",
            "  (3531, 2589)\t0.4012884417462667\n",
            "  (3531, 2571)\t0.19722313653036708\n",
            "  (3531, 1202)\t0.29668620836258675\n",
            "  (3531, 1140)\t0.33482678476965316\n",
            "  (3532, 5699)\t0.34142059147396103\n",
            "  (3532, 5248)\t0.5410324580968165\n",
            "  (3532, 3369)\t0.26647446869232466\n",
            "  (3532, 2915)\t0.4707292107287013\n",
            "  (3532, 2882)\t0.19651031925865378\n",
            "  (3532, 1846)\t0.4707292107287013\n",
            "  (3532, 1820)\t0.19472783903890073\n",
            "  (3533, 983)\t0.44538603703064716\n",
            "  (3533, 334)\t0.6517536753240355\n",
            "  (3533, 134)\t0.6138798129273731\n"
          ]
        }
      ]
    },
    {
      "cell_type": "markdown",
      "source": [
        "**XGBoost modelling and evaluation**"
      ],
      "metadata": {
        "id": "qSC6vhwKaAb5"
      }
    },
    {
      "cell_type": "code",
      "source": [
        "model = XGBClassifier(objective=\"multi:softmax\", random_state=42)\n",
        "model_name = \"XGBoost\"\n",
        "\n",
        "# 5-fold Cross-validation\n",
        "k = 5\n",
        "cv_df = pd.DataFrame(index=range(k))\n",
        "entries = []\n",
        "\n",
        "accuracies = cross_val_score(model, train_vectors, train[\"sentiment\"], scoring=\"accuracy\", cv=k)\n",
        "for fold_id, accuracy in enumerate(accuracies):\n",
        "  entries.append((fold_id, accuracy))\n",
        "\n",
        "cv_df = pd.DataFrame(entries, columns=[\"fold_id\", \"accuracy\"])"
      ],
      "metadata": {
        "id": "wfQ4nX-DdPtN"
      },
      "execution_count": 11,
      "outputs": []
    },
    {
      "cell_type": "code",
      "source": [
        "mean_accuracy = cv_df.accuracy.mean()\n",
        "std_accuracy = cv_df.accuracy.std()\n",
        "\n",
        "acc = pd.DataFrame([[mean_accuracy,std_accuracy]], columns = [\"Accuracy\", \" Std dev\"])\n",
        "print(acc)"
      ],
      "metadata": {
        "id": "TE3JzHbFR2lC",
        "colab": {
          "base_uri": "https://localhost:8080/"
        },
        "outputId": "a04ce4d1-5e64-4050-fd06-32cb8ac7e6fa"
      },
      "execution_count": 12,
      "outputs": [
        {
          "output_type": "stream",
          "name": "stdout",
          "text": [
            "   Accuracy   Std dev\n",
            "0  0.646325  0.002963\n"
          ]
        }
      ]
    },
    {
      "cell_type": "code",
      "source": [
        "model.fit(train_vectors, train[\"sentiment\"])\n",
        "prediction = model.predict(test_vectors)\n",
        "print(f\"Test set accuracy: {accuracy_score(test['sentiment'], prediction) * 100} %\\n\")"
      ],
      "metadata": {
        "id": "mmrYfV82SwfJ",
        "colab": {
          "base_uri": "https://localhost:8080/"
        },
        "outputId": "4221ca90-05ca-443b-a652-0e764fb2ccb0"
      },
      "execution_count": 13,
      "outputs": [
        {
          "output_type": "stream",
          "name": "stdout",
          "text": [
            "Test set accuracy: 64.48783248443691 %\n",
            "\n"
          ]
        }
      ]
    },
    {
      "cell_type": "code",
      "source": [
        "# Classification report\n",
        "print(f\"\\tCLASSIFICATIION METRICS - {model_name}\\n\")\n",
        "print(classification_report(test[\"sentiment\"], prediction, target_names= [\"negative\", \"neutral\", \"positive\"]))"
      ],
      "metadata": {
        "id": "4J1rj4D6TAQq",
        "colab": {
          "base_uri": "https://localhost:8080/"
        },
        "outputId": "528b91cd-3ca1-4e24-a3dc-f70b01779f60"
      },
      "execution_count": 14,
      "outputs": [
        {
          "output_type": "stream",
          "name": "stdout",
          "text": [
            "\tCLASSIFICATIION METRICS - XGBoost\n",
            "\n",
            "              precision    recall  f1-score   support\n",
            "\n",
            "    negative       0.75      0.42      0.54      1001\n",
            "     neutral       0.55      0.83      0.66      1430\n",
            "    positive       0.80      0.61      0.70      1103\n",
            "\n",
            "    accuracy                           0.64      3534\n",
            "   macro avg       0.70      0.62      0.63      3534\n",
            "weighted avg       0.69      0.64      0.64      3534\n",
            "\n"
          ]
        }
      ]
    },
    {
      "cell_type": "code",
      "source": [
        "data = confusion_matrix(test[\"sentiment\"], prediction)\n",
        "disp = ConfusionMatrixDisplay(confusion_matrix=data, display_labels=model.classes_)\n",
        "disp.plot(cmap=\"Blues\")\n",
        "plt.ylabel(\"ACTUAL\")\n",
        "plt.xlabel(\"\\nPREDICTED\")\n",
        "plt.title(f\"\\nCONFUSION MATRIX - {model_name}\\n\");\n",
        "plt.show()"
      ],
      "metadata": {
        "id": "B-fd1cE6WRcx",
        "colab": {
          "base_uri": "https://localhost:8080/",
          "height": 337
        },
        "outputId": "3e48fe21-ff9f-4b80-d869-496990834c7c"
      },
      "execution_count": 16,
      "outputs": [
        {
          "output_type": "display_data",
          "data": {
            "text/plain": [
              "<Figure size 432x288 with 2 Axes>"
            ],
            "image/png": "[encoded data removed]"
          },
          "metadata": {
            "needs_background": "light"
          }
        }
      ]
    },
    {
      "cell_type": "markdown",
      "source": [
        "**Hypertuning the model parameters**"
      ],
      "metadata": {
        "id": "QUzAjDYU3Jdt"
      }
    },
    {
      "cell_type": "code",
      "source": [
        "param_grid = {\"min_child_weight\": range(1,6,2),\n",
        "              \"max_depth\": range(3,10,2),\n",
        "              \"reg_alpha\": [1e-5, 1e-2, 0.1, 1, 100]\n",
        "             }"
      ],
      "metadata": {
        "id": "-C1S3cbd3M2H"
      },
      "execution_count": 17,
      "outputs": []
    },
    {
      "cell_type": "code",
      "source": [
        "random_search = RandomizedSearchCV(XGBClassifier(), param_grid, refit = True, verbose = 3, cv = 3)\n",
        "random_search.fit(train_vectors, train[\"sentiment\"])"
      ],
      "metadata": {
        "id": "_3Xhx2Ye3Oq6",
        "outputId": "a57e6c32-75a9-422d-ddf9-f8d01b651203",
        "colab": {
          "base_uri": "https://localhost:8080/"
        }
      },
      "execution_count": null,
      "outputs": [
        {
          "output_type": "stream",
          "name": "stdout",
          "text": [
            "Fitting 3 folds for each of 10 candidates, totalling 30 fits\n",
            "[CV 1/3] END max_depth=5, min_child_weight=3, reg_alpha=1;, score=0.659 total time=  10.0s\n",
            "[CV 2/3] END max_depth=5, min_child_weight=3, reg_alpha=1;, score=0.659 total time=  10.0s\n",
            "[CV 3/3] END max_depth=5, min_child_weight=3, reg_alpha=1;, score=0.658 total time=   9.8s\n",
            "[CV 1/3] END max_depth=3, min_child_weight=1, reg_alpha=1e-05;, score=0.641 total time=   6.5s\n",
            "[CV 2/3] END max_depth=3, min_child_weight=1, reg_alpha=1e-05;, score=0.645 total time=   6.5s\n",
            "[CV 3/3] END max_depth=3, min_child_weight=1, reg_alpha=1e-05;, score=0.644 total time=   6.5s\n",
            "[CV 1/3] END max_depth=9, min_child_weight=5, reg_alpha=0.1;, score=0.671 total time=  19.3s\n",
            "[CV 2/3] END max_depth=9, min_child_weight=5, reg_alpha=0.1;, score=0.675 total time=  16.6s\n",
            "[CV 3/3] END max_depth=9, min_child_weight=5, reg_alpha=0.1;, score=0.678 total time=  16.5s\n",
            "[CV 1/3] END max_depth=7, min_child_weight=5, reg_alpha=100;, score=0.572 total time=  10.1s\n",
            "[CV 2/3] END max_depth=7, min_child_weight=5, reg_alpha=100;, score=0.581 total time=  20.4s\n",
            "[CV 3/3] END max_depth=7, min_child_weight=5, reg_alpha=100;, score=0.588 total time=  19.9s\n"
          ]
        }
      ]
    },
    {
      "cell_type": "code",
      "source": [
        "print(random_search.best_params_)"
      ],
      "metadata": {
        "id": "Bcea-FoI3VR-"
      },
      "execution_count": null,
      "outputs": []
    },
    {
      "cell_type": "code",
      "source": [
        "print(random_search.best_estimator_)"
      ],
      "metadata": {
        "id": "BGnmScew3V0p"
      },
      "execution_count": null,
      "outputs": []
    },
    {
      "cell_type": "code",
      "source": [
        "print(random_search.best_score_)"
      ],
      "metadata": {
        "id": "YCToS2PO3XvJ"
      },
      "execution_count": null,
      "outputs": []
    },
    {
      "cell_type": "markdown",
      "source": [
        "**Evaluating the model with best parameters**"
      ],
      "metadata": {
        "id": "WT5sp04z3aCo"
      }
    },
    {
      "cell_type": "code",
      "source": [
        "random_predictions = random_search.best_estimator_.predict(train_vectors)\n",
        "print(accuracy_score(train[\"sentiment\"], random_predictions))"
      ],
      "metadata": {
        "id": "C1x4Oo_X3eNl"
      },
      "execution_count": null,
      "outputs": []
    },
    {
      "cell_type": "code",
      "source": [
        "# mse = mean_squared_error(train[\"sentiment\"], random_predictions)\n",
        "# print(np.sqrt(mse))"
      ],
      "metadata": {
        "id": "MvF3oP893pPm"
      },
      "execution_count": null,
      "outputs": []
    },
    {
      "cell_type": "code",
      "source": [
        "random_predictions = random_search.best_estimator_.predict(test_vectors)\n",
        "print(accuracy_score(test[\"sentiment\"], random_predictions))"
      ],
      "metadata": {
        "id": "HinsZoFb3p4X"
      },
      "execution_count": null,
      "outputs": []
    },
    {
      "cell_type": "code",
      "source": [
        "# mse = mean_squared_error(test[\"sentiment\"], random_predictions)\n",
        "# print(np.sqrt(mse))"
      ],
      "metadata": {
        "id": "Ynmxfi-w3uV4"
      },
      "execution_count": null,
      "outputs": []
    },
    {
      "cell_type": "code",
      "source": [
        "print(confusion_matrix(test[\"sentiment\"], random_predictions))"
      ],
      "metadata": {
        "id": "MxGY5hbs305C"
      },
      "execution_count": null,
      "outputs": []
    },
    {
      "cell_type": "code",
      "source": [
        "print(classification_report(test[\"sentiment\"], random_predictions))"
      ],
      "metadata": {
        "id": "NNt9Peni31Vi"
      },
      "execution_count": null,
      "outputs": []
    }
  ]
}