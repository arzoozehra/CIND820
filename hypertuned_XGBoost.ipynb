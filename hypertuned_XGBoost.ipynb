{
  "nbformat": 4,
  "nbformat_minor": 0,
  "metadata": {
    "colab": {
      "provenance": [],
      "include_colab_link": true
    },
    "kernelspec": {
      "name": "python3",
      "display_name": "Python 3"
    },
    "language_info": {
      "name": "python"
    }
  },
  "cells": [
    {
      "cell_type": "markdown",
      "metadata": {
        "id": "view-in-github",
        "colab_type": "text"
      },
      "source": [
        "<a href=\"https://colab.research.google.com/github/arzoozehra/CIND820/blob/main/hypertuned_XGBoost.ipynb\" target=\"_parent\"><img src=\"https://colab.research.google.com/assets/colab-badge.svg\" alt=\"Open In Colab\"/></a>"
      ]
    },
    {
      "cell_type": "markdown",
      "source": [
        "**Import libraries**"
      ],
      "metadata": {
        "id": "-bkY_pYm8WwM"
      }
    },
    {
      "cell_type": "code",
      "execution_count": null,
      "metadata": {
        "id": "Wr2dHIs7WLWJ",
        "outputId": "9bc2f351-a4cc-456a-d5a4-bc936faee506",
        "colab": {
          "base_uri": "https://localhost:8080/"
        }
      },
      "outputs": [
        {
          "output_type": "stream",
          "name": "stdout",
          "text": [
            "Looking in indexes: https://pypi.org/simple, https://us-python.pkg.dev/colab-wheels/public/simple/\n",
            "Collecting contractions\n",
            "  Downloading contractions-0.1.73-py2.py3-none-any.whl (8.7 kB)\n",
            "Collecting textsearch>=0.0.21\n",
            "  Downloading textsearch-0.0.24-py2.py3-none-any.whl (7.6 kB)\n",
            "Collecting anyascii\n",
            "  Downloading anyascii-0.3.1-py3-none-any.whl (287 kB)\n",
            "\u001b[K     |████████████████████████████████| 287 kB 7.3 MB/s \n",
            "\u001b[?25hCollecting pyahocorasick\n",
            "  Downloading pyahocorasick-1.4.4-cp38-cp38-manylinux_2_17_x86_64.manylinux2014_x86_64.whl (110 kB)\n",
            "\u001b[K     |████████████████████████████████| 110 kB 41.1 MB/s \n",
            "\u001b[?25hInstalling collected packages: pyahocorasick, anyascii, textsearch, contractions\n",
            "Successfully installed anyascii-0.3.1 contractions-0.1.73 pyahocorasick-1.4.4 textsearch-0.0.24\n"
          ]
        },
        {
          "output_type": "stream",
          "name": "stderr",
          "text": [
            "[nltk_data] Downloading package stopwords to /root/nltk_data...\n",
            "[nltk_data]   Unzipping corpora/stopwords.zip.\n",
            "[nltk_data] Downloading package wordnet to /root/nltk_data...\n",
            "[nltk_data] Downloading package omw-1.4 to /root/nltk_data...\n"
          ]
        }
      ],
      "source": [
        "import pandas as pd\n",
        "import numpy as np\n",
        "import matplotlib.pyplot as plt\n",
        "import re\n",
        "!pip install contractions\n",
        "import contractions\n",
        "import nltk\n",
        "nltk.download(\"stopwords\")\n",
        "nltk.download(\"wordnet\")\n",
        "nltk.download(\"omw-1.4\")\n",
        "#!pip install pyspellchecker\n",
        "#from spellchecker import SpellChecker\n",
        "from nltk.corpus import stopwords\n",
        "from nltk.stem import PorterStemmer, WordNetLemmatizer\n",
        "from sklearn.feature_extraction.text import TfidfVectorizer\n",
        "from sklearn.model_selection import cross_val_score, RandomizedSearchCV\n",
        "from sklearn.metrics import accuracy_score, classification_report, confusion_matrix, ConfusionMatrixDisplay #, mean_squared_error\n",
        "from xgboost import XGBClassifier"
      ]
    },
    {
      "cell_type": "markdown",
      "source": [
        "**Load and preprocess data**"
      ],
      "metadata": {
        "id": "GfYAFFPs8gNl"
      }
    },
    {
      "cell_type": "code",
      "source": [
        "url = \"https://raw.githubusercontent.com/arzoozehra/CIND820/main/data/train.csv\"\n",
        "train = pd.read_csv(url)\n",
        "test = pd.read_csv(\"https://raw.githubusercontent.com/arzoozehra/CIND820/main/data/test.csv\")\n",
        "\n",
        "# Drop unnecessary columns\n",
        "train.drop([\"textID\", \"selected_text\"], axis=1, inplace=True)\n",
        "test.drop([\"textID\"], axis=1, inplace=True)\n",
        "\n",
        "# Remove row with missing values\n",
        "train.dropna(inplace=True)"
      ],
      "metadata": {
        "id": "WzPmmeuGrev1"
      },
      "execution_count": null,
      "outputs": []
    },
    {
      "cell_type": "code",
      "source": [
        "print(train[\"text\"].head(10))\n",
        "print(train[\"text\"].tail(10))"
      ],
      "metadata": {
        "id": "rQwxYsauWPT1",
        "outputId": "98aabe55-3573-4fb3-8590-e2d7d53f460a",
        "colab": {
          "base_uri": "https://localhost:8080/"
        }
      },
      "execution_count": null,
      "outputs": [
        {
          "output_type": "stream",
          "name": "stdout",
          "text": [
            "0                  I`d have responded, if I were going\n",
            "1        Sooo SAD I will miss you here in San Diego!!!\n",
            "2                            my boss is bullying me...\n",
            "3                       what interview! leave me alone\n",
            "4     Sons of ****, why couldn`t they put them on t...\n",
            "5    http://www.dothebouncy.com/smf - some shameles...\n",
            "6    2am feedings for the baby are fun when he is a...\n",
            "7                                           Soooo high\n",
            "8                                          Both of you\n",
            "9     Journey!? Wow... u just became cooler.  hehe....\n",
            "Name: text, dtype: object\n",
            "27471    i`m defying gravity. and nobody in alll of oz,...\n",
            "27472    http://twitpic.com/663vr - Wanted to visit the...\n",
            "27473     in spoke to you yesterday and u didnt respond...\n",
            "27474    So I get up early and I feel good about the da...\n",
            "27475                                       enjoy ur night\n",
            "27476     wish we could come see u on Denver  husband l...\n",
            "27477     I`ve wondered about rake to.  The client has ...\n",
            "27478     Yay good for both of you. Enjoy the break - y...\n",
            "27479                           But it was worth it  ****.\n",
            "27480       All this flirting going on - The ATG smiles...\n",
            "Name: text, dtype: object\n"
          ]
        }
      ]
    },
    {
      "cell_type": "markdown",
      "source": [
        "**Clean training data**"
      ],
      "metadata": {
        "id": "QbW4UiEpq9kA"
      }
    },
    {
      "cell_type": "code",
      "source": [
        "def clean_data(data):\n",
        "  \"\"\"Cleans text strings given in data.\n",
        "  \n",
        "  # Arguments\n",
        "      data : text strings to be cleaned\n",
        "  # Returns\n",
        "      data: cleaned texts\n",
        "  \"\"\"\n",
        "    \n",
        "  # Convert text to lowercase\n",
        "  data[\"text\"] = data[\"text\"].str.lower()\n",
        "\n",
        "  # Expand contractions e.g \"gonna\" to \"going to\" and \"i've\" to \"i have\"\n",
        "  data[\"text\"].replace( {r\"`\": \"'\"}, inplace= True, regex = True)\n",
        "  data[\"text\"] = data[\"text\"].apply(contractions.fix)\n",
        "\n",
        "  # Remove @, Unicode characters, punctuation, emojis, URLs, retweets, words with digits, and 1 or 2 letter words\n",
        "  data[\"text\"].replace( {r\"(@\\[A-Za-z0-9]+)|([^0-9A-Za-z \\t])|(\\w+:\\/\\/\\S+)|^rt|http.+?|\\w*\\d\\w*|\\b\\w{1,2}\\b\": \" \"}, inplace= True, regex = True)\n",
        "\n",
        "  # Remove extra whitespaces\n",
        "  data[\"text\"].replace( {r\" +\": \" \"}, inplace= True, regex = True)\n",
        "  data[\"text\"] = data[\"text\"].str.strip()\n",
        "\n",
        "  # Correct spellings\n",
        "  #spell = SpellChecker()\n",
        "\n",
        "  #def correct_spellings(text):\n",
        "  #    corrected_text = []\n",
        "  #    misspelled_words = {}\n",
        "  #    words = text.split()\n",
        "  #    for w in spell.unknown(words):\n",
        "  #        corr = spell.correction(w)\n",
        "  #        if corr:\n",
        "  #            misspelled_words[w] = spell.correction(w) or w\n",
        "  #    corrected_text = [misspelled_words.get(w, w) for w in words]\n",
        "  #    return \" \".join(corrected_text)\n",
        "\n",
        "  #data[\"text\"] = data[\"text\"].apply(lambda x : correct_spellings(x))\n",
        "\n",
        "  # Remove stopwords\n",
        "  stop = stopwords.words(\"english\")\n",
        "  data[\"text\"] = data[\"text\"].apply(lambda text: \" \".join([word for word in text.split() if word not in (stop)]))\n",
        "\n",
        "  # Stemming\n",
        "  stemmer = PorterStemmer()\n",
        "  data[\"text\"] = data[\"text\"].apply(lambda text: \" \".join([stemmer.stem(word) for word in text.split()]))\n",
        "\n",
        "  # Lemmatizing\n",
        "  lemmatizer = WordNetLemmatizer()\n",
        "  data[\"text\"] = data[\"text\"].apply(lambda text: \" \".join([lemmatizer.lemmatize(word) for word in text.split()]))\n",
        "\n",
        "  return data"
      ],
      "metadata": {
        "id": "5tDnIMd-q89D"
      },
      "execution_count": null,
      "outputs": []
    },
    {
      "cell_type": "code",
      "source": [
        "#Clean trraining data\n",
        "train = clean_data(train)\n",
        "\n",
        "#Clean testing data\n",
        "test = clean_data(test)"
      ],
      "metadata": {
        "id": "2g_FAIHmx8Wl"
      },
      "execution_count": null,
      "outputs": []
    },
    {
      "cell_type": "code",
      "source": [
        "print(train[\"text\"].head(10))\n",
        "print(train[\"text\"].tail(10))"
      ],
      "metadata": {
        "id": "tT-89PPBe703",
        "outputId": "04bd94de-7ceb-45ac-cb9d-be5641878d53",
        "colab": {
          "base_uri": "https://localhost:8080/"
        }
      },
      "execution_count": null,
      "outputs": [
        {
          "output_type": "stream",
          "name": "stdout",
          "text": [
            "0                          would respond go\n",
            "1                   sooo sad miss san diego\n",
            "2                                 bos bulli\n",
            "3                       interview leav alon\n",
            "4       son could put releas alreadi bought\n",
            "5    shameless plug best ranger forum earth\n",
            "6                   feed babi fun smile coo\n",
            "7                                soooo high\n",
            "8                                          \n",
            "9     journey wow becam cooler hehe possibl\n",
            "Name: text, dtype: object\n",
            "27471        defi graviti nobodi alll wizard ever go bring\n",
            "27472                                 want visit anim late\n",
            "27473           spoke yesterday respond girl wassup though\n",
            "27474    get earli feel good day walk work feel alright...\n",
            "27475                                          enjoy night\n",
            "27476    wish could come see denver husband lost job ca...\n",
            "27477    wonder rake client made clear net forc dev lea...\n",
            "27478    yay good enjoy break probabl need hectic weeke...\n",
            "27479                                                worth\n",
            "27480                           flirt go atg smile yay hug\n",
            "Name: text, dtype: object\n"
          ]
        }
      ]
    },
    {
      "cell_type": "markdown",
      "source": [
        "**Vectorize text using TF-IDF**"
      ],
      "metadata": {
        "id": "SRySCY_E8Kke"
      }
    },
    {
      "cell_type": "code",
      "source": [
        "# Vectorization parameters\n",
        "\n",
        "# Range (inclusive) of n-gram sizes for tokenizing text.\n",
        "NGRAM_RANGE = (1, 2)  # Use 1-grams + 2-grams.\n",
        "\n",
        "# Whether text should be split into word or character n-grams.\n",
        "TOKEN_MODE = \"word\" # Split text into word tokens.\n",
        "\n",
        "# Minimum document frequency below which a token will be discarded.\n",
        "MIN_DOCUMENT_FREQUENCY = 5\n",
        "\n",
        "# In case of large number of features, limit the number to top 20K features\n",
        "TOP_K = 20000\n",
        "\n",
        "def ngram_vectorize(train_texts, train_labels, test_texts):\n",
        "    \"\"\"Vectorizes texts as n-gram vectors.\n",
        "\n",
        "    1 text = 1 tf-idf vector the length of vocabulary of unigrams + bigrams.\n",
        "\n",
        "    # Arguments\n",
        "        train_texts: list, training text strings.\n",
        "        train_labels: np.ndarray, training labels.\n",
        "        test_texts: list, test text strings.\n",
        "\n",
        "    # Returns\n",
        "        train_vectors, test_vectors: vectorized training and test texts\n",
        "    \"\"\"\n",
        "    # Create keyword arguments to pass to the 'tf-idf' vectorizer.\n",
        "    kwargs = {\n",
        "            \"ngram_range\": NGRAM_RANGE,\n",
        "            \"analyzer\": TOKEN_MODE,  \n",
        "            \"min_df\": MIN_DOCUMENT_FREQUENCY,\n",
        "            \"max_df\" : 0.8,\n",
        "            \"max_features\": TOP_K,\n",
        "            \"sublinear_tf\": \"True\"\n",
        "    }\n",
        "    vectorizer = TfidfVectorizer(**kwargs)\n",
        "\n",
        "    # Learn vocabulary from training texts and vectorize training texts.\n",
        "    train_vectors = vectorizer.fit_transform(train_texts)\n",
        "\n",
        "    # Vectorize validation texts.\n",
        "    test_vectors = vectorizer.transform(test_texts)\n",
        "    \n",
        "    return train_vectors, test_vectors"
      ],
      "metadata": {
        "id": "I3KHg2k7kGyh"
      },
      "execution_count": null,
      "outputs": []
    },
    {
      "cell_type": "code",
      "source": [
        "# Create feature vectors\n",
        "train_vectors, test_vectors = ngram_vectorize(train[\"text\"], train[\"sentiment\"], test[\"text\"])"
      ],
      "metadata": {
        "id": "BoROqabXyImr"
      },
      "execution_count": null,
      "outputs": []
    },
    {
      "cell_type": "markdown",
      "source": [
        "**XGBoost modelling and evaluation**"
      ],
      "metadata": {
        "id": "qSC6vhwKaAb5"
      }
    },
    {
      "cell_type": "code",
      "source": [
        "model = XGBClassifier(objective=\"multi:softmax\", random_state=42)\n",
        "model_name = \"XGBoost\"\n",
        "\n",
        "# 5-fold Cross-validation\n",
        "k = 5\n",
        "cv_df = pd.DataFrame(index=range(k))\n",
        "entries = []\n",
        "\n",
        "accuracies = cross_val_score(model, train_vectors, train[\"sentiment\"], scoring=\"accuracy\", cv=k)\n",
        "for fold_id, accuracy in enumerate(accuracies):\n",
        "  entries.append((fold_id, accuracy))\n",
        "\n",
        "cv_df = pd.DataFrame(entries, columns=[\"fold_id\", \"accuracy\"])"
      ],
      "metadata": {
        "id": "wfQ4nX-DdPtN"
      },
      "execution_count": null,
      "outputs": []
    },
    {
      "cell_type": "code",
      "source": [
        "mean_accuracy = cv_df.accuracy.mean()\n",
        "std_accuracy = cv_df.accuracy.std()\n",
        "\n",
        "acc = pd.DataFrame([[mean_accuracy,std_accuracy]], columns = [\"Accuracy\", \" Std dev\"])\n",
        "print(acc)"
      ],
      "metadata": {
        "id": "TE3JzHbFR2lC",
        "colab": {
          "base_uri": "https://localhost:8080/"
        },
        "outputId": "590a4d13-d0a5-497a-f772-52b9801bf1bb"
      },
      "execution_count": null,
      "outputs": [
        {
          "output_type": "stream",
          "name": "stdout",
          "text": [
            "   Accuracy   Std dev\n",
            "0  0.646325  0.002963\n"
          ]
        }
      ]
    },
    {
      "cell_type": "code",
      "source": [
        "model.fit(train_vectors, train[\"sentiment\"])\n",
        "prediction = model.predict(test_vectors)\n",
        "print(f\"Test set accuracy: {accuracy_score(test['sentiment'], prediction) * 100} %\\n\")"
      ],
      "metadata": {
        "id": "mmrYfV82SwfJ",
        "colab": {
          "base_uri": "https://localhost:8080/"
        },
        "outputId": "d748579c-15ef-4c28-afa0-b858cdc2a9b9"
      },
      "execution_count": null,
      "outputs": [
        {
          "output_type": "stream",
          "name": "stdout",
          "text": [
            "Test set accuracy: 64.48783248443691 %\n",
            "\n"
          ]
        }
      ]
    },
    {
      "cell_type": "code",
      "source": [
        "data = confusion_matrix(test[\"sentiment\"], prediction)\n",
        "disp = ConfusionMatrixDisplay(confusion_matrix=data, display_labels=model.classes_)\n",
        "disp.plot(cmap=\"Blues\")\n",
        "plt.ylabel(\"ACTUAL\")\n",
        "plt.xlabel(\"\\nPREDICTED\")\n",
        "plt.title(f\"\\nCONFUSION MATRIX - {model_name}\\n\");\n",
        "plt.show()"
      ],
      "metadata": {
        "id": "B-fd1cE6WRcx",
        "colab": {
          "base_uri": "https://localhost:8080/",
          "height": 337
        },
        "outputId": "fbeaef17-9803-46dd-9fe6-394dc24b35f0"
      },
      "execution_count": null,
      "outputs": [
        {
          "output_type": "display_data",
          "data": {
            "text/plain": [
              "<Figure size 432x288 with 2 Axes>"
            ],
            "image/png": "[encoded data removed]"
          },
          "metadata": {
            "needs_background": "light"
          }
        }
      ]
    },
    {
      "cell_type": "code",
      "source": [
        "# Classification report\n",
        "print(f\"\\tCLASSIFICATIION METRICS - {model_name}\\n\")\n",
        "print(classification_report(test[\"sentiment\"], prediction, target_names= [\"negative\", \"neutral\", \"positive\"]))"
      ],
      "metadata": {
        "id": "4J1rj4D6TAQq",
        "colab": {
          "base_uri": "https://localhost:8080/"
        },
        "outputId": "166eb764-aa9e-4ccb-c824-3c946c81387a"
      },
      "execution_count": null,
      "outputs": [
        {
          "output_type": "stream",
          "name": "stdout",
          "text": [
            "\tCLASSIFICATIION METRICS - XGBoost\n",
            "\n",
            "              precision    recall  f1-score   support\n",
            "\n",
            "    negative       0.75      0.42      0.54      1001\n",
            "     neutral       0.55      0.83      0.66      1430\n",
            "    positive       0.80      0.61      0.70      1103\n",
            "\n",
            "    accuracy                           0.64      3534\n",
            "   macro avg       0.70      0.62      0.63      3534\n",
            "weighted avg       0.69      0.64      0.64      3534\n",
            "\n"
          ]
        }
      ]
    },
    {
      "cell_type": "markdown",
      "source": [
        "**Tuning hyperparameters of the model**"
      ],
      "metadata": {
        "id": "QUzAjDYU3Jdt"
      }
    },
    {
      "cell_type": "code",
      "source": [
        "param_grid = {\"min_child_weight\": range(1,6,2),\n",
        "              \"max_depth\": range(3,10,2),\n",
        "              \"alpha\": [1e-5, 1e-2, 0.1, 1, 100]\n",
        "             }"
      ],
      "metadata": {
        "id": "-C1S3cbd3M2H"
      },
      "execution_count": null,
      "outputs": []
    },
    {
      "cell_type": "code",
      "source": [
        "random_search = RandomizedSearchCV(XGBClassifier(), param_grid, refit = True, verbose = 3, return_train_score = True)\n",
        "random_search.fit(train_vectors, train[\"sentiment\"])"
      ],
      "metadata": {
        "id": "_3Xhx2Ye3Oq6",
        "outputId": "0ec8df1e-68d6-4d41-8c9e-54fadc7f22b6",
        "colab": {
          "base_uri": "https://localhost:8080/"
        }
      },
      "execution_count": null,
      "outputs": [
        {
          "output_type": "stream",
          "name": "stdout",
          "text": [
            "Fitting 5 folds for each of 10 candidates, totalling 50 fits\n",
            "[CV 1/5] END alpha=1e-05, max_depth=3, min_child_weight=3;, score=0.640 total time=   7.1s\n",
            "[CV 2/5] END alpha=1e-05, max_depth=3, min_child_weight=3;, score=0.648 total time=   7.1s\n",
            "[CV 3/5] END alpha=1e-05, max_depth=3, min_child_weight=3;, score=0.647 total time=   7.3s\n",
            "[CV 4/5] END alpha=1e-05, max_depth=3, min_child_weight=3;, score=0.642 total time=   7.0s\n",
            "[CV 5/5] END alpha=1e-05, max_depth=3, min_child_weight=3;, score=0.648 total time=   7.0s\n",
            "[CV 1/5] END alpha=0.01, max_depth=5, min_child_weight=1;, score=0.661 total time=  14.4s\n",
            "[CV 2/5] END alpha=0.01, max_depth=5, min_child_weight=1;, score=0.661 total time=  13.4s\n",
            "[CV 3/5] END alpha=0.01, max_depth=5, min_child_weight=1;, score=0.663 total time=  12.3s\n",
            "[CV 4/5] END alpha=0.01, max_depth=5, min_child_weight=1;, score=0.659 total time=  12.2s\n",
            "[CV 5/5] END alpha=0.01, max_depth=5, min_child_weight=1;, score=0.666 total time=  12.2s\n",
            "[CV 1/5] END alpha=0.1, max_depth=9, min_child_weight=3;, score=0.671 total time=  20.1s\n",
            "[CV 2/5] END alpha=0.1, max_depth=9, min_child_weight=3;, score=0.679 total time=  19.9s\n",
            "[CV 3/5] END alpha=0.1, max_depth=9, min_child_weight=3;, score=0.681 total time=  20.0s\n",
            "[CV 4/5] END alpha=0.1, max_depth=9, min_child_weight=3;, score=0.678 total time=  19.9s\n",
            "[CV 5/5] END alpha=0.1, max_depth=9, min_child_weight=3;, score=0.680 total time=  21.2s\n",
            "[CV 1/5] END alpha=1, max_depth=5, min_child_weight=3;, score=0.659 total time=  11.2s\n",
            "[CV 2/5] END alpha=1, max_depth=5, min_child_weight=3;, score=0.662 total time=  11.2s\n",
            "[CV 3/5] END alpha=1, max_depth=5, min_child_weight=3;, score=0.661 total time=  11.3s\n",
            "[CV 4/5] END alpha=1, max_depth=5, min_child_weight=3;, score=0.659 total time=  11.3s\n",
            "[CV 5/5] END alpha=1, max_depth=5, min_child_weight=3;, score=0.661 total time=  11.3s\n",
            "[CV 1/5] END alpha=1, max_depth=7, min_child_weight=3;, score=0.668 total time=  15.6s\n",
            "[CV 2/5] END alpha=1, max_depth=7, min_child_weight=3;, score=0.670 total time=  15.6s\n",
            "[CV 3/5] END alpha=1, max_depth=7, min_child_weight=3;, score=0.674 total time=  15.6s\n",
            "[CV 4/5] END alpha=1, max_depth=7, min_child_weight=3;, score=0.670 total time=  15.5s\n",
            "[CV 5/5] END alpha=1, max_depth=7, min_child_weight=3;, score=0.675 total time=  15.6s\n",
            "[CV 1/5] END alpha=1, max_depth=5, min_child_weight=5;, score=0.659 total time=  12.0s\n",
            "[CV 2/5] END alpha=1, max_depth=5, min_child_weight=5;, score=0.659 total time=  10.8s\n",
            "[CV 3/5] END alpha=1, max_depth=5, min_child_weight=5;, score=0.661 total time=  10.7s\n",
            "[CV 4/5] END alpha=1, max_depth=5, min_child_weight=5;, score=0.660 total time=  10.7s\n",
            "[CV 5/5] END alpha=1, max_depth=5, min_child_weight=5;, score=0.662 total time=  10.7s\n",
            "[CV 1/5] END alpha=0.01, max_depth=7, min_child_weight=3;, score=0.668 total time=  15.6s\n",
            "[CV 2/5] END alpha=0.01, max_depth=7, min_child_weight=3;, score=0.670 total time=  15.5s\n",
            "[CV 3/5] END alpha=0.01, max_depth=7, min_child_weight=3;, score=0.674 total time=  15.6s\n",
            "[CV 4/5] END alpha=0.01, max_depth=7, min_child_weight=3;, score=0.670 total time=  15.5s\n",
            "[CV 5/5] END alpha=0.01, max_depth=7, min_child_weight=3;, score=0.675 total time=  15.6s\n",
            "[CV 1/5] END alpha=100, max_depth=5, min_child_weight=1;, score=0.661 total time=  12.2s\n",
            "[CV 2/5] END alpha=100, max_depth=5, min_child_weight=1;, score=0.661 total time=  13.4s\n",
            "[CV 3/5] END alpha=100, max_depth=5, min_child_weight=1;, score=0.663 total time=  12.2s\n",
            "[CV 4/5] END alpha=100, max_depth=5, min_child_weight=1;, score=0.659 total time=  12.1s\n",
            "[CV 5/5] END alpha=100, max_depth=5, min_child_weight=1;, score=0.666 total time=  12.2s\n",
            "[CV 1/5] END alpha=1e-05, max_depth=9, min_child_weight=1;, score=0.674 total time=  21.8s\n",
            "[CV 2/5] END alpha=1e-05, max_depth=9, min_child_weight=1;, score=0.678 total time=  21.9s\n",
            "[CV 3/5] END alpha=1e-05, max_depth=9, min_child_weight=1;, score=0.683 total time=  21.8s\n",
            "[CV 4/5] END alpha=1e-05, max_depth=9, min_child_weight=1;, score=0.679 total time=  21.7s\n",
            "[CV 5/5] END alpha=1e-05, max_depth=9, min_child_weight=1;, score=0.684 total time=  23.8s\n",
            "[CV 1/5] END alpha=0.01, max_depth=9, min_child_weight=3;, score=0.671 total time=  21.0s\n",
            "[CV 2/5] END alpha=0.01, max_depth=9, min_child_weight=3;, score=0.679 total time=  19.9s\n",
            "[CV 3/5] END alpha=0.01, max_depth=9, min_child_weight=3;, score=0.681 total time=  19.9s\n",
            "[CV 4/5] END alpha=0.01, max_depth=9, min_child_weight=3;, score=0.678 total time=  19.9s\n",
            "[CV 5/5] END alpha=0.01, max_depth=9, min_child_weight=3;, score=0.680 total time=  20.0s\n"
          ]
        },
        {
          "output_type": "execute_result",
          "data": {
            "text/plain": [
              "RandomizedSearchCV(estimator=XGBClassifier(),\n",
              "                   param_distributions={'alpha': [1e-05, 0.01, 0.1, 1, 100],\n",
              "                                        'max_depth': range(3, 10, 2),\n",
              "                                        'min_child_weight': range(1, 6, 2)},\n",
              "                   verbose=5)"
            ]
          },
          "metadata": {},
          "execution_count": 15
        }
      ]
    },
    {
      "cell_type": "code",
      "source": [
        "print(random_search.best_params_)"
      ],
      "metadata": {
        "id": "Bcea-FoI3VR-",
        "outputId": "10e80590-05da-44ef-a9ab-64f5362089b0",
        "colab": {
          "base_uri": "https://localhost:8080/"
        }
      },
      "execution_count": null,
      "outputs": [
        {
          "output_type": "stream",
          "name": "stdout",
          "text": [
            "{'min_child_weight': 1, 'max_depth': 9, 'alpha': 1e-05}\n"
          ]
        }
      ]
    },
    {
      "cell_type": "code",
      "source": [
        "print(random_search.best_estimator_)"
      ],
      "metadata": {
        "id": "BGnmScew3V0p",
        "outputId": "4647f004-e5f5-47d8-9309-5059cae36980",
        "colab": {
          "base_uri": "https://localhost:8080/"
        }
      },
      "execution_count": null,
      "outputs": [
        {
          "output_type": "stream",
          "name": "stdout",
          "text": [
            "XGBClassifier(alpha=1e-05, max_depth=9, objective='multi:softprob')\n"
          ]
        }
      ]
    },
    {
      "cell_type": "code",
      "source": [
        "print(random_search.best_score_)"
      ],
      "metadata": {
        "id": "YCToS2PO3XvJ",
        "outputId": "8cc0afb0-a400-44f4-c975-c0e7a0e0f0dd",
        "colab": {
          "base_uri": "https://localhost:8080/"
        }
      },
      "execution_count": null,
      "outputs": [
        {
          "output_type": "stream",
          "name": "stdout",
          "text": [
            "0.6798034934497816\n"
          ]
        }
      ]
    },
    {
      "cell_type": "markdown",
      "source": [
        "**Evaluating the model with best parameters**"
      ],
      "metadata": {
        "id": "WT5sp04z3aCo"
      }
    },
    {
      "cell_type": "code",
      "source": [
        "random_predictions = random_search.best_estimator_.predict(train_vectors)\n",
        "print(accuracy_score(train[\"sentiment\"], random_predictions))"
      ],
      "metadata": {
        "id": "C1x4Oo_X3eNl",
        "outputId": "8fc64983-4957-4ec1-8a68-378548d06cd1",
        "colab": {
          "base_uri": "https://localhost:8080/"
        }
      },
      "execution_count": null,
      "outputs": [
        {
          "output_type": "stream",
          "name": "stdout",
          "text": [
            "0.7314410480349345\n"
          ]
        }
      ]
    },
    {
      "cell_type": "code",
      "source": [
        "random_predictions = random_search.best_estimator_.predict(test_vectors)\n",
        "print(accuracy_score(test[\"sentiment\"], random_predictions))"
      ],
      "metadata": {
        "id": "HinsZoFb3p4X",
        "outputId": "73f07b48-7185-4c66-f53d-deb0ac1fb4b0",
        "colab": {
          "base_uri": "https://localhost:8080/"
        }
      },
      "execution_count": null,
      "outputs": [
        {
          "output_type": "stream",
          "name": "stdout",
          "text": [
            "0.6867572156196944\n"
          ]
        }
      ]
    },
    {
      "cell_type": "code",
      "source": [
        "data = confusion_matrix(test[\"sentiment\"], random_predictions)\n",
        "disp = ConfusionMatrixDisplay(confusion_matrix=data, display_labels=model.classes_)\n",
        "disp.plot(cmap=\"Blues\")\n",
        "plt.ylabel(\"ACTUAL\")\n",
        "plt.xlabel(\"\\nPREDICTED\")\n",
        "plt.title(f\"\\nCONFUSION MATRIX - {model_name}\\n\");\n",
        "plt.show()"
      ],
      "metadata": {
        "id": "nOkjKrNS_2xP",
        "outputId": "9e633c66-caaf-4119-ad90-e48665bb7b21",
        "colab": {
          "base_uri": "https://localhost:8080/",
          "height": 337
        }
      },
      "execution_count": null,
      "outputs": [
        {
          "output_type": "display_data",
          "data": {
            "text/plain": [
              "<Figure size 432x288 with 2 Axes>"
            ],
            "image/png": "[encoded data removed]"
          },
          "metadata": {
            "needs_background": "light"
          }
        }
      ]
    },
    {
      "cell_type": "code",
      "source": [
        "print(classification_report(test[\"sentiment\"], random_predictions))"
      ],
      "metadata": {
        "id": "NNt9Peni31Vi",
        "outputId": "b2e7ca80-b5e0-428b-85a7-1fa4e6f06011",
        "colab": {
          "base_uri": "https://localhost:8080/"
        }
      },
      "execution_count": null,
      "outputs": [
        {
          "output_type": "stream",
          "name": "stdout",
          "text": [
            "              precision    recall  f1-score   support\n",
            "\n",
            "    negative       0.76      0.52      0.62      1001\n",
            "     neutral       0.60      0.80      0.69      1430\n",
            "    positive       0.80      0.70      0.74      1103\n",
            "\n",
            "    accuracy                           0.69      3534\n",
            "   macro avg       0.72      0.67      0.68      3534\n",
            "weighted avg       0.71      0.69      0.68      3534\n",
            "\n"
          ]
        }
      ]
    }
  ]
}