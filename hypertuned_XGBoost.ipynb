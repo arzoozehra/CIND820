{
  "nbformat": 4,
  "nbformat_minor": 0,
  "metadata": {
    "colab": {
      "provenance": [],
      "include_colab_link": true
    },
    "kernelspec": {
      "name": "python3",
      "display_name": "Python 3"
    },
    "language_info": {
      "name": "python"
    }
  },
  "cells": [
    {
      "cell_type": "markdown",
      "metadata": {
        "id": "view-in-github",
        "colab_type": "text"
      },
      "source": [
        "<a href=\"https://colab.research.google.com/github/arzoozehra/CIND820/blob/main/hypertuned_XGBoost.ipynb\" target=\"_parent\"><img src=\"https://colab.research.google.com/assets/colab-badge.svg\" alt=\"Open In Colab\"/></a>"
      ]
    },
    {
      "cell_type": "markdown",
      "source": [
        "**Import libraries**"
      ],
      "metadata": {
        "id": "-bkY_pYm8WwM"
      }
    },
    {
      "cell_type": "code",
      "execution_count": null,
      "metadata": {
        "id": "Wr2dHIs7WLWJ",
        "outputId": "437ed3ff-b8ed-42a5-ec70-b8db0c883b27",
        "colab": {
          "base_uri": "https://localhost:8080/"
        }
      },
      "outputs": [
        {
          "output_type": "stream",
          "name": "stderr",
          "text": [
            "[nltk_data] Downloading package stopwords to /root/nltk_data...\n",
            "[nltk_data]   Package stopwords is already up-to-date!\n",
            "[nltk_data] Downloading package wordnet to /root/nltk_data...\n",
            "[nltk_data]   Package wordnet is already up-to-date!\n",
            "[nltk_data] Downloading package omw-1.4 to /root/nltk_data...\n",
            "[nltk_data]   Package omw-1.4 is already up-to-date!\n"
          ]
        }
      ],
      "source": [
        "import pandas as pd\n",
        "import numpy as np\n",
        "import matplotlib.pyplot as plt\n",
        "import re\n",
        "#!pip install contractions\n",
        "import contractions\n",
        "import nltk\n",
        "nltk.download(\"stopwords\")\n",
        "nltk.download(\"wordnet\")\n",
        "nltk.download(\"omw-1.4\")\n",
        "#!pip install pyspellchecker\n",
        "#from spellchecker import SpellChecker\n",
        "from nltk.corpus import stopwords\n",
        "from nltk.stem import PorterStemmer, WordNetLemmatizer\n",
        "from sklearn.feature_extraction.text import TfidfVectorizer\n",
        "#from sklearn.feature_selection import SelectKBest, f_classif\n",
        "from sklearn.preprocessing import StandardScaler\n",
        "from sklearn.model_selection import cross_val_score, RandomizedSearchCV\n",
        "from sklearn.metrics import accuracy_score, classification_report, confusion_matrix, ConfusionMatrixDisplay\n",
        "from xgboost import XGBClassifier"
      ]
    },
    {
      "cell_type": "markdown",
      "source": [
        "**Load data**"
      ],
      "metadata": {
        "id": "GfYAFFPs8gNl"
      }
    },
    {
      "cell_type": "code",
      "source": [
        "url = \"https://raw.githubusercontent.com/arzoozehra/CIND820/main/data/train.csv\"\n",
        "train = pd.read_csv(url)\n",
        "test = pd.read_csv(\"https://raw.githubusercontent.com/arzoozehra/CIND820/main/data/test.csv\")\n",
        "\n",
        "train.drop([\"textID\", \"selected_text\"], axis=1, inplace=True)\n",
        "test.drop([\"textID\"], axis=1, inplace=True)\n",
        "\n",
        "# Remove row with missing values\n",
        "train.dropna(inplace=True)"
      ],
      "metadata": {
        "id": "WzPmmeuGrev1"
      },
      "execution_count": null,
      "outputs": []
    },
    {
      "cell_type": "code",
      "source": [
        "print(train[\"text\"].head(10))\n",
        "print(train[\"text\"].tail(10))"
      ],
      "metadata": {
        "id": "rQwxYsauWPT1",
        "outputId": "d0e932e5-702b-4c4d-d5da-318722a20067",
        "colab": {
          "base_uri": "https://localhost:8080/"
        }
      },
      "execution_count": null,
      "outputs": [
        {
          "output_type": "stream",
          "name": "stdout",
          "text": [
            "0                  I`d have responded, if I were going\n",
            "1        Sooo SAD I will miss you here in San Diego!!!\n",
            "2                            my boss is bullying me...\n",
            "3                       what interview! leave me alone\n",
            "4     Sons of ****, why couldn`t they put them on t...\n",
            "5    http://www.dothebouncy.com/smf - some shameles...\n",
            "6    2am feedings for the baby are fun when he is a...\n",
            "7                                           Soooo high\n",
            "8                                          Both of you\n",
            "9     Journey!? Wow... u just became cooler.  hehe....\n",
            "Name: text, dtype: object\n",
            "27471    i`m defying gravity. and nobody in alll of oz,...\n",
            "27472    http://twitpic.com/663vr - Wanted to visit the...\n",
            "27473     in spoke to you yesterday and u didnt respond...\n",
            "27474    So I get up early and I feel good about the da...\n",
            "27475                                       enjoy ur night\n",
            "27476     wish we could come see u on Denver  husband l...\n",
            "27477     I`ve wondered about rake to.  The client has ...\n",
            "27478     Yay good for both of you. Enjoy the break - y...\n",
            "27479                           But it was worth it  ****.\n",
            "27480       All this flirting going on - The ATG smiles...\n",
            "Name: text, dtype: object\n"
          ]
        }
      ]
    },
    {
      "cell_type": "markdown",
      "source": [
        "**Clean training data**"
      ],
      "metadata": {
        "id": "QbW4UiEpq9kA"
      }
    },
    {
      "cell_type": "code",
      "source": [
        "def clean_data(data):\n",
        "  \n",
        "  # Convert text to lowercase\n",
        "  data[\"text\"] = data[\"text\"].str.lower()\n",
        "\n",
        "  # Expand contractions e.g \"gonna\" to \"going to\" and \"i've\" to \"i have\"\n",
        "  data[\"text\"].replace( {r\"`\": \"'\"}, inplace= True, regex = True)\n",
        "  data[\"text\"] = data[\"text\"].apply(contractions.fix)\n",
        "\n",
        "  # Remove @, Unicode characters, punctuation, emojis, URLs, retweets, words with digits, and 1 or 2 letter words\n",
        "  data[\"text\"].replace( {r\"(@\\[A-Za-z0-9]+)|([^0-9A-Za-z \\t])|(\\w+:\\/\\/\\S+)|^rt|http.+?|\\w*\\d\\w*|\\b\\w{1,2}\\b\": \" \"}, inplace= True, regex = True)\n",
        "\n",
        "  # Remove extra whitespaces\n",
        "  data[\"text\"].replace( {r\" +\": \" \"}, inplace= True, regex = True)\n",
        "  data[\"text\"] = data[\"text\"].str.strip()\n",
        "\n",
        "  # Correct spellings\n",
        "  #spell = SpellChecker()\n",
        "\n",
        "  #def correct_spellings(text):\n",
        "  #    corrected_text = []\n",
        "  #    misspelled_words = {}\n",
        "  #    words = text.split()\n",
        "  #    for w in spell.unknown(words):\n",
        "  #        corr = spell.correction(w)\n",
        "  #        if corr:\n",
        "  #            misspelled_words[w] = spell.correction(w) or w\n",
        "  #    corrected_text = [misspelled_words.get(w, w) for w in words]\n",
        "  #    return \" \".join(corrected_text)\n",
        "\n",
        "  #data[\"text\"] = data[\"text\"].apply(lambda x : correct_spellings(x))\n",
        "\n",
        "  # Remove stopwords\n",
        "  stop = stopwords.words(\"english\")\n",
        "  data[\"text\"] = data[\"text\"].apply(lambda text: \" \".join([word for word in text.split() if word not in (stop)]))\n",
        "\n",
        "  # Stemming\n",
        "  stemmer = PorterStemmer()\n",
        "  data[\"text\"] = data[\"text\"].apply(lambda text: \" \".join([stemmer.stem(word) for word in text.split()]))\n",
        "\n",
        "  # Lemmatizing\n",
        "  lemmatizer = WordNetLemmatizer()\n",
        "  data[\"text\"] = data[\"text\"].apply(lambda text: \" \".join([lemmatizer.lemmatize(word) for word in text.split()]))\n",
        "\n",
        "  return data"
      ],
      "metadata": {
        "id": "5tDnIMd-q89D"
      },
      "execution_count": null,
      "outputs": []
    },
    {
      "cell_type": "code",
      "source": [
        "#Clean trraining data\n",
        "train = clean_data(train)\n",
        "\n",
        "#Clean testing data\n",
        "test = clean_data(test)"
      ],
      "metadata": {
        "id": "2g_FAIHmx8Wl"
      },
      "execution_count": null,
      "outputs": []
    },
    {
      "cell_type": "code",
      "source": [
        "print(train[\"text\"].head(10))\n",
        "print(train[\"text\"].tail(10))"
      ],
      "metadata": {
        "id": "tT-89PPBe703",
        "outputId": "b91b5735-1e48-4cfa-ba15-dd3301d457cf",
        "colab": {
          "base_uri": "https://localhost:8080/"
        }
      },
      "execution_count": null,
      "outputs": [
        {
          "output_type": "stream",
          "name": "stdout",
          "text": [
            "0                          would respond go\n",
            "1                   sooo sad miss san diego\n",
            "2                                 bos bulli\n",
            "3                       interview leav alon\n",
            "4       son could put releas alreadi bought\n",
            "5    shameless plug best ranger forum earth\n",
            "6                   feed babi fun smile coo\n",
            "7                                soooo high\n",
            "8                                          \n",
            "9     journey wow becam cooler hehe possibl\n",
            "Name: text, dtype: object\n",
            "27471        defi graviti nobodi alll wizard ever go bring\n",
            "27472                                 want visit anim late\n",
            "27473           spoke yesterday respond girl wassup though\n",
            "27474    get earli feel good day walk work feel alright...\n",
            "27475                                          enjoy night\n",
            "27476    wish could come see denver husband lost job ca...\n",
            "27477    wonder rake client made clear net forc dev lea...\n",
            "27478    yay good enjoy break probabl need hectic weeke...\n",
            "27479                                                worth\n",
            "27480                           flirt go atg smile yay hug\n",
            "Name: text, dtype: object\n"
          ]
        }
      ]
    },
    {
      "cell_type": "code",
      "source": [
        "print(test['text'].head(20))\n",
        "print(test['text'].tail(20))"
      ],
      "metadata": {
        "id": "1C8JW4YmUcbO",
        "outputId": "de819b47-fdea-43bf-e377-d23a3608068f",
        "colab": {
          "base_uri": "https://localhost:8080/"
        }
      },
      "execution_count": null,
      "outputs": [
        {
          "output_type": "stream",
          "name": "stdout",
          "text": [
            "0                                      last session day\n",
            "1     shanghai also realli excit precis skyscrap gal...\n",
            "2     recess hit veroniqu branquinho quit compani shame\n",
            "3                                        happi birthday\n",
            "4                                                  like\n",
            "5                                    great weee visitor\n",
            "6                                think everyon hate lol\n",
            "7        soooooo wish could school myspac complet block\n",
            "8                           within short time last clue\n",
            "9     get day alright done anyth yet leav soon steps...\n",
            "10                bike put hold known argh total bummer\n",
            "11                                            check win\n",
            "12                             twitter tavern bore much\n",
            "13    weekend youngest son turn tomorrow make kind s...\n",
            "14          come socket feel like phone hole virgin loo\n",
            "15               hot today like hate new timet bad week\n",
            "16                                                 miss\n",
            "17                                                cramp\n",
            "18          guy say answer question yesterday nice song\n",
            "19          go spiritu stagnent explod ego realis great\n",
            "Name: text, dtype: object\n",
            "3514                                        notic ridicul\n",
            "3515                        ride high low mood chore blow\n",
            "3516            hate websit say ticket price anoth websit\n",
            "3517                                          brake wrrkk\n",
            "3518                     outta follow talk lol shi biteee\n",
            "3519    ye thank haha field flower exist singapor well...\n",
            "3520                                song site want comput\n",
            "3521                      munchin bacon butti woohoo fave\n",
            "3522           school today teacher cancel lesson chillin\n",
            "3523    eye start hurt late must reach updat due tweet...\n",
            "3524    hair dresser pas away yesterday breast cancer ...\n",
            "3525    suppos tomorrow tooooo use ga ticket money pay...\n",
            "3526               best thing ever done carri birth child\n",
            "3527    mother citi terrel texa district citi council ...\n",
            "3528                                     friday even idea\n",
            "3529                                tire cannot sleep tri\n",
            "3530    alon old hous thank net keep aliv kick whoever...\n",
            "3531    know mean littl dog sink depress want move som...\n",
            "3532                sutra next youtub video go love video\n",
            "3533                                  omgssh ang cute bbi\n",
            "Name: text, dtype: object\n"
          ]
        }
      ]
    },
    {
      "cell_type": "markdown",
      "source": [
        "\n",
        "**Feature Selection**"
      ],
      "metadata": {
        "id": "SRySCY_E8Kke"
      }
    },
    {
      "cell_type": "code",
      "source": [
        "# Vectorization parameters\n",
        "# Range (inclusive) of n-gram sizes for tokenizing text.\n",
        "NGRAM_RANGE = (1, 2)  # Use 1-grams + 2-grams.\n",
        "\n",
        "# Whether text should be split into word or character n-grams.\n",
        "TOKEN_MODE = \"word\" # Split text into word tokens.\n",
        "\n",
        "# Minimum document frequency below which a token will be discarded.\n",
        "MIN_DOCUMENT_FREQUENCY = 5\n",
        "\n",
        "# In case of large number of features, limit the number to top 20K features\n",
        "# TOP_K = 20000\n",
        "\n",
        "\n",
        "def ngram_vectorize(train_texts, train_labels, test_texts):\n",
        "    \"\"\"Vectorizes texts as n-gram vectors.\n",
        "\n",
        "    1 text = 1 tf-idf vector the length of vocabulary of unigrams + bigrams.\n",
        "\n",
        "    # Arguments\n",
        "        train_texts: list, training text strings.\n",
        "        train_labels: np.ndarray, training labels.\n",
        "        test_texts: list, test text strings.\n",
        "\n",
        "    # Returns\n",
        "        train_vectors, test_vectors: vectorized training and test texts\n",
        "    \"\"\"\n",
        "    # Create keyword arguments to pass to the 'tf-idf' vectorizer.\n",
        "    kwargs = {\n",
        "            \"ngram_range\": NGRAM_RANGE,\n",
        "            \"analyzer\": TOKEN_MODE,  \n",
        "            \"min_df\": MIN_DOCUMENT_FREQUENCY,\n",
        "            \"max_df\" : 0.8,\n",
        "            \"sublinear_tf\": \"True\"\n",
        "    }\n",
        "    vectorizer = TfidfVectorizer(**kwargs)\n",
        "\n",
        "    # Learn vocabulary from training texts and vectorize training texts.\n",
        "    train_vectors = vectorizer.fit_transform(train_texts)\n",
        "\n",
        "    # Vectorize validation texts.\n",
        "    test_vectors = vectorizer.transform(test_texts)\n",
        "\n",
        "    # # Select top 'k' of the vectorized features.\n",
        "    # selector = SelectKBest(f_classif, k=min(TOP_K, train_vectors.shape[1]))\n",
        "    # selector.fit(train_vectors, train_labels)\n",
        "    # train_vectors = selector.transform(train_vectors).astype('float32').toarray()\n",
        "    # test_vectors = selector.transform(test_vectors).astype('float32').toarray()\n",
        "    \n",
        "    return train_vectors, test_vectors"
      ],
      "metadata": {
        "id": "I3KHg2k7kGyh"
      },
      "execution_count": null,
      "outputs": []
    },
    {
      "cell_type": "code",
      "source": [
        "# # Create feature vectors\n",
        "# vectorizer = TfidfVectorizer(ngram_range = NGRAM_RANGE,\n",
        "#                              min_df = 5,\n",
        "#                              max_df = 0.8,\n",
        "#                              sublinear_tf = True,\n",
        "#                              use_idf = True)\n",
        "# train_vectors = vectorizer.fit_transform(train[\"text\"])\n",
        "# test_vectors = vectorizer.transform(test[\"text\"])\n",
        "\n",
        "\n",
        "train_vectors, test_vectors = ngram_vectorize(train[\"text\"], train[\"sentiment\"], test[\"text\"])"
      ],
      "metadata": {
        "id": "BoROqabXyImr"
      },
      "execution_count": null,
      "outputs": []
    },
    {
      "cell_type": "code",
      "source": [
        "print(np.shape(train_vectors))\n",
        "print(np.shape(test_vectors))\n",
        "print(type(train_vectors))\n",
        "print(type(test_vectors))\n",
        "print(train_vectors)\n",
        "print(test_vectors)"
      ],
      "metadata": {
        "id": "yEjkRWbnyLNX"
      },
      "execution_count": null,
      "outputs": []
    },
    {
      "cell_type": "markdown",
      "source": [
        "**Standardization**"
      ],
      "metadata": {
        "id": "CzTCtZlnyPRm"
      }
    },
    {
      "cell_type": "code",
      "source": [
        "scaler = StandardScaler(with_mean = False)\n",
        "train_vectors = scaler.fit_transform(train_vectors)\n",
        "test_vectors = scaler.transform(test_vectors)"
      ],
      "metadata": {
        "id": "-M3TMYdtyP72"
      },
      "execution_count": null,
      "outputs": []
    },
    {
      "cell_type": "markdown",
      "source": [
        "**XGBoost modelling and evaluation**"
      ],
      "metadata": {
        "id": "qSC6vhwKaAb5"
      }
    },
    {
      "cell_type": "code",
      "source": [
        "model = XGBoost(objective=\"multi:softmax\", random_state=42)\n",
        "model_name = \"XGBoost\"\n",
        "\n",
        "# 5-fold Cross-validation\n",
        "k = 5\n",
        "cv_df = pd.DataFrame(index=range(k))\n",
        "entries = []\n",
        "\n",
        "accuracies = cross_val_score(model, train_vectors, train[\"sentiment\"], scoring=\"accuracy\", cv=k)\n",
        "for fold_id, accuracy in enumerate(accuracies):\n",
        "  entries.append((fold_id, accuracy))\n",
        "\n",
        "cv_df = pd.DataFrame(entries, columns=[\"fold_id\", \"accuracy\"])"
      ],
      "metadata": {
        "id": "wfQ4nX-DdPtN"
      },
      "execution_count": null,
      "outputs": []
    },
    {
      "cell_type": "code",
      "source": [
        "mean_accuracy = cv_df.accuracy.mean()\n",
        "std_accuracy = cv_df.accuracy.std()\n",
        "\n",
        "acc = pd.DataFrame([[mean_accuracy,std_accuracy]], columns = [\"Accuracy\", \" Std dev\"])\n",
        "print(acc)"
      ],
      "metadata": {
        "id": "TE3JzHbFR2lC",
        "colab": {
          "base_uri": "https://localhost:8080/",
          "height": 112
        },
        "outputId": "299f10be-47a6-4bad-ed38-b5ce9d9f23b3"
      },
      "execution_count": null,
      "outputs": [
        {
          "output_type": "execute_result",
          "data": {
            "text/plain": [
              "            Accuracy   Std dev\n",
              "model_name                    \n",
              "LinearSVC   0.679658  0.003572"
            ],
            "text/html": [
              "\n",
              "  <div id=\"df-62ed2c2b-669b-43bc-8664-e6c8691d4fd1\">\n",
              "    <div class=\"colab-df-container\">\n",
              "      <div>\n",
              "<style scoped>\n",
              "    .dataframe tbody tr th:only-of-type {\n",
              "        vertical-align: middle;\n",
              "    }\n",
              "\n",
              "    .dataframe tbody tr th {\n",
              "        vertical-align: top;\n",
              "    }\n",
              "\n",
              "    .dataframe thead th {\n",
              "        text-align: right;\n",
              "    }\n",
              "</style>\n",
              "<table border=\"1\" class=\"dataframe\">\n",
              "  <thead>\n",
              "    <tr style=\"text-align: right;\">\n",
              "      <th></th>\n",
              "      <th>Accuracy</th>\n",
              "      <th>Std dev</th>\n",
              "    </tr>\n",
              "    <tr>\n",
              "      <th>model_name</th>\n",
              "      <th></th>\n",
              "      <th></th>\n",
              "    </tr>\n",
              "  </thead>\n",
              "  <tbody>\n",
              "    <tr>\n",
              "      <th>LinearSVC</th>\n",
              "      <td>0.679658</td>\n",
              "      <td>0.003572</td>\n",
              "    </tr>\n",
              "  </tbody>\n",
              "</table>\n",
              "</div>\n",
              "      <button class=\"colab-df-convert\" onclick=\"convertToInteractive('df-62ed2c2b-669b-43bc-8664-e6c8691d4fd1')\"\n",
              "              title=\"Convert this dataframe to an interactive table.\"\n",
              "              style=\"display:none;\">\n",
              "        \n",
              "  <svg xmlns=\"http://www.w3.org/2000/svg\" height=\"24px\"viewBox=\"0 0 24 24\"\n",
              "       width=\"24px\">\n",
              "    <path d=\"M0 0h24v24H0V0z\" fill=\"none\"/>\n",
              "    <path d=\"M18.56 5.44l.94 2.06.94-2.06 2.06-.94-2.06-.94-.94-2.06-.94 2.06-2.06.94zm-11 1L8.5 8.5l.94-2.06 2.06-.94-2.06-.94L8.5 2.5l-.94 2.06-2.06.94zm10 10l.94 2.06.94-2.06 2.06-.94-2.06-.94-.94-2.06-.94 2.06-2.06.94z\"/><path d=\"M17.41 7.96l-1.37-1.37c-.4-.4-.92-.59-1.43-.59-.52 0-1.04.2-1.43.59L10.3 9.45l-7.72 7.72c-.78.78-.78 2.05 0 2.83L4 21.41c.39.39.9.59 1.41.59.51 0 1.02-.2 1.41-.59l7.78-7.78 2.81-2.81c.8-.78.8-2.07 0-2.86zM5.41 20L4 18.59l7.72-7.72 1.47 1.35L5.41 20z\"/>\n",
              "  </svg>\n",
              "      </button>\n",
              "      \n",
              "  <style>\n",
              "    .colab-df-container {\n",
              "      display:flex;\n",
              "      flex-wrap:wrap;\n",
              "      gap: 12px;\n",
              "    }\n",
              "\n",
              "    .colab-df-convert {\n",
              "      background-color: #E8F0FE;\n",
              "      border: none;\n",
              "      border-radius: 50%;\n",
              "      cursor: pointer;\n",
              "      display: none;\n",
              "      fill: #1967D2;\n",
              "      height: 32px;\n",
              "      padding: 0 0 0 0;\n",
              "      width: 32px;\n",
              "    }\n",
              "\n",
              "    .colab-df-convert:hover {\n",
              "      background-color: #E2EBFA;\n",
              "      box-shadow: 0px 1px 2px rgba(60, 64, 67, 0.3), 0px 1px 3px 1px rgba(60, 64, 67, 0.15);\n",
              "      fill: #174EA6;\n",
              "    }\n",
              "\n",
              "    [theme=dark] .colab-df-convert {\n",
              "      background-color: #3B4455;\n",
              "      fill: #D2E3FC;\n",
              "    }\n",
              "\n",
              "    [theme=dark] .colab-df-convert:hover {\n",
              "      background-color: #434B5C;\n",
              "      box-shadow: 0px 1px 3px 1px rgba(0, 0, 0, 0.15);\n",
              "      filter: drop-shadow(0px 1px 2px rgba(0, 0, 0, 0.3));\n",
              "      fill: #FFFFFF;\n",
              "    }\n",
              "  </style>\n",
              "\n",
              "      <script>\n",
              "        const buttonEl =\n",
              "          document.querySelector('#df-62ed2c2b-669b-43bc-8664-e6c8691d4fd1 button.colab-df-convert');\n",
              "        buttonEl.style.display =\n",
              "          google.colab.kernel.accessAllowed ? 'block' : 'none';\n",
              "\n",
              "        async function convertToInteractive(key) {\n",
              "          const element = document.querySelector('#df-62ed2c2b-669b-43bc-8664-e6c8691d4fd1');\n",
              "          const dataTable =\n",
              "            await google.colab.kernel.invokeFunction('convertToInteractive',\n",
              "                                                     [key], {});\n",
              "          if (!dataTable) return;\n",
              "\n",
              "          const docLinkHtml = 'Like what you see? Visit the ' +\n",
              "            '<a target=\"_blank\" href=https://colab.research.google.com/notebooks/data_table.ipynb>data table notebook</a>'\n",
              "            + ' to learn more about interactive tables.';\n",
              "          element.innerHTML = '';\n",
              "          dataTable['output_type'] = 'display_data';\n",
              "          await google.colab.output.renderOutput(dataTable, element);\n",
              "          const docLink = document.createElement('div');\n",
              "          docLink.innerHTML = docLinkHtml;\n",
              "          element.appendChild(docLink);\n",
              "        }\n",
              "      </script>\n",
              "    </div>\n",
              "  </div>\n",
              "  "
            ]
          },
          "metadata": {},
          "execution_count": 48
        }
      ]
    },
    {
      "cell_type": "code",
      "source": [
        "model.fit(train_vectors, train[\"sentiment\"])\n",
        "prediction = model.predict(test_vectors)\n",
        "print(f\"Test set accuracy: {accuracy_score(test['sentiment'], prediction) * 100} %\\n\")"
      ],
      "metadata": {
        "id": "mmrYfV82SwfJ",
        "colab": {
          "base_uri": "https://localhost:8080/"
        },
        "outputId": "7c0e9194-dcb9-4142-9e12-24b25b3c6151"
      },
      "execution_count": null,
      "outputs": [
        {
          "output_type": "stream",
          "name": "stdout",
          "text": [
            "Test set accuracy: 64.62931522354273 %\n",
            "\n"
          ]
        }
      ]
    },
    {
      "cell_type": "code",
      "source": [
        "# Classification report\n",
        "print(f\"\\tCLASSIFICATIION METRICS - {model_name}\\n\")\n",
        "print(classification_report(test[\"sentiment\"], prediction, target_names= [\"negative\", \"neutral\", \"positive\"]))"
      ],
      "metadata": {
        "id": "4J1rj4D6TAQq",
        "colab": {
          "base_uri": "https://localhost:8080/"
        },
        "outputId": "46032a0c-cb3f-4d33-e3f4-06ac13467076"
      },
      "execution_count": null,
      "outputs": [
        {
          "output_type": "stream",
          "name": "stdout",
          "text": [
            "\tCLASSIFICATIION METRICS - XGBClassifier\n",
            "\n",
            "              precision    recall  f1-score   support\n",
            "\n",
            "    negative       0.76      0.41      0.54      1001\n",
            "     neutral       0.56      0.83      0.67      1430\n",
            "    positive       0.80      0.61      0.70      1103\n",
            "\n",
            "    accuracy                           0.65      3534\n",
            "   macro avg       0.71      0.62      0.63      3534\n",
            "weighted avg       0.69      0.65      0.64      3534\n",
            "\n"
          ]
        }
      ]
    },
    {
      "cell_type": "code",
      "source": [
        "data = confusion_matrix(test[\"sentiment\"], prediction)\n",
        "disp = ConfusionMatrixDisplay(confusion_matrix=data, display_labels=model.classes_)\n",
        "disp.plot(cmap=\"Blues\")\n",
        "plt.ylabel(\"ACTUAL\")\n",
        "plt.xlabel(\"\\nPREDICTED\")\n",
        "plt.title(f\"\\nCONFUSION MATRIX - {model_name}}\\n\");\n",
        "plt.show()"
      ],
      "metadata": {
        "id": "B-fd1cE6WRcx",
        "colab": {
          "base_uri": "https://localhost:8080/",
          "height": 337
        },
        "outputId": "7bcefc76-0082-4e36-9511-d1eb03c1570c"
      },
      "execution_count": null,
      "outputs": [
        {
          "output_type": "display_data",
          "data": {
            "text/plain": [
              "<Figure size 432x288 with 2 Axes>"
            ],
            "image/png": "[encoded data removed]"
          },
          "metadata": {
            "needs_background": "light"
          }
        }
      ]
    },
    {
      "cell_type": "markdown",
      "source": [
        "**Hypertuning the model parameters**"
      ],
      "metadata": {
        "id": "QUzAjDYU3Jdt"
      }
    },
    {
      "cell_type": "code",
      "source": [
        "param_grid = {\"kernel\": (\"linear\", \"rbf\",\"poly\") , \n",
        "              \"C\":[5, 10, 90],\n",
        "              \"gamma\": [1,0.1,0.01,0.001], \n",
        "              \"degree\": [2,3,4,5,6]}"
      ],
      "metadata": {
        "id": "-C1S3cbd3M2H"
      },
      "execution_count": null,
      "outputs": []
    },
    {
      "cell_type": "code",
      "source": [
        "random_search = RandomizedSearchCV(SVC(), param_grid, refit = True, verbose = 3, cv = 3)\n",
        "random_search.fit(train_vectors, train[\"sentiment\"])"
      ],
      "metadata": {
        "id": "_3Xhx2Ye3Oq6"
      },
      "execution_count": null,
      "outputs": []
    },
    {
      "cell_type": "code",
      "source": [
        "print(random_search.best_params_)"
      ],
      "metadata": {
        "id": "Bcea-FoI3VR-"
      },
      "execution_count": null,
      "outputs": []
    },
    {
      "cell_type": "code",
      "source": [
        "print(random_search.best_estimator_)"
      ],
      "metadata": {
        "id": "BGnmScew3V0p"
      },
      "execution_count": null,
      "outputs": []
    },
    {
      "cell_type": "code",
      "source": [
        "print(random_search.best_score_)"
      ],
      "metadata": {
        "id": "YCToS2PO3XvJ"
      },
      "execution_count": null,
      "outputs": []
    },
    {
      "cell_type": "markdown",
      "source": [
        "**Evaluating the model with best parameters**"
      ],
      "metadata": {
        "id": "WT5sp04z3aCo"
      }
    },
    {
      "cell_type": "code",
      "source": [
        "random_predictions = random_search.best_estimator_.predict(train_vectors)\n",
        "print(accuracy_score(train[\"sentiment\"], random_predictions))"
      ],
      "metadata": {
        "id": "C1x4Oo_X3eNl"
      },
      "execution_count": null,
      "outputs": []
    },
    {
      "cell_type": "code",
      "source": [
        "mse = mean_squared_error(train[\"sentiment\"], random_predictions)\n",
        "print(np.sqrt(mse))"
      ],
      "metadata": {
        "id": "MvF3oP893pPm"
      },
      "execution_count": null,
      "outputs": []
    },
    {
      "cell_type": "code",
      "source": [
        "random_predictions = random_search.best_estimator_.predict(test_vectors)\n",
        "print(accuracy_score(test[\"sentiment\"], random_predictions))"
      ],
      "metadata": {
        "id": "HinsZoFb3p4X"
      },
      "execution_count": null,
      "outputs": []
    },
    {
      "cell_type": "code",
      "source": [
        "mse = mean_squared_error(test[\"sentiment\"], random_predictions)\n",
        "print(np.sqrt(mse))"
      ],
      "metadata": {
        "id": "Ynmxfi-w3uV4"
      },
      "execution_count": null,
      "outputs": []
    },
    {
      "cell_type": "code",
      "source": [
        "print(confusion_matrix(test[\"sentiment\"], random_predictions))"
      ],
      "metadata": {
        "id": "MxGY5hbs305C"
      },
      "execution_count": null,
      "outputs": []
    },
    {
      "cell_type": "code",
      "source": [
        "print(classification_report(test[\"sentiment\"], random_predictions))"
      ],
      "metadata": {
        "id": "NNt9Peni31Vi"
      },
      "execution_count": null,
      "outputs": []
    }
  ]
}