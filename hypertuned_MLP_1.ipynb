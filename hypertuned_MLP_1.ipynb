{
  "nbformat": 4,
  "nbformat_minor": 0,
  "metadata": {
    "colab": {
      "provenance": [],
      "include_colab_link": true
    },
    "kernelspec": {
      "name": "python3",
      "display_name": "Python 3"
    },
    "language_info": {
      "name": "python"
    }
  },
  "cells": [
    {
      "cell_type": "markdown",
      "metadata": {
        "id": "view-in-github",
        "colab_type": "text"
      },
      "source": [
        "<a href=\"https://colab.research.google.com/github/arzoozehra/CIND820/blob/main/hypertuned_MLP_1.ipynb\" target=\"_parent\"><img src=\"https://colab.research.google.com/assets/colab-badge.svg\" alt=\"Open In Colab\"/></a>"
      ]
    },
    {
      "cell_type": "markdown",
      "source": [
        "**Import libraries**"
      ],
      "metadata": {
        "id": "-bkY_pYm8WwM"
      }
    },
    {
      "cell_type": "code",
      "execution_count": 1,
      "metadata": {
        "id": "Wr2dHIs7WLWJ",
        "outputId": "db3f89f4-5c92-4d1f-8e59-80cfa584934e",
        "colab": {
          "base_uri": "https://localhost:8080/"
        }
      },
      "outputs": [
        {
          "output_type": "stream",
          "name": "stdout",
          "text": [
            "Looking in indexes: https://pypi.org/simple, https://us-python.pkg.dev/colab-wheels/public/simple/\n",
            "Collecting contractions\n",
            "  Downloading contractions-0.1.73-py2.py3-none-any.whl (8.7 kB)\n",
            "Collecting textsearch>=0.0.21\n",
            "  Downloading textsearch-0.0.24-py2.py3-none-any.whl (7.6 kB)\n",
            "Collecting anyascii\n",
            "  Downloading anyascii-0.3.1-py3-none-any.whl (287 kB)\n",
            "\u001b[K     |████████████████████████████████| 287 kB 6.0 MB/s \n",
            "\u001b[?25hCollecting pyahocorasick\n",
            "  Downloading pyahocorasick-1.4.4-cp38-cp38-manylinux_2_17_x86_64.manylinux2014_x86_64.whl (110 kB)\n",
            "\u001b[K     |████████████████████████████████| 110 kB 41.9 MB/s \n",
            "\u001b[?25hInstalling collected packages: pyahocorasick, anyascii, textsearch, contractions\n",
            "Successfully installed anyascii-0.3.1 contractions-0.1.73 pyahocorasick-1.4.4 textsearch-0.0.24\n"
          ]
        },
        {
          "output_type": "stream",
          "name": "stderr",
          "text": [
            "[nltk_data] Downloading package stopwords to /root/nltk_data...\n",
            "[nltk_data]   Unzipping corpora/stopwords.zip.\n",
            "[nltk_data] Downloading package wordnet to /root/nltk_data...\n",
            "[nltk_data] Downloading package omw-1.4 to /root/nltk_data...\n"
          ]
        }
      ],
      "source": [
        "import pandas as pd\n",
        "import numpy as np\n",
        "import matplotlib.pyplot as plt\n",
        "import re\n",
        "!pip install contractions\n",
        "import contractions\n",
        "import nltk\n",
        "nltk.download(\"stopwords\")\n",
        "nltk.download(\"wordnet\")\n",
        "nltk.download(\"omw-1.4\")\n",
        "#!pip install pyspellchecker\n",
        "#from spellchecker import SpellChecker\n",
        "from nltk.corpus import stopwords\n",
        "from nltk.stem import PorterStemmer, WordNetLemmatizer\n",
        "from sklearn.feature_extraction.text import TfidfVectorizer\n",
        "from sklearn.neural_network import MLPClassifier\n",
        "from sklearn.model_selection import cross_val_score, RandomizedSearchCV\n",
        "from sklearn.metrics import accuracy_score, classification_report, confusion_matrix, ConfusionMatrixDisplay"
      ]
    },
    {
      "cell_type": "markdown",
      "source": [
        "**Load and preprocess data**"
      ],
      "metadata": {
        "id": "GfYAFFPs8gNl"
      }
    },
    {
      "cell_type": "code",
      "source": [
        "url = \"https://raw.githubusercontent.com/arzoozehra/CIND820/main/data/train.csv\"\n",
        "train = pd.read_csv(url)\n",
        "test = pd.read_csv(\"https://raw.githubusercontent.com/arzoozehra/CIND820/main/data/test.csv\")\n",
        "\n",
        "# Drop unnecessary columns\n",
        "train.drop([\"textID\", \"selected_text\"], axis=1, inplace=True)\n",
        "test.drop([\"textID\"], axis=1, inplace=True)\n",
        "\n",
        "# Remove row with missing values\n",
        "train.dropna(inplace=True)"
      ],
      "metadata": {
        "id": "WzPmmeuGrev1"
      },
      "execution_count": 2,
      "outputs": []
    },
    {
      "cell_type": "code",
      "source": [
        "print(train[\"text\"].head(10))\n",
        "print(train[\"text\"].tail(10))"
      ],
      "metadata": {
        "id": "rQwxYsauWPT1",
        "outputId": "a095b0a9-5635-4137-c889-412b9f95c7fa",
        "colab": {
          "base_uri": "https://localhost:8080/"
        }
      },
      "execution_count": 3,
      "outputs": [
        {
          "output_type": "stream",
          "name": "stdout",
          "text": [
            "0                  I`d have responded, if I were going\n",
            "1        Sooo SAD I will miss you here in San Diego!!!\n",
            "2                            my boss is bullying me...\n",
            "3                       what interview! leave me alone\n",
            "4     Sons of ****, why couldn`t they put them on t...\n",
            "5    http://www.dothebouncy.com/smf - some shameles...\n",
            "6    2am feedings for the baby are fun when he is a...\n",
            "7                                           Soooo high\n",
            "8                                          Both of you\n",
            "9     Journey!? Wow... u just became cooler.  hehe....\n",
            "Name: text, dtype: object\n",
            "27471    i`m defying gravity. and nobody in alll of oz,...\n",
            "27472    http://twitpic.com/663vr - Wanted to visit the...\n",
            "27473     in spoke to you yesterday and u didnt respond...\n",
            "27474    So I get up early and I feel good about the da...\n",
            "27475                                       enjoy ur night\n",
            "27476     wish we could come see u on Denver  husband l...\n",
            "27477     I`ve wondered about rake to.  The client has ...\n",
            "27478     Yay good for both of you. Enjoy the break - y...\n",
            "27479                           But it was worth it  ****.\n",
            "27480       All this flirting going on - The ATG smiles...\n",
            "Name: text, dtype: object\n"
          ]
        }
      ]
    },
    {
      "cell_type": "markdown",
      "source": [
        "**Clean data**"
      ],
      "metadata": {
        "id": "QbW4UiEpq9kA"
      }
    },
    {
      "cell_type": "code",
      "source": [
        "def clean_data(data):\n",
        "  \n",
        "  # Convert text to lowercase\n",
        "  data[\"text\"] = data[\"text\"].str.lower()\n",
        "\n",
        "  # Expand contractions e.g \"gonna\" to \"going to\" and \"i've\" to \"i have\"\n",
        "  data[\"text\"].replace( {r\"`\": \"'\"}, inplace= True, regex = True)\n",
        "  data[\"text\"] = data[\"text\"].apply(contractions.fix)\n",
        "\n",
        "  # Remove @, Unicode characters, punctuation, emojis, URLs, retweets, words with digits, and 1 or 2 letter words\n",
        "  data[\"text\"].replace( {r\"(@\\[A-Za-z0-9]+)|([^0-9A-Za-z \\t])|(\\w+:\\/\\/\\S+)|^rt|http.+?|\\w*\\d\\w*|\\b\\w{1,2}\\b\": \" \"}, inplace= True, regex = True)\n",
        "\n",
        "  # Remove extra whitespaces\n",
        "  data[\"text\"].replace( {r\" +\": \" \"}, inplace= True, regex = True)\n",
        "  data[\"text\"] = data[\"text\"].str.strip()\n",
        "\n",
        "  # Correct spellings\n",
        "  #spell = SpellChecker()\n",
        "\n",
        "  #def correct_spellings(text):\n",
        "  #    corrected_text = []\n",
        "  #    misspelled_words = {}\n",
        "  #    words = text.split()\n",
        "  #    for w in spell.unknown(words):\n",
        "  #        corr = spell.correction(w)\n",
        "  #        if corr:\n",
        "  #            misspelled_words[w] = spell.correction(w) or w\n",
        "  #    corrected_text = [misspelled_words.get(w, w) for w in words]\n",
        "  #    return \" \".join(corrected_text)\n",
        "\n",
        "  #data[\"text\"] = data[\"text\"].apply(lambda x : correct_spellings(x))\n",
        "\n",
        "  # Remove stopwords\n",
        "  stop = stopwords.words(\"english\")\n",
        "  data[\"text\"] = data[\"text\"].apply(lambda text: \" \".join([word for word in text.split() if word not in (stop)]))\n",
        "\n",
        "  # Stemming\n",
        "  stemmer = PorterStemmer()\n",
        "  data[\"text\"] = data[\"text\"].apply(lambda text: \" \".join([stemmer.stem(word) for word in text.split()]))\n",
        "\n",
        "  # Lemmatizing\n",
        "  lemmatizer = WordNetLemmatizer()\n",
        "  data[\"text\"] = data[\"text\"].apply(lambda text: \" \".join([lemmatizer.lemmatize(word) for word in text.split()]))\n",
        "\n",
        "  return data"
      ],
      "metadata": {
        "id": "NyWCTuFDeTPP"
      },
      "execution_count": 4,
      "outputs": []
    },
    {
      "cell_type": "code",
      "source": [
        "#Clean trraining data\n",
        "train = clean_data(train)\n",
        "\n",
        "#Clean testing data\n",
        "test = clean_data(test)"
      ],
      "metadata": {
        "id": "5tDnIMd-q89D"
      },
      "execution_count": 5,
      "outputs": []
    },
    {
      "cell_type": "code",
      "source": [
        "print(train[\"text\"].head(10))\n",
        "print(train[\"text\"].tail(10))"
      ],
      "metadata": {
        "id": "tT-89PPBe703",
        "outputId": "804958bc-ab60-4ac5-a772-19eb1484364b",
        "colab": {
          "base_uri": "https://localhost:8080/"
        }
      },
      "execution_count": 6,
      "outputs": [
        {
          "output_type": "stream",
          "name": "stdout",
          "text": [
            "0                          would respond go\n",
            "1                   sooo sad miss san diego\n",
            "2                                 bos bulli\n",
            "3                       interview leav alon\n",
            "4       son could put releas alreadi bought\n",
            "5    shameless plug best ranger forum earth\n",
            "6                   feed babi fun smile coo\n",
            "7                                soooo high\n",
            "8                                          \n",
            "9     journey wow becam cooler hehe possibl\n",
            "Name: text, dtype: object\n",
            "27471        defi graviti nobodi alll wizard ever go bring\n",
            "27472                                 want visit anim late\n",
            "27473           spoke yesterday respond girl wassup though\n",
            "27474    get earli feel good day walk work feel alright...\n",
            "27475                                          enjoy night\n",
            "27476    wish could come see denver husband lost job ca...\n",
            "27477    wonder rake client made clear net forc dev lea...\n",
            "27478    yay good enjoy break probabl need hectic weeke...\n",
            "27479                                                worth\n",
            "27480                           flirt go atg smile yay hug\n",
            "Name: text, dtype: object\n"
          ]
        }
      ]
    },
    {
      "cell_type": "markdown",
      "source": [
        "**Vectorize text using TF-IDF**"
      ],
      "metadata": {
        "id": "SRySCY_E8Kke"
      }
    },
    {
      "cell_type": "code",
      "source": [
        "# Vectorization parameters\n",
        "# Range (inclusive) of n-gram sizes for tokenizing text.\n",
        "NGRAM_RANGE = (1, 2)  # Use 1-grams + 2-grams.\n",
        "\n",
        "# Whether text should be split into word or character n-grams.\n",
        "TOKEN_MODE = \"word\" # Split text into word tokens.\n",
        "\n",
        "# Minimum document frequency below which a token will be discarded.\n",
        "MIN_DOCUMENT_FREQUENCY = 5\n",
        "\n",
        "# Limit on the number of features. We use the top 20K features.\n",
        "TOP_K = 20000\n",
        "\n",
        "\n",
        "def ngram_vectorize(train_texts, train_labels, test_texts):\n",
        "    \"\"\"Vectorizes texts as n-gram vectors.\n",
        "\n",
        "    1 text = 1 tf-idf vector the length of vocabulary of unigrams + bigrams.\n",
        "\n",
        "    # Arguments\n",
        "        train_texts: list, training text strings.\n",
        "        train_labels: np.ndarray, training labels.\n",
        "        test_texts: list, test text strings.\n",
        "\n",
        "    # Returns\n",
        "        train_vectors, test_vectors: vectorized training and test texts\n",
        "    \"\"\"\n",
        "    # Create keyword arguments to pass to the 'tf-idf' vectorizer.\n",
        "    kwargs = {\n",
        "            \"ngram_range\": NGRAM_RANGE,\n",
        "            \"analyzer\": TOKEN_MODE,  \n",
        "            \"min_df\": MIN_DOCUMENT_FREQUENCY,\n",
        "            \"max_df\" : 0.8,\n",
        "            \"max_features\" : TOP_K,\n",
        "            \"sublinear_tf\": \"True\"\n",
        "    }\n",
        "    vectorizer = TfidfVectorizer(**kwargs)\n",
        "\n",
        "    # Learn vocabulary from training texts and vectorize training texts.\n",
        "    train_vectors = vectorizer.fit_transform(train_texts)\n",
        "\n",
        "    # Vectorize validation texts.\n",
        "    test_vectors = vectorizer.transform(test_texts)\n",
        "\n",
        "    return train_vectors, test_vectors"
      ],
      "metadata": {
        "id": "I3KHg2k7kGyh"
      },
      "execution_count": 7,
      "outputs": []
    },
    {
      "cell_type": "code",
      "source": [
        "# Create feature vectors\n",
        "train_vectors, test_vectors = ngram_vectorize(train[\"text\"], train[\"sentiment\"], test[\"text\"])"
      ],
      "metadata": {
        "id": "JxxnENgQbT8j"
      },
      "execution_count": 8,
      "outputs": []
    },
    {
      "cell_type": "markdown",
      "source": [
        "**MLP modelling and evaluation**\n"
      ],
      "metadata": {
        "id": "qSC6vhwKaAb5"
      }
    },
    {
      "cell_type": "code",
      "source": [
        "model = MLPClassifier()\n",
        "model_name = \"MLP\"\n",
        "\n",
        "# 5-fold Cross-validation\n",
        "k = 5\n",
        "cv_df = pd.DataFrame(index=range(k))\n",
        "entries = []\n",
        "accuracies = cross_val_score(model, train_vectors, train[\"sentiment\"], scoring=\"accuracy\", cv=k)\n",
        "for fold_id, accuracy in enumerate(accuracies):\n",
        "  entries.append((fold_id, accuracy))\n",
        "\n",
        "cv_df = pd.DataFrame(entries, columns=[\"fold_id\", \"accuracy\"])"
      ],
      "metadata": {
        "id": "wfQ4nX-DdPtN"
      },
      "execution_count": 9,
      "outputs": []
    },
    {
      "cell_type": "code",
      "source": [
        "mean_accuracy = cv_df.accuracy.mean()\n",
        "std_accuracy = cv_df.accuracy.std()\n",
        "\n",
        "acc = pd.DataFrame([[mean_accuracy,std_accuracy]], columns = [\"Accuracy\", \" Std dev\"])\n",
        "print(acc)"
      ],
      "metadata": {
        "id": "TE3JzHbFR2lC",
        "colab": {
          "base_uri": "https://localhost:8080/"
        },
        "outputId": "14bb9b93-4e03-4edb-9f86-4b76e3285eb1"
      },
      "execution_count": 10,
      "outputs": [
        {
          "output_type": "stream",
          "name": "stdout",
          "text": [
            "   Accuracy   Std dev\n",
            "0  0.643086   0.00503\n"
          ]
        }
      ]
    },
    {
      "cell_type": "code",
      "source": [
        "model = MLPClassifier()\n",
        "model.fit(train_vectors, train[\"sentiment\"])\n",
        "prediction = model.predict(test_vectors)\n",
        "print(f\"Test set accuracy: {accuracy_score(test['sentiment'], prediction) * 100} %\\n\")"
      ],
      "metadata": {
        "id": "8TXDJnAAjs3E",
        "colab": {
          "base_uri": "https://localhost:8080/"
        },
        "outputId": "ad458fb5-554a-4749-ab2f-214c61dcc36c"
      },
      "execution_count": 11,
      "outputs": [
        {
          "output_type": "stream",
          "name": "stdout",
          "text": [
            "Test set accuracy: 65.81777023203169 %\n",
            "\n"
          ]
        }
      ]
    },
    {
      "cell_type": "code",
      "source": [
        "data = confusion_matrix(test[\"sentiment\"], prediction)\n",
        "disp = ConfusionMatrixDisplay(confusion_matrix=data, display_labels=model.classes_)\n",
        "disp.plot(cmap=\"Blues\")\n",
        "plt.ylabel(\"ACTUAL\")\n",
        "plt.xlabel(\"\\nPREDICTED\")\n",
        "plt.title(f\"\\nCONFUSION MATRIX - {model_name}\\n\");\n",
        "plt.show()"
      ],
      "metadata": {
        "id": "LXYBbBiHkFtS",
        "colab": {
          "base_uri": "https://localhost:8080/",
          "height": 337
        },
        "outputId": "e62772ad-702f-4cb2-9528-259a9895005f"
      },
      "execution_count": 12,
      "outputs": [
        {
          "output_type": "display_data",
          "data": {
            "text/plain": [
              "<Figure size 432x288 with 2 Axes>"
            ],
            "image/png": "[encoded data removed]"
          },
          "metadata": {
            "needs_background": "light"
          }
        }
      ]
    },
    {
      "cell_type": "code",
      "source": [
        "# Classification report\n",
        "print(f\"\\tCLASSIFICATIION METRICS - {model_name}\\n\")\n",
        "print(classification_report(test[\"sentiment\"], prediction, target_names= [\"negative\", \"neutral\", \"positive\"]))"
      ],
      "metadata": {
        "id": "IsfG8KcKj3g0",
        "colab": {
          "base_uri": "https://localhost:8080/"
        },
        "outputId": "0aad644e-c4f1-4f73-f7a0-eaf7e9147624"
      },
      "execution_count": 13,
      "outputs": [
        {
          "output_type": "stream",
          "name": "stdout",
          "text": [
            "\tCLASSIFICATIION METRICS - MLP\n",
            "\n",
            "              precision    recall  f1-score   support\n",
            "\n",
            "    negative       0.66      0.63      0.65      1001\n",
            "     neutral       0.62      0.65      0.63      1430\n",
            "    positive       0.72      0.69      0.71      1103\n",
            "\n",
            "    accuracy                           0.66      3534\n",
            "   macro avg       0.66      0.66      0.66      3534\n",
            "weighted avg       0.66      0.66      0.66      3534\n",
            "\n"
          ]
        }
      ]
    },
    {
      "cell_type": "markdown",
      "source": [
        "**Tuning hyperparameters of the model**"
      ],
      "metadata": {
        "id": "i_8q07ADycg4"
      }
    },
    {
      "cell_type": "code",
      "source": [
        "param_grid = {\"hidden_layer_sizes\": [(50, 50), (50,50,50), (50,100,50), (256,128,64,32), (1000,)],\n",
        "              \"alpha\": [0.00001, 0.01, 1]\n",
        "             }"
      ],
      "metadata": {
        "id": "eBGX65Zvsoff"
      },
      "execution_count": 44,
      "outputs": []
    },
    {
      "cell_type": "code",
      "source": [
        "random_search = RandomizedSearchCV(MLPClassifier(early_stopping=True), param_grid, refit = True, verbose = 5)\n",
        "random_search.fit(train_vectors, train[\"sentiment\"])"
      ],
      "metadata": {
        "id": "v5OaE5rJspWM",
        "colab": {
          "base_uri": "https://localhost:8080/"
        },
        "outputId": "cef266ba-a0ea-4288-9656-a12ac3321975"
      },
      "execution_count": 45,
      "outputs": [
        {
          "output_type": "stream",
          "name": "stdout",
          "text": [
            "Fitting 5 folds for each of 10 candidates, totalling 50 fits\n",
            "[CV 1/5] END alpha=1, hidden_layer_sizes=(50, 50);, score=0.703 total time=  32.1s\n",
            "[CV 2/5] END alpha=1, hidden_layer_sizes=(50, 50);, score=0.693 total time= 1.2min\n",
            "[CV 3/5] END alpha=1, hidden_layer_sizes=(50, 50);, score=0.715 total time=  58.7s\n",
            "[CV 4/5] END alpha=1, hidden_layer_sizes=(50, 50);, score=0.709 total time=  28.6s\n",
            "[CV 5/5] END alpha=1, hidden_layer_sizes=(50, 50);, score=0.713 total time=  34.1s\n",
            "[CV 1/5] END alpha=1, hidden_layer_sizes=(256, 128, 64, 32);, score=0.699 total time= 2.2min\n",
            "[CV 2/5] END alpha=1, hidden_layer_sizes=(256, 128, 64, 32);, score=0.688 total time= 1.7min\n",
            "[CV 3/5] END alpha=1, hidden_layer_sizes=(256, 128, 64, 32);, score=0.714 total time= 2.0min\n",
            "[CV 4/5] END alpha=1, hidden_layer_sizes=(256, 128, 64, 32);, score=0.701 total time= 1.8min\n",
            "[CV 5/5] END alpha=1, hidden_layer_sizes=(256, 128, 64, 32);, score=0.705 total time= 2.3min\n",
            "[CV 1/5] END alpha=0.01, hidden_layer_sizes=(50, 100, 50);, score=0.689 total time=  22.3s\n",
            "[CV 2/5] END alpha=0.01, hidden_layer_sizes=(50, 100, 50);, score=0.683 total time=  22.7s\n",
            "[CV 3/5] END alpha=0.01, hidden_layer_sizes=(50, 100, 50);, score=0.699 total time=  21.6s\n",
            "[CV 4/5] END alpha=0.01, hidden_layer_sizes=(50, 100, 50);, score=0.703 total time=  22.7s\n",
            "[CV 5/5] END alpha=0.01, hidden_layer_sizes=(50, 100, 50);, score=0.695 total time=  23.0s\n",
            "[CV 1/5] END alpha=1e-05, hidden_layer_sizes=(50, 50);, score=0.693 total time=  20.3s\n",
            "[CV 2/5] END alpha=1e-05, hidden_layer_sizes=(50, 50);, score=0.685 total time=  20.1s\n",
            "[CV 3/5] END alpha=1e-05, hidden_layer_sizes=(50, 50);, score=0.705 total time=  19.8s\n",
            "[CV 4/5] END alpha=1e-05, hidden_layer_sizes=(50, 50);, score=0.693 total time=  22.2s\n",
            "[CV 5/5] END alpha=1e-05, hidden_layer_sizes=(50, 50);, score=0.698 total time=  21.6s\n",
            "[CV 1/5] END alpha=0.01, hidden_layer_sizes=(50, 50, 50);, score=0.687 total time=  22.7s\n",
            "[CV 2/5] END alpha=0.01, hidden_layer_sizes=(50, 50, 50);, score=0.675 total time=  24.0s\n",
            "[CV 3/5] END alpha=0.01, hidden_layer_sizes=(50, 50, 50);, score=0.692 total time=  22.5s\n",
            "[CV 4/5] END alpha=0.01, hidden_layer_sizes=(50, 50, 50);, score=0.706 total time=  23.2s\n",
            "[CV 5/5] END alpha=0.01, hidden_layer_sizes=(50, 50, 50);, score=0.699 total time=  23.3s\n",
            "[CV 1/5] END alpha=0.01, hidden_layer_sizes=(50, 50);, score=0.697 total time=  20.8s\n",
            "[CV 2/5] END alpha=0.01, hidden_layer_sizes=(50, 50);, score=0.685 total time=  20.8s\n",
            "[CV 3/5] END alpha=0.01, hidden_layer_sizes=(50, 50);, score=0.705 total time=  22.0s\n",
            "[CV 4/5] END alpha=0.01, hidden_layer_sizes=(50, 50);, score=0.688 total time=  20.9s\n",
            "[CV 5/5] END alpha=0.01, hidden_layer_sizes=(50, 50);, score=0.699 total time=  20.9s\n",
            "[CV 1/5] END alpha=1e-05, hidden_layer_sizes=(1000,);, score=0.688 total time= 4.4min\n",
            "[CV 2/5] END alpha=1e-05, hidden_layer_sizes=(1000,);, score=0.682 total time= 4.6min\n",
            "[CV 3/5] END alpha=1e-05, hidden_layer_sizes=(1000,);, score=0.694 total time= 4.4min\n",
            "[CV 4/5] END alpha=1e-05, hidden_layer_sizes=(1000,);, score=0.682 total time= 4.0min\n",
            "[CV 5/5] END alpha=1e-05, hidden_layer_sizes=(1000,);, score=0.688 total time= 4.1min\n",
            "[CV 1/5] END alpha=0.01, hidden_layer_sizes=(1000,);, score=0.683 total time= 4.3min\n",
            "[CV 2/5] END alpha=0.01, hidden_layer_sizes=(1000,);, score=0.680 total time= 4.3min\n",
            "[CV 3/5] END alpha=0.01, hidden_layer_sizes=(1000,);, score=0.691 total time= 4.4min\n",
            "[CV 4/5] END alpha=0.01, hidden_layer_sizes=(1000,);, score=0.685 total time= 4.1min\n",
            "[CV 5/5] END alpha=0.01, hidden_layer_sizes=(1000,);, score=0.693 total time= 4.4min\n",
            "[CV 1/5] END alpha=1, hidden_layer_sizes=(50, 50, 50);, score=0.703 total time=  29.5s\n",
            "[CV 2/5] END alpha=1, hidden_layer_sizes=(50, 50, 50);, score=0.695 total time=  30.2s\n",
            "[CV 3/5] END alpha=1, hidden_layer_sizes=(50, 50, 50);, score=0.710 total time=  32.2s\n",
            "[CV 4/5] END alpha=1, hidden_layer_sizes=(50, 50, 50);, score=0.705 total time=  26.0s\n",
            "[CV 5/5] END alpha=1, hidden_layer_sizes=(50, 50, 50);, score=0.706 total time=  33.9s\n",
            "[CV 1/5] END alpha=1e-05, hidden_layer_sizes=(50, 100, 50);, score=0.693 total time=  22.6s\n",
            "[CV 2/5] END alpha=1e-05, hidden_layer_sizes=(50, 100, 50);, score=0.680 total time=  22.4s\n",
            "[CV 3/5] END alpha=1e-05, hidden_layer_sizes=(50, 100, 50);, score=0.700 total time=  22.4s\n",
            "[CV 4/5] END alpha=1e-05, hidden_layer_sizes=(50, 100, 50);, score=0.681 total time=  20.5s\n",
            "[CV 5/5] END alpha=1e-05, hidden_layer_sizes=(50, 100, 50);, score=0.699 total time=  23.4s\n"
          ]
        },
        {
          "output_type": "execute_result",
          "data": {
            "text/plain": [
              "RandomizedSearchCV(estimator=MLPClassifier(early_stopping=True),\n",
              "                   param_distributions={'alpha': [1e-05, 0.01, 1],\n",
              "                                        'hidden_layer_sizes': [(50, 50),\n",
              "                                                               (50, 50, 50),\n",
              "                                                               (50, 100, 50),\n",
              "                                                               (256, 128, 64,\n",
              "                                                                32),\n",
              "                                                               (1000,)]},\n",
              "                   verbose=5)"
            ]
          },
          "metadata": {},
          "execution_count": 45
        }
      ]
    },
    {
      "cell_type": "code",
      "source": [
        "print(random_search.best_params_)"
      ],
      "metadata": {
        "id": "WlWY9R2zuSJ2",
        "colab": {
          "base_uri": "https://localhost:8080/"
        },
        "outputId": "9c22868c-5b5b-44c9-d5c7-cf079e5952d4"
      },
      "execution_count": 46,
      "outputs": [
        {
          "output_type": "stream",
          "name": "stdout",
          "text": [
            "{'hidden_layer_sizes': (50, 50), 'alpha': 1}\n"
          ]
        }
      ]
    },
    {
      "cell_type": "code",
      "source": [
        "print(random_search.best_estimator_)"
      ],
      "metadata": {
        "id": "Y3y8TdviuTqC",
        "colab": {
          "base_uri": "https://localhost:8080/"
        },
        "outputId": "2455fa4b-78db-4b3e-ed7f-c52f3236583c"
      },
      "execution_count": 47,
      "outputs": [
        {
          "output_type": "stream",
          "name": "stdout",
          "text": [
            "MLPClassifier(alpha=1, early_stopping=True, hidden_layer_sizes=(50, 50))\n"
          ]
        }
      ]
    },
    {
      "cell_type": "code",
      "source": [
        "print(random_search.best_score_)"
      ],
      "metadata": {
        "id": "h53_h0A74Jba",
        "colab": {
          "base_uri": "https://localhost:8080/"
        },
        "outputId": "364ce733-0934-476f-cf2b-c922c9f40957"
      },
      "execution_count": 48,
      "outputs": [
        {
          "output_type": "stream",
          "name": "stdout",
          "text": [
            "0.7066957787481805\n"
          ]
        }
      ]
    },
    {
      "cell_type": "markdown",
      "source": [
        "**Evaluating the model with best parameters**"
      ],
      "metadata": {
        "id": "c2AmW1a5yw2V"
      }
    },
    {
      "cell_type": "code",
      "source": [
        "random_predictions = random_search.best_estimator_.predict(train_vectors)\n",
        "print(accuracy_score(train[\"sentiment\"], random_predictions))"
      ],
      "metadata": {
        "id": "riLXlVEGuYSS",
        "colab": {
          "base_uri": "https://localhost:8080/"
        },
        "outputId": "ea157256-bbf7-4b6c-f3c7-8aa064a583ad"
      },
      "execution_count": 49,
      "outputs": [
        {
          "output_type": "stream",
          "name": "stdout",
          "text": [
            "0.766703056768559\n"
          ]
        }
      ]
    },
    {
      "cell_type": "code",
      "source": [
        "random_predictions = random_search.best_estimator_.predict(test_vectors)\n",
        "print(accuracy_score(test[\"sentiment\"], random_predictions))"
      ],
      "metadata": {
        "id": "AlNEJ3SM4n0Z",
        "colab": {
          "base_uri": "https://localhost:8080/"
        },
        "outputId": "98de4333-2fb3-418c-9fc6-3325f20ed5f2"
      },
      "execution_count": 50,
      "outputs": [
        {
          "output_type": "stream",
          "name": "stdout",
          "text": [
            "0.7176004527447651\n"
          ]
        }
      ]
    },
    {
      "cell_type": "code",
      "source": [
        "print(confusion_matrix(test[\"sentiment\"], random_predictions))"
      ],
      "metadata": {
        "id": "M6JgIYiruvHT",
        "colab": {
          "base_uri": "https://localhost:8080/"
        },
        "outputId": "6e2c5d4e-7106-4791-963a-c56f7cf25541"
      },
      "execution_count": 51,
      "outputs": [
        {
          "output_type": "stream",
          "name": "stdout",
          "text": [
            "[[ 613  348   40]\n",
            " [ 157 1123  150]\n",
            " [  28  275  800]]\n"
          ]
        }
      ]
    },
    {
      "cell_type": "code",
      "source": [
        "print(classification_report(test[\"sentiment\"], random_predictions))"
      ],
      "metadata": {
        "id": "CYt8fTJfyMaD",
        "colab": {
          "base_uri": "https://localhost:8080/"
        },
        "outputId": "f87c1d25-ef90-4320-fd2c-31cfd3141b2d"
      },
      "execution_count": 52,
      "outputs": [
        {
          "output_type": "stream",
          "name": "stdout",
          "text": [
            "              precision    recall  f1-score   support\n",
            "\n",
            "    negative       0.77      0.61      0.68      1001\n",
            "     neutral       0.64      0.79      0.71      1430\n",
            "    positive       0.81      0.73      0.76      1103\n",
            "\n",
            "    accuracy                           0.72      3534\n",
            "   macro avg       0.74      0.71      0.72      3534\n",
            "weighted avg       0.73      0.72      0.72      3534\n",
            "\n"
          ]
        }
      ]
    },
    {
      "cell_type": "code",
      "source": [
        "data = confusion_matrix(test[\"sentiment\"], random_predictions)\n",
        "disp = ConfusionMatrixDisplay(confusion_matrix=data, display_labels=model.classes_)\n",
        "disp.plot(cmap=\"Blues\")\n",
        "plt.ylabel(\"ACTUAL\")\n",
        "plt.xlabel(\"\\nPREDICTED\")\n",
        "plt.title(f\"\\nCONFUSION MATRIX - {model_name}\\n\");\n",
        "plt.show()"
      ],
      "metadata": {
        "id": "1SyTVx43b9IW",
        "outputId": "1e3561d1-3b08-4cd6-8572-751f51a37774",
        "colab": {
          "base_uri": "https://localhost:8080/",
          "height": 337
        }
      },
      "execution_count": 53,
      "outputs": [
        {
          "output_type": "display_data",
          "data": {
            "text/plain": [
              "<Figure size 432x288 with 2 Axes>"
            ],
            "image/png": "[encoded data removed]"
          },
          "metadata": {
            "needs_background": "light"
          }
        }
      ]
    },
    {
      "cell_type": "code",
      "source": [
        "#Tune\n",
        "param_grid = {\"hidden_layer_sizes\": [(50,), (100,100), (500,500), (500,)],\n",
        "              \"alpha\": [0.001, 0.01, 1]\n",
        "             }\n",
        "\n",
        "random_search = RandomizedSearchCV(MLPClassifier(early_stopping=True), param_grid, refit = True, verbose = 3)\n",
        "random_search.fit(train_vectors, train[\"sentiment\"])"
      ],
      "metadata": {
        "id": "dnM23EFCcJna"
      },
      "execution_count": null,
      "outputs": []
    },
    {
      "cell_type": "code",
      "source": [
        "print(random_search.best_params_)"
      ],
      "metadata": {
        "id": "RKzJhHKC0rGc"
      },
      "execution_count": null,
      "outputs": []
    },
    {
      "cell_type": "code",
      "source": [
        "print(random_search.best_estimator_)"
      ],
      "metadata": {
        "id": "se7yoUIY0uS_"
      },
      "execution_count": null,
      "outputs": []
    },
    {
      "cell_type": "code",
      "source": [
        "print(random_search.best_score_)"
      ],
      "metadata": {
        "id": "owVly5Hy0uFn"
      },
      "execution_count": null,
      "outputs": []
    },
    {
      "cell_type": "code",
      "source": [
        "#Eval\n",
        "random_predictions = random_search.best_estimator_.predict(train_vectors)\n",
        "print(accuracy_score(train[\"sentiment\"], random_predictions))"
      ],
      "metadata": {
        "id": "2acgjgADbwv6"
      },
      "execution_count": null,
      "outputs": []
    },
    {
      "cell_type": "code",
      "source": [
        "random_predictions = random_search.best_estimator_.predict(test_vectors)\n",
        "print(accuracy_score(test[\"sentiment\"], random_predictions))"
      ],
      "metadata": {
        "id": "pvs-nAoo01gV"
      },
      "execution_count": null,
      "outputs": []
    },
    {
      "cell_type": "code",
      "source": [
        "data = confusion_matrix(test[\"sentiment\"], random_predictions)\n",
        "disp = ConfusionMatrixDisplay(confusion_matrix=data, display_labels=model.classes_)\n",
        "disp.plot(cmap=\"Blues\")\n",
        "plt.ylabel(\"ACTUAL\")\n",
        "plt.xlabel(\"\\nPREDICTED\")\n",
        "plt.title(f\"\\nCONFUSION MATRIX - {model_name}\\n\");\n",
        "plt.show()"
      ],
      "metadata": {
        "id": "xEq20LJa02dR"
      },
      "execution_count": null,
      "outputs": []
    },
    {
      "cell_type": "code",
      "source": [
        "print(classification_report(test[\"sentiment\"], random_predictions))"
      ],
      "metadata": {
        "id": "ZsOOjZTX05mR"
      },
      "execution_count": null,
      "outputs": []
    }
  ]
}