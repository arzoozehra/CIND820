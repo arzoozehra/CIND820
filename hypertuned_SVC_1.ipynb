{
  "nbformat": 4,
  "nbformat_minor": 0,
  "metadata": {
    "colab": {
      "provenance": [],
      "include_colab_link": true
    },
    "kernelspec": {
      "name": "python3",
      "display_name": "Python 3"
    },
    "language_info": {
      "name": "python"
    }
  },
  "cells": [
    {
      "cell_type": "markdown",
      "metadata": {
        "id": "view-in-github",
        "colab_type": "text"
      },
      "source": [
        "<a href=\"https://colab.research.google.com/github/arzoozehra/CIND820/blob/main/hypertuned_SVC_1.ipynb\" target=\"_parent\"><img src=\"https://colab.research.google.com/assets/colab-badge.svg\" alt=\"Open In Colab\"/></a>"
      ]
    },
    {
      "cell_type": "markdown",
      "source": [
        "**Import libraries**"
      ],
      "metadata": {
        "id": "-bkY_pYm8WwM"
      }
    },
    {
      "cell_type": "code",
      "execution_count": 1,
      "metadata": {
        "id": "Wr2dHIs7WLWJ",
        "outputId": "4fb5ee5e-6fd7-482a-f7aa-21d590810acc",
        "colab": {
          "base_uri": "https://localhost:8080/"
        }
      },
      "outputs": [
        {
          "output_type": "stream",
          "name": "stdout",
          "text": [
            "Looking in indexes: https://pypi.org/simple, https://us-python.pkg.dev/colab-wheels/public/simple/\n",
            "Collecting contractions\n",
            "  Downloading contractions-0.1.73-py2.py3-none-any.whl (8.7 kB)\n",
            "Collecting textsearch>=0.0.21\n",
            "  Downloading textsearch-0.0.24-py2.py3-none-any.whl (7.6 kB)\n",
            "Collecting pyahocorasick\n",
            "  Downloading pyahocorasick-1.4.4-cp38-cp38-manylinux_2_17_x86_64.manylinux2014_x86_64.whl (110 kB)\n",
            "\u001b[K     |████████████████████████████████| 110 kB 10.1 MB/s \n",
            "\u001b[?25hCollecting anyascii\n",
            "  Downloading anyascii-0.3.1-py3-none-any.whl (287 kB)\n",
            "\u001b[K     |████████████████████████████████| 287 kB 16.9 MB/s \n",
            "\u001b[?25hInstalling collected packages: pyahocorasick, anyascii, textsearch, contractions\n",
            "Successfully installed anyascii-0.3.1 contractions-0.1.73 pyahocorasick-1.4.4 textsearch-0.0.24\n"
          ]
        },
        {
          "output_type": "stream",
          "name": "stderr",
          "text": [
            "[nltk_data] Downloading package stopwords to /root/nltk_data...\n",
            "[nltk_data]   Unzipping corpora/stopwords.zip.\n",
            "[nltk_data] Downloading package wordnet to /root/nltk_data...\n",
            "[nltk_data] Downloading package omw-1.4 to /root/nltk_data...\n"
          ]
        }
      ],
      "source": [
        "import pandas as pd\n",
        "import numpy as np\n",
        "import matplotlib.pyplot as plt\n",
        "import re\n",
        "!pip install contractions\n",
        "import contractions\n",
        "import nltk\n",
        "nltk.download(\"stopwords\")\n",
        "nltk.download(\"wordnet\")\n",
        "nltk.download(\"omw-1.4\")\n",
        "#!pip install pyspellchecker\n",
        "#from spellchecker import SpellChecker\n",
        "from nltk.corpus import stopwords\n",
        "from nltk.stem import PorterStemmer, WordNetLemmatizer\n",
        "from sklearn.feature_extraction.text import TfidfVectorizer\n",
        "from sklearn.svm import SVC\n",
        "from sklearn.model_selection import cross_val_score, RandomizedSearchCV\n",
        "from sklearn.metrics import accuracy_score, classification_report, confusion_matrix, ConfusionMatrixDisplay, mean_squared_error"
      ]
    },
    {
      "cell_type": "markdown",
      "source": [
        "**Load and preprocess data**"
      ],
      "metadata": {
        "id": "GfYAFFPs8gNl"
      }
    },
    {
      "cell_type": "code",
      "source": [
        "url = \"https://raw.githubusercontent.com/arzoozehra/CIND820/main/data/train.csv\"\n",
        "train = pd.read_csv(url)\n",
        "test = pd.read_csv(\"https://raw.githubusercontent.com/arzoozehra/CIND820/main/data/test.csv\")\n",
        "\n",
        "# Drop unnecessary columns\n",
        "train.drop([\"textID\", \"selected_text\"], axis=1, inplace=True)\n",
        "test.drop([\"textID\"], axis=1, inplace=True)\n",
        "\n",
        "# Remove row with missing values\n",
        "train.dropna(inplace=True)"
      ],
      "metadata": {
        "id": "WzPmmeuGrev1"
      },
      "execution_count": 2,
      "outputs": []
    },
    {
      "cell_type": "code",
      "source": [
        "print(train[\"text\"].head(10))\n",
        "print(train[\"text\"].tail(10))"
      ],
      "metadata": {
        "id": "rQwxYsauWPT1",
        "outputId": "569143f9-4fa8-4a57-fb4c-f8051cfcf110",
        "colab": {
          "base_uri": "https://localhost:8080/"
        }
      },
      "execution_count": 3,
      "outputs": [
        {
          "output_type": "stream",
          "name": "stdout",
          "text": [
            "0                  I`d have responded, if I were going\n",
            "1        Sooo SAD I will miss you here in San Diego!!!\n",
            "2                            my boss is bullying me...\n",
            "3                       what interview! leave me alone\n",
            "4     Sons of ****, why couldn`t they put them on t...\n",
            "5    http://www.dothebouncy.com/smf - some shameles...\n",
            "6    2am feedings for the baby are fun when he is a...\n",
            "7                                           Soooo high\n",
            "8                                          Both of you\n",
            "9     Journey!? Wow... u just became cooler.  hehe....\n",
            "Name: text, dtype: object\n",
            "27471    i`m defying gravity. and nobody in alll of oz,...\n",
            "27472    http://twitpic.com/663vr - Wanted to visit the...\n",
            "27473     in spoke to you yesterday and u didnt respond...\n",
            "27474    So I get up early and I feel good about the da...\n",
            "27475                                       enjoy ur night\n",
            "27476     wish we could come see u on Denver  husband l...\n",
            "27477     I`ve wondered about rake to.  The client has ...\n",
            "27478     Yay good for both of you. Enjoy the break - y...\n",
            "27479                           But it was worth it  ****.\n",
            "27480       All this flirting going on - The ATG smiles...\n",
            "Name: text, dtype: object\n"
          ]
        }
      ]
    },
    {
      "cell_type": "markdown",
      "source": [
        "**Clean data**"
      ],
      "metadata": {
        "id": "QbW4UiEpq9kA"
      }
    },
    {
      "cell_type": "code",
      "source": [
        "def clean_data(data):\n",
        "  \"\"\"Cleans text strings given in data.\n",
        "  \n",
        "  # Arguments\n",
        "      data : text strings to be cleaned\n",
        "  # Returns\n",
        "      data: cleaned texts\n",
        "  \"\"\"\n",
        "  \n",
        "  # Convert text to lowercase\n",
        "  data[\"text\"] = data[\"text\"].str.lower()\n",
        "\n",
        "  # Expand contractions e.g \"gonna\" to \"going to\" and \"i've\" to \"i have\"\n",
        "  data[\"text\"].replace( {r\"`\": \"'\"}, inplace= True, regex = True)\n",
        "  data[\"text\"] = data[\"text\"].apply(contractions.fix)\n",
        "\n",
        "  # Remove @, Unicode characters, punctuation, emojis, URLs, retweets, words with digits, and 1 or 2 letter words\n",
        "  data[\"text\"].replace( {r\"(@\\[A-Za-z0-9]+)|([^0-9A-Za-z \\t])|(\\w+:\\/\\/\\S+)|^rt|http.+?|\\w*\\d\\w*|\\b\\w{1,2}\\b\": \" \"}, inplace= True, regex = True)\n",
        "\n",
        "  # Remove extra whitespaces\n",
        "  data[\"text\"].replace( {r\" +\": \" \"}, inplace= True, regex = True)\n",
        "  data[\"text\"] = data[\"text\"].str.strip()\n",
        "\n",
        "  # Correct spellings\n",
        "  #spell = SpellChecker()\n",
        "\n",
        "  #def correct_spellings(text):\n",
        "  #    corrected_text = []\n",
        "  #    misspelled_words = {}\n",
        "  #    words = text.split()\n",
        "  #    for w in spell.unknown(words):\n",
        "  #        corr = spell.correction(w)\n",
        "  #        if corr:\n",
        "  #            misspelled_words[w] = spell.correction(w) or w\n",
        "  #    corrected_text = [misspelled_words.get(w, w) for w in words]\n",
        "  #    return \" \".join(corrected_text)\n",
        "\n",
        "  #data[\"text\"] = data[\"text\"].apply(lambda x : correct_spellings(x))\n",
        "\n",
        "  # Remove stopwords\n",
        "  stop = stopwords.words(\"english\")\n",
        "  data[\"text\"] = data[\"text\"].apply(lambda text: \" \".join([word for word in text.split() if word not in (stop)]))\n",
        "\n",
        "  # Stemming\n",
        "  stemmer = PorterStemmer()\n",
        "  data[\"text\"] = data[\"text\"].apply(lambda text: \" \".join([stemmer.stem(word) for word in text.split()]))\n",
        "\n",
        "  # Lemmatizing\n",
        "  lemmatizer = WordNetLemmatizer()\n",
        "  data[\"text\"] = data[\"text\"].apply(lambda text: \" \".join([lemmatizer.lemmatize(word) for word in text.split()]))\n",
        "\n",
        "  return data"
      ],
      "metadata": {
        "id": "NyWCTuFDeTPP"
      },
      "execution_count": 4,
      "outputs": []
    },
    {
      "cell_type": "code",
      "source": [
        "#Clean trraining data\n",
        "train = clean_data(train)\n",
        "\n",
        "#Clean testing data\n",
        "test = clean_data(test)"
      ],
      "metadata": {
        "id": "5tDnIMd-q89D"
      },
      "execution_count": 5,
      "outputs": []
    },
    {
      "cell_type": "code",
      "source": [
        "print(train[\"text\"].head(10))\n",
        "print(train[\"text\"].tail(10))"
      ],
      "metadata": {
        "id": "tT-89PPBe703",
        "outputId": "f7299358-0f5d-4ccb-9e73-a7a229550cbb",
        "colab": {
          "base_uri": "https://localhost:8080/"
        }
      },
      "execution_count": 6,
      "outputs": [
        {
          "output_type": "stream",
          "name": "stdout",
          "text": [
            "0                          would respond go\n",
            "1                   sooo sad miss san diego\n",
            "2                                 bos bulli\n",
            "3                       interview leav alon\n",
            "4       son could put releas alreadi bought\n",
            "5    shameless plug best ranger forum earth\n",
            "6                   feed babi fun smile coo\n",
            "7                                soooo high\n",
            "8                                          \n",
            "9     journey wow becam cooler hehe possibl\n",
            "Name: text, dtype: object\n",
            "27471        defi graviti nobodi alll wizard ever go bring\n",
            "27472                                 want visit anim late\n",
            "27473           spoke yesterday respond girl wassup though\n",
            "27474    get earli feel good day walk work feel alright...\n",
            "27475                                          enjoy night\n",
            "27476    wish could come see denver husband lost job ca...\n",
            "27477    wonder rake client made clear net forc dev lea...\n",
            "27478    yay good enjoy break probabl need hectic weeke...\n",
            "27479                                                worth\n",
            "27480                           flirt go atg smile yay hug\n",
            "Name: text, dtype: object\n"
          ]
        }
      ]
    },
    {
      "cell_type": "markdown",
      "source": [
        "**Vectorize text using TF-IDF**"
      ],
      "metadata": {
        "id": "SRySCY_E8Kke"
      }
    },
    {
      "cell_type": "code",
      "source": [
        "# Vectorization parameters\n",
        "# Range (inclusive) of n-gram sizes for tokenizing text.\n",
        "NGRAM_RANGE = (1, 2)  # Use 1-grams + 2-grams.\n",
        "\n",
        "# Whether text should be split into word or character n-grams.\n",
        "TOKEN_MODE = \"word\" # Split text into word tokens.\n",
        "\n",
        "# Minimum document frequency below which a token will be discarded.\n",
        "MIN_DOCUMENT_FREQUENCY = 5\n",
        "\n",
        "# Limit on the number of features. We use the top 20K features.\n",
        "TOP_K = 20000\n",
        "\n",
        "def ngram_vectorize(train_texts, train_labels, test_texts):\n",
        "    \"\"\"Vectorizes texts as n-gram vectors.\n",
        "\n",
        "    1 text = 1 tf-idf vector the length of vocabulary of unigrams + bigrams.\n",
        "\n",
        "    # Arguments\n",
        "        train_texts: list, training text strings.\n",
        "        train_labels: np.ndarray, training labels.\n",
        "        test_texts: list, test text strings.\n",
        "\n",
        "    # Returns\n",
        "        train_vectors, test_vectors: vectorized training and test texts\n",
        "    \"\"\"\n",
        "    # Create keyword arguments to pass to the 'tf-idf' vectorizer.\n",
        "    kwargs = {\n",
        "            \"ngram_range\": NGRAM_RANGE,\n",
        "            \"analyzer\": TOKEN_MODE,  \n",
        "            \"min_df\": MIN_DOCUMENT_FREQUENCY,\n",
        "            \"max_df\" : 0.8,\n",
        "            \"max_features\" : TOP_K,\n",
        "            \"sublinear_tf\": \"True\"\n",
        "    }\n",
        "    vectorizer = TfidfVectorizer(**kwargs)\n",
        "\n",
        "    # Learn vocabulary from training texts and vectorize training texts.\n",
        "    train_vectors = vectorizer.fit_transform(train_texts)\n",
        "\n",
        "    # Vectorize validation texts.\n",
        "    test_vectors = vectorizer.transform(test_texts)\n",
        "\n",
        "    return train_vectors, test_vectors"
      ],
      "metadata": {
        "id": "I3KHg2k7kGyh"
      },
      "execution_count": 7,
      "outputs": []
    },
    {
      "cell_type": "code",
      "source": [
        "# Create features vectors\n",
        "train_vectors, test_vectors = ngram_vectorize(train[\"text\"], train[\"sentiment\"], test[\"text\"])"
      ],
      "metadata": {
        "id": "JxxnENgQbT8j"
      },
      "execution_count": 8,
      "outputs": []
    },
    {
      "cell_type": "markdown",
      "source": [
        "**SVC modelling and evaluation**"
      ],
      "metadata": {
        "id": "qSC6vhwKaAb5"
      }
    },
    {
      "cell_type": "code",
      "source": [
        "model = SVC(kernel=\"linear\")\n",
        "model_name = \"SVC (linear kernel)\"\n",
        "\n",
        "# 5-fold Cross-validation\n",
        "k = 5\n",
        "cv_df = pd.DataFrame(index=range(k))\n",
        "entries = []\n",
        "\n",
        "accuracies = cross_val_score(model, train_vectors, train[\"sentiment\"], scoring=\"accuracy\", cv=k)\n",
        "for fold_id, accuracy in enumerate(accuracies):\n",
        "  entries.append((fold_id, accuracy))\n",
        "\n",
        "cv_df = pd.DataFrame(entries, columns=[\"fold_id\", \"accuracy\"])"
      ],
      "metadata": {
        "id": "wfQ4nX-DdPtN"
      },
      "execution_count": 9,
      "outputs": []
    },
    {
      "cell_type": "code",
      "source": [
        "mean_accuracy = cv_df.accuracy.mean()\n",
        "std_accuracy = cv_df.accuracy.std()\n",
        "\n",
        "acc = pd.DataFrame([[mean_accuracy,std_accuracy]], columns = [\"Accuracy\", \" Std dev\"])\n",
        "print(acc)"
      ],
      "metadata": {
        "id": "TE3JzHbFR2lC",
        "colab": {
          "base_uri": "https://localhost:8080/"
        },
        "outputId": "f488a8a8-dbfa-4d94-88ac-bb048951a53a"
      },
      "execution_count": 10,
      "outputs": [
        {
          "output_type": "stream",
          "name": "stdout",
          "text": [
            "   Accuracy   Std dev\n",
            "0  0.709789  0.006206\n"
          ]
        }
      ]
    },
    {
      "cell_type": "code",
      "source": [
        "model = SVC(kernel=\"linear\")\n",
        "model.fit(train_vectors, train[\"sentiment\"])\n",
        "prediction = model.predict(test_vectors)\n",
        "print(f\"Test set accuracy: {accuracy_score(test['sentiment'], prediction) * 100} %\\n\")"
      ],
      "metadata": {
        "id": "8TXDJnAAjs3E",
        "colab": {
          "base_uri": "https://localhost:8080/"
        },
        "outputId": "b6441b85-78d8-4e7c-fda9-089929ebaeda"
      },
      "execution_count": 11,
      "outputs": [
        {
          "output_type": "stream",
          "name": "stdout",
          "text": [
            "Test set accuracy: 72.014714204867 %\n",
            "\n"
          ]
        }
      ]
    },
    {
      "cell_type": "code",
      "source": [
        "data = confusion_matrix(test[\"sentiment\"], prediction)\n",
        "disp = ConfusionMatrixDisplay(confusion_matrix=data, display_labels=model.classes_)\n",
        "disp.plot(cmap=\"Blues\")\n",
        "plt.ylabel(\"ACTUAL\")\n",
        "plt.xlabel(\"\\nPREDICTED\")\n",
        "plt.title(f\"\\nCONFUSION MATRIX - {model_name}\\n\");\n",
        "plt.show()"
      ],
      "metadata": {
        "id": "LXYBbBiHkFtS",
        "colab": {
          "base_uri": "https://localhost:8080/",
          "height": 337
        },
        "outputId": "bfd378aa-0076-4a4f-af58-bea1dee614d3"
      },
      "execution_count": 13,
      "outputs": [
        {
          "output_type": "display_data",
          "data": {
            "text/plain": [
              "<Figure size 432x288 with 2 Axes>"
            ],
            "image/png": "[encoded data removed]"
          },
          "metadata": {
            "needs_background": "light"
          }
        }
      ]
    },
    {
      "cell_type": "code",
      "source": [
        "# Classification report\n",
        "print(f\"\\tCLASSIFICATIION METRICS - {model_name}\\n\")\n",
        "print(classification_report(test[\"sentiment\"], prediction, target_names= [\"negative\", \"neutral\", \"positive\"]))"
      ],
      "metadata": {
        "id": "IsfG8KcKj3g0",
        "colab": {
          "base_uri": "https://localhost:8080/"
        },
        "outputId": "5faf3a62-d135-4df8-a872-799ba572e3f1"
      },
      "execution_count": 12,
      "outputs": [
        {
          "output_type": "stream",
          "name": "stdout",
          "text": [
            "\tCLASSIFICATIION METRICS - SVC (linear kernel)\n",
            "\n",
            "              precision    recall  f1-score   support\n",
            "\n",
            "    negative       0.73      0.67      0.70      1001\n",
            "     neutral       0.67      0.74      0.70      1430\n",
            "    positive       0.80      0.73      0.77      1103\n",
            "\n",
            "    accuracy                           0.72      3534\n",
            "   macro avg       0.73      0.72      0.72      3534\n",
            "weighted avg       0.72      0.72      0.72      3534\n",
            "\n"
          ]
        }
      ]
    },
    {
      "cell_type": "markdown",
      "source": [
        "**Hypertuning the model parameters**"
      ],
      "metadata": {
        "id": "i_8q07ADycg4"
      }
    },
    {
      "cell_type": "code",
      "source": [
        "param_grid = {\"kernel\": (\"linear\", \"rbf\",) , \n",
        "              \"C\":[0.01, 0.1, 10, 100],\n",
        "              \"gamma\": [0.001, 0.01, 0.1, 1, 10]\n",
        "             }"
      ],
      "metadata": {
        "id": "eBGX65Zvsoff"
      },
      "execution_count": 14,
      "outputs": []
    },
    {
      "cell_type": "code",
      "source": [
        "random_search = RandomizedSearchCV(SVC(), param_grid, refit = True, verbose = 3)\n",
        "random_search.fit(train_vectors, train[\"sentiment\"])"
      ],
      "metadata": {
        "id": "v5OaE5rJspWM",
        "outputId": "24d35889-fd2d-47f2-e2e7-54646802fb6c",
        "colab": {
          "base_uri": "https://localhost:8080/"
        }
      },
      "execution_count": 15,
      "outputs": [
        {
          "output_type": "stream",
          "name": "stdout",
          "text": [
            "Fitting 5 folds for each of 10 candidates, totalling 50 fits\n",
            "[CV 1/5] END ...C=0.01, gamma=10, kernel=linear;, score=0.432 total time=  57.3s\n",
            "[CV 2/5] END ...C=0.01, gamma=10, kernel=linear;, score=0.430 total time=  56.6s\n",
            "[CV 3/5] END ...C=0.01, gamma=10, kernel=linear;, score=0.434 total time=  57.2s\n",
            "[CV 4/5] END ...C=0.01, gamma=10, kernel=linear;, score=0.431 total time=  56.8s\n",
            "[CV 5/5] END ...C=0.01, gamma=10, kernel=linear;, score=0.432 total time=  57.4s\n",
            "[CV 1/5] END .C=0.1, gamma=0.001, kernel=linear;, score=0.634 total time=  49.6s\n",
            "[CV 2/5] END .C=0.1, gamma=0.001, kernel=linear;, score=0.638 total time=  49.7s\n",
            "[CV 3/5] END .C=0.1, gamma=0.001, kernel=linear;, score=0.640 total time=  50.1s\n",
            "[CV 4/5] END .C=0.1, gamma=0.001, kernel=linear;, score=0.631 total time=  49.5s\n",
            "[CV 5/5] END .C=0.1, gamma=0.001, kernel=linear;, score=0.635 total time=  49.8s\n",
            "[CV 1/5] END ....C=100, gamma=0.001, kernel=rbf;, score=0.672 total time=  59.1s\n",
            "[CV 2/5] END ....C=100, gamma=0.001, kernel=rbf;, score=0.670 total time=  58.9s\n",
            "[CV 3/5] END ....C=100, gamma=0.001, kernel=rbf;, score=0.680 total time=  59.8s\n",
            "[CV 4/5] END ....C=100, gamma=0.001, kernel=rbf;, score=0.674 total time=  58.8s\n",
            "[CV 5/5] END ....C=100, gamma=0.001, kernel=rbf;, score=0.676 total time=  59.7s\n",
            "[CV 1/5] END .....C=0.01, gamma=0.1, kernel=rbf;, score=0.405 total time= 1.2min\n",
            "[CV 2/5] END .....C=0.01, gamma=0.1, kernel=rbf;, score=0.405 total time= 1.2min\n",
            "[CV 3/5] END .....C=0.01, gamma=0.1, kernel=rbf;, score=0.404 total time= 1.4min\n",
            "[CV 4/5] END .....C=0.01, gamma=0.1, kernel=rbf;, score=0.404 total time= 1.2min\n",
            "[CV 5/5] END .....C=0.01, gamma=0.1, kernel=rbf;, score=0.404 total time= 1.2min\n",
            "[CV 1/5] END .....C=10, gamma=0.001, kernel=rbf;, score=0.480 total time= 1.2min\n",
            "[CV 2/5] END .....C=10, gamma=0.001, kernel=rbf;, score=0.477 total time= 1.2min\n",
            "[CV 3/5] END .....C=10, gamma=0.001, kernel=rbf;, score=0.481 total time= 1.2min\n",
            "[CV 4/5] END .....C=10, gamma=0.001, kernel=rbf;, score=0.476 total time= 1.2min\n",
            "[CV 5/5] END .....C=10, gamma=0.001, kernel=rbf;, score=0.480 total time= 1.2min\n",
            "[CV 1/5] END ....C=1, gamma=0.01, kernel=linear;, score=0.709 total time=  44.0s\n",
            "[CV 2/5] END ....C=1, gamma=0.01, kernel=linear;, score=0.700 total time=  44.2s\n",
            "[CV 3/5] END ....C=1, gamma=0.01, kernel=linear;, score=0.714 total time=  44.3s\n",
            "[CV 4/5] END ....C=1, gamma=0.01, kernel=linear;, score=0.711 total time=  43.8s\n",
            "[CV 5/5] END ....C=1, gamma=0.01, kernel=linear;, score=0.715 total time=  44.1s\n",
            "[CV 1/5] END ....C=0.01, gamma=0.01, kernel=rbf;, score=0.405 total time= 1.2min\n",
            "[CV 2/5] END ....C=0.01, gamma=0.01, kernel=rbf;, score=0.405 total time= 1.2min\n",
            "[CV 3/5] END ....C=0.01, gamma=0.01, kernel=rbf;, score=0.404 total time= 1.2min\n",
            "[CV 4/5] END ....C=0.01, gamma=0.01, kernel=rbf;, score=0.404 total time= 1.2min\n",
            "[CV 5/5] END ....C=0.01, gamma=0.01, kernel=rbf;, score=0.404 total time= 1.2min\n",
            "[CV 1/5] END ........C=0.1, gamma=1, kernel=rbf;, score=0.535 total time= 1.2min\n",
            "[CV 2/5] END ........C=0.1, gamma=1, kernel=rbf;, score=0.535 total time= 1.2min\n",
            "[CV 3/5] END ........C=0.1, gamma=1, kernel=rbf;, score=0.534 total time= 1.2min\n",
            "[CV 4/5] END ........C=0.1, gamma=1, kernel=rbf;, score=0.532 total time= 1.2min\n",
            "[CV 5/5] END ........C=0.1, gamma=1, kernel=rbf;, score=0.540 total time= 1.2min\n",
            "[CV 1/5] END ......C=100, gamma=0.1, kernel=rbf;, score=0.652 total time= 4.6min\n",
            "[CV 2/5] END ......C=100, gamma=0.1, kernel=rbf;, score=0.648 total time= 4.5min\n",
            "[CV 3/5] END ......C=100, gamma=0.1, kernel=rbf;, score=0.662 total time= 4.4min\n",
            "[CV 4/5] END ......C=100, gamma=0.1, kernel=rbf;, score=0.650 total time= 4.5min\n",
            "[CV 5/5] END ......C=100, gamma=0.1, kernel=rbf;, score=0.657 total time= 4.5min\n",
            "[CV 1/5] END .....C=100, gamma=1, kernel=linear;, score=0.620 total time= 9.7min\n",
            "[CV 2/5] END .....C=100, gamma=1, kernel=linear;, score=0.621 total time= 9.6min\n",
            "[CV 3/5] END .....C=100, gamma=1, kernel=linear;, score=0.636 total time= 9.8min\n",
            "[CV 4/5] END .....C=100, gamma=1, kernel=linear;, score=0.611 total time= 8.9min\n",
            "[CV 5/5] END .....C=100, gamma=1, kernel=linear;, score=0.634 total time= 9.3min\n"
          ]
        },
        {
          "output_type": "execute_result",
          "data": {
            "text/plain": [
              "RandomizedSearchCV(estimator=SVC(),\n",
              "                   param_distributions={'C': [0.01, 0.1, 1, 10, 100],\n",
              "                                        'gamma': [0.001, 0.01, 0.1, 1, 10],\n",
              "                                        'kernel': ('linear', 'rbf')},\n",
              "                   verbose=5)"
            ]
          },
          "metadata": {},
          "execution_count": 15
        }
      ]
    },
    {
      "cell_type": "code",
      "source": [
        "print(random_search.best_params_)"
      ],
      "metadata": {
        "id": "WlWY9R2zuSJ2",
        "colab": {
          "base_uri": "https://localhost:8080/"
        },
        "outputId": "81361641-9ed2-4ee1-9a36-efe22a1eae02"
      },
      "execution_count": 16,
      "outputs": [
        {
          "output_type": "stream",
          "name": "stdout",
          "text": [
            "{'kernel': 'linear', 'gamma': 0.01, 'C': 1}\n"
          ]
        }
      ]
    },
    {
      "cell_type": "code",
      "source": [
        "print(random_search.best_estimator_)"
      ],
      "metadata": {
        "id": "Y3y8TdviuTqC",
        "colab": {
          "base_uri": "https://localhost:8080/"
        },
        "outputId": "81f3c71f-158e-4810-96b7-4411ebf653b2"
      },
      "execution_count": 17,
      "outputs": [
        {
          "output_type": "stream",
          "name": "stdout",
          "text": [
            "SVC(C=1, gamma=0.01, kernel='linear')\n"
          ]
        }
      ]
    },
    {
      "cell_type": "code",
      "source": [
        "print(random_search.best_score_)"
      ],
      "metadata": {
        "id": "h53_h0A74Jba",
        "colab": {
          "base_uri": "https://localhost:8080/"
        },
        "outputId": "1b4712bc-f010-4a63-e375-ea8da822c90e"
      },
      "execution_count": 18,
      "outputs": [
        {
          "output_type": "stream",
          "name": "stdout",
          "text": [
            "0.7097889374090248\n"
          ]
        }
      ]
    },
    {
      "cell_type": "markdown",
      "source": [
        "**Evaluating the model with best parameters**"
      ],
      "metadata": {
        "id": "c2AmW1a5yw2V"
      }
    },
    {
      "cell_type": "code",
      "source": [
        "random_predictions = random_search.best_estimator_.predict(train_vectors)\n",
        "print(accuracy_score(train[\"sentiment\"], random_predictions))"
      ],
      "metadata": {
        "id": "riLXlVEGuYSS",
        "colab": {
          "base_uri": "https://localhost:8080/"
        },
        "outputId": "20325b9f-406e-4f9c-8fe7-c331dca44ee1"
      },
      "execution_count": 19,
      "outputs": [
        {
          "output_type": "stream",
          "name": "stdout",
          "text": [
            "0.7898107714701601\n"
          ]
        }
      ]
    },
    {
      "cell_type": "code",
      "source": [
        "random_predictions = random_search.best_estimator_.predict(test_vectors)\n",
        "print(accuracy_score(test[\"sentiment\"], random_predictions))"
      ],
      "metadata": {
        "id": "AlNEJ3SM4n0Z",
        "colab": {
          "base_uri": "https://localhost:8080/"
        },
        "outputId": "fddd6431-7f7f-4b20-ebb3-aba0341ca2ad"
      },
      "execution_count": 20,
      "outputs": [
        {
          "output_type": "stream",
          "name": "stdout",
          "text": [
            "0.72014714204867\n"
          ]
        }
      ]
    },
    {
      "cell_type": "code",
      "source": [
        "data = confusion_matrix(test[\"sentiment\"], random_predictions)\n",
        "disp = ConfusionMatrixDisplay(confusion_matrix=data, display_labels=model.classes_)\n",
        "disp.plot(cmap=\"Blues\")\n",
        "plt.ylabel(\"ACTUAL\")\n",
        "plt.xlabel(\"\\nPREDICTED\")\n",
        "plt.title(f\"\\nCONFUSION MATRIX - {model_name}\\n\");\n",
        "plt.show()"
      ],
      "metadata": {
        "id": "1E-Q8JkrtuVC",
        "outputId": "1caaf9f0-8c0f-4cfa-fbb1-ebadb9442fda",
        "colab": {
          "base_uri": "https://localhost:8080/",
          "height": 337
        }
      },
      "execution_count": 21,
      "outputs": [
        {
          "output_type": "display_data",
          "data": {
            "text/plain": [
              "<Figure size 432x288 with 2 Axes>"
            ],
            "image/png": "[encoded data removed]"
          },
          "metadata": {
            "needs_background": "light"
          }
        }
      ]
    },
    {
      "cell_type": "code",
      "source": [
        "print(\"\\tCLASSIFICATION METRICS - Hypertuned SVC\\n\")\n",
        "print(classification_report(test[\"sentiment\"], random_predictions))"
      ],
      "metadata": {
        "id": "CYt8fTJfyMaD",
        "colab": {
          "base_uri": "https://localhost:8080/"
        },
        "outputId": "8509d56a-ecdc-44c8-ba0d-f1bde60810cf"
      },
      "execution_count": 22,
      "outputs": [
        {
          "output_type": "stream",
          "name": "stdout",
          "text": [
            "\tCLASSIFICATION METRICS - Hypertuned SVC\n",
            "\n",
            "              precision    recall  f1-score   support\n",
            "\n",
            "    negative       0.73      0.67      0.70      1001\n",
            "     neutral       0.67      0.74      0.70      1430\n",
            "    positive       0.80      0.73      0.77      1103\n",
            "\n",
            "    accuracy                           0.72      3534\n",
            "   macro avg       0.73      0.72      0.72      3534\n",
            "weighted avg       0.72      0.72      0.72      3534\n",
            "\n"
          ]
        }
      ]
    },
    {
      "cell_type": "code",
      "source": [
        "from sklearn.utils.fixes import loguniform\n",
        "\n",
        "param_grid = [{'C': loguniform(1e0, 1e3),\n",
        "              'gamma': loguniform(1e-4, 1e-3),\n",
        "              'kernel': ['rbf'],\n",
        "              'class_weight':['balanced', None]}]"
      ],
      "metadata": {
        "id": "OuC4AmCjOtLv"
      },
      "execution_count": 23,
      "outputs": []
    },
    {
      "cell_type": "code",
      "source": [
        "random_search = RandomizedSearchCV(SVC(), param_grid, refit = True, verbose = 3, return_train_score = True)\n",
        "random_search.fit(train_vectors, train[\"sentiment\"])"
      ],
      "metadata": {
        "id": "R4GJ6kGGPH8m",
        "outputId": "37ceebc4-7c9d-41e6-c91f-44bf82fcdb1f",
        "colab": {
          "base_uri": "https://localhost:8080/"
        }
      },
      "execution_count": 26,
      "outputs": [
        {
          "output_type": "stream",
          "name": "stdout",
          "text": [
            "Fitting 5 folds for each of 10 candidates, totalling 50 fits\n",
            "[CV 1/5] END C=2.362383418816707, class_weight=balanced, gamma=0.0002887053678721936, kernel=rbf;, score=(train=0.283, test=0.283) total time= 1.5min\n",
            "[CV 2/5] END C=2.362383418816707, class_weight=balanced, gamma=0.0002887053678721936, kernel=rbf;, score=(train=0.283, test=0.283) total time= 1.5min\n",
            "[CV 3/5] END C=2.362383418816707, class_weight=balanced, gamma=0.0002887053678721936, kernel=rbf;, score=(train=0.283, test=0.283) total time= 1.5min\n",
            "[CV 4/5] END C=2.362383418816707, class_weight=balanced, gamma=0.0002887053678721936, kernel=rbf;, score=(train=0.283, test=0.283) total time= 1.5min\n",
            "[CV 5/5] END C=2.362383418816707, class_weight=balanced, gamma=0.0002887053678721936, kernel=rbf;, score=(train=0.283, test=0.283) total time= 1.5min\n",
            "[CV 1/5] END C=1.5785258208394986, class_weight=None, gamma=0.00011750642225650779, kernel=rbf;, score=(train=0.405, test=0.405) total time= 1.2min\n",
            "[CV 2/5] END C=1.5785258208394986, class_weight=None, gamma=0.00011750642225650779, kernel=rbf;, score=(train=0.405, test=0.405) total time= 1.2min\n",
            "[CV 3/5] END C=1.5785258208394986, class_weight=None, gamma=0.00011750642225650779, kernel=rbf;, score=(train=0.405, test=0.404) total time= 1.2min\n",
            "[CV 4/5] END C=1.5785258208394986, class_weight=None, gamma=0.00011750642225650779, kernel=rbf;, score=(train=0.405, test=0.404) total time= 1.2min\n",
            "[CV 5/5] END C=1.5785258208394986, class_weight=None, gamma=0.00011750642225650779, kernel=rbf;, score=(train=0.405, test=0.404) total time= 1.2min\n",
            "[CV 1/5] END C=15.868588602200788, class_weight=None, gamma=0.0005943597297596436, kernel=rbf;, score=(train=0.477, test=0.477) total time= 1.2min\n",
            "[CV 2/5] END C=15.868588602200788, class_weight=None, gamma=0.0005943597297596436, kernel=rbf;, score=(train=0.476, test=0.471) total time= 1.2min\n",
            "[CV 3/5] END C=15.868588602200788, class_weight=None, gamma=0.0005943597297596436, kernel=rbf;, score=(train=0.476, test=0.475) total time= 1.2min\n",
            "[CV 4/5] END C=15.868588602200788, class_weight=None, gamma=0.0005943597297596436, kernel=rbf;, score=(train=0.477, test=0.470) total time= 1.2min\n",
            "[CV 5/5] END C=15.868588602200788, class_weight=None, gamma=0.0005943597297596436, kernel=rbf;, score=(train=0.474, test=0.475) total time= 1.2min\n",
            "[CV 1/5] END C=689.8860249645778, class_weight=None, gamma=0.00027872256845331135, kernel=rbf;, score=(train=0.748, test=0.696) total time=  56.4s\n",
            "[CV 2/5] END C=689.8860249645778, class_weight=None, gamma=0.00027872256845331135, kernel=rbf;, score=(train=0.750, test=0.689) total time=  56.9s\n",
            "[CV 3/5] END C=689.8860249645778, class_weight=None, gamma=0.00027872256845331135, kernel=rbf;, score=(train=0.744, test=0.703) total time=  57.9s\n",
            "[CV 4/5] END C=689.8860249645778, class_weight=None, gamma=0.00027872256845331135, kernel=rbf;, score=(train=0.747, test=0.697) total time=  56.9s\n",
            "[CV 5/5] END C=689.8860249645778, class_weight=None, gamma=0.00027872256845331135, kernel=rbf;, score=(train=0.745, test=0.703) total time=  56.9s\n",
            "[CV 1/5] END C=101.78240279252273, class_weight=balanced, gamma=0.0002866085428095771, kernel=rbf;, score=(train=0.657, test=0.633) total time= 1.3min\n",
            "[CV 2/5] END C=101.78240279252273, class_weight=balanced, gamma=0.0002866085428095771, kernel=rbf;, score=(train=0.656, test=0.636) total time= 1.3min\n",
            "[CV 3/5] END C=101.78240279252273, class_weight=balanced, gamma=0.0002866085428095771, kernel=rbf;, score=(train=0.653, test=0.640) total time= 1.3min\n",
            "[CV 4/5] END C=101.78240279252273, class_weight=balanced, gamma=0.0002866085428095771, kernel=rbf;, score=(train=0.655, test=0.639) total time= 1.3min\n",
            "[CV 5/5] END C=101.78240279252273, class_weight=balanced, gamma=0.0002866085428095771, kernel=rbf;, score=(train=0.656, test=0.638) total time= 1.3min\n",
            "[CV 1/5] END C=6.74321091306796, class_weight=None, gamma=0.0002530940875202669, kernel=rbf;, score=(train=0.405, test=0.405) total time= 1.2min\n",
            "[CV 2/5] END C=6.74321091306796, class_weight=None, gamma=0.0002530940875202669, kernel=rbf;, score=(train=0.405, test=0.405) total time= 1.2min\n",
            "[CV 3/5] END C=6.74321091306796, class_weight=None, gamma=0.0002530940875202669, kernel=rbf;, score=(train=0.405, test=0.404) total time= 1.2min\n",
            "[CV 4/5] END C=6.74321091306796, class_weight=None, gamma=0.0002530940875202669, kernel=rbf;, score=(train=0.405, test=0.405) total time= 1.2min\n",
            "[CV 5/5] END C=6.74321091306796, class_weight=None, gamma=0.0002530940875202669, kernel=rbf;, score=(train=0.405, test=0.404) total time= 1.2min\n",
            "[CV 1/5] END C=9.589716165932549, class_weight=balanced, gamma=0.00011879080657325445, kernel=rbf;, score=(train=0.345, test=0.342) total time= 1.5min\n",
            "[CV 2/5] END C=9.589716165932549, class_weight=balanced, gamma=0.00011879080657325445, kernel=rbf;, score=(train=0.349, test=0.346) total time= 1.5min\n",
            "[CV 3/5] END C=9.589716165932549, class_weight=balanced, gamma=0.00011879080657325445, kernel=rbf;, score=(train=0.337, test=0.339) total time= 1.5min\n",
            "[CV 4/5] END C=9.589716165932549, class_weight=balanced, gamma=0.00011879080657325445, kernel=rbf;, score=(train=0.290, test=0.289) total time= 1.5min\n",
            "[CV 5/5] END C=9.589716165932549, class_weight=balanced, gamma=0.00011879080657325445, kernel=rbf;, score=(train=0.291, test=0.290) total time= 1.5min\n",
            "[CV 1/5] END C=8.936363667434112, class_weight=None, gamma=0.00013201176571041727, kernel=rbf;, score=(train=0.405, test=0.405) total time= 1.2min\n",
            "[CV 2/5] END C=8.936363667434112, class_weight=None, gamma=0.00013201176571041727, kernel=rbf;, score=(train=0.405, test=0.405) total time= 1.3min\n",
            "[CV 3/5] END C=8.936363667434112, class_weight=None, gamma=0.00013201176571041727, kernel=rbf;, score=(train=0.405, test=0.404) total time= 1.2min\n",
            "[CV 4/5] END C=8.936363667434112, class_weight=None, gamma=0.00013201176571041727, kernel=rbf;, score=(train=0.405, test=0.404) total time= 1.2min\n",
            "[CV 5/5] END C=8.936363667434112, class_weight=None, gamma=0.00013201176571041727, kernel=rbf;, score=(train=0.405, test=0.404) total time= 1.2min\n",
            "[CV 1/5] END C=1.8963496446952606, class_weight=None, gamma=0.00027153522871168544, kernel=rbf;, score=(train=0.405, test=0.405) total time= 1.2min\n",
            "[CV 2/5] END C=1.8963496446952606, class_weight=None, gamma=0.00027153522871168544, kernel=rbf;, score=(train=0.405, test=0.405) total time= 1.2min\n",
            "[CV 3/5] END C=1.8963496446952606, class_weight=None, gamma=0.00027153522871168544, kernel=rbf;, score=(train=0.405, test=0.404) total time= 1.2min\n",
            "[CV 4/5] END C=1.8963496446952606, class_weight=None, gamma=0.00027153522871168544, kernel=rbf;, score=(train=0.405, test=0.404) total time= 1.2min\n",
            "[CV 5/5] END C=1.8963496446952606, class_weight=None, gamma=0.00027153522871168544, kernel=rbf;, score=(train=0.405, test=0.404) total time= 1.2min\n",
            "[CV 1/5] END C=182.33307259188936, class_weight=balanced, gamma=0.0004363176615439607, kernel=rbf;, score=(train=0.723, test=0.684) total time= 1.2min\n",
            "[CV 2/5] END C=182.33307259188936, class_weight=balanced, gamma=0.0004363176615439607, kernel=rbf;, score=(train=0.725, test=0.684) total time= 1.2min\n",
            "[CV 3/5] END C=182.33307259188936, class_weight=balanced, gamma=0.0004363176615439607, kernel=rbf;, score=(train=0.717, test=0.698) total time= 1.4min\n",
            "[CV 4/5] END C=182.33307259188936, class_weight=balanced, gamma=0.0004363176615439607, kernel=rbf;, score=(train=0.721, test=0.686) total time= 1.3min\n",
            "[CV 5/5] END C=182.33307259188936, class_weight=balanced, gamma=0.0004363176615439607, kernel=rbf;, score=(train=0.721, test=0.689) total time= 1.2min\n"
          ]
        },
        {
          "output_type": "execute_result",
          "data": {
            "text/plain": [
              "RandomizedSearchCV(estimator=SVC(),\n",
              "                   param_distributions=[{'C': <scipy.stats._distn_infrastructure.rv_frozen object at 0x7f183f044eb0>,\n",
              "                                         'class_weight': ['balanced', None],\n",
              "                                         'gamma': <scipy.stats._distn_infrastructure.rv_frozen object at 0x7f183f044700>,\n",
              "                                         'kernel': ['rbf']}],\n",
              "                   return_train_score=True, verbose=3)"
            ]
          },
          "metadata": {},
          "execution_count": 26
        }
      ]
    },
    {
      "cell_type": "code",
      "source": [
        "print(random_search.best_params_)\n",
        "print(random_search.best_estimator_)\n",
        "print(random_search.best_score_)"
      ],
      "metadata": {
        "id": "ZptDSqPBlBTb",
        "outputId": "a4451a13-2ec9-4f45-8f0c-7ca61ffa8db2",
        "colab": {
          "base_uri": "https://localhost:8080/"
        }
      },
      "execution_count": 27,
      "outputs": [
        {
          "output_type": "stream",
          "name": "stdout",
          "text": [
            "{'C': 689.8860249645778, 'class_weight': None, 'gamma': 0.00027872256845331135, 'kernel': 'rbf'}\n",
            "SVC(C=689.8860249645778, gamma=0.00027872256845331135)\n",
            "0.6974890829694324\n"
          ]
        }
      ]
    },
    {
      "cell_type": "code",
      "source": [
        "random_predictions = random_search.best_estimator_.predict(train_vectors)\n",
        "print(accuracy_score(train[\"sentiment\"], random_predictions))"
      ],
      "metadata": {
        "id": "LmkH-UlZlI-s",
        "outputId": "052add84-7375-45fd-876a-921849af1398",
        "colab": {
          "base_uri": "https://localhost:8080/"
        }
      },
      "execution_count": 28,
      "outputs": [
        {
          "output_type": "stream",
          "name": "stdout",
          "text": [
            "0.7471615720524017\n"
          ]
        }
      ]
    },
    {
      "cell_type": "code",
      "source": [
        "random_predictions = random_search.best_estimator_.predict(test_vectors)\n",
        "print(accuracy_score(test[\"sentiment\"], random_predictions))"
      ],
      "metadata": {
        "id": "xazGJpmplL9s",
        "outputId": "9a185285-de77-4b56-d541-867ebe773227",
        "colab": {
          "base_uri": "https://localhost:8080/"
        }
      },
      "execution_count": 29,
      "outputs": [
        {
          "output_type": "stream",
          "name": "stdout",
          "text": [
            "0.7125070741369552\n"
          ]
        }
      ]
    },
    {
      "cell_type": "code",
      "source": [
        "data = confusion_matrix(test[\"sentiment\"], random_predictions)\n",
        "disp = ConfusionMatrixDisplay(confusion_matrix=data, display_labels=model.classes_)\n",
        "disp.plot(cmap=\"Blues\")\n",
        "plt.ylabel(\"ACTUAL\")\n",
        "plt.xlabel(\"\\nPREDICTED\")\n",
        "plt.title(f\"\\nCONFUSION MATRIX - {model_name}\\n\");\n",
        "plt.show()"
      ],
      "metadata": {
        "id": "zOg5dp22lQFY",
        "outputId": "597ee928-baef-4840-acef-b5e7b0e8a71e",
        "colab": {
          "base_uri": "https://localhost:8080/",
          "height": 337
        }
      },
      "execution_count": 30,
      "outputs": [
        {
          "output_type": "display_data",
          "data": {
            "text/plain": [
              "<Figure size 432x288 with 2 Axes>"
            ],
            "image/png": "[encoded data removed]"
          },
          "metadata": {
            "needs_background": "light"
          }
        }
      ]
    },
    {
      "cell_type": "code",
      "source": [
        "print(\"\\tCLASSIFICATION METRICS - Hypertuned SVC\\n\")\n",
        "print(classification_report(test[\"sentiment\"], random_predictions))"
      ],
      "metadata": {
        "id": "RaQme0tFlT4O",
        "outputId": "3999716b-eb44-4bab-f4ed-6717864fe5df",
        "colab": {
          "base_uri": "https://localhost:8080/"
        }
      },
      "execution_count": 31,
      "outputs": [
        {
          "output_type": "stream",
          "name": "stdout",
          "text": [
            "\tCLASSIFICATION METRICS - Hypertuned SVC\n",
            "\n",
            "              precision    recall  f1-score   support\n",
            "\n",
            "    negative       0.76      0.61      0.68      1001\n",
            "     neutral       0.64      0.79      0.71      1430\n",
            "    positive       0.80      0.71      0.75      1103\n",
            "\n",
            "    accuracy                           0.71      3534\n",
            "   macro avg       0.73      0.70      0.71      3534\n",
            "weighted avg       0.72      0.71      0.71      3534\n",
            "\n"
          ]
        }
      ]
    }
  ]
}