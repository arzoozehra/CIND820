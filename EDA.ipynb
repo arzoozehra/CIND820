{
  "nbformat": 4,
  "nbformat_minor": 0,
  "metadata": {
    "colab": {
      "provenance": []
    },
    "kernelspec": {
      "name": "python3",
      "display_name": "Python 3"
    },
    "language_info": {
      "name": "python"
    }
  },
  "cells": [
    {
      "cell_type": "markdown",
      "source": [
        "**Import libraries**"
      ],
      "metadata": {
        "id": "-bkY_pYm8WwM"
      }
    },
    {
      "cell_type": "code",
      "execution_count": 1,
      "metadata": {
        "id": "Wr2dHIs7WLWJ",
        "outputId": "a456ff59-dd9b-4903-c070-ab7f7781b229",
        "colab": {
          "base_uri": "https://localhost:8080/"
        }
      },
      "outputs": [
        {
          "output_type": "stream",
          "name": "stdout",
          "text": [
            "Looking in indexes: https://pypi.org/simple, https://us-python.pkg.dev/colab-wheels/public/simple/\n",
            "Collecting contractions\n",
            "  Downloading contractions-0.1.73-py2.py3-none-any.whl (8.7 kB)\n",
            "Collecting textsearch>=0.0.21\n",
            "  Downloading textsearch-0.0.24-py2.py3-none-any.whl (7.6 kB)\n",
            "Collecting pyahocorasick\n",
            "  Downloading pyahocorasick-1.4.4-cp38-cp38-manylinux_2_17_x86_64.manylinux2014_x86_64.whl (110 kB)\n",
            "\u001b[K     |████████████████████████████████| 110 kB 6.4 MB/s \n",
            "\u001b[?25hCollecting anyascii\n",
            "  Downloading anyascii-0.3.1-py3-none-any.whl (287 kB)\n",
            "\u001b[K     |████████████████████████████████| 287 kB 51.2 MB/s \n",
            "\u001b[?25hInstalling collected packages: pyahocorasick, anyascii, textsearch, contractions\n",
            "Successfully installed anyascii-0.3.1 contractions-0.1.73 pyahocorasick-1.4.4 textsearch-0.0.24\n"
          ]
        },
        {
          "output_type": "stream",
          "name": "stderr",
          "text": [
            "[nltk_data] Downloading package stopwords to /root/nltk_data...\n",
            "[nltk_data]   Unzipping corpora/stopwords.zip.\n",
            "[nltk_data] Downloading package wordnet to /root/nltk_data...\n",
            "[nltk_data] Downloading package omw-1.4 to /root/nltk_data...\n"
          ]
        }
      ],
      "source": [
        "import pandas as pd\n",
        "import numpy as np\n",
        "import matplotlib.pyplot as plt\n",
        "import seaborn as sns\n",
        "import re\n",
        "!pip install contractions\n",
        "import contractions\n",
        "import nltk\n",
        "nltk.download('stopwords')\n",
        "nltk.download('wordnet')\n",
        "nltk.download('omw-1.4')\n",
        "#!pip install pyspellchecker\n",
        "#from spellchecker import SpellChecker\n",
        "from nltk.corpus import stopwords\n",
        "from nltk.stem import PorterStemmer, WordNetLemmatizer\n",
        "from collections import Counter\n",
        "import plotly.express as px\n",
        "from wordcloud import WordCloud, STOPWORDS"
      ]
    },
    {
      "cell_type": "markdown",
      "source": [
        "**Load data**"
      ],
      "metadata": {
        "id": "GfYAFFPs8gNl"
      }
    },
    {
      "cell_type": "code",
      "source": [
        "url = 'https://raw.githubusercontent.com/arzoozehra/CIND820/main/data/train.csv'\n",
        "train = pd.read_csv(url)\n",
        "test = pd.read_csv('https://raw.githubusercontent.com/arzoozehra/CIND820/main/data/test.csv')"
      ],
      "metadata": {
        "id": "WzPmmeuGrev1"
      },
      "execution_count": 2,
      "outputs": []
    },
    {
      "cell_type": "markdown",
      "source": [
        "**Explore data**"
      ],
      "metadata": {
        "id": "nVV3p4fZ8msc"
      }
    },
    {
      "cell_type": "code",
      "source": [
        "print(train.head())\n",
        "print(test.head())"
      ],
      "metadata": {
        "colab": {
          "base_uri": "https://localhost:8080/"
        },
        "id": "8n8Yjokdbn_g",
        "outputId": "b4652509-88c4-4603-f05f-444e5c65e382"
      },
      "execution_count": 3,
      "outputs": [
        {
          "output_type": "stream",
          "name": "stdout",
          "text": [
            "       textID                                               text  \\\n",
            "0  cb774db0d1                I`d have responded, if I were going   \n",
            "1  549e992a42      Sooo SAD I will miss you here in San Diego!!!   \n",
            "2  088c60f138                          my boss is bullying me...   \n",
            "3  9642c003ef                     what interview! leave me alone   \n",
            "4  358bd9e861   Sons of ****, why couldn`t they put them on t...   \n",
            "\n",
            "                         selected_text sentiment  \n",
            "0  I`d have responded, if I were going   neutral  \n",
            "1                             Sooo SAD  negative  \n",
            "2                          bullying me  negative  \n",
            "3                       leave me alone  negative  \n",
            "4                        Sons of ****,  negative  \n",
            "       textID                                               text sentiment\n",
            "0  f87dea47db  Last session of the day  http://twitpic.com/67ezh   neutral\n",
            "1  96d74cb729   Shanghai is also really exciting (precisely -...  positive\n",
            "2  eee518ae67  Recession hit Veronique Branquinho, she has to...  negative\n",
            "3  01082688c6                                        happy bday!  positive\n",
            "4  33987a8ee5             http://twitpic.com/4w75p - I like it!!  positive\n"
          ]
        }
      ]
    },
    {
      "cell_type": "code",
      "source": [
        "train[[\"text\", \"sentiment\"]].head(10).style"
      ],
      "metadata": {
        "id": "kAYUH8l8hgKY",
        "outputId": "9e6da18d-7a72-4437-ea6e-b968a6b630f7",
        "colab": {
          "base_uri": "https://localhost:8080/",
          "height": 363
        }
      },
      "execution_count": 4,
      "outputs": [
        {
          "output_type": "execute_result",
          "data": {
            "text/plain": [
              "<pandas.io.formats.style.Styler at 0x7fb92c4698e0>"
            ],
            "text/html": [
              "<style type=\"text/css\">\n",
              "</style>\n",
              "<table id=\"T_78750_\" class=\"dataframe\">\n",
              "  <thead>\n",
              "    <tr>\n",
              "      <th class=\"blank level0\" >&nbsp;</th>\n",
              "      <th class=\"col_heading level0 col0\" >text</th>\n",
              "      <th class=\"col_heading level0 col1\" >sentiment</th>\n",
              "    </tr>\n",
              "  </thead>\n",
              "  <tbody>\n",
              "    <tr>\n",
              "      <th id=\"T_78750_level0_row0\" class=\"row_heading level0 row0\" >0</th>\n",
              "      <td id=\"T_78750_row0_col0\" class=\"data row0 col0\" > I`d have responded, if I were going</td>\n",
              "      <td id=\"T_78750_row0_col1\" class=\"data row0 col1\" >neutral</td>\n",
              "    </tr>\n",
              "    <tr>\n",
              "      <th id=\"T_78750_level0_row1\" class=\"row_heading level0 row1\" >1</th>\n",
              "      <td id=\"T_78750_row1_col0\" class=\"data row1 col0\" > Sooo SAD I will miss you here in San Diego!!!</td>\n",
              "      <td id=\"T_78750_row1_col1\" class=\"data row1 col1\" >negative</td>\n",
              "    </tr>\n",
              "    <tr>\n",
              "      <th id=\"T_78750_level0_row2\" class=\"row_heading level0 row2\" >2</th>\n",
              "      <td id=\"T_78750_row2_col0\" class=\"data row2 col0\" >my boss is bullying me...</td>\n",
              "      <td id=\"T_78750_row2_col1\" class=\"data row2 col1\" >negative</td>\n",
              "    </tr>\n",
              "    <tr>\n",
              "      <th id=\"T_78750_level0_row3\" class=\"row_heading level0 row3\" >3</th>\n",
              "      <td id=\"T_78750_row3_col0\" class=\"data row3 col0\" > what interview! leave me alone</td>\n",
              "      <td id=\"T_78750_row3_col1\" class=\"data row3 col1\" >negative</td>\n",
              "    </tr>\n",
              "    <tr>\n",
              "      <th id=\"T_78750_level0_row4\" class=\"row_heading level0 row4\" >4</th>\n",
              "      <td id=\"T_78750_row4_col0\" class=\"data row4 col0\" > Sons of ****, why couldn`t they put them on the releases we already bought</td>\n",
              "      <td id=\"T_78750_row4_col1\" class=\"data row4 col1\" >negative</td>\n",
              "    </tr>\n",
              "    <tr>\n",
              "      <th id=\"T_78750_level0_row5\" class=\"row_heading level0 row5\" >5</th>\n",
              "      <td id=\"T_78750_row5_col0\" class=\"data row5 col0\" >http://www.dothebouncy.com/smf - some shameless plugging for the best Rangers forum on earth</td>\n",
              "      <td id=\"T_78750_row5_col1\" class=\"data row5 col1\" >neutral</td>\n",
              "    </tr>\n",
              "    <tr>\n",
              "      <th id=\"T_78750_level0_row6\" class=\"row_heading level0 row6\" >6</th>\n",
              "      <td id=\"T_78750_row6_col0\" class=\"data row6 col0\" >2am feedings for the baby are fun when he is all smiles and coos</td>\n",
              "      <td id=\"T_78750_row6_col1\" class=\"data row6 col1\" >positive</td>\n",
              "    </tr>\n",
              "    <tr>\n",
              "      <th id=\"T_78750_level0_row7\" class=\"row_heading level0 row7\" >7</th>\n",
              "      <td id=\"T_78750_row7_col0\" class=\"data row7 col0\" >Soooo high</td>\n",
              "      <td id=\"T_78750_row7_col1\" class=\"data row7 col1\" >neutral</td>\n",
              "    </tr>\n",
              "    <tr>\n",
              "      <th id=\"T_78750_level0_row8\" class=\"row_heading level0 row8\" >8</th>\n",
              "      <td id=\"T_78750_row8_col0\" class=\"data row8 col0\" > Both of you</td>\n",
              "      <td id=\"T_78750_row8_col1\" class=\"data row8 col1\" >neutral</td>\n",
              "    </tr>\n",
              "    <tr>\n",
              "      <th id=\"T_78750_level0_row9\" class=\"row_heading level0 row9\" >9</th>\n",
              "      <td id=\"T_78750_row9_col0\" class=\"data row9 col0\" > Journey!? Wow... u just became cooler.  hehe... (is that possible!?)</td>\n",
              "      <td id=\"T_78750_row9_col1\" class=\"data row9 col1\" >positive</td>\n",
              "    </tr>\n",
              "  </tbody>\n",
              "</table>\n"
            ]
          },
          "metadata": {},
          "execution_count": 4
        }
      ]
    },
    {
      "cell_type": "code",
      "source": [
        "train[[\"text\", \"sentiment\"]].tail(10).style"
      ],
      "metadata": {
        "id": "Bm-fm6dqhh7-",
        "outputId": "cad2e663-8863-4d90-f6c3-39209c705d5b",
        "colab": {
          "base_uri": "https://localhost:8080/",
          "height": 363
        }
      },
      "execution_count": 12,
      "outputs": [
        {
          "output_type": "execute_result",
          "data": {
            "text/plain": [
              "<pandas.io.formats.style.Styler at 0x7fb4f7eaff10>"
            ],
            "text/html": [
              "<style type=\"text/css\">\n",
              "</style>\n",
              "<table id=\"T_d2e58_\" class=\"dataframe\">\n",
              "  <thead>\n",
              "    <tr>\n",
              "      <th class=\"blank level0\" >&nbsp;</th>\n",
              "      <th class=\"col_heading level0 col0\" >text</th>\n",
              "      <th class=\"col_heading level0 col1\" >sentiment</th>\n",
              "    </tr>\n",
              "  </thead>\n",
              "  <tbody>\n",
              "    <tr>\n",
              "      <th id=\"T_d2e58_level0_row0\" class=\"row_heading level0 row0\" >27471</th>\n",
              "      <td id=\"T_d2e58_row0_col0\" class=\"data row0 col0\" >i`m defying gravity. and nobody in alll of oz, no wizard that there is or was, is ever gonna bring me down</td>\n",
              "      <td id=\"T_d2e58_row0_col1\" class=\"data row0 col1\" >neutral</td>\n",
              "    </tr>\n",
              "    <tr>\n",
              "      <th id=\"T_d2e58_level0_row1\" class=\"row_heading level0 row1\" >27472</th>\n",
              "      <td id=\"T_d2e58_row1_col0\" class=\"data row1 col0\" >http://twitpic.com/663vr - Wanted to visit the animals but we were too late</td>\n",
              "      <td id=\"T_d2e58_row1_col1\" class=\"data row1 col1\" >negative</td>\n",
              "    </tr>\n",
              "    <tr>\n",
              "      <th id=\"T_d2e58_level0_row2\" class=\"row_heading level0 row2\" >27473</th>\n",
              "      <td id=\"T_d2e58_row2_col0\" class=\"data row2 col0\" > in spoke to you yesterday and u didnt respond girl  wassup though!</td>\n",
              "      <td id=\"T_d2e58_row2_col1\" class=\"data row2 col1\" >neutral</td>\n",
              "    </tr>\n",
              "    <tr>\n",
              "      <th id=\"T_d2e58_level0_row3\" class=\"row_heading level0 row3\" >27474</th>\n",
              "      <td id=\"T_d2e58_row3_col0\" class=\"data row3 col0\" >So I get up early and I feel good about the day. I walk to work and I`m feeling alright. But guess what... I don`t work today.</td>\n",
              "      <td id=\"T_d2e58_row3_col1\" class=\"data row3 col1\" >positive</td>\n",
              "    </tr>\n",
              "    <tr>\n",
              "      <th id=\"T_d2e58_level0_row4\" class=\"row_heading level0 row4\" >27475</th>\n",
              "      <td id=\"T_d2e58_row4_col0\" class=\"data row4 col0\" >  enjoy ur night</td>\n",
              "      <td id=\"T_d2e58_row4_col1\" class=\"data row4 col1\" >positive</td>\n",
              "    </tr>\n",
              "    <tr>\n",
              "      <th id=\"T_d2e58_level0_row5\" class=\"row_heading level0 row5\" >27476</th>\n",
              "      <td id=\"T_d2e58_row5_col0\" class=\"data row5 col0\" > wish we could come see u on Denver  husband lost his job and can`t afford it</td>\n",
              "      <td id=\"T_d2e58_row5_col1\" class=\"data row5 col1\" >negative</td>\n",
              "    </tr>\n",
              "    <tr>\n",
              "      <th id=\"T_d2e58_level0_row6\" class=\"row_heading level0 row6\" >27477</th>\n",
              "      <td id=\"T_d2e58_row6_col0\" class=\"data row6 col0\" > I`ve wondered about rake to.  The client has made it clear .NET only, don`t force devs to learn a new lang  #agile #ccnet</td>\n",
              "      <td id=\"T_d2e58_row6_col1\" class=\"data row6 col1\" >negative</td>\n",
              "    </tr>\n",
              "    <tr>\n",
              "      <th id=\"T_d2e58_level0_row7\" class=\"row_heading level0 row7\" >27478</th>\n",
              "      <td id=\"T_d2e58_row7_col0\" class=\"data row7 col0\" > Yay good for both of you. Enjoy the break - you probably need it after such hectic weekend  Take care hun xxxx</td>\n",
              "      <td id=\"T_d2e58_row7_col1\" class=\"data row7 col1\" >positive</td>\n",
              "    </tr>\n",
              "    <tr>\n",
              "      <th id=\"T_d2e58_level0_row8\" class=\"row_heading level0 row8\" >27479</th>\n",
              "      <td id=\"T_d2e58_row8_col0\" class=\"data row8 col0\" > But it was worth it  ****.</td>\n",
              "      <td id=\"T_d2e58_row8_col1\" class=\"data row8 col1\" >positive</td>\n",
              "    </tr>\n",
              "    <tr>\n",
              "      <th id=\"T_d2e58_level0_row9\" class=\"row_heading level0 row9\" >27480</th>\n",
              "      <td id=\"T_d2e58_row9_col0\" class=\"data row9 col0\" >   All this flirting going on - The ATG smiles. Yay.  ((hugs))</td>\n",
              "      <td id=\"T_d2e58_row9_col1\" class=\"data row9 col1\" >neutral</td>\n",
              "    </tr>\n",
              "  </tbody>\n",
              "</table>\n"
            ]
          },
          "metadata": {},
          "execution_count": 12
        }
      ]
    },
    {
      "cell_type": "code",
      "source": [
        "test[[\"text\", \"sentiment\"]].head(10).style"
      ],
      "metadata": {
        "id": "kzl8laDkhjJK",
        "outputId": "2f0eb5be-13d2-4e5f-9a35-e32aba829678",
        "colab": {
          "base_uri": "https://localhost:8080/",
          "height": 363
        }
      },
      "execution_count": 13,
      "outputs": [
        {
          "output_type": "execute_result",
          "data": {
            "text/plain": [
              "<pandas.io.formats.style.Styler at 0x7fb4f7f13250>"
            ],
            "text/html": [
              "<style type=\"text/css\">\n",
              "</style>\n",
              "<table id=\"T_bbe02_\" class=\"dataframe\">\n",
              "  <thead>\n",
              "    <tr>\n",
              "      <th class=\"blank level0\" >&nbsp;</th>\n",
              "      <th class=\"col_heading level0 col0\" >text</th>\n",
              "      <th class=\"col_heading level0 col1\" >sentiment</th>\n",
              "    </tr>\n",
              "  </thead>\n",
              "  <tbody>\n",
              "    <tr>\n",
              "      <th id=\"T_bbe02_level0_row0\" class=\"row_heading level0 row0\" >0</th>\n",
              "      <td id=\"T_bbe02_row0_col0\" class=\"data row0 col0\" >Last session of the day  http://twitpic.com/67ezh</td>\n",
              "      <td id=\"T_bbe02_row0_col1\" class=\"data row0 col1\" >neutral</td>\n",
              "    </tr>\n",
              "    <tr>\n",
              "      <th id=\"T_bbe02_level0_row1\" class=\"row_heading level0 row1\" >1</th>\n",
              "      <td id=\"T_bbe02_row1_col0\" class=\"data row1 col0\" > Shanghai is also really exciting (precisely -- skyscrapers galore). Good tweeps in China:  (SH)  (BJ).</td>\n",
              "      <td id=\"T_bbe02_row1_col1\" class=\"data row1 col1\" >positive</td>\n",
              "    </tr>\n",
              "    <tr>\n",
              "      <th id=\"T_bbe02_level0_row2\" class=\"row_heading level0 row2\" >2</th>\n",
              "      <td id=\"T_bbe02_row2_col0\" class=\"data row2 col0\" >Recession hit Veronique Branquinho, she has to quit her company, such a shame!</td>\n",
              "      <td id=\"T_bbe02_row2_col1\" class=\"data row2 col1\" >negative</td>\n",
              "    </tr>\n",
              "    <tr>\n",
              "      <th id=\"T_bbe02_level0_row3\" class=\"row_heading level0 row3\" >3</th>\n",
              "      <td id=\"T_bbe02_row3_col0\" class=\"data row3 col0\" > happy bday!</td>\n",
              "      <td id=\"T_bbe02_row3_col1\" class=\"data row3 col1\" >positive</td>\n",
              "    </tr>\n",
              "    <tr>\n",
              "      <th id=\"T_bbe02_level0_row4\" class=\"row_heading level0 row4\" >4</th>\n",
              "      <td id=\"T_bbe02_row4_col0\" class=\"data row4 col0\" > http://twitpic.com/4w75p - I like it!!</td>\n",
              "      <td id=\"T_bbe02_row4_col1\" class=\"data row4 col1\" >positive</td>\n",
              "    </tr>\n",
              "    <tr>\n",
              "      <th id=\"T_bbe02_level0_row5\" class=\"row_heading level0 row5\" >5</th>\n",
              "      <td id=\"T_bbe02_row5_col0\" class=\"data row5 col0\" > that`s great!! weee!! visitors!</td>\n",
              "      <td id=\"T_bbe02_row5_col1\" class=\"data row5 col1\" >positive</td>\n",
              "    </tr>\n",
              "    <tr>\n",
              "      <th id=\"T_bbe02_level0_row6\" class=\"row_heading level0 row6\" >6</th>\n",
              "      <td id=\"T_bbe02_row6_col0\" class=\"data row6 col0\" >I THINK EVERYONE HATES ME ON HERE   lol</td>\n",
              "      <td id=\"T_bbe02_row6_col1\" class=\"data row6 col1\" >negative</td>\n",
              "    </tr>\n",
              "    <tr>\n",
              "      <th id=\"T_bbe02_level0_row7\" class=\"row_heading level0 row7\" >7</th>\n",
              "      <td id=\"T_bbe02_row7_col0\" class=\"data row7 col0\" > soooooo wish i could, but im in school and myspace is completely blocked</td>\n",
              "      <td id=\"T_bbe02_row7_col1\" class=\"data row7 col1\" >negative</td>\n",
              "    </tr>\n",
              "    <tr>\n",
              "      <th id=\"T_bbe02_level0_row8\" class=\"row_heading level0 row8\" >8</th>\n",
              "      <td id=\"T_bbe02_row8_col0\" class=\"data row8 col0\" > and within a short time of the last clue all of them</td>\n",
              "      <td id=\"T_bbe02_row8_col1\" class=\"data row8 col1\" >neutral</td>\n",
              "    </tr>\n",
              "    <tr>\n",
              "      <th id=\"T_bbe02_level0_row9\" class=\"row_heading level0 row9\" >9</th>\n",
              "      <td id=\"T_bbe02_row9_col0\" class=\"data row9 col0\" > What did you get?  My day is alright.. haven`t done anything yet. leaving soon to my stepsister though!</td>\n",
              "      <td id=\"T_bbe02_row9_col1\" class=\"data row9 col1\" >neutral</td>\n",
              "    </tr>\n",
              "  </tbody>\n",
              "</table>\n"
            ]
          },
          "metadata": {},
          "execution_count": 13
        }
      ]
    },
    {
      "cell_type": "code",
      "source": [
        "test[[\"text\", \"sentiment\"]].tail(10).style"
      ],
      "metadata": {
        "id": "1fTqJMz1hklY",
        "outputId": "2507ac79-de0a-44f6-e2dd-ae9ae135d6f0",
        "colab": {
          "base_uri": "https://localhost:8080/",
          "height": 363
        }
      },
      "execution_count": 14,
      "outputs": [
        {
          "output_type": "execute_result",
          "data": {
            "text/plain": [
              "<pandas.io.formats.style.Styler at 0x7fb4f7f037f0>"
            ],
            "text/html": [
              "<style type=\"text/css\">\n",
              "</style>\n",
              "<table id=\"T_9ff75_\" class=\"dataframe\">\n",
              "  <thead>\n",
              "    <tr>\n",
              "      <th class=\"blank level0\" >&nbsp;</th>\n",
              "      <th class=\"col_heading level0 col0\" >text</th>\n",
              "      <th class=\"col_heading level0 col1\" >sentiment</th>\n",
              "    </tr>\n",
              "  </thead>\n",
              "  <tbody>\n",
              "    <tr>\n",
              "      <th id=\"T_9ff75_level0_row0\" class=\"row_heading level0 row0\" >3524</th>\n",
              "      <td id=\"T_9ff75_row0_col0\" class=\"data row0 col0\" >My hair dresser passed away yesterday from breast cancer  She was the greatest hair dresser I`d ever been to!</td>\n",
              "      <td id=\"T_9ff75_row0_col1\" class=\"data row0 col1\" >neutral</td>\n",
              "    </tr>\n",
              "    <tr>\n",
              "      <th id=\"T_9ff75_level0_row1\" class=\"row_heading level0 row1\" >3525</th>\n",
              "      <td id=\"T_9ff75_row1_col0\" class=\"data row1 col0\" > I was supposed to go tomorrow tooooo, but have to use gas and ticket money to pay for car inspection fee.</td>\n",
              "      <td id=\"T_9ff75_row1_col1\" class=\"data row1 col1\" >neutral</td>\n",
              "    </tr>\n",
              "    <tr>\n",
              "      <th id=\"T_9ff75_level0_row2\" class=\"row_heading level0 row2\" >3526</th>\n",
              "      <td id=\"T_9ff75_row2_col0\" class=\"data row2 col0\" >The best thing I have ever done is carry and birth a child</td>\n",
              "      <td id=\"T_9ff75_row2_col1\" class=\"data row2 col1\" >positive</td>\n",
              "    </tr>\n",
              "    <tr>\n",
              "      <th id=\"T_9ff75_level0_row3\" class=\"row_heading level0 row3\" >3527</th>\n",
              "      <td id=\"T_9ff75_row3_col0\" class=\"data row3 col0\" >..my mother just WON the City of Terrell, Texas District 2 `City Council` Seat  ..i`m M.i.A lol HAPPY MOTHERS DAY</td>\n",
              "      <td id=\"T_9ff75_row3_col1\" class=\"data row3 col1\" >positive</td>\n",
              "    </tr>\n",
              "    <tr>\n",
              "      <th id=\"T_9ff75_level0_row4\" class=\"row_heading level0 row4\" >3528</th>\n",
              "      <td id=\"T_9ff75_row4_col0\" class=\"data row4 col0\" >Friday evening......what to do, what to do.  I have to idea.</td>\n",
              "      <td id=\"T_9ff75_row4_col1\" class=\"data row4 col1\" >neutral</td>\n",
              "    </tr>\n",
              "    <tr>\n",
              "      <th id=\"T_9ff75_level0_row5\" class=\"row_heading level0 row5\" >3529</th>\n",
              "      <td id=\"T_9ff75_row5_col0\" class=\"data row5 col0\" >its at 3 am, im very tired but i can`t sleep  but i try it</td>\n",
              "      <td id=\"T_9ff75_row5_col1\" class=\"data row5 col1\" >negative</td>\n",
              "    </tr>\n",
              "    <tr>\n",
              "      <th id=\"T_9ff75_level0_row6\" class=\"row_heading level0 row6\" >3530</th>\n",
              "      <td id=\"T_9ff75_row6_col0\" class=\"data row6 col0\" >All alone in this old house again.  Thanks for the net which keeps me alive and kicking! Whoever invented the net, i wanna kiss your hair!</td>\n",
              "      <td id=\"T_9ff75_row6_col1\" class=\"data row6 col1\" >positive</td>\n",
              "    </tr>\n",
              "    <tr>\n",
              "      <th id=\"T_9ff75_level0_row7\" class=\"row_heading level0 row7\" >3531</th>\n",
              "      <td id=\"T_9ff75_row7_col0\" class=\"data row7 col0\" > I know what you mean. My little dog is sinking into depression... he wants to move someplace tropical</td>\n",
              "      <td id=\"T_9ff75_row7_col1\" class=\"data row7 col1\" >negative</td>\n",
              "    </tr>\n",
              "    <tr>\n",
              "      <th id=\"T_9ff75_level0_row8\" class=\"row_heading level0 row8\" >3532</th>\n",
              "      <td id=\"T_9ff75_row8_col0\" class=\"data row8 col0\" >_sutra what is your next youtube video gonna be about? I love your videos!</td>\n",
              "      <td id=\"T_9ff75_row8_col1\" class=\"data row8 col1\" >positive</td>\n",
              "    </tr>\n",
              "    <tr>\n",
              "      <th id=\"T_9ff75_level0_row9\" class=\"row_heading level0 row9\" >3533</th>\n",
              "      <td id=\"T_9ff75_row9_col0\" class=\"data row9 col0\" > http://twitpic.com/4woj2 - omgssh  ang cute ng bby.!</td>\n",
              "      <td id=\"T_9ff75_row9_col1\" class=\"data row9 col1\" >positive</td>\n",
              "    </tr>\n",
              "  </tbody>\n",
              "</table>\n"
            ]
          },
          "metadata": {},
          "execution_count": 14
        }
      ]
    },
    {
      "cell_type": "code",
      "source": [
        "train.info()\n",
        "test.info()"
      ],
      "metadata": {
        "colab": {
          "base_uri": "https://localhost:8080/"
        },
        "id": "pQ8WJkjtt0L9",
        "outputId": "e0eacaa1-316a-422e-b354-a3eda90fc4e2"
      },
      "execution_count": 5,
      "outputs": [
        {
          "output_type": "stream",
          "name": "stdout",
          "text": [
            "<class 'pandas.core.frame.DataFrame'>\n",
            "RangeIndex: 27481 entries, 0 to 27480\n",
            "Data columns (total 4 columns):\n",
            " #   Column         Non-Null Count  Dtype \n",
            "---  ------         --------------  ----- \n",
            " 0   textID         27481 non-null  object\n",
            " 1   text           27480 non-null  object\n",
            " 2   selected_text  27480 non-null  object\n",
            " 3   sentiment      27481 non-null  object\n",
            "dtypes: object(4)\n",
            "memory usage: 858.9+ KB\n",
            "<class 'pandas.core.frame.DataFrame'>\n",
            "RangeIndex: 3534 entries, 0 to 3533\n",
            "Data columns (total 3 columns):\n",
            " #   Column     Non-Null Count  Dtype \n",
            "---  ------     --------------  ----- \n",
            " 0   textID     3534 non-null   object\n",
            " 1   text       3534 non-null   object\n",
            " 2   sentiment  3534 non-null   object\n",
            "dtypes: object(3)\n",
            "memory usage: 83.0+ KB\n"
          ]
        }
      ]
    },
    {
      "cell_type": "code",
      "source": [
        "print('Training set contains {} rows and {} columns.'.format(train.shape[0],train.shape[1]))\n",
        "print('Test set contains {} rows and {} columns'.format(test.shape[0],test.shape[1]))\n",
        "print('\\nTraining set contains {} row(s) with missing values.'.format(train.isna().any(axis=1).sum()))\n",
        "print('Test set contains {} row(s) with missing values.'.format(test.isna().any(axis=1).sum()))"
      ],
      "metadata": {
        "colab": {
          "base_uri": "https://localhost:8080/"
        },
        "id": "AT7zoz42b1Fe",
        "outputId": "b27be6c3-82fe-4f53-ed33-a640f0d44355"
      },
      "execution_count": null,
      "outputs": [
        {
          "output_type": "stream",
          "name": "stdout",
          "text": [
            "Training set contains 27481 rows and 4 columns.\n",
            "Test set contains 3534 rows and 3 columns\n",
            "\n",
            "Training set contains 1 row(s) with missing values.\n",
            "Test set contains 0 row(s) with missing values.\n"
          ]
        }
      ]
    },
    {
      "cell_type": "code",
      "source": [
        "# Remove row with missing values\n",
        "train.dropna(inplace=True)"
      ],
      "metadata": {
        "id": "rWNi6b_FuON6"
      },
      "execution_count": 6,
      "outputs": []
    },
    {
      "cell_type": "code",
      "source": [
        "train.info()"
      ],
      "metadata": {
        "colab": {
          "base_uri": "https://localhost:8080/"
        },
        "id": "GHQUbYgjuTdw",
        "outputId": "27268570-11bc-49a0-c4cd-127143b1d892"
      },
      "execution_count": 7,
      "outputs": [
        {
          "output_type": "stream",
          "name": "stdout",
          "text": [
            "<class 'pandas.core.frame.DataFrame'>\n",
            "Int64Index: 27480 entries, 0 to 27480\n",
            "Data columns (total 4 columns):\n",
            " #   Column         Non-Null Count  Dtype \n",
            "---  ------         --------------  ----- \n",
            " 0   textID         27480 non-null  object\n",
            " 1   text           27480 non-null  object\n",
            " 2   selected_text  27480 non-null  object\n",
            " 3   sentiment      27480 non-null  object\n",
            "dtypes: object(4)\n",
            "memory usage: 1.0+ MB\n"
          ]
        }
      ]
    },
    {
      "cell_type": "code",
      "source": [
        "train.describe()"
      ],
      "metadata": {
        "colab": {
          "base_uri": "https://localhost:8080/",
          "height": 175
        },
        "id": "bgZHNXc_usrw",
        "outputId": "b797121f-69c4-4118-b229-661a8467255b"
      },
      "execution_count": 42,
      "outputs": [
        {
          "output_type": "execute_result",
          "data": {
            "text/plain": [
              "            textID                                  text selected_text  \\\n",
              "count        27480                                 27480         27480   \n",
              "unique       27480                                 27480         22463   \n",
              "top     cb774db0d1   I`d have responded, if I were going          good   \n",
              "freq             1                                     1           199   \n",
              "\n",
              "       sentiment  \n",
              "count      27480  \n",
              "unique         3  \n",
              "top      neutral  \n",
              "freq       11117  "
            ],
            "text/html": [
              "\n",
              "  <div id=\"df-cf68a4da-dc14-47b9-8954-c3b4d9f0b9d4\">\n",
              "    <div class=\"colab-df-container\">\n",
              "      <div>\n",
              "<style scoped>\n",
              "    .dataframe tbody tr th:only-of-type {\n",
              "        vertical-align: middle;\n",
              "    }\n",
              "\n",
              "    .dataframe tbody tr th {\n",
              "        vertical-align: top;\n",
              "    }\n",
              "\n",
              "    .dataframe thead th {\n",
              "        text-align: right;\n",
              "    }\n",
              "</style>\n",
              "<table border=\"1\" class=\"dataframe\">\n",
              "  <thead>\n",
              "    <tr style=\"text-align: right;\">\n",
              "      <th></th>\n",
              "      <th>textID</th>\n",
              "      <th>text</th>\n",
              "      <th>selected_text</th>\n",
              "      <th>sentiment</th>\n",
              "    </tr>\n",
              "  </thead>\n",
              "  <tbody>\n",
              "    <tr>\n",
              "      <th>count</th>\n",
              "      <td>27480</td>\n",
              "      <td>27480</td>\n",
              "      <td>27480</td>\n",
              "      <td>27480</td>\n",
              "    </tr>\n",
              "    <tr>\n",
              "      <th>unique</th>\n",
              "      <td>27480</td>\n",
              "      <td>27480</td>\n",
              "      <td>22463</td>\n",
              "      <td>3</td>\n",
              "    </tr>\n",
              "    <tr>\n",
              "      <th>top</th>\n",
              "      <td>cb774db0d1</td>\n",
              "      <td>I`d have responded, if I were going</td>\n",
              "      <td>good</td>\n",
              "      <td>neutral</td>\n",
              "    </tr>\n",
              "    <tr>\n",
              "      <th>freq</th>\n",
              "      <td>1</td>\n",
              "      <td>1</td>\n",
              "      <td>199</td>\n",
              "      <td>11117</td>\n",
              "    </tr>\n",
              "  </tbody>\n",
              "</table>\n",
              "</div>\n",
              "      <button class=\"colab-df-convert\" onclick=\"convertToInteractive('df-cf68a4da-dc14-47b9-8954-c3b4d9f0b9d4')\"\n",
              "              title=\"Convert this dataframe to an interactive table.\"\n",
              "              style=\"display:none;\">\n",
              "        \n",
              "  <svg xmlns=\"http://www.w3.org/2000/svg\" height=\"24px\"viewBox=\"0 0 24 24\"\n",
              "       width=\"24px\">\n",
              "    <path d=\"M0 0h24v24H0V0z\" fill=\"none\"/>\n",
              "    <path d=\"M18.56 5.44l.94 2.06.94-2.06 2.06-.94-2.06-.94-.94-2.06-.94 2.06-2.06.94zm-11 1L8.5 8.5l.94-2.06 2.06-.94-2.06-.94L8.5 2.5l-.94 2.06-2.06.94zm10 10l.94 2.06.94-2.06 2.06-.94-2.06-.94-.94-2.06-.94 2.06-2.06.94z\"/><path d=\"M17.41 7.96l-1.37-1.37c-.4-.4-.92-.59-1.43-.59-.52 0-1.04.2-1.43.59L10.3 9.45l-7.72 7.72c-.78.78-.78 2.05 0 2.83L4 21.41c.39.39.9.59 1.41.59.51 0 1.02-.2 1.41-.59l7.78-7.78 2.81-2.81c.8-.78.8-2.07 0-2.86zM5.41 20L4 18.59l7.72-7.72 1.47 1.35L5.41 20z\"/>\n",
              "  </svg>\n",
              "      </button>\n",
              "      \n",
              "  <style>\n",
              "    .colab-df-container {\n",
              "      display:flex;\n",
              "      flex-wrap:wrap;\n",
              "      gap: 12px;\n",
              "    }\n",
              "\n",
              "    .colab-df-convert {\n",
              "      background-color: #E8F0FE;\n",
              "      border: none;\n",
              "      border-radius: 50%;\n",
              "      cursor: pointer;\n",
              "      display: none;\n",
              "      fill: #1967D2;\n",
              "      height: 32px;\n",
              "      padding: 0 0 0 0;\n",
              "      width: 32px;\n",
              "    }\n",
              "\n",
              "    .colab-df-convert:hover {\n",
              "      background-color: #E2EBFA;\n",
              "      box-shadow: 0px 1px 2px rgba(60, 64, 67, 0.3), 0px 1px 3px 1px rgba(60, 64, 67, 0.15);\n",
              "      fill: #174EA6;\n",
              "    }\n",
              "\n",
              "    [theme=dark] .colab-df-convert {\n",
              "      background-color: #3B4455;\n",
              "      fill: #D2E3FC;\n",
              "    }\n",
              "\n",
              "    [theme=dark] .colab-df-convert:hover {\n",
              "      background-color: #434B5C;\n",
              "      box-shadow: 0px 1px 3px 1px rgba(0, 0, 0, 0.15);\n",
              "      filter: drop-shadow(0px 1px 2px rgba(0, 0, 0, 0.3));\n",
              "      fill: #FFFFFF;\n",
              "    }\n",
              "  </style>\n",
              "\n",
              "      <script>\n",
              "        const buttonEl =\n",
              "          document.querySelector('#df-cf68a4da-dc14-47b9-8954-c3b4d9f0b9d4 button.colab-df-convert');\n",
              "        buttonEl.style.display =\n",
              "          google.colab.kernel.accessAllowed ? 'block' : 'none';\n",
              "\n",
              "        async function convertToInteractive(key) {\n",
              "          const element = document.querySelector('#df-cf68a4da-dc14-47b9-8954-c3b4d9f0b9d4');\n",
              "          const dataTable =\n",
              "            await google.colab.kernel.invokeFunction('convertToInteractive',\n",
              "                                                     [key], {});\n",
              "          if (!dataTable) return;\n",
              "\n",
              "          const docLinkHtml = 'Like what you see? Visit the ' +\n",
              "            '<a target=\"_blank\" href=https://colab.research.google.com/notebooks/data_table.ipynb>data table notebook</a>'\n",
              "            + ' to learn more about interactive tables.';\n",
              "          element.innerHTML = '';\n",
              "          dataTable['output_type'] = 'display_data';\n",
              "          await google.colab.output.renderOutput(dataTable, element);\n",
              "          const docLink = document.createElement('div');\n",
              "          docLink.innerHTML = docLinkHtml;\n",
              "          element.appendChild(docLink);\n",
              "        }\n",
              "      </script>\n",
              "    </div>\n",
              "  </div>\n",
              "  "
            ]
          },
          "metadata": {},
          "execution_count": 42
        }
      ]
    },
    {
      "cell_type": "code",
      "source": [
        "print(train['sentiment'].value_counts())\n",
        "print(train['sentiment'].value_counts(normalize=True))"
      ],
      "metadata": {
        "colab": {
          "base_uri": "https://localhost:8080/"
        },
        "id": "AG_0q7n_yQvr",
        "outputId": "714e5ed2-6cb8-4edd-cbee-da77b4fe4d20"
      },
      "execution_count": 8,
      "outputs": [
        {
          "output_type": "stream",
          "name": "stdout",
          "text": [
            "neutral     11117\n",
            "positive     8582\n",
            "negative     7781\n",
            "Name: sentiment, dtype: int64\n",
            "neutral     0.404549\n",
            "positive    0.312300\n",
            "negative    0.283151\n",
            "Name: sentiment, dtype: float64\n"
          ]
        }
      ]
    },
    {
      "cell_type": "code",
      "source": [
        "print(test['sentiment'].value_counts())\n",
        "test['sentiment'].value_counts(normalize=True)"
      ],
      "metadata": {
        "colab": {
          "base_uri": "https://localhost:8080/"
        },
        "id": "By9YYw5SyfEC",
        "outputId": "40cdde4e-491e-438e-ee66-cad07b2db9d5"
      },
      "execution_count": 11,
      "outputs": [
        {
          "output_type": "stream",
          "name": "stdout",
          "text": [
            "neutral     1430\n",
            "positive    1103\n",
            "negative    1001\n",
            "Name: sentiment, dtype: int64\n"
          ]
        },
        {
          "output_type": "execute_result",
          "data": {
            "text/plain": [
              "neutral     0.404641\n",
              "positive    0.312111\n",
              "negative    0.283248\n",
              "Name: sentiment, dtype: float64"
            ]
          },
          "metadata": {},
          "execution_count": 11
        }
      ]
    },
    {
      "cell_type": "code",
      "source": [
        "x = train.sentiment.value_counts()"
      ],
      "metadata": {
        "id": "c_g5G7C7ltIO"
      },
      "execution_count": 12,
      "outputs": []
    },
    {
      "cell_type": "code",
      "source": [
        "sns.barplot(x=x.index, y=x, palette=['blue', 'green', 'orange'])\n",
        "plt.gca().set_ylabel('tweets')"
      ],
      "metadata": {
        "colab": {
          "base_uri": "https://localhost:8080/",
          "height": 283
        },
        "id": "0aPz8TBkstGT",
        "outputId": "edd97c58-10d2-49aa-f460-00055aed3cc8"
      },
      "execution_count": 13,
      "outputs": [
        {
          "output_type": "execute_result",
          "data": {
            "text/plain": [
              "Text(0, 0.5, 'tweets')"
            ]
          },
          "metadata": {},
          "execution_count": 13
        },
        {
          "output_type": "display_data",
          "data": {
            "text/plain": [
              "<Figure size 432x288 with 1 Axes>"
            ],
            "image/png": "[encoded data removed]"
          },
          "metadata": {
            "needs_background": "light"
          }
        }
      ]
    },
    {
      "cell_type": "code",
      "source": [
        "fig = plt.figure()\n",
        "\n",
        "plt.pie(x, labels = x.index, colors=['blue', 'green', 'orange'], autopct='%1.2f%%')\n",
        "plt.show()"
      ],
      "metadata": {
        "id": "j42PJwNbkHCm",
        "outputId": "1b023932-a065-4699-d96f-94f6e5c3dacd",
        "colab": {
          "base_uri": "https://localhost:8080/",
          "height": 248
        }
      },
      "execution_count": 14,
      "outputs": [
        {
          "output_type": "display_data",
          "data": {
            "text/plain": [
              "<Figure size 432x288 with 1 Axes>"
            ],
            "image/png": "[encoded data removed]"
          },
          "metadata": {}
        }
      ]
    },
    {
      "cell_type": "code",
      "source": [
        "neutral = train[train['sentiment']=='neutral']\n",
        "pos = train[train['sentiment']=='positive']\n",
        "neg = train[train['sentiment']=='negative']"
      ],
      "metadata": {
        "id": "StLPD9Fd2UOg"
      },
      "execution_count": 15,
      "outputs": []
    },
    {
      "cell_type": "code",
      "source": [
        "# number of characters, i.e. tweet length\n",
        "\n",
        "fig, (ax1, ax2, ax3) = plt.subplots(1, 3, figsize=(15,5))\n",
        "\n",
        "tweet_len = neutral['text'].str.len()\n",
        "ax1.hist(tweet_len, color='blue')\n",
        "ax1.set_title('Neutral tweets')\n",
        "ax1.set_ylim([0, 1800])\n",
        "\n",
        "tweet_len = pos['text'].str.len()\n",
        "ax2.hist(tweet_len, color='green')\n",
        "ax2.set_title('Positive tweets')\n",
        "ax2.set_ylim([0, 1800])\n",
        "\n",
        "tweet_len = neg['text'].str.len()\n",
        "ax3.hist(tweet_len, color='orange')\n",
        "ax3.set_title('Negative tweets')\n",
        "ax3.set_ylim([0, 1800])\n",
        "\n",
        "\n",
        "fig.suptitle('# of characters in a tweet')\n",
        "plt.show()\n"
      ],
      "metadata": {
        "colab": {
          "base_uri": "https://localhost:8080/",
          "height": 356
        },
        "id": "cSMMfkSj6ZCU",
        "outputId": "ecedfe29-5d31-404d-8e9b-00c76facbb6d"
      },
      "execution_count": 16,
      "outputs": [
        {
          "output_type": "display_data",
          "data": {
            "text/plain": [
              "<Figure size 1080x360 with 3 Axes>"
            ],
            "image/png": "[encoded data removed]"
          },
          "metadata": {
            "needs_background": "light"
          }
        }
      ]
    },
    {
      "cell_type": "code",
      "source": [
        "# fig, ax = plt.subplots()\n",
        "\n",
        "# tweet_len = pos['text'].str.len()\n",
        "# sns.distplot(tweet_len, color='red', ax = ax, hist = False)\n",
        "\n",
        "# tweet_len = neutral['text'].str.len()\n",
        "# sns.distplot(tweet_len, color='blue', ax = ax, hist = False)\n",
        "\n",
        "\n",
        "# tweet_len = neg['text'].str.len()\n",
        "# sns.distplot(tweet_len, color='green', ax = ax, hist = False)\n",
        "\n",
        "# plt.show()"
      ],
      "metadata": {
        "id": "h6NDb_4L7NeQ"
      },
      "execution_count": null,
      "outputs": []
    },
    {
      "cell_type": "code",
      "source": [
        " # initialize data of lists.\n",
        "data = {'sentiment': train['sentiment'],\n",
        "        'text_length': train['text'].str.len()}\n",
        "  \n",
        "# Create DataFrame\n",
        "data = pd.DataFrame(data)\n",
        "\n",
        "sns.displot(data=data, x='text_length', hue = 'sentiment', kind = 'kde')"
      ],
      "metadata": {
        "colab": {
          "base_uri": "https://localhost:8080/",
          "height": 387
        },
        "id": "X3879nP230ul",
        "outputId": "1ae650ef-3294-4069-98c4-e15371c20eea"
      },
      "execution_count": 17,
      "outputs": [
        {
          "output_type": "execute_result",
          "data": {
            "text/plain": [
              "<seaborn.axisgrid.FacetGrid at 0x7fb9116ae1f0>"
            ]
          },
          "metadata": {},
          "execution_count": 17
        },
        {
          "output_type": "display_data",
          "data": {
            "text/plain": [
              "<Figure size 439.75x360 with 1 Axes>"
            ],
            "image/png": "[encoded data removed]"
          },
          "metadata": {
            "needs_background": "light"
          }
        }
      ]
    },
    {
      "cell_type": "code",
      "source": [
        "# number of words in a tweet\n",
        "\n",
        "fig, (ax1, ax2, ax3) = plt.subplots(1, 3, figsize=(15,5))\n",
        "\n",
        "tweet_words = neutral['text'].str.split().map(lambda x: len(x))\n",
        "ax1.hist(tweet_words, color = 'blue')\n",
        "ax1.set_title('Neutral tweets')\n",
        "ax1.set_ylim([0,2000])\n",
        "\n",
        "tweet_words = pos['text'].str.split().map(lambda x: len(x))\n",
        "ax2.hist(tweet_words, color = 'green')\n",
        "ax2.set_title('Positive tweets')\n",
        "ax2.set_ylim([0,2000])\n",
        "\n",
        "tweet_words = neg['text'].str.split().map(lambda x: len(x))\n",
        "ax3.hist(tweet_words, color = 'orange')\n",
        "ax3.set_title('Negative tweets')\n",
        "ax3.set_ylim([0,2000])\n",
        "\n",
        "fig.suptitle('# of words in a tweet')\n",
        "plt.show()"
      ],
      "metadata": {
        "colab": {
          "base_uri": "https://localhost:8080/",
          "height": 356
        },
        "id": "MlDC3UZlyxuj",
        "outputId": "49339e0a-9cab-4e49-84db-2014caa1ce3a"
      },
      "execution_count": 18,
      "outputs": [
        {
          "output_type": "display_data",
          "data": {
            "text/plain": [
              "<Figure size 1080x360 with 3 Axes>"
            ],
            "image/png": "[encoded data removed]"
          },
          "metadata": {
            "needs_background": "light"
          }
        }
      ]
    },
    {
      "cell_type": "code",
      "source": [
        "# fig,(ax1,ax2,ax3)=plt.subplots(1,3,figsize=(20,5))\n",
        "\n",
        "# word = neutral['text'].str.split().apply(lambda x : [len(i) for i in x])\n",
        "# sns.distplot(word.map(lambda x: np.mean(x)), ax = ax1, color='blue')\n",
        "# ax1.set_title('Neutral')\n",
        "# ax1.set_xlim([0,70])\n",
        "# ax1.set_ylim([0,0.6])\n",
        "\n",
        "# word = pos['text'].str.split().apply(lambda x : [len(i) for i in x])\n",
        "# sns.distplot(word.map(lambda x: np.mean(x)), ax = ax2, color = 'green')\n",
        "# ax2.set_title('Positive')\n",
        "# ax2.set_xlim([0,70])\n",
        "# ax2.set_ylim([0,0.6])\n",
        "\n",
        "# word = neg['text'].str.split().apply(lambda x : [len(i) for i in x])\n",
        "# sns.distplot(word.map(lambda x: np.mean(x)), ax = ax3, color = 'orange')\n",
        "# ax3.set_title('Negative')\n",
        "# ax3.set_xlim([0,70])\n",
        "# ax3.set_ylim([0,0.6])\n",
        "\n",
        "\n",
        "# fig.suptitle('Average word length in each tweet')"
      ],
      "metadata": {
        "id": "97vbYEHv4qRI"
      },
      "execution_count": null,
      "outputs": []
    },
    {
      "cell_type": "markdown",
      "source": [
        "**Clean text**"
      ],
      "metadata": {
        "id": "QbW4UiEpq9kA"
      }
    },
    {
      "cell_type": "code",
      "source": [
        "# Convert text to lowercase\n",
        "train['text'] = train['text'].str.lower()\n",
        "\n",
        "# Expand contractions e.g \"gonna\" to \"going to\" and \"i've\" to \"i have\"\n",
        "train['text'].replace( {r\"`\": \"'\"}, inplace= True, regex = True)\n",
        "train['text'] = train['text'].apply(contractions.fix)\n",
        "\n",
        "# Remove @, Unicode characters, punctuation, emojis, URLs, retweets, words with digits, and 1 or 2 letter words\n",
        "train['text'].replace( {r\"(@\\[A-Za-z0-9]+)|([^0-9A-Za-z \\t])|(\\w+:\\/\\/\\S+)|^rt|http.+?|\\w*\\d\\w*|\\b\\w{1,2}\\b\": \" \"}, inplace= True, regex = True)\n",
        "\n",
        "# Remove extra whitespaces\n",
        "train['text'].replace( {r\" +\": \" \"}, inplace= True, regex = True)\n",
        "train['text'] = train['text'].str.strip()\n",
        "\n",
        "# Correct spellings\n",
        "#spell = SpellChecker()\n",
        "\n",
        "#def correct_spellings(text):\n",
        "#    corrected_text = []\n",
        "#    misspelled_words = {}\n",
        "#    words = text.split()\n",
        "#    for w in spell.unknown(words):\n",
        "#        corr = spell.correction(w)\n",
        "#        if corr:\n",
        "#            misspelled_words[w] = spell.correction(w) or w\n",
        "#    corrected_text = [misspelled_words.get(w, w) for w in words]\n",
        "#    return \" \".join(corrected_text)\n",
        "\n",
        "#train['text'] = train['text'].apply(lambda x : correct_spellings(x))\n",
        "\n",
        "# Remove stopwords\n",
        "stop = stopwords.words('english')\n",
        "train['text'] = train['text'].apply(lambda text: \" \".join([word for word in text.split() if word not in (stop)]))\n",
        "\n",
        "# Stemming\n",
        "stemmer = PorterStemmer()\n",
        "train['text'] = train['text'].apply(lambda text: \" \".join([stemmer.stem(word) for word in text.split()]))\n",
        "\n",
        "# Lemmatizing\n",
        "lemmatizer = WordNetLemmatizer()\n",
        "train['text'] = train['text'].apply(lambda text: \" \".join([lemmatizer.lemmatize(word) for word in text.split()]))\n"
      ],
      "metadata": {
        "id": "5tDnIMd-q89D"
      },
      "execution_count": 19,
      "outputs": []
    },
    {
      "cell_type": "code",
      "source": [
        "print(train.head(20))\n",
        "print(train['text'].tail(20))"
      ],
      "metadata": {
        "id": "tT-89PPBe703",
        "outputId": "f4c4ac96-f6f9-45d8-bf32-39ed2b50eba7",
        "colab": {
          "base_uri": "https://localhost:8080/"
        }
      },
      "execution_count": 20,
      "outputs": [
        {
          "output_type": "stream",
          "name": "stdout",
          "text": [
            "        textID                                               text  \\\n",
            "0   cb774db0d1                                   would respond go   \n",
            "1   549e992a42                            sooo sad miss san diego   \n",
            "2   088c60f138                                          bos bulli   \n",
            "3   9642c003ef                                interview leav alon   \n",
            "4   358bd9e861                son could put releas alreadi bought   \n",
            "5   28b57f3990             shameless plug best ranger forum earth   \n",
            "6   6e0c6d75b1                            feed babi fun smile coo   \n",
            "7   50e14c0bb8                                         soooo high   \n",
            "8   e050245fbd                                                      \n",
            "9   fc2cbefa9d              journey wow becam cooler hehe possibl   \n",
            "10  2339a9b08b  much love hope reckon chanc minim never go get...   \n",
            "11  16fab9f95b    realli realli like song love stori taylor swift   \n",
            "12  74a76f6e0a                          sharpi run danger low ink   \n",
            "13  04dd1d2e34                       want music tonight lost voic   \n",
            "14  bbe3cbf620                                          test test   \n",
            "15  8a939bfb59                                            sunburn   \n",
            "16  3440297f8b                         tri plot altern speak sigh   \n",
            "17  919fa93391   sick past day thu hair look wierd hat would look   \n",
            "18  af3fed7fc3                        back home go miss everi one   \n",
            "19  40e7becabf                                                 he   \n",
            "\n",
            "                                        selected_text sentiment  \n",
            "0                 I`d have responded, if I were going   neutral  \n",
            "1                                            Sooo SAD  negative  \n",
            "2                                         bullying me  negative  \n",
            "3                                      leave me alone  negative  \n",
            "4                                       Sons of ****,  negative  \n",
            "5   http://www.dothebouncy.com/smf - some shameles...   neutral  \n",
            "6                                                 fun  positive  \n",
            "7                                          Soooo high   neutral  \n",
            "8                                         Both of you   neutral  \n",
            "9                        Wow... u just became cooler.  positive  \n",
            "10  as much as i love to be hopeful, i reckon the ...   neutral  \n",
            "11                                               like  positive  \n",
            "12                                        DANGERously  negative  \n",
            "13                                               lost  negative  \n",
            "14                         test test from the LG enV2   neutral  \n",
            "15                              Uh oh, I am sunburned  negative  \n",
            "16                                             *sigh*  negative  \n",
            "17                                               sick  negative  \n",
            "18                                               onna  negative  \n",
            "19                         Hes just not that into you   neutral  \n",
            "27461       thank dear neighboor also gave coffe need best\n",
            "27462                          back bingo famili fun night\n",
            "27463      like drew said give chanc miss thoma move watch\n",
            "27464    rec game tri cri pain much need cannot lose he...\n",
            "27465                        sure tri keep enjoy studi see\n",
            "27466    naw pretti tame guy costum voyag style medic u...\n",
            "27467                   morn twit friend welcom new follow\n",
            "27468    grill mushroom oliv feta chees coffe breakfast...\n",
            "27469                                   day till come back\n",
            "27470        lol know haha fall asleep get bore shaun joke\n",
            "27471        defi graviti nobodi alll wizard ever go bring\n",
            "27472                                 want visit anim late\n",
            "27473           spoke yesterday respond girl wassup though\n",
            "27474    get earli feel good day walk work feel alright...\n",
            "27475                                          enjoy night\n",
            "27476    wish could come see denver husband lost job ca...\n",
            "27477    wonder rake client made clear net forc dev lea...\n",
            "27478    yay good enjoy break probabl need hectic weeke...\n",
            "27479                                                worth\n",
            "27480                           flirt go atg smile yay hug\n",
            "Name: text, dtype: object\n"
          ]
        }
      ]
    },
    {
      "cell_type": "code",
      "source": [
        "#spell = SpellChecker()\n",
        "#lst = [[\"helloooo frend\", 1],[\"world toor\", 0]]\n",
        "#x = pd.DataFrame(lst, columns =['text', 'sent'])\n",
        "#print(x)\n",
        "\n",
        "#def correct_spellings(text):\n",
        "#    corrected_text = []\n",
        "#    misspelled_words = {}\n",
        "#    words = text.split()\n",
        "#    for w in spell.unknown(words):\n",
        "#        corr = spell.correction(w)\n",
        "#        if corr:\n",
        "#            misspelled_words[w] = corr\n",
        "#    corrected_text = [misspelled_words.get(w, w) for w in words]\n",
        "#    return \" \".join(corrected_text)\n",
        "\n",
        "#x['text'] = x['text'].apply(lambda t : correct_spellings(t))\n",
        "#print(x)"
      ],
      "metadata": {
        "id": "nTyqu536lUdv"
      },
      "execution_count": null,
      "outputs": []
    },
    {
      "cell_type": "code",
      "source": [
        "tempList = train['text'].apply(lambda x:str(x).split())\n",
        "\n",
        "top = Counter([item for sublist in tempList for item in sublist])\n",
        "temp = pd.DataFrame(top.most_common(25))\n",
        "temp = temp.iloc[1:,:]\n",
        "temp.columns = ['Common words','Count']\n",
        "temp.style.background_gradient(cmap='Blues')"
      ],
      "metadata": {
        "id": "dwQp1No5IzKw",
        "outputId": "aaa82d67-fb51-4d0d-be85-584b61925773",
        "colab": {
          "base_uri": "https://localhost:8080/",
          "height": 802
        }
      },
      "execution_count": 21,
      "outputs": [
        {
          "output_type": "execute_result",
          "data": {
            "text/plain": [
              "<pandas.io.formats.style.Styler at 0x7fb90f4a3250>"
            ],
            "text/html": [
              "<style type=\"text/css\">\n",
              "#T_5a15b_row0_col1 {\n",
              "  background-color: #08306b;\n",
              "  color: #f1f1f1;\n",
              "}\n",
              "#T_5a15b_row1_col1 {\n",
              "  background-color: #2a7ab9;\n",
              "  color: #f1f1f1;\n",
              "}\n",
              "#T_5a15b_row2_col1 {\n",
              "  background-color: #3181bd;\n",
              "  color: #f1f1f1;\n",
              "}\n",
              "#T_5a15b_row3_col1, #T_5a15b_row4_col1 {\n",
              "  background-color: #3a8ac2;\n",
              "  color: #f1f1f1;\n",
              "}\n",
              "#T_5a15b_row5_col1 {\n",
              "  background-color: #4d99ca;\n",
              "  color: #f1f1f1;\n",
              "}\n",
              "#T_5a15b_row6_col1 {\n",
              "  background-color: #91c3de;\n",
              "  color: #000000;\n",
              "}\n",
              "#T_5a15b_row7_col1 {\n",
              "  background-color: #97c6df;\n",
              "  color: #000000;\n",
              "}\n",
              "#T_5a15b_row8_col1 {\n",
              "  background-color: #b2d2e8;\n",
              "  color: #000000;\n",
              "}\n",
              "#T_5a15b_row9_col1 {\n",
              "  background-color: #c1d9ed;\n",
              "  color: #000000;\n",
              "}\n",
              "#T_5a15b_row10_col1 {\n",
              "  background-color: #c7dcef;\n",
              "  color: #000000;\n",
              "}\n",
              "#T_5a15b_row11_col1 {\n",
              "  background-color: #c8dcf0;\n",
              "  color: #000000;\n",
              "}\n",
              "#T_5a15b_row12_col1 {\n",
              "  background-color: #ccdff1;\n",
              "  color: #000000;\n",
              "}\n",
              "#T_5a15b_row13_col1 {\n",
              "  background-color: #cfe1f2;\n",
              "  color: #000000;\n",
              "}\n",
              "#T_5a15b_row14_col1 {\n",
              "  background-color: #d0e1f2;\n",
              "  color: #000000;\n",
              "}\n",
              "#T_5a15b_row15_col1 {\n",
              "  background-color: #d3e3f3;\n",
              "  color: #000000;\n",
              "}\n",
              "#T_5a15b_row16_col1 {\n",
              "  background-color: #dae8f6;\n",
              "  color: #000000;\n",
              "}\n",
              "#T_5a15b_row17_col1 {\n",
              "  background-color: #e2edf8;\n",
              "  color: #000000;\n",
              "}\n",
              "#T_5a15b_row18_col1 {\n",
              "  background-color: #e3eef8;\n",
              "  color: #000000;\n",
              "}\n",
              "#T_5a15b_row19_col1 {\n",
              "  background-color: #e5eff9;\n",
              "  color: #000000;\n",
              "}\n",
              "#T_5a15b_row20_col1 {\n",
              "  background-color: #eaf2fb;\n",
              "  color: #000000;\n",
              "}\n",
              "#T_5a15b_row21_col1 {\n",
              "  background-color: #ebf3fb;\n",
              "  color: #000000;\n",
              "}\n",
              "#T_5a15b_row22_col1, #T_5a15b_row23_col1 {\n",
              "  background-color: #f7fbff;\n",
              "  color: #000000;\n",
              "}\n",
              "</style>\n",
              "<table id=\"T_5a15b_\" class=\"dataframe\">\n",
              "  <thead>\n",
              "    <tr>\n",
              "      <th class=\"blank level0\" >&nbsp;</th>\n",
              "      <th class=\"col_heading level0 col0\" >Common words</th>\n",
              "      <th class=\"col_heading level0 col1\" >Count</th>\n",
              "    </tr>\n",
              "  </thead>\n",
              "  <tbody>\n",
              "    <tr>\n",
              "      <th id=\"T_5a15b_level0_row0\" class=\"row_heading level0 row0\" >1</th>\n",
              "      <td id=\"T_5a15b_row0_col0\" class=\"data row0 col0\" >get</td>\n",
              "      <td id=\"T_5a15b_row0_col1\" class=\"data row0 col1\" >1915</td>\n",
              "    </tr>\n",
              "    <tr>\n",
              "      <th id=\"T_5a15b_level0_row1\" class=\"row_heading level0 row1\" >2</th>\n",
              "      <td id=\"T_5a15b_row1_col0\" class=\"data row1 col0\" >good</td>\n",
              "      <td id=\"T_5a15b_row1_col1\" class=\"data row1 col1\" >1601</td>\n",
              "    </tr>\n",
              "    <tr>\n",
              "      <th id=\"T_5a15b_level0_row2\" class=\"row_heading level0 row2\" >3</th>\n",
              "      <td id=\"T_5a15b_row2_col0\" class=\"data row2 col0\" >go</td>\n",
              "      <td id=\"T_5a15b_row2_col1\" class=\"data row2 col1\" >1572</td>\n",
              "    </tr>\n",
              "    <tr>\n",
              "      <th id=\"T_5a15b_level0_row3\" class=\"row_heading level0 row3\" >4</th>\n",
              "      <td id=\"T_5a15b_row3_col0\" class=\"data row3 col0\" >love</td>\n",
              "      <td id=\"T_5a15b_row3_col1\" class=\"data row3 col1\" >1530</td>\n",
              "    </tr>\n",
              "    <tr>\n",
              "      <th id=\"T_5a15b_level0_row4\" class=\"row_heading level0 row4\" >5</th>\n",
              "      <td id=\"T_5a15b_row4_col0\" class=\"data row4 col0\" >work</td>\n",
              "      <td id=\"T_5a15b_row4_col1\" class=\"data row4 col1\" >1530</td>\n",
              "    </tr>\n",
              "    <tr>\n",
              "      <th id=\"T_5a15b_level0_row5\" class=\"row_heading level0 row5\" >6</th>\n",
              "      <td id=\"T_5a15b_row5_col0\" class=\"data row5 col0\" >like</td>\n",
              "      <td id=\"T_5a15b_row5_col1\" class=\"data row5 col1\" >1462</td>\n",
              "    </tr>\n",
              "    <tr>\n",
              "      <th id=\"T_5a15b_level0_row6\" class=\"row_heading level0 row6\" >7</th>\n",
              "      <td id=\"T_5a15b_row6_col0\" class=\"data row6 col0\" >got</td>\n",
              "      <td id=\"T_5a15b_row6_col1\" class=\"data row6 col1\" >1260</td>\n",
              "    </tr>\n",
              "    <tr>\n",
              "      <th id=\"T_5a15b_level0_row7\" class=\"row_heading level0 row7\" >8</th>\n",
              "      <td id=\"T_5a15b_row7_col0\" class=\"data row7 col0\" >want</td>\n",
              "      <td id=\"T_5a15b_row7_col1\" class=\"data row7 col1\" >1241</td>\n",
              "    </tr>\n",
              "    <tr>\n",
              "      <th id=\"T_5a15b_level0_row8\" class=\"row_heading level0 row8\" >9</th>\n",
              "      <td id=\"T_5a15b_row8_col0\" class=\"data row8 col0\" >today</td>\n",
              "      <td id=\"T_5a15b_row8_col1\" class=\"data row8 col1\" >1155</td>\n",
              "    </tr>\n",
              "    <tr>\n",
              "      <th id=\"T_5a15b_level0_row9\" class=\"row_heading level0 row9\" >10</th>\n",
              "      <td id=\"T_5a15b_row9_col0\" class=\"data row9 col0\" >time</td>\n",
              "      <td id=\"T_5a15b_row9_col1\" class=\"data row9 col1\" >1104</td>\n",
              "    </tr>\n",
              "    <tr>\n",
              "      <th id=\"T_5a15b_level0_row10\" class=\"row_heading level0 row10\" >11</th>\n",
              "      <td id=\"T_5a15b_row10_col0\" class=\"data row10 col0\" >one</td>\n",
              "      <td id=\"T_5a15b_row10_col1\" class=\"data row10 col1\" >1076</td>\n",
              "    </tr>\n",
              "    <tr>\n",
              "      <th id=\"T_5a15b_level0_row11\" class=\"row_heading level0 row11\" >12</th>\n",
              "      <td id=\"T_5a15b_row11_col0\" class=\"data row11 col0\" >cannot</td>\n",
              "      <td id=\"T_5a15b_row11_col1\" class=\"data row11 col1\" >1075</td>\n",
              "    </tr>\n",
              "    <tr>\n",
              "      <th id=\"T_5a15b_level0_row12\" class=\"row_heading level0 row12\" >13</th>\n",
              "      <td id=\"T_5a15b_row12_col0\" class=\"data row12 col0\" >know</td>\n",
              "      <td id=\"T_5a15b_row12_col1\" class=\"data row12 col1\" >1051</td>\n",
              "    </tr>\n",
              "    <tr>\n",
              "      <th id=\"T_5a15b_level0_row13\" class=\"row_heading level0 row13\" >14</th>\n",
              "      <td id=\"T_5a15b_row13_col0\" class=\"data row13 col0\" >thank</td>\n",
              "      <td id=\"T_5a15b_row13_col1\" class=\"data row13 col1\" >1034</td>\n",
              "    </tr>\n",
              "    <tr>\n",
              "      <th id=\"T_5a15b_level0_row14\" class=\"row_heading level0 row14\" >15</th>\n",
              "      <td id=\"T_5a15b_row14_col0\" class=\"data row14 col0\" >lol</td>\n",
              "      <td id=\"T_5a15b_row14_col1\" class=\"data row14 col1\" >1029</td>\n",
              "    </tr>\n",
              "    <tr>\n",
              "      <th id=\"T_5a15b_level0_row15\" class=\"row_heading level0 row15\" >16</th>\n",
              "      <td id=\"T_5a15b_row15_col0\" class=\"data row15 col0\" >happi</td>\n",
              "      <td id=\"T_5a15b_row15_col1\" class=\"data row15 col1\" >1014</td>\n",
              "    </tr>\n",
              "    <tr>\n",
              "      <th id=\"T_5a15b_level0_row16\" class=\"row_heading level0 row16\" >17</th>\n",
              "      <td id=\"T_5a15b_row16_col0\" class=\"data row16 col0\" >miss</td>\n",
              "      <td id=\"T_5a15b_row16_col1\" class=\"data row16 col1\" >970</td>\n",
              "    </tr>\n",
              "    <tr>\n",
              "      <th id=\"T_5a15b_level0_row17\" class=\"row_heading level0 row17\" >18</th>\n",
              "      <td id=\"T_5a15b_row17_col0\" class=\"data row17 col0\" >realli</td>\n",
              "      <td id=\"T_5a15b_row17_col1\" class=\"data row17 col1\" >925</td>\n",
              "    </tr>\n",
              "    <tr>\n",
              "      <th id=\"T_5a15b_level0_row18\" class=\"row_heading level0 row18\" >19</th>\n",
              "      <td id=\"T_5a15b_row18_col0\" class=\"data row18 col0\" >back</td>\n",
              "      <td id=\"T_5a15b_row18_col1\" class=\"data row18 col1\" >920</td>\n",
              "    </tr>\n",
              "    <tr>\n",
              "      <th id=\"T_5a15b_level0_row19\" class=\"row_heading level0 row19\" >20</th>\n",
              "      <td id=\"T_5a15b_row19_col0\" class=\"data row19 col0\" >see</td>\n",
              "      <td id=\"T_5a15b_row19_col1\" class=\"data row19 col1\" >909</td>\n",
              "    </tr>\n",
              "    <tr>\n",
              "      <th id=\"T_5a15b_level0_row20\" class=\"row_heading level0 row20\" >21</th>\n",
              "      <td id=\"T_5a15b_row20_col0\" class=\"data row20 col0\" >think</td>\n",
              "      <td id=\"T_5a15b_row20_col1\" class=\"data row20 col1\" >884</td>\n",
              "    </tr>\n",
              "    <tr>\n",
              "      <th id=\"T_5a15b_level0_row21\" class=\"row_heading level0 row21\" >22</th>\n",
              "      <td id=\"T_5a15b_row21_col0\" class=\"data row21 col0\" >feel</td>\n",
              "      <td id=\"T_5a15b_row21_col1\" class=\"data row21 col1\" >874</td>\n",
              "    </tr>\n",
              "    <tr>\n",
              "      <th id=\"T_5a15b_level0_row22\" class=\"row_heading level0 row22\" >23</th>\n",
              "      <td id=\"T_5a15b_row22_col0\" class=\"data row22 col0\" >night</td>\n",
              "      <td id=\"T_5a15b_row22_col1\" class=\"data row22 col1\" >811</td>\n",
              "    </tr>\n",
              "    <tr>\n",
              "      <th id=\"T_5a15b_level0_row23\" class=\"row_heading level0 row23\" >24</th>\n",
              "      <td id=\"T_5a15b_row23_col0\" class=\"data row23 col0\" >hope</td>\n",
              "      <td id=\"T_5a15b_row23_col1\" class=\"data row23 col1\" >807</td>\n",
              "    </tr>\n",
              "  </tbody>\n",
              "</table>\n"
            ]
          },
          "metadata": {},
          "execution_count": 21
        }
      ]
    },
    {
      "cell_type": "code",
      "source": [
        "fig = px.bar(temp, x=\"Count\", y=\"Common words\", title='Commmon words in text', orientation='h', width=700, height=700, color='Common words')\n",
        "fig.show() "
      ],
      "metadata": {
        "id": "cPw1gWDwUTMp",
        "outputId": "d1125c6a-0e93-4c35-b3bf-a25206ab931d",
        "colab": {
          "base_uri": "https://localhost:8080/",
          "height": 717
        }
      },
      "execution_count": 26,
      "outputs": [
        {
          "output_type": "display_data",
          "data": {
            "text/html": [
              "<html>\n",
              "<head><meta charset=\"utf-8\" /></head>\n",
              "<body>\n",
              "    <div>            <script src=\"https://cdnjs.cloudflare.com/ajax/libs/mathjax/2.7.5/MathJax.js?config=TeX-AMS-MML_SVG\"></script><script type=\"text/javascript\">if (window.MathJax) {MathJax.Hub.Config({SVG: {font: \"STIX-Web\"}});}</script>                <script type=\"text/javascript\">window.PlotlyConfig = {MathJaxConfig: 'local'};</script>\n",
              "        <script src=\"https://cdn.plot.ly/plotly-2.8.3.min.js\"></script>                <div id=\"aa1bb0ab-f60a-4562-8c40-15e77920d454\" class=\"plotly-graph-div\" style=\"height:700px; width:700px;\"></div>            <script type=\"text/javascript\">                                    window.PLOTLYENV=window.PLOTLYENV || {};                                    if (document.getElementById(\"aa1bb0ab-f60a-4562-8c40-15e77920d454\")) {                    Plotly.newPlot(                        \"aa1bb0ab-f60a-4562-8c40-15e77920d454\",                        [{\"alignmentgroup\":\"True\",\"hovertemplate\":\"Common words=%{y}<br>Count=%{x}<extra></extra>\",\"legendgroup\":\"get\",\"marker\":{\"color\":\"#636efa\",\"pattern\":{\"shape\":\"\"}},\"name\":\"get\",\"offsetgroup\":\"get\",\"orientation\":\"h\",\"showlegend\":true,\"textposition\":\"auto\",\"x\":[1915],\"xaxis\":\"x\",\"y\":[\"get\"],\"yaxis\":\"y\",\"type\":\"bar\"},{\"alignmentgroup\":\"True\",\"hovertemplate\":\"Common words=%{y}<br>Count=%{x}<extra></extra>\",\"legendgroup\":\"good\",\"marker\":{\"color\":\"#EF553B\",\"pattern\":{\"shape\":\"\"}},\"name\":\"good\",\"offsetgroup\":\"good\",\"orientation\":\"h\",\"showlegend\":true,\"textposition\":\"auto\",\"x\":[1601],\"xaxis\":\"x\",\"y\":[\"good\"],\"yaxis\":\"y\",\"type\":\"bar\"},{\"alignmentgroup\":\"True\",\"hovertemplate\":\"Common words=%{y}<br>Count=%{x}<extra></extra>\",\"legendgroup\":\"go\",\"marker\":{\"color\":\"#00cc96\",\"pattern\":{\"shape\":\"\"}},\"name\":\"go\",\"offsetgroup\":\"go\",\"orientation\":\"h\",\"showlegend\":true,\"textposition\":\"auto\",\"x\":[1572],\"xaxis\":\"x\",\"y\":[\"go\"],\"yaxis\":\"y\",\"type\":\"bar\"},{\"alignmentgroup\":\"True\",\"hovertemplate\":\"Common words=%{y}<br>Count=%{x}<extra></extra>\",\"legendgroup\":\"love\",\"marker\":{\"color\":\"#ab63fa\",\"pattern\":{\"shape\":\"\"}},\"name\":\"love\",\"offsetgroup\":\"love\",\"orientation\":\"h\",\"showlegend\":true,\"textposition\":\"auto\",\"x\":[1530],\"xaxis\":\"x\",\"y\":[\"love\"],\"yaxis\":\"y\",\"type\":\"bar\"},{\"alignmentgroup\":\"True\",\"hovertemplate\":\"Common words=%{y}<br>Count=%{x}<extra></extra>\",\"legendgroup\":\"work\",\"marker\":{\"color\":\"#FFA15A\",\"pattern\":{\"shape\":\"\"}},\"name\":\"work\",\"offsetgroup\":\"work\",\"orientation\":\"h\",\"showlegend\":true,\"textposition\":\"auto\",\"x\":[1530],\"xaxis\":\"x\",\"y\":[\"work\"],\"yaxis\":\"y\",\"type\":\"bar\"},{\"alignmentgroup\":\"True\",\"hovertemplate\":\"Common words=%{y}<br>Count=%{x}<extra></extra>\",\"legendgroup\":\"like\",\"marker\":{\"color\":\"#19d3f3\",\"pattern\":{\"shape\":\"\"}},\"name\":\"like\",\"offsetgroup\":\"like\",\"orientation\":\"h\",\"showlegend\":true,\"textposition\":\"auto\",\"x\":[1462],\"xaxis\":\"x\",\"y\":[\"like\"],\"yaxis\":\"y\",\"type\":\"bar\"},{\"alignmentgroup\":\"True\",\"hovertemplate\":\"Common words=%{y}<br>Count=%{x}<extra></extra>\",\"legendgroup\":\"got\",\"marker\":{\"color\":\"#FF6692\",\"pattern\":{\"shape\":\"\"}},\"name\":\"got\",\"offsetgroup\":\"got\",\"orientation\":\"h\",\"showlegend\":true,\"textposition\":\"auto\",\"x\":[1260],\"xaxis\":\"x\",\"y\":[\"got\"],\"yaxis\":\"y\",\"type\":\"bar\"},{\"alignmentgroup\":\"True\",\"hovertemplate\":\"Common words=%{y}<br>Count=%{x}<extra></extra>\",\"legendgroup\":\"want\",\"marker\":{\"color\":\"#B6E880\",\"pattern\":{\"shape\":\"\"}},\"name\":\"want\",\"offsetgroup\":\"want\",\"orientation\":\"h\",\"showlegend\":true,\"textposition\":\"auto\",\"x\":[1241],\"xaxis\":\"x\",\"y\":[\"want\"],\"yaxis\":\"y\",\"type\":\"bar\"},{\"alignmentgroup\":\"True\",\"hovertemplate\":\"Common words=%{y}<br>Count=%{x}<extra></extra>\",\"legendgroup\":\"today\",\"marker\":{\"color\":\"#FF97FF\",\"pattern\":{\"shape\":\"\"}},\"name\":\"today\",\"offsetgroup\":\"today\",\"orientation\":\"h\",\"showlegend\":true,\"textposition\":\"auto\",\"x\":[1155],\"xaxis\":\"x\",\"y\":[\"today\"],\"yaxis\":\"y\",\"type\":\"bar\"},{\"alignmentgroup\":\"True\",\"hovertemplate\":\"Common words=%{y}<br>Count=%{x}<extra></extra>\",\"legendgroup\":\"time\",\"marker\":{\"color\":\"#FECB52\",\"pattern\":{\"shape\":\"\"}},\"name\":\"time\",\"offsetgroup\":\"time\",\"orientation\":\"h\",\"showlegend\":true,\"textposition\":\"auto\",\"x\":[1104],\"xaxis\":\"x\",\"y\":[\"time\"],\"yaxis\":\"y\",\"type\":\"bar\"},{\"alignmentgroup\":\"True\",\"hovertemplate\":\"Common words=%{y}<br>Count=%{x}<extra></extra>\",\"legendgroup\":\"one\",\"marker\":{\"color\":\"#636efa\",\"pattern\":{\"shape\":\"\"}},\"name\":\"one\",\"offsetgroup\":\"one\",\"orientation\":\"h\",\"showlegend\":true,\"textposition\":\"auto\",\"x\":[1076],\"xaxis\":\"x\",\"y\":[\"one\"],\"yaxis\":\"y\",\"type\":\"bar\"},{\"alignmentgroup\":\"True\",\"hovertemplate\":\"Common words=%{y}<br>Count=%{x}<extra></extra>\",\"legendgroup\":\"cannot\",\"marker\":{\"color\":\"#EF553B\",\"pattern\":{\"shape\":\"\"}},\"name\":\"cannot\",\"offsetgroup\":\"cannot\",\"orientation\":\"h\",\"showlegend\":true,\"textposition\":\"auto\",\"x\":[1075],\"xaxis\":\"x\",\"y\":[\"cannot\"],\"yaxis\":\"y\",\"type\":\"bar\"},{\"alignmentgroup\":\"True\",\"hovertemplate\":\"Common words=%{y}<br>Count=%{x}<extra></extra>\",\"legendgroup\":\"know\",\"marker\":{\"color\":\"#00cc96\",\"pattern\":{\"shape\":\"\"}},\"name\":\"know\",\"offsetgroup\":\"know\",\"orientation\":\"h\",\"showlegend\":true,\"textposition\":\"auto\",\"x\":[1051],\"xaxis\":\"x\",\"y\":[\"know\"],\"yaxis\":\"y\",\"type\":\"bar\"},{\"alignmentgroup\":\"True\",\"hovertemplate\":\"Common words=%{y}<br>Count=%{x}<extra></extra>\",\"legendgroup\":\"thank\",\"marker\":{\"color\":\"#ab63fa\",\"pattern\":{\"shape\":\"\"}},\"name\":\"thank\",\"offsetgroup\":\"thank\",\"orientation\":\"h\",\"showlegend\":true,\"textposition\":\"auto\",\"x\":[1034],\"xaxis\":\"x\",\"y\":[\"thank\"],\"yaxis\":\"y\",\"type\":\"bar\"},{\"alignmentgroup\":\"True\",\"hovertemplate\":\"Common words=%{y}<br>Count=%{x}<extra></extra>\",\"legendgroup\":\"lol\",\"marker\":{\"color\":\"#FFA15A\",\"pattern\":{\"shape\":\"\"}},\"name\":\"lol\",\"offsetgroup\":\"lol\",\"orientation\":\"h\",\"showlegend\":true,\"textposition\":\"auto\",\"x\":[1029],\"xaxis\":\"x\",\"y\":[\"lol\"],\"yaxis\":\"y\",\"type\":\"bar\"},{\"alignmentgroup\":\"True\",\"hovertemplate\":\"Common words=%{y}<br>Count=%{x}<extra></extra>\",\"legendgroup\":\"happi\",\"marker\":{\"color\":\"#19d3f3\",\"pattern\":{\"shape\":\"\"}},\"name\":\"happi\",\"offsetgroup\":\"happi\",\"orientation\":\"h\",\"showlegend\":true,\"textposition\":\"auto\",\"x\":[1014],\"xaxis\":\"x\",\"y\":[\"happi\"],\"yaxis\":\"y\",\"type\":\"bar\"},{\"alignmentgroup\":\"True\",\"hovertemplate\":\"Common words=%{y}<br>Count=%{x}<extra></extra>\",\"legendgroup\":\"miss\",\"marker\":{\"color\":\"#FF6692\",\"pattern\":{\"shape\":\"\"}},\"name\":\"miss\",\"offsetgroup\":\"miss\",\"orientation\":\"h\",\"showlegend\":true,\"textposition\":\"auto\",\"x\":[970],\"xaxis\":\"x\",\"y\":[\"miss\"],\"yaxis\":\"y\",\"type\":\"bar\"},{\"alignmentgroup\":\"True\",\"hovertemplate\":\"Common words=%{y}<br>Count=%{x}<extra></extra>\",\"legendgroup\":\"realli\",\"marker\":{\"color\":\"#B6E880\",\"pattern\":{\"shape\":\"\"}},\"name\":\"realli\",\"offsetgroup\":\"realli\",\"orientation\":\"h\",\"showlegend\":true,\"textposition\":\"auto\",\"x\":[925],\"xaxis\":\"x\",\"y\":[\"realli\"],\"yaxis\":\"y\",\"type\":\"bar\"},{\"alignmentgroup\":\"True\",\"hovertemplate\":\"Common words=%{y}<br>Count=%{x}<extra></extra>\",\"legendgroup\":\"back\",\"marker\":{\"color\":\"#FF97FF\",\"pattern\":{\"shape\":\"\"}},\"name\":\"back\",\"offsetgroup\":\"back\",\"orientation\":\"h\",\"showlegend\":true,\"textposition\":\"auto\",\"x\":[920],\"xaxis\":\"x\",\"y\":[\"back\"],\"yaxis\":\"y\",\"type\":\"bar\"},{\"alignmentgroup\":\"True\",\"hovertemplate\":\"Common words=%{y}<br>Count=%{x}<extra></extra>\",\"legendgroup\":\"see\",\"marker\":{\"color\":\"#FECB52\",\"pattern\":{\"shape\":\"\"}},\"name\":\"see\",\"offsetgroup\":\"see\",\"orientation\":\"h\",\"showlegend\":true,\"textposition\":\"auto\",\"x\":[909],\"xaxis\":\"x\",\"y\":[\"see\"],\"yaxis\":\"y\",\"type\":\"bar\"},{\"alignmentgroup\":\"True\",\"hovertemplate\":\"Common words=%{y}<br>Count=%{x}<extra></extra>\",\"legendgroup\":\"think\",\"marker\":{\"color\":\"#636efa\",\"pattern\":{\"shape\":\"\"}},\"name\":\"think\",\"offsetgroup\":\"think\",\"orientation\":\"h\",\"showlegend\":true,\"textposition\":\"auto\",\"x\":[884],\"xaxis\":\"x\",\"y\":[\"think\"],\"yaxis\":\"y\",\"type\":\"bar\"},{\"alignmentgroup\":\"True\",\"hovertemplate\":\"Common words=%{y}<br>Count=%{x}<extra></extra>\",\"legendgroup\":\"feel\",\"marker\":{\"color\":\"#EF553B\",\"pattern\":{\"shape\":\"\"}},\"name\":\"feel\",\"offsetgroup\":\"feel\",\"orientation\":\"h\",\"showlegend\":true,\"textposition\":\"auto\",\"x\":[874],\"xaxis\":\"x\",\"y\":[\"feel\"],\"yaxis\":\"y\",\"type\":\"bar\"},{\"alignmentgroup\":\"True\",\"hovertemplate\":\"Common words=%{y}<br>Count=%{x}<extra></extra>\",\"legendgroup\":\"night\",\"marker\":{\"color\":\"#00cc96\",\"pattern\":{\"shape\":\"\"}},\"name\":\"night\",\"offsetgroup\":\"night\",\"orientation\":\"h\",\"showlegend\":true,\"textposition\":\"auto\",\"x\":[811],\"xaxis\":\"x\",\"y\":[\"night\"],\"yaxis\":\"y\",\"type\":\"bar\"},{\"alignmentgroup\":\"True\",\"hovertemplate\":\"Common words=%{y}<br>Count=%{x}<extra></extra>\",\"legendgroup\":\"hope\",\"marker\":{\"color\":\"#ab63fa\",\"pattern\":{\"shape\":\"\"}},\"name\":\"hope\",\"offsetgroup\":\"hope\",\"orientation\":\"h\",\"showlegend\":true,\"textposition\":\"auto\",\"x\":[807],\"xaxis\":\"x\",\"y\":[\"hope\"],\"yaxis\":\"y\",\"type\":\"bar\"}],                        {\"template\":{\"data\":{\"bar\":[{\"error_x\":{\"color\":\"#2a3f5f\"},\"error_y\":{\"color\":\"#2a3f5f\"},\"marker\":{\"line\":{\"color\":\"#E5ECF6\",\"width\":0.5},\"pattern\":{\"fillmode\":\"overlay\",\"size\":10,\"solidity\":0.2}},\"type\":\"bar\"}],\"barpolar\":[{\"marker\":{\"line\":{\"color\":\"#E5ECF6\",\"width\":0.5},\"pattern\":{\"fillmode\":\"overlay\",\"size\":10,\"solidity\":0.2}},\"type\":\"barpolar\"}],\"carpet\":[{\"aaxis\":{\"endlinecolor\":\"#2a3f5f\",\"gridcolor\":\"white\",\"linecolor\":\"white\",\"minorgridcolor\":\"white\",\"startlinecolor\":\"#2a3f5f\"},\"baxis\":{\"endlinecolor\":\"#2a3f5f\",\"gridcolor\":\"white\",\"linecolor\":\"white\",\"minorgridcolor\":\"white\",\"startlinecolor\":\"#2a3f5f\"},\"type\":\"carpet\"}],\"choropleth\":[{\"colorbar\":{\"outlinewidth\":0,\"ticks\":\"\"},\"type\":\"choropleth\"}],\"contour\":[{\"colorbar\":{\"outlinewidth\":0,\"ticks\":\"\"},\"colorscale\":[[0.0,\"#0d0887\"],[0.1111111111111111,\"#46039f\"],[0.2222222222222222,\"#7201a8\"],[0.3333333333333333,\"#9c179e\"],[0.4444444444444444,\"#bd3786\"],[0.5555555555555556,\"#d8576b\"],[0.6666666666666666,\"#ed7953\"],[0.7777777777777778,\"#fb9f3a\"],[0.8888888888888888,\"#fdca26\"],[1.0,\"#f0f921\"]],\"type\":\"contour\"}],\"contourcarpet\":[{\"colorbar\":{\"outlinewidth\":0,\"ticks\":\"\"},\"type\":\"contourcarpet\"}],\"heatmap\":[{\"colorbar\":{\"outlinewidth\":0,\"ticks\":\"\"},\"colorscale\":[[0.0,\"#0d0887\"],[0.1111111111111111,\"#46039f\"],[0.2222222222222222,\"#7201a8\"],[0.3333333333333333,\"#9c179e\"],[0.4444444444444444,\"#bd3786\"],[0.5555555555555556,\"#d8576b\"],[0.6666666666666666,\"#ed7953\"],[0.7777777777777778,\"#fb9f3a\"],[0.8888888888888888,\"#fdca26\"],[1.0,\"#f0f921\"]],\"type\":\"heatmap\"}],\"heatmapgl\":[{\"colorbar\":{\"outlinewidth\":0,\"ticks\":\"\"},\"colorscale\":[[0.0,\"#0d0887\"],[0.1111111111111111,\"#46039f\"],[0.2222222222222222,\"#7201a8\"],[0.3333333333333333,\"#9c179e\"],[0.4444444444444444,\"#bd3786\"],[0.5555555555555556,\"#d8576b\"],[0.6666666666666666,\"#ed7953\"],[0.7777777777777778,\"#fb9f3a\"],[0.8888888888888888,\"#fdca26\"],[1.0,\"#f0f921\"]],\"type\":\"heatmapgl\"}],\"histogram\":[{\"marker\":{\"pattern\":{\"fillmode\":\"overlay\",\"size\":10,\"solidity\":0.2}},\"type\":\"histogram\"}],\"histogram2d\":[{\"colorbar\":{\"outlinewidth\":0,\"ticks\":\"\"},\"colorscale\":[[0.0,\"#0d0887\"],[0.1111111111111111,\"#46039f\"],[0.2222222222222222,\"#7201a8\"],[0.3333333333333333,\"#9c179e\"],[0.4444444444444444,\"#bd3786\"],[0.5555555555555556,\"#d8576b\"],[0.6666666666666666,\"#ed7953\"],[0.7777777777777778,\"#fb9f3a\"],[0.8888888888888888,\"#fdca26\"],[1.0,\"#f0f921\"]],\"type\":\"histogram2d\"}],\"histogram2dcontour\":[{\"colorbar\":{\"outlinewidth\":0,\"ticks\":\"\"},\"colorscale\":[[0.0,\"#0d0887\"],[0.1111111111111111,\"#46039f\"],[0.2222222222222222,\"#7201a8\"],[0.3333333333333333,\"#9c179e\"],[0.4444444444444444,\"#bd3786\"],[0.5555555555555556,\"#d8576b\"],[0.6666666666666666,\"#ed7953\"],[0.7777777777777778,\"#fb9f3a\"],[0.8888888888888888,\"#fdca26\"],[1.0,\"#f0f921\"]],\"type\":\"histogram2dcontour\"}],\"mesh3d\":[{\"colorbar\":{\"outlinewidth\":0,\"ticks\":\"\"},\"type\":\"mesh3d\"}],\"parcoords\":[{\"line\":{\"colorbar\":{\"outlinewidth\":0,\"ticks\":\"\"}},\"type\":\"parcoords\"}],\"pie\":[{\"automargin\":true,\"type\":\"pie\"}],\"scatter\":[{\"marker\":{\"colorbar\":{\"outlinewidth\":0,\"ticks\":\"\"}},\"type\":\"scatter\"}],\"scatter3d\":[{\"line\":{\"colorbar\":{\"outlinewidth\":0,\"ticks\":\"\"}},\"marker\":{\"colorbar\":{\"outlinewidth\":0,\"ticks\":\"\"}},\"type\":\"scatter3d\"}],\"scattercarpet\":[{\"marker\":{\"colorbar\":{\"outlinewidth\":0,\"ticks\":\"\"}},\"type\":\"scattercarpet\"}],\"scattergeo\":[{\"marker\":{\"colorbar\":{\"outlinewidth\":0,\"ticks\":\"\"}},\"type\":\"scattergeo\"}],\"scattergl\":[{\"marker\":{\"colorbar\":{\"outlinewidth\":0,\"ticks\":\"\"}},\"type\":\"scattergl\"}],\"scattermapbox\":[{\"marker\":{\"colorbar\":{\"outlinewidth\":0,\"ticks\":\"\"}},\"type\":\"scattermapbox\"}],\"scatterpolar\":[{\"marker\":{\"colorbar\":{\"outlinewidth\":0,\"ticks\":\"\"}},\"type\":\"scatterpolar\"}],\"scatterpolargl\":[{\"marker\":{\"colorbar\":{\"outlinewidth\":0,\"ticks\":\"\"}},\"type\":\"scatterpolargl\"}],\"scatterternary\":[{\"marker\":{\"colorbar\":{\"outlinewidth\":0,\"ticks\":\"\"}},\"type\":\"scatterternary\"}],\"surface\":[{\"colorbar\":{\"outlinewidth\":0,\"ticks\":\"\"},\"colorscale\":[[0.0,\"#0d0887\"],[0.1111111111111111,\"#46039f\"],[0.2222222222222222,\"#7201a8\"],[0.3333333333333333,\"#9c179e\"],[0.4444444444444444,\"#bd3786\"],[0.5555555555555556,\"#d8576b\"],[0.6666666666666666,\"#ed7953\"],[0.7777777777777778,\"#fb9f3a\"],[0.8888888888888888,\"#fdca26\"],[1.0,\"#f0f921\"]],\"type\":\"surface\"}],\"table\":[{\"cells\":{\"fill\":{\"color\":\"#EBF0F8\"},\"line\":{\"color\":\"white\"}},\"header\":{\"fill\":{\"color\":\"#C8D4E3\"},\"line\":{\"color\":\"white\"}},\"type\":\"table\"}]},\"layout\":{\"annotationdefaults\":{\"arrowcolor\":\"#2a3f5f\",\"arrowhead\":0,\"arrowwidth\":1},\"autotypenumbers\":\"strict\",\"coloraxis\":{\"colorbar\":{\"outlinewidth\":0,\"ticks\":\"\"}},\"colorscale\":{\"diverging\":[[0,\"#8e0152\"],[0.1,\"#c51b7d\"],[0.2,\"#de77ae\"],[0.3,\"#f1b6da\"],[0.4,\"#fde0ef\"],[0.5,\"#f7f7f7\"],[0.6,\"#e6f5d0\"],[0.7,\"#b8e186\"],[0.8,\"#7fbc41\"],[0.9,\"#4d9221\"],[1,\"#276419\"]],\"sequential\":[[0.0,\"#0d0887\"],[0.1111111111111111,\"#46039f\"],[0.2222222222222222,\"#7201a8\"],[0.3333333333333333,\"#9c179e\"],[0.4444444444444444,\"#bd3786\"],[0.5555555555555556,\"#d8576b\"],[0.6666666666666666,\"#ed7953\"],[0.7777777777777778,\"#fb9f3a\"],[0.8888888888888888,\"#fdca26\"],[1.0,\"#f0f921\"]],\"sequentialminus\":[[0.0,\"#0d0887\"],[0.1111111111111111,\"#46039f\"],[0.2222222222222222,\"#7201a8\"],[0.3333333333333333,\"#9c179e\"],[0.4444444444444444,\"#bd3786\"],[0.5555555555555556,\"#d8576b\"],[0.6666666666666666,\"#ed7953\"],[0.7777777777777778,\"#fb9f3a\"],[0.8888888888888888,\"#fdca26\"],[1.0,\"#f0f921\"]]},\"colorway\":[\"#636efa\",\"#EF553B\",\"#00cc96\",\"#ab63fa\",\"#FFA15A\",\"#19d3f3\",\"#FF6692\",\"#B6E880\",\"#FF97FF\",\"#FECB52\"],\"font\":{\"color\":\"#2a3f5f\"},\"geo\":{\"bgcolor\":\"white\",\"lakecolor\":\"white\",\"landcolor\":\"#E5ECF6\",\"showlakes\":true,\"showland\":true,\"subunitcolor\":\"white\"},\"hoverlabel\":{\"align\":\"left\"},\"hovermode\":\"closest\",\"mapbox\":{\"style\":\"light\"},\"paper_bgcolor\":\"white\",\"plot_bgcolor\":\"#E5ECF6\",\"polar\":{\"angularaxis\":{\"gridcolor\":\"white\",\"linecolor\":\"white\",\"ticks\":\"\"},\"bgcolor\":\"#E5ECF6\",\"radialaxis\":{\"gridcolor\":\"white\",\"linecolor\":\"white\",\"ticks\":\"\"}},\"scene\":{\"xaxis\":{\"backgroundcolor\":\"#E5ECF6\",\"gridcolor\":\"white\",\"gridwidth\":2,\"linecolor\":\"white\",\"showbackground\":true,\"ticks\":\"\",\"zerolinecolor\":\"white\"},\"yaxis\":{\"backgroundcolor\":\"#E5ECF6\",\"gridcolor\":\"white\",\"gridwidth\":2,\"linecolor\":\"white\",\"showbackground\":true,\"ticks\":\"\",\"zerolinecolor\":\"white\"},\"zaxis\":{\"backgroundcolor\":\"#E5ECF6\",\"gridcolor\":\"white\",\"gridwidth\":2,\"linecolor\":\"white\",\"showbackground\":true,\"ticks\":\"\",\"zerolinecolor\":\"white\"}},\"shapedefaults\":{\"line\":{\"color\":\"#2a3f5f\"}},\"ternary\":{\"aaxis\":{\"gridcolor\":\"white\",\"linecolor\":\"white\",\"ticks\":\"\"},\"baxis\":{\"gridcolor\":\"white\",\"linecolor\":\"white\",\"ticks\":\"\"},\"bgcolor\":\"#E5ECF6\",\"caxis\":{\"gridcolor\":\"white\",\"linecolor\":\"white\",\"ticks\":\"\"}},\"title\":{\"x\":0.05},\"xaxis\":{\"automargin\":true,\"gridcolor\":\"white\",\"linecolor\":\"white\",\"ticks\":\"\",\"title\":{\"standoff\":15},\"zerolinecolor\":\"white\",\"zerolinewidth\":2},\"yaxis\":{\"automargin\":true,\"gridcolor\":\"white\",\"linecolor\":\"white\",\"ticks\":\"\",\"title\":{\"standoff\":15},\"zerolinecolor\":\"white\",\"zerolinewidth\":2}}},\"xaxis\":{\"anchor\":\"y\",\"domain\":[0.0,1.0],\"title\":{\"text\":\"Count\"}},\"yaxis\":{\"anchor\":\"x\",\"domain\":[0.0,1.0],\"title\":{\"text\":\"Common words\"},\"categoryorder\":\"array\",\"categoryarray\":[\"hope\",\"night\",\"feel\",\"think\",\"see\",\"back\",\"realli\",\"miss\",\"happi\",\"lol\",\"thank\",\"know\",\"cannot\",\"one\",\"time\",\"today\",\"want\",\"got\",\"like\",\"work\",\"love\",\"go\",\"good\",\"get\"]},\"legend\":{\"title\":{\"text\":\"Common words\"},\"tracegroupgap\":0},\"title\":{\"text\":\"Commmon words in text\"},\"barmode\":\"relative\",\"height\":700,\"width\":700},                        {\"responsive\": true}                    ).then(function(){\n",
              "                            \n",
              "var gd = document.getElementById('aa1bb0ab-f60a-4562-8c40-15e77920d454');\n",
              "var x = new MutationObserver(function (mutations, observer) {{\n",
              "        var display = window.getComputedStyle(gd).display;\n",
              "        if (!display || display === 'none') {{\n",
              "            console.log([gd, 'removed!']);\n",
              "            Plotly.purge(gd);\n",
              "            observer.disconnect();\n",
              "        }}\n",
              "}});\n",
              "\n",
              "// Listen for the removal of the full notebook cells\n",
              "var notebookContainer = gd.closest('#notebook-container');\n",
              "if (notebookContainer) {{\n",
              "    x.observe(notebookContainer, {childList: true});\n",
              "}}\n",
              "\n",
              "// Listen for the clearing of the current output cell\n",
              "var outputEl = gd.closest('.output');\n",
              "if (outputEl) {{\n",
              "    x.observe(outputEl, {childList: true});\n",
              "}}\n",
              "\n",
              "                        })                };                            </script>        </div>\n",
              "</body>\n",
              "</html>"
            ]
          },
          "metadata": {}
        }
      ]
    },
    {
      "cell_type": "code",
      "source": [
        "#Most common positive words\n",
        "\n",
        "pos = train[train['sentiment']=='positive']\n",
        "\n",
        "tempList = pos['text'].apply(lambda x:str(x).split())\n",
        "\n",
        "top = Counter([item for sublist in tempList for item in sublist])\n",
        "temp = pd.DataFrame(top.most_common(25))\n",
        "temp = temp.iloc[1:,:]\n",
        "temp.columns = ['Common words','Count']\n",
        "temp.style.background_gradient(cmap='Blues')"
      ],
      "metadata": {
        "id": "9l3M7_s8IzCA",
        "outputId": "0ab3622c-d081-4734-83df-87154e462c44",
        "colab": {
          "base_uri": "https://localhost:8080/",
          "height": 802
        }
      },
      "execution_count": 27,
      "outputs": [
        {
          "output_type": "execute_result",
          "data": {
            "text/plain": [
              "<pandas.io.formats.style.Styler at 0x7fb90f469a60>"
            ],
            "text/html": [
              "<style type=\"text/css\">\n",
              "#T_79936_row0_col1 {\n",
              "  background-color: #08306b;\n",
              "  color: #f1f1f1;\n",
              "}\n",
              "#T_79936_row1_col1 {\n",
              "  background-color: #09529d;\n",
              "  color: #f1f1f1;\n",
              "}\n",
              "#T_79936_row2_col1 {\n",
              "  background-color: #3e8ec4;\n",
              "  color: #f1f1f1;\n",
              "}\n",
              "#T_79936_row3_col1 {\n",
              "  background-color: #4090c5;\n",
              "  color: #f1f1f1;\n",
              "}\n",
              "#T_79936_row4_col1 {\n",
              "  background-color: #8abfdd;\n",
              "  color: #000000;\n",
              "}\n",
              "#T_79936_row5_col1 {\n",
              "  background-color: #c1d9ed;\n",
              "  color: #000000;\n",
              "}\n",
              "#T_79936_row6_col1 {\n",
              "  background-color: #cde0f1;\n",
              "  color: #000000;\n",
              "}\n",
              "#T_79936_row7_col1 {\n",
              "  background-color: #cee0f2;\n",
              "  color: #000000;\n",
              "}\n",
              "#T_79936_row8_col1 {\n",
              "  background-color: #d0e1f2;\n",
              "  color: #000000;\n",
              "}\n",
              "#T_79936_row9_col1 {\n",
              "  background-color: #e0ecf8;\n",
              "  color: #000000;\n",
              "}\n",
              "#T_79936_row10_col1, #T_79936_row11_col1 {\n",
              "  background-color: #eaf2fb;\n",
              "  color: #000000;\n",
              "}\n",
              "#T_79936_row12_col1, #T_79936_row13_col1, #T_79936_row14_col1, #T_79936_row15_col1 {\n",
              "  background-color: #ebf3fb;\n",
              "  color: #000000;\n",
              "}\n",
              "#T_79936_row16_col1, #T_79936_row17_col1 {\n",
              "  background-color: #edf4fc;\n",
              "  color: #000000;\n",
              "}\n",
              "#T_79936_row18_col1, #T_79936_row19_col1 {\n",
              "  background-color: #f2f7fd;\n",
              "  color: #000000;\n",
              "}\n",
              "#T_79936_row20_col1 {\n",
              "  background-color: #f3f8fe;\n",
              "  color: #000000;\n",
              "}\n",
              "#T_79936_row21_col1 {\n",
              "  background-color: #f4f9fe;\n",
              "  color: #000000;\n",
              "}\n",
              "#T_79936_row22_col1, #T_79936_row23_col1 {\n",
              "  background-color: #f7fbff;\n",
              "  color: #000000;\n",
              "}\n",
              "</style>\n",
              "<table id=\"T_79936_\" class=\"dataframe\">\n",
              "  <thead>\n",
              "    <tr>\n",
              "      <th class=\"blank level0\" >&nbsp;</th>\n",
              "      <th class=\"col_heading level0 col0\" >Common words</th>\n",
              "      <th class=\"col_heading level0 col1\" >Count</th>\n",
              "    </tr>\n",
              "  </thead>\n",
              "  <tbody>\n",
              "    <tr>\n",
              "      <th id=\"T_79936_level0_row0\" class=\"row_heading level0 row0\" >1</th>\n",
              "      <td id=\"T_79936_row0_col0\" class=\"data row0 col0\" >love</td>\n",
              "      <td id=\"T_79936_row0_col1\" class=\"data row0 col1\" >1196</td>\n",
              "    </tr>\n",
              "    <tr>\n",
              "      <th id=\"T_79936_level0_row1\" class=\"row_heading level0 row1\" >2</th>\n",
              "      <td id=\"T_79936_row1_col0\" class=\"data row1 col0\" >good</td>\n",
              "      <td id=\"T_79936_row1_col1\" class=\"data row1 col1\" >1079</td>\n",
              "    </tr>\n",
              "    <tr>\n",
              "      <th id=\"T_79936_level0_row2\" class=\"row_heading level0 row2\" >3</th>\n",
              "      <td id=\"T_79936_row2_col0\" class=\"data row2 col0\" >happi</td>\n",
              "      <td id=\"T_79936_row2_col1\" class=\"data row2 col1\" >870</td>\n",
              "    </tr>\n",
              "    <tr>\n",
              "      <th id=\"T_79936_level0_row3\" class=\"row_heading level0 row3\" >4</th>\n",
              "      <td id=\"T_79936_row3_col0\" class=\"data row3 col0\" >thank</td>\n",
              "      <td id=\"T_79936_row3_col1\" class=\"data row3 col1\" >864</td>\n",
              "    </tr>\n",
              "    <tr>\n",
              "      <th id=\"T_79936_level0_row4\" class=\"row_heading level0 row4\" >5</th>\n",
              "      <td id=\"T_79936_row4_col0\" class=\"data row4 col0\" >mother</td>\n",
              "      <td id=\"T_79936_row4_col1\" class=\"data row4 col1\" >677</td>\n",
              "    </tr>\n",
              "    <tr>\n",
              "      <th id=\"T_79936_level0_row5\" class=\"row_heading level0 row5\" >6</th>\n",
              "      <td id=\"T_79936_row5_col0\" class=\"data row5 col0\" >hope</td>\n",
              "      <td id=\"T_79936_row5_col1\" class=\"data row5 col1\" >536</td>\n",
              "    </tr>\n",
              "    <tr>\n",
              "      <th id=\"T_79936_level0_row6\" class=\"row_heading level0 row6\" >7</th>\n",
              "      <td id=\"T_79936_row6_col0\" class=\"data row6 col0\" >like</td>\n",
              "      <td id=\"T_79936_row6_col1\" class=\"data row6 col1\" >487</td>\n",
              "    </tr>\n",
              "    <tr>\n",
              "      <th id=\"T_79936_level0_row7\" class=\"row_heading level0 row7\" >8</th>\n",
              "      <td id=\"T_79936_row7_col0\" class=\"data row7 col0\" >great</td>\n",
              "      <td id=\"T_79936_row7_col1\" class=\"data row7 col1\" >486</td>\n",
              "    </tr>\n",
              "    <tr>\n",
              "      <th id=\"T_79936_level0_row8\" class=\"row_heading level0 row8\" >9</th>\n",
              "      <td id=\"T_79936_row8_col0\" class=\"data row8 col0\" >get</td>\n",
              "      <td id=\"T_79936_row8_col1\" class=\"data row8 col1\" >478</td>\n",
              "    </tr>\n",
              "    <tr>\n",
              "      <th id=\"T_79936_level0_row9\" class=\"row_heading level0 row9\" >10</th>\n",
              "      <td id=\"T_79936_row9_col0\" class=\"data row9 col0\" >go</td>\n",
              "      <td id=\"T_79936_row9_col1\" class=\"data row9 col1\" >400</td>\n",
              "    </tr>\n",
              "    <tr>\n",
              "      <th id=\"T_79936_level0_row10\" class=\"row_heading level0 row10\" >11</th>\n",
              "      <td id=\"T_79936_row10_col0\" class=\"data row10 col0\" >lol</td>\n",
              "      <td id=\"T_79936_row10_col1\" class=\"data row10 col1\" >360</td>\n",
              "    </tr>\n",
              "    <tr>\n",
              "      <th id=\"T_79936_level0_row11\" class=\"row_heading level0 row11\" >12</th>\n",
              "      <td id=\"T_79936_row11_col0\" class=\"data row11 col0\" >today</td>\n",
              "      <td id=\"T_79936_row11_col1\" class=\"data row11 col1\" >360</td>\n",
              "    </tr>\n",
              "    <tr>\n",
              "      <th id=\"T_79936_level0_row12\" class=\"row_heading level0 row12\" >13</th>\n",
              "      <td id=\"T_79936_row12_col0\" class=\"data row12 col0\" >fun</td>\n",
              "      <td id=\"T_79936_row12_col1\" class=\"data row12 col1\" >352</td>\n",
              "    </tr>\n",
              "    <tr>\n",
              "      <th id=\"T_79936_level0_row13\" class=\"row_heading level0 row13\" >14</th>\n",
              "      <td id=\"T_79936_row13_col0\" class=\"data row13 col0\" >work</td>\n",
              "      <td id=\"T_79936_row13_col1\" class=\"data row13 col1\" >352</td>\n",
              "    </tr>\n",
              "    <tr>\n",
              "      <th id=\"T_79936_level0_row14\" class=\"row_heading level0 row14\" >15</th>\n",
              "      <td id=\"T_79936_row14_col0\" class=\"data row14 col0\" >got</td>\n",
              "      <td id=\"T_79936_row14_col1\" class=\"data row14 col1\" >352</td>\n",
              "    </tr>\n",
              "    <tr>\n",
              "      <th id=\"T_79936_level0_row15\" class=\"row_heading level0 row15\" >16</th>\n",
              "      <td id=\"T_79936_row15_col0\" class=\"data row15 col0\" >time</td>\n",
              "      <td id=\"T_79936_row15_col1\" class=\"data row15 col1\" >351</td>\n",
              "    </tr>\n",
              "    <tr>\n",
              "      <th id=\"T_79936_level0_row16\" class=\"row_heading level0 row16\" >17</th>\n",
              "      <td id=\"T_79936_row16_col0\" class=\"data row16 col0\" >night</td>\n",
              "      <td id=\"T_79936_row16_col1\" class=\"data row16 col1\" >346</td>\n",
              "    </tr>\n",
              "    <tr>\n",
              "      <th id=\"T_79936_level0_row17\" class=\"row_heading level0 row17\" >18</th>\n",
              "      <td id=\"T_79936_row17_col0\" class=\"data row17 col0\" >nice</td>\n",
              "      <td id=\"T_79936_row17_col1\" class=\"data row17 col1\" >343</td>\n",
              "    </tr>\n",
              "    <tr>\n",
              "      <th id=\"T_79936_level0_row18\" class=\"row_heading level0 row18\" >19</th>\n",
              "      <td id=\"T_79936_row18_col0\" class=\"data row18 col0\" >wish</td>\n",
              "      <td id=\"T_79936_row18_col1\" class=\"data row18 col1\" >325</td>\n",
              "    </tr>\n",
              "    <tr>\n",
              "      <th id=\"T_79936_level0_row19\" class=\"row_heading level0 row19\" >20</th>\n",
              "      <td id=\"T_79936_row19_col0\" class=\"data row19 col0\" >one</td>\n",
              "      <td id=\"T_79936_row19_col1\" class=\"data row19 col1\" >324</td>\n",
              "    </tr>\n",
              "    <tr>\n",
              "      <th id=\"T_79936_level0_row20\" class=\"row_heading level0 row20\" >21</th>\n",
              "      <td id=\"T_79936_row20_col0\" class=\"data row20 col0\" >see</td>\n",
              "      <td id=\"T_79936_row20_col1\" class=\"data row20 col1\" >315</td>\n",
              "    </tr>\n",
              "    <tr>\n",
              "      <th id=\"T_79936_level0_row21\" class=\"row_heading level0 row21\" >22</th>\n",
              "      <td id=\"T_79936_row21_col0\" class=\"data row21 col0\" >realli</td>\n",
              "      <td id=\"T_79936_row21_col1\" class=\"data row21 col1\" >312</td>\n",
              "    </tr>\n",
              "    <tr>\n",
              "      <th id=\"T_79936_level0_row22\" class=\"row_heading level0 row22\" >23</th>\n",
              "      <td id=\"T_79936_row22_col0\" class=\"data row22 col0\" >morn</td>\n",
              "      <td id=\"T_79936_row22_col1\" class=\"data row22 col1\" >300</td>\n",
              "    </tr>\n",
              "    <tr>\n",
              "      <th id=\"T_79936_level0_row23\" class=\"row_heading level0 row23\" >24</th>\n",
              "      <td id=\"T_79936_row23_col0\" class=\"data row23 col0\" >look</td>\n",
              "      <td id=\"T_79936_row23_col1\" class=\"data row23 col1\" >297</td>\n",
              "    </tr>\n",
              "  </tbody>\n",
              "</table>\n"
            ]
          },
          "metadata": {},
          "execution_count": 27
        }
      ]
    },
    {
      "cell_type": "code",
      "source": [
        "fig = px.bar(temp, x=\"Count\", y=\"Common words\", title='Most commmon positive words', orientation='h', width=700, height=700,color='Common words')\n",
        "fig.show()"
      ],
      "metadata": {
        "id": "wHY9U7gLUYf1",
        "outputId": "ee4f124d-8bd0-44e8-d0ad-bec4d5041ed6",
        "colab": {
          "base_uri": "https://localhost:8080/",
          "height": 717
        }
      },
      "execution_count": 28,
      "outputs": [
        {
          "output_type": "display_data",
          "data": {
            "text/html": [
              "<html>\n",
              "<head><meta charset=\"utf-8\" /></head>\n",
              "<body>\n",
              "    <div>            <script src=\"https://cdnjs.cloudflare.com/ajax/libs/mathjax/2.7.5/MathJax.js?config=TeX-AMS-MML_SVG\"></script><script type=\"text/javascript\">if (window.MathJax) {MathJax.Hub.Config({SVG: {font: \"STIX-Web\"}});}</script>                <script type=\"text/javascript\">window.PlotlyConfig = {MathJaxConfig: 'local'};</script>\n",
              "        <script src=\"https://cdn.plot.ly/plotly-2.8.3.min.js\"></script>                <div id=\"37990016-1bf7-41e6-8e6f-85c10a8651f5\" class=\"plotly-graph-div\" style=\"height:700px; width:700px;\"></div>            <script type=\"text/javascript\">                                    window.PLOTLYENV=window.PLOTLYENV || {};                                    if (document.getElementById(\"37990016-1bf7-41e6-8e6f-85c10a8651f5\")) {                    Plotly.newPlot(                        \"37990016-1bf7-41e6-8e6f-85c10a8651f5\",                        [{\"alignmentgroup\":\"True\",\"hovertemplate\":\"Common words=%{y}<br>Count=%{x}<extra></extra>\",\"legendgroup\":\"love\",\"marker\":{\"color\":\"#636efa\",\"pattern\":{\"shape\":\"\"}},\"name\":\"love\",\"offsetgroup\":\"love\",\"orientation\":\"h\",\"showlegend\":true,\"textposition\":\"auto\",\"x\":[1196],\"xaxis\":\"x\",\"y\":[\"love\"],\"yaxis\":\"y\",\"type\":\"bar\"},{\"alignmentgroup\":\"True\",\"hovertemplate\":\"Common words=%{y}<br>Count=%{x}<extra></extra>\",\"legendgroup\":\"good\",\"marker\":{\"color\":\"#EF553B\",\"pattern\":{\"shape\":\"\"}},\"name\":\"good\",\"offsetgroup\":\"good\",\"orientation\":\"h\",\"showlegend\":true,\"textposition\":\"auto\",\"x\":[1079],\"xaxis\":\"x\",\"y\":[\"good\"],\"yaxis\":\"y\",\"type\":\"bar\"},{\"alignmentgroup\":\"True\",\"hovertemplate\":\"Common words=%{y}<br>Count=%{x}<extra></extra>\",\"legendgroup\":\"happi\",\"marker\":{\"color\":\"#00cc96\",\"pattern\":{\"shape\":\"\"}},\"name\":\"happi\",\"offsetgroup\":\"happi\",\"orientation\":\"h\",\"showlegend\":true,\"textposition\":\"auto\",\"x\":[870],\"xaxis\":\"x\",\"y\":[\"happi\"],\"yaxis\":\"y\",\"type\":\"bar\"},{\"alignmentgroup\":\"True\",\"hovertemplate\":\"Common words=%{y}<br>Count=%{x}<extra></extra>\",\"legendgroup\":\"thank\",\"marker\":{\"color\":\"#ab63fa\",\"pattern\":{\"shape\":\"\"}},\"name\":\"thank\",\"offsetgroup\":\"thank\",\"orientation\":\"h\",\"showlegend\":true,\"textposition\":\"auto\",\"x\":[864],\"xaxis\":\"x\",\"y\":[\"thank\"],\"yaxis\":\"y\",\"type\":\"bar\"},{\"alignmentgroup\":\"True\",\"hovertemplate\":\"Common words=%{y}<br>Count=%{x}<extra></extra>\",\"legendgroup\":\"mother\",\"marker\":{\"color\":\"#FFA15A\",\"pattern\":{\"shape\":\"\"}},\"name\":\"mother\",\"offsetgroup\":\"mother\",\"orientation\":\"h\",\"showlegend\":true,\"textposition\":\"auto\",\"x\":[677],\"xaxis\":\"x\",\"y\":[\"mother\"],\"yaxis\":\"y\",\"type\":\"bar\"},{\"alignmentgroup\":\"True\",\"hovertemplate\":\"Common words=%{y}<br>Count=%{x}<extra></extra>\",\"legendgroup\":\"hope\",\"marker\":{\"color\":\"#19d3f3\",\"pattern\":{\"shape\":\"\"}},\"name\":\"hope\",\"offsetgroup\":\"hope\",\"orientation\":\"h\",\"showlegend\":true,\"textposition\":\"auto\",\"x\":[536],\"xaxis\":\"x\",\"y\":[\"hope\"],\"yaxis\":\"y\",\"type\":\"bar\"},{\"alignmentgroup\":\"True\",\"hovertemplate\":\"Common words=%{y}<br>Count=%{x}<extra></extra>\",\"legendgroup\":\"like\",\"marker\":{\"color\":\"#FF6692\",\"pattern\":{\"shape\":\"\"}},\"name\":\"like\",\"offsetgroup\":\"like\",\"orientation\":\"h\",\"showlegend\":true,\"textposition\":\"auto\",\"x\":[487],\"xaxis\":\"x\",\"y\":[\"like\"],\"yaxis\":\"y\",\"type\":\"bar\"},{\"alignmentgroup\":\"True\",\"hovertemplate\":\"Common words=%{y}<br>Count=%{x}<extra></extra>\",\"legendgroup\":\"great\",\"marker\":{\"color\":\"#B6E880\",\"pattern\":{\"shape\":\"\"}},\"name\":\"great\",\"offsetgroup\":\"great\",\"orientation\":\"h\",\"showlegend\":true,\"textposition\":\"auto\",\"x\":[486],\"xaxis\":\"x\",\"y\":[\"great\"],\"yaxis\":\"y\",\"type\":\"bar\"},{\"alignmentgroup\":\"True\",\"hovertemplate\":\"Common words=%{y}<br>Count=%{x}<extra></extra>\",\"legendgroup\":\"get\",\"marker\":{\"color\":\"#FF97FF\",\"pattern\":{\"shape\":\"\"}},\"name\":\"get\",\"offsetgroup\":\"get\",\"orientation\":\"h\",\"showlegend\":true,\"textposition\":\"auto\",\"x\":[478],\"xaxis\":\"x\",\"y\":[\"get\"],\"yaxis\":\"y\",\"type\":\"bar\"},{\"alignmentgroup\":\"True\",\"hovertemplate\":\"Common words=%{y}<br>Count=%{x}<extra></extra>\",\"legendgroup\":\"go\",\"marker\":{\"color\":\"#FECB52\",\"pattern\":{\"shape\":\"\"}},\"name\":\"go\",\"offsetgroup\":\"go\",\"orientation\":\"h\",\"showlegend\":true,\"textposition\":\"auto\",\"x\":[400],\"xaxis\":\"x\",\"y\":[\"go\"],\"yaxis\":\"y\",\"type\":\"bar\"},{\"alignmentgroup\":\"True\",\"hovertemplate\":\"Common words=%{y}<br>Count=%{x}<extra></extra>\",\"legendgroup\":\"lol\",\"marker\":{\"color\":\"#636efa\",\"pattern\":{\"shape\":\"\"}},\"name\":\"lol\",\"offsetgroup\":\"lol\",\"orientation\":\"h\",\"showlegend\":true,\"textposition\":\"auto\",\"x\":[360],\"xaxis\":\"x\",\"y\":[\"lol\"],\"yaxis\":\"y\",\"type\":\"bar\"},{\"alignmentgroup\":\"True\",\"hovertemplate\":\"Common words=%{y}<br>Count=%{x}<extra></extra>\",\"legendgroup\":\"today\",\"marker\":{\"color\":\"#EF553B\",\"pattern\":{\"shape\":\"\"}},\"name\":\"today\",\"offsetgroup\":\"today\",\"orientation\":\"h\",\"showlegend\":true,\"textposition\":\"auto\",\"x\":[360],\"xaxis\":\"x\",\"y\":[\"today\"],\"yaxis\":\"y\",\"type\":\"bar\"},{\"alignmentgroup\":\"True\",\"hovertemplate\":\"Common words=%{y}<br>Count=%{x}<extra></extra>\",\"legendgroup\":\"fun\",\"marker\":{\"color\":\"#00cc96\",\"pattern\":{\"shape\":\"\"}},\"name\":\"fun\",\"offsetgroup\":\"fun\",\"orientation\":\"h\",\"showlegend\":true,\"textposition\":\"auto\",\"x\":[352],\"xaxis\":\"x\",\"y\":[\"fun\"],\"yaxis\":\"y\",\"type\":\"bar\"},{\"alignmentgroup\":\"True\",\"hovertemplate\":\"Common words=%{y}<br>Count=%{x}<extra></extra>\",\"legendgroup\":\"work\",\"marker\":{\"color\":\"#ab63fa\",\"pattern\":{\"shape\":\"\"}},\"name\":\"work\",\"offsetgroup\":\"work\",\"orientation\":\"h\",\"showlegend\":true,\"textposition\":\"auto\",\"x\":[352],\"xaxis\":\"x\",\"y\":[\"work\"],\"yaxis\":\"y\",\"type\":\"bar\"},{\"alignmentgroup\":\"True\",\"hovertemplate\":\"Common words=%{y}<br>Count=%{x}<extra></extra>\",\"legendgroup\":\"got\",\"marker\":{\"color\":\"#FFA15A\",\"pattern\":{\"shape\":\"\"}},\"name\":\"got\",\"offsetgroup\":\"got\",\"orientation\":\"h\",\"showlegend\":true,\"textposition\":\"auto\",\"x\":[352],\"xaxis\":\"x\",\"y\":[\"got\"],\"yaxis\":\"y\",\"type\":\"bar\"},{\"alignmentgroup\":\"True\",\"hovertemplate\":\"Common words=%{y}<br>Count=%{x}<extra></extra>\",\"legendgroup\":\"time\",\"marker\":{\"color\":\"#19d3f3\",\"pattern\":{\"shape\":\"\"}},\"name\":\"time\",\"offsetgroup\":\"time\",\"orientation\":\"h\",\"showlegend\":true,\"textposition\":\"auto\",\"x\":[351],\"xaxis\":\"x\",\"y\":[\"time\"],\"yaxis\":\"y\",\"type\":\"bar\"},{\"alignmentgroup\":\"True\",\"hovertemplate\":\"Common words=%{y}<br>Count=%{x}<extra></extra>\",\"legendgroup\":\"night\",\"marker\":{\"color\":\"#FF6692\",\"pattern\":{\"shape\":\"\"}},\"name\":\"night\",\"offsetgroup\":\"night\",\"orientation\":\"h\",\"showlegend\":true,\"textposition\":\"auto\",\"x\":[346],\"xaxis\":\"x\",\"y\":[\"night\"],\"yaxis\":\"y\",\"type\":\"bar\"},{\"alignmentgroup\":\"True\",\"hovertemplate\":\"Common words=%{y}<br>Count=%{x}<extra></extra>\",\"legendgroup\":\"nice\",\"marker\":{\"color\":\"#B6E880\",\"pattern\":{\"shape\":\"\"}},\"name\":\"nice\",\"offsetgroup\":\"nice\",\"orientation\":\"h\",\"showlegend\":true,\"textposition\":\"auto\",\"x\":[343],\"xaxis\":\"x\",\"y\":[\"nice\"],\"yaxis\":\"y\",\"type\":\"bar\"},{\"alignmentgroup\":\"True\",\"hovertemplate\":\"Common words=%{y}<br>Count=%{x}<extra></extra>\",\"legendgroup\":\"wish\",\"marker\":{\"color\":\"#FF97FF\",\"pattern\":{\"shape\":\"\"}},\"name\":\"wish\",\"offsetgroup\":\"wish\",\"orientation\":\"h\",\"showlegend\":true,\"textposition\":\"auto\",\"x\":[325],\"xaxis\":\"x\",\"y\":[\"wish\"],\"yaxis\":\"y\",\"type\":\"bar\"},{\"alignmentgroup\":\"True\",\"hovertemplate\":\"Common words=%{y}<br>Count=%{x}<extra></extra>\",\"legendgroup\":\"one\",\"marker\":{\"color\":\"#FECB52\",\"pattern\":{\"shape\":\"\"}},\"name\":\"one\",\"offsetgroup\":\"one\",\"orientation\":\"h\",\"showlegend\":true,\"textposition\":\"auto\",\"x\":[324],\"xaxis\":\"x\",\"y\":[\"one\"],\"yaxis\":\"y\",\"type\":\"bar\"},{\"alignmentgroup\":\"True\",\"hovertemplate\":\"Common words=%{y}<br>Count=%{x}<extra></extra>\",\"legendgroup\":\"see\",\"marker\":{\"color\":\"#636efa\",\"pattern\":{\"shape\":\"\"}},\"name\":\"see\",\"offsetgroup\":\"see\",\"orientation\":\"h\",\"showlegend\":true,\"textposition\":\"auto\",\"x\":[315],\"xaxis\":\"x\",\"y\":[\"see\"],\"yaxis\":\"y\",\"type\":\"bar\"},{\"alignmentgroup\":\"True\",\"hovertemplate\":\"Common words=%{y}<br>Count=%{x}<extra></extra>\",\"legendgroup\":\"realli\",\"marker\":{\"color\":\"#EF553B\",\"pattern\":{\"shape\":\"\"}},\"name\":\"realli\",\"offsetgroup\":\"realli\",\"orientation\":\"h\",\"showlegend\":true,\"textposition\":\"auto\",\"x\":[312],\"xaxis\":\"x\",\"y\":[\"realli\"],\"yaxis\":\"y\",\"type\":\"bar\"},{\"alignmentgroup\":\"True\",\"hovertemplate\":\"Common words=%{y}<br>Count=%{x}<extra></extra>\",\"legendgroup\":\"morn\",\"marker\":{\"color\":\"#00cc96\",\"pattern\":{\"shape\":\"\"}},\"name\":\"morn\",\"offsetgroup\":\"morn\",\"orientation\":\"h\",\"showlegend\":true,\"textposition\":\"auto\",\"x\":[300],\"xaxis\":\"x\",\"y\":[\"morn\"],\"yaxis\":\"y\",\"type\":\"bar\"},{\"alignmentgroup\":\"True\",\"hovertemplate\":\"Common words=%{y}<br>Count=%{x}<extra></extra>\",\"legendgroup\":\"look\",\"marker\":{\"color\":\"#ab63fa\",\"pattern\":{\"shape\":\"\"}},\"name\":\"look\",\"offsetgroup\":\"look\",\"orientation\":\"h\",\"showlegend\":true,\"textposition\":\"auto\",\"x\":[297],\"xaxis\":\"x\",\"y\":[\"look\"],\"yaxis\":\"y\",\"type\":\"bar\"}],                        {\"template\":{\"data\":{\"bar\":[{\"error_x\":{\"color\":\"#2a3f5f\"},\"error_y\":{\"color\":\"#2a3f5f\"},\"marker\":{\"line\":{\"color\":\"#E5ECF6\",\"width\":0.5},\"pattern\":{\"fillmode\":\"overlay\",\"size\":10,\"solidity\":0.2}},\"type\":\"bar\"}],\"barpolar\":[{\"marker\":{\"line\":{\"color\":\"#E5ECF6\",\"width\":0.5},\"pattern\":{\"fillmode\":\"overlay\",\"size\":10,\"solidity\":0.2}},\"type\":\"barpolar\"}],\"carpet\":[{\"aaxis\":{\"endlinecolor\":\"#2a3f5f\",\"gridcolor\":\"white\",\"linecolor\":\"white\",\"minorgridcolor\":\"white\",\"startlinecolor\":\"#2a3f5f\"},\"baxis\":{\"endlinecolor\":\"#2a3f5f\",\"gridcolor\":\"white\",\"linecolor\":\"white\",\"minorgridcolor\":\"white\",\"startlinecolor\":\"#2a3f5f\"},\"type\":\"carpet\"}],\"choropleth\":[{\"colorbar\":{\"outlinewidth\":0,\"ticks\":\"\"},\"type\":\"choropleth\"}],\"contour\":[{\"colorbar\":{\"outlinewidth\":0,\"ticks\":\"\"},\"colorscale\":[[0.0,\"#0d0887\"],[0.1111111111111111,\"#46039f\"],[0.2222222222222222,\"#7201a8\"],[0.3333333333333333,\"#9c179e\"],[0.4444444444444444,\"#bd3786\"],[0.5555555555555556,\"#d8576b\"],[0.6666666666666666,\"#ed7953\"],[0.7777777777777778,\"#fb9f3a\"],[0.8888888888888888,\"#fdca26\"],[1.0,\"#f0f921\"]],\"type\":\"contour\"}],\"contourcarpet\":[{\"colorbar\":{\"outlinewidth\":0,\"ticks\":\"\"},\"type\":\"contourcarpet\"}],\"heatmap\":[{\"colorbar\":{\"outlinewidth\":0,\"ticks\":\"\"},\"colorscale\":[[0.0,\"#0d0887\"],[0.1111111111111111,\"#46039f\"],[0.2222222222222222,\"#7201a8\"],[0.3333333333333333,\"#9c179e\"],[0.4444444444444444,\"#bd3786\"],[0.5555555555555556,\"#d8576b\"],[0.6666666666666666,\"#ed7953\"],[0.7777777777777778,\"#fb9f3a\"],[0.8888888888888888,\"#fdca26\"],[1.0,\"#f0f921\"]],\"type\":\"heatmap\"}],\"heatmapgl\":[{\"colorbar\":{\"outlinewidth\":0,\"ticks\":\"\"},\"colorscale\":[[0.0,\"#0d0887\"],[0.1111111111111111,\"#46039f\"],[0.2222222222222222,\"#7201a8\"],[0.3333333333333333,\"#9c179e\"],[0.4444444444444444,\"#bd3786\"],[0.5555555555555556,\"#d8576b\"],[0.6666666666666666,\"#ed7953\"],[0.7777777777777778,\"#fb9f3a\"],[0.8888888888888888,\"#fdca26\"],[1.0,\"#f0f921\"]],\"type\":\"heatmapgl\"}],\"histogram\":[{\"marker\":{\"pattern\":{\"fillmode\":\"overlay\",\"size\":10,\"solidity\":0.2}},\"type\":\"histogram\"}],\"histogram2d\":[{\"colorbar\":{\"outlinewidth\":0,\"ticks\":\"\"},\"colorscale\":[[0.0,\"#0d0887\"],[0.1111111111111111,\"#46039f\"],[0.2222222222222222,\"#7201a8\"],[0.3333333333333333,\"#9c179e\"],[0.4444444444444444,\"#bd3786\"],[0.5555555555555556,\"#d8576b\"],[0.6666666666666666,\"#ed7953\"],[0.7777777777777778,\"#fb9f3a\"],[0.8888888888888888,\"#fdca26\"],[1.0,\"#f0f921\"]],\"type\":\"histogram2d\"}],\"histogram2dcontour\":[{\"colorbar\":{\"outlinewidth\":0,\"ticks\":\"\"},\"colorscale\":[[0.0,\"#0d0887\"],[0.1111111111111111,\"#46039f\"],[0.2222222222222222,\"#7201a8\"],[0.3333333333333333,\"#9c179e\"],[0.4444444444444444,\"#bd3786\"],[0.5555555555555556,\"#d8576b\"],[0.6666666666666666,\"#ed7953\"],[0.7777777777777778,\"#fb9f3a\"],[0.8888888888888888,\"#fdca26\"],[1.0,\"#f0f921\"]],\"type\":\"histogram2dcontour\"}],\"mesh3d\":[{\"colorbar\":{\"outlinewidth\":0,\"ticks\":\"\"},\"type\":\"mesh3d\"}],\"parcoords\":[{\"line\":{\"colorbar\":{\"outlinewidth\":0,\"ticks\":\"\"}},\"type\":\"parcoords\"}],\"pie\":[{\"automargin\":true,\"type\":\"pie\"}],\"scatter\":[{\"marker\":{\"colorbar\":{\"outlinewidth\":0,\"ticks\":\"\"}},\"type\":\"scatter\"}],\"scatter3d\":[{\"line\":{\"colorbar\":{\"outlinewidth\":0,\"ticks\":\"\"}},\"marker\":{\"colorbar\":{\"outlinewidth\":0,\"ticks\":\"\"}},\"type\":\"scatter3d\"}],\"scattercarpet\":[{\"marker\":{\"colorbar\":{\"outlinewidth\":0,\"ticks\":\"\"}},\"type\":\"scattercarpet\"}],\"scattergeo\":[{\"marker\":{\"colorbar\":{\"outlinewidth\":0,\"ticks\":\"\"}},\"type\":\"scattergeo\"}],\"scattergl\":[{\"marker\":{\"colorbar\":{\"outlinewidth\":0,\"ticks\":\"\"}},\"type\":\"scattergl\"}],\"scattermapbox\":[{\"marker\":{\"colorbar\":{\"outlinewidth\":0,\"ticks\":\"\"}},\"type\":\"scattermapbox\"}],\"scatterpolar\":[{\"marker\":{\"colorbar\":{\"outlinewidth\":0,\"ticks\":\"\"}},\"type\":\"scatterpolar\"}],\"scatterpolargl\":[{\"marker\":{\"colorbar\":{\"outlinewidth\":0,\"ticks\":\"\"}},\"type\":\"scatterpolargl\"}],\"scatterternary\":[{\"marker\":{\"colorbar\":{\"outlinewidth\":0,\"ticks\":\"\"}},\"type\":\"scatterternary\"}],\"surface\":[{\"colorbar\":{\"outlinewidth\":0,\"ticks\":\"\"},\"colorscale\":[[0.0,\"#0d0887\"],[0.1111111111111111,\"#46039f\"],[0.2222222222222222,\"#7201a8\"],[0.3333333333333333,\"#9c179e\"],[0.4444444444444444,\"#bd3786\"],[0.5555555555555556,\"#d8576b\"],[0.6666666666666666,\"#ed7953\"],[0.7777777777777778,\"#fb9f3a\"],[0.8888888888888888,\"#fdca26\"],[1.0,\"#f0f921\"]],\"type\":\"surface\"}],\"table\":[{\"cells\":{\"fill\":{\"color\":\"#EBF0F8\"},\"line\":{\"color\":\"white\"}},\"header\":{\"fill\":{\"color\":\"#C8D4E3\"},\"line\":{\"color\":\"white\"}},\"type\":\"table\"}]},\"layout\":{\"annotationdefaults\":{\"arrowcolor\":\"#2a3f5f\",\"arrowhead\":0,\"arrowwidth\":1},\"autotypenumbers\":\"strict\",\"coloraxis\":{\"colorbar\":{\"outlinewidth\":0,\"ticks\":\"\"}},\"colorscale\":{\"diverging\":[[0,\"#8e0152\"],[0.1,\"#c51b7d\"],[0.2,\"#de77ae\"],[0.3,\"#f1b6da\"],[0.4,\"#fde0ef\"],[0.5,\"#f7f7f7\"],[0.6,\"#e6f5d0\"],[0.7,\"#b8e186\"],[0.8,\"#7fbc41\"],[0.9,\"#4d9221\"],[1,\"#276419\"]],\"sequential\":[[0.0,\"#0d0887\"],[0.1111111111111111,\"#46039f\"],[0.2222222222222222,\"#7201a8\"],[0.3333333333333333,\"#9c179e\"],[0.4444444444444444,\"#bd3786\"],[0.5555555555555556,\"#d8576b\"],[0.6666666666666666,\"#ed7953\"],[0.7777777777777778,\"#fb9f3a\"],[0.8888888888888888,\"#fdca26\"],[1.0,\"#f0f921\"]],\"sequentialminus\":[[0.0,\"#0d0887\"],[0.1111111111111111,\"#46039f\"],[0.2222222222222222,\"#7201a8\"],[0.3333333333333333,\"#9c179e\"],[0.4444444444444444,\"#bd3786\"],[0.5555555555555556,\"#d8576b\"],[0.6666666666666666,\"#ed7953\"],[0.7777777777777778,\"#fb9f3a\"],[0.8888888888888888,\"#fdca26\"],[1.0,\"#f0f921\"]]},\"colorway\":[\"#636efa\",\"#EF553B\",\"#00cc96\",\"#ab63fa\",\"#FFA15A\",\"#19d3f3\",\"#FF6692\",\"#B6E880\",\"#FF97FF\",\"#FECB52\"],\"font\":{\"color\":\"#2a3f5f\"},\"geo\":{\"bgcolor\":\"white\",\"lakecolor\":\"white\",\"landcolor\":\"#E5ECF6\",\"showlakes\":true,\"showland\":true,\"subunitcolor\":\"white\"},\"hoverlabel\":{\"align\":\"left\"},\"hovermode\":\"closest\",\"mapbox\":{\"style\":\"light\"},\"paper_bgcolor\":\"white\",\"plot_bgcolor\":\"#E5ECF6\",\"polar\":{\"angularaxis\":{\"gridcolor\":\"white\",\"linecolor\":\"white\",\"ticks\":\"\"},\"bgcolor\":\"#E5ECF6\",\"radialaxis\":{\"gridcolor\":\"white\",\"linecolor\":\"white\",\"ticks\":\"\"}},\"scene\":{\"xaxis\":{\"backgroundcolor\":\"#E5ECF6\",\"gridcolor\":\"white\",\"gridwidth\":2,\"linecolor\":\"white\",\"showbackground\":true,\"ticks\":\"\",\"zerolinecolor\":\"white\"},\"yaxis\":{\"backgroundcolor\":\"#E5ECF6\",\"gridcolor\":\"white\",\"gridwidth\":2,\"linecolor\":\"white\",\"showbackground\":true,\"ticks\":\"\",\"zerolinecolor\":\"white\"},\"zaxis\":{\"backgroundcolor\":\"#E5ECF6\",\"gridcolor\":\"white\",\"gridwidth\":2,\"linecolor\":\"white\",\"showbackground\":true,\"ticks\":\"\",\"zerolinecolor\":\"white\"}},\"shapedefaults\":{\"line\":{\"color\":\"#2a3f5f\"}},\"ternary\":{\"aaxis\":{\"gridcolor\":\"white\",\"linecolor\":\"white\",\"ticks\":\"\"},\"baxis\":{\"gridcolor\":\"white\",\"linecolor\":\"white\",\"ticks\":\"\"},\"bgcolor\":\"#E5ECF6\",\"caxis\":{\"gridcolor\":\"white\",\"linecolor\":\"white\",\"ticks\":\"\"}},\"title\":{\"x\":0.05},\"xaxis\":{\"automargin\":true,\"gridcolor\":\"white\",\"linecolor\":\"white\",\"ticks\":\"\",\"title\":{\"standoff\":15},\"zerolinecolor\":\"white\",\"zerolinewidth\":2},\"yaxis\":{\"automargin\":true,\"gridcolor\":\"white\",\"linecolor\":\"white\",\"ticks\":\"\",\"title\":{\"standoff\":15},\"zerolinecolor\":\"white\",\"zerolinewidth\":2}}},\"xaxis\":{\"anchor\":\"y\",\"domain\":[0.0,1.0],\"title\":{\"text\":\"Count\"}},\"yaxis\":{\"anchor\":\"x\",\"domain\":[0.0,1.0],\"title\":{\"text\":\"Common words\"},\"categoryorder\":\"array\",\"categoryarray\":[\"look\",\"morn\",\"realli\",\"see\",\"one\",\"wish\",\"nice\",\"night\",\"time\",\"got\",\"work\",\"fun\",\"today\",\"lol\",\"go\",\"get\",\"great\",\"like\",\"hope\",\"mother\",\"thank\",\"happi\",\"good\",\"love\"]},\"legend\":{\"title\":{\"text\":\"Common words\"},\"tracegroupgap\":0},\"title\":{\"text\":\"Most commmon positive words\"},\"barmode\":\"relative\",\"height\":700,\"width\":700},                        {\"responsive\": true}                    ).then(function(){\n",
              "                            \n",
              "var gd = document.getElementById('37990016-1bf7-41e6-8e6f-85c10a8651f5');\n",
              "var x = new MutationObserver(function (mutations, observer) {{\n",
              "        var display = window.getComputedStyle(gd).display;\n",
              "        if (!display || display === 'none') {{\n",
              "            console.log([gd, 'removed!']);\n",
              "            Plotly.purge(gd);\n",
              "            observer.disconnect();\n",
              "        }}\n",
              "}});\n",
              "\n",
              "// Listen for the removal of the full notebook cells\n",
              "var notebookContainer = gd.closest('#notebook-container');\n",
              "if (notebookContainer) {{\n",
              "    x.observe(notebookContainer, {childList: true});\n",
              "}}\n",
              "\n",
              "// Listen for the clearing of the current output cell\n",
              "var outputEl = gd.closest('.output');\n",
              "if (outputEl) {{\n",
              "    x.observe(outputEl, {childList: true});\n",
              "}}\n",
              "\n",
              "                        })                };                            </script>        </div>\n",
              "</body>\n",
              "</html>"
            ]
          },
          "metadata": {}
        }
      ]
    },
    {
      "cell_type": "code",
      "source": [
        "#Most common negative words\n",
        "\n",
        "neg = train[train['sentiment']=='negative']\n",
        "\n",
        "tempList = neg['text'].apply(lambda x:str(x).split())\n",
        "\n",
        "top = Counter([item for sublist in tempList for item in sublist])\n",
        "temp = pd.DataFrame(top.most_common(25))\n",
        "temp = temp.iloc[1:,:]\n",
        "temp.columns = ['Common words','Count']\n",
        "temp.style.background_gradient(cmap='Blues')"
      ],
      "metadata": {
        "id": "z1xgOK6xSd0P",
        "outputId": "6d9c9e20-f513-4e67-c245-796b87fdb285",
        "colab": {
          "base_uri": "https://localhost:8080/",
          "height": 802
        }
      },
      "execution_count": 29,
      "outputs": [
        {
          "output_type": "execute_result",
          "data": {
            "text/plain": [
              "<pandas.io.formats.style.Styler at 0x7fb9094f3be0>"
            ],
            "text/html": [
              "<style type=\"text/css\">\n",
              "#T_66df2_row0_col1 {\n",
              "  background-color: #08306b;\n",
              "  color: #f1f1f1;\n",
              "}\n",
              "#T_66df2_row1_col1 {\n",
              "  background-color: #2272b6;\n",
              "  color: #f1f1f1;\n",
              "}\n",
              "#T_66df2_row2_col1 {\n",
              "  background-color: #2474b7;\n",
              "  color: #f1f1f1;\n",
              "}\n",
              "#T_66df2_row3_col1 {\n",
              "  background-color: #3181bd;\n",
              "  color: #f1f1f1;\n",
              "}\n",
              "#T_66df2_row4_col1 {\n",
              "  background-color: #3383be;\n",
              "  color: #f1f1f1;\n",
              "}\n",
              "#T_66df2_row5_col1 {\n",
              "  background-color: #4292c6;\n",
              "  color: #f1f1f1;\n",
              "}\n",
              "#T_66df2_row6_col1 {\n",
              "  background-color: #68acd5;\n",
              "  color: #f1f1f1;\n",
              "}\n",
              "#T_66df2_row7_col1 {\n",
              "  background-color: #6aaed6;\n",
              "  color: #f1f1f1;\n",
              "}\n",
              "#T_66df2_row8_col1 {\n",
              "  background-color: #7ab6d9;\n",
              "  color: #000000;\n",
              "}\n",
              "#T_66df2_row9_col1 {\n",
              "  background-color: #a9cfe5;\n",
              "  color: #000000;\n",
              "}\n",
              "#T_66df2_row10_col1 {\n",
              "  background-color: #aed1e7;\n",
              "  color: #000000;\n",
              "}\n",
              "#T_66df2_row11_col1 {\n",
              "  background-color: #b0d2e7;\n",
              "  color: #000000;\n",
              "}\n",
              "#T_66df2_row12_col1 {\n",
              "  background-color: #b7d4ea;\n",
              "  color: #000000;\n",
              "}\n",
              "#T_66df2_row13_col1 {\n",
              "  background-color: #cbdef1;\n",
              "  color: #000000;\n",
              "}\n",
              "#T_66df2_row14_col1 {\n",
              "  background-color: #cddff1;\n",
              "  color: #000000;\n",
              "}\n",
              "#T_66df2_row15_col1, #T_66df2_row16_col1 {\n",
              "  background-color: #cee0f2;\n",
              "  color: #000000;\n",
              "}\n",
              "#T_66df2_row17_col1 {\n",
              "  background-color: #dce9f6;\n",
              "  color: #000000;\n",
              "}\n",
              "#T_66df2_row18_col1 {\n",
              "  background-color: #deebf7;\n",
              "  color: #000000;\n",
              "}\n",
              "#T_66df2_row19_col1 {\n",
              "  background-color: #e7f0fa;\n",
              "  color: #000000;\n",
              "}\n",
              "#T_66df2_row20_col1 {\n",
              "  background-color: #eef5fc;\n",
              "  color: #000000;\n",
              "}\n",
              "#T_66df2_row21_col1 {\n",
              "  background-color: #eff6fc;\n",
              "  color: #000000;\n",
              "}\n",
              "#T_66df2_row22_col1 {\n",
              "  background-color: #f3f8fe;\n",
              "  color: #000000;\n",
              "}\n",
              "#T_66df2_row23_col1 {\n",
              "  background-color: #f7fbff;\n",
              "  color: #000000;\n",
              "}\n",
              "</style>\n",
              "<table id=\"T_66df2_\" class=\"dataframe\">\n",
              "  <thead>\n",
              "    <tr>\n",
              "      <th class=\"blank level0\" >&nbsp;</th>\n",
              "      <th class=\"col_heading level0 col0\" >Common words</th>\n",
              "      <th class=\"col_heading level0 col1\" >Count</th>\n",
              "    </tr>\n",
              "  </thead>\n",
              "  <tbody>\n",
              "    <tr>\n",
              "      <th id=\"T_66df2_level0_row0\" class=\"row_heading level0 row0\" >1</th>\n",
              "      <td id=\"T_66df2_row0_col0\" class=\"data row0 col0\" >get</td>\n",
              "      <td id=\"T_66df2_row0_col1\" class=\"data row0 col1\" >613</td>\n",
              "    </tr>\n",
              "    <tr>\n",
              "      <th id=\"T_66df2_level0_row1\" class=\"row_heading level0 row1\" >2</th>\n",
              "      <td id=\"T_66df2_row1_col0\" class=\"data row1 col0\" >go</td>\n",
              "      <td id=\"T_66df2_row1_col1\" class=\"data row1 col1\" >514</td>\n",
              "    </tr>\n",
              "    <tr>\n",
              "      <th id=\"T_66df2_level0_row2\" class=\"row_heading level0 row2\" >3</th>\n",
              "      <td id=\"T_66df2_row2_col0\" class=\"data row2 col0\" >work</td>\n",
              "      <td id=\"T_66df2_row2_col1\" class=\"data row2 col1\" >512</td>\n",
              "    </tr>\n",
              "    <tr>\n",
              "      <th id=\"T_66df2_level0_row3\" class=\"row_heading level0 row3\" >4</th>\n",
              "      <td id=\"T_66df2_row3_col0\" class=\"data row3 col0\" >like</td>\n",
              "      <td id=\"T_66df2_row3_col1\" class=\"data row3 col1\" >493</td>\n",
              "    </tr>\n",
              "    <tr>\n",
              "      <th id=\"T_66df2_level0_row4\" class=\"row_heading level0 row4\" >5</th>\n",
              "      <td id=\"T_66df2_row4_col0\" class=\"data row4 col0\" >cannot</td>\n",
              "      <td id=\"T_66df2_row4_col1\" class=\"data row4 col1\" >490</td>\n",
              "    </tr>\n",
              "    <tr>\n",
              "      <th id=\"T_66df2_level0_row5\" class=\"row_heading level0 row5\" >6</th>\n",
              "      <td id=\"T_66df2_row5_col0\" class=\"data row5 col0\" >feel</td>\n",
              "      <td id=\"T_66df2_row5_col1\" class=\"data row5 col1\" >468</td>\n",
              "    </tr>\n",
              "    <tr>\n",
              "      <th id=\"T_66df2_level0_row6\" class=\"row_heading level0 row6\" >7</th>\n",
              "      <td id=\"T_66df2_row6_col0\" class=\"data row6 col0\" >day</td>\n",
              "      <td id=\"T_66df2_row6_col1\" class=\"data row6 col1\" >424</td>\n",
              "    </tr>\n",
              "    <tr>\n",
              "      <th id=\"T_66df2_level0_row7\" class=\"row_heading level0 row7\" >8</th>\n",
              "      <td id=\"T_66df2_row7_col0\" class=\"data row7 col0\" >want</td>\n",
              "      <td id=\"T_66df2_row7_col1\" class=\"data row7 col1\" >422</td>\n",
              "    </tr>\n",
              "    <tr>\n",
              "      <th id=\"T_66df2_level0_row8\" class=\"row_heading level0 row8\" >9</th>\n",
              "      <td id=\"T_66df2_row8_col0\" class=\"data row8 col0\" >sad</td>\n",
              "      <td id=\"T_66df2_row8_col1\" class=\"data row8 col1\" >406</td>\n",
              "    </tr>\n",
              "    <tr>\n",
              "      <th id=\"T_66df2_level0_row9\" class=\"row_heading level0 row9\" >10</th>\n",
              "      <td id=\"T_66df2_row9_col0\" class=\"data row9 col0\" >got</td>\n",
              "      <td id=\"T_66df2_row9_col1\" class=\"data row9 col1\" >360</td>\n",
              "    </tr>\n",
              "    <tr>\n",
              "      <th id=\"T_66df2_level0_row10\" class=\"row_heading level0 row10\" >11</th>\n",
              "      <td id=\"T_66df2_row10_col0\" class=\"data row10 col0\" >sorri</td>\n",
              "      <td id=\"T_66df2_row10_col1\" class=\"data row10 col1\" >354</td>\n",
              "    </tr>\n",
              "    <tr>\n",
              "      <th id=\"T_66df2_level0_row11\" class=\"row_heading level0 row11\" >12</th>\n",
              "      <td id=\"T_66df2_row11_col0\" class=\"data row11 col0\" >realli</td>\n",
              "      <td id=\"T_66df2_row11_col1\" class=\"data row11 col1\" >350</td>\n",
              "    </tr>\n",
              "    <tr>\n",
              "      <th id=\"T_66df2_level0_row12\" class=\"row_heading level0 row12\" >13</th>\n",
              "      <td id=\"T_66df2_row12_col0\" class=\"data row12 col0\" >today</td>\n",
              "      <td id=\"T_66df2_row12_col1\" class=\"data row12 col1\" >343</td>\n",
              "    </tr>\n",
              "    <tr>\n",
              "      <th id=\"T_66df2_level0_row13\" class=\"row_heading level0 row13\" >14</th>\n",
              "      <td id=\"T_66df2_row13_col0\" class=\"data row13 col0\" >know</td>\n",
              "      <td id=\"T_66df2_row13_col1\" class=\"data row13 col1\" >314</td>\n",
              "    </tr>\n",
              "    <tr>\n",
              "      <th id=\"T_66df2_level0_row14\" class=\"row_heading level0 row14\" >15</th>\n",
              "      <td id=\"T_66df2_row14_col0\" class=\"data row14 col0\" >hate</td>\n",
              "      <td id=\"T_66df2_row14_col1\" class=\"data row14 col1\" >312</td>\n",
              "    </tr>\n",
              "    <tr>\n",
              "      <th id=\"T_66df2_level0_row15\" class=\"row_heading level0 row15\" >16</th>\n",
              "      <td id=\"T_66df2_row15_col0\" class=\"data row15 col0\" >one</td>\n",
              "      <td id=\"T_66df2_row15_col1\" class=\"data row15 col1\" >309</td>\n",
              "    </tr>\n",
              "    <tr>\n",
              "      <th id=\"T_66df2_level0_row16\" class=\"row_heading level0 row16\" >17</th>\n",
              "      <td id=\"T_66df2_row16_col0\" class=\"data row16 col0\" >bad</td>\n",
              "      <td id=\"T_66df2_row16_col1\" class=\"data row16 col1\" >308</td>\n",
              "    </tr>\n",
              "    <tr>\n",
              "      <th id=\"T_66df2_level0_row17\" class=\"row_heading level0 row17\" >18</th>\n",
              "      <td id=\"T_66df2_row17_col0\" class=\"data row17 col0\" >think</td>\n",
              "      <td id=\"T_66df2_row17_col1\" class=\"data row17 col1\" >282</td>\n",
              "    </tr>\n",
              "    <tr>\n",
              "      <th id=\"T_66df2_level0_row18\" class=\"row_heading level0 row18\" >19</th>\n",
              "      <td id=\"T_66df2_row18_col0\" class=\"data row18 col0\" >time</td>\n",
              "      <td id=\"T_66df2_row18_col1\" class=\"data row18 col1\" >277</td>\n",
              "    </tr>\n",
              "    <tr>\n",
              "      <th id=\"T_66df2_level0_row19\" class=\"row_heading level0 row19\" >20</th>\n",
              "      <td id=\"T_66df2_row19_col0\" class=\"data row19 col0\" >suck</td>\n",
              "      <td id=\"T_66df2_row19_col1\" class=\"data row19 col1\" >260</td>\n",
              "    </tr>\n",
              "    <tr>\n",
              "      <th id=\"T_66df2_level0_row20\" class=\"row_heading level0 row20\" >21</th>\n",
              "      <td id=\"T_66df2_row20_col0\" class=\"data row20 col0\" >still</td>\n",
              "      <td id=\"T_66df2_row20_col1\" class=\"data row20 col1\" >247</td>\n",
              "    </tr>\n",
              "    <tr>\n",
              "      <th id=\"T_66df2_level0_row21\" class=\"row_heading level0 row21\" >22</th>\n",
              "      <td id=\"T_66df2_row21_col0\" class=\"data row21 col0\" >back</td>\n",
              "      <td id=\"T_66df2_row21_col1\" class=\"data row21 col1\" >244</td>\n",
              "    </tr>\n",
              "    <tr>\n",
              "      <th id=\"T_66df2_level0_row22\" class=\"row_heading level0 row22\" >23</th>\n",
              "      <td id=\"T_66df2_row22_col0\" class=\"data row22 col0\" >make</td>\n",
              "      <td id=\"T_66df2_row22_col1\" class=\"data row22 col1\" >237</td>\n",
              "    </tr>\n",
              "    <tr>\n",
              "      <th id=\"T_66df2_level0_row23\" class=\"row_heading level0 row23\" >24</th>\n",
              "      <td id=\"T_66df2_row23_col0\" class=\"data row23 col0\" >much</td>\n",
              "      <td id=\"T_66df2_row23_col1\" class=\"data row23 col1\" >228</td>\n",
              "    </tr>\n",
              "  </tbody>\n",
              "</table>\n"
            ]
          },
          "metadata": {},
          "execution_count": 29
        }
      ]
    },
    {
      "cell_type": "code",
      "source": [
        "fig = px.bar(temp, x=\"Count\", y=\"Common words\", title='Most commmon negative words', orientation='h', width=700, height=700,color='Common words')\n",
        "fig.show()"
      ],
      "metadata": {
        "id": "GKd7RxydUd1o",
        "outputId": "35afbfd2-4970-4c2f-e42a-81ace19d7b69",
        "colab": {
          "base_uri": "https://localhost:8080/",
          "height": 717
        }
      },
      "execution_count": 30,
      "outputs": [
        {
          "output_type": "display_data",
          "data": {
            "text/html": [
              "<html>\n",
              "<head><meta charset=\"utf-8\" /></head>\n",
              "<body>\n",
              "    <div>            <script src=\"https://cdnjs.cloudflare.com/ajax/libs/mathjax/2.7.5/MathJax.js?config=TeX-AMS-MML_SVG\"></script><script type=\"text/javascript\">if (window.MathJax) {MathJax.Hub.Config({SVG: {font: \"STIX-Web\"}});}</script>                <script type=\"text/javascript\">window.PlotlyConfig = {MathJaxConfig: 'local'};</script>\n",
              "        <script src=\"https://cdn.plot.ly/plotly-2.8.3.min.js\"></script>                <div id=\"0202373f-7c36-4cac-9f14-70f41411dea5\" class=\"plotly-graph-div\" style=\"height:700px; width:700px;\"></div>            <script type=\"text/javascript\">                                    window.PLOTLYENV=window.PLOTLYENV || {};                                    if (document.getElementById(\"0202373f-7c36-4cac-9f14-70f41411dea5\")) {                    Plotly.newPlot(                        \"0202373f-7c36-4cac-9f14-70f41411dea5\",                        [{\"alignmentgroup\":\"True\",\"hovertemplate\":\"Common words=%{y}<br>Count=%{x}<extra></extra>\",\"legendgroup\":\"get\",\"marker\":{\"color\":\"#636efa\",\"pattern\":{\"shape\":\"\"}},\"name\":\"get\",\"offsetgroup\":\"get\",\"orientation\":\"h\",\"showlegend\":true,\"textposition\":\"auto\",\"x\":[613],\"xaxis\":\"x\",\"y\":[\"get\"],\"yaxis\":\"y\",\"type\":\"bar\"},{\"alignmentgroup\":\"True\",\"hovertemplate\":\"Common words=%{y}<br>Count=%{x}<extra></extra>\",\"legendgroup\":\"go\",\"marker\":{\"color\":\"#EF553B\",\"pattern\":{\"shape\":\"\"}},\"name\":\"go\",\"offsetgroup\":\"go\",\"orientation\":\"h\",\"showlegend\":true,\"textposition\":\"auto\",\"x\":[514],\"xaxis\":\"x\",\"y\":[\"go\"],\"yaxis\":\"y\",\"type\":\"bar\"},{\"alignmentgroup\":\"True\",\"hovertemplate\":\"Common words=%{y}<br>Count=%{x}<extra></extra>\",\"legendgroup\":\"work\",\"marker\":{\"color\":\"#00cc96\",\"pattern\":{\"shape\":\"\"}},\"name\":\"work\",\"offsetgroup\":\"work\",\"orientation\":\"h\",\"showlegend\":true,\"textposition\":\"auto\",\"x\":[512],\"xaxis\":\"x\",\"y\":[\"work\"],\"yaxis\":\"y\",\"type\":\"bar\"},{\"alignmentgroup\":\"True\",\"hovertemplate\":\"Common words=%{y}<br>Count=%{x}<extra></extra>\",\"legendgroup\":\"like\",\"marker\":{\"color\":\"#ab63fa\",\"pattern\":{\"shape\":\"\"}},\"name\":\"like\",\"offsetgroup\":\"like\",\"orientation\":\"h\",\"showlegend\":true,\"textposition\":\"auto\",\"x\":[493],\"xaxis\":\"x\",\"y\":[\"like\"],\"yaxis\":\"y\",\"type\":\"bar\"},{\"alignmentgroup\":\"True\",\"hovertemplate\":\"Common words=%{y}<br>Count=%{x}<extra></extra>\",\"legendgroup\":\"cannot\",\"marker\":{\"color\":\"#FFA15A\",\"pattern\":{\"shape\":\"\"}},\"name\":\"cannot\",\"offsetgroup\":\"cannot\",\"orientation\":\"h\",\"showlegend\":true,\"textposition\":\"auto\",\"x\":[490],\"xaxis\":\"x\",\"y\":[\"cannot\"],\"yaxis\":\"y\",\"type\":\"bar\"},{\"alignmentgroup\":\"True\",\"hovertemplate\":\"Common words=%{y}<br>Count=%{x}<extra></extra>\",\"legendgroup\":\"feel\",\"marker\":{\"color\":\"#19d3f3\",\"pattern\":{\"shape\":\"\"}},\"name\":\"feel\",\"offsetgroup\":\"feel\",\"orientation\":\"h\",\"showlegend\":true,\"textposition\":\"auto\",\"x\":[468],\"xaxis\":\"x\",\"y\":[\"feel\"],\"yaxis\":\"y\",\"type\":\"bar\"},{\"alignmentgroup\":\"True\",\"hovertemplate\":\"Common words=%{y}<br>Count=%{x}<extra></extra>\",\"legendgroup\":\"day\",\"marker\":{\"color\":\"#FF6692\",\"pattern\":{\"shape\":\"\"}},\"name\":\"day\",\"offsetgroup\":\"day\",\"orientation\":\"h\",\"showlegend\":true,\"textposition\":\"auto\",\"x\":[424],\"xaxis\":\"x\",\"y\":[\"day\"],\"yaxis\":\"y\",\"type\":\"bar\"},{\"alignmentgroup\":\"True\",\"hovertemplate\":\"Common words=%{y}<br>Count=%{x}<extra></extra>\",\"legendgroup\":\"want\",\"marker\":{\"color\":\"#B6E880\",\"pattern\":{\"shape\":\"\"}},\"name\":\"want\",\"offsetgroup\":\"want\",\"orientation\":\"h\",\"showlegend\":true,\"textposition\":\"auto\",\"x\":[422],\"xaxis\":\"x\",\"y\":[\"want\"],\"yaxis\":\"y\",\"type\":\"bar\"},{\"alignmentgroup\":\"True\",\"hovertemplate\":\"Common words=%{y}<br>Count=%{x}<extra></extra>\",\"legendgroup\":\"sad\",\"marker\":{\"color\":\"#FF97FF\",\"pattern\":{\"shape\":\"\"}},\"name\":\"sad\",\"offsetgroup\":\"sad\",\"orientation\":\"h\",\"showlegend\":true,\"textposition\":\"auto\",\"x\":[406],\"xaxis\":\"x\",\"y\":[\"sad\"],\"yaxis\":\"y\",\"type\":\"bar\"},{\"alignmentgroup\":\"True\",\"hovertemplate\":\"Common words=%{y}<br>Count=%{x}<extra></extra>\",\"legendgroup\":\"got\",\"marker\":{\"color\":\"#FECB52\",\"pattern\":{\"shape\":\"\"}},\"name\":\"got\",\"offsetgroup\":\"got\",\"orientation\":\"h\",\"showlegend\":true,\"textposition\":\"auto\",\"x\":[360],\"xaxis\":\"x\",\"y\":[\"got\"],\"yaxis\":\"y\",\"type\":\"bar\"},{\"alignmentgroup\":\"True\",\"hovertemplate\":\"Common words=%{y}<br>Count=%{x}<extra></extra>\",\"legendgroup\":\"sorri\",\"marker\":{\"color\":\"#636efa\",\"pattern\":{\"shape\":\"\"}},\"name\":\"sorri\",\"offsetgroup\":\"sorri\",\"orientation\":\"h\",\"showlegend\":true,\"textposition\":\"auto\",\"x\":[354],\"xaxis\":\"x\",\"y\":[\"sorri\"],\"yaxis\":\"y\",\"type\":\"bar\"},{\"alignmentgroup\":\"True\",\"hovertemplate\":\"Common words=%{y}<br>Count=%{x}<extra></extra>\",\"legendgroup\":\"realli\",\"marker\":{\"color\":\"#EF553B\",\"pattern\":{\"shape\":\"\"}},\"name\":\"realli\",\"offsetgroup\":\"realli\",\"orientation\":\"h\",\"showlegend\":true,\"textposition\":\"auto\",\"x\":[350],\"xaxis\":\"x\",\"y\":[\"realli\"],\"yaxis\":\"y\",\"type\":\"bar\"},{\"alignmentgroup\":\"True\",\"hovertemplate\":\"Common words=%{y}<br>Count=%{x}<extra></extra>\",\"legendgroup\":\"today\",\"marker\":{\"color\":\"#00cc96\",\"pattern\":{\"shape\":\"\"}},\"name\":\"today\",\"offsetgroup\":\"today\",\"orientation\":\"h\",\"showlegend\":true,\"textposition\":\"auto\",\"x\":[343],\"xaxis\":\"x\",\"y\":[\"today\"],\"yaxis\":\"y\",\"type\":\"bar\"},{\"alignmentgroup\":\"True\",\"hovertemplate\":\"Common words=%{y}<br>Count=%{x}<extra></extra>\",\"legendgroup\":\"know\",\"marker\":{\"color\":\"#ab63fa\",\"pattern\":{\"shape\":\"\"}},\"name\":\"know\",\"offsetgroup\":\"know\",\"orientation\":\"h\",\"showlegend\":true,\"textposition\":\"auto\",\"x\":[314],\"xaxis\":\"x\",\"y\":[\"know\"],\"yaxis\":\"y\",\"type\":\"bar\"},{\"alignmentgroup\":\"True\",\"hovertemplate\":\"Common words=%{y}<br>Count=%{x}<extra></extra>\",\"legendgroup\":\"hate\",\"marker\":{\"color\":\"#FFA15A\",\"pattern\":{\"shape\":\"\"}},\"name\":\"hate\",\"offsetgroup\":\"hate\",\"orientation\":\"h\",\"showlegend\":true,\"textposition\":\"auto\",\"x\":[312],\"xaxis\":\"x\",\"y\":[\"hate\"],\"yaxis\":\"y\",\"type\":\"bar\"},{\"alignmentgroup\":\"True\",\"hovertemplate\":\"Common words=%{y}<br>Count=%{x}<extra></extra>\",\"legendgroup\":\"one\",\"marker\":{\"color\":\"#19d3f3\",\"pattern\":{\"shape\":\"\"}},\"name\":\"one\",\"offsetgroup\":\"one\",\"orientation\":\"h\",\"showlegend\":true,\"textposition\":\"auto\",\"x\":[309],\"xaxis\":\"x\",\"y\":[\"one\"],\"yaxis\":\"y\",\"type\":\"bar\"},{\"alignmentgroup\":\"True\",\"hovertemplate\":\"Common words=%{y}<br>Count=%{x}<extra></extra>\",\"legendgroup\":\"bad\",\"marker\":{\"color\":\"#FF6692\",\"pattern\":{\"shape\":\"\"}},\"name\":\"bad\",\"offsetgroup\":\"bad\",\"orientation\":\"h\",\"showlegend\":true,\"textposition\":\"auto\",\"x\":[308],\"xaxis\":\"x\",\"y\":[\"bad\"],\"yaxis\":\"y\",\"type\":\"bar\"},{\"alignmentgroup\":\"True\",\"hovertemplate\":\"Common words=%{y}<br>Count=%{x}<extra></extra>\",\"legendgroup\":\"think\",\"marker\":{\"color\":\"#B6E880\",\"pattern\":{\"shape\":\"\"}},\"name\":\"think\",\"offsetgroup\":\"think\",\"orientation\":\"h\",\"showlegend\":true,\"textposition\":\"auto\",\"x\":[282],\"xaxis\":\"x\",\"y\":[\"think\"],\"yaxis\":\"y\",\"type\":\"bar\"},{\"alignmentgroup\":\"True\",\"hovertemplate\":\"Common words=%{y}<br>Count=%{x}<extra></extra>\",\"legendgroup\":\"time\",\"marker\":{\"color\":\"#FF97FF\",\"pattern\":{\"shape\":\"\"}},\"name\":\"time\",\"offsetgroup\":\"time\",\"orientation\":\"h\",\"showlegend\":true,\"textposition\":\"auto\",\"x\":[277],\"xaxis\":\"x\",\"y\":[\"time\"],\"yaxis\":\"y\",\"type\":\"bar\"},{\"alignmentgroup\":\"True\",\"hovertemplate\":\"Common words=%{y}<br>Count=%{x}<extra></extra>\",\"legendgroup\":\"suck\",\"marker\":{\"color\":\"#FECB52\",\"pattern\":{\"shape\":\"\"}},\"name\":\"suck\",\"offsetgroup\":\"suck\",\"orientation\":\"h\",\"showlegend\":true,\"textposition\":\"auto\",\"x\":[260],\"xaxis\":\"x\",\"y\":[\"suck\"],\"yaxis\":\"y\",\"type\":\"bar\"},{\"alignmentgroup\":\"True\",\"hovertemplate\":\"Common words=%{y}<br>Count=%{x}<extra></extra>\",\"legendgroup\":\"still\",\"marker\":{\"color\":\"#636efa\",\"pattern\":{\"shape\":\"\"}},\"name\":\"still\",\"offsetgroup\":\"still\",\"orientation\":\"h\",\"showlegend\":true,\"textposition\":\"auto\",\"x\":[247],\"xaxis\":\"x\",\"y\":[\"still\"],\"yaxis\":\"y\",\"type\":\"bar\"},{\"alignmentgroup\":\"True\",\"hovertemplate\":\"Common words=%{y}<br>Count=%{x}<extra></extra>\",\"legendgroup\":\"back\",\"marker\":{\"color\":\"#EF553B\",\"pattern\":{\"shape\":\"\"}},\"name\":\"back\",\"offsetgroup\":\"back\",\"orientation\":\"h\",\"showlegend\":true,\"textposition\":\"auto\",\"x\":[244],\"xaxis\":\"x\",\"y\":[\"back\"],\"yaxis\":\"y\",\"type\":\"bar\"},{\"alignmentgroup\":\"True\",\"hovertemplate\":\"Common words=%{y}<br>Count=%{x}<extra></extra>\",\"legendgroup\":\"make\",\"marker\":{\"color\":\"#00cc96\",\"pattern\":{\"shape\":\"\"}},\"name\":\"make\",\"offsetgroup\":\"make\",\"orientation\":\"h\",\"showlegend\":true,\"textposition\":\"auto\",\"x\":[237],\"xaxis\":\"x\",\"y\":[\"make\"],\"yaxis\":\"y\",\"type\":\"bar\"},{\"alignmentgroup\":\"True\",\"hovertemplate\":\"Common words=%{y}<br>Count=%{x}<extra></extra>\",\"legendgroup\":\"much\",\"marker\":{\"color\":\"#ab63fa\",\"pattern\":{\"shape\":\"\"}},\"name\":\"much\",\"offsetgroup\":\"much\",\"orientation\":\"h\",\"showlegend\":true,\"textposition\":\"auto\",\"x\":[228],\"xaxis\":\"x\",\"y\":[\"much\"],\"yaxis\":\"y\",\"type\":\"bar\"}],                        {\"template\":{\"data\":{\"bar\":[{\"error_x\":{\"color\":\"#2a3f5f\"},\"error_y\":{\"color\":\"#2a3f5f\"},\"marker\":{\"line\":{\"color\":\"#E5ECF6\",\"width\":0.5},\"pattern\":{\"fillmode\":\"overlay\",\"size\":10,\"solidity\":0.2}},\"type\":\"bar\"}],\"barpolar\":[{\"marker\":{\"line\":{\"color\":\"#E5ECF6\",\"width\":0.5},\"pattern\":{\"fillmode\":\"overlay\",\"size\":10,\"solidity\":0.2}},\"type\":\"barpolar\"}],\"carpet\":[{\"aaxis\":{\"endlinecolor\":\"#2a3f5f\",\"gridcolor\":\"white\",\"linecolor\":\"white\",\"minorgridcolor\":\"white\",\"startlinecolor\":\"#2a3f5f\"},\"baxis\":{\"endlinecolor\":\"#2a3f5f\",\"gridcolor\":\"white\",\"linecolor\":\"white\",\"minorgridcolor\":\"white\",\"startlinecolor\":\"#2a3f5f\"},\"type\":\"carpet\"}],\"choropleth\":[{\"colorbar\":{\"outlinewidth\":0,\"ticks\":\"\"},\"type\":\"choropleth\"}],\"contour\":[{\"colorbar\":{\"outlinewidth\":0,\"ticks\":\"\"},\"colorscale\":[[0.0,\"#0d0887\"],[0.1111111111111111,\"#46039f\"],[0.2222222222222222,\"#7201a8\"],[0.3333333333333333,\"#9c179e\"],[0.4444444444444444,\"#bd3786\"],[0.5555555555555556,\"#d8576b\"],[0.6666666666666666,\"#ed7953\"],[0.7777777777777778,\"#fb9f3a\"],[0.8888888888888888,\"#fdca26\"],[1.0,\"#f0f921\"]],\"type\":\"contour\"}],\"contourcarpet\":[{\"colorbar\":{\"outlinewidth\":0,\"ticks\":\"\"},\"type\":\"contourcarpet\"}],\"heatmap\":[{\"colorbar\":{\"outlinewidth\":0,\"ticks\":\"\"},\"colorscale\":[[0.0,\"#0d0887\"],[0.1111111111111111,\"#46039f\"],[0.2222222222222222,\"#7201a8\"],[0.3333333333333333,\"#9c179e\"],[0.4444444444444444,\"#bd3786\"],[0.5555555555555556,\"#d8576b\"],[0.6666666666666666,\"#ed7953\"],[0.7777777777777778,\"#fb9f3a\"],[0.8888888888888888,\"#fdca26\"],[1.0,\"#f0f921\"]],\"type\":\"heatmap\"}],\"heatmapgl\":[{\"colorbar\":{\"outlinewidth\":0,\"ticks\":\"\"},\"colorscale\":[[0.0,\"#0d0887\"],[0.1111111111111111,\"#46039f\"],[0.2222222222222222,\"#7201a8\"],[0.3333333333333333,\"#9c179e\"],[0.4444444444444444,\"#bd3786\"],[0.5555555555555556,\"#d8576b\"],[0.6666666666666666,\"#ed7953\"],[0.7777777777777778,\"#fb9f3a\"],[0.8888888888888888,\"#fdca26\"],[1.0,\"#f0f921\"]],\"type\":\"heatmapgl\"}],\"histogram\":[{\"marker\":{\"pattern\":{\"fillmode\":\"overlay\",\"size\":10,\"solidity\":0.2}},\"type\":\"histogram\"}],\"histogram2d\":[{\"colorbar\":{\"outlinewidth\":0,\"ticks\":\"\"},\"colorscale\":[[0.0,\"#0d0887\"],[0.1111111111111111,\"#46039f\"],[0.2222222222222222,\"#7201a8\"],[0.3333333333333333,\"#9c179e\"],[0.4444444444444444,\"#bd3786\"],[0.5555555555555556,\"#d8576b\"],[0.6666666666666666,\"#ed7953\"],[0.7777777777777778,\"#fb9f3a\"],[0.8888888888888888,\"#fdca26\"],[1.0,\"#f0f921\"]],\"type\":\"histogram2d\"}],\"histogram2dcontour\":[{\"colorbar\":{\"outlinewidth\":0,\"ticks\":\"\"},\"colorscale\":[[0.0,\"#0d0887\"],[0.1111111111111111,\"#46039f\"],[0.2222222222222222,\"#7201a8\"],[0.3333333333333333,\"#9c179e\"],[0.4444444444444444,\"#bd3786\"],[0.5555555555555556,\"#d8576b\"],[0.6666666666666666,\"#ed7953\"],[0.7777777777777778,\"#fb9f3a\"],[0.8888888888888888,\"#fdca26\"],[1.0,\"#f0f921\"]],\"type\":\"histogram2dcontour\"}],\"mesh3d\":[{\"colorbar\":{\"outlinewidth\":0,\"ticks\":\"\"},\"type\":\"mesh3d\"}],\"parcoords\":[{\"line\":{\"colorbar\":{\"outlinewidth\":0,\"ticks\":\"\"}},\"type\":\"parcoords\"}],\"pie\":[{\"automargin\":true,\"type\":\"pie\"}],\"scatter\":[{\"marker\":{\"colorbar\":{\"outlinewidth\":0,\"ticks\":\"\"}},\"type\":\"scatter\"}],\"scatter3d\":[{\"line\":{\"colorbar\":{\"outlinewidth\":0,\"ticks\":\"\"}},\"marker\":{\"colorbar\":{\"outlinewidth\":0,\"ticks\":\"\"}},\"type\":\"scatter3d\"}],\"scattercarpet\":[{\"marker\":{\"colorbar\":{\"outlinewidth\":0,\"ticks\":\"\"}},\"type\":\"scattercarpet\"}],\"scattergeo\":[{\"marker\":{\"colorbar\":{\"outlinewidth\":0,\"ticks\":\"\"}},\"type\":\"scattergeo\"}],\"scattergl\":[{\"marker\":{\"colorbar\":{\"outlinewidth\":0,\"ticks\":\"\"}},\"type\":\"scattergl\"}],\"scattermapbox\":[{\"marker\":{\"colorbar\":{\"outlinewidth\":0,\"ticks\":\"\"}},\"type\":\"scattermapbox\"}],\"scatterpolar\":[{\"marker\":{\"colorbar\":{\"outlinewidth\":0,\"ticks\":\"\"}},\"type\":\"scatterpolar\"}],\"scatterpolargl\":[{\"marker\":{\"colorbar\":{\"outlinewidth\":0,\"ticks\":\"\"}},\"type\":\"scatterpolargl\"}],\"scatterternary\":[{\"marker\":{\"colorbar\":{\"outlinewidth\":0,\"ticks\":\"\"}},\"type\":\"scatterternary\"}],\"surface\":[{\"colorbar\":{\"outlinewidth\":0,\"ticks\":\"\"},\"colorscale\":[[0.0,\"#0d0887\"],[0.1111111111111111,\"#46039f\"],[0.2222222222222222,\"#7201a8\"],[0.3333333333333333,\"#9c179e\"],[0.4444444444444444,\"#bd3786\"],[0.5555555555555556,\"#d8576b\"],[0.6666666666666666,\"#ed7953\"],[0.7777777777777778,\"#fb9f3a\"],[0.8888888888888888,\"#fdca26\"],[1.0,\"#f0f921\"]],\"type\":\"surface\"}],\"table\":[{\"cells\":{\"fill\":{\"color\":\"#EBF0F8\"},\"line\":{\"color\":\"white\"}},\"header\":{\"fill\":{\"color\":\"#C8D4E3\"},\"line\":{\"color\":\"white\"}},\"type\":\"table\"}]},\"layout\":{\"annotationdefaults\":{\"arrowcolor\":\"#2a3f5f\",\"arrowhead\":0,\"arrowwidth\":1},\"autotypenumbers\":\"strict\",\"coloraxis\":{\"colorbar\":{\"outlinewidth\":0,\"ticks\":\"\"}},\"colorscale\":{\"diverging\":[[0,\"#8e0152\"],[0.1,\"#c51b7d\"],[0.2,\"#de77ae\"],[0.3,\"#f1b6da\"],[0.4,\"#fde0ef\"],[0.5,\"#f7f7f7\"],[0.6,\"#e6f5d0\"],[0.7,\"#b8e186\"],[0.8,\"#7fbc41\"],[0.9,\"#4d9221\"],[1,\"#276419\"]],\"sequential\":[[0.0,\"#0d0887\"],[0.1111111111111111,\"#46039f\"],[0.2222222222222222,\"#7201a8\"],[0.3333333333333333,\"#9c179e\"],[0.4444444444444444,\"#bd3786\"],[0.5555555555555556,\"#d8576b\"],[0.6666666666666666,\"#ed7953\"],[0.7777777777777778,\"#fb9f3a\"],[0.8888888888888888,\"#fdca26\"],[1.0,\"#f0f921\"]],\"sequentialminus\":[[0.0,\"#0d0887\"],[0.1111111111111111,\"#46039f\"],[0.2222222222222222,\"#7201a8\"],[0.3333333333333333,\"#9c179e\"],[0.4444444444444444,\"#bd3786\"],[0.5555555555555556,\"#d8576b\"],[0.6666666666666666,\"#ed7953\"],[0.7777777777777778,\"#fb9f3a\"],[0.8888888888888888,\"#fdca26\"],[1.0,\"#f0f921\"]]},\"colorway\":[\"#636efa\",\"#EF553B\",\"#00cc96\",\"#ab63fa\",\"#FFA15A\",\"#19d3f3\",\"#FF6692\",\"#B6E880\",\"#FF97FF\",\"#FECB52\"],\"font\":{\"color\":\"#2a3f5f\"},\"geo\":{\"bgcolor\":\"white\",\"lakecolor\":\"white\",\"landcolor\":\"#E5ECF6\",\"showlakes\":true,\"showland\":true,\"subunitcolor\":\"white\"},\"hoverlabel\":{\"align\":\"left\"},\"hovermode\":\"closest\",\"mapbox\":{\"style\":\"light\"},\"paper_bgcolor\":\"white\",\"plot_bgcolor\":\"#E5ECF6\",\"polar\":{\"angularaxis\":{\"gridcolor\":\"white\",\"linecolor\":\"white\",\"ticks\":\"\"},\"bgcolor\":\"#E5ECF6\",\"radialaxis\":{\"gridcolor\":\"white\",\"linecolor\":\"white\",\"ticks\":\"\"}},\"scene\":{\"xaxis\":{\"backgroundcolor\":\"#E5ECF6\",\"gridcolor\":\"white\",\"gridwidth\":2,\"linecolor\":\"white\",\"showbackground\":true,\"ticks\":\"\",\"zerolinecolor\":\"white\"},\"yaxis\":{\"backgroundcolor\":\"#E5ECF6\",\"gridcolor\":\"white\",\"gridwidth\":2,\"linecolor\":\"white\",\"showbackground\":true,\"ticks\":\"\",\"zerolinecolor\":\"white\"},\"zaxis\":{\"backgroundcolor\":\"#E5ECF6\",\"gridcolor\":\"white\",\"gridwidth\":2,\"linecolor\":\"white\",\"showbackground\":true,\"ticks\":\"\",\"zerolinecolor\":\"white\"}},\"shapedefaults\":{\"line\":{\"color\":\"#2a3f5f\"}},\"ternary\":{\"aaxis\":{\"gridcolor\":\"white\",\"linecolor\":\"white\",\"ticks\":\"\"},\"baxis\":{\"gridcolor\":\"white\",\"linecolor\":\"white\",\"ticks\":\"\"},\"bgcolor\":\"#E5ECF6\",\"caxis\":{\"gridcolor\":\"white\",\"linecolor\":\"white\",\"ticks\":\"\"}},\"title\":{\"x\":0.05},\"xaxis\":{\"automargin\":true,\"gridcolor\":\"white\",\"linecolor\":\"white\",\"ticks\":\"\",\"title\":{\"standoff\":15},\"zerolinecolor\":\"white\",\"zerolinewidth\":2},\"yaxis\":{\"automargin\":true,\"gridcolor\":\"white\",\"linecolor\":\"white\",\"ticks\":\"\",\"title\":{\"standoff\":15},\"zerolinecolor\":\"white\",\"zerolinewidth\":2}}},\"xaxis\":{\"anchor\":\"y\",\"domain\":[0.0,1.0],\"title\":{\"text\":\"Count\"}},\"yaxis\":{\"anchor\":\"x\",\"domain\":[0.0,1.0],\"title\":{\"text\":\"Common words\"},\"categoryorder\":\"array\",\"categoryarray\":[\"much\",\"make\",\"back\",\"still\",\"suck\",\"time\",\"think\",\"bad\",\"one\",\"hate\",\"know\",\"today\",\"realli\",\"sorri\",\"got\",\"sad\",\"want\",\"day\",\"feel\",\"cannot\",\"like\",\"work\",\"go\",\"get\"]},\"legend\":{\"title\":{\"text\":\"Common words\"},\"tracegroupgap\":0},\"title\":{\"text\":\"Most commmon negative words\"},\"barmode\":\"relative\",\"height\":700,\"width\":700},                        {\"responsive\": true}                    ).then(function(){\n",
              "                            \n",
              "var gd = document.getElementById('0202373f-7c36-4cac-9f14-70f41411dea5');\n",
              "var x = new MutationObserver(function (mutations, observer) {{\n",
              "        var display = window.getComputedStyle(gd).display;\n",
              "        if (!display || display === 'none') {{\n",
              "            console.log([gd, 'removed!']);\n",
              "            Plotly.purge(gd);\n",
              "            observer.disconnect();\n",
              "        }}\n",
              "}});\n",
              "\n",
              "// Listen for the removal of the full notebook cells\n",
              "var notebookContainer = gd.closest('#notebook-container');\n",
              "if (notebookContainer) {{\n",
              "    x.observe(notebookContainer, {childList: true});\n",
              "}}\n",
              "\n",
              "// Listen for the clearing of the current output cell\n",
              "var outputEl = gd.closest('.output');\n",
              "if (outputEl) {{\n",
              "    x.observe(outputEl, {childList: true});\n",
              "}}\n",
              "\n",
              "                        })                };                            </script>        </div>\n",
              "</body>\n",
              "</html>"
            ]
          },
          "metadata": {}
        }
      ]
    },
    {
      "cell_type": "code",
      "source": [
        "#Most common neutral words\n",
        "\n",
        "neutral = train[train['sentiment']=='neutral']\n",
        "\n",
        "tempList = neutral['text'].apply(lambda x:str(x).split())\n",
        "\n",
        "top = Counter([item for sublist in tempList for item in sublist])\n",
        "temp = pd.DataFrame(top.most_common(25))\n",
        "temp = temp.iloc[1:,:]\n",
        "temp.columns = ['Common words','Count']\n",
        "temp.style.background_gradient(cmap='Blues')"
      ],
      "metadata": {
        "id": "yhUw1vVzTI5t",
        "outputId": "b3a4de60-a169-400e-b4d0-543b932cb88d",
        "colab": {
          "base_uri": "https://localhost:8080/",
          "height": 802
        }
      },
      "execution_count": 31,
      "outputs": [
        {
          "output_type": "execute_result",
          "data": {
            "text/plain": [
              "<pandas.io.formats.style.Styler at 0x7fb908493790>"
            ],
            "text/html": [
              "<style type=\"text/css\">\n",
              "#T_f3a3c_row0_col1, #T_f3a3c_row1_col1 {\n",
              "  background-color: #08306b;\n",
              "  color: #f1f1f1;\n",
              "}\n",
              "#T_f3a3c_row2_col1 {\n",
              "  background-color: #083573;\n",
              "  color: #f1f1f1;\n",
              "}\n",
              "#T_f3a3c_row3_col1 {\n",
              "  background-color: #2d7dbb;\n",
              "  color: #f1f1f1;\n",
              "}\n",
              "#T_f3a3c_row4_col1 {\n",
              "  background-color: #3181bd;\n",
              "  color: #f1f1f1;\n",
              "}\n",
              "#T_f3a3c_row5_col1 {\n",
              "  background-color: #56a0ce;\n",
              "  color: #f1f1f1;\n",
              "}\n",
              "#T_f3a3c_row6_col1 {\n",
              "  background-color: #65aad4;\n",
              "  color: #f1f1f1;\n",
              "}\n",
              "#T_f3a3c_row7_col1 {\n",
              "  background-color: #6aaed6;\n",
              "  color: #f1f1f1;\n",
              "}\n",
              "#T_f3a3c_row8_col1 {\n",
              "  background-color: #7ab6d9;\n",
              "  color: #000000;\n",
              "}\n",
              "#T_f3a3c_row9_col1 {\n",
              "  background-color: #84bcdb;\n",
              "  color: #000000;\n",
              "}\n",
              "#T_f3a3c_row10_col1 {\n",
              "  background-color: #8dc1dd;\n",
              "  color: #000000;\n",
              "}\n",
              "#T_f3a3c_row11_col1 {\n",
              "  background-color: #a4cce3;\n",
              "  color: #000000;\n",
              "}\n",
              "#T_f3a3c_row12_col1 {\n",
              "  background-color: #bfd8ed;\n",
              "  color: #000000;\n",
              "}\n",
              "#T_f3a3c_row13_col1 {\n",
              "  background-color: #d0e1f2;\n",
              "  color: #000000;\n",
              "}\n",
              "#T_f3a3c_row14_col1 {\n",
              "  background-color: #d1e2f3;\n",
              "  color: #000000;\n",
              "}\n",
              "#T_f3a3c_row15_col1 {\n",
              "  background-color: #d5e5f4;\n",
              "  color: #000000;\n",
              "}\n",
              "#T_f3a3c_row16_col1 {\n",
              "  background-color: #dfecf7;\n",
              "  color: #000000;\n",
              "}\n",
              "#T_f3a3c_row17_col1 {\n",
              "  background-color: #e3eef8;\n",
              "  color: #000000;\n",
              "}\n",
              "#T_f3a3c_row18_col1 {\n",
              "  background-color: #e7f1fa;\n",
              "  color: #000000;\n",
              "}\n",
              "#T_f3a3c_row19_col1 {\n",
              "  background-color: #ebf3fb;\n",
              "  color: #000000;\n",
              "}\n",
              "#T_f3a3c_row20_col1 {\n",
              "  background-color: #ecf4fb;\n",
              "  color: #000000;\n",
              "}\n",
              "#T_f3a3c_row21_col1 {\n",
              "  background-color: #f1f7fd;\n",
              "  color: #000000;\n",
              "}\n",
              "#T_f3a3c_row22_col1 {\n",
              "  background-color: #f5f9fe;\n",
              "  color: #000000;\n",
              "}\n",
              "#T_f3a3c_row23_col1 {\n",
              "  background-color: #f7fbff;\n",
              "  color: #000000;\n",
              "}\n",
              "</style>\n",
              "<table id=\"T_f3a3c_\" class=\"dataframe\">\n",
              "  <thead>\n",
              "    <tr>\n",
              "      <th class=\"blank level0\" >&nbsp;</th>\n",
              "      <th class=\"col_heading level0 col0\" >Common words</th>\n",
              "      <th class=\"col_heading level0 col1\" >Count</th>\n",
              "    </tr>\n",
              "  </thead>\n",
              "  <tbody>\n",
              "    <tr>\n",
              "      <th id=\"T_f3a3c_level0_row0\" class=\"row_heading level0 row0\" >1</th>\n",
              "      <td id=\"T_f3a3c_row0_col0\" class=\"data row0 col0\" >work</td>\n",
              "      <td id=\"T_f3a3c_row0_col1\" class=\"data row0 col1\" >666</td>\n",
              "    </tr>\n",
              "    <tr>\n",
              "      <th id=\"T_f3a3c_level0_row1\" class=\"row_heading level0 row1\" >2</th>\n",
              "      <td id=\"T_f3a3c_row1_col0\" class=\"data row1 col0\" >day</td>\n",
              "      <td id=\"T_f3a3c_row1_col1\" class=\"data row1 col1\" >665</td>\n",
              "    </tr>\n",
              "    <tr>\n",
              "      <th id=\"T_f3a3c_level0_row2\" class=\"row_heading level0 row2\" >3</th>\n",
              "      <td id=\"T_f3a3c_row2_col0\" class=\"data row2 col0\" >go</td>\n",
              "      <td id=\"T_f3a3c_row2_col1\" class=\"data row2 col1\" >658</td>\n",
              "    </tr>\n",
              "    <tr>\n",
              "      <th id=\"T_f3a3c_level0_row3\" class=\"row_heading level0 row3\" >4</th>\n",
              "      <td id=\"T_f3a3c_row3_col0\" class=\"data row3 col0\" >want</td>\n",
              "      <td id=\"T_f3a3c_row3_col1\" class=\"data row3 col1\" >553</td>\n",
              "    </tr>\n",
              "    <tr>\n",
              "      <th id=\"T_f3a3c_level0_row4\" class=\"row_heading level0 row4\" >5</th>\n",
              "      <td id=\"T_f3a3c_row4_col0\" class=\"data row4 col0\" >got</td>\n",
              "      <td id=\"T_f3a3c_row4_col1\" class=\"data row4 col1\" >548</td>\n",
              "    </tr>\n",
              "    <tr>\n",
              "      <th id=\"T_f3a3c_level0_row5\" class=\"row_heading level0 row5\" >6</th>\n",
              "      <td id=\"T_f3a3c_row5_col0\" class=\"data row5 col0\" >lol</td>\n",
              "      <td id=\"T_f3a3c_row5_col1\" class=\"data row5 col1\" >500</td>\n",
              "    </tr>\n",
              "    <tr>\n",
              "      <th id=\"T_f3a3c_level0_row6\" class=\"row_heading level0 row6\" >7</th>\n",
              "      <td id=\"T_f3a3c_row6_col0\" class=\"data row6 col0\" >like</td>\n",
              "      <td id=\"T_f3a3c_row6_col1\" class=\"data row6 col1\" >482</td>\n",
              "    </tr>\n",
              "    <tr>\n",
              "      <th id=\"T_f3a3c_level0_row7\" class=\"row_heading level0 row7\" >8</th>\n",
              "      <td id=\"T_f3a3c_row7_col0\" class=\"data row7 col0\" >time</td>\n",
              "      <td id=\"T_f3a3c_row7_col1\" class=\"data row7 col1\" >476</td>\n",
              "    </tr>\n",
              "    <tr>\n",
              "      <th id=\"T_f3a3c_level0_row8\" class=\"row_heading level0 row8\" >9</th>\n",
              "      <td id=\"T_f3a3c_row8_col0\" class=\"data row8 col0\" >know</td>\n",
              "      <td id=\"T_f3a3c_row8_col1\" class=\"data row8 col1\" >462</td>\n",
              "    </tr>\n",
              "    <tr>\n",
              "      <th id=\"T_f3a3c_level0_row9\" class=\"row_heading level0 row9\" >10</th>\n",
              "      <td id=\"T_f3a3c_row9_col0\" class=\"data row9 col0\" >today</td>\n",
              "      <td id=\"T_f3a3c_row9_col1\" class=\"data row9 col1\" >452</td>\n",
              "    </tr>\n",
              "    <tr>\n",
              "      <th id=\"T_f3a3c_level0_row10\" class=\"row_heading level0 row10\" >11</th>\n",
              "      <td id=\"T_f3a3c_row10_col0\" class=\"data row10 col0\" >one</td>\n",
              "      <td id=\"T_f3a3c_row10_col1\" class=\"data row10 col1\" >443</td>\n",
              "    </tr>\n",
              "    <tr>\n",
              "      <th id=\"T_f3a3c_level0_row11\" class=\"row_heading level0 row11\" >12</th>\n",
              "      <td id=\"T_f3a3c_row11_col0\" class=\"data row11 col0\" >back</td>\n",
              "      <td id=\"T_f3a3c_row11_col1\" class=\"data row11 col1\" >421</td>\n",
              "    </tr>\n",
              "    <tr>\n",
              "      <th id=\"T_f3a3c_level0_row12\" class=\"row_heading level0 row12\" >13</th>\n",
              "      <td id=\"T_f3a3c_row12_col0\" class=\"data row12 col0\" >see</td>\n",
              "      <td id=\"T_f3a3c_row12_col1\" class=\"data row12 col1\" >389</td>\n",
              "    </tr>\n",
              "    <tr>\n",
              "      <th id=\"T_f3a3c_level0_row13\" class=\"row_heading level0 row13\" >14</th>\n",
              "      <td id=\"T_f3a3c_row13_col0\" class=\"data row13 col0\" >think</td>\n",
              "      <td id=\"T_f3a3c_row13_col1\" class=\"data row13 col1\" >362</td>\n",
              "    </tr>\n",
              "    <tr>\n",
              "      <th id=\"T_f3a3c_level0_row14\" class=\"row_heading level0 row14\" >15</th>\n",
              "      <td id=\"T_f3a3c_row14_col0\" class=\"data row14 col0\" >cannot</td>\n",
              "      <td id=\"T_f3a3c_row14_col1\" class=\"data row14 col1\" >358</td>\n",
              "    </tr>\n",
              "    <tr>\n",
              "      <th id=\"T_f3a3c_level0_row15\" class=\"row_heading level0 row15\" >16</th>\n",
              "      <td id=\"T_f3a3c_row15_col0\" class=\"data row15 col0\" >home</td>\n",
              "      <td id=\"T_f3a3c_row15_col1\" class=\"data row15 col1\" >351</td>\n",
              "    </tr>\n",
              "    <tr>\n",
              "      <th id=\"T_f3a3c_level0_row16\" class=\"row_heading level0 row16\" >17</th>\n",
              "      <td id=\"T_f3a3c_row16_col0\" class=\"data row16 col0\" >need</td>\n",
              "      <td id=\"T_f3a3c_row16_col1\" class=\"data row16 col1\" >331</td>\n",
              "    </tr>\n",
              "    <tr>\n",
              "      <th id=\"T_f3a3c_level0_row17\" class=\"row_heading level0 row17\" >18</th>\n",
              "      <td id=\"T_f3a3c_row17_col0\" class=\"data row17 col0\" >new</td>\n",
              "      <td id=\"T_f3a3c_row17_col1\" class=\"data row17 col1\" >324</td>\n",
              "    </tr>\n",
              "    <tr>\n",
              "      <th id=\"T_f3a3c_level0_row18\" class=\"row_heading level0 row18\" >19</th>\n",
              "      <td id=\"T_f3a3c_row18_col0\" class=\"data row18 col0\" >good</td>\n",
              "      <td id=\"T_f3a3c_row18_col1\" class=\"data row18 col1\" >315</td>\n",
              "    </tr>\n",
              "    <tr>\n",
              "      <th id=\"T_f3a3c_level0_row19\" class=\"row_heading level0 row19\" >20</th>\n",
              "      <td id=\"T_f3a3c_row19_col0\" class=\"data row19 col0\" >watch</td>\n",
              "      <td id=\"T_f3a3c_row19_col1\" class=\"data row19 col1\" >308</td>\n",
              "    </tr>\n",
              "    <tr>\n",
              "      <th id=\"T_f3a3c_level0_row20\" class=\"row_heading level0 row20\" >21</th>\n",
              "      <td id=\"T_f3a3c_row20_col0\" class=\"data row20 col0\" >would</td>\n",
              "      <td id=\"T_f3a3c_row20_col1\" class=\"data row20 col1\" >307</td>\n",
              "    </tr>\n",
              "    <tr>\n",
              "      <th id=\"T_f3a3c_level0_row21\" class=\"row_heading level0 row21\" >22</th>\n",
              "      <td id=\"T_f3a3c_row21_col0\" class=\"data row21 col0\" >night</td>\n",
              "      <td id=\"T_f3a3c_row21_col1\" class=\"data row21 col1\" >297</td>\n",
              "    </tr>\n",
              "    <tr>\n",
              "      <th id=\"T_f3a3c_level0_row22\" class=\"row_heading level0 row22\" >23</th>\n",
              "      <td id=\"T_f3a3c_row22_col0\" class=\"data row22 col0\" >make</td>\n",
              "      <td id=\"T_f3a3c_row22_col1\" class=\"data row22 col1\" >290</td>\n",
              "    </tr>\n",
              "    <tr>\n",
              "      <th id=\"T_f3a3c_level0_row23\" class=\"row_heading level0 row23\" >24</th>\n",
              "      <td id=\"T_f3a3c_row23_col0\" class=\"data row23 col0\" >still</td>\n",
              "      <td id=\"T_f3a3c_row23_col1\" class=\"data row23 col1\" >285</td>\n",
              "    </tr>\n",
              "  </tbody>\n",
              "</table>\n"
            ]
          },
          "metadata": {},
          "execution_count": 31
        }
      ]
    },
    {
      "cell_type": "code",
      "source": [
        "fig = px.bar(temp, x=\"Count\", y=\"Common words\", title='Most commmon neutral words', orientation='h', width=700, height=700,color='Common words')\n",
        "fig.show()"
      ],
      "metadata": {
        "id": "-PGVQULAUhMd",
        "outputId": "2ef97429-561a-462d-fd3e-eecec41194a1",
        "colab": {
          "base_uri": "https://localhost:8080/",
          "height": 717
        }
      },
      "execution_count": 32,
      "outputs": [
        {
          "output_type": "display_data",
          "data": {
            "text/html": [
              "<html>\n",
              "<head><meta charset=\"utf-8\" /></head>\n",
              "<body>\n",
              "    <div>            <script src=\"https://cdnjs.cloudflare.com/ajax/libs/mathjax/2.7.5/MathJax.js?config=TeX-AMS-MML_SVG\"></script><script type=\"text/javascript\">if (window.MathJax) {MathJax.Hub.Config({SVG: {font: \"STIX-Web\"}});}</script>                <script type=\"text/javascript\">window.PlotlyConfig = {MathJaxConfig: 'local'};</script>\n",
              "        <script src=\"https://cdn.plot.ly/plotly-2.8.3.min.js\"></script>                <div id=\"041f5930-168d-4c6b-ab58-1a9771e9ddcb\" class=\"plotly-graph-div\" style=\"height:700px; width:700px;\"></div>            <script type=\"text/javascript\">                                    window.PLOTLYENV=window.PLOTLYENV || {};                                    if (document.getElementById(\"041f5930-168d-4c6b-ab58-1a9771e9ddcb\")) {                    Plotly.newPlot(                        \"041f5930-168d-4c6b-ab58-1a9771e9ddcb\",                        [{\"alignmentgroup\":\"True\",\"hovertemplate\":\"Common words=%{y}<br>Count=%{x}<extra></extra>\",\"legendgroup\":\"work\",\"marker\":{\"color\":\"#636efa\",\"pattern\":{\"shape\":\"\"}},\"name\":\"work\",\"offsetgroup\":\"work\",\"orientation\":\"h\",\"showlegend\":true,\"textposition\":\"auto\",\"x\":[666],\"xaxis\":\"x\",\"y\":[\"work\"],\"yaxis\":\"y\",\"type\":\"bar\"},{\"alignmentgroup\":\"True\",\"hovertemplate\":\"Common words=%{y}<br>Count=%{x}<extra></extra>\",\"legendgroup\":\"day\",\"marker\":{\"color\":\"#EF553B\",\"pattern\":{\"shape\":\"\"}},\"name\":\"day\",\"offsetgroup\":\"day\",\"orientation\":\"h\",\"showlegend\":true,\"textposition\":\"auto\",\"x\":[665],\"xaxis\":\"x\",\"y\":[\"day\"],\"yaxis\":\"y\",\"type\":\"bar\"},{\"alignmentgroup\":\"True\",\"hovertemplate\":\"Common words=%{y}<br>Count=%{x}<extra></extra>\",\"legendgroup\":\"go\",\"marker\":{\"color\":\"#00cc96\",\"pattern\":{\"shape\":\"\"}},\"name\":\"go\",\"offsetgroup\":\"go\",\"orientation\":\"h\",\"showlegend\":true,\"textposition\":\"auto\",\"x\":[658],\"xaxis\":\"x\",\"y\":[\"go\"],\"yaxis\":\"y\",\"type\":\"bar\"},{\"alignmentgroup\":\"True\",\"hovertemplate\":\"Common words=%{y}<br>Count=%{x}<extra></extra>\",\"legendgroup\":\"want\",\"marker\":{\"color\":\"#ab63fa\",\"pattern\":{\"shape\":\"\"}},\"name\":\"want\",\"offsetgroup\":\"want\",\"orientation\":\"h\",\"showlegend\":true,\"textposition\":\"auto\",\"x\":[553],\"xaxis\":\"x\",\"y\":[\"want\"],\"yaxis\":\"y\",\"type\":\"bar\"},{\"alignmentgroup\":\"True\",\"hovertemplate\":\"Common words=%{y}<br>Count=%{x}<extra></extra>\",\"legendgroup\":\"got\",\"marker\":{\"color\":\"#FFA15A\",\"pattern\":{\"shape\":\"\"}},\"name\":\"got\",\"offsetgroup\":\"got\",\"orientation\":\"h\",\"showlegend\":true,\"textposition\":\"auto\",\"x\":[548],\"xaxis\":\"x\",\"y\":[\"got\"],\"yaxis\":\"y\",\"type\":\"bar\"},{\"alignmentgroup\":\"True\",\"hovertemplate\":\"Common words=%{y}<br>Count=%{x}<extra></extra>\",\"legendgroup\":\"lol\",\"marker\":{\"color\":\"#19d3f3\",\"pattern\":{\"shape\":\"\"}},\"name\":\"lol\",\"offsetgroup\":\"lol\",\"orientation\":\"h\",\"showlegend\":true,\"textposition\":\"auto\",\"x\":[500],\"xaxis\":\"x\",\"y\":[\"lol\"],\"yaxis\":\"y\",\"type\":\"bar\"},{\"alignmentgroup\":\"True\",\"hovertemplate\":\"Common words=%{y}<br>Count=%{x}<extra></extra>\",\"legendgroup\":\"like\",\"marker\":{\"color\":\"#FF6692\",\"pattern\":{\"shape\":\"\"}},\"name\":\"like\",\"offsetgroup\":\"like\",\"orientation\":\"h\",\"showlegend\":true,\"textposition\":\"auto\",\"x\":[482],\"xaxis\":\"x\",\"y\":[\"like\"],\"yaxis\":\"y\",\"type\":\"bar\"},{\"alignmentgroup\":\"True\",\"hovertemplate\":\"Common words=%{y}<br>Count=%{x}<extra></extra>\",\"legendgroup\":\"time\",\"marker\":{\"color\":\"#B6E880\",\"pattern\":{\"shape\":\"\"}},\"name\":\"time\",\"offsetgroup\":\"time\",\"orientation\":\"h\",\"showlegend\":true,\"textposition\":\"auto\",\"x\":[476],\"xaxis\":\"x\",\"y\":[\"time\"],\"yaxis\":\"y\",\"type\":\"bar\"},{\"alignmentgroup\":\"True\",\"hovertemplate\":\"Common words=%{y}<br>Count=%{x}<extra></extra>\",\"legendgroup\":\"know\",\"marker\":{\"color\":\"#FF97FF\",\"pattern\":{\"shape\":\"\"}},\"name\":\"know\",\"offsetgroup\":\"know\",\"orientation\":\"h\",\"showlegend\":true,\"textposition\":\"auto\",\"x\":[462],\"xaxis\":\"x\",\"y\":[\"know\"],\"yaxis\":\"y\",\"type\":\"bar\"},{\"alignmentgroup\":\"True\",\"hovertemplate\":\"Common words=%{y}<br>Count=%{x}<extra></extra>\",\"legendgroup\":\"today\",\"marker\":{\"color\":\"#FECB52\",\"pattern\":{\"shape\":\"\"}},\"name\":\"today\",\"offsetgroup\":\"today\",\"orientation\":\"h\",\"showlegend\":true,\"textposition\":\"auto\",\"x\":[452],\"xaxis\":\"x\",\"y\":[\"today\"],\"yaxis\":\"y\",\"type\":\"bar\"},{\"alignmentgroup\":\"True\",\"hovertemplate\":\"Common words=%{y}<br>Count=%{x}<extra></extra>\",\"legendgroup\":\"one\",\"marker\":{\"color\":\"#636efa\",\"pattern\":{\"shape\":\"\"}},\"name\":\"one\",\"offsetgroup\":\"one\",\"orientation\":\"h\",\"showlegend\":true,\"textposition\":\"auto\",\"x\":[443],\"xaxis\":\"x\",\"y\":[\"one\"],\"yaxis\":\"y\",\"type\":\"bar\"},{\"alignmentgroup\":\"True\",\"hovertemplate\":\"Common words=%{y}<br>Count=%{x}<extra></extra>\",\"legendgroup\":\"back\",\"marker\":{\"color\":\"#EF553B\",\"pattern\":{\"shape\":\"\"}},\"name\":\"back\",\"offsetgroup\":\"back\",\"orientation\":\"h\",\"showlegend\":true,\"textposition\":\"auto\",\"x\":[421],\"xaxis\":\"x\",\"y\":[\"back\"],\"yaxis\":\"y\",\"type\":\"bar\"},{\"alignmentgroup\":\"True\",\"hovertemplate\":\"Common words=%{y}<br>Count=%{x}<extra></extra>\",\"legendgroup\":\"see\",\"marker\":{\"color\":\"#00cc96\",\"pattern\":{\"shape\":\"\"}},\"name\":\"see\",\"offsetgroup\":\"see\",\"orientation\":\"h\",\"showlegend\":true,\"textposition\":\"auto\",\"x\":[389],\"xaxis\":\"x\",\"y\":[\"see\"],\"yaxis\":\"y\",\"type\":\"bar\"},{\"alignmentgroup\":\"True\",\"hovertemplate\":\"Common words=%{y}<br>Count=%{x}<extra></extra>\",\"legendgroup\":\"think\",\"marker\":{\"color\":\"#ab63fa\",\"pattern\":{\"shape\":\"\"}},\"name\":\"think\",\"offsetgroup\":\"think\",\"orientation\":\"h\",\"showlegend\":true,\"textposition\":\"auto\",\"x\":[362],\"xaxis\":\"x\",\"y\":[\"think\"],\"yaxis\":\"y\",\"type\":\"bar\"},{\"alignmentgroup\":\"True\",\"hovertemplate\":\"Common words=%{y}<br>Count=%{x}<extra></extra>\",\"legendgroup\":\"cannot\",\"marker\":{\"color\":\"#FFA15A\",\"pattern\":{\"shape\":\"\"}},\"name\":\"cannot\",\"offsetgroup\":\"cannot\",\"orientation\":\"h\",\"showlegend\":true,\"textposition\":\"auto\",\"x\":[358],\"xaxis\":\"x\",\"y\":[\"cannot\"],\"yaxis\":\"y\",\"type\":\"bar\"},{\"alignmentgroup\":\"True\",\"hovertemplate\":\"Common words=%{y}<br>Count=%{x}<extra></extra>\",\"legendgroup\":\"home\",\"marker\":{\"color\":\"#19d3f3\",\"pattern\":{\"shape\":\"\"}},\"name\":\"home\",\"offsetgroup\":\"home\",\"orientation\":\"h\",\"showlegend\":true,\"textposition\":\"auto\",\"x\":[351],\"xaxis\":\"x\",\"y\":[\"home\"],\"yaxis\":\"y\",\"type\":\"bar\"},{\"alignmentgroup\":\"True\",\"hovertemplate\":\"Common words=%{y}<br>Count=%{x}<extra></extra>\",\"legendgroup\":\"need\",\"marker\":{\"color\":\"#FF6692\",\"pattern\":{\"shape\":\"\"}},\"name\":\"need\",\"offsetgroup\":\"need\",\"orientation\":\"h\",\"showlegend\":true,\"textposition\":\"auto\",\"x\":[331],\"xaxis\":\"x\",\"y\":[\"need\"],\"yaxis\":\"y\",\"type\":\"bar\"},{\"alignmentgroup\":\"True\",\"hovertemplate\":\"Common words=%{y}<br>Count=%{x}<extra></extra>\",\"legendgroup\":\"new\",\"marker\":{\"color\":\"#B6E880\",\"pattern\":{\"shape\":\"\"}},\"name\":\"new\",\"offsetgroup\":\"new\",\"orientation\":\"h\",\"showlegend\":true,\"textposition\":\"auto\",\"x\":[324],\"xaxis\":\"x\",\"y\":[\"new\"],\"yaxis\":\"y\",\"type\":\"bar\"},{\"alignmentgroup\":\"True\",\"hovertemplate\":\"Common words=%{y}<br>Count=%{x}<extra></extra>\",\"legendgroup\":\"good\",\"marker\":{\"color\":\"#FF97FF\",\"pattern\":{\"shape\":\"\"}},\"name\":\"good\",\"offsetgroup\":\"good\",\"orientation\":\"h\",\"showlegend\":true,\"textposition\":\"auto\",\"x\":[315],\"xaxis\":\"x\",\"y\":[\"good\"],\"yaxis\":\"y\",\"type\":\"bar\"},{\"alignmentgroup\":\"True\",\"hovertemplate\":\"Common words=%{y}<br>Count=%{x}<extra></extra>\",\"legendgroup\":\"watch\",\"marker\":{\"color\":\"#FECB52\",\"pattern\":{\"shape\":\"\"}},\"name\":\"watch\",\"offsetgroup\":\"watch\",\"orientation\":\"h\",\"showlegend\":true,\"textposition\":\"auto\",\"x\":[308],\"xaxis\":\"x\",\"y\":[\"watch\"],\"yaxis\":\"y\",\"type\":\"bar\"},{\"alignmentgroup\":\"True\",\"hovertemplate\":\"Common words=%{y}<br>Count=%{x}<extra></extra>\",\"legendgroup\":\"would\",\"marker\":{\"color\":\"#636efa\",\"pattern\":{\"shape\":\"\"}},\"name\":\"would\",\"offsetgroup\":\"would\",\"orientation\":\"h\",\"showlegend\":true,\"textposition\":\"auto\",\"x\":[307],\"xaxis\":\"x\",\"y\":[\"would\"],\"yaxis\":\"y\",\"type\":\"bar\"},{\"alignmentgroup\":\"True\",\"hovertemplate\":\"Common words=%{y}<br>Count=%{x}<extra></extra>\",\"legendgroup\":\"night\",\"marker\":{\"color\":\"#EF553B\",\"pattern\":{\"shape\":\"\"}},\"name\":\"night\",\"offsetgroup\":\"night\",\"orientation\":\"h\",\"showlegend\":true,\"textposition\":\"auto\",\"x\":[297],\"xaxis\":\"x\",\"y\":[\"night\"],\"yaxis\":\"y\",\"type\":\"bar\"},{\"alignmentgroup\":\"True\",\"hovertemplate\":\"Common words=%{y}<br>Count=%{x}<extra></extra>\",\"legendgroup\":\"make\",\"marker\":{\"color\":\"#00cc96\",\"pattern\":{\"shape\":\"\"}},\"name\":\"make\",\"offsetgroup\":\"make\",\"orientation\":\"h\",\"showlegend\":true,\"textposition\":\"auto\",\"x\":[290],\"xaxis\":\"x\",\"y\":[\"make\"],\"yaxis\":\"y\",\"type\":\"bar\"},{\"alignmentgroup\":\"True\",\"hovertemplate\":\"Common words=%{y}<br>Count=%{x}<extra></extra>\",\"legendgroup\":\"still\",\"marker\":{\"color\":\"#ab63fa\",\"pattern\":{\"shape\":\"\"}},\"name\":\"still\",\"offsetgroup\":\"still\",\"orientation\":\"h\",\"showlegend\":true,\"textposition\":\"auto\",\"x\":[285],\"xaxis\":\"x\",\"y\":[\"still\"],\"yaxis\":\"y\",\"type\":\"bar\"}],                        {\"template\":{\"data\":{\"bar\":[{\"error_x\":{\"color\":\"#2a3f5f\"},\"error_y\":{\"color\":\"#2a3f5f\"},\"marker\":{\"line\":{\"color\":\"#E5ECF6\",\"width\":0.5},\"pattern\":{\"fillmode\":\"overlay\",\"size\":10,\"solidity\":0.2}},\"type\":\"bar\"}],\"barpolar\":[{\"marker\":{\"line\":{\"color\":\"#E5ECF6\",\"width\":0.5},\"pattern\":{\"fillmode\":\"overlay\",\"size\":10,\"solidity\":0.2}},\"type\":\"barpolar\"}],\"carpet\":[{\"aaxis\":{\"endlinecolor\":\"#2a3f5f\",\"gridcolor\":\"white\",\"linecolor\":\"white\",\"minorgridcolor\":\"white\",\"startlinecolor\":\"#2a3f5f\"},\"baxis\":{\"endlinecolor\":\"#2a3f5f\",\"gridcolor\":\"white\",\"linecolor\":\"white\",\"minorgridcolor\":\"white\",\"startlinecolor\":\"#2a3f5f\"},\"type\":\"carpet\"}],\"choropleth\":[{\"colorbar\":{\"outlinewidth\":0,\"ticks\":\"\"},\"type\":\"choropleth\"}],\"contour\":[{\"colorbar\":{\"outlinewidth\":0,\"ticks\":\"\"},\"colorscale\":[[0.0,\"#0d0887\"],[0.1111111111111111,\"#46039f\"],[0.2222222222222222,\"#7201a8\"],[0.3333333333333333,\"#9c179e\"],[0.4444444444444444,\"#bd3786\"],[0.5555555555555556,\"#d8576b\"],[0.6666666666666666,\"#ed7953\"],[0.7777777777777778,\"#fb9f3a\"],[0.8888888888888888,\"#fdca26\"],[1.0,\"#f0f921\"]],\"type\":\"contour\"}],\"contourcarpet\":[{\"colorbar\":{\"outlinewidth\":0,\"ticks\":\"\"},\"type\":\"contourcarpet\"}],\"heatmap\":[{\"colorbar\":{\"outlinewidth\":0,\"ticks\":\"\"},\"colorscale\":[[0.0,\"#0d0887\"],[0.1111111111111111,\"#46039f\"],[0.2222222222222222,\"#7201a8\"],[0.3333333333333333,\"#9c179e\"],[0.4444444444444444,\"#bd3786\"],[0.5555555555555556,\"#d8576b\"],[0.6666666666666666,\"#ed7953\"],[0.7777777777777778,\"#fb9f3a\"],[0.8888888888888888,\"#fdca26\"],[1.0,\"#f0f921\"]],\"type\":\"heatmap\"}],\"heatmapgl\":[{\"colorbar\":{\"outlinewidth\":0,\"ticks\":\"\"},\"colorscale\":[[0.0,\"#0d0887\"],[0.1111111111111111,\"#46039f\"],[0.2222222222222222,\"#7201a8\"],[0.3333333333333333,\"#9c179e\"],[0.4444444444444444,\"#bd3786\"],[0.5555555555555556,\"#d8576b\"],[0.6666666666666666,\"#ed7953\"],[0.7777777777777778,\"#fb9f3a\"],[0.8888888888888888,\"#fdca26\"],[1.0,\"#f0f921\"]],\"type\":\"heatmapgl\"}],\"histogram\":[{\"marker\":{\"pattern\":{\"fillmode\":\"overlay\",\"size\":10,\"solidity\":0.2}},\"type\":\"histogram\"}],\"histogram2d\":[{\"colorbar\":{\"outlinewidth\":0,\"ticks\":\"\"},\"colorscale\":[[0.0,\"#0d0887\"],[0.1111111111111111,\"#46039f\"],[0.2222222222222222,\"#7201a8\"],[0.3333333333333333,\"#9c179e\"],[0.4444444444444444,\"#bd3786\"],[0.5555555555555556,\"#d8576b\"],[0.6666666666666666,\"#ed7953\"],[0.7777777777777778,\"#fb9f3a\"],[0.8888888888888888,\"#fdca26\"],[1.0,\"#f0f921\"]],\"type\":\"histogram2d\"}],\"histogram2dcontour\":[{\"colorbar\":{\"outlinewidth\":0,\"ticks\":\"\"},\"colorscale\":[[0.0,\"#0d0887\"],[0.1111111111111111,\"#46039f\"],[0.2222222222222222,\"#7201a8\"],[0.3333333333333333,\"#9c179e\"],[0.4444444444444444,\"#bd3786\"],[0.5555555555555556,\"#d8576b\"],[0.6666666666666666,\"#ed7953\"],[0.7777777777777778,\"#fb9f3a\"],[0.8888888888888888,\"#fdca26\"],[1.0,\"#f0f921\"]],\"type\":\"histogram2dcontour\"}],\"mesh3d\":[{\"colorbar\":{\"outlinewidth\":0,\"ticks\":\"\"},\"type\":\"mesh3d\"}],\"parcoords\":[{\"line\":{\"colorbar\":{\"outlinewidth\":0,\"ticks\":\"\"}},\"type\":\"parcoords\"}],\"pie\":[{\"automargin\":true,\"type\":\"pie\"}],\"scatter\":[{\"marker\":{\"colorbar\":{\"outlinewidth\":0,\"ticks\":\"\"}},\"type\":\"scatter\"}],\"scatter3d\":[{\"line\":{\"colorbar\":{\"outlinewidth\":0,\"ticks\":\"\"}},\"marker\":{\"colorbar\":{\"outlinewidth\":0,\"ticks\":\"\"}},\"type\":\"scatter3d\"}],\"scattercarpet\":[{\"marker\":{\"colorbar\":{\"outlinewidth\":0,\"ticks\":\"\"}},\"type\":\"scattercarpet\"}],\"scattergeo\":[{\"marker\":{\"colorbar\":{\"outlinewidth\":0,\"ticks\":\"\"}},\"type\":\"scattergeo\"}],\"scattergl\":[{\"marker\":{\"colorbar\":{\"outlinewidth\":0,\"ticks\":\"\"}},\"type\":\"scattergl\"}],\"scattermapbox\":[{\"marker\":{\"colorbar\":{\"outlinewidth\":0,\"ticks\":\"\"}},\"type\":\"scattermapbox\"}],\"scatterpolar\":[{\"marker\":{\"colorbar\":{\"outlinewidth\":0,\"ticks\":\"\"}},\"type\":\"scatterpolar\"}],\"scatterpolargl\":[{\"marker\":{\"colorbar\":{\"outlinewidth\":0,\"ticks\":\"\"}},\"type\":\"scatterpolargl\"}],\"scatterternary\":[{\"marker\":{\"colorbar\":{\"outlinewidth\":0,\"ticks\":\"\"}},\"type\":\"scatterternary\"}],\"surface\":[{\"colorbar\":{\"outlinewidth\":0,\"ticks\":\"\"},\"colorscale\":[[0.0,\"#0d0887\"],[0.1111111111111111,\"#46039f\"],[0.2222222222222222,\"#7201a8\"],[0.3333333333333333,\"#9c179e\"],[0.4444444444444444,\"#bd3786\"],[0.5555555555555556,\"#d8576b\"],[0.6666666666666666,\"#ed7953\"],[0.7777777777777778,\"#fb9f3a\"],[0.8888888888888888,\"#fdca26\"],[1.0,\"#f0f921\"]],\"type\":\"surface\"}],\"table\":[{\"cells\":{\"fill\":{\"color\":\"#EBF0F8\"},\"line\":{\"color\":\"white\"}},\"header\":{\"fill\":{\"color\":\"#C8D4E3\"},\"line\":{\"color\":\"white\"}},\"type\":\"table\"}]},\"layout\":{\"annotationdefaults\":{\"arrowcolor\":\"#2a3f5f\",\"arrowhead\":0,\"arrowwidth\":1},\"autotypenumbers\":\"strict\",\"coloraxis\":{\"colorbar\":{\"outlinewidth\":0,\"ticks\":\"\"}},\"colorscale\":{\"diverging\":[[0,\"#8e0152\"],[0.1,\"#c51b7d\"],[0.2,\"#de77ae\"],[0.3,\"#f1b6da\"],[0.4,\"#fde0ef\"],[0.5,\"#f7f7f7\"],[0.6,\"#e6f5d0\"],[0.7,\"#b8e186\"],[0.8,\"#7fbc41\"],[0.9,\"#4d9221\"],[1,\"#276419\"]],\"sequential\":[[0.0,\"#0d0887\"],[0.1111111111111111,\"#46039f\"],[0.2222222222222222,\"#7201a8\"],[0.3333333333333333,\"#9c179e\"],[0.4444444444444444,\"#bd3786\"],[0.5555555555555556,\"#d8576b\"],[0.6666666666666666,\"#ed7953\"],[0.7777777777777778,\"#fb9f3a\"],[0.8888888888888888,\"#fdca26\"],[1.0,\"#f0f921\"]],\"sequentialminus\":[[0.0,\"#0d0887\"],[0.1111111111111111,\"#46039f\"],[0.2222222222222222,\"#7201a8\"],[0.3333333333333333,\"#9c179e\"],[0.4444444444444444,\"#bd3786\"],[0.5555555555555556,\"#d8576b\"],[0.6666666666666666,\"#ed7953\"],[0.7777777777777778,\"#fb9f3a\"],[0.8888888888888888,\"#fdca26\"],[1.0,\"#f0f921\"]]},\"colorway\":[\"#636efa\",\"#EF553B\",\"#00cc96\",\"#ab63fa\",\"#FFA15A\",\"#19d3f3\",\"#FF6692\",\"#B6E880\",\"#FF97FF\",\"#FECB52\"],\"font\":{\"color\":\"#2a3f5f\"},\"geo\":{\"bgcolor\":\"white\",\"lakecolor\":\"white\",\"landcolor\":\"#E5ECF6\",\"showlakes\":true,\"showland\":true,\"subunitcolor\":\"white\"},\"hoverlabel\":{\"align\":\"left\"},\"hovermode\":\"closest\",\"mapbox\":{\"style\":\"light\"},\"paper_bgcolor\":\"white\",\"plot_bgcolor\":\"#E5ECF6\",\"polar\":{\"angularaxis\":{\"gridcolor\":\"white\",\"linecolor\":\"white\",\"ticks\":\"\"},\"bgcolor\":\"#E5ECF6\",\"radialaxis\":{\"gridcolor\":\"white\",\"linecolor\":\"white\",\"ticks\":\"\"}},\"scene\":{\"xaxis\":{\"backgroundcolor\":\"#E5ECF6\",\"gridcolor\":\"white\",\"gridwidth\":2,\"linecolor\":\"white\",\"showbackground\":true,\"ticks\":\"\",\"zerolinecolor\":\"white\"},\"yaxis\":{\"backgroundcolor\":\"#E5ECF6\",\"gridcolor\":\"white\",\"gridwidth\":2,\"linecolor\":\"white\",\"showbackground\":true,\"ticks\":\"\",\"zerolinecolor\":\"white\"},\"zaxis\":{\"backgroundcolor\":\"#E5ECF6\",\"gridcolor\":\"white\",\"gridwidth\":2,\"linecolor\":\"white\",\"showbackground\":true,\"ticks\":\"\",\"zerolinecolor\":\"white\"}},\"shapedefaults\":{\"line\":{\"color\":\"#2a3f5f\"}},\"ternary\":{\"aaxis\":{\"gridcolor\":\"white\",\"linecolor\":\"white\",\"ticks\":\"\"},\"baxis\":{\"gridcolor\":\"white\",\"linecolor\":\"white\",\"ticks\":\"\"},\"bgcolor\":\"#E5ECF6\",\"caxis\":{\"gridcolor\":\"white\",\"linecolor\":\"white\",\"ticks\":\"\"}},\"title\":{\"x\":0.05},\"xaxis\":{\"automargin\":true,\"gridcolor\":\"white\",\"linecolor\":\"white\",\"ticks\":\"\",\"title\":{\"standoff\":15},\"zerolinecolor\":\"white\",\"zerolinewidth\":2},\"yaxis\":{\"automargin\":true,\"gridcolor\":\"white\",\"linecolor\":\"white\",\"ticks\":\"\",\"title\":{\"standoff\":15},\"zerolinecolor\":\"white\",\"zerolinewidth\":2}}},\"xaxis\":{\"anchor\":\"y\",\"domain\":[0.0,1.0],\"title\":{\"text\":\"Count\"}},\"yaxis\":{\"anchor\":\"x\",\"domain\":[0.0,1.0],\"title\":{\"text\":\"Common words\"},\"categoryorder\":\"array\",\"categoryarray\":[\"still\",\"make\",\"night\",\"would\",\"watch\",\"good\",\"new\",\"need\",\"home\",\"cannot\",\"think\",\"see\",\"back\",\"one\",\"today\",\"know\",\"time\",\"like\",\"lol\",\"got\",\"want\",\"go\",\"day\",\"work\"]},\"legend\":{\"title\":{\"text\":\"Common words\"},\"tracegroupgap\":0},\"title\":{\"text\":\"Most commmon neutral words\"},\"barmode\":\"relative\",\"height\":700,\"width\":700},                        {\"responsive\": true}                    ).then(function(){\n",
              "                            \n",
              "var gd = document.getElementById('041f5930-168d-4c6b-ab58-1a9771e9ddcb');\n",
              "var x = new MutationObserver(function (mutations, observer) {{\n",
              "        var display = window.getComputedStyle(gd).display;\n",
              "        if (!display || display === 'none') {{\n",
              "            console.log([gd, 'removed!']);\n",
              "            Plotly.purge(gd);\n",
              "            observer.disconnect();\n",
              "        }}\n",
              "}});\n",
              "\n",
              "// Listen for the removal of the full notebook cells\n",
              "var notebookContainer = gd.closest('#notebook-container');\n",
              "if (notebookContainer) {{\n",
              "    x.observe(notebookContainer, {childList: true});\n",
              "}}\n",
              "\n",
              "// Listen for the clearing of the current output cell\n",
              "var outputEl = gd.closest('.output');\n",
              "if (outputEl) {{\n",
              "    x.observe(outputEl, {childList: true});\n",
              "}}\n",
              "\n",
              "                        })                };                            </script>        </div>\n",
              "</body>\n",
              "</html>"
            ]
          },
          "metadata": {}
        }
      ]
    },
    {
      "cell_type": "code",
      "source": [
        "# Generate a word cloud image\n",
        "wordcloud = WordCloud(background_color=\"white\").generate(str(pos['text']))\n",
        "\n",
        "# Display the generated image\n",
        "plt.figure(figsize=(12.0,8.0))\n",
        "plt.imshow(wordcloud, interpolation='bilinear')\n",
        "plt.axis(\"off\")\n",
        "plt.show()"
      ],
      "metadata": {
        "id": "NOMVH6L5WUqb",
        "outputId": "f9438a34-1cc5-49e8-e4ce-815cf1d9783f",
        "colab": {
          "base_uri": "https://localhost:8080/",
          "height": 366
        }
      },
      "execution_count": 41,
      "outputs": [
        {
          "output_type": "display_data",
          "data": {
            "text/plain": [
              "<Figure size 864x576 with 1 Axes>"
            ],
            "image/png": "[encoded data removed]"
          },
          "metadata": {
            "needs_background": "light"
          }
        }
      ]
    },
    {
      "cell_type": "markdown",
      "source": [
        "# **Initial Results**\n",
        "**SVM using TF-IDF**"
      ],
      "metadata": {
        "id": "SRySCY_E8Kke"
      }
    },
    {
      "cell_type": "code",
      "source": [
        "# # Create feature vectors\n",
        "# vectorizer = TfidfVectorizer(min_df = 5,\n",
        "#                              max_df = 0.8,\n",
        "#                              sublinear_tf = True,\n",
        "#                              use_idf = True)\n",
        "# train_vectors = vectorizer.fit_transform(train['text'])\n",
        "# test_vectors = vectorizer.transform(test['text'])"
      ],
      "metadata": {
        "id": "I3KHg2k7kGyh",
        "outputId": "a15137d6-2f5e-4192-c89e-11c73055464b",
        "colab": {
          "base_uri": "https://localhost:8080/",
          "height": 240
        }
      },
      "execution_count": 34,
      "outputs": [
        {
          "output_type": "error",
          "ename": "NameError",
          "evalue": "ignored",
          "traceback": [
            "\u001b[0;31m---------------------------------------------------------------------------\u001b[0m",
            "\u001b[0;31mNameError\u001b[0m                                 Traceback (most recent call last)",
            "\u001b[0;32m<ipython-input-34-f2a31b1d8b8a>\u001b[0m in \u001b[0;36m<module>\u001b[0;34m\u001b[0m\n\u001b[1;32m      1\u001b[0m \u001b[0;31m# Create feature vectors\u001b[0m\u001b[0;34m\u001b[0m\u001b[0;34m\u001b[0m\u001b[0;34m\u001b[0m\u001b[0m\n\u001b[0;32m----> 2\u001b[0;31m vectorizer = TfidfVectorizer(min_df = 5,\n\u001b[0m\u001b[1;32m      3\u001b[0m                              \u001b[0mmax_df\u001b[0m \u001b[0;34m=\u001b[0m \u001b[0;36m0.8\u001b[0m\u001b[0;34m,\u001b[0m\u001b[0;34m\u001b[0m\u001b[0;34m\u001b[0m\u001b[0m\n\u001b[1;32m      4\u001b[0m                              \u001b[0msublinear_tf\u001b[0m \u001b[0;34m=\u001b[0m \u001b[0;32mTrue\u001b[0m\u001b[0;34m,\u001b[0m\u001b[0;34m\u001b[0m\u001b[0;34m\u001b[0m\u001b[0m\n\u001b[1;32m      5\u001b[0m                              use_idf = True)\n",
            "\u001b[0;31mNameError\u001b[0m: name 'TfidfVectorizer' is not defined"
          ]
        }
      ]
    },
    {
      "cell_type": "code",
      "source": [
        "# # Creating the SVM model using one-vs-rest strategy\n",
        "# model = OneVsRestClassifier(SVC())\n",
        "   \n",
        "# # Fitting the model with training data\n",
        "# t0 = time.time()\n",
        "# model.fit(train_vectors, train['sentiment'])\n",
        "# t1 = time.time()  \n",
        "\n",
        "# # Making predictions on the test set\n",
        "# prediction = model.predict(test_vectors)\n",
        "# t2 = time.time()\n",
        "\n",
        "# # Evaluating the model\n",
        "# print(\"Training time: %fs; Prediction time: %fs \\n\" % (t1-t0, t2-t1))\n",
        "# print(f\"Test Set Accuracy: {accuracy_score(test['sentiment'], prediction) * 100} %\\n\")\n",
        "# print('Test confusion matrix:')\n",
        "# print(confusion_matrix(test['sentiment'], prediction))\n",
        "# print(f\"\\nClassification Report: \\n{classification_report(test['sentiment'], prediction)}\")"
      ],
      "metadata": {
        "id": "aFdXylCL4vNF"
      },
      "execution_count": null,
      "outputs": []
    },
    {
      "cell_type": "code",
      "source": [
        "# data = confusion_matrix(test['sentiment'], prediction)\n",
        "# df_cm = pd.DataFrame(data, columns=np.unique(test['sentiment']), index = np.unique(test['sentiment']))\n",
        "# df_cm.index.name = 'Actual'\n",
        "# df_cm.columns.name = 'Predicted'\n",
        "# plt.figure(figsize = (10,7))\n",
        "# sns.set(font_scale=1.4)\n",
        "# sns.heatmap(df_cm, cmap=\"Blues\", annot=True, fmt='g')"
      ],
      "metadata": {
        "id": "ay2ybW-obgNz"
      },
      "execution_count": null,
      "outputs": []
    },
    {
      "cell_type": "code",
      "source": [
        "# # Creating the SVM model using one-vs-one strategy\n",
        "# model = OneVsOneClassifier(SVC())\n",
        "   \n",
        "# # Fitting the model with training data\n",
        "# t0 = time.time()\n",
        "# model.fit(train_vectors, train['sentiment'])\n",
        "# t1 = time.time()  \n",
        "\n",
        "# # Making a prediction on the test set\n",
        "# prediction = model.predict(test_vectors)\n",
        "# t2 = time.time()\n",
        "\n",
        "# # Evaluating the model\n",
        "# print(\"Training time: %fs; Prediction time: %fs \\n\" % (t1-t0, t2-t1))\n",
        "# print(f\"Test set accuracy: {accuracy_score(test['sentiment'], prediction) * 100} %\\n\")\n",
        "# print('Test confusion matrix:')\n",
        "# print(confusion_matrix(test['sentiment'], prediction))\n",
        "# print(f\"\\nClassification report: \\n{classification_report(test['sentiment'], prediction)}\")"
      ],
      "metadata": {
        "id": "ym5vphuBweSU"
      },
      "execution_count": null,
      "outputs": []
    },
    {
      "cell_type": "code",
      "source": [
        "# data = confusion_matrix(test['sentiment'], prediction)\n",
        "# disp = ConfusionMatrixDisplay(confusion_matrix=data, display_labels=model.classes_)\n",
        "# disp.plot(cmap=\"Blues\")\n",
        "# plt.grid(False)\n",
        "# plt.show()"
      ],
      "metadata": {
        "id": "vMwxszjeZpIz"
      },
      "execution_count": null,
      "outputs": []
    }
  ]
}