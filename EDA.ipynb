{
  "nbformat": 4,
  "nbformat_minor": 0,
  "metadata": {
    "colab": {
      "provenance": [],
      "collapsed_sections": [],
      "include_colab_link": true
    },
    "kernelspec": {
      "name": "python3",
      "display_name": "Python 3"
    },
    "language_info": {
      "name": "python"
    }
  },
  "cells": [
    {
      "cell_type": "markdown",
      "metadata": {
        "id": "view-in-github",
        "colab_type": "text"
      },
      "source": [
        "<a href=\"https://colab.research.google.com/github/arzoozehra/CIND820/blob/main/EDA.ipynb\" target=\"_parent\"><img src=\"https://colab.research.google.com/assets/colab-badge.svg\" alt=\"Open In Colab\"/></a>"
      ]
    },
    {
      "cell_type": "markdown",
      "source": [
        "**Import libraries**"
      ],
      "metadata": {
        "id": "-bkY_pYm8WwM"
      }
    },
    {
      "cell_type": "code",
      "execution_count": 54,
      "metadata": {
        "id": "Wr2dHIs7WLWJ",
        "outputId": "9e56b824-efbf-48e9-c555-4a05c221fb39",
        "colab": {
          "base_uri": "https://localhost:8080/"
        }
      },
      "outputs": [
        {
          "output_type": "stream",
          "name": "stderr",
          "text": [
            "[nltk_data] Downloading package stopwords to /root/nltk_data...\n",
            "[nltk_data]   Package stopwords is already up-to-date!\n",
            "[nltk_data] Downloading package wordnet to /root/nltk_data...\n",
            "[nltk_data]   Package wordnet is already up-to-date!\n",
            "[nltk_data] Downloading package omw-1.4 to /root/nltk_data...\n",
            "[nltk_data]   Package omw-1.4 is already up-to-date!\n"
          ]
        }
      ],
      "source": [
        "import pandas as pd\n",
        "import numpy as np\n",
        "import matplotlib.pyplot as plt\n",
        "import seaborn as sns\n",
        "import re\n",
        "#pip install contractions\n",
        "#import contractions\n",
        "import nltk\n",
        "nltk.download('stopwords')\n",
        "nltk.download('wordnet')\n",
        "nltk.download('omw-1.4')\n",
        "#!pip install pyspellchecker\n",
        "from spellchecker import SpellChecker\n",
        "from nltk.corpus import stopwords\n",
        "from nltk.stem import PorterStemmer, WordNetLemmatizer\n",
        "from collections import Counter\n",
        "import plotly.express as px\n",
        "from wordcloud import WordCloud, STOPWORDS, ImageColorGenerator\n",
        "from sklearn.feature_extraction.text import CountVectorizer, TfidfVectorizer\n",
        "from sklearn.preprocessing import LabelEncoder\n",
        "from sklearn import svm"
      ]
    },
    {
      "cell_type": "markdown",
      "source": [
        "**Load data**"
      ],
      "metadata": {
        "id": "GfYAFFPs8gNl"
      }
    },
    {
      "cell_type": "code",
      "source": [
        "url = 'https://raw.githubusercontent.com/arzoozehra/CIND820/main/data/train.csv'\n",
        "train = pd.read_csv(url)\n",
        "test = pd.read_csv('https://raw.githubusercontent.com/arzoozehra/CIND820/main/data/test.csv')"
      ],
      "metadata": {
        "id": "WzPmmeuGrev1"
      },
      "execution_count": 2,
      "outputs": []
    },
    {
      "cell_type": "markdown",
      "source": [
        "**Explore data**"
      ],
      "metadata": {
        "id": "nVV3p4fZ8msc"
      }
    },
    {
      "cell_type": "code",
      "source": [
        "print(train.head())\n",
        "print(test.head())"
      ],
      "metadata": {
        "colab": {
          "base_uri": "https://localhost:8080/"
        },
        "id": "8n8Yjokdbn_g",
        "outputId": "c5354a75-54dd-4478-eeb0-348f453555a5"
      },
      "execution_count": 23,
      "outputs": [
        {
          "output_type": "stream",
          "name": "stdout",
          "text": [
            "       textID                                               text  \\\n",
            "0  cb774db0d1                          have responded were going   \n",
            "1  549e992a42              sooo sad will miss you here san diego   \n",
            "2  088c60f138                                      boss bullying   \n",
            "3  9642c003ef                         what interview leave alone   \n",
            "4  358bd9e861  sons why couldn they put them the releases alr...   \n",
            "\n",
            "                         selected_text sentiment  \n",
            "0  I`d have responded, if I were going   neutral  \n",
            "1                             Sooo SAD  negative  \n",
            "2                          bullying me  negative  \n",
            "3                       leave me alone  negative  \n",
            "4                        Sons of ****,  negative  \n",
            "       textID                                               text sentiment\n",
            "0  f87dea47db  Last session of the day  http://twitpic.com/67ezh   neutral\n",
            "1  96d74cb729   Shanghai is also really exciting (precisely -...  positive\n",
            "2  eee518ae67  Recession hit Veronique Branquinho, she has to...  negative\n",
            "3  01082688c6                                        happy bday!  positive\n",
            "4  33987a8ee5             http://twitpic.com/4w75p - I like it!!  positive\n"
          ]
        }
      ]
    },
    {
      "cell_type": "code",
      "source": [
        "train.info()\n",
        "test.info()"
      ],
      "metadata": {
        "colab": {
          "base_uri": "https://localhost:8080/"
        },
        "id": "pQ8WJkjtt0L9",
        "outputId": "a6d14e78-2608-49b1-d48a-2a66cae435e7"
      },
      "execution_count": 24,
      "outputs": [
        {
          "output_type": "stream",
          "name": "stdout",
          "text": [
            "<class 'pandas.core.frame.DataFrame'>\n",
            "Int64Index: 27480 entries, 0 to 27480\n",
            "Data columns (total 4 columns):\n",
            " #   Column         Non-Null Count  Dtype \n",
            "---  ------         --------------  ----- \n",
            " 0   textID         27480 non-null  object\n",
            " 1   text           27480 non-null  object\n",
            " 2   selected_text  27480 non-null  object\n",
            " 3   sentiment      27480 non-null  object\n",
            "dtypes: object(4)\n",
            "memory usage: 2.1+ MB\n",
            "<class 'pandas.core.frame.DataFrame'>\n",
            "RangeIndex: 3534 entries, 0 to 3533\n",
            "Data columns (total 3 columns):\n",
            " #   Column     Non-Null Count  Dtype \n",
            "---  ------     --------------  ----- \n",
            " 0   textID     3534 non-null   object\n",
            " 1   text       3534 non-null   object\n",
            " 2   sentiment  3534 non-null   object\n",
            "dtypes: object(3)\n",
            "memory usage: 83.0+ KB\n"
          ]
        }
      ]
    },
    {
      "cell_type": "code",
      "source": [
        "print('Training set contains {} rows and {} columns.'.format(train.shape[0],train.shape[1]))\n",
        "print('Test set contains {} rows and {} columns'.format(test.shape[0],test.shape[1]))\n",
        "print('\\nTraining set contains {} row(s) with missing values.'.format(train.isna().any(axis=1).sum()))\n",
        "print('Test set contains {} row(s) with missing values.'.format(test.isna().any(axis=1).sum()))"
      ],
      "metadata": {
        "colab": {
          "base_uri": "https://localhost:8080/"
        },
        "id": "AT7zoz42b1Fe",
        "outputId": "50d88639-07bc-475d-ef65-add4ae6f0ae5"
      },
      "execution_count": 25,
      "outputs": [
        {
          "output_type": "stream",
          "name": "stdout",
          "text": [
            "Training set contains 27480 rows and 4 columns.\n",
            "Test set contains 3534 rows and 3 columns\n",
            "\n",
            "Training set contains 0 row(s) with missing values.\n",
            "Test set contains 0 row(s) with missing values.\n"
          ]
        }
      ]
    },
    {
      "cell_type": "code",
      "source": [
        "# Remove row with missing values\n",
        "train.dropna(inplace=True)"
      ],
      "metadata": {
        "id": "rWNi6b_FuON6"
      },
      "execution_count": 6,
      "outputs": []
    },
    {
      "cell_type": "code",
      "source": [
        "train.info()"
      ],
      "metadata": {
        "colab": {
          "base_uri": "https://localhost:8080/"
        },
        "id": "GHQUbYgjuTdw",
        "outputId": "89cf80fb-1633-4b68-e700-4469690715df"
      },
      "execution_count": 7,
      "outputs": [
        {
          "output_type": "stream",
          "name": "stdout",
          "text": [
            "<class 'pandas.core.frame.DataFrame'>\n",
            "Int64Index: 27480 entries, 0 to 27480\n",
            "Data columns (total 4 columns):\n",
            " #   Column         Non-Null Count  Dtype \n",
            "---  ------         --------------  ----- \n",
            " 0   textID         27480 non-null  object\n",
            " 1   text           27480 non-null  object\n",
            " 2   selected_text  27480 non-null  object\n",
            " 3   sentiment      27480 non-null  object\n",
            "dtypes: object(4)\n",
            "memory usage: 1.0+ MB\n"
          ]
        }
      ]
    },
    {
      "cell_type": "code",
      "source": [
        "train.describe()"
      ],
      "metadata": {
        "colab": {
          "base_uri": "https://localhost:8080/",
          "height": 175
        },
        "id": "bgZHNXc_usrw",
        "outputId": "c5e2d6f4-14bc-4e8e-b82c-a426a59573d8"
      },
      "execution_count": 8,
      "outputs": [
        {
          "output_type": "execute_result",
          "data": {
            "text/plain": [
              "            textID                                  text selected_text  \\\n",
              "count        27480                                 27480         27480   \n",
              "unique       27480                                 27480         22463   \n",
              "top     cb774db0d1   I`d have responded, if I were going          good   \n",
              "freq             1                                     1           199   \n",
              "\n",
              "       sentiment  \n",
              "count      27480  \n",
              "unique         3  \n",
              "top      neutral  \n",
              "freq       11117  "
            ],
            "text/html": [
              "\n",
              "  <div id=\"df-7362c241-f5bb-4bbf-911c-e2585e2d0b38\">\n",
              "    <div class=\"colab-df-container\">\n",
              "      <div>\n",
              "<style scoped>\n",
              "    .dataframe tbody tr th:only-of-type {\n",
              "        vertical-align: middle;\n",
              "    }\n",
              "\n",
              "    .dataframe tbody tr th {\n",
              "        vertical-align: top;\n",
              "    }\n",
              "\n",
              "    .dataframe thead th {\n",
              "        text-align: right;\n",
              "    }\n",
              "</style>\n",
              "<table border=\"1\" class=\"dataframe\">\n",
              "  <thead>\n",
              "    <tr style=\"text-align: right;\">\n",
              "      <th></th>\n",
              "      <th>textID</th>\n",
              "      <th>text</th>\n",
              "      <th>selected_text</th>\n",
              "      <th>sentiment</th>\n",
              "    </tr>\n",
              "  </thead>\n",
              "  <tbody>\n",
              "    <tr>\n",
              "      <th>count</th>\n",
              "      <td>27480</td>\n",
              "      <td>27480</td>\n",
              "      <td>27480</td>\n",
              "      <td>27480</td>\n",
              "    </tr>\n",
              "    <tr>\n",
              "      <th>unique</th>\n",
              "      <td>27480</td>\n",
              "      <td>27480</td>\n",
              "      <td>22463</td>\n",
              "      <td>3</td>\n",
              "    </tr>\n",
              "    <tr>\n",
              "      <th>top</th>\n",
              "      <td>cb774db0d1</td>\n",
              "      <td>I`d have responded, if I were going</td>\n",
              "      <td>good</td>\n",
              "      <td>neutral</td>\n",
              "    </tr>\n",
              "    <tr>\n",
              "      <th>freq</th>\n",
              "      <td>1</td>\n",
              "      <td>1</td>\n",
              "      <td>199</td>\n",
              "      <td>11117</td>\n",
              "    </tr>\n",
              "  </tbody>\n",
              "</table>\n",
              "</div>\n",
              "      <button class=\"colab-df-convert\" onclick=\"convertToInteractive('df-7362c241-f5bb-4bbf-911c-e2585e2d0b38')\"\n",
              "              title=\"Convert this dataframe to an interactive table.\"\n",
              "              style=\"display:none;\">\n",
              "        \n",
              "  <svg xmlns=\"http://www.w3.org/2000/svg\" height=\"24px\"viewBox=\"0 0 24 24\"\n",
              "       width=\"24px\">\n",
              "    <path d=\"M0 0h24v24H0V0z\" fill=\"none\"/>\n",
              "    <path d=\"M18.56 5.44l.94 2.06.94-2.06 2.06-.94-2.06-.94-.94-2.06-.94 2.06-2.06.94zm-11 1L8.5 8.5l.94-2.06 2.06-.94-2.06-.94L8.5 2.5l-.94 2.06-2.06.94zm10 10l.94 2.06.94-2.06 2.06-.94-2.06-.94-.94-2.06-.94 2.06-2.06.94z\"/><path d=\"M17.41 7.96l-1.37-1.37c-.4-.4-.92-.59-1.43-.59-.52 0-1.04.2-1.43.59L10.3 9.45l-7.72 7.72c-.78.78-.78 2.05 0 2.83L4 21.41c.39.39.9.59 1.41.59.51 0 1.02-.2 1.41-.59l7.78-7.78 2.81-2.81c.8-.78.8-2.07 0-2.86zM5.41 20L4 18.59l7.72-7.72 1.47 1.35L5.41 20z\"/>\n",
              "  </svg>\n",
              "      </button>\n",
              "      \n",
              "  <style>\n",
              "    .colab-df-container {\n",
              "      display:flex;\n",
              "      flex-wrap:wrap;\n",
              "      gap: 12px;\n",
              "    }\n",
              "\n",
              "    .colab-df-convert {\n",
              "      background-color: #E8F0FE;\n",
              "      border: none;\n",
              "      border-radius: 50%;\n",
              "      cursor: pointer;\n",
              "      display: none;\n",
              "      fill: #1967D2;\n",
              "      height: 32px;\n",
              "      padding: 0 0 0 0;\n",
              "      width: 32px;\n",
              "    }\n",
              "\n",
              "    .colab-df-convert:hover {\n",
              "      background-color: #E2EBFA;\n",
              "      box-shadow: 0px 1px 2px rgba(60, 64, 67, 0.3), 0px 1px 3px 1px rgba(60, 64, 67, 0.15);\n",
              "      fill: #174EA6;\n",
              "    }\n",
              "\n",
              "    [theme=dark] .colab-df-convert {\n",
              "      background-color: #3B4455;\n",
              "      fill: #D2E3FC;\n",
              "    }\n",
              "\n",
              "    [theme=dark] .colab-df-convert:hover {\n",
              "      background-color: #434B5C;\n",
              "      box-shadow: 0px 1px 3px 1px rgba(0, 0, 0, 0.15);\n",
              "      filter: drop-shadow(0px 1px 2px rgba(0, 0, 0, 0.3));\n",
              "      fill: #FFFFFF;\n",
              "    }\n",
              "  </style>\n",
              "\n",
              "      <script>\n",
              "        const buttonEl =\n",
              "          document.querySelector('#df-7362c241-f5bb-4bbf-911c-e2585e2d0b38 button.colab-df-convert');\n",
              "        buttonEl.style.display =\n",
              "          google.colab.kernel.accessAllowed ? 'block' : 'none';\n",
              "\n",
              "        async function convertToInteractive(key) {\n",
              "          const element = document.querySelector('#df-7362c241-f5bb-4bbf-911c-e2585e2d0b38');\n",
              "          const dataTable =\n",
              "            await google.colab.kernel.invokeFunction('convertToInteractive',\n",
              "                                                     [key], {});\n",
              "          if (!dataTable) return;\n",
              "\n",
              "          const docLinkHtml = 'Like what you see? Visit the ' +\n",
              "            '<a target=\"_blank\" href=https://colab.research.google.com/notebooks/data_table.ipynb>data table notebook</a>'\n",
              "            + ' to learn more about interactive tables.';\n",
              "          element.innerHTML = '';\n",
              "          dataTable['output_type'] = 'display_data';\n",
              "          await google.colab.output.renderOutput(dataTable, element);\n",
              "          const docLink = document.createElement('div');\n",
              "          docLink.innerHTML = docLinkHtml;\n",
              "          element.appendChild(docLink);\n",
              "        }\n",
              "      </script>\n",
              "    </div>\n",
              "  </div>\n",
              "  "
            ]
          },
          "metadata": {},
          "execution_count": 8
        }
      ]
    },
    {
      "cell_type": "code",
      "source": [
        "#! pip install https://github.com/pandas-profiling/pandas-profiling/archive/master.zip "
      ],
      "metadata": {
        "id": "UmTiIIc2vnoQ"
      },
      "execution_count": 9,
      "outputs": []
    },
    {
      "cell_type": "code",
      "source": [
        "#from pandas_profiling import ProfileReport\n",
        "\n",
        "#profile = ProfileReport(train)\n",
        "#profile.to_notebook_iframe()"
      ],
      "metadata": {
        "id": "BlNNY_PzvS5_"
      },
      "execution_count": 10,
      "outputs": []
    },
    {
      "cell_type": "code",
      "source": [
        "#neutral_text\n",
        "print(\"Neutral tweet example  :\",train[train['sentiment']=='neutral']['text'].values[0])\n",
        "# Positive tweet\n",
        "print(\"Positive tweet example :\",train[train['sentiment']=='positive']['text'].values[0])\n",
        "#negative_text\n",
        "print(\"Negative tweet example :\",train[train['sentiment']=='negative']['text'].values[0])"
      ],
      "metadata": {
        "colab": {
          "base_uri": "https://localhost:8080/"
        },
        "id": "TfmSyR0Ix6m8",
        "outputId": "5bb0fa96-2287-4ae9-cb93-11619bacbe85"
      },
      "execution_count": 11,
      "outputs": [
        {
          "output_type": "stream",
          "name": "stdout",
          "text": [
            "Neutral tweet example  :  I`d have responded, if I were going\n",
            "Positive tweet example : 2am feedings for the baby are fun when he is all smiles and coos\n",
            "Negative tweet example :  Sooo SAD I will miss you here in San Diego!!!\n"
          ]
        }
      ]
    },
    {
      "cell_type": "code",
      "source": [
        "print(train['sentiment'].value_counts())\n",
        "print(train['sentiment'].value_counts(normalize=True))"
      ],
      "metadata": {
        "colab": {
          "base_uri": "https://localhost:8080/"
        },
        "id": "AG_0q7n_yQvr",
        "outputId": "14de33e8-fc42-4e78-b8d5-40dec65aa60e"
      },
      "execution_count": 12,
      "outputs": [
        {
          "output_type": "stream",
          "name": "stdout",
          "text": [
            "neutral     11117\n",
            "positive     8582\n",
            "negative     7781\n",
            "Name: sentiment, dtype: int64\n",
            "neutral     0.404549\n",
            "positive    0.312300\n",
            "negative    0.283151\n",
            "Name: sentiment, dtype: float64\n"
          ]
        }
      ]
    },
    {
      "cell_type": "code",
      "source": [
        "test['sentiment'].value_counts(normalize=True)"
      ],
      "metadata": {
        "colab": {
          "base_uri": "https://localhost:8080/"
        },
        "id": "By9YYw5SyfEC",
        "outputId": "d8ac0146-7cc5-4bef-84a3-db8e91fd1418"
      },
      "execution_count": 13,
      "outputs": [
        {
          "output_type": "execute_result",
          "data": {
            "text/plain": [
              "neutral     0.404641\n",
              "positive    0.312111\n",
              "negative    0.283248\n",
              "Name: sentiment, dtype: float64"
            ]
          },
          "metadata": {},
          "execution_count": 13
        }
      ]
    },
    {
      "cell_type": "code",
      "source": [
        "x = train.sentiment.value_counts()\n",
        "sns.barplot(x.index, x, palette=['blue', 'green', 'orange'])\n",
        "plt.gca().set_ylabel('tweets')"
      ],
      "metadata": {
        "colab": {
          "base_uri": "https://localhost:8080/",
          "height": 339
        },
        "id": "0aPz8TBkstGT",
        "outputId": "0b24ad26-b170-4d36-9154-205da3a8f354"
      },
      "execution_count": 14,
      "outputs": [
        {
          "output_type": "stream",
          "name": "stderr",
          "text": [
            "/usr/local/lib/python3.7/dist-packages/seaborn/_decorators.py:43: FutureWarning: Pass the following variables as keyword args: x, y. From version 0.12, the only valid positional argument will be `data`, and passing other arguments without an explicit keyword will result in an error or misinterpretation.\n",
            "  FutureWarning\n"
          ]
        },
        {
          "output_type": "execute_result",
          "data": {
            "text/plain": [
              "Text(0, 0.5, 'tweets')"
            ]
          },
          "metadata": {},
          "execution_count": 14
        },
        {
          "output_type": "display_data",
          "data": {
            "text/plain": [
              "<Figure size 432x288 with 1 Axes>"
            ],
            "image/png": "[encoded data removed]"
          },
          "metadata": {
            "needs_background": "light"
          }
        }
      ]
    },
    {
      "cell_type": "code",
      "source": [
        "neutral = train[train['sentiment']=='neutral']\n",
        "pos = train[train['sentiment']=='positive']\n",
        "neg = train[train['sentiment']=='negative']"
      ],
      "metadata": {
        "id": "StLPD9Fd2UOg"
      },
      "execution_count": 15,
      "outputs": []
    },
    {
      "cell_type": "code",
      "source": [
        "# number of characters, i.e. tweet length\n",
        "\n",
        "fig, (ax1, ax2, ax3) = plt.subplots(1, 3, figsize=(15,5))\n",
        "\n",
        "tweet_len = neutral['text'].str.len()\n",
        "ax1.hist(tweet_len, color='blue')\n",
        "ax1.set_title('Neutral tweets')\n",
        "ax1.set_ylim([0, 1800])\n",
        "\n",
        "tweet_len = pos['text'].str.len()\n",
        "ax2.hist(tweet_len, color='green')\n",
        "ax2.set_title('Positive tweets')\n",
        "ax2.set_ylim([0, 1800])\n",
        "\n",
        "tweet_len = neg['text'].str.len()\n",
        "ax3.hist(tweet_len, color='orange')\n",
        "ax3.set_title('Negative tweets')\n",
        "ax3.set_ylim([0, 1800])\n",
        "\n",
        "\n",
        "fig.suptitle('# of characters in a tweet')\n",
        "plt.show()\n"
      ],
      "metadata": {
        "colab": {
          "base_uri": "https://localhost:8080/",
          "height": 356
        },
        "id": "cSMMfkSj6ZCU",
        "outputId": "04977416-6c44-4c9f-fa0d-d3fb11a3069f"
      },
      "execution_count": 16,
      "outputs": [
        {
          "output_type": "display_data",
          "data": {
            "text/plain": [
              "<Figure size 1080x360 with 3 Axes>"
            ],
            "image/png": "[encoded data removed]"
          },
          "metadata": {
            "needs_background": "light"
          }
        }
      ]
    },
    {
      "cell_type": "code",
      "source": [
        "#fig, ax = plt.subplots()\n",
        "\n",
        "#tweet_len = pos['text'].str.len()\n",
        "#sns.distplot(tweet_len, color='red', ax = ax, hist = False)\n",
        "\n",
        "#tweet_len = neutral['text'].str.len()\n",
        "#sns.distplot(tweet_len, color='blue', ax = ax, hist = False)\n",
        "\n",
        "\n",
        "#tweet_len = neg['text'].str.len()\n",
        "#sns.distplot(tweet_len, color='green', ax = ax, hist = False)\n",
        "\n",
        "#plt.show()"
      ],
      "metadata": {
        "id": "h6NDb_4L7NeQ"
      },
      "execution_count": 17,
      "outputs": []
    },
    {
      "cell_type": "code",
      "source": [
        " # initialize data of lists.\n",
        "data = {'sentiment': train['sentiment'],\n",
        "        'text_length': train['text'].str.len()}\n",
        "  \n",
        "# Create DataFrame\n",
        "data = pd.DataFrame(data)\n",
        "\n",
        "sns.displot(data=data, x='text_length', hue = 'sentiment', kind = 'kde')"
      ],
      "metadata": {
        "colab": {
          "base_uri": "https://localhost:8080/",
          "height": 387
        },
        "id": "X3879nP230ul",
        "outputId": "e306a68e-133e-41d0-fa12-394c50e67b7e"
      },
      "execution_count": 18,
      "outputs": [
        {
          "output_type": "execute_result",
          "data": {
            "text/plain": [
              "<seaborn.axisgrid.FacetGrid at 0x7fd403dd09d0>"
            ]
          },
          "metadata": {},
          "execution_count": 18
        },
        {
          "output_type": "display_data",
          "data": {
            "text/plain": [
              "<Figure size 439.75x360 with 1 Axes>"
            ],
            "image/png": "[encoded data removed]"
          },
          "metadata": {
            "needs_background": "light"
          }
        }
      ]
    },
    {
      "cell_type": "code",
      "source": [
        "# number of words in a tweet\n",
        "\n",
        "fig, (ax1, ax2, ax3) = plt.subplots(1, 3, figsize=(15,5))\n",
        "\n",
        "tweet_words = neutral['text'].str.split().map(lambda x: len(x))\n",
        "ax1.hist(tweet_words, color = 'blue')\n",
        "ax1.set_title('Neutral tweets')\n",
        "ax1.set_ylim([0,2000])\n",
        "\n",
        "tweet_words = pos['text'].str.split().map(lambda x: len(x))\n",
        "ax2.hist(tweet_words, color = 'green')\n",
        "ax2.set_title('Positive tweets')\n",
        "ax2.set_ylim([0,2000])\n",
        "\n",
        "tweet_words = neg['text'].str.split().map(lambda x: len(x))\n",
        "ax3.hist(tweet_words, color = 'orange')\n",
        "ax3.set_title('Negative tweets')\n",
        "ax3.set_ylim([0,2000])\n",
        "\n",
        "fig.suptitle('# of words in a tweet')\n",
        "plt.show()"
      ],
      "metadata": {
        "colab": {
          "base_uri": "https://localhost:8080/",
          "height": 356
        },
        "id": "MlDC3UZlyxuj",
        "outputId": "361b4395-b8ae-41f1-b3d8-4c88baeb40f5"
      },
      "execution_count": 19,
      "outputs": [
        {
          "output_type": "display_data",
          "data": {
            "text/plain": [
              "<Figure size 1080x360 with 3 Axes>"
            ],
            "image/png": "[encoded data removed]"
          },
          "metadata": {
            "needs_background": "light"
          }
        }
      ]
    },
    {
      "cell_type": "code",
      "source": [
        "# fig,(ax1,ax2,ax3)=plt.subplots(1,3,figsize=(20,5))\n",
        "\n",
        "# word = neutral['text'].str.split().apply(lambda x : [len(i) for i in x])\n",
        "# sns.distplot(word.map(lambda x: np.mean(x)), ax = ax1, color='blue')\n",
        "# ax1.set_title('Neutral')\n",
        "# ax1.set_xlim([0,70])\n",
        "# ax1.set_ylim([0,0.6])\n",
        "\n",
        "# word = pos['text'].str.split().apply(lambda x : [len(i) for i in x])\n",
        "# sns.distplot(word.map(lambda x: np.mean(x)), ax = ax2, color = 'green')\n",
        "# ax2.set_title('Positive')\n",
        "# ax2.set_xlim([0,70])\n",
        "# ax2.set_ylim([0,0.6])\n",
        "\n",
        "# word = neg['text'].str.split().apply(lambda x : [len(i) for i in x])\n",
        "# sns.distplot(word.map(lambda x: np.mean(x)), ax = ax3, color = 'orange')\n",
        "# ax3.set_title('Negative')\n",
        "# ax3.set_xlim([0,70])\n",
        "# ax3.set_ylim([0,0.6])\n",
        "\n",
        "\n",
        "# fig.suptitle('Average word length in each tweet')"
      ],
      "metadata": {
        "id": "97vbYEHv4qRI"
      },
      "execution_count": 20,
      "outputs": []
    },
    {
      "cell_type": "markdown",
      "source": [
        "**Clean text**"
      ],
      "metadata": {
        "id": "QbW4UiEpq9kA"
      }
    },
    {
      "cell_type": "code",
      "source": [
        "# Convert text to lowercase\n",
        "train['text'] = train['text'].str.lower()\n",
        "\n",
        "# Expand contractions e.g i'd to i would\n",
        "#train['text'].replace( {r\"`\": \"'\"}, inplace= True, regex = True)\n",
        "#train['text'] = train_normal.apply(contractions.fix)\n",
        "\n",
        "# Remove @, Unicode characters, punctuation, emojis, URLs, retweets, words with digits, and 1 or 2 letter words\n",
        "train['text'].replace( {r\"(@\\[A-Za-z0-9]+)|([^0-9A-Za-z \\t])|(\\w+:\\/\\/\\S+)|^rt|http.+?|\\w*\\d\\w*|\\b\\w{1,2}\\b\": \" \"}, inplace= True, regex = True)\n",
        "\n",
        "# Remove extra whitespaces\n",
        "train['text'].replace( {r\" +\": \" \"}, inplace= True, regex = True)\n",
        "train['text'] = train['text'].str.strip()\n",
        "\n",
        "print(train['text'].head(20))\n",
        "\n",
        "# Correct spellings\n",
        "spell = SpellChecker()\n",
        "\n",
        "def correct_spellings(text):\n",
        "    corrected_text = []\n",
        "    misspelled_words = spell.unknown(text.split())\n",
        "    for word in text.split():\n",
        "        if word in misspelled_words:\n",
        "            corrected_text.append(spell.correction(word))\n",
        "        else:\n",
        "            corrected_text.append(word)\n",
        "    return \" \".join(corrected_text)\n",
        "\n",
        "#train['text'] = train['text'].apply(lambda x : correct_spellings(x))\n",
        "\n",
        "# Remove stopwords\n",
        "stop = stopwords.words('english')\n",
        "train['text'] = train['text'].apply(lambda text: \" \".join([word for word in text.split() if word not in (stop)]))\n",
        "\n",
        "# Stemming\n",
        "stemmer = PorterStemmer()\n",
        "train['text'] = train['text'].apply(lambda text: \" \".join([stemmer.stem(word) for word in text.split()]))\n",
        "\n",
        "# Lemmatazing\n",
        "lemmatizer = WordNetLemmatizer()\n",
        "train['text'] = train['text'].apply(lambda text: \" \".join([lemmatizer.lemmatize(word) for word in text.split()]))\n"
      ],
      "metadata": {
        "id": "5tDnIMd-q89D",
        "colab": {
          "base_uri": "https://localhost:8080/"
        },
        "outputId": "349aa81f-55f5-48c6-d0df-215a771abba8"
      },
      "execution_count": 37,
      "outputs": [
        {
          "output_type": "stream",
          "name": "stdout",
          "text": [
            "0                             have responded were going\n",
            "1                 sooo sad will miss you here san diego\n",
            "2                                         boss bullying\n",
            "3                            what interview leave alone\n",
            "4     sons why couldn they put them the releases alr...\n",
            "5     some shameless plugging for the best rangers f...\n",
            "6     feedings for the baby are fun when all smiles ...\n",
            "7                                            soooo high\n",
            "8                                              both you\n",
            "9     journey wow just became cooler hehe that possible\n",
            "10    much love hopeful reckon the chances are minim...\n",
            "11    really really like the song love story taylor ...\n",
            "12                  sharpie running dangerously low ink\n",
            "13                    want music tonight but lost voice\n",
            "14                                   test test from the\n",
            "15                                            sunburned\n",
            "16                  trying plot alternatives speak sigh\n",
            "17    been sick for the past few days and thus hair ...\n",
            "18                   back home now gonna miss every one\n",
            "19                           hes just not that into you\n",
            "Name: text, dtype: object\n"
          ]
        }
      ]
    },
    {
      "cell_type": "code",
      "source": [
        "print(train['text'][9])"
      ],
      "metadata": {
        "id": "tMAqSMEipx0L",
        "outputId": "3f826f9e-7a55-48b0-92a4-eed25742a19a",
        "colab": {
          "base_uri": "https://localhost:8080/"
        }
      },
      "execution_count": 28,
      "outputs": [
        {
          "output_type": "stream",
          "name": "stdout",
          "text": [
            "journey wow just became cooler hehe that possible\n"
          ]
        }
      ]
    },
    {
      "cell_type": "code",
      "source": [
        "spell = SpellChecker()\n",
        "lst = [[\"hello friend\", 1],[\"world\", 0]]\n",
        "x = pd.DataFrame(lst, columns =['text', 'sent'])\n",
        "print(x)\n",
        "#x['text'] = x['text'].apply(lambda text: \" \".join([spell.correction(word) for word in spell.unknown(text.split())]))\n",
        "\n",
        "\n",
        "def correct_spellings(text):\n",
        "    corrected_text = []\n",
        "    misspelled_words = spell.unknown(text.split())\n",
        "    for word in text.split():\n",
        "        if word in misspelled_words:\n",
        "            corrected_text.append(spell.correction(word))\n",
        "        else:\n",
        "            corrected_text.append(word)\n",
        "    return \" \".join(corrected_text)\n",
        "\n",
        "x['text'] = x['text'].apply(lambda t : correct_spellings(t))\n",
        "print(x)"
      ],
      "metadata": {
        "id": "nTyqu536lUdv",
        "outputId": "c5e125c5-19ef-4b24-ceb9-b47840f368fb",
        "colab": {
          "base_uri": "https://localhost:8080/"
        }
      },
      "execution_count": 38,
      "outputs": [
        {
          "output_type": "stream",
          "name": "stdout",
          "text": [
            "           text  sent\n",
            "0  hello friend     1\n",
            "1         world     0\n",
            "           text  sent\n",
            "0  hello friend     1\n",
            "1         world     0\n"
          ]
        }
      ]
    },
    {
      "cell_type": "code",
      "source": [
        "print(train)"
      ],
      "metadata": {
        "id": "6EuGUY8fr_Oj"
      },
      "execution_count": null,
      "outputs": []
    },
    {
      "cell_type": "code",
      "source": [
        "tempList = train['text'].apply(lambda x:str(x).split())\n",
        "\n",
        "top = Counter([item for sublist in tempList for item in sublist])\n",
        "temp = pd.DataFrame(top.most_common(25))\n",
        "temp = temp.iloc[1:,:]\n",
        "temp.columns = ['Common words','Count']\n",
        "temp.style.background_gradient(cmap='Blues')"
      ],
      "metadata": {
        "id": "dwQp1No5IzKw",
        "outputId": "653eb147-2d51-4b6d-b4b4-13d5a91e7d8c",
        "colab": {
          "base_uri": "https://localhost:8080/",
          "height": 802
        }
      },
      "execution_count": 39,
      "outputs": [
        {
          "output_type": "execute_result",
          "data": {
            "text/plain": [
              "<pandas.io.formats.style.Styler at 0x7fd3ff461b10>"
            ],
            "text/html": [
              "<style type=\"text/css\">\n",
              "#T_0b09b_row0_col1 {\n",
              "  background-color: #08306b;\n",
              "  color: #f1f1f1;\n",
              "}\n",
              "#T_0b09b_row1_col1 {\n",
              "  background-color: #2a7ab9;\n",
              "  color: #f1f1f1;\n",
              "}\n",
              "#T_0b09b_row2_col1 {\n",
              "  background-color: #3a8ac2;\n",
              "  color: #f1f1f1;\n",
              "}\n",
              "#T_0b09b_row3_col1 {\n",
              "  background-color: #4594c7;\n",
              "  color: #f1f1f1;\n",
              "}\n",
              "#T_0b09b_row4_col1 {\n",
              "  background-color: #4b98ca;\n",
              "  color: #f1f1f1;\n",
              "}\n",
              "#T_0b09b_row5_col1 {\n",
              "  background-color: #b0d2e7;\n",
              "  color: #000000;\n",
              "}\n",
              "#T_0b09b_row6_col1, #T_0b09b_row7_col1 {\n",
              "  background-color: #bfd8ed;\n",
              "  color: #000000;\n",
              "}\n",
              "#T_0b09b_row8_col1 {\n",
              "  background-color: #c1d9ed;\n",
              "  color: #000000;\n",
              "}\n",
              "#T_0b09b_row9_col1 {\n",
              "  background-color: #c7dbef;\n",
              "  color: #000000;\n",
              "}\n",
              "#T_0b09b_row10_col1 {\n",
              "  background-color: #cfe1f2;\n",
              "  color: #000000;\n",
              "}\n",
              "#T_0b09b_row11_col1 {\n",
              "  background-color: #d1e2f3;\n",
              "  color: #000000;\n",
              "}\n",
              "#T_0b09b_row12_col1, #T_0b09b_row13_col1 {\n",
              "  background-color: #d6e5f4;\n",
              "  color: #000000;\n",
              "}\n",
              "#T_0b09b_row14_col1 {\n",
              "  background-color: #d7e6f5;\n",
              "  color: #000000;\n",
              "}\n",
              "#T_0b09b_row15_col1 {\n",
              "  background-color: #d9e7f5;\n",
              "  color: #000000;\n",
              "}\n",
              "#T_0b09b_row16_col1 {\n",
              "  background-color: #e2edf8;\n",
              "  color: #000000;\n",
              "}\n",
              "#T_0b09b_row17_col1 {\n",
              "  background-color: #e3eef8;\n",
              "  color: #000000;\n",
              "}\n",
              "#T_0b09b_row18_col1 {\n",
              "  background-color: #e4eff9;\n",
              "  color: #000000;\n",
              "}\n",
              "#T_0b09b_row19_col1 {\n",
              "  background-color: #e8f1fa;\n",
              "  color: #000000;\n",
              "}\n",
              "#T_0b09b_row20_col1 {\n",
              "  background-color: #eaf2fb;\n",
              "  color: #000000;\n",
              "}\n",
              "#T_0b09b_row21_col1 {\n",
              "  background-color: #f5fafe;\n",
              "  color: #000000;\n",
              "}\n",
              "#T_0b09b_row22_col1 {\n",
              "  background-color: #f6faff;\n",
              "  color: #000000;\n",
              "}\n",
              "#T_0b09b_row23_col1 {\n",
              "  background-color: #f7fbff;\n",
              "  color: #000000;\n",
              "}\n",
              "</style>\n",
              "<table id=\"T_0b09b_\" class=\"dataframe\">\n",
              "  <thead>\n",
              "    <tr>\n",
              "      <th class=\"blank level0\" >&nbsp;</th>\n",
              "      <th class=\"col_heading level0 col0\" >Common words</th>\n",
              "      <th class=\"col_heading level0 col1\" >Count</th>\n",
              "    </tr>\n",
              "  </thead>\n",
              "  <tbody>\n",
              "    <tr>\n",
              "      <th id=\"T_0b09b_level0_row0\" class=\"row_heading level0 row0\" >1</th>\n",
              "      <td id=\"T_0b09b_row0_col0\" class=\"data row0 col0\" >get</td>\n",
              "      <td id=\"T_0b09b_row0_col1\" class=\"data row0 col1\" >1915</td>\n",
              "    </tr>\n",
              "    <tr>\n",
              "      <th id=\"T_0b09b_level0_row1\" class=\"row_heading level0 row1\" >2</th>\n",
              "      <td id=\"T_0b09b_row1_col0\" class=\"data row1 col0\" >good</td>\n",
              "      <td id=\"T_0b09b_row1_col1\" class=\"data row1 col1\" >1600</td>\n",
              "    </tr>\n",
              "    <tr>\n",
              "      <th id=\"T_0b09b_level0_row2\" class=\"row_heading level0 row2\" >3</th>\n",
              "      <td id=\"T_0b09b_row2_col0\" class=\"data row2 col0\" >work</td>\n",
              "      <td id=\"T_0b09b_row2_col1\" class=\"data row2 col1\" >1530</td>\n",
              "    </tr>\n",
              "    <tr>\n",
              "      <th id=\"T_0b09b_level0_row3\" class=\"row_heading level0 row3\" >4</th>\n",
              "      <td id=\"T_0b09b_row3_col0\" class=\"data row3 col0\" >love</td>\n",
              "      <td id=\"T_0b09b_row3_col1\" class=\"data row3 col1\" >1485</td>\n",
              "    </tr>\n",
              "    <tr>\n",
              "      <th id=\"T_0b09b_level0_row4\" class=\"row_heading level0 row4\" >5</th>\n",
              "      <td id=\"T_0b09b_row4_col0\" class=\"data row4 col0\" >like</td>\n",
              "      <td id=\"T_0b09b_row4_col1\" class=\"data row4 col1\" >1462</td>\n",
              "    </tr>\n",
              "    <tr>\n",
              "      <th id=\"T_0b09b_level0_row5\" class=\"row_heading level0 row5\" >6</th>\n",
              "      <td id=\"T_0b09b_row5_col0\" class=\"data row5 col0\" >today</td>\n",
              "      <td id=\"T_0b09b_row5_col1\" class=\"data row5 col1\" >1155</td>\n",
              "    </tr>\n",
              "    <tr>\n",
              "      <th id=\"T_0b09b_level0_row6\" class=\"row_heading level0 row6\" >7</th>\n",
              "      <td id=\"T_0b09b_row6_col0\" class=\"data row6 col0\" >go</td>\n",
              "      <td id=\"T_0b09b_row6_col1\" class=\"data row6 col1\" >1104</td>\n",
              "    </tr>\n",
              "    <tr>\n",
              "      <th id=\"T_0b09b_level0_row7\" class=\"row_heading level0 row7\" >8</th>\n",
              "      <td id=\"T_0b09b_row7_col0\" class=\"data row7 col0\" >time</td>\n",
              "      <td id=\"T_0b09b_row7_col1\" class=\"data row7 col1\" >1104</td>\n",
              "    </tr>\n",
              "    <tr>\n",
              "      <th id=\"T_0b09b_level0_row8\" class=\"row_heading level0 row8\" >9</th>\n",
              "      <td id=\"T_0b09b_row8_col0\" class=\"data row8 col0\" >got</td>\n",
              "      <td id=\"T_0b09b_row8_col1\" class=\"data row8 col1\" >1098</td>\n",
              "    </tr>\n",
              "    <tr>\n",
              "      <th id=\"T_0b09b_level0_row9\" class=\"row_heading level0 row9\" >10</th>\n",
              "      <td id=\"T_0b09b_row9_col0\" class=\"data row9 col0\" >one</td>\n",
              "      <td id=\"T_0b09b_row9_col1\" class=\"data row9 col1\" >1076</td>\n",
              "    </tr>\n",
              "    <tr>\n",
              "      <th id=\"T_0b09b_level0_row10\" class=\"row_heading level0 row10\" >11</th>\n",
              "      <td id=\"T_0b09b_row10_col0\" class=\"data row10 col0\" >lol</td>\n",
              "      <td id=\"T_0b09b_row10_col1\" class=\"data row10 col1\" >1029</td>\n",
              "    </tr>\n",
              "    <tr>\n",
              "      <th id=\"T_0b09b_level0_row11\" class=\"row_heading level0 row11\" >12</th>\n",
              "      <td id=\"T_0b09b_row11_col0\" class=\"data row11 col0\" >happi</td>\n",
              "      <td id=\"T_0b09b_row11_col1\" class=\"data row11 col1\" >1014</td>\n",
              "    </tr>\n",
              "    <tr>\n",
              "      <th id=\"T_0b09b_level0_row12\" class=\"row_heading level0 row12\" >13</th>\n",
              "      <td id=\"T_0b09b_row12_col0\" class=\"data row12 col0\" >thank</td>\n",
              "      <td id=\"T_0b09b_row12_col1\" class=\"data row12 col1\" >990</td>\n",
              "    </tr>\n",
              "    <tr>\n",
              "      <th id=\"T_0b09b_level0_row13\" class=\"row_heading level0 row13\" >14</th>\n",
              "      <td id=\"T_0b09b_row13_col0\" class=\"data row13 col0\" >want</td>\n",
              "      <td id=\"T_0b09b_row13_col1\" class=\"data row13 col1\" >989</td>\n",
              "    </tr>\n",
              "    <tr>\n",
              "      <th id=\"T_0b09b_level0_row14\" class=\"row_heading level0 row14\" >15</th>\n",
              "      <td id=\"T_0b09b_row14_col0\" class=\"data row14 col0\" >know</td>\n",
              "      <td id=\"T_0b09b_row14_col1\" class=\"data row14 col1\" >980</td>\n",
              "    </tr>\n",
              "    <tr>\n",
              "      <th id=\"T_0b09b_level0_row15\" class=\"row_heading level0 row15\" >16</th>\n",
              "      <td id=\"T_0b09b_row15_col0\" class=\"data row15 col0\" >miss</td>\n",
              "      <td id=\"T_0b09b_row15_col1\" class=\"data row15 col1\" >970</td>\n",
              "    </tr>\n",
              "    <tr>\n",
              "      <th id=\"T_0b09b_level0_row16\" class=\"row_heading level0 row16\" >17</th>\n",
              "      <td id=\"T_0b09b_row16_col0\" class=\"data row16 col0\" >back</td>\n",
              "      <td id=\"T_0b09b_row16_col1\" class=\"data row16 col1\" >920</td>\n",
              "    </tr>\n",
              "    <tr>\n",
              "      <th id=\"T_0b09b_level0_row17\" class=\"row_heading level0 row17\" >18</th>\n",
              "      <td id=\"T_0b09b_row17_col0\" class=\"data row17 col0\" >realli</td>\n",
              "      <td id=\"T_0b09b_row17_col1\" class=\"data row17 col1\" >916</td>\n",
              "    </tr>\n",
              "    <tr>\n",
              "      <th id=\"T_0b09b_level0_row18\" class=\"row_heading level0 row18\" >19</th>\n",
              "      <td id=\"T_0b09b_row18_col0\" class=\"data row18 col0\" >see</td>\n",
              "      <td id=\"T_0b09b_row18_col1\" class=\"data row18 col1\" >905</td>\n",
              "    </tr>\n",
              "    <tr>\n",
              "      <th id=\"T_0b09b_level0_row19\" class=\"row_heading level0 row19\" >20</th>\n",
              "      <td id=\"T_0b09b_row19_col0\" class=\"data row19 col0\" >think</td>\n",
              "      <td id=\"T_0b09b_row19_col1\" class=\"data row19 col1\" >884</td>\n",
              "    </tr>\n",
              "    <tr>\n",
              "      <th id=\"T_0b09b_level0_row20\" class=\"row_heading level0 row20\" >21</th>\n",
              "      <td id=\"T_0b09b_row20_col0\" class=\"data row20 col0\" >feel</td>\n",
              "      <td id=\"T_0b09b_row20_col1\" class=\"data row20 col1\" >874</td>\n",
              "    </tr>\n",
              "    <tr>\n",
              "      <th id=\"T_0b09b_level0_row21\" class=\"row_heading level0 row21\" >22</th>\n",
              "      <td id=\"T_0b09b_row21_col0\" class=\"data row21 col0\" >night</td>\n",
              "      <td id=\"T_0b09b_row21_col1\" class=\"data row21 col1\" >811</td>\n",
              "    </tr>\n",
              "    <tr>\n",
              "      <th id=\"T_0b09b_level0_row22\" class=\"row_heading level0 row22\" >23</th>\n",
              "      <td id=\"T_0b09b_row22_col0\" class=\"data row22 col0\" >hope</td>\n",
              "      <td id=\"T_0b09b_row22_col1\" class=\"data row22 col1\" >807</td>\n",
              "    </tr>\n",
              "    <tr>\n",
              "      <th id=\"T_0b09b_level0_row23\" class=\"row_heading level0 row23\" >24</th>\n",
              "      <td id=\"T_0b09b_row23_col0\" class=\"data row23 col0\" >mother</td>\n",
              "      <td id=\"T_0b09b_row23_col1\" class=\"data row23 col1\" >799</td>\n",
              "    </tr>\n",
              "  </tbody>\n",
              "</table>\n"
            ]
          },
          "metadata": {},
          "execution_count": 39
        }
      ]
    },
    {
      "cell_type": "code",
      "source": [
        "fig = px.bar(temp, x=\"Count\", y=\"Common words\", title='Commmon words in text', orientation='h', width=700, height=700, color='Common words')\n",
        "fig.show() "
      ],
      "metadata": {
        "id": "cPw1gWDwUTMp"
      },
      "execution_count": null,
      "outputs": []
    },
    {
      "cell_type": "code",
      "source": [
        "#Most common positive words\n",
        "\n",
        "pos = train[train['sentiment']=='positive']\n",
        "\n",
        "tempList = pos['text'].apply(lambda x:str(x).split())\n",
        "\n",
        "top = Counter([item for sublist in tempList for item in sublist])\n",
        "temp = pd.DataFrame(top.most_common(25))\n",
        "temp = temp.iloc[1:,:]\n",
        "temp.columns = ['Common words','Count']\n",
        "temp.style.background_gradient(cmap='Blues')"
      ],
      "metadata": {
        "id": "9l3M7_s8IzCA",
        "outputId": "bf026ef8-4644-4e5b-eea8-a7f3fec33338",
        "colab": {
          "base_uri": "https://localhost:8080/",
          "height": 802
        }
      },
      "execution_count": 42,
      "outputs": [
        {
          "output_type": "execute_result",
          "data": {
            "text/plain": [
              "<pandas.io.formats.style.Styler at 0x7fd3f8b44f90>"
            ],
            "text/html": [
              "<style type=\"text/css\">\n",
              "#T_2960a_row0_col1 {\n",
              "  background-color: #08306b;\n",
              "  color: #f1f1f1;\n",
              "}\n",
              "#T_2960a_row1_col1 {\n",
              "  background-color: #08488e;\n",
              "  color: #f1f1f1;\n",
              "}\n",
              "#T_2960a_row2_col1 {\n",
              "  background-color: #3686c0;\n",
              "  color: #f1f1f1;\n",
              "}\n",
              "#T_2960a_row3_col1 {\n",
              "  background-color: #4191c6;\n",
              "  color: #f1f1f1;\n",
              "}\n",
              "#T_2960a_row4_col1 {\n",
              "  background-color: #81badb;\n",
              "  color: #000000;\n",
              "}\n",
              "#T_2960a_row5_col1 {\n",
              "  background-color: #bad6eb;\n",
              "  color: #000000;\n",
              "}\n",
              "#T_2960a_row6_col1, #T_2960a_row7_col1 {\n",
              "  background-color: #cadef0;\n",
              "  color: #000000;\n",
              "}\n",
              "#T_2960a_row8_col1 {\n",
              "  background-color: #ccdff1;\n",
              "  color: #000000;\n",
              "}\n",
              "#T_2960a_row9_col1, #T_2960a_row10_col1 {\n",
              "  background-color: #e7f0fa;\n",
              "  color: #000000;\n",
              "}\n",
              "#T_2960a_row11_col1, #T_2960a_row12_col1, #T_2960a_row13_col1 {\n",
              "  background-color: #e8f1fa;\n",
              "  color: #000000;\n",
              "}\n",
              "#T_2960a_row14_col1 {\n",
              "  background-color: #eaf2fb;\n",
              "  color: #000000;\n",
              "}\n",
              "#T_2960a_row15_col1 {\n",
              "  background-color: #eaf3fb;\n",
              "  color: #000000;\n",
              "}\n",
              "#T_2960a_row16_col1, #T_2960a_row17_col1 {\n",
              "  background-color: #eef5fc;\n",
              "  color: #000000;\n",
              "}\n",
              "#T_2960a_row18_col1, #T_2960a_row19_col1 {\n",
              "  background-color: #f2f7fd;\n",
              "  color: #000000;\n",
              "}\n",
              "#T_2960a_row20_col1 {\n",
              "  background-color: #f2f8fd;\n",
              "  color: #000000;\n",
              "}\n",
              "#T_2960a_row21_col1 {\n",
              "  background-color: #f4f9fe;\n",
              "  color: #000000;\n",
              "}\n",
              "#T_2960a_row22_col1 {\n",
              "  background-color: #f5f9fe;\n",
              "  color: #000000;\n",
              "}\n",
              "#T_2960a_row23_col1 {\n",
              "  background-color: #f7fbff;\n",
              "  color: #000000;\n",
              "}\n",
              "</style>\n",
              "<table id=\"T_2960a_\" class=\"dataframe\">\n",
              "  <thead>\n",
              "    <tr>\n",
              "      <th class=\"blank level0\" >&nbsp;</th>\n",
              "      <th class=\"col_heading level0 col0\" >Common words</th>\n",
              "      <th class=\"col_heading level0 col1\" >Count</th>\n",
              "    </tr>\n",
              "  </thead>\n",
              "  <tbody>\n",
              "    <tr>\n",
              "      <th id=\"T_2960a_level0_row0\" class=\"row_heading level0 row0\" >1</th>\n",
              "      <td id=\"T_2960a_row0_col0\" class=\"data row0 col0\" >love</td>\n",
              "      <td id=\"T_2960a_row0_col1\" class=\"data row0 col1\" >1159</td>\n",
              "    </tr>\n",
              "    <tr>\n",
              "      <th id=\"T_2960a_level0_row1\" class=\"row_heading level0 row1\" >2</th>\n",
              "      <td id=\"T_2960a_row1_col0\" class=\"data row1 col0\" >good</td>\n",
              "      <td id=\"T_2960a_row1_col1\" class=\"data row1 col1\" >1078</td>\n",
              "    </tr>\n",
              "    <tr>\n",
              "      <th id=\"T_2960a_level0_row2\" class=\"row_heading level0 row2\" >3</th>\n",
              "      <td id=\"T_2960a_row2_col0\" class=\"data row2 col0\" >happi</td>\n",
              "      <td id=\"T_2960a_row2_col1\" class=\"data row2 col1\" >870</td>\n",
              "    </tr>\n",
              "    <tr>\n",
              "      <th id=\"T_2960a_level0_row3\" class=\"row_heading level0 row3\" >4</th>\n",
              "      <td id=\"T_2960a_row3_col0\" class=\"data row3 col0\" >thank</td>\n",
              "      <td id=\"T_2960a_row3_col1\" class=\"data row3 col1\" >833</td>\n",
              "    </tr>\n",
              "    <tr>\n",
              "      <th id=\"T_2960a_level0_row4\" class=\"row_heading level0 row4\" >5</th>\n",
              "      <td id=\"T_2960a_row4_col0\" class=\"data row4 col0\" >mother</td>\n",
              "      <td id=\"T_2960a_row4_col1\" class=\"data row4 col1\" >677</td>\n",
              "    </tr>\n",
              "    <tr>\n",
              "      <th id=\"T_2960a_level0_row5\" class=\"row_heading level0 row5\" >6</th>\n",
              "      <td id=\"T_2960a_row5_col0\" class=\"data row5 col0\" >hope</td>\n",
              "      <td id=\"T_2960a_row5_col1\" class=\"data row5 col1\" >536</td>\n",
              "    </tr>\n",
              "    <tr>\n",
              "      <th id=\"T_2960a_level0_row6\" class=\"row_heading level0 row6\" >7</th>\n",
              "      <td id=\"T_2960a_row6_col0\" class=\"data row6 col0\" >like</td>\n",
              "      <td id=\"T_2960a_row6_col1\" class=\"data row6 col1\" >487</td>\n",
              "    </tr>\n",
              "    <tr>\n",
              "      <th id=\"T_2960a_level0_row7\" class=\"row_heading level0 row7\" >8</th>\n",
              "      <td id=\"T_2960a_row7_col0\" class=\"data row7 col0\" >great</td>\n",
              "      <td id=\"T_2960a_row7_col1\" class=\"data row7 col1\" >486</td>\n",
              "    </tr>\n",
              "    <tr>\n",
              "      <th id=\"T_2960a_level0_row8\" class=\"row_heading level0 row8\" >9</th>\n",
              "      <td id=\"T_2960a_row8_col0\" class=\"data row8 col0\" >get</td>\n",
              "      <td id=\"T_2960a_row8_col1\" class=\"data row8 col1\" >478</td>\n",
              "    </tr>\n",
              "    <tr>\n",
              "      <th id=\"T_2960a_level0_row9\" class=\"row_heading level0 row9\" >10</th>\n",
              "      <td id=\"T_2960a_row9_col0\" class=\"data row9 col0\" >lol</td>\n",
              "      <td id=\"T_2960a_row9_col1\" class=\"data row9 col1\" >360</td>\n",
              "    </tr>\n",
              "    <tr>\n",
              "      <th id=\"T_2960a_level0_row10\" class=\"row_heading level0 row10\" >11</th>\n",
              "      <td id=\"T_2960a_row10_col0\" class=\"data row10 col0\" >today</td>\n",
              "      <td id=\"T_2960a_row10_col1\" class=\"data row10 col1\" >360</td>\n",
              "    </tr>\n",
              "    <tr>\n",
              "      <th id=\"T_2960a_level0_row11\" class=\"row_heading level0 row11\" >12</th>\n",
              "      <td id=\"T_2960a_row11_col0\" class=\"data row11 col0\" >fun</td>\n",
              "      <td id=\"T_2960a_row11_col1\" class=\"data row11 col1\" >352</td>\n",
              "    </tr>\n",
              "    <tr>\n",
              "      <th id=\"T_2960a_level0_row12\" class=\"row_heading level0 row12\" >13</th>\n",
              "      <td id=\"T_2960a_row12_col0\" class=\"data row12 col0\" >work</td>\n",
              "      <td id=\"T_2960a_row12_col1\" class=\"data row12 col1\" >352</td>\n",
              "    </tr>\n",
              "    <tr>\n",
              "      <th id=\"T_2960a_level0_row13\" class=\"row_heading level0 row13\" >14</th>\n",
              "      <td id=\"T_2960a_row13_col0\" class=\"data row13 col0\" >time</td>\n",
              "      <td id=\"T_2960a_row13_col1\" class=\"data row13 col1\" >351</td>\n",
              "    </tr>\n",
              "    <tr>\n",
              "      <th id=\"T_2960a_level0_row14\" class=\"row_heading level0 row14\" >15</th>\n",
              "      <td id=\"T_2960a_row14_col0\" class=\"data row14 col0\" >night</td>\n",
              "      <td id=\"T_2960a_row14_col1\" class=\"data row14 col1\" >346</td>\n",
              "    </tr>\n",
              "    <tr>\n",
              "      <th id=\"T_2960a_level0_row15\" class=\"row_heading level0 row15\" >16</th>\n",
              "      <td id=\"T_2960a_row15_col0\" class=\"data row15 col0\" >nice</td>\n",
              "      <td id=\"T_2960a_row15_col1\" class=\"data row15 col1\" >343</td>\n",
              "    </tr>\n",
              "    <tr>\n",
              "      <th id=\"T_2960a_level0_row16\" class=\"row_heading level0 row16\" >17</th>\n",
              "      <td id=\"T_2960a_row16_col0\" class=\"data row16 col0\" >wish</td>\n",
              "      <td id=\"T_2960a_row16_col1\" class=\"data row16 col1\" >325</td>\n",
              "    </tr>\n",
              "    <tr>\n",
              "      <th id=\"T_2960a_level0_row17\" class=\"row_heading level0 row17\" >18</th>\n",
              "      <td id=\"T_2960a_row17_col0\" class=\"data row17 col0\" >one</td>\n",
              "      <td id=\"T_2960a_row17_col1\" class=\"data row17 col1\" >324</td>\n",
              "    </tr>\n",
              "    <tr>\n",
              "      <th id=\"T_2960a_level0_row18\" class=\"row_heading level0 row18\" >19</th>\n",
              "      <td id=\"T_2960a_row18_col0\" class=\"data row18 col0\" >see</td>\n",
              "      <td id=\"T_2960a_row18_col1\" class=\"data row18 col1\" >312</td>\n",
              "    </tr>\n",
              "    <tr>\n",
              "      <th id=\"T_2960a_level0_row19\" class=\"row_heading level0 row19\" >20</th>\n",
              "      <td id=\"T_2960a_row19_col0\" class=\"data row19 col0\" >realli</td>\n",
              "      <td id=\"T_2960a_row19_col1\" class=\"data row19 col1\" >310</td>\n",
              "    </tr>\n",
              "    <tr>\n",
              "      <th id=\"T_2960a_level0_row20\" class=\"row_heading level0 row20\" >21</th>\n",
              "      <td id=\"T_2960a_row20_col0\" class=\"data row20 col0\" >got</td>\n",
              "      <td id=\"T_2960a_row20_col1\" class=\"data row20 col1\" >308</td>\n",
              "    </tr>\n",
              "    <tr>\n",
              "      <th id=\"T_2960a_level0_row21\" class=\"row_heading level0 row21\" >22</th>\n",
              "      <td id=\"T_2960a_row21_col0\" class=\"data row21 col0\" >morn</td>\n",
              "      <td id=\"T_2960a_row21_col1\" class=\"data row21 col1\" >300</td>\n",
              "    </tr>\n",
              "    <tr>\n",
              "      <th id=\"T_2960a_level0_row22\" class=\"row_heading level0 row22\" >23</th>\n",
              "      <td id=\"T_2960a_row22_col0\" class=\"data row22 col0\" >look</td>\n",
              "      <td id=\"T_2960a_row22_col1\" class=\"data row22 col1\" >297</td>\n",
              "    </tr>\n",
              "    <tr>\n",
              "      <th id=\"T_2960a_level0_row23\" class=\"row_heading level0 row23\" >24</th>\n",
              "      <td id=\"T_2960a_row23_col0\" class=\"data row23 col0\" >go</td>\n",
              "      <td id=\"T_2960a_row23_col1\" class=\"data row23 col1\" >286</td>\n",
              "    </tr>\n",
              "  </tbody>\n",
              "</table>\n"
            ]
          },
          "metadata": {},
          "execution_count": 42
        }
      ]
    },
    {
      "cell_type": "code",
      "source": [
        "fig = px.bar(temp, x=\"Count\", y=\"Common words\", title='Most commmon positive words', orientation='h', width=700, height=700,color='Common words')\n",
        "fig.show()"
      ],
      "metadata": {
        "id": "wHY9U7gLUYf1"
      },
      "execution_count": null,
      "outputs": []
    },
    {
      "cell_type": "code",
      "source": [
        "#Most common negative words\n",
        "\n",
        "neg = train[train['sentiment']=='negative']\n",
        "\n",
        "tempList = neg['text'].apply(lambda x:str(x).split())\n",
        "\n",
        "top = Counter([item for sublist in tempList for item in sublist])\n",
        "temp = pd.DataFrame(top.most_common(25))\n",
        "temp = temp.iloc[1:,:]\n",
        "temp.columns = ['Common words','Count']\n",
        "temp.style.background_gradient(cmap='Blues')"
      ],
      "metadata": {
        "id": "z1xgOK6xSd0P",
        "outputId": "44eb7b29-e032-4f4f-b94e-c121e007422b",
        "colab": {
          "base_uri": "https://localhost:8080/",
          "height": 802
        }
      },
      "execution_count": 43,
      "outputs": [
        {
          "output_type": "execute_result",
          "data": {
            "text/plain": [
              "<pandas.io.formats.style.Styler at 0x7fd3ff3d7ad0>"
            ],
            "text/html": [
              "<style type=\"text/css\">\n",
              "#T_4fe23_row0_col1 {\n",
              "  background-color: #08306b;\n",
              "  color: #f1f1f1;\n",
              "}\n",
              "#T_4fe23_row1_col1 {\n",
              "  background-color: #2272b6;\n",
              "  color: #f1f1f1;\n",
              "}\n",
              "#T_4fe23_row2_col1 {\n",
              "  background-color: #2f7fbc;\n",
              "  color: #f1f1f1;\n",
              "}\n",
              "#T_4fe23_row3_col1 {\n",
              "  background-color: #3f8fc5;\n",
              "  color: #f1f1f1;\n",
              "}\n",
              "#T_4fe23_row4_col1 {\n",
              "  background-color: #63a8d3;\n",
              "  color: #f1f1f1;\n",
              "}\n",
              "#T_4fe23_row5_col1 {\n",
              "  background-color: #74b3d8;\n",
              "  color: #000000;\n",
              "}\n",
              "#T_4fe23_row6_col1 {\n",
              "  background-color: #a8cee4;\n",
              "  color: #000000;\n",
              "}\n",
              "#T_4fe23_row7_col1 {\n",
              "  background-color: #afd1e7;\n",
              "  color: #000000;\n",
              "}\n",
              "#T_4fe23_row8_col1 {\n",
              "  background-color: #b0d2e7;\n",
              "  color: #000000;\n",
              "}\n",
              "#T_4fe23_row9_col1 {\n",
              "  background-color: #b7d4ea;\n",
              "  color: #000000;\n",
              "}\n",
              "#T_4fe23_row10_col1 {\n",
              "  background-color: #bed8ec;\n",
              "  color: #000000;\n",
              "}\n",
              "#T_4fe23_row11_col1 {\n",
              "  background-color: #c2d9ee;\n",
              "  color: #000000;\n",
              "}\n",
              "#T_4fe23_row12_col1 {\n",
              "  background-color: #c8dcf0;\n",
              "  color: #000000;\n",
              "}\n",
              "#T_4fe23_row13_col1, #T_4fe23_row14_col1 {\n",
              "  background-color: #caddf0;\n",
              "  color: #000000;\n",
              "}\n",
              "#T_4fe23_row15_col1 {\n",
              "  background-color: #d6e6f4;\n",
              "  color: #000000;\n",
              "}\n",
              "#T_4fe23_row16_col1 {\n",
              "  background-color: #d7e6f5;\n",
              "  color: #000000;\n",
              "}\n",
              "#T_4fe23_row17_col1 {\n",
              "  background-color: #d9e7f5;\n",
              "  color: #000000;\n",
              "}\n",
              "#T_4fe23_row18_col1, #T_4fe23_row19_col1 {\n",
              "  background-color: #e8f1fa;\n",
              "  color: #000000;\n",
              "}\n",
              "#T_4fe23_row20_col1 {\n",
              "  background-color: #e9f2fa;\n",
              "  color: #000000;\n",
              "}\n",
              "#T_4fe23_row21_col1 {\n",
              "  background-color: #edf4fc;\n",
              "  color: #000000;\n",
              "}\n",
              "#T_4fe23_row22_col1 {\n",
              "  background-color: #f2f7fd;\n",
              "  color: #000000;\n",
              "}\n",
              "#T_4fe23_row23_col1 {\n",
              "  background-color: #f7fbff;\n",
              "  color: #000000;\n",
              "}\n",
              "</style>\n",
              "<table id=\"T_4fe23_\" class=\"dataframe\">\n",
              "  <thead>\n",
              "    <tr>\n",
              "      <th class=\"blank level0\" >&nbsp;</th>\n",
              "      <th class=\"col_heading level0 col0\" >Common words</th>\n",
              "      <th class=\"col_heading level0 col1\" >Count</th>\n",
              "    </tr>\n",
              "  </thead>\n",
              "  <tbody>\n",
              "    <tr>\n",
              "      <th id=\"T_4fe23_level0_row0\" class=\"row_heading level0 row0\" >1</th>\n",
              "      <td id=\"T_4fe23_row0_col0\" class=\"data row0 col0\" >get</td>\n",
              "      <td id=\"T_4fe23_row0_col1\" class=\"data row0 col1\" >613</td>\n",
              "    </tr>\n",
              "    <tr>\n",
              "      <th id=\"T_4fe23_level0_row1\" class=\"row_heading level0 row1\" >2</th>\n",
              "      <td id=\"T_4fe23_row1_col0\" class=\"data row1 col0\" >work</td>\n",
              "      <td id=\"T_4fe23_row1_col1\" class=\"data row1 col1\" >512</td>\n",
              "    </tr>\n",
              "    <tr>\n",
              "      <th id=\"T_4fe23_level0_row2\" class=\"row_heading level0 row2\" >3</th>\n",
              "      <td id=\"T_4fe23_row2_col0\" class=\"data row2 col0\" >like</td>\n",
              "      <td id=\"T_4fe23_row2_col1\" class=\"data row2 col1\" >493</td>\n",
              "    </tr>\n",
              "    <tr>\n",
              "      <th id=\"T_4fe23_level0_row3\" class=\"row_heading level0 row3\" >4</th>\n",
              "      <td id=\"T_4fe23_row3_col0\" class=\"data row3 col0\" >feel</td>\n",
              "      <td id=\"T_4fe23_row3_col1\" class=\"data row3 col1\" >468</td>\n",
              "    </tr>\n",
              "    <tr>\n",
              "      <th id=\"T_4fe23_level0_row4\" class=\"row_heading level0 row4\" >5</th>\n",
              "      <td id=\"T_4fe23_row4_col0\" class=\"data row4 col0\" >day</td>\n",
              "      <td id=\"T_4fe23_row4_col1\" class=\"data row4 col1\" >424</td>\n",
              "    </tr>\n",
              "    <tr>\n",
              "      <th id=\"T_4fe23_level0_row5\" class=\"row_heading level0 row5\" >6</th>\n",
              "      <td id=\"T_4fe23_row5_col0\" class=\"data row5 col0\" >sad</td>\n",
              "      <td id=\"T_4fe23_row5_col1\" class=\"data row5 col1\" >406</td>\n",
              "    </tr>\n",
              "    <tr>\n",
              "      <th id=\"T_4fe23_level0_row6\" class=\"row_heading level0 row6\" >7</th>\n",
              "      <td id=\"T_4fe23_row6_col0\" class=\"data row6 col0\" >sorri</td>\n",
              "      <td id=\"T_4fe23_row6_col1\" class=\"data row6 col1\" >354</td>\n",
              "    </tr>\n",
              "    <tr>\n",
              "      <th id=\"T_4fe23_level0_row7\" class=\"row_heading level0 row7\" >8</th>\n",
              "      <td id=\"T_4fe23_row7_col0\" class=\"data row7 col0\" >realli</td>\n",
              "      <td id=\"T_4fe23_row7_col1\" class=\"data row7 col1\" >344</td>\n",
              "    </tr>\n",
              "    <tr>\n",
              "      <th id=\"T_4fe23_level0_row8\" class=\"row_heading level0 row8\" >9</th>\n",
              "      <td id=\"T_4fe23_row8_col0\" class=\"data row8 col0\" >today</td>\n",
              "      <td id=\"T_4fe23_row8_col1\" class=\"data row8 col1\" >343</td>\n",
              "    </tr>\n",
              "    <tr>\n",
              "      <th id=\"T_4fe23_level0_row9\" class=\"row_heading level0 row9\" >10</th>\n",
              "      <td id=\"T_4fe23_row9_col0\" class=\"data row9 col0\" >go</td>\n",
              "      <td id=\"T_4fe23_row9_col1\" class=\"data row9 col1\" >334</td>\n",
              "    </tr>\n",
              "    <tr>\n",
              "      <th id=\"T_4fe23_level0_row10\" class=\"row_heading level0 row10\" >11</th>\n",
              "      <td id=\"T_4fe23_row10_col0\" class=\"data row10 col0\" >want</td>\n",
              "      <td id=\"T_4fe23_row10_col1\" class=\"data row10 col1\" >325</td>\n",
              "    </tr>\n",
              "    <tr>\n",
              "      <th id=\"T_4fe23_level0_row11\" class=\"row_heading level0 row11\" >12</th>\n",
              "      <td id=\"T_4fe23_row11_col0\" class=\"data row11 col0\" >got</td>\n",
              "      <td id=\"T_4fe23_row11_col1\" class=\"data row11 col1\" >320</td>\n",
              "    </tr>\n",
              "    <tr>\n",
              "      <th id=\"T_4fe23_level0_row12\" class=\"row_heading level0 row12\" >13</th>\n",
              "      <td id=\"T_4fe23_row12_col0\" class=\"data row12 col0\" >hate</td>\n",
              "      <td id=\"T_4fe23_row12_col1\" class=\"data row12 col1\" >312</td>\n",
              "    </tr>\n",
              "    <tr>\n",
              "      <th id=\"T_4fe23_level0_row13\" class=\"row_heading level0 row13\" >14</th>\n",
              "      <td id=\"T_4fe23_row13_col0\" class=\"data row13 col0\" >one</td>\n",
              "      <td id=\"T_4fe23_row13_col1\" class=\"data row13 col1\" >309</td>\n",
              "    </tr>\n",
              "    <tr>\n",
              "      <th id=\"T_4fe23_level0_row14\" class=\"row_heading level0 row14\" >15</th>\n",
              "      <td id=\"T_4fe23_row14_col0\" class=\"data row14 col0\" >bad</td>\n",
              "      <td id=\"T_4fe23_row14_col1\" class=\"data row14 col1\" >308</td>\n",
              "    </tr>\n",
              "    <tr>\n",
              "      <th id=\"T_4fe23_level0_row15\" class=\"row_heading level0 row15\" >16</th>\n",
              "      <td id=\"T_4fe23_row15_col0\" class=\"data row15 col0\" >think</td>\n",
              "      <td id=\"T_4fe23_row15_col1\" class=\"data row15 col1\" >282</td>\n",
              "    </tr>\n",
              "    <tr>\n",
              "      <th id=\"T_4fe23_level0_row16\" class=\"row_heading level0 row16\" >17</th>\n",
              "      <td id=\"T_4fe23_row16_col0\" class=\"data row16 col0\" >know</td>\n",
              "      <td id=\"T_4fe23_row16_col1\" class=\"data row16 col1\" >281</td>\n",
              "    </tr>\n",
              "    <tr>\n",
              "      <th id=\"T_4fe23_level0_row17\" class=\"row_heading level0 row17\" >18</th>\n",
              "      <td id=\"T_4fe23_row17_col0\" class=\"data row17 col0\" >time</td>\n",
              "      <td id=\"T_4fe23_row17_col1\" class=\"data row17 col1\" >277</td>\n",
              "    </tr>\n",
              "    <tr>\n",
              "      <th id=\"T_4fe23_level0_row18\" class=\"row_heading level0 row18\" >19</th>\n",
              "      <td id=\"T_4fe23_row18_col0\" class=\"data row18 col0\" >still</td>\n",
              "      <td id=\"T_4fe23_row18_col1\" class=\"data row18 col1\" >247</td>\n",
              "    </tr>\n",
              "    <tr>\n",
              "      <th id=\"T_4fe23_level0_row19\" class=\"row_heading level0 row19\" >20</th>\n",
              "      <td id=\"T_4fe23_row19_col0\" class=\"data row19 col0\" >suck</td>\n",
              "      <td id=\"T_4fe23_row19_col1\" class=\"data row19 col1\" >246</td>\n",
              "    </tr>\n",
              "    <tr>\n",
              "      <th id=\"T_4fe23_level0_row20\" class=\"row_heading level0 row20\" >21</th>\n",
              "      <td id=\"T_4fe23_row20_col0\" class=\"data row20 col0\" >back</td>\n",
              "      <td id=\"T_4fe23_row20_col1\" class=\"data row20 col1\" >244</td>\n",
              "    </tr>\n",
              "    <tr>\n",
              "      <th id=\"T_4fe23_level0_row21\" class=\"row_heading level0 row21\" >22</th>\n",
              "      <td id=\"T_4fe23_row21_col0\" class=\"data row21 col0\" >make</td>\n",
              "      <td id=\"T_4fe23_row21_col1\" class=\"data row21 col1\" >237</td>\n",
              "    </tr>\n",
              "    <tr>\n",
              "      <th id=\"T_4fe23_level0_row22\" class=\"row_heading level0 row22\" >23</th>\n",
              "      <td id=\"T_4fe23_row22_col0\" class=\"data row22 col0\" >much</td>\n",
              "      <td id=\"T_4fe23_row22_col1\" class=\"data row22 col1\" >228</td>\n",
              "    </tr>\n",
              "    <tr>\n",
              "      <th id=\"T_4fe23_level0_row23\" class=\"row_heading level0 row23\" >24</th>\n",
              "      <td id=\"T_4fe23_row23_col0\" class=\"data row23 col0\" >need</td>\n",
              "      <td id=\"T_4fe23_row23_col1\" class=\"data row23 col1\" >216</td>\n",
              "    </tr>\n",
              "  </tbody>\n",
              "</table>\n"
            ]
          },
          "metadata": {},
          "execution_count": 43
        }
      ]
    },
    {
      "cell_type": "code",
      "source": [
        "fig = px.bar(temp, x=\"Count\", y=\"Common words\", title='Most commmon negative words', orientation='h', width=700, height=700,color='Common words')\n",
        "fig.show()"
      ],
      "metadata": {
        "id": "GKd7RxydUd1o"
      },
      "execution_count": null,
      "outputs": []
    },
    {
      "cell_type": "code",
      "source": [
        "#Most common neutral words\n",
        "\n",
        "neutral = train[train['sentiment']=='neutral']\n",
        "\n",
        "tempList = neutral['text'].apply(lambda x:str(x).split())\n",
        "\n",
        "top = Counter([item for sublist in tempList for item in sublist])\n",
        "temp = pd.DataFrame(top.most_common(25))\n",
        "temp = temp.iloc[1:,:]\n",
        "temp.columns = ['Common words','Count']\n",
        "temp.style.background_gradient(cmap='Blues')"
      ],
      "metadata": {
        "id": "yhUw1vVzTI5t",
        "outputId": "619c72e2-ed3d-4682-ca0a-92dc6885da12",
        "colab": {
          "base_uri": "https://localhost:8080/",
          "height": 802
        }
      },
      "execution_count": 44,
      "outputs": [
        {
          "output_type": "execute_result",
          "data": {
            "text/plain": [
              "<pandas.io.formats.style.Styler at 0x7fd3f8b5aa90>"
            ],
            "text/html": [
              "<style type=\"text/css\">\n",
              "#T_64544_row0_col1, #T_64544_row1_col1 {\n",
              "  background-color: #08306b;\n",
              "  color: #f1f1f1;\n",
              "}\n",
              "#T_64544_row2_col1 {\n",
              "  background-color: #529dcc;\n",
              "  color: #f1f1f1;\n",
              "}\n",
              "#T_64544_row3_col1 {\n",
              "  background-color: #60a7d2;\n",
              "  color: #f1f1f1;\n",
              "}\n",
              "#T_64544_row4_col1 {\n",
              "  background-color: #61a7d2;\n",
              "  color: #f1f1f1;\n",
              "}\n",
              "#T_64544_row5_col1 {\n",
              "  background-color: #66abd4;\n",
              "  color: #f1f1f1;\n",
              "}\n",
              "#T_64544_row6_col1 {\n",
              "  background-color: #6caed6;\n",
              "  color: #f1f1f1;\n",
              "}\n",
              "#T_64544_row7_col1 {\n",
              "  background-color: #7fb9da;\n",
              "  color: #000000;\n",
              "}\n",
              "#T_64544_row8_col1 {\n",
              "  background-color: #81badb;\n",
              "  color: #000000;\n",
              "}\n",
              "#T_64544_row9_col1 {\n",
              "  background-color: #89bedc;\n",
              "  color: #000000;\n",
              "}\n",
              "#T_64544_row10_col1 {\n",
              "  background-color: #92c4de;\n",
              "  color: #000000;\n",
              "}\n",
              "#T_64544_row11_col1 {\n",
              "  background-color: #9fcae1;\n",
              "  color: #000000;\n",
              "}\n",
              "#T_64544_row12_col1 {\n",
              "  background-color: #bad6eb;\n",
              "  color: #000000;\n",
              "}\n",
              "#T_64544_row13_col1 {\n",
              "  background-color: #ccdff1;\n",
              "  color: #000000;\n",
              "}\n",
              "#T_64544_row14_col1 {\n",
              "  background-color: #d1e2f3;\n",
              "  color: #000000;\n",
              "}\n",
              "#T_64544_row15_col1 {\n",
              "  background-color: #dbe9f6;\n",
              "  color: #000000;\n",
              "}\n",
              "#T_64544_row16_col1 {\n",
              "  background-color: #dfebf7;\n",
              "  color: #000000;\n",
              "}\n",
              "#T_64544_row17_col1 {\n",
              "  background-color: #e3eef9;\n",
              "  color: #000000;\n",
              "}\n",
              "#T_64544_row18_col1 {\n",
              "  background-color: #e7f0fa;\n",
              "  color: #000000;\n",
              "}\n",
              "#T_64544_row19_col1 {\n",
              "  background-color: #edf4fc;\n",
              "  color: #000000;\n",
              "}\n",
              "#T_64544_row20_col1 {\n",
              "  background-color: #f0f6fd;\n",
              "  color: #000000;\n",
              "}\n",
              "#T_64544_row21_col1 {\n",
              "  background-color: #f3f8fe;\n",
              "  color: #000000;\n",
              "}\n",
              "#T_64544_row22_col1, #T_64544_row23_col1 {\n",
              "  background-color: #f7fbff;\n",
              "  color: #000000;\n",
              "}\n",
              "</style>\n",
              "<table id=\"T_64544_\" class=\"dataframe\">\n",
              "  <thead>\n",
              "    <tr>\n",
              "      <th class=\"blank level0\" >&nbsp;</th>\n",
              "      <th class=\"col_heading level0 col0\" >Common words</th>\n",
              "      <th class=\"col_heading level0 col1\" >Count</th>\n",
              "    </tr>\n",
              "  </thead>\n",
              "  <tbody>\n",
              "    <tr>\n",
              "      <th id=\"T_64544_level0_row0\" class=\"row_heading level0 row0\" >1</th>\n",
              "      <td id=\"T_64544_row0_col0\" class=\"data row0 col0\" >work</td>\n",
              "      <td id=\"T_64544_row0_col1\" class=\"data row0 col1\" >666</td>\n",
              "    </tr>\n",
              "    <tr>\n",
              "      <th id=\"T_64544_level0_row1\" class=\"row_heading level0 row1\" >2</th>\n",
              "      <td id=\"T_64544_row1_col0\" class=\"data row1 col0\" >day</td>\n",
              "      <td id=\"T_64544_row1_col1\" class=\"data row1 col1\" >665</td>\n",
              "    </tr>\n",
              "    <tr>\n",
              "      <th id=\"T_64544_level0_row2\" class=\"row_heading level0 row2\" >3</th>\n",
              "      <td id=\"T_64544_row2_col0\" class=\"data row2 col0\" >lol</td>\n",
              "      <td id=\"T_64544_row2_col1\" class=\"data row2 col1\" >500</td>\n",
              "    </tr>\n",
              "    <tr>\n",
              "      <th id=\"T_64544_level0_row3\" class=\"row_heading level0 row3\" >4</th>\n",
              "      <td id=\"T_64544_row3_col0\" class=\"data row3 col0\" >go</td>\n",
              "      <td id=\"T_64544_row3_col1\" class=\"data row3 col1\" >484</td>\n",
              "    </tr>\n",
              "    <tr>\n",
              "      <th id=\"T_64544_level0_row4\" class=\"row_heading level0 row4\" >5</th>\n",
              "      <td id=\"T_64544_row4_col0\" class=\"data row4 col0\" >like</td>\n",
              "      <td id=\"T_64544_row4_col1\" class=\"data row4 col1\" >482</td>\n",
              "    </tr>\n",
              "    <tr>\n",
              "      <th id=\"T_64544_level0_row5\" class=\"row_heading level0 row5\" >6</th>\n",
              "      <td id=\"T_64544_row5_col0\" class=\"data row5 col0\" >time</td>\n",
              "      <td id=\"T_64544_row5_col1\" class=\"data row5 col1\" >476</td>\n",
              "    </tr>\n",
              "    <tr>\n",
              "      <th id=\"T_64544_level0_row6\" class=\"row_heading level0 row6\" >7</th>\n",
              "      <td id=\"T_64544_row6_col0\" class=\"data row6 col0\" >got</td>\n",
              "      <td id=\"T_64544_row6_col1\" class=\"data row6 col1\" >470</td>\n",
              "    </tr>\n",
              "    <tr>\n",
              "      <th id=\"T_64544_level0_row7\" class=\"row_heading level0 row7\" >8</th>\n",
              "      <td id=\"T_64544_row7_col0\" class=\"data row7 col0\" >today</td>\n",
              "      <td id=\"T_64544_row7_col1\" class=\"data row7 col1\" >452</td>\n",
              "    </tr>\n",
              "    <tr>\n",
              "      <th id=\"T_64544_level0_row8\" class=\"row_heading level0 row8\" >9</th>\n",
              "      <td id=\"T_64544_row8_col0\" class=\"data row8 col0\" >want</td>\n",
              "      <td id=\"T_64544_row8_col1\" class=\"data row8 col1\" >450</td>\n",
              "    </tr>\n",
              "    <tr>\n",
              "      <th id=\"T_64544_level0_row9\" class=\"row_heading level0 row9\" >10</th>\n",
              "      <td id=\"T_64544_row9_col0\" class=\"data row9 col0\" >one</td>\n",
              "      <td id=\"T_64544_row9_col1\" class=\"data row9 col1\" >443</td>\n",
              "    </tr>\n",
              "    <tr>\n",
              "      <th id=\"T_64544_level0_row10\" class=\"row_heading level0 row10\" >11</th>\n",
              "      <td id=\"T_64544_row10_col0\" class=\"data row10 col0\" >know</td>\n",
              "      <td id=\"T_64544_row10_col1\" class=\"data row10 col1\" >433</td>\n",
              "    </tr>\n",
              "    <tr>\n",
              "      <th id=\"T_64544_level0_row11\" class=\"row_heading level0 row11\" >12</th>\n",
              "      <td id=\"T_64544_row11_col0\" class=\"data row11 col0\" >back</td>\n",
              "      <td id=\"T_64544_row11_col1\" class=\"data row11 col1\" >421</td>\n",
              "    </tr>\n",
              "    <tr>\n",
              "      <th id=\"T_64544_level0_row12\" class=\"row_heading level0 row12\" >13</th>\n",
              "      <td id=\"T_64544_row12_col0\" class=\"data row12 col0\" >see</td>\n",
              "      <td id=\"T_64544_row12_col1\" class=\"data row12 col1\" >388</td>\n",
              "    </tr>\n",
              "    <tr>\n",
              "      <th id=\"T_64544_level0_row13\" class=\"row_heading level0 row13\" >14</th>\n",
              "      <td id=\"T_64544_row13_col0\" class=\"data row13 col0\" >think</td>\n",
              "      <td id=\"T_64544_row13_col1\" class=\"data row13 col1\" >362</td>\n",
              "    </tr>\n",
              "    <tr>\n",
              "      <th id=\"T_64544_level0_row14\" class=\"row_heading level0 row14\" >15</th>\n",
              "      <td id=\"T_64544_row14_col0\" class=\"data row14 col0\" >home</td>\n",
              "      <td id=\"T_64544_row14_col1\" class=\"data row14 col1\" >351</td>\n",
              "    </tr>\n",
              "    <tr>\n",
              "      <th id=\"T_64544_level0_row15\" class=\"row_heading level0 row15\" >16</th>\n",
              "      <td id=\"T_64544_row15_col0\" class=\"data row15 col0\" >need</td>\n",
              "      <td id=\"T_64544_row15_col1\" class=\"data row15 col1\" >331</td>\n",
              "    </tr>\n",
              "    <tr>\n",
              "      <th id=\"T_64544_level0_row16\" class=\"row_heading level0 row16\" >17</th>\n",
              "      <td id=\"T_64544_row16_col0\" class=\"data row16 col0\" >new</td>\n",
              "      <td id=\"T_64544_row16_col1\" class=\"data row16 col1\" >324</td>\n",
              "    </tr>\n",
              "    <tr>\n",
              "      <th id=\"T_64544_level0_row17\" class=\"row_heading level0 row17\" >18</th>\n",
              "      <td id=\"T_64544_row17_col0\" class=\"data row17 col0\" >good</td>\n",
              "      <td id=\"T_64544_row17_col1\" class=\"data row17 col1\" >315</td>\n",
              "    </tr>\n",
              "    <tr>\n",
              "      <th id=\"T_64544_level0_row18\" class=\"row_heading level0 row18\" >19</th>\n",
              "      <td id=\"T_64544_row18_col0\" class=\"data row18 col0\" >watch</td>\n",
              "      <td id=\"T_64544_row18_col1\" class=\"data row18 col1\" >308</td>\n",
              "    </tr>\n",
              "    <tr>\n",
              "      <th id=\"T_64544_level0_row19\" class=\"row_heading level0 row19\" >20</th>\n",
              "      <td id=\"T_64544_row19_col0\" class=\"data row19 col0\" >night</td>\n",
              "      <td id=\"T_64544_row19_col1\" class=\"data row19 col1\" >297</td>\n",
              "    </tr>\n",
              "    <tr>\n",
              "      <th id=\"T_64544_level0_row20\" class=\"row_heading level0 row20\" >21</th>\n",
              "      <td id=\"T_64544_row20_col0\" class=\"data row20 col0\" >make</td>\n",
              "      <td id=\"T_64544_row20_col1\" class=\"data row20 col1\" >290</td>\n",
              "    </tr>\n",
              "    <tr>\n",
              "      <th id=\"T_64544_level0_row21\" class=\"row_heading level0 row21\" >22</th>\n",
              "      <td id=\"T_64544_row21_col0\" class=\"data row21 col0\" >still</td>\n",
              "      <td id=\"T_64544_row21_col1\" class=\"data row21 col1\" >285</td>\n",
              "    </tr>\n",
              "    <tr>\n",
              "      <th id=\"T_64544_level0_row22\" class=\"row_heading level0 row22\" >23</th>\n",
              "      <td id=\"T_64544_row22_col0\" class=\"data row22 col0\" >well</td>\n",
              "      <td id=\"T_64544_row22_col1\" class=\"data row22 col1\" >277</td>\n",
              "    </tr>\n",
              "    <tr>\n",
              "      <th id=\"T_64544_level0_row23\" class=\"row_heading level0 row23\" >24</th>\n",
              "      <td id=\"T_64544_row23_col0\" class=\"data row23 col0\" >come</td>\n",
              "      <td id=\"T_64544_row23_col1\" class=\"data row23 col1\" >276</td>\n",
              "    </tr>\n",
              "  </tbody>\n",
              "</table>\n"
            ]
          },
          "metadata": {},
          "execution_count": 44
        }
      ]
    },
    {
      "cell_type": "code",
      "source": [
        "fig = px.bar(temp, x=\"Count\", y=\"Common words\", title='Most commmon neutral words', orientation='h', width=700, height=700,color='Common words')\n",
        "fig.show()"
      ],
      "metadata": {
        "id": "-PGVQULAUhMd"
      },
      "execution_count": null,
      "outputs": []
    },
    {
      "cell_type": "code",
      "source": [
        "# Generate a word cloud image\n",
        "wordcloud = WordCloud(background_color=\"white\").generate(str(pos['text']))\n",
        "\n",
        "# Display the generated image\n",
        "plt.figure(figsize=(12.0,8.0))\n",
        "plt.imshow(wordcloud, interpolation='bilinear')\n",
        "plt.axis(\"off\")\n",
        "plt.show()"
      ],
      "metadata": {
        "id": "NOMVH6L5WUqb",
        "outputId": "60424981-d0c1-4ccd-c65d-553b89546cca",
        "colab": {
          "base_uri": "https://localhost:8080/",
          "height": 366
        }
      },
      "execution_count": 41,
      "outputs": [
        {
          "output_type": "display_data",
          "data": {
            "text/plain": [
              "<Figure size 864x576 with 1 Axes>"
            ],
            "image/png": "[encoded data removed]"
          },
          "metadata": {
            "needs_background": "light"
          }
        }
      ]
    },
    {
      "cell_type": "markdown",
      "source": [
        "SVM - with tdif"
      ],
      "metadata": {
        "id": "oaUiqJYVx4oN"
      }
    },
    {
      "cell_type": "code",
      "source": [
        "# Creating object of TF-IDF vectorizer\n",
        "vectorizer = TfidfVectorizer(use_idf=True, lowercase=True)\n",
        "tfidf_x = vectorizer.fit_transform(train['text'])\n",
        "\n",
        "train_x = train['text']\n",
        "test_x = test['text']\n",
        "train_y = train['sentiment']\n",
        "test_y = test['sentiment']\n",
        "\n",
        "Encoder = LabelEncoder()\n",
        "train_y = Encoder.fit_transform(train_y)\n",
        "test_y = Encoder.fit_transform(test_y)\n",
        "\n",
        "# train classifier\n",
        "SVM = svm.SVC( probability=True)\n",
        "SVM.fit(train_x, train_y)"
      ],
      "metadata": {
        "id": "NIzjd_Q-x3Ra",
        "outputId": "42eed7a3-36ca-467b-f0e1-072f8679fd5f",
        "colab": {
          "base_uri": "https://localhost:8080/",
          "height": 353
        }
      },
      "execution_count": 58,
      "outputs": [
        {
          "output_type": "error",
          "ename": "ValueError",
          "evalue": "ignored",
          "traceback": [
            "\u001b[0;31m---------------------------------------------------------------------------\u001b[0m",
            "\u001b[0;31mValueError\u001b[0m                                Traceback (most recent call last)",
            "\u001b[0;32m<ipython-input-58-631fdfb0fdd4>\u001b[0m in \u001b[0;36m<module>\u001b[0;34m\u001b[0m\n\u001b[1;32m     14\u001b[0m \u001b[0;31m# train classifier\u001b[0m\u001b[0;34m\u001b[0m\u001b[0;34m\u001b[0m\u001b[0;34m\u001b[0m\u001b[0m\n\u001b[1;32m     15\u001b[0m \u001b[0mSVM\u001b[0m \u001b[0;34m=\u001b[0m \u001b[0msvm\u001b[0m\u001b[0;34m.\u001b[0m\u001b[0mSVC\u001b[0m\u001b[0;34m(\u001b[0m \u001b[0mprobability\u001b[0m\u001b[0;34m=\u001b[0m\u001b[0;32mTrue\u001b[0m\u001b[0;34m)\u001b[0m\u001b[0;34m\u001b[0m\u001b[0;34m\u001b[0m\u001b[0m\n\u001b[0;32m---> 16\u001b[0;31m \u001b[0mSVM\u001b[0m\u001b[0;34m.\u001b[0m\u001b[0mfit\u001b[0m\u001b[0;34m(\u001b[0m\u001b[0mtrain_x\u001b[0m\u001b[0;34m,\u001b[0m \u001b[0mtrain_y\u001b[0m\u001b[0;34m)\u001b[0m\u001b[0;34m\u001b[0m\u001b[0;34m\u001b[0m\u001b[0m\n\u001b[0m",
            "\u001b[0;32m/usr/local/lib/python3.7/dist-packages/sklearn/svm/_base.py\u001b[0m in \u001b[0;36mfit\u001b[0;34m(self, X, y, sample_weight)\u001b[0m\n\u001b[1;32m    194\u001b[0m                 \u001b[0morder\u001b[0m\u001b[0;34m=\u001b[0m\u001b[0;34m\"C\"\u001b[0m\u001b[0;34m,\u001b[0m\u001b[0;34m\u001b[0m\u001b[0;34m\u001b[0m\u001b[0m\n\u001b[1;32m    195\u001b[0m                 \u001b[0maccept_sparse\u001b[0m\u001b[0;34m=\u001b[0m\u001b[0;34m\"csr\"\u001b[0m\u001b[0;34m,\u001b[0m\u001b[0;34m\u001b[0m\u001b[0;34m\u001b[0m\u001b[0m\n\u001b[0;32m--> 196\u001b[0;31m                 \u001b[0maccept_large_sparse\u001b[0m\u001b[0;34m=\u001b[0m\u001b[0;32mFalse\u001b[0m\u001b[0;34m,\u001b[0m\u001b[0;34m\u001b[0m\u001b[0;34m\u001b[0m\u001b[0m\n\u001b[0m\u001b[1;32m    197\u001b[0m             )\n\u001b[1;32m    198\u001b[0m \u001b[0;34m\u001b[0m\u001b[0m\n",
            "\u001b[0;32m/usr/local/lib/python3.7/dist-packages/sklearn/base.py\u001b[0m in \u001b[0;36m_validate_data\u001b[0;34m(self, X, y, reset, validate_separately, **check_params)\u001b[0m\n\u001b[1;32m    579\u001b[0m                 \u001b[0my\u001b[0m \u001b[0;34m=\u001b[0m \u001b[0mcheck_array\u001b[0m\u001b[0;34m(\u001b[0m\u001b[0my\u001b[0m\u001b[0;34m,\u001b[0m \u001b[0;34m**\u001b[0m\u001b[0mcheck_y_params\u001b[0m\u001b[0;34m)\u001b[0m\u001b[0;34m\u001b[0m\u001b[0;34m\u001b[0m\u001b[0m\n\u001b[1;32m    580\u001b[0m             \u001b[0;32melse\u001b[0m\u001b[0;34m:\u001b[0m\u001b[0;34m\u001b[0m\u001b[0;34m\u001b[0m\u001b[0m\n\u001b[0;32m--> 581\u001b[0;31m                 \u001b[0mX\u001b[0m\u001b[0;34m,\u001b[0m \u001b[0my\u001b[0m \u001b[0;34m=\u001b[0m \u001b[0mcheck_X_y\u001b[0m\u001b[0;34m(\u001b[0m\u001b[0mX\u001b[0m\u001b[0;34m,\u001b[0m \u001b[0my\u001b[0m\u001b[0;34m,\u001b[0m \u001b[0;34m**\u001b[0m\u001b[0mcheck_params\u001b[0m\u001b[0;34m)\u001b[0m\u001b[0;34m\u001b[0m\u001b[0;34m\u001b[0m\u001b[0m\n\u001b[0m\u001b[1;32m    582\u001b[0m             \u001b[0mout\u001b[0m \u001b[0;34m=\u001b[0m \u001b[0mX\u001b[0m\u001b[0;34m,\u001b[0m \u001b[0my\u001b[0m\u001b[0;34m\u001b[0m\u001b[0;34m\u001b[0m\u001b[0m\n\u001b[1;32m    583\u001b[0m \u001b[0;34m\u001b[0m\u001b[0m\n",
            "\u001b[0;32m/usr/local/lib/python3.7/dist-packages/sklearn/utils/validation.py\u001b[0m in \u001b[0;36mcheck_X_y\u001b[0;34m(X, y, accept_sparse, accept_large_sparse, dtype, order, copy, force_all_finite, ensure_2d, allow_nd, multi_output, ensure_min_samples, ensure_min_features, y_numeric, estimator)\u001b[0m\n\u001b[1;32m    974\u001b[0m         \u001b[0mensure_min_samples\u001b[0m\u001b[0;34m=\u001b[0m\u001b[0mensure_min_samples\u001b[0m\u001b[0;34m,\u001b[0m\u001b[0;34m\u001b[0m\u001b[0;34m\u001b[0m\u001b[0m\n\u001b[1;32m    975\u001b[0m         \u001b[0mensure_min_features\u001b[0m\u001b[0;34m=\u001b[0m\u001b[0mensure_min_features\u001b[0m\u001b[0;34m,\u001b[0m\u001b[0;34m\u001b[0m\u001b[0;34m\u001b[0m\u001b[0m\n\u001b[0;32m--> 976\u001b[0;31m         \u001b[0mestimator\u001b[0m\u001b[0;34m=\u001b[0m\u001b[0mestimator\u001b[0m\u001b[0;34m,\u001b[0m\u001b[0;34m\u001b[0m\u001b[0;34m\u001b[0m\u001b[0m\n\u001b[0m\u001b[1;32m    977\u001b[0m     )\n\u001b[1;32m    978\u001b[0m \u001b[0;34m\u001b[0m\u001b[0m\n",
            "\u001b[0;32m/usr/local/lib/python3.7/dist-packages/sklearn/utils/validation.py\u001b[0m in \u001b[0;36mcheck_array\u001b[0;34m(array, accept_sparse, accept_large_sparse, dtype, order, copy, force_all_finite, ensure_2d, allow_nd, ensure_min_samples, ensure_min_features, estimator)\u001b[0m\n\u001b[1;32m    744\u001b[0m                     \u001b[0marray\u001b[0m \u001b[0;34m=\u001b[0m \u001b[0marray\u001b[0m\u001b[0;34m.\u001b[0m\u001b[0mastype\u001b[0m\u001b[0;34m(\u001b[0m\u001b[0mdtype\u001b[0m\u001b[0;34m,\u001b[0m \u001b[0mcasting\u001b[0m\u001b[0;34m=\u001b[0m\u001b[0;34m\"unsafe\"\u001b[0m\u001b[0;34m,\u001b[0m \u001b[0mcopy\u001b[0m\u001b[0;34m=\u001b[0m\u001b[0;32mFalse\u001b[0m\u001b[0;34m)\u001b[0m\u001b[0;34m\u001b[0m\u001b[0;34m\u001b[0m\u001b[0m\n\u001b[1;32m    745\u001b[0m                 \u001b[0;32melse\u001b[0m\u001b[0;34m:\u001b[0m\u001b[0;34m\u001b[0m\u001b[0;34m\u001b[0m\u001b[0m\n\u001b[0;32m--> 746\u001b[0;31m                     \u001b[0marray\u001b[0m \u001b[0;34m=\u001b[0m \u001b[0mnp\u001b[0m\u001b[0;34m.\u001b[0m\u001b[0masarray\u001b[0m\u001b[0;34m(\u001b[0m\u001b[0marray\u001b[0m\u001b[0;34m,\u001b[0m \u001b[0morder\u001b[0m\u001b[0;34m=\u001b[0m\u001b[0morder\u001b[0m\u001b[0;34m,\u001b[0m \u001b[0mdtype\u001b[0m\u001b[0;34m=\u001b[0m\u001b[0mdtype\u001b[0m\u001b[0;34m)\u001b[0m\u001b[0;34m\u001b[0m\u001b[0;34m\u001b[0m\u001b[0m\n\u001b[0m\u001b[1;32m    747\u001b[0m             \u001b[0;32mexcept\u001b[0m \u001b[0mComplexWarning\u001b[0m \u001b[0;32mas\u001b[0m \u001b[0mcomplex_warning\u001b[0m\u001b[0;34m:\u001b[0m\u001b[0;34m\u001b[0m\u001b[0;34m\u001b[0m\u001b[0m\n\u001b[1;32m    748\u001b[0m                 raise ValueError(\n",
            "\u001b[0;32m/usr/local/lib/python3.7/dist-packages/pandas/core/series.py\u001b[0m in \u001b[0;36m__array__\u001b[0;34m(self, dtype)\u001b[0m\n\u001b[1;32m    855\u001b[0m               dtype='datetime64[ns]')\n\u001b[1;32m    856\u001b[0m         \"\"\"\n\u001b[0;32m--> 857\u001b[0;31m         \u001b[0;32mreturn\u001b[0m \u001b[0mnp\u001b[0m\u001b[0;34m.\u001b[0m\u001b[0masarray\u001b[0m\u001b[0;34m(\u001b[0m\u001b[0mself\u001b[0m\u001b[0;34m.\u001b[0m\u001b[0m_values\u001b[0m\u001b[0;34m,\u001b[0m \u001b[0mdtype\u001b[0m\u001b[0;34m)\u001b[0m\u001b[0;34m\u001b[0m\u001b[0;34m\u001b[0m\u001b[0m\n\u001b[0m\u001b[1;32m    858\u001b[0m \u001b[0;34m\u001b[0m\u001b[0m\n\u001b[1;32m    859\u001b[0m     \u001b[0;31m# ----------------------------------------------------------------------\u001b[0m\u001b[0;34m\u001b[0m\u001b[0;34m\u001b[0m\u001b[0;34m\u001b[0m\u001b[0m\n",
            "\u001b[0;31mValueError\u001b[0m: could not convert string to float: 'respond go'"
          ]
        }
      ]
    },
    {
      "cell_type": "code",
      "source": [],
      "metadata": {
        "id": "hZY8yd472Bu2",
        "outputId": "bf207b2d-04e0-4997-a498-f42b57b755f1",
        "colab": {
          "base_uri": "https://localhost:8080/"
        }
      },
      "execution_count": 57,
      "outputs": [
        {
          "output_type": "stream",
          "name": "stdout",
          "text": [
            "[1 0 0 ... 2 2 1]\n"
          ]
        }
      ]
    }
  ]
}