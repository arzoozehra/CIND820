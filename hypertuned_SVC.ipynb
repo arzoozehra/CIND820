{
  "nbformat": 4,
  "nbformat_minor": 0,
  "metadata": {
    "colab": {
      "provenance": [],
      "include_colab_link": true
    },
    "kernelspec": {
      "name": "python3",
      "display_name": "Python 3"
    },
    "language_info": {
      "name": "python"
    }
  },
  "cells": [
    {
      "cell_type": "markdown",
      "metadata": {
        "id": "view-in-github",
        "colab_type": "text"
      },
      "source": [
        "<a href=\"https://colab.research.google.com/github/arzoozehra/CIND820/blob/main/hypertuned_SVC.ipynb\" target=\"_parent\"><img src=\"https://colab.research.google.com/assets/colab-badge.svg\" alt=\"Open In Colab\"/></a>"
      ]
    },
    {
      "cell_type": "markdown",
      "source": [
        "**Import libraries**"
      ],
      "metadata": {
        "id": "-bkY_pYm8WwM"
      }
    },
    {
      "cell_type": "code",
      "execution_count": 1,
      "metadata": {
        "id": "Wr2dHIs7WLWJ",
        "outputId": "c74a3d93-196d-4295-d171-a50acc018366",
        "colab": {
          "base_uri": "https://localhost:8080/"
        }
      },
      "outputs": [
        {
          "output_type": "stream",
          "name": "stdout",
          "text": [
            "Looking in indexes: https://pypi.org/simple, https://us-python.pkg.dev/colab-wheels/public/simple/\n",
            "Collecting contractions\n",
            "  Downloading contractions-0.1.73-py2.py3-none-any.whl (8.7 kB)\n",
            "Collecting textsearch>=0.0.21\n",
            "  Downloading textsearch-0.0.24-py2.py3-none-any.whl (7.6 kB)\n",
            "Collecting anyascii\n",
            "  Downloading anyascii-0.3.1-py3-none-any.whl (287 kB)\n",
            "\u001b[K     |████████████████████████████████| 287 kB 43.9 MB/s \n",
            "\u001b[?25hCollecting pyahocorasick\n",
            "  Downloading pyahocorasick-1.4.4-cp38-cp38-manylinux_2_17_x86_64.manylinux2014_x86_64.whl (110 kB)\n",
            "\u001b[K     |████████████████████████████████| 110 kB 50.4 MB/s \n",
            "\u001b[?25hInstalling collected packages: pyahocorasick, anyascii, textsearch, contractions\n",
            "Successfully installed anyascii-0.3.1 contractions-0.1.73 pyahocorasick-1.4.4 textsearch-0.0.24\n"
          ]
        },
        {
          "output_type": "stream",
          "name": "stderr",
          "text": [
            "[nltk_data] Downloading package stopwords to /root/nltk_data...\n",
            "[nltk_data]   Unzipping corpora/stopwords.zip.\n",
            "[nltk_data] Downloading package wordnet to /root/nltk_data...\n",
            "[nltk_data] Downloading package omw-1.4 to /root/nltk_data...\n"
          ]
        }
      ],
      "source": [
        "import pandas as pd\n",
        "import numpy as np\n",
        "import matplotlib.pyplot as plt\n",
        "import re\n",
        "!pip install contractions\n",
        "import contractions\n",
        "import nltk\n",
        "nltk.download('stopwords')\n",
        "nltk.download('wordnet')\n",
        "nltk.download('omw-1.4')\n",
        "#!pip install pyspellchecker\n",
        "#from spellchecker import SpellChecker\n",
        "from nltk.corpus import stopwords\n",
        "from nltk.stem import PorterStemmer, WordNetLemmatizer\n",
        "from sklearn.feature_extraction.text import TfidfVectorizer\n",
        "#from sklearn.feature_selection import SelectKBest, f_classif\n",
        "from sklearn.preprocessing import StandardScaler\n",
        "from sklearn.svm import SVC, LinearSVC\n",
        "from sklearn.model_selection import cross_val_score, RandomizedSearchCV #, GridSearchCV\n",
        "from sklearn.metrics import accuracy_score, classification_report, confusion_matrix, ConfusionMatrixDisplay, mean_squared_error"
      ]
    },
    {
      "cell_type": "markdown",
      "source": [
        "**Load data**"
      ],
      "metadata": {
        "id": "GfYAFFPs8gNl"
      }
    },
    {
      "cell_type": "code",
      "source": [
        "url = 'https://raw.githubusercontent.com/arzoozehra/CIND820/main/data/train.csv'\n",
        "train = pd.read_csv(url)\n",
        "test = pd.read_csv('https://raw.githubusercontent.com/arzoozehra/CIND820/main/data/test.csv')\n",
        "\n",
        "train.drop(['textID', 'selected_text'], axis=1, inplace=True)\n",
        "test.drop(['textID'], axis=1, inplace=True)\n",
        "\n",
        "# Remove row with missing values\n",
        "train.dropna(inplace=True)"
      ],
      "metadata": {
        "id": "WzPmmeuGrev1"
      },
      "execution_count": 2,
      "outputs": []
    },
    {
      "cell_type": "code",
      "source": [
        "print(train[\"text\"].head(10))\n",
        "print(train[\"text\"].tail(10))"
      ],
      "metadata": {
        "id": "rQwxYsauWPT1",
        "outputId": "77752971-d469-4f0e-aada-0ab5f4658be5",
        "colab": {
          "base_uri": "https://localhost:8080/"
        }
      },
      "execution_count": 3,
      "outputs": [
        {
          "output_type": "stream",
          "name": "stdout",
          "text": [
            "0                  I`d have responded, if I were going\n",
            "1        Sooo SAD I will miss you here in San Diego!!!\n",
            "2                            my boss is bullying me...\n",
            "3                       what interview! leave me alone\n",
            "4     Sons of ****, why couldn`t they put them on t...\n",
            "5    http://www.dothebouncy.com/smf - some shameles...\n",
            "6    2am feedings for the baby are fun when he is a...\n",
            "7                                           Soooo high\n",
            "8                                          Both of you\n",
            "9     Journey!? Wow... u just became cooler.  hehe....\n",
            "Name: text, dtype: object\n",
            "27471    i`m defying gravity. and nobody in alll of oz,...\n",
            "27472    http://twitpic.com/663vr - Wanted to visit the...\n",
            "27473     in spoke to you yesterday and u didnt respond...\n",
            "27474    So I get up early and I feel good about the da...\n",
            "27475                                       enjoy ur night\n",
            "27476     wish we could come see u on Denver  husband l...\n",
            "27477     I`ve wondered about rake to.  The client has ...\n",
            "27478     Yay good for both of you. Enjoy the break - y...\n",
            "27479                           But it was worth it  ****.\n",
            "27480       All this flirting going on - The ATG smiles...\n",
            "Name: text, dtype: object\n"
          ]
        }
      ]
    },
    {
      "cell_type": "markdown",
      "source": [
        "**Clean data**"
      ],
      "metadata": {
        "id": "QbW4UiEpq9kA"
      }
    },
    {
      "cell_type": "code",
      "source": [
        "def clean_data(data):\n",
        "  \n",
        "  # Convert text to lowercase\n",
        "  data['text'] = data['text'].str.lower()\n",
        "\n",
        "  # Expand contractions e.g \"gonna\" to \"going to\" and \"i've\" to \"i have\"\n",
        "  data['text'].replace( {r\"`\": \"'\"}, inplace= True, regex = True)\n",
        "  data['text'] = data['text'].apply(contractions.fix)\n",
        "\n",
        "  # Remove @, Unicode characters, punctuation, emojis, URLs, retweets, words with digits, and 1 or 2 letter words\n",
        "  data['text'].replace( {r\"(@\\[A-Za-z0-9]+)|([^0-9A-Za-z \\t])|(\\w+:\\/\\/\\S+)|^rt|http.+?|\\w*\\d\\w*|\\b\\w{1,2}\\b\": \" \"}, inplace= True, regex = True)\n",
        "\n",
        "  # Remove extra whitespaces\n",
        "  data['text'].replace( {r\" +\": \" \"}, inplace= True, regex = True)\n",
        "  data['text'] = data['text'].str.strip()\n",
        "\n",
        "  # Correct spellings\n",
        "  #spell = SpellChecker()\n",
        "\n",
        "  #def correct_spellings(text):\n",
        "  #    corrected_text = []\n",
        "  #    misspelled_words = {}\n",
        "  #    words = text.split()\n",
        "  #    for w in spell.unknown(words):\n",
        "  #        corr = spell.correction(w)\n",
        "  #        if corr:\n",
        "  #            misspelled_words[w] = spell.correction(w) or w\n",
        "  #    corrected_text = [misspelled_words.get(w, w) for w in words]\n",
        "  #    return \" \".join(corrected_text)\n",
        "\n",
        "  #data['text'] = data['text'].apply(lambda x : correct_spellings(x))\n",
        "\n",
        "  # Remove stopwords\n",
        "  stop = stopwords.words('english')\n",
        "  data['text'] = data['text'].apply(lambda text: \" \".join([word for word in text.split() if word not in (stop)]))\n",
        "\n",
        "  # Stemming\n",
        "  stemmer = PorterStemmer()\n",
        "  data['text'] = data['text'].apply(lambda text: \" \".join([stemmer.stem(word) for word in text.split()]))\n",
        "\n",
        "  # Lemmatizing\n",
        "  lemmatizer = WordNetLemmatizer()\n",
        "  data['text'] = data['text'].apply(lambda text: \" \".join([lemmatizer.lemmatize(word) for word in text.split()]))\n",
        "\n",
        "  return data"
      ],
      "metadata": {
        "id": "NyWCTuFDeTPP"
      },
      "execution_count": 4,
      "outputs": []
    },
    {
      "cell_type": "code",
      "source": [
        "#Clean trraining data\n",
        "train = clean_data(train)\n",
        "\n",
        "#Clean testing data\n",
        "test = clean_data(test)"
      ],
      "metadata": {
        "id": "5tDnIMd-q89D"
      },
      "execution_count": 5,
      "outputs": []
    },
    {
      "cell_type": "code",
      "source": [
        "print(train[\"text\"].head(10))\n",
        "print(train[\"text\"].tail(10))"
      ],
      "metadata": {
        "id": "tT-89PPBe703",
        "outputId": "220addb4-2cfb-489e-f581-196c4e2ace1e",
        "colab": {
          "base_uri": "https://localhost:8080/"
        }
      },
      "execution_count": 6,
      "outputs": [
        {
          "output_type": "stream",
          "name": "stdout",
          "text": [
            "0                          would respond go\n",
            "1                   sooo sad miss san diego\n",
            "2                                 bos bulli\n",
            "3                       interview leav alon\n",
            "4       son could put releas alreadi bought\n",
            "5    shameless plug best ranger forum earth\n",
            "6                   feed babi fun smile coo\n",
            "7                                soooo high\n",
            "8                                          \n",
            "9     journey wow becam cooler hehe possibl\n",
            "Name: text, dtype: object\n",
            "27471        defi graviti nobodi alll wizard ever go bring\n",
            "27472                                 want visit anim late\n",
            "27473           spoke yesterday respond girl wassup though\n",
            "27474    get earli feel good day walk work feel alright...\n",
            "27475                                          enjoy night\n",
            "27476    wish could come see denver husband lost job ca...\n",
            "27477    wonder rake client made clear net forc dev lea...\n",
            "27478    yay good enjoy break probabl need hectic weeke...\n",
            "27479                                                worth\n",
            "27480                           flirt go atg smile yay hug\n",
            "Name: text, dtype: object\n"
          ]
        }
      ]
    },
    {
      "cell_type": "code",
      "source": [
        "print(test['text'].head(20))\n",
        "print(test['text'].tail(20))"
      ],
      "metadata": {
        "id": "1C8JW4YmUcbO",
        "outputId": "a0d33b7f-f1f4-41c6-9357-e275c75a8b0d",
        "colab": {
          "base_uri": "https://localhost:8080/"
        }
      },
      "execution_count": 7,
      "outputs": [
        {
          "output_type": "stream",
          "name": "stdout",
          "text": [
            "0                                      last session day\n",
            "1     shanghai also realli excit precis skyscrap gal...\n",
            "2     recess hit veroniqu branquinho quit compani shame\n",
            "3                                        happi birthday\n",
            "4                                                  like\n",
            "5                                    great weee visitor\n",
            "6                                think everyon hate lol\n",
            "7        soooooo wish could school myspac complet block\n",
            "8                           within short time last clue\n",
            "9     get day alright done anyth yet leav soon steps...\n",
            "10                bike put hold known argh total bummer\n",
            "11                                            check win\n",
            "12                             twitter tavern bore much\n",
            "13    weekend youngest son turn tomorrow make kind s...\n",
            "14          come socket feel like phone hole virgin loo\n",
            "15               hot today like hate new timet bad week\n",
            "16                                                 miss\n",
            "17                                                cramp\n",
            "18          guy say answer question yesterday nice song\n",
            "19          go spiritu stagnent explod ego realis great\n",
            "Name: text, dtype: object\n",
            "3514                                        notic ridicul\n",
            "3515                        ride high low mood chore blow\n",
            "3516            hate websit say ticket price anoth websit\n",
            "3517                                          brake wrrkk\n",
            "3518                     outta follow talk lol shi biteee\n",
            "3519    ye thank haha field flower exist singapor well...\n",
            "3520                                song site want comput\n",
            "3521                      munchin bacon butti woohoo fave\n",
            "3522           school today teacher cancel lesson chillin\n",
            "3523    eye start hurt late must reach updat due tweet...\n",
            "3524    hair dresser pas away yesterday breast cancer ...\n",
            "3525    suppos tomorrow tooooo use ga ticket money pay...\n",
            "3526               best thing ever done carri birth child\n",
            "3527    mother citi terrel texa district citi council ...\n",
            "3528                                     friday even idea\n",
            "3529                                tire cannot sleep tri\n",
            "3530    alon old hous thank net keep aliv kick whoever...\n",
            "3531    know mean littl dog sink depress want move som...\n",
            "3532                sutra next youtub video go love video\n",
            "3533                                  omgssh ang cute bbi\n",
            "Name: text, dtype: object\n"
          ]
        }
      ]
    },
    {
      "cell_type": "markdown",
      "source": [
        "\n",
        "**Feature Selection**"
      ],
      "metadata": {
        "id": "SRySCY_E8Kke"
      }
    },
    {
      "cell_type": "code",
      "source": [
        "# Vectorization parameters\n",
        "# Range (inclusive) of n-gram sizes for tokenizing text.\n",
        "NGRAM_RANGE = (1, 2)  # Use 1-grams + 2-grams.\n",
        "\n",
        "# Whether text should be split into word or character n-grams.\n",
        "TOKEN_MODE = 'word' # Split text into word tokens.\n",
        "\n",
        "# Minimum document frequency below which a token will be discarded.\n",
        "MIN_DOCUMENT_FREQUENCY = 5\n",
        "\n",
        "# In case of large number of features, limit the number to top 20K features\n",
        "# TOP_K = 20000\n",
        "\n",
        "\n",
        "def ngram_vectorize(train_texts, train_labels, test_texts):\n",
        "    \"\"\"Vectorizes texts as n-gram vectors.\n",
        "\n",
        "    1 text = 1 tf-idf vector the length of vocabulary of unigrams + bigrams.\n",
        "\n",
        "    # Arguments\n",
        "        train_texts: list, training text strings.\n",
        "        train_labels: np.ndarray, training labels.\n",
        "        test_texts: list, test text strings.\n",
        "\n",
        "    # Returns\n",
        "        train_vectors, test_vectors: vectorized training and test texts\n",
        "    \"\"\"\n",
        "    # Create keyword arguments to pass to the 'tf-idf' vectorizer.\n",
        "    kwargs = {\n",
        "            'ngram_range': NGRAM_RANGE,\n",
        "            'analyzer': TOKEN_MODE,  \n",
        "            'min_df': MIN_DOCUMENT_FREQUENCY,\n",
        "            'max_df' : 0.8,\n",
        "            'sublinear_tf': 'True'\n",
        "    }\n",
        "    vectorizer = TfidfVectorizer(**kwargs)\n",
        "\n",
        "    # Learn vocabulary from training texts and vectorize training texts.\n",
        "    train_vectors = vectorizer.fit_transform(train_texts)\n",
        "\n",
        "    # Vectorize validation texts.\n",
        "    test_vectors = vectorizer.transform(test_texts)\n",
        "\n",
        "    # # Select top 'k' of the vectorized features.\n",
        "    # selector = SelectKBest(f_classif, k=min(TOP_K, train_vectors.shape[1]))\n",
        "    # selector.fit(train_vectors, train_labels)\n",
        "    # train_vectors = selector.transform(train_vectors).astype('float32').toarray()\n",
        "    # test_vectors = selector.transform(test_vectors).astype('float32').toarray()\n",
        "    \n",
        "    return train_vectors, test_vectors"
      ],
      "metadata": {
        "id": "I3KHg2k7kGyh"
      },
      "execution_count": 8,
      "outputs": []
    },
    {
      "cell_type": "code",
      "source": [
        "# # Create feature vectors\n",
        "# vectorizer = TfidfVectorizer(ngram_range = NGRAM_RANGE,\n",
        "#                              min_df = 5,\n",
        "#                              max_df = 0.8,\n",
        "#                              sublinear_tf = True,\n",
        "#                              use_idf = True)\n",
        "# train_vectors = vectorizer.fit_transform(train['text'])\n",
        "# test_vectors = vectorizer.transform(test['text'])\n",
        "\n",
        "\n",
        "train_vectors, test_vectors = ngram_vectorize(train['text'], train['sentiment'], test['text'])"
      ],
      "metadata": {
        "id": "JxxnENgQbT8j"
      },
      "execution_count": 9,
      "outputs": []
    },
    {
      "cell_type": "code",
      "source": [
        "print(np.shape(train_vectors))\n",
        "print(np.shape(test_vectors))\n",
        "print(type(train_vectors))\n",
        "print(type(test_vectors))\n",
        "print(train_vectors)\n",
        "print(test_vectors)"
      ],
      "metadata": {
        "id": "0wVyvU22-nrz",
        "outputId": "eeb926ca-9004-4e39-b5b2-529ec718f02e",
        "colab": {
          "base_uri": "https://localhost:8080/"
        }
      },
      "execution_count": 10,
      "outputs": [
        {
          "output_type": "stream",
          "name": "stdout",
          "text": [
            "(27480, 5713)\n",
            "(3534, 5713)\n",
            "<class 'scipy.sparse.csr.csr_matrix'>\n",
            "<class 'scipy.sparse.csr.csr_matrix'>\n",
            "  (0, 1820)\t0.38326451581912685\n",
            "  (0, 4000)\t0.8034022007679172\n",
            "  (0, 5589)\t0.45568982292256366\n",
            "  (1, 4105)\t0.45627931100613855\n",
            "  (1, 4082)\t0.439065376010063\n",
            "  (1, 1162)\t0.4469517318318497\n",
            "  (1, 4104)\t0.41594179643203955\n",
            "  (1, 3109)\t0.2234645748731722\n",
            "  (1, 4079)\t0.2573828506031706\n",
            "  (1, 4436)\t0.3317755405729033\n",
            "  (2, 480)\t1.0\n",
            "  (3, 2682)\t0.617798947196839\n",
            "  (3, 96)\t0.44995042684227504\n",
            "  (3, 2681)\t0.38876646508911716\n",
            "  (3, 2430)\t0.5145189110703745\n",
            "  (4, 486)\t0.4341091888771329\n",
            "  (4, 99)\t0.3589756584164877\n",
            "  (4, 3977)\t0.4810972253884908\n",
            "  (4, 3843)\t0.37937883930588473\n",
            "  (4, 897)\t0.3130875967777052\n",
            "  (4, 4421)\t0.45747021930532633\n",
            "  (5, 1277)\t0.442118935829836\n",
            "  (5, 1625)\t0.47174653041671916\n",
            "  (5, 3881)\t0.5183208541233874\n",
            "  (5, 384)\t0.301305095942751\n",
            "  :\t:\n",
            "  (27476, 2628)\t0.3707906113713125\n",
            "  (27476, 2677)\t0.2838849208095284\n",
            "  (27476, 2943)\t0.24432947611696676\n",
            "  (27476, 1611)\t0.3380054097090568\n",
            "  (27476, 5518)\t0.25427598815082597\n",
            "  (27476, 3336)\t0.19460992673182503\n",
            "  (27477, 5651)\t0.3657810491926524\n",
            "  (27477, 5642)\t0.34596552158642824\n",
            "  (27477, 2188)\t0.3598013627604883\n",
            "  (27477, 4723)\t0.3153803319175051\n",
            "  (27477, 5394)\t0.2019116872016598\n",
            "  (27477, 506)\t0.24989768013084196\n",
            "  (27477, 3282)\t0.18149531617450507\n",
            "  (27477, 2356)\t0.29029690258002816\n",
            "  (27477, 1330)\t0.22450503291192944\n",
            "  (27477, 3798)\t0.2458758717370449\n",
            "  (27477, 4721)\t0.2022919959127495\n",
            "  (27477, 5648)\t0.22749721868723072\n",
            "  (27477, 1887)\t0.15072762716197358\n",
            "  (27477, 646)\t0.26628364256954756\n",
            "  (27478, 5587)\t1.0\n",
            "  (27479, 2345)\t0.5509036463284489\n",
            "  (27479, 5648)\t0.49124735520812235\n",
            "  (27479, 4369)\t0.5902730024029709\n",
            "  (27479, 1820)\t0.32673994414094276\n",
            "  (0, 4232)\t0.7948598884654676\n",
            "  (0, 2634)\t0.49189848003773473\n",
            "  (0, 1021)\t0.35529374191678437\n",
            "  (1, 5129)\t0.4512209887262624\n",
            "  (1, 3916)\t0.49502411920728695\n",
            "  (1, 3907)\t0.24489568940436532\n",
            "  (1, 1887)\t0.21315029547292083\n",
            "  (1, 1410)\t0.3249098263544804\n",
            "  (1, 730)\t0.4840160792113276\n",
            "  (1, 104)\t0.3257389037098675\n",
            "  (2, 4242)\t0.5304155035350174\n",
            "  (2, 3856)\t0.4672903727595314\n",
            "  (2, 2228)\t0.46793001052042604\n",
            "  (2, 838)\t0.5304155035350174\n",
            "  (3, 2123)\t0.6914876222765177\n",
            "  (3, 2122)\t0.42818306611855034\n",
            "  (3, 418)\t0.5818110776941987\n",
            "  (4, 2725)\t1.0\n",
            "  (5, 2011)\t1.0\n",
            "  (6, 4852)\t0.44903545919179366\n",
            "  (6, 2816)\t0.4364640286981499\n",
            "  (6, 2150)\t0.5342926266077093\n",
            "  (6, 1384)\t0.567800754837144\n",
            "  (7, 5490)\t0.33545228728144855\n",
            "  (7, 5488)\t0.2570531584406563\n",
            "  :\t:\n",
            "  (3530, 2432)\t0.33719899482237425\n",
            "  (3530, 2337)\t0.20977231906747093\n",
            "  (3530, 2099)\t0.22701536051572271\n",
            "  (3530, 96)\t0.24558609615560326\n",
            "  (3530, 85)\t0.3094918854515032\n",
            "  (3531, 5309)\t0.4145026074618967\n",
            "  (3531, 5292)\t0.18964342801240897\n",
            "  (3531, 4307)\t0.41991276228450664\n",
            "  (3531, 3209)\t0.27952442957634716\n",
            "  (3531, 3039)\t0.27047924230544595\n",
            "  (3531, 2790)\t0.2540516529127522\n",
            "  (3531, 2589)\t0.4012884417462667\n",
            "  (3531, 2571)\t0.19722313653036708\n",
            "  (3531, 1202)\t0.29668620836258675\n",
            "  (3531, 1140)\t0.33482678476965316\n",
            "  (3532, 5699)\t0.34142059147396103\n",
            "  (3532, 5248)\t0.5410324580968165\n",
            "  (3532, 3369)\t0.26647446869232466\n",
            "  (3532, 2915)\t0.4707292107287013\n",
            "  (3532, 2882)\t0.19651031925865378\n",
            "  (3532, 1846)\t0.4707292107287013\n",
            "  (3532, 1820)\t0.19472783903890073\n",
            "  (3533, 983)\t0.44538603703064716\n",
            "  (3533, 334)\t0.6517536753240355\n",
            "  (3533, 134)\t0.6138798129273731\n"
          ]
        }
      ]
    },
    {
      "cell_type": "markdown",
      "source": [
        "**Standardization**"
      ],
      "metadata": {
        "id": "3_4Uuxaq-SOH"
      }
    },
    {
      "cell_type": "code",
      "source": [
        "scaler = StandardScaler(with_mean = False)\n",
        "train_vectors = scaler.fit_transform(train_vectors)\n",
        "test_vectors = scaler.transform(test_vectors)"
      ],
      "metadata": {
        "id": "EOH3YMGo-Vwg"
      },
      "execution_count": 11,
      "outputs": []
    },
    {
      "cell_type": "markdown",
      "source": [
        "**SVC (linear kernel) modelling and evaluation**"
      ],
      "metadata": {
        "id": "qSC6vhwKaAb5"
      }
    },
    {
      "cell_type": "code",
      "source": [
        "model = SVC(kernel='linear', random_state=42)\n",
        "model_name = \"SVC (linear kernel)\"\n",
        "\n",
        "# 5-fold Cross-validation\n",
        "k = 5\n",
        "cv_df = pd.DataFrame(index=range(k))\n",
        "entries = []\n",
        "\n",
        "accuracies = cross_val_score(model, train_vectors, train['sentiment'], scoring=\"accuracy\", cv=k)\n",
        "for fold_id, accuracy in enumerate(accuracies):\n",
        "  entries.append((fold_id, accuracy))\n",
        "\n",
        "cv_df = pd.DataFrame(entries, columns=['fold_id', 'accuracy'])"
      ],
      "metadata": {
        "id": "wfQ4nX-DdPtN"
      },
      "execution_count": null,
      "outputs": []
    },
    {
      "cell_type": "code",
      "source": [
        "mean_accuracy = cv_df.accuracy.mean()\n",
        "std_accuracy = cv_df.accuracy.std()\n",
        "\n",
        "acc = pd.DataFrame([[mean_accuracy,std_accuracy]], columns = ['Accuracy', ' Std dev'])\n",
        "print(acc)"
      ],
      "metadata": {
        "id": "TE3JzHbFR2lC"
      },
      "execution_count": null,
      "outputs": []
    },
    {
      "cell_type": "code",
      "source": [
        "model.fit(train_vectors, train['sentiment'])\n",
        "prediction = model.predict(test_vectors)\n",
        "print(f\"Test set accuracy: {accuracy_score(test['sentiment'], prediction) * 100} %\\n\")"
      ],
      "metadata": {
        "id": "8TXDJnAAjs3E"
      },
      "execution_count": null,
      "outputs": []
    },
    {
      "cell_type": "code",
      "source": [
        "# Classification report\n",
        "print(f\"\\tCLASSIFICATIION METRICS - {model_name}\\n\")\n",
        "print(classification_report(test['sentiment'], prediction, target_names= ['negative', 'neutral', 'positive']))"
      ],
      "metadata": {
        "id": "IsfG8KcKj3g0"
      },
      "execution_count": null,
      "outputs": []
    },
    {
      "cell_type": "code",
      "source": [
        "data = confusion_matrix(test['sentiment'], prediction)\n",
        "disp = ConfusionMatrixDisplay(confusion_matrix=data, display_labels=model.classes_)\n",
        "disp.plot(cmap=\"Blues\")\n",
        "plt.ylabel('ACTUAL')\n",
        "plt.xlabel('\\nPREDICTED')\n",
        "plt.title(\"\\nCONFUSION MATRIX - SVC (linear kernel)\\n\");\n",
        "plt.show()"
      ],
      "metadata": {
        "id": "LXYBbBiHkFtS"
      },
      "execution_count": null,
      "outputs": []
    },
    {
      "cell_type": "markdown",
      "source": [
        "**Hypertuning the model parameters**"
      ],
      "metadata": {
        "id": "i_8q07ADycg4"
      }
    },
    {
      "cell_type": "code",
      "source": [
        "param_grid = {'kernel': ('linear', 'rbf','poly') , \n",
        "              'C':[5, 10, 90],\n",
        "              'gamma': [1,0.1,0.01,0.001], \n",
        "              'degree' : [2,3,4,5,6]}"
      ],
      "metadata": {
        "id": "eBGX65Zvsoff"
      },
      "execution_count": null,
      "outputs": []
    },
    {
      "cell_type": "code",
      "source": [
        "# grid = GridSearchCV(SVC() , param_grid , refit=True , verbose=3)\n",
        "# grid.fit(train_vectors, train[\"sentiment\"])"
      ],
      "metadata": {
        "id": "zF1kWe7YtTJe"
      },
      "execution_count": null,
      "outputs": []
    },
    {
      "cell_type": "code",
      "source": [
        "random_search = RandomizedSearchCV(SVC(), param_grid, refit = True, verbose = 3, cv = 3)\n",
        "random_search.fit(train_vectors, train[\"sentiment\"])"
      ],
      "metadata": {
        "id": "v5OaE5rJspWM"
      },
      "execution_count": null,
      "outputs": []
    },
    {
      "cell_type": "code",
      "source": [
        "print(random_search.best_params_)"
      ],
      "metadata": {
        "id": "WlWY9R2zuSJ2"
      },
      "execution_count": null,
      "outputs": []
    },
    {
      "cell_type": "code",
      "source": [
        "print(random_search.best_estimator_)"
      ],
      "metadata": {
        "id": "Y3y8TdviuTqC"
      },
      "execution_count": null,
      "outputs": []
    },
    {
      "cell_type": "code",
      "source": [
        "print(random_search.best_score_)"
      ],
      "metadata": {
        "id": "h53_h0A74Jba"
      },
      "execution_count": null,
      "outputs": []
    },
    {
      "cell_type": "markdown",
      "source": [
        "**Evaluating the model with best parameters**"
      ],
      "metadata": {
        "id": "c2AmW1a5yw2V"
      }
    },
    {
      "cell_type": "code",
      "source": [
        "random_predictions = random_search.best_estimator_.predict(train_vectors)\n",
        "accuracy_score(train[\"sentiment\"], random_predictions)"
      ],
      "metadata": {
        "id": "riLXlVEGuYSS"
      },
      "execution_count": null,
      "outputs": []
    },
    {
      "cell_type": "code",
      "source": [
        "mse = mean_squared_error(train[\"sentiment\"], random_predictions)\n",
        "np.sqrt(mse)"
      ],
      "metadata": {
        "id": "mPP-XW3_5N4W"
      },
      "execution_count": null,
      "outputs": []
    },
    {
      "cell_type": "code",
      "source": [
        "random_predictions = random_search.best_estimator_.predict(test_vectors)\n",
        "accuracy_score(test[\"sentiment\"], random_predictions)"
      ],
      "metadata": {
        "id": "AlNEJ3SM4n0Z"
      },
      "execution_count": null,
      "outputs": []
    },
    {
      "cell_type": "code",
      "source": [
        "mse = mean_squared_error(test[\"sentiment\"], random_predictions)\n",
        "np.sqrt(mse)"
      ],
      "metadata": {
        "id": "3BYx0DdV5Pxs"
      },
      "execution_count": null,
      "outputs": []
    },
    {
      "cell_type": "code",
      "source": [
        "print(confusion_matrix(test[\"sentiment\"], random_predictions))"
      ],
      "metadata": {
        "id": "M6JgIYiruvHT"
      },
      "execution_count": null,
      "outputs": []
    },
    {
      "cell_type": "code",
      "source": [
        "print(classification_report(test[\"sentiment\"], random_predictions))"
      ],
      "metadata": {
        "id": "CYt8fTJfyMaD"
      },
      "execution_count": null,
      "outputs": []
    }
  ]
}