{
  "nbformat": 4,
  "nbformat_minor": 0,
  "metadata": {
    "colab": {
      "provenance": [],
      "include_colab_link": true
    },
    "kernelspec": {
      "name": "python3",
      "display_name": "Python 3"
    },
    "language_info": {
      "name": "python"
    }
  },
  "cells": [
    {
      "cell_type": "markdown",
      "metadata": {
        "id": "view-in-github",
        "colab_type": "text"
      },
      "source": [
        "<a href=\"https://colab.research.google.com/github/arzoozehra/CIND820/blob/main/hypertuned_SVC.ipynb\" target=\"_parent\"><img src=\"https://colab.research.google.com/assets/colab-badge.svg\" alt=\"Open In Colab\"/></a>"
      ]
    },
    {
      "cell_type": "markdown",
      "source": [
        "**Import libraries**"
      ],
      "metadata": {
        "id": "-bkY_pYm8WwM"
      }
    },
    {
      "cell_type": "code",
      "execution_count": 2,
      "metadata": {
        "id": "Wr2dHIs7WLWJ",
        "outputId": "4c217d53-2586-45a2-b85f-7accf1b5f995",
        "colab": {
          "base_uri": "https://localhost:8080/"
        }
      },
      "outputs": [
        {
          "output_type": "stream",
          "name": "stdout",
          "text": [
            "Looking in indexes: https://pypi.org/simple, https://us-python.pkg.dev/colab-wheels/public/simple/\n",
            "Collecting contractions\n",
            "  Downloading contractions-0.1.73-py2.py3-none-any.whl (8.7 kB)\n",
            "Collecting textsearch>=0.0.21\n",
            "  Downloading textsearch-0.0.24-py2.py3-none-any.whl (7.6 kB)\n",
            "Collecting pyahocorasick\n",
            "  Downloading pyahocorasick-1.4.4-cp38-cp38-manylinux_2_17_x86_64.manylinux2014_x86_64.whl (110 kB)\n",
            "\u001b[K     |████████████████████████████████| 110 kB 5.0 MB/s \n",
            "\u001b[?25hCollecting anyascii\n",
            "  Downloading anyascii-0.3.1-py3-none-any.whl (287 kB)\n",
            "\u001b[K     |████████████████████████████████| 287 kB 35.2 MB/s \n",
            "\u001b[?25hInstalling collected packages: pyahocorasick, anyascii, textsearch, contractions\n",
            "Successfully installed anyascii-0.3.1 contractions-0.1.73 pyahocorasick-1.4.4 textsearch-0.0.24\n"
          ]
        },
        {
          "output_type": "stream",
          "name": "stderr",
          "text": [
            "[nltk_data] Downloading package stopwords to /root/nltk_data...\n",
            "[nltk_data]   Unzipping corpora/stopwords.zip.\n",
            "[nltk_data] Downloading package wordnet to /root/nltk_data...\n",
            "[nltk_data] Downloading package omw-1.4 to /root/nltk_data...\n"
          ]
        }
      ],
      "source": [
        "import pandas as pd\n",
        "import numpy as np\n",
        "import matplotlib.pyplot as plt\n",
        "import seaborn as sns\n",
        "import re\n",
        "import time\n",
        "!pip install contractions\n",
        "import contractions\n",
        "import nltk\n",
        "nltk.download('stopwords')\n",
        "nltk.download('wordnet')\n",
        "nltk.download('omw-1.4')\n",
        "#!pip install pyspellchecker\n",
        "#from spellchecker import SpellChecker\n",
        "from nltk.corpus import stopwords\n",
        "from nltk.stem import PorterStemmer, WordNetLemmatizer\n",
        "from sklearn.feature_extraction.text import TfidfVectorizer\n",
        "from sklearn.feature_selection import SelectKBest, f_classif\n",
        "from sklearn.svm import SVC, LinearSVC\n",
        "from sklearn.model_selection import cross_val_score\n",
        "from sklearn.metrics import accuracy_score, classification_report, confusion_matrix, ConfusionMatrixDisplay"
      ]
    },
    {
      "cell_type": "markdown",
      "source": [
        "**Load data**"
      ],
      "metadata": {
        "id": "GfYAFFPs8gNl"
      }
    },
    {
      "cell_type": "code",
      "source": [
        "url = 'https://raw.githubusercontent.com/arzoozehra/CIND820/main/data/train.csv'\n",
        "train = pd.read_csv(url)\n",
        "test = pd.read_csv('https://raw.githubusercontent.com/arzoozehra/CIND820/main/data/test.csv')\n",
        "\n",
        "# Remove row with missing values\n",
        "train.dropna(inplace=True)"
      ],
      "metadata": {
        "id": "WzPmmeuGrev1"
      },
      "execution_count": 3,
      "outputs": []
    },
    {
      "cell_type": "code",
      "source": [
        "print(train[\"text\"].head(10))\n",
        "print(train[\"text\"].tail(10))"
      ],
      "metadata": {
        "id": "rQwxYsauWPT1",
        "outputId": "8d49544b-446c-4901-b014-84d226a74aab",
        "colab": {
          "base_uri": "https://localhost:8080/"
        }
      },
      "execution_count": 4,
      "outputs": [
        {
          "output_type": "stream",
          "name": "stdout",
          "text": [
            "0                  I`d have responded, if I were going\n",
            "1        Sooo SAD I will miss you here in San Diego!!!\n",
            "2                            my boss is bullying me...\n",
            "3                       what interview! leave me alone\n",
            "4     Sons of ****, why couldn`t they put them on t...\n",
            "5    http://www.dothebouncy.com/smf - some shameles...\n",
            "6    2am feedings for the baby are fun when he is a...\n",
            "7                                           Soooo high\n",
            "8                                          Both of you\n",
            "9     Journey!? Wow... u just became cooler.  hehe....\n",
            "Name: text, dtype: object\n",
            "27471    i`m defying gravity. and nobody in alll of oz,...\n",
            "27472    http://twitpic.com/663vr - Wanted to visit the...\n",
            "27473     in spoke to you yesterday and u didnt respond...\n",
            "27474    So I get up early and I feel good about the da...\n",
            "27475                                       enjoy ur night\n",
            "27476     wish we could come see u on Denver  husband l...\n",
            "27477     I`ve wondered about rake to.  The client has ...\n",
            "27478     Yay good for both of you. Enjoy the break - y...\n",
            "27479                           But it was worth it  ****.\n",
            "27480       All this flirting going on - The ATG smiles...\n",
            "Name: text, dtype: object\n"
          ]
        }
      ]
    },
    {
      "cell_type": "markdown",
      "source": [
        "**Clean data**"
      ],
      "metadata": {
        "id": "QbW4UiEpq9kA"
      }
    },
    {
      "cell_type": "code",
      "source": [
        "def clean_data(data):\n",
        "  \n",
        "  # Convert text to lowercase\n",
        "  data['text'] = data['text'].str.lower()\n",
        "\n",
        "  # Expand contractions e.g \"gonna\" to \"going to\" and \"i've\" to \"i have\"\n",
        "  data['text'].replace( {r\"`\": \"'\"}, inplace= True, regex = True)\n",
        "  data['text'] = data['text'].apply(contractions.fix)\n",
        "\n",
        "  # Remove @, Unicode characters, punctuation, emojis, URLs, retweets, words with digits, and 1 or 2 letter words\n",
        "  data['text'].replace( {r\"(@\\[A-Za-z0-9]+)|([^0-9A-Za-z \\t])|(\\w+:\\/\\/\\S+)|^rt|http.+?|\\w*\\d\\w*|\\b\\w{1,2}\\b\": \" \"}, inplace= True, regex = True)\n",
        "\n",
        "  # Remove extra whitespaces\n",
        "  data['text'].replace( {r\" +\": \" \"}, inplace= True, regex = True)\n",
        "  data['text'] = data['text'].str.strip()\n",
        "\n",
        "  # Correct spellings\n",
        "  #spell = SpellChecker()\n",
        "\n",
        "  #def correct_spellings(text):\n",
        "  #    corrected_text = []\n",
        "  #    misspelled_words = {}\n",
        "  #    words = text.split()\n",
        "  #    for w in spell.unknown(words):\n",
        "  #        corr = spell.correction(w)\n",
        "  #        if corr:\n",
        "  #            misspelled_words[w] = spell.correction(w) or w\n",
        "  #    corrected_text = [misspelled_words.get(w, w) for w in words]\n",
        "  #    return \" \".join(corrected_text)\n",
        "\n",
        "  #data['text'] = data['text'].apply(lambda x : correct_spellings(x))\n",
        "\n",
        "  # Remove stopwords\n",
        "  stop = stopwords.words('english')\n",
        "  data['text'] = data['text'].apply(lambda text: \" \".join([word for word in text.split() if word not in (stop)]))\n",
        "\n",
        "  # Stemming\n",
        "  stemmer = PorterStemmer()\n",
        "  data['text'] = data['text'].apply(lambda text: \" \".join([stemmer.stem(word) for word in text.split()]))\n",
        "\n",
        "  # Lemmatizing\n",
        "  lemmatizer = WordNetLemmatizer()\n",
        "  data['text'] = data['text'].apply(lambda text: \" \".join([lemmatizer.lemmatize(word) for word in text.split()]))\n",
        "\n",
        "  return data"
      ],
      "metadata": {
        "id": "NyWCTuFDeTPP"
      },
      "execution_count": 5,
      "outputs": []
    },
    {
      "cell_type": "code",
      "source": [
        "#Clean trraining data\n",
        "train = clean_data(train)\n",
        "\n",
        "#Clean testing data\n",
        "test = clean_data(test)"
      ],
      "metadata": {
        "id": "5tDnIMd-q89D"
      },
      "execution_count": 6,
      "outputs": []
    },
    {
      "cell_type": "code",
      "source": [
        "print(train[\"text\"].head(10))\n",
        "print(train[\"text\"].tail(10))"
      ],
      "metadata": {
        "id": "tT-89PPBe703",
        "outputId": "83cb0856-cdfc-49a8-f077-47ee15aefdd4",
        "colab": {
          "base_uri": "https://localhost:8080/"
        }
      },
      "execution_count": 7,
      "outputs": [
        {
          "output_type": "stream",
          "name": "stdout",
          "text": [
            "0                          would respond go\n",
            "1                   sooo sad miss san diego\n",
            "2                                 bos bulli\n",
            "3                       interview leav alon\n",
            "4       son could put releas alreadi bought\n",
            "5    shameless plug best ranger forum earth\n",
            "6                   feed babi fun smile coo\n",
            "7                                soooo high\n",
            "8                                          \n",
            "9     journey wow becam cooler hehe possibl\n",
            "Name: text, dtype: object\n",
            "27471        defi graviti nobodi alll wizard ever go bring\n",
            "27472                                 want visit anim late\n",
            "27473           spoke yesterday respond girl wassup though\n",
            "27474    get earli feel good day walk work feel alright...\n",
            "27475                                          enjoy night\n",
            "27476    wish could come see denver husband lost job ca...\n",
            "27477    wonder rake client made clear net forc dev lea...\n",
            "27478    yay good enjoy break probabl need hectic weeke...\n",
            "27479                                                worth\n",
            "27480                           flirt go atg smile yay hug\n",
            "Name: text, dtype: object\n"
          ]
        }
      ]
    },
    {
      "cell_type": "code",
      "source": [
        "print(test['text'].head(20))\n",
        "print(test['text'].tail(20))"
      ],
      "metadata": {
        "id": "1C8JW4YmUcbO",
        "outputId": "214de644-af6a-41eb-8d51-7b572dab0b29",
        "colab": {
          "base_uri": "https://localhost:8080/"
        }
      },
      "execution_count": 8,
      "outputs": [
        {
          "output_type": "stream",
          "name": "stdout",
          "text": [
            "0                                      last session day\n",
            "1     shanghai also realli excit precis skyscrap gal...\n",
            "2     recess hit veroniqu branquinho quit compani shame\n",
            "3                                        happi birthday\n",
            "4                                                  like\n",
            "5                                    great weee visitor\n",
            "6                                think everyon hate lol\n",
            "7        soooooo wish could school myspac complet block\n",
            "8                           within short time last clue\n",
            "9     get day alright done anyth yet leav soon steps...\n",
            "10                bike put hold known argh total bummer\n",
            "11                                            check win\n",
            "12                             twitter tavern bore much\n",
            "13    weekend youngest son turn tomorrow make kind s...\n",
            "14          come socket feel like phone hole virgin loo\n",
            "15               hot today like hate new timet bad week\n",
            "16                                                 miss\n",
            "17                                                cramp\n",
            "18          guy say answer question yesterday nice song\n",
            "19          go spiritu stagnent explod ego realis great\n",
            "Name: text, dtype: object\n",
            "3514                                        notic ridicul\n",
            "3515                        ride high low mood chore blow\n",
            "3516            hate websit say ticket price anoth websit\n",
            "3517                                          brake wrrkk\n",
            "3518                     outta follow talk lol shi biteee\n",
            "3519    ye thank haha field flower exist singapor well...\n",
            "3520                                song site want comput\n",
            "3521                      munchin bacon butti woohoo fave\n",
            "3522           school today teacher cancel lesson chillin\n",
            "3523    eye start hurt late must reach updat due tweet...\n",
            "3524    hair dresser pas away yesterday breast cancer ...\n",
            "3525    suppos tomorrow tooooo use ga ticket money pay...\n",
            "3526               best thing ever done carri birth child\n",
            "3527    mother citi terrel texa district citi council ...\n",
            "3528                                     friday even idea\n",
            "3529                                tire cannot sleep tri\n",
            "3530    alon old hous thank net keep aliv kick whoever...\n",
            "3531    know mean littl dog sink depress want move som...\n",
            "3532                sutra next youtub video go love video\n",
            "3533                                  omgssh ang cute bbi\n",
            "Name: text, dtype: object\n"
          ]
        }
      ]
    },
    {
      "cell_type": "markdown",
      "source": [
        "\n",
        "**Feature Selection**"
      ],
      "metadata": {
        "id": "SRySCY_E8Kke"
      }
    },
    {
      "cell_type": "code",
      "source": [
        "# Vectorization parameters\n",
        "# Range (inclusive) of n-gram sizes for tokenizing text.\n",
        "NGRAM_RANGE = (1, 2)  # Use 1-grams + 2-grams.\n",
        "\n",
        "# Limit on the number of features. We use the top 20K features.\n",
        "TOP_K = 20000\n",
        "\n",
        "# Whether text should be split into word or character n-grams.\n",
        "TOKEN_MODE = 'word' # Split text into word tokens.\n",
        "\n",
        "# Minimum document frequency below which a token will be discarded.\n",
        "MIN_DOCUMENT_FREQUENCY = 5\n",
        "\n",
        "def ngram_vectorize(train_texts, train_labels, test_texts):\n",
        "    \"\"\"Vectorizes texts as n-gram vectors.\n",
        "\n",
        "    1 text = 1 tf-idf vector the length of vocabulary of unigrams + bigrams.\n",
        "\n",
        "    # Arguments\n",
        "        train_texts: list, training text strings.\n",
        "        train_labels: np.ndarray, training labels.\n",
        "        test_texts: list, test text strings.\n",
        "\n",
        "    # Returns\n",
        "        train_vectors, test_vectors: vectorized training and test texts\n",
        "    \"\"\"\n",
        "    # Create keyword arguments to pass to the 'tf-idf' vectorizer.\n",
        "    kwargs = {\n",
        "            'ngram_range': NGRAM_RANGE,\n",
        "            'analyzer': TOKEN_MODE,  \n",
        "            'min_df': MIN_DOCUMENT_FREQUENCY,\n",
        "            'max_df' : 0.8,\n",
        "            'sublinear_tf': 'True'\n",
        "    }\n",
        "    vectorizer = TfidfVectorizer(**kwargs)\n",
        "\n",
        "    # Learn vocabulary from training texts and vectorize training texts.\n",
        "    train_vectors = vectorizer.fit_transform(train_texts)\n",
        "\n",
        "    # Vectorize validation texts.\n",
        "    test_vectors = vectorizer.transform(test_texts)\n",
        "\n",
        "    # # Select top 'k' of the vectorized features.\n",
        "    # selector = SelectKBest(f_classif, k=min(TOP_K, train_vectors.shape[1]))\n",
        "    # selector.fit(train_vectors, train_labels)\n",
        "    # train_vectors = selector.transform(train_vectors).astype('float32').toarray()\n",
        "    # test_vectors = selector.transform(test_vectors).astype('float32').toarray()\n",
        "    return train_vectors, test_vectors\n"
      ],
      "metadata": {
        "id": "I3KHg2k7kGyh"
      },
      "execution_count": 9,
      "outputs": []
    },
    {
      "cell_type": "code",
      "source": [
        "# # Create feature vectors\n",
        "# vectorizer = TfidfVectorizer(ngram_range = NGRAM_RANGE,\n",
        "#                              min_df = 5,\n",
        "#                              max_df = 0.8,\n",
        "#                              sublinear_tf = True,\n",
        "#                              use_idf = True)\n",
        "# train_vectors = vectorizer.fit_transform(train['text'])\n",
        "# test_vectors = vectorizer.transform(test['text'])\n",
        "\n",
        "\n",
        "train_vectors, test_vectors = ngram_vectorize(train['text'], train['sentiment'], test['text'])"
      ],
      "metadata": {
        "id": "JxxnENgQbT8j"
      },
      "execution_count": 17,
      "outputs": []
    },
    {
      "cell_type": "code",
      "source": [
        "print(np.shape(train_vectors))\n",
        "print(np.shape(test_vectors))\n",
        "print(type(train_vectors))\n",
        "print(type(test_vectors))\n",
        "print(train_vectors)\n",
        "print(test_vectors)"
      ],
      "metadata": {
        "id": "0wVyvU22-nrz",
        "outputId": "f9a43859-8791-41e9-db43-a117a4b33f4c",
        "colab": {
          "base_uri": "https://localhost:8080/"
        }
      },
      "execution_count": 18,
      "outputs": [
        {
          "output_type": "stream",
          "name": "stdout",
          "text": [
            "(27480, 5713)\n",
            "(3534, 5713)\n",
            "<class 'scipy.sparse.csr.csr_matrix'>\n",
            "<class 'scipy.sparse.csr.csr_matrix'>\n"
          ]
        }
      ]
    },
    {
      "cell_type": "markdown",
      "source": [
        "**SVC (linear kernel)**"
      ],
      "metadata": {
        "id": "qSC6vhwKaAb5"
      }
    },
    {
      "cell_type": "code",
      "source": [
        "model = SVC(kernel='linear')\n",
        "model_name = \"SVC (linear kernel)\"\n",
        "\n",
        "# 5-fold Cross-validation\n",
        "k = 5\n",
        "cv_df = pd.DataFrame(index=range(k))\n",
        "entries = []\n",
        "\n",
        "accuracies = cross_val_score(model, train_vectors, train['sentiment'], scoring=\"accuracy\", cv=k)\n",
        "for fold_id, accuracy in enumerate(accuracies):\n",
        "  entries.append((fold_id, accuracy))\n",
        "\n",
        "cv_df = pd.DataFrame(entries, columns=['fold_id', 'accuracy'])"
      ],
      "metadata": {
        "id": "wfQ4nX-DdPtN"
      },
      "execution_count": null,
      "outputs": []
    },
    {
      "cell_type": "code",
      "source": [
        "mean_accuracy = cv_df.accuracy.mean()\n",
        "std_accuracy = cv_df.accuracy.std()\n",
        "\n",
        "acc = pd.concat([mean_accuracy, std_accuracy], axis= 1, \n",
        "          ignore_index=True)\n",
        "acc.columns = ['Accuracy', ' Std dev']\n",
        "acc"
      ],
      "metadata": {
        "id": "TE3JzHbFR2lC"
      },
      "execution_count": null,
      "outputs": []
    },
    {
      "cell_type": "code",
      "source": [
        "model.fit(train_vectors, train['sentiment'])\n",
        "prediction = model.predict(test_vectors)\n",
        "print(f\"Test set accuracy: {accuracy_score(test['sentiment'], prediction) * 100} %\\n\")"
      ],
      "metadata": {
        "id": "8TXDJnAAjs3E"
      },
      "execution_count": null,
      "outputs": []
    },
    {
      "cell_type": "code",
      "source": [
        "# Classification report\n",
        "print(f\"\\tCLASSIFICATIION METRICS - {model_name}\\n\")\n",
        "print(classification_report(test['sentiment'], prediction, target_names= ['negative', 'neutral', 'positive']))"
      ],
      "metadata": {
        "id": "IsfG8KcKj3g0"
      },
      "execution_count": null,
      "outputs": []
    },
    {
      "cell_type": "code",
      "source": [
        "data = confusion_matrix(test['sentiment'], prediction)\n",
        "disp = ConfusionMatrixDisplay(confusion_matrix=data, display_labels=model.classes_)\n",
        "disp.plot(cmap=\"Blues\")\n",
        "plt.ylabel('ACTUAL')\n",
        "plt.xlabel('\\nPREDICTED')\n",
        "plt.title(\"\\nCONFUSION MATRIX - SVC (linear kernel)\\n\");\n",
        "plt.show()"
      ],
      "metadata": {
        "id": "LXYBbBiHkFtS"
      },
      "execution_count": null,
      "outputs": []
    }
  ]
}