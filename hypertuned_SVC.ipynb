{
  "nbformat": 4,
  "nbformat_minor": 0,
  "metadata": {
    "colab": {
      "provenance": [],
      "include_colab_link": true
    },
    "kernelspec": {
      "name": "python3",
      "display_name": "Python 3"
    },
    "language_info": {
      "name": "python"
    }
  },
  "cells": [
    {
      "cell_type": "markdown",
      "metadata": {
        "id": "view-in-github",
        "colab_type": "text"
      },
      "source": [
        "<a href=\"https://colab.research.google.com/github/arzoozehra/CIND820/blob/main/hypertuned_SVC.ipynb\" target=\"_parent\"><img src=\"https://colab.research.google.com/assets/colab-badge.svg\" alt=\"Open In Colab\"/></a>"
      ]
    },
    {
      "cell_type": "markdown",
      "source": [
        "**Import libraries**"
      ],
      "metadata": {
        "id": "-bkY_pYm8WwM"
      }
    },
    {
      "cell_type": "code",
      "execution_count": 1,
      "metadata": {
        "id": "Wr2dHIs7WLWJ",
        "outputId": "bee0977b-f5d1-4340-9743-7722386bbc70",
        "colab": {
          "base_uri": "https://localhost:8080/"
        }
      },
      "outputs": [
        {
          "output_type": "stream",
          "name": "stdout",
          "text": [
            "Looking in indexes: https://pypi.org/simple, https://us-python.pkg.dev/colab-wheels/public/simple/\n",
            "Collecting contractions\n",
            "  Downloading contractions-0.1.73-py2.py3-none-any.whl (8.7 kB)\n",
            "Collecting textsearch>=0.0.21\n",
            "  Downloading textsearch-0.0.24-py2.py3-none-any.whl (7.6 kB)\n",
            "Collecting pyahocorasick\n",
            "  Downloading pyahocorasick-1.4.4-cp38-cp38-manylinux_2_17_x86_64.manylinux2014_x86_64.whl (110 kB)\n",
            "\u001b[K     |████████████████████████████████| 110 kB 5.8 MB/s \n",
            "\u001b[?25hCollecting anyascii\n",
            "  Downloading anyascii-0.3.1-py3-none-any.whl (287 kB)\n",
            "\u001b[K     |████████████████████████████████| 287 kB 19.8 MB/s \n",
            "\u001b[?25hInstalling collected packages: pyahocorasick, anyascii, textsearch, contractions\n",
            "Successfully installed anyascii-0.3.1 contractions-0.1.73 pyahocorasick-1.4.4 textsearch-0.0.24\n"
          ]
        },
        {
          "output_type": "stream",
          "name": "stderr",
          "text": [
            "[nltk_data] Downloading package stopwords to /root/nltk_data...\n",
            "[nltk_data]   Unzipping corpora/stopwords.zip.\n",
            "[nltk_data] Downloading package wordnet to /root/nltk_data...\n",
            "[nltk_data] Downloading package omw-1.4 to /root/nltk_data...\n"
          ]
        }
      ],
      "source": [
        "import pandas as pd\n",
        "import numpy as np\n",
        "import matplotlib.pyplot as plt\n",
        "import re\n",
        "!pip install contractions\n",
        "import contractions\n",
        "import nltk\n",
        "nltk.download(\"stopwords\")\n",
        "nltk.download(\"wordnet\")\n",
        "nltk.download(\"omw-1.4\")\n",
        "#!pip install pyspellchecker\n",
        "#from spellchecker import SpellChecker\n",
        "from nltk.corpus import stopwords\n",
        "from nltk.stem import PorterStemmer, WordNetLemmatizer\n",
        "from sklearn.feature_extraction.text import TfidfVectorizer\n",
        "from sklearn.svm import SVC\n",
        "from sklearn.model_selection import cross_val_score, RandomizedSearchCV\n",
        "from sklearn.metrics import accuracy_score, classification_report, confusion_matrix, ConfusionMatrixDisplay, mean_squared_error"
      ]
    },
    {
      "cell_type": "markdown",
      "source": [
        "**Load and preprocess data**"
      ],
      "metadata": {
        "id": "GfYAFFPs8gNl"
      }
    },
    {
      "cell_type": "code",
      "source": [
        "url = \"https://raw.githubusercontent.com/arzoozehra/CIND820/main/data/train.csv\"\n",
        "train = pd.read_csv(url)\n",
        "test = pd.read_csv(\"https://raw.githubusercontent.com/arzoozehra/CIND820/main/data/test.csv\")\n",
        "\n",
        "# Drop unnecessary columns\n",
        "train.drop([\"textID\", \"selected_text\"], axis=1, inplace=True)\n",
        "test.drop([\"textID\"], axis=1, inplace=True)\n",
        "\n",
        "# Remove row with missing values\n",
        "train.dropna(inplace=True)"
      ],
      "metadata": {
        "id": "WzPmmeuGrev1"
      },
      "execution_count": 2,
      "outputs": []
    },
    {
      "cell_type": "code",
      "source": [
        "print(train[\"text\"].head(10))\n",
        "print(train[\"text\"].tail(10))"
      ],
      "metadata": {
        "id": "rQwxYsauWPT1",
        "outputId": "89ae8701-719b-4aa2-b85a-db29782e65be",
        "colab": {
          "base_uri": "https://localhost:8080/"
        }
      },
      "execution_count": null,
      "outputs": [
        {
          "output_type": "stream",
          "name": "stdout",
          "text": [
            "0                  I`d have responded, if I were going\n",
            "1        Sooo SAD I will miss you here in San Diego!!!\n",
            "2                            my boss is bullying me...\n",
            "3                       what interview! leave me alone\n",
            "4     Sons of ****, why couldn`t they put them on t...\n",
            "5    http://www.dothebouncy.com/smf - some shameles...\n",
            "6    2am feedings for the baby are fun when he is a...\n",
            "7                                           Soooo high\n",
            "8                                          Both of you\n",
            "9     Journey!? Wow... u just became cooler.  hehe....\n",
            "Name: text, dtype: object\n",
            "27471    i`m defying gravity. and nobody in alll of oz,...\n",
            "27472    http://twitpic.com/663vr - Wanted to visit the...\n",
            "27473     in spoke to you yesterday and u didnt respond...\n",
            "27474    So I get up early and I feel good about the da...\n",
            "27475                                       enjoy ur night\n",
            "27476     wish we could come see u on Denver  husband l...\n",
            "27477     I`ve wondered about rake to.  The client has ...\n",
            "27478     Yay good for both of you. Enjoy the break - y...\n",
            "27479                           But it was worth it  ****.\n",
            "27480       All this flirting going on - The ATG smiles...\n",
            "Name: text, dtype: object\n"
          ]
        }
      ]
    },
    {
      "cell_type": "markdown",
      "source": [
        "**Clean data**"
      ],
      "metadata": {
        "id": "QbW4UiEpq9kA"
      }
    },
    {
      "cell_type": "code",
      "source": [
        "def clean_data(data):\n",
        "  \"\"\"Cleans text strings given in data.\n",
        "  \n",
        "  # Arguments\n",
        "      data : text strings to be cleaned\n",
        "  # Returns\n",
        "      data: cleaned texts\n",
        "  \"\"\"\n",
        "  \n",
        "  # Convert text to lowercase\n",
        "  data[\"text\"] = data[\"text\"].str.lower()\n",
        "\n",
        "  # Expand contractions e.g \"gonna\" to \"going to\" and \"i've\" to \"i have\"\n",
        "  data[\"text\"].replace( {r\"`\": \"'\"}, inplace= True, regex = True)\n",
        "  data[\"text\"] = data[\"text\"].apply(contractions.fix)\n",
        "\n",
        "  # Remove @, Unicode characters, punctuation, emojis, URLs, retweets, words with digits, and 1 or 2 letter words\n",
        "  data[\"text\"].replace( {r\"(@\\[A-Za-z0-9]+)|([^0-9A-Za-z \\t])|(\\w+:\\/\\/\\S+)|^rt|http.+?|\\w*\\d\\w*|\\b\\w{1,2}\\b\": \" \"}, inplace= True, regex = True)\n",
        "\n",
        "  # Remove extra whitespaces\n",
        "  data[\"text\"].replace( {r\" +\": \" \"}, inplace= True, regex = True)\n",
        "  data[\"text\"] = data[\"text\"].str.strip()\n",
        "\n",
        "  # Correct spellings\n",
        "  #spell = SpellChecker()\n",
        "\n",
        "  #def correct_spellings(text):\n",
        "  #    corrected_text = []\n",
        "  #    misspelled_words = {}\n",
        "  #    words = text.split()\n",
        "  #    for w in spell.unknown(words):\n",
        "  #        corr = spell.correction(w)\n",
        "  #        if corr:\n",
        "  #            misspelled_words[w] = spell.correction(w) or w\n",
        "  #    corrected_text = [misspelled_words.get(w, w) for w in words]\n",
        "  #    return \" \".join(corrected_text)\n",
        "\n",
        "  #data[\"text\"] = data[\"text\"].apply(lambda x : correct_spellings(x))\n",
        "\n",
        "  # Remove stopwords\n",
        "  stop = stopwords.words(\"english\")\n",
        "  data[\"text\"] = data[\"text\"].apply(lambda text: \" \".join([word for word in text.split() if word not in (stop)]))\n",
        "\n",
        "  # Stemming\n",
        "  stemmer = PorterStemmer()\n",
        "  data[\"text\"] = data[\"text\"].apply(lambda text: \" \".join([stemmer.stem(word) for word in text.split()]))\n",
        "\n",
        "  # Lemmatizing\n",
        "  lemmatizer = WordNetLemmatizer()\n",
        "  data[\"text\"] = data[\"text\"].apply(lambda text: \" \".join([lemmatizer.lemmatize(word) for word in text.split()]))\n",
        "\n",
        "  return data"
      ],
      "metadata": {
        "id": "NyWCTuFDeTPP"
      },
      "execution_count": 3,
      "outputs": []
    },
    {
      "cell_type": "code",
      "source": [
        "#Clean trraining data\n",
        "train = clean_data(train)\n",
        "\n",
        "#Clean testing data\n",
        "test = clean_data(test)"
      ],
      "metadata": {
        "id": "5tDnIMd-q89D"
      },
      "execution_count": 4,
      "outputs": []
    },
    {
      "cell_type": "code",
      "source": [
        "print(train[\"text\"].head(10))\n",
        "print(train[\"text\"].tail(10))"
      ],
      "metadata": {
        "id": "tT-89PPBe703",
        "outputId": "690572b5-2450-43d3-8f0b-9c239a941db9",
        "colab": {
          "base_uri": "https://localhost:8080/"
        }
      },
      "execution_count": null,
      "outputs": [
        {
          "output_type": "stream",
          "name": "stdout",
          "text": [
            "0                          would respond go\n",
            "1                   sooo sad miss san diego\n",
            "2                                 bos bulli\n",
            "3                       interview leav alon\n",
            "4       son could put releas alreadi bought\n",
            "5    shameless plug best ranger forum earth\n",
            "6                   feed babi fun smile coo\n",
            "7                                soooo high\n",
            "8                                          \n",
            "9     journey wow becam cooler hehe possibl\n",
            "Name: text, dtype: object\n",
            "27471        defi graviti nobodi alll wizard ever go bring\n",
            "27472                                 want visit anim late\n",
            "27473           spoke yesterday respond girl wassup though\n",
            "27474    get earli feel good day walk work feel alright...\n",
            "27475                                          enjoy night\n",
            "27476    wish could come see denver husband lost job ca...\n",
            "27477    wonder rake client made clear net forc dev lea...\n",
            "27478    yay good enjoy break probabl need hectic weeke...\n",
            "27479                                                worth\n",
            "27480                           flirt go atg smile yay hug\n",
            "Name: text, dtype: object\n"
          ]
        }
      ]
    },
    {
      "cell_type": "markdown",
      "source": [
        "**Vectorize text using TF-IDF**"
      ],
      "metadata": {
        "id": "SRySCY_E8Kke"
      }
    },
    {
      "cell_type": "code",
      "source": [
        "# Vectorization parameters\n",
        "# Range (inclusive) of n-gram sizes for tokenizing text.\n",
        "NGRAM_RANGE = (1, 2)  # Use 1-grams + 2-grams.\n",
        "\n",
        "# Whether text should be split into word or character n-grams.\n",
        "TOKEN_MODE = \"word\" # Split text into word tokens.\n",
        "\n",
        "# Minimum document frequency below which a token will be discarded.\n",
        "MIN_DOCUMENT_FREQUENCY = 5\n",
        "\n",
        "# Limit on the number of features. We use the top 20K features.\n",
        "TOP_K = 20000\n",
        "\n",
        "def ngram_vectorize(train_texts, train_labels, test_texts):\n",
        "    \"\"\"Vectorizes texts as n-gram vectors.\n",
        "\n",
        "    1 text = 1 tf-idf vector the length of vocabulary of unigrams + bigrams.\n",
        "\n",
        "    # Arguments\n",
        "        train_texts: list, training text strings.\n",
        "        train_labels: np.ndarray, training labels.\n",
        "        test_texts: list, test text strings.\n",
        "\n",
        "    # Returns\n",
        "        train_vectors, test_vectors: vectorized training and test texts\n",
        "    \"\"\"\n",
        "    # Create keyword arguments to pass to the 'tf-idf' vectorizer.\n",
        "    kwargs = {\n",
        "            \"ngram_range\": NGRAM_RANGE,\n",
        "            \"analyzer\": TOKEN_MODE,  \n",
        "            \"min_df\": MIN_DOCUMENT_FREQUENCY,\n",
        "            \"max_df\" : 0.8,\n",
        "            \"max_features\": TOP_K,\n",
        "            \"sublinear_tf\": \"True\"\n",
        "    }\n",
        "    vectorizer = TfidfVectorizer(**kwargs)\n",
        "\n",
        "    # Learn vocabulary from training texts and vectorize training texts.\n",
        "    train_vectors = vectorizer.fit_transform(train_texts)\n",
        "\n",
        "    # Vectorize validation texts.\n",
        "    test_vectors = vectorizer.transform(test_texts)\n",
        "\n",
        "    return train_vectors, test_vectors"
      ],
      "metadata": {
        "id": "I3KHg2k7kGyh"
      },
      "execution_count": 5,
      "outputs": []
    },
    {
      "cell_type": "code",
      "source": [
        "# Create features vectors\n",
        "train_vectors, test_vectors = ngram_vectorize(train[\"text\"], train[\"sentiment\"], test[\"text\"])"
      ],
      "metadata": {
        "id": "JxxnENgQbT8j"
      },
      "execution_count": 6,
      "outputs": []
    },
    {
      "cell_type": "markdown",
      "source": [
        "**SVC modelling and evaluation**"
      ],
      "metadata": {
        "id": "qSC6vhwKaAb5"
      }
    },
    {
      "cell_type": "code",
      "source": [
        "model = SVC(kernel=\"linear\")\n",
        "model_name = \"SVC (linear kernel)\"\n",
        "\n",
        "# 5-fold Cross-validation\n",
        "k = 5\n",
        "cv_df = pd.DataFrame(index=range(k))\n",
        "entries = []\n",
        "\n",
        "accuracies = cross_val_score(model, train_vectors, train[\"sentiment\"], scoring=\"accuracy\", cv=k)\n",
        "for fold_id, accuracy in enumerate(accuracies):\n",
        "  entries.append((fold_id, accuracy))\n",
        "\n",
        "cv_df = pd.DataFrame(entries, columns=[\"fold_id\", \"accuracy\"])"
      ],
      "metadata": {
        "id": "wfQ4nX-DdPtN"
      },
      "execution_count": null,
      "outputs": []
    },
    {
      "cell_type": "code",
      "source": [
        "mean_accuracy = cv_df.accuracy.mean()\n",
        "std_accuracy = cv_df.accuracy.std()\n",
        "\n",
        "acc = pd.DataFrame([[mean_accuracy,std_accuracy]], columns = [\"Accuracy\", \" Std dev\"])\n",
        "print(acc)"
      ],
      "metadata": {
        "id": "TE3JzHbFR2lC",
        "colab": {
          "base_uri": "https://localhost:8080/"
        },
        "outputId": "55f54eda-9890-424e-d1d4-99ee4844b801"
      },
      "execution_count": null,
      "outputs": [
        {
          "output_type": "stream",
          "name": "stdout",
          "text": [
            "   Accuracy   Std dev\n",
            "0  0.709789  0.006206\n"
          ]
        }
      ]
    },
    {
      "cell_type": "code",
      "source": [
        "model = SVC(kernel=\"linear\")\n",
        "model.fit(train_vectors, train[\"sentiment\"])\n",
        "prediction = model.predict(test_vectors)\n",
        "print(f\"Test set accuracy: {accuracy_score(test['sentiment'], prediction) * 100} %\\n\")"
      ],
      "metadata": {
        "id": "8TXDJnAAjs3E",
        "colab": {
          "base_uri": "https://localhost:8080/"
        },
        "outputId": "5da66719-28c9-4733-fd23-b80a480116f1"
      },
      "execution_count": null,
      "outputs": [
        {
          "output_type": "stream",
          "name": "stdout",
          "text": [
            "Test set accuracy: 72.014714204867 %\n",
            "\n"
          ]
        }
      ]
    },
    {
      "cell_type": "code",
      "source": [
        "data = confusion_matrix(test[\"sentiment\"], prediction)\n",
        "disp = ConfusionMatrixDisplay(confusion_matrix=data, display_labels=model.classes_)\n",
        "disp.plot(cmap=\"Blues\")\n",
        "plt.ylabel(\"ACTUAL\")\n",
        "plt.xlabel(\"\\nPREDICTED\")\n",
        "plt.title(f\"\\nCONFUSION MATRIX - {model_name}\\n\");\n",
        "plt.show()"
      ],
      "metadata": {
        "id": "LXYBbBiHkFtS",
        "colab": {
          "base_uri": "https://localhost:8080/",
          "height": 337
        },
        "outputId": "151eb46e-f41f-4c24-92dd-a1ed4b13c97e"
      },
      "execution_count": null,
      "outputs": [
        {
          "output_type": "display_data",
          "data": {
            "text/plain": [
              "<Figure size 432x288 with 2 Axes>"
            ],
            "image/png": "[encoded data removed]"
          },
          "metadata": {
            "needs_background": "light"
          }
        }
      ]
    },
    {
      "cell_type": "code",
      "source": [
        "# Classification report\n",
        "print(f\"\\tCLASSIFICATIION METRICS - {model_name}\\n\")\n",
        "print(classification_report(test[\"sentiment\"], prediction, target_names= [\"negative\", \"neutral\", \"positive\"]))"
      ],
      "metadata": {
        "id": "IsfG8KcKj3g0",
        "colab": {
          "base_uri": "https://localhost:8080/"
        },
        "outputId": "87bd354b-9e5a-4131-8efd-abfb971c5a1c"
      },
      "execution_count": null,
      "outputs": [
        {
          "output_type": "stream",
          "name": "stdout",
          "text": [
            "\tCLASSIFICATIION METRICS - SVC (linear kernel)\n",
            "\n",
            "              precision    recall  f1-score   support\n",
            "\n",
            "    negative       0.73      0.67      0.70      1001\n",
            "     neutral       0.67      0.74      0.70      1430\n",
            "    positive       0.80      0.73      0.77      1103\n",
            "\n",
            "    accuracy                           0.72      3534\n",
            "   macro avg       0.73      0.72      0.72      3534\n",
            "weighted avg       0.72      0.72      0.72      3534\n",
            "\n"
          ]
        }
      ]
    },
    {
      "cell_type": "markdown",
      "source": [
        "**Tuning hyperparameters of the model**"
      ],
      "metadata": {
        "id": "i_8q07ADycg4"
      }
    },
    {
      "cell_type": "code",
      "source": [
        "param_grid = {'C': [5, 10, 90],\n",
        "              'degree': [2, 3, 4, 5, 6],\n",
        "              'gamma': [1, 0.1, 0.01, 0.001],\n",
        "              'kernel': ('linear', 'rbf', 'poly')\n",
        "             }"
      ],
      "metadata": {
        "id": "eBGX65Zvsoff"
      },
      "execution_count": null,
      "outputs": []
    },
    {
      "cell_type": "code",
      "source": [
        "random_search = RandomizedSearchCV(SVC(), param_grid, refit = True, verbose = 5)\n",
        "random_search.fit(train_vectors, train[\"sentiment\"])"
      ],
      "metadata": {
        "id": "v5OaE5rJspWM",
        "outputId": "c8ab01d5-631b-4141-cede-2a9f78bd38fa",
        "colab": {
          "base_uri": "https://localhost:8080/"
        }
      },
      "execution_count": null,
      "outputs": [
        {
          "output_type": "stream",
          "name": "stdout",
          "text": [
            "Fitting 5 folds for each of 10 candidates, totalling 50 fits\n",
            "[CV 1/5] END C=5, degree=5, gamma=0.1, kernel=poly;, score=0.405 total time=  51.8s\n",
            "[CV 2/5] END C=5, degree=5, gamma=0.1, kernel=poly;, score=0.405 total time=  52.3s\n",
            "[CV 3/5] END C=5, degree=5, gamma=0.1, kernel=poly;, score=0.404 total time=  52.1s\n",
            "[CV 4/5] END C=5, degree=5, gamma=0.1, kernel=poly;, score=0.404 total time=  52.6s\n",
            "[CV 5/5] END C=5, degree=5, gamma=0.1, kernel=poly;, score=0.404 total time=  53.5s\n",
            "[CV 1/5] END C=5, degree=6, gamma=1, kernel=poly;, score=0.466 total time= 3.4min\n",
            "[CV 2/5] END C=5, degree=6, gamma=1, kernel=poly;, score=0.465 total time= 3.3min\n",
            "[CV 3/5] END C=5, degree=6, gamma=1, kernel=poly;, score=0.470 total time= 3.3min\n",
            "[CV 4/5] END C=5, degree=6, gamma=1, kernel=poly;, score=0.456 total time= 3.3min\n",
            "[CV 5/5] END C=5, degree=6, gamma=1, kernel=poly;, score=0.465 total time= 3.3min\n",
            "[CV 1/5] END C=5, degree=6, gamma=1, kernel=rbf;, score=0.689 total time= 3.5min\n",
            "[CV 2/5] END C=5, degree=6, gamma=1, kernel=rbf;, score=0.683 total time= 3.5min\n",
            "[CV 3/5] END C=5, degree=6, gamma=1, kernel=rbf;, score=0.692 total time= 3.5min\n",
            "[CV 4/5] END C=5, degree=6, gamma=1, kernel=rbf;, score=0.692 total time= 3.6min\n",
            "[CV 5/5] END C=5, degree=6, gamma=1, kernel=rbf;, score=0.696 total time= 3.5min\n",
            "[CV 1/5] END C=5, degree=3, gamma=0.01, kernel=poly;, score=0.405 total time=  53.0s\n",
            "[CV 2/5] END C=5, degree=3, gamma=0.01, kernel=poly;, score=0.405 total time=  54.0s\n",
            "[CV 3/5] END C=5, degree=3, gamma=0.01, kernel=poly;, score=0.404 total time=  53.0s\n",
            "[CV 4/5] END C=5, degree=3, gamma=0.01, kernel=poly;, score=0.404 total time=  52.7s\n",
            "[CV 5/5] END C=5, degree=3, gamma=0.01, kernel=poly;, score=0.404 total time=  53.1s\n",
            "[CV 1/5] END C=90, degree=5, gamma=1, kernel=rbf;, score=0.688 total time= 3.6min\n",
            "[CV 2/5] END C=90, degree=5, gamma=1, kernel=rbf;, score=0.682 total time= 3.6min\n",
            "[CV 3/5] END C=90, degree=5, gamma=1, kernel=rbf;, score=0.690 total time= 3.6min\n",
            "[CV 4/5] END C=90, degree=5, gamma=1, kernel=rbf;, score=0.692 total time= 3.6min\n",
            "[CV 5/5] END C=90, degree=5, gamma=1, kernel=rbf;, score=0.695 total time= 3.6min\n",
            "[CV 1/5] END C=5, degree=3, gamma=0.001, kernel=poly;, score=0.405 total time=  54.4s\n",
            "[CV 2/5] END C=5, degree=3, gamma=0.001, kernel=poly;, score=0.405 total time=  53.3s\n",
            "[CV 3/5] END C=5, degree=3, gamma=0.001, kernel=poly;, score=0.404 total time=  53.8s\n",
            "[CV 4/5] END C=5, degree=3, gamma=0.001, kernel=poly;, score=0.404 total time=  53.3s\n",
            "[CV 5/5] END C=5, degree=3, gamma=0.001, kernel=poly;, score=0.404 total time=  54.5s\n",
            "[CV 1/5] END C=5, degree=2, gamma=0.1, kernel=rbf;, score=0.711 total time=  56.6s\n",
            "[CV 2/5] END C=5, degree=2, gamma=0.1, kernel=rbf;, score=0.701 total time=  56.4s\n",
            "[CV 3/5] END C=5, degree=2, gamma=0.1, kernel=rbf;, score=0.714 total time=  57.0s\n",
            "[CV 4/5] END C=5, degree=2, gamma=0.1, kernel=rbf;, score=0.709 total time=  57.5s\n",
            "[CV 5/5] END C=5, degree=2, gamma=0.1, kernel=rbf;, score=0.714 total time=  57.7s\n",
            "[CV 1/5] END C=5, degree=4, gamma=1, kernel=poly;, score=0.514 total time= 2.8min\n",
            "[CV 2/5] END C=5, degree=4, gamma=1, kernel=poly;, score=0.510 total time= 2.8min\n",
            "[CV 3/5] END C=5, degree=4, gamma=1, kernel=poly;, score=0.517 total time= 2.8min\n",
            "[CV 4/5] END C=5, degree=4, gamma=1, kernel=poly;, score=0.509 total time= 2.7min\n",
            "[CV 5/5] END C=5, degree=4, gamma=1, kernel=poly;, score=0.514 total time= 2.9min\n",
            "[CV 1/5] END C=90, degree=4, gamma=0.1, kernel=linear;, score=0.621 total time= 8.7min\n",
            "[CV 2/5] END C=90, degree=4, gamma=0.1, kernel=linear;, score=0.626 total time= 8.2min\n",
            "[CV 3/5] END C=90, degree=4, gamma=0.1, kernel=linear;, score=0.638 total time= 8.8min\n",
            "[CV 4/5] END C=90, degree=4, gamma=0.1, kernel=linear;, score=0.614 total time= 8.3min\n",
            "[CV 5/5] END C=90, degree=4, gamma=0.1, kernel=linear;, score=0.638 total time= 8.6min\n",
            "[CV 1/5] END C=90, degree=3, gamma=1, kernel=poly;, score=0.512 total time= 4.2min\n",
            "[CV 2/5] END C=90, degree=3, gamma=1, kernel=poly;, score=0.509 total time= 4.2min\n",
            "[CV 3/5] END C=90, degree=3, gamma=1, kernel=poly;, score=0.517 total time= 4.2min\n",
            "[CV 4/5] END C=90, degree=3, gamma=1, kernel=poly;, score=0.503 total time= 4.2min\n",
            "[CV 5/5] END C=90, degree=3, gamma=1, kernel=poly;, score=0.515 total time= 4.2min\n"
          ]
        },
        {
          "output_type": "execute_result",
          "data": {
            "text/plain": [
              "RandomizedSearchCV(estimator=SVC(),\n",
              "                   param_distributions={'C': [5, 10, 90],\n",
              "                                        'degree': [2, 3, 4, 5, 6],\n",
              "                                        'gamma': [1, 0.1, 0.01, 0.001],\n",
              "                                        'kernel': ('linear', 'rbf', 'poly')},\n",
              "                   verbose=5)"
            ]
          },
          "metadata": {},
          "execution_count": 17
        }
      ]
    },
    {
      "cell_type": "code",
      "source": [
        "print(random_search.best_params_)"
      ],
      "metadata": {
        "id": "WlWY9R2zuSJ2",
        "colab": {
          "base_uri": "https://localhost:8080/"
        },
        "outputId": "7201ef48-85de-4422-8b13-3b8aa3a66555"
      },
      "execution_count": null,
      "outputs": [
        {
          "metadata": {
            "tags": null
          },
          "name": "stdout",
          "output_type": "stream",
          "text": [
            "{'kernel': 'rbf', 'gamma': 0.1, 'degree': 2, 'C': 5}\n"
          ]
        }
      ]
    },
    {
      "cell_type": "code",
      "source": [
        "print(random_search.best_estimator_)"
      ],
      "metadata": {
        "id": "Y3y8TdviuTqC",
        "colab": {
          "base_uri": "https://localhost:8080/"
        },
        "outputId": "8403717c-469b-4c01-93cf-20a109758ab8"
      },
      "execution_count": null,
      "outputs": [
        {
          "metadata": {
            "tags": null
          },
          "name": "stdout",
          "output_type": "stream",
          "text": [
            "SVC(C=5, degree=2, gamma=0.1)\n"
          ]
        }
      ]
    },
    {
      "cell_type": "code",
      "source": [
        "print(random_search.best_score_)"
      ],
      "metadata": {
        "id": "h53_h0A74Jba",
        "colab": {
          "base_uri": "https://localhost:8080/"
        },
        "outputId": "b505c598-267c-4d58-bb93-fa923be28876"
      },
      "execution_count": null,
      "outputs": [
        {
          "output_type": "stream",
          "name": "stdout",
          "text": [
            "0.7097161572052402\n"
          ]
        }
      ]
    },
    {
      "cell_type": "markdown",
      "source": [
        "**Evaluating the model with best parameters**"
      ],
      "metadata": {
        "id": "c2AmW1a5yw2V"
      }
    },
    {
      "cell_type": "code",
      "source": [
        "random_predictions = random_search.best_estimator_.predict(train_vectors)\n",
        "print(accuracy_score(train[\"sentiment\"], random_predictions))"
      ],
      "metadata": {
        "id": "riLXlVEGuYSS",
        "colab": {
          "base_uri": "https://localhost:8080/"
        },
        "outputId": "e0997d06-f146-4b4e-aa2d-1eb2d73807a3"
      },
      "execution_count": null,
      "outputs": [
        {
          "output_type": "stream",
          "name": "stdout",
          "text": [
            "0.8009825327510917\n"
          ]
        }
      ]
    },
    {
      "cell_type": "code",
      "source": [
        "random_predictions = random_search.best_estimator_.predict(test_vectors)\n",
        "print(accuracy_score(test[\"sentiment\"], random_predictions))"
      ],
      "metadata": {
        "id": "AlNEJ3SM4n0Z",
        "colab": {
          "base_uri": "https://localhost:8080/"
        },
        "outputId": "c06e20c2-a9f2-48a5-9c9c-558f6e069949"
      },
      "execution_count": null,
      "outputs": [
        {
          "output_type": "stream",
          "name": "stdout",
          "text": [
            "0.7198641765704584\n"
          ]
        }
      ]
    },
    {
      "cell_type": "code",
      "source": [
        "data = confusion_matrix(test[\"sentiment\"], random_predictions)\n",
        "disp = ConfusionMatrixDisplay(confusion_matrix=data, display_labels=model.classes_)\n",
        "disp.plot(cmap=\"Blues\")\n",
        "plt.ylabel(\"ACTUAL\")\n",
        "plt.xlabel(\"\\nPREDICTED\")\n",
        "plt.title(f\"\\nCONFUSION MATRIX - SVC\\n\");\n",
        "plt.show()"
      ],
      "metadata": {
        "id": "8nqZLNCFRK0L",
        "outputId": "f05f0f3c-2705-4783-9ad1-44e061b691d1",
        "colab": {
          "base_uri": "https://localhost:8080/",
          "height": 337
        }
      },
      "execution_count": 12,
      "outputs": [
        {
          "output_type": "display_data",
          "data": {
            "text/plain": [
              "<Figure size 432x288 with 2 Axes>"
            ],
            "image/png": "[encoded data removed]"
          },
          "metadata": {
            "needs_background": "light"
          }
        }
      ]
    },
    {
      "cell_type": "code",
      "source": [
        "print(classification_report(test[\"sentiment\"], random_predictions))"
      ],
      "metadata": {
        "id": "CYt8fTJfyMaD",
        "colab": {
          "base_uri": "https://localhost:8080/"
        },
        "outputId": "bd326d4c-c1be-4a20-98fa-aade8d8cd62d"
      },
      "execution_count": null,
      "outputs": [
        {
          "output_type": "stream",
          "name": "stdout",
          "text": [
            "              precision    recall  f1-score   support\n",
            "\n",
            "    negative       0.73      0.67      0.70      1001\n",
            "     neutral       0.66      0.74      0.70      1430\n",
            "    positive       0.80      0.74      0.77      1103\n",
            "\n",
            "    accuracy                           0.72      3534\n",
            "   macro avg       0.73      0.72      0.72      3534\n",
            "weighted avg       0.72      0.72      0.72      3534\n",
            "\n"
          ]
        }
      ]
    }
  ]
}