{
  "nbformat": 4,
  "nbformat_minor": 0,
  "metadata": {
    "colab": {
      "provenance": [],
      "include_colab_link": true
    },
    "kernelspec": {
      "name": "python3",
      "display_name": "Python 3"
    },
    "language_info": {
      "name": "python"
    }
  },
  "cells": [
    {
      "cell_type": "markdown",
      "metadata": {
        "id": "view-in-github",
        "colab_type": "text"
      },
      "source": [
        "<a href=\"https://colab.research.google.com/github/arzoozehra/CIND820/blob/main/hypertuned_SVC.ipynb\" target=\"_parent\"><img src=\"https://colab.research.google.com/assets/colab-badge.svg\" alt=\"Open In Colab\"/></a>"
      ]
    },
    {
      "cell_type": "markdown",
      "source": [
        "**Import libraries**"
      ],
      "metadata": {
        "id": "-bkY_pYm8WwM"
      }
    },
    {
      "cell_type": "code",
      "execution_count": null,
      "metadata": {
        "id": "Wr2dHIs7WLWJ",
        "outputId": "fdc0909d-ee4b-472d-f7da-565269af1f08",
        "colab": {
          "base_uri": "https://localhost:8080/"
        }
      },
      "outputs": [
        {
          "output_type": "stream",
          "name": "stdout",
          "text": [
            "Looking in indexes: https://pypi.org/simple, https://us-python.pkg.dev/colab-wheels/public/simple/\n",
            "Collecting contractions\n",
            "  Downloading contractions-0.1.73-py2.py3-none-any.whl (8.7 kB)\n",
            "Collecting textsearch>=0.0.21\n",
            "  Downloading textsearch-0.0.24-py2.py3-none-any.whl (7.6 kB)\n",
            "Collecting pyahocorasick\n",
            "  Downloading pyahocorasick-1.4.4-cp38-cp38-manylinux_2_17_x86_64.manylinux2014_x86_64.whl (110 kB)\n",
            "\u001b[K     |████████████████████████████████| 110 kB 5.7 MB/s \n",
            "\u001b[?25hCollecting anyascii\n",
            "  Downloading anyascii-0.3.1-py3-none-any.whl (287 kB)\n",
            "\u001b[K     |████████████████████████████████| 287 kB 32.4 MB/s \n",
            "\u001b[?25hInstalling collected packages: pyahocorasick, anyascii, textsearch, contractions\n",
            "Successfully installed anyascii-0.3.1 contractions-0.1.73 pyahocorasick-1.4.4 textsearch-0.0.24\n"
          ]
        },
        {
          "output_type": "stream",
          "name": "stderr",
          "text": [
            "[nltk_data] Downloading package stopwords to /root/nltk_data...\n",
            "[nltk_data]   Unzipping corpora/stopwords.zip.\n",
            "[nltk_data] Downloading package wordnet to /root/nltk_data...\n",
            "[nltk_data] Downloading package omw-1.4 to /root/nltk_data...\n"
          ]
        }
      ],
      "source": [
        "import pandas as pd\n",
        "import numpy as np\n",
        "import matplotlib.pyplot as plt\n",
        "import seaborn as sns\n",
        "import re\n",
        "import time\n",
        "!pip install contractions\n",
        "import contractions\n",
        "import nltk\n",
        "nltk.download('stopwords')\n",
        "nltk.download('wordnet')\n",
        "nltk.download('omw-1.4')\n",
        "#!pip install pyspellchecker\n",
        "#from spellchecker import SpellChecker\n",
        "from nltk.corpus import stopwords\n",
        "from nltk.stem import PorterStemmer, WordNetLemmatizer\n",
        "from collections import Counter\n",
        "import plotly.express as px\n",
        "from wordcloud import WordCloud, STOPWORDS, ImageColorGenerator\n",
        "from sklearn.feature_extraction.text import TfidfVectorizer\n",
        "from sklearn.feature_selection import SelectKBest, f_classif\n",
        "from sklearn.svm import SVC, LinearSVC\n",
        "from sklearn.model_selection import cross_validate, cross_val_score\n",
        "from sklearn.metrics import accuracy_score, classification_report, confusion_matrix, ConfusionMatrixDisplay\n",
        "from xgboost import XGBClassifier\n",
        "from tensorflow.python.keras import models\n",
        "from tensorflow.python.keras.layers import Dense, Dropout\n",
        "from tensorflow.python.keras.callbacks import EarlyStopping\n",
        "from tensorflow.python.keras.optimizer_v2.adam import Adam"
      ]
    },
    {
      "cell_type": "markdown",
      "source": [
        "**Load data**"
      ],
      "metadata": {
        "id": "GfYAFFPs8gNl"
      }
    },
    {
      "cell_type": "code",
      "source": [
        "url = 'https://raw.githubusercontent.com/arzoozehra/CIND820/main/data/train.csv'\n",
        "train = pd.read_csv(url)\n",
        "test = pd.read_csv('https://raw.githubusercontent.com/arzoozehra/CIND820/main/data/test.csv')\n",
        "\n",
        "# Remove row with missing values\n",
        "train.dropna(inplace=True)"
      ],
      "metadata": {
        "id": "WzPmmeuGrev1"
      },
      "execution_count": null,
      "outputs": []
    },
    {
      "cell_type": "code",
      "source": [
        "print(train[\"text\"].head(10))\n",
        "print(train[\"text\"].tail(10))"
      ],
      "metadata": {
        "id": "rQwxYsauWPT1",
        "outputId": "211562ca-bc00-4883-83e4-2e3e3366b59f",
        "colab": {
          "base_uri": "https://localhost:8080/"
        }
      },
      "execution_count": null,
      "outputs": [
        {
          "output_type": "stream",
          "name": "stdout",
          "text": [
            "0                  I`d have responded, if I were going\n",
            "1        Sooo SAD I will miss you here in San Diego!!!\n",
            "2                            my boss is bullying me...\n",
            "3                       what interview! leave me alone\n",
            "4     Sons of ****, why couldn`t they put them on t...\n",
            "5    http://www.dothebouncy.com/smf - some shameles...\n",
            "6    2am feedings for the baby are fun when he is a...\n",
            "7                                           Soooo high\n",
            "8                                          Both of you\n",
            "9     Journey!? Wow... u just became cooler.  hehe....\n",
            "Name: text, dtype: object\n",
            "27471    i`m defying gravity. and nobody in alll of oz,...\n",
            "27472    http://twitpic.com/663vr - Wanted to visit the...\n",
            "27473     in spoke to you yesterday and u didnt respond...\n",
            "27474    So I get up early and I feel good about the da...\n",
            "27475                                       enjoy ur night\n",
            "27476     wish we could come see u on Denver  husband l...\n",
            "27477     I`ve wondered about rake to.  The client has ...\n",
            "27478     Yay good for both of you. Enjoy the break - y...\n",
            "27479                           But it was worth it  ****.\n",
            "27480       All this flirting going on - The ATG smiles...\n",
            "Name: text, dtype: object\n"
          ]
        }
      ]
    },
    {
      "cell_type": "markdown",
      "source": [
        "**Clean training data**"
      ],
      "metadata": {
        "id": "QbW4UiEpq9kA"
      }
    },
    {
      "cell_type": "code",
      "source": [
        "# Convert text to lowercase\n",
        "train['text'] = train['text'].str.lower()\n",
        "\n",
        "# Expand contractions e.g \"gonna\" to \"going to\" and \"i've\" to \"i have\"\n",
        "train['text'].replace( {r\"`\": \"'\"}, inplace= True, regex = True)\n",
        "train['text'] = train['text'].apply(contractions.fix)\n",
        "\n",
        "# Remove @, Unicode characters, punctuation, emojis, URLs, retweets, words with digits, and 1 or 2 letter words\n",
        "train['text'].replace( {r\"(@\\[A-Za-z0-9]+)|([^0-9A-Za-z \\t])|(\\w+:\\/\\/\\S+)|^rt|http.+?|\\w*\\d\\w*|\\b\\w{1,2}\\b\": \" \"}, inplace= True, regex = True)\n",
        "\n",
        "# Remove extra whitespaces\n",
        "train['text'].replace( {r\" +\": \" \"}, inplace= True, regex = True)\n",
        "train['text'] = train['text'].str.strip()\n",
        "\n",
        "# Correct spellings\n",
        "#spell = SpellChecker()\n",
        "\n",
        "#def correct_spellings(text):\n",
        "#    corrected_text = []\n",
        "#    misspelled_words = {}\n",
        "#    words = text.split()\n",
        "#    for w in spell.unknown(words):\n",
        "#        corr = spell.correction(w)\n",
        "#        if corr:\n",
        "#            misspelled_words[w] = spell.correction(w) or w\n",
        "#    corrected_text = [misspelled_words.get(w, w) for w in words]\n",
        "#    return \" \".join(corrected_text)\n",
        "\n",
        "#train['text'] = train['text'].apply(lambda x : correct_spellings(x))\n",
        "\n",
        "# Remove stopwords\n",
        "stop = stopwords.words('english')\n",
        "train['text'] = train['text'].apply(lambda text: \" \".join([word for word in text.split() if word not in (stop)]))\n",
        "\n",
        "# Stemming\n",
        "stemmer = PorterStemmer()\n",
        "train['text'] = train['text'].apply(lambda text: \" \".join([stemmer.stem(word) for word in text.split()]))\n",
        "\n",
        "# Lemmatizing\n",
        "lemmatizer = WordNetLemmatizer()\n",
        "train['text'] = train['text'].apply(lambda text: \" \".join([lemmatizer.lemmatize(word) for word in text.split()]))\n"
      ],
      "metadata": {
        "id": "5tDnIMd-q89D"
      },
      "execution_count": null,
      "outputs": []
    },
    {
      "cell_type": "markdown",
      "source": [
        "**Clean testing data**"
      ],
      "metadata": {
        "id": "-Npku_k2Tj5-"
      }
    },
    {
      "cell_type": "code",
      "source": [
        "# Convert text to lowercase\n",
        "test['text'] = test['text'].str.lower()\n",
        "\n",
        "# Expand contractions e.g \"gonna\" to \"going to\" and \"i've\" to \"i have\"\n",
        "test['text'].replace( {r\"`\": \"'\"}, inplace= True, regex = True)\n",
        "test['text'] = test['text'].apply(contractions.fix)\n",
        "\n",
        "# Remove @, Unicode characters, punctuation, emojis, URLs, retweets, words with digits, and 1 or 2 letter words\n",
        "test['text'].replace( {r\"(@\\[A-Za-z0-9]+)|([^0-9A-Za-z \\t])|(\\w+:\\/\\/\\S+)|^rt|http.+?|\\w*\\d\\w*|\\b\\w{1,2}\\b\": \" \"}, inplace= True, regex = True)\n",
        "\n",
        "# Remove extra whitespaces\n",
        "test['text'].replace( {r\" +\": \" \"}, inplace= True, regex = True)\n",
        "test['text'] = test['text'].str.strip()\n",
        "\n",
        "# Remove stopwords\n",
        "stop = stopwords.words('english')\n",
        "test['text'] = test['text'].apply(lambda text: \" \".join([word for word in text.split() if word not in (stop)]))\n",
        "\n",
        "# Stemming\n",
        "stemmer = PorterStemmer()\n",
        "test['text'] = test['text'].apply(lambda text: \" \".join([stemmer.stem(word) for word in text.split()]))\n",
        "\n",
        "# Lemmatizing\n",
        "lemmatizer = WordNetLemmatizer()\n",
        "test['text'] = test['text'].apply(lambda text: \" \".join([lemmatizer.lemmatize(word) for word in text.split()]))\n"
      ],
      "metadata": {
        "id": "dcgDVjv4TjSq"
      },
      "execution_count": null,
      "outputs": []
    },
    {
      "cell_type": "code",
      "source": [
        "print(train[\"text\"].head(10))\n",
        "print(train[\"text\"].tail(10))"
      ],
      "metadata": {
        "id": "tT-89PPBe703",
        "outputId": "bfd3527e-4041-45f3-bb68-cc12c5f4a534",
        "colab": {
          "base_uri": "https://localhost:8080/"
        }
      },
      "execution_count": null,
      "outputs": [
        {
          "output_type": "stream",
          "name": "stdout",
          "text": [
            "0                          would respond go\n",
            "1                   sooo sad miss san diego\n",
            "2                                 bos bulli\n",
            "3                       interview leav alon\n",
            "4       son could put releas alreadi bought\n",
            "5    shameless plug best ranger forum earth\n",
            "6                   feed babi fun smile coo\n",
            "7                                soooo high\n",
            "8                                          \n",
            "9     journey wow becam cooler hehe possibl\n",
            "Name: text, dtype: object\n",
            "27471        defi graviti nobodi alll wizard ever go bring\n",
            "27472                                 want visit anim late\n",
            "27473           spoke yesterday respond girl wassup though\n",
            "27474    get earli feel good day walk work feel alright...\n",
            "27475                                          enjoy night\n",
            "27476    wish could come see denver husband lost job ca...\n",
            "27477    wonder rake client made clear net forc dev lea...\n",
            "27478    yay good enjoy break probabl need hectic weeke...\n",
            "27479                                                worth\n",
            "27480                           flirt go atg smile yay hug\n",
            "Name: text, dtype: object\n"
          ]
        }
      ]
    },
    {
      "cell_type": "code",
      "source": [
        "print(test['text'].head(20))\n",
        "print(test['text'].tail(20))"
      ],
      "metadata": {
        "id": "1C8JW4YmUcbO",
        "outputId": "a0b14805-e3e0-49c6-8626-8988afa7eed2",
        "colab": {
          "base_uri": "https://localhost:8080/"
        }
      },
      "execution_count": null,
      "outputs": [
        {
          "output_type": "stream",
          "name": "stdout",
          "text": [
            "0                                      last session day\n",
            "1     shanghai also realli excit precis skyscrap gal...\n",
            "2     recess hit veroniqu branquinho quit compani shame\n",
            "3                                        happi birthday\n",
            "4                                                  like\n",
            "5                                    great weee visitor\n",
            "6                                think everyon hate lol\n",
            "7        soooooo wish could school myspac complet block\n",
            "8                           within short time last clue\n",
            "9     get day alright done anyth yet leav soon steps...\n",
            "10                bike put hold known argh total bummer\n",
            "11                                            check win\n",
            "12                             twitter tavern bore much\n",
            "13    weekend youngest son turn tomorrow make kind s...\n",
            "14          come socket feel like phone hole virgin loo\n",
            "15               hot today like hate new timet bad week\n",
            "16                                                 miss\n",
            "17                                                cramp\n",
            "18          guy say answer question yesterday nice song\n",
            "19          go spiritu stagnent explod ego realis great\n",
            "Name: text, dtype: object\n",
            "3514                                        notic ridicul\n",
            "3515                        ride high low mood chore blow\n",
            "3516            hate websit say ticket price anoth websit\n",
            "3517                                          brake wrrkk\n",
            "3518                     outta follow talk lol shi biteee\n",
            "3519    ye thank haha field flower exist singapor well...\n",
            "3520                                song site want comput\n",
            "3521                      munchin bacon butti woohoo fave\n",
            "3522           school today teacher cancel lesson chillin\n",
            "3523    eye start hurt late must reach updat due tweet...\n",
            "3524    hair dresser pas away yesterday breast cancer ...\n",
            "3525    suppos tomorrow tooooo use ga ticket money pay...\n",
            "3526               best thing ever done carri birth child\n",
            "3527    mother citi terrel texa district citi council ...\n",
            "3528                                     friday even idea\n",
            "3529                                tire cannot sleep tri\n",
            "3530    alon old hous thank net keep aliv kick whoever...\n",
            "3531    know mean littl dog sink depress want move som...\n",
            "3532                sutra next youtub video go love video\n",
            "3533                                  omgssh ang cute bbi\n",
            "Name: text, dtype: object\n"
          ]
        }
      ]
    },
    {
      "cell_type": "markdown",
      "source": [
        "\n",
        "**Feature Selection**"
      ],
      "metadata": {
        "id": "SRySCY_E8Kke"
      }
    },
    {
      "cell_type": "code",
      "source": [
        "# Vectorization parameters\n",
        "# Range (inclusive) of n-gram sizes for tokenizing text.\n",
        "NGRAM_RANGE = (1, 2)  # Use 1-grams + 2-grams.\n",
        "\n",
        "# Limit on the number of features. We use the top 20K features.\n",
        "TOP_K = 20000\n",
        "\n",
        "# Whether text should be split into word or character n-grams.\n",
        "TOKEN_MODE = 'word' # Split text into word tokens.\n",
        "\n",
        "# Minimum document frequency below which a token will be discarded.\n",
        "MIN_DOCUMENT_FREQUENCY = 5\n",
        "\n",
        "def ngram_vectorize(train_texts, train_labels, test_texts):\n",
        "    \"\"\"Vectorizes texts as n-gram vectors.\n",
        "\n",
        "    1 text = 1 tf-idf vector the length of vocabulary of unigrams + bigrams.\n",
        "\n",
        "    # Arguments\n",
        "        train_texts: list, training text strings.\n",
        "        train_labels: np.ndarray, training labels.\n",
        "        test_texts: list, test text strings.\n",
        "\n",
        "    # Returns\n",
        "        train_vectors, test_vectors: vectorized training and test texts\n",
        "    \"\"\"\n",
        "    # Create keyword arguments to pass to the 'tf-idf' vectorizer.\n",
        "    kwargs = {\n",
        "            'ngram_range': NGRAM_RANGE,\n",
        "            'analyzer': TOKEN_MODE,  \n",
        "            'min_df': MIN_DOCUMENT_FREQUENCY,\n",
        "            'max_df' : 0.8,\n",
        "            'sublinear_tf': 'True'\n",
        "    }\n",
        "    vectorizer = TfidfVectorizer(**kwargs)\n",
        "\n",
        "    # Learn vocabulary from training texts and vectorize training texts.\n",
        "    train_vectors = vectorizer.fit_transform(train_texts)\n",
        "\n",
        "    # Vectorize validation texts.\n",
        "    test_vectors = vectorizer.transform(test_texts)\n",
        "\n",
        "    # Select top 'k' of the vectorized features.\n",
        "    selector = SelectKBest(f_classif, k=min(TOP_K, train_vectors.shape[1]))\n",
        "    selector.fit(train_vectors, train_labels)\n",
        "    train_vectors = selector.transform(train_vectors).astype('float32').toarray()\n",
        "    test_vectors = selector.transform(test_vectors).astype('float32').toarray()\n",
        "    return train_vectors, test_vectors\n",
        "\n",
        "train_vectors, test_vectors = ngram_vectorize(train['text'], train['sentiment'], test['text'])\n",
        "\n",
        "\n",
        "# # Create feature vectors\n",
        "# vectorizer = TfidfVectorizer(ngram_range = NGRAM_RANGE,\n",
        "#                              min_df = 5,\n",
        "#                              max_df = 0.8,\n",
        "#                              sublinear_tf = True,\n",
        "#                              use_idf = True)\n",
        "# train_vectors = vectorizer.fit_transform(train['text'])\n",
        "# test_vectors = vectorizer.transform(test['text'])"
      ],
      "metadata": {
        "id": "I3KHg2k7kGyh"
      },
      "execution_count": null,
      "outputs": []
    },
    {
      "cell_type": "code",
      "source": [
        "print(np.shape(train_vectors))\n",
        "print(np.shape(test_vectors))"
      ],
      "metadata": {
        "id": "0wVyvU22-nrz",
        "outputId": "86828fb9-fd0e-4b5a-99c7-14f45a907c13",
        "colab": {
          "base_uri": "https://localhost:8080/"
        }
      },
      "execution_count": null,
      "outputs": [
        {
          "output_type": "stream",
          "name": "stdout",
          "text": [
            "(27480, 5713)\n",
            "(3534, 5713)\n"
          ]
        }
      ]
    },
    {
      "cell_type": "markdown",
      "source": [
        "**SVC (linear kernel)**"
      ],
      "metadata": {
        "id": "qSC6vhwKaAb5"
      }
    },
    {
      "cell_type": "code",
      "source": [
        "model = SVC(kernel='linear')\n",
        "model_name = \"SVC (linear kernel)\"\n",
        "\n",
        "# 5-fold Cross-validation\n",
        "k = 5\n",
        "cv_df = pd.DataFrame(index=range(k))\n",
        "entries = []\n",
        "\n",
        "accuracies = cross_val_score(model, train_vectors, train['sentiment'], scoring=\"accuracy\", cv=k)\n",
        "for fold_id, accuracy in enumerate(accuracies):\n",
        "  entries.append((fold_id, accuracy))\n",
        "\n",
        "cv_df = pd.DataFrame(entries, columns=['fold_id', 'accuracy'])"
      ],
      "metadata": {
        "id": "wfQ4nX-DdPtN"
      },
      "execution_count": null,
      "outputs": []
    },
    {
      "cell_type": "code",
      "source": [
        "mean_accuracy = cv_df.accuracy.mean()\n",
        "std_accuracy = cv_df.accuracy.std()\n",
        "\n",
        "acc = pd.concat([mean_accuracy, std_accuracy], axis= 1, \n",
        "          ignore_index=True)\n",
        "acc.columns = ['Accuracy', ' Std dev']\n",
        "acc"
      ],
      "metadata": {
        "id": "TE3JzHbFR2lC",
        "colab": {
          "base_uri": "https://localhost:8080/",
          "height": 175
        },
        "outputId": "889111ad-b5a6-4a35-88c8-5a3851e3baf7"
      },
      "execution_count": null,
      "outputs": [
        {
          "output_type": "execute_result",
          "data": {
            "text/plain": [
              "               Accuracy   Std dev\n",
              "model_name                       \n",
              "LinearSVC      0.702911  0.004482\n",
              "SVC            0.709753  0.006167\n",
              "XGBClassifier  0.645633  0.003973"
            ],
            "text/html": [
              "\n",
              "  <div id=\"df-738d213f-91ed-4201-afff-8bfc4e0c4223\">\n",
              "    <div class=\"colab-df-container\">\n",
              "      <div>\n",
              "<style scoped>\n",
              "    .dataframe tbody tr th:only-of-type {\n",
              "        vertical-align: middle;\n",
              "    }\n",
              "\n",
              "    .dataframe tbody tr th {\n",
              "        vertical-align: top;\n",
              "    }\n",
              "\n",
              "    .dataframe thead th {\n",
              "        text-align: right;\n",
              "    }\n",
              "</style>\n",
              "<table border=\"1\" class=\"dataframe\">\n",
              "  <thead>\n",
              "    <tr style=\"text-align: right;\">\n",
              "      <th></th>\n",
              "      <th>Accuracy</th>\n",
              "      <th>Std dev</th>\n",
              "    </tr>\n",
              "    <tr>\n",
              "      <th>model_name</th>\n",
              "      <th></th>\n",
              "      <th></th>\n",
              "    </tr>\n",
              "  </thead>\n",
              "  <tbody>\n",
              "    <tr>\n",
              "      <th>LinearSVC</th>\n",
              "      <td>0.702911</td>\n",
              "      <td>0.004482</td>\n",
              "    </tr>\n",
              "    <tr>\n",
              "      <th>SVC</th>\n",
              "      <td>0.709753</td>\n",
              "      <td>0.006167</td>\n",
              "    </tr>\n",
              "    <tr>\n",
              "      <th>XGBClassifier</th>\n",
              "      <td>0.645633</td>\n",
              "      <td>0.003973</td>\n",
              "    </tr>\n",
              "  </tbody>\n",
              "</table>\n",
              "</div>\n",
              "      <button class=\"colab-df-convert\" onclick=\"convertToInteractive('df-738d213f-91ed-4201-afff-8bfc4e0c4223')\"\n",
              "              title=\"Convert this dataframe to an interactive table.\"\n",
              "              style=\"display:none;\">\n",
              "        \n",
              "  <svg xmlns=\"http://www.w3.org/2000/svg\" height=\"24px\"viewBox=\"0 0 24 24\"\n",
              "       width=\"24px\">\n",
              "    <path d=\"M0 0h24v24H0V0z\" fill=\"none\"/>\n",
              "    <path d=\"M18.56 5.44l.94 2.06.94-2.06 2.06-.94-2.06-.94-.94-2.06-.94 2.06-2.06.94zm-11 1L8.5 8.5l.94-2.06 2.06-.94-2.06-.94L8.5 2.5l-.94 2.06-2.06.94zm10 10l.94 2.06.94-2.06 2.06-.94-2.06-.94-.94-2.06-.94 2.06-2.06.94z\"/><path d=\"M17.41 7.96l-1.37-1.37c-.4-.4-.92-.59-1.43-.59-.52 0-1.04.2-1.43.59L10.3 9.45l-7.72 7.72c-.78.78-.78 2.05 0 2.83L4 21.41c.39.39.9.59 1.41.59.51 0 1.02-.2 1.41-.59l7.78-7.78 2.81-2.81c.8-.78.8-2.07 0-2.86zM5.41 20L4 18.59l7.72-7.72 1.47 1.35L5.41 20z\"/>\n",
              "  </svg>\n",
              "      </button>\n",
              "      \n",
              "  <style>\n",
              "    .colab-df-container {\n",
              "      display:flex;\n",
              "      flex-wrap:wrap;\n",
              "      gap: 12px;\n",
              "    }\n",
              "\n",
              "    .colab-df-convert {\n",
              "      background-color: #E8F0FE;\n",
              "      border: none;\n",
              "      border-radius: 50%;\n",
              "      cursor: pointer;\n",
              "      display: none;\n",
              "      fill: #1967D2;\n",
              "      height: 32px;\n",
              "      padding: 0 0 0 0;\n",
              "      width: 32px;\n",
              "    }\n",
              "\n",
              "    .colab-df-convert:hover {\n",
              "      background-color: #E2EBFA;\n",
              "      box-shadow: 0px 1px 2px rgba(60, 64, 67, 0.3), 0px 1px 3px 1px rgba(60, 64, 67, 0.15);\n",
              "      fill: #174EA6;\n",
              "    }\n",
              "\n",
              "    [theme=dark] .colab-df-convert {\n",
              "      background-color: #3B4455;\n",
              "      fill: #D2E3FC;\n",
              "    }\n",
              "\n",
              "    [theme=dark] .colab-df-convert:hover {\n",
              "      background-color: #434B5C;\n",
              "      box-shadow: 0px 1px 3px 1px rgba(0, 0, 0, 0.15);\n",
              "      filter: drop-shadow(0px 1px 2px rgba(0, 0, 0, 0.3));\n",
              "      fill: #FFFFFF;\n",
              "    }\n",
              "  </style>\n",
              "\n",
              "      <script>\n",
              "        const buttonEl =\n",
              "          document.querySelector('#df-738d213f-91ed-4201-afff-8bfc4e0c4223 button.colab-df-convert');\n",
              "        buttonEl.style.display =\n",
              "          google.colab.kernel.accessAllowed ? 'block' : 'none';\n",
              "\n",
              "        async function convertToInteractive(key) {\n",
              "          const element = document.querySelector('#df-738d213f-91ed-4201-afff-8bfc4e0c4223');\n",
              "          const dataTable =\n",
              "            await google.colab.kernel.invokeFunction('convertToInteractive',\n",
              "                                                     [key], {});\n",
              "          if (!dataTable) return;\n",
              "\n",
              "          const docLinkHtml = 'Like what you see? Visit the ' +\n",
              "            '<a target=\"_blank\" href=https://colab.research.google.com/notebooks/data_table.ipynb>data table notebook</a>'\n",
              "            + ' to learn more about interactive tables.';\n",
              "          element.innerHTML = '';\n",
              "          dataTable['output_type'] = 'display_data';\n",
              "          await google.colab.output.renderOutput(dataTable, element);\n",
              "          const docLink = document.createElement('div');\n",
              "          docLink.innerHTML = docLinkHtml;\n",
              "          element.appendChild(docLink);\n",
              "        }\n",
              "      </script>\n",
              "    </div>\n",
              "  </div>\n",
              "  "
            ]
          },
          "metadata": {},
          "execution_count": 11
        }
      ]
    },
    {
      "cell_type": "code",
      "source": [
        "model.fit(train_vectors, train['sentiment'])\n",
        "prediction = model.predict(test_vectors)\n",
        "print(f\"Test set accuracy: {accuracy_score(test['sentiment'], prediction) * 100} %\\n\")"
      ],
      "metadata": {
        "id": "8TXDJnAAjs3E",
        "outputId": "b5d81d13-8f03-4278-9c92-72f6a8ae0e20",
        "colab": {
          "base_uri": "https://localhost:8080/"
        }
      },
      "execution_count": null,
      "outputs": [
        {
          "output_type": "stream",
          "name": "stdout",
          "text": [
            "Test set accuracy: 72.014714204867 %\n",
            "\n"
          ]
        }
      ]
    },
    {
      "cell_type": "code",
      "source": [
        "# Classification report\n",
        "print(f\"\\tCLASSIFICATIION METRICS - {model_name}\\n\")\n",
        "print(classification_report(test['sentiment'], prediction, target_names= ['negative', 'neutral', 'positive']))"
      ],
      "metadata": {
        "id": "IsfG8KcKj3g0",
        "outputId": "c1e969b4-489f-437f-e420-5d7ddacb248f",
        "colab": {
          "base_uri": "https://localhost:8080/"
        }
      },
      "execution_count": null,
      "outputs": [
        {
          "output_type": "stream",
          "name": "stdout",
          "text": [
            "\tCLASSIFICATIION METRICS - SVC(linear kernel)\n",
            "\n",
            "              precision    recall  f1-score   support\n",
            "\n",
            "    negative       0.73      0.67      0.70      1001\n",
            "     neutral       0.67      0.74      0.70      1430\n",
            "    positive       0.80      0.73      0.77      1103\n",
            "\n",
            "    accuracy                           0.72      3534\n",
            "   macro avg       0.73      0.72      0.72      3534\n",
            "weighted avg       0.72      0.72      0.72      3534\n",
            "\n"
          ]
        }
      ]
    },
    {
      "cell_type": "code",
      "source": [
        "data = confusion_matrix(test['sentiment'], prediction)\n",
        "disp = ConfusionMatrixDisplay(confusion_matrix=data, display_labels=model.classes_)\n",
        "disp.plot(cmap=\"Blues\")\n",
        "plt.ylabel('ACTUAL')\n",
        "plt.xlabel('\\nPREDICTED')\n",
        "plt.title(\"\\nCONFUSION MATRIX - SVC (linear kernel)\\n\");\n",
        "plt.show()"
      ],
      "metadata": {
        "id": "LXYBbBiHkFtS",
        "outputId": "ddaa2665-b628-42c8-cb1a-b16c22f6258e",
        "colab": {
          "base_uri": "https://localhost:8080/",
          "height": 337
        }
      },
      "execution_count": null,
      "outputs": [
        {
          "output_type": "display_data",
          "data": {
            "text/plain": [
              "<Figure size 432x288 with 2 Axes>"
            ],
            "image/png": "[encoded data removed]"
          },
          "metadata": {
            "needs_background": "light"
          }
        }
      ]
    }
  ]
}